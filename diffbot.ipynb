{
 "metadata": {
  "name": "",
  "signature": "sha256:05fa039b22fe88ff0d8d04a33d6a0868660d95804941710f8898f425a6dea7f3"
 },
 "nbformat": 3,
 "nbformat_minor": 0,
 "worksheets": [
  {
   "cells": [
    {
     "cell_type": "code",
     "collapsed": false,
     "input": [
      "import os\n",
      "from os import path\n",
      "import json\n",
      "\n",
      "import requests\n",
      "\n",
      "from tokens import key, secret"
     ],
     "language": "python",
     "metadata": {},
     "outputs": [],
     "prompt_number": 2
    },
    {
     "cell_type": "code",
     "collapsed": false,
     "input": [
      "token = '3b0f1bc2ddce2d6057a18ca91b695898'"
     ],
     "language": "python",
     "metadata": {},
     "outputs": [],
     "prompt_number": 4
    },
    {
     "cell_type": "code",
     "collapsed": false,
     "input": [
      "items = {'token': token , 'url': 'http://www.redstate.com/2014/11/14/voter-id-didnt-cost-democrats-u-s-senate/', 'fields': 'title,text,type,pageUrl,tags,date,author'}"
     ],
     "language": "python",
     "metadata": {},
     "outputs": [],
     "prompt_number": 18
    },
    {
     "cell_type": "code",
     "collapsed": false,
     "input": [
      "r = requests.get(\"http://api.diffbot.com/v3/article\", params=items)"
     ],
     "language": "python",
     "metadata": {},
     "outputs": [],
     "prompt_number": 19
    },
    {
     "cell_type": "code",
     "collapsed": false,
     "input": [
      "info = json.loads(r.text)\n",
      "info"
     ],
     "language": "python",
     "metadata": {},
     "outputs": [
      {
       "metadata": {},
       "output_type": "pyout",
       "prompt_number": 20,
       "text": [
        "{u'objects': [{u'author': u'davenj1',\n",
        "   u'date': u'Fri, 14 Nov 2014 18:05:00 GMT',\n",
        "   u'diffbotUri': u'article|3|-708456636',\n",
        "   u'html': u'<ul> <li> <a> Share on Facebook </a> <a><i>49</i></a> </li>   <li>116 SHARES</li> </ul>\\n<p>&ldquo;Voter suppression laws are already deciding elections,&rdquo; trumpeted an editorial headline in <em>The Washington Post</em> in the wake of the <a href=\"http://www.realclearpolitics.com/epolls/2014/senate/2014_elections_senate_map.html\">midterm elections</a> earlier this month. Catherine Rampell, an editorial writer for the <em>Post</em>, argued <a href=\"http://www.washingtonpost.com/opinions/catherine-rampell-voter-suppression-laws-are-already-deciding-elections/2014/11/10/52dc9710-6920-11e4-a31c-77759fc1eacc_story.html\">in the piece</a> that recently enacted voter ID laws and changes to early voting rules in some states may have cost Democrats key U.S. Senate races and possibly even a gubernatorial race.</p>\\n<p>Rampell is wrong. It was voters &ndash; not voter ID or early voting rule changes &ndash; that cost Democrats control of the U.S. Senate and some gubernatorial races.</p>\\n<p>Voter ID is a favored boogeyman of liberals when it comes to explaining elections and electoral outcomes. Former U.S. Attorney General Eric Holder didn&rsquo;t hold back in expressing his public contempt of voter ID laws while serving in the Obama Administration. He was quoted by Jeffery Toobin <a href=\"http://www.newyorker.com/magazine/2014/02/17/holder-v-roberts\">in a piece</a> for <em>The New Yorker</em> in February of 2014 calling the cost of getting voter ID documents &ldquo;poll taxes.&rdquo; Toobin&rsquo;s piece outlined the extensive legal battle Holder waged against voter ID laws using the power of the federal Department of Justice.</p>\\n<p>Echoing Holder&rsquo;s reference to voter ID laws as a poll tax, Rampell flatly claims, &ldquo;The days of Jim Crow are officially over, but poll-tax equivalents are newly thriving, through restrictive voter registration and ID requirements, shorter poll hours and various other restrictions and red tape that cost Americans time and money if they wish to cast a ballot.&rdquo; This &ldquo;[v]oter suppression,&rdquo; she argues, &ldquo;may have changed the outcomes of some of the closest races last week.&rdquo;</p>\\n<p>Just paragraphs later though, she contradicts herself, admitting, &ldquo;It&rsquo;s still early to definitively quantify the effects that these laws had on national turnout or on the outcomes of individual races.&rdquo;</p>\\n<p>Contrary to allegations that voter ID laws amount to a poll tax because identification cards cost money, many states with voter ID laws make the identification available for free to anyone who cannot afford it. In Wisconsin, where the state&rsquo;s voter ID law was recently upheld by the 7th Circuit Court of Appeals only to be briefly and temporarily suspended by the U.S. Supreme Court for the midterm election, the state&rsquo;s Division of Motor Vehicles website explains how one may obtained a free state-issued photo ID card for voting purposes. State law also allows for certain non-government issued forms of photo ID to suffice as a valid voter ID card on election day.</p>\\n<p>As evidence that elections are being determined within the &ldquo;margin of disenfranchisement,&rdquo; Rampell points to the gubernatorial race in Kansas. There, Gov. Sam Brownback (R) beat back a challenge by Paul Davis (D) by 33,000 votes out of 850,000 total votes cast. Rampell hypothesizes that the Kansas voter ID law and citizen-only voter registration law prevented 38,000 Kansans from voting. But there really is no way to prove that figure. It is a hypothesis that lacks evidence.</p>\\n<p>What is known for sure is that in the state of Georgia voter turnout actually increased after that state passed a voter ID law. Hans van Spakovsky, a former Federal Election Commissioner who now works for The Heritage Foundation, <a href=\"http://www.heritage.org/research/reports/2012/03/lessons-from-the-voter-id-experience-in-georgia\">wrote a report</a> entitled &ldquo;Lessons from the Voter ID Experience in Georgia&rdquo; in March 2012. Von Spakovsky reviewed voter turnout data for elections in Georgia and found that between 2004 and 2008, voter turnout increased for whites, Hispanics, and African Americans. Voter ID went into effect in Georgia in 2007, meaning that the 140% increase in Hispanic turnout, 42% increase in African American turnout, and 8% increase in white turnout in 2008 all came after voter ID was implemented. Voter ID was not required in Georgia elections in 2004.</p>\\n<p>Von Spakovsky <a href=\"http://www.heritage.org/research/reports/2014/03/lessons-from-the-voter-id-experience-in-tennessee\">also reviewed</a> Tennessee&rsquo;s voter ID law in a 2014 report for The Heritage Foundation and found that voter turnout in that state increased from 2008 to 2012, and voter ID went into effect between the elections.</p>\\n<p>Despite these studies showing that voter turnout increased after two states implemented voter ID, Rampell nevertheless argues that the North Carolina U.S. Senate race (won by the Republican) and Florida governor&rsquo;s race (won by the Republican) may have had a different outcome if voter ID hadn&rsquo;t been required.</p>\\n<p>But Democrats did manage to win elections in states with voter ID laws. In Hawaii, Democrats won the U.S. Senate race without much difficulty even though the Hawaii Office of Elections explains <a href=\"http://hawaii.gov/elections/voters/votehi.htm\">on its website</a> that voters are required to present a valid photo ID before voting in person. Rampell does note that in Virginia, Democratic incumbent Sen. Mark Warner (D-VA)2% held his seat against a challenge by Republican Ed Gillespie, and the state does have a voter ID requirement. In Rhode Island and New Hampshire, both states with voter ID requirements, Democrats also won U.S. Senate races this fall despite the efforts of Republican candidates.</p>\\n<p>Conversely, Republicans won U.S. Senate races in Montana, Colorado, and Iowa, states that do not have voter ID laws. The races were particularly competitive in Colorado and Iowa.</p>\\n<p>In Wisconsin and Illinois, Gov. Scott Walker (R) the incumbent, and Bruce Rauner, the GOP challenger, won their races even though neither state has a voter ID law. Wisconsin&rsquo;s voter ID law is expected to be in effect for the next election.</p>\\n<p>One Wisconsin election change that caused liberals to express outrage was a revision of the state&rsquo;s early voting laws. In 2012, early voting was allowed for up to three weeks before the election, but a change in the law made it so that in 2014, early voting was only allowed for two weeks. But <a href=\"http://mediatrackers.org/wisconsin/2014/11/07/early-voting-wis-despite-liberal-claims\">a review of early voting turnout levels</a> by Nathan Schacht of Media Trackers found that despite the shorter early voting period, early voter turnout for a gubernatorial race increased from 2010 to 2014.</p>\\n<p>Rampell closes her editorial by suggesting that if the U.S. Supreme Court doesn&rsquo;t wholesale invalidate election reforms like voter ID we should, &ldquo;expect more protracted, <em>Bush v. Gore</em>-type battles in our immediate future.&rdquo; That&rsquo;s misleading. None of the voter ID laws have been caught up in the type of drama seen in the 2000 lawsuit between the pair of presidential contenders, and there is certainly no correlation between voter ID laws, or the absence of them, and a partisan benefit for candidates of either major political party.</p>\\n<ul> <li> <a> Share on Facebook </a> <a><i>49</i></a> </li>   <li>116 SHARES</li> </ul>\\n<p>Tags: <a href=\"http://www.redstate.com/tag/democrats/\">Democrats</a>, <a href=\"http://www.redstate.com/tag/the-washington-post/\">The Washington Post</a>, <a href=\"http://www.redstate.com/tag/u-s-senate-races/\">U.S. Senate Races</a>, <a href=\"http://www.redstate.com/tag/voter-id/\">Voter ID</a></p>',\n",
        "   u'humanLanguage': u'en',\n",
        "   u'images': [{u'diffbotUri': u'image|3|-303468548',\n",
        "     u'naturalHeight': 399,\n",
        "     u'naturalWidth': 629,\n",
        "     u'primary': True,\n",
        "     u'url': u'http://www.redstate.com/uploads/2014/11/US_Senate_Chamber_c1873-e1416006307713.jpg'}],\n",
        "   u'pageUrl': u'http://www.redstate.com/2014/11/14/voter-id-didnt-cost-democrats-u-s-senate/',\n",
        "   u'tags': [{u'count': 8,\n",
        "     u'id': 4807545,\n",
        "     u'label': u'Voter ID laws',\n",
        "     u'prevalence': 0.39344262295081966,\n",
        "     u'uri': u'http://dbpedia.org/resource/Voter_ID_laws'},\n",
        "    {u'count': 5,\n",
        "     u'id': 3308576,\n",
        "     u'label': u'Voter turnout',\n",
        "     u'prevalence': 0.2459016393442623,\n",
        "     u'uri': u'http://dbpedia.org/resource/Voter_turnout'},\n",
        "    {u'count': 4,\n",
        "     u'id': 604103,\n",
        "     u'label': u'Wisconsin',\n",
        "     u'prevalence': 0.19672131147540983,\n",
        "     u'type': u'place',\n",
        "     u'uri': u'http://dbpedia.org/resource/Wisconsin'},\n",
        "    {u'count': 4,\n",
        "     u'id': 881897,\n",
        "     u'label': u'Georgia (U.S. state)',\n",
        "     u'prevalence': 0.19672131147540983,\n",
        "     u'type': u'place',\n",
        "     u'uri': u'http://dbpedia.org/resource/Georgia_(U.S._state)'},\n",
        "    {u'count': 3,\n",
        "     u'id': 531991,\n",
        "     u'label': u'Republican Party (United States)',\n",
        "     u'prevalence': 0.14754098360655737,\n",
        "     u'type': u'organization',\n",
        "     u'uri': u'http://dbpedia.org/resource/Republican_Party_(United_States)'}],\n",
        "   u'text': u'Share on Facebook 49\\n116 SHARES\\n\\u201cVoter suppression laws are already deciding elections,\\u201d trumpeted an editorial headline in The Washington Post in the wake of the midterm elections earlier this month. Catherine Rampell, an editorial writer for the Post, argued in the piece that recently enacted voter ID laws and changes to early voting rules in some states may have cost Democrats key U.S. Senate races and possibly even a gubernatorial race.\\nRampell is wrong. It was voters \\u2013 not voter ID or early voting rule changes \\u2013 that cost Democrats control of the U.S. Senate and some gubernatorial races.\\nVoter ID is a favored boogeyman of liberals when it comes to explaining elections and electoral outcomes. Former U.S. Attorney General Eric Holder didn\\u2019t hold back in expressing his public contempt of voter ID laws while serving in the Obama Administration. He was quoted by Jeffery Toobin in a piece for The New Yorker in February of 2014 calling the cost of getting voter ID documents \\u201cpoll taxes.\\u201d Toobin\\u2019s piece outlined the extensive legal battle Holder waged against voter ID laws using the power of the federal Department of Justice.\\nEchoing Holder\\u2019s reference to voter ID laws as a poll tax, Rampell flatly claims, \\u201cThe days of Jim Crow are officially over, but poll-tax equivalents are newly thriving, through restrictive voter registration and ID requirements, shorter poll hours and various other restrictions and red tape that cost Americans time and money if they wish to cast a ballot.\\u201d This \\u201c[v]oter suppression,\\u201d she argues, \\u201cmay have changed the outcomes of some of the closest races last week.\\u201d\\nJust paragraphs later though, she contradicts herself, admitting, \\u201cIt\\u2019s still early to definitively quantify the effects that these laws had on national turnout or on the outcomes of individual races.\\u201d\\nContrary to allegations that voter ID laws amount to a poll tax because identification cards cost money, many states with voter ID laws make the identification available for free to anyone who cannot afford it. In Wisconsin, where the state\\u2019s voter ID law was recently upheld by the 7th Circuit Court of Appeals only to be briefly and temporarily suspended by the U.S. Supreme Court for the midterm election, the state\\u2019s Division of Motor Vehicles website explains how one may obtained a free state-issued photo ID card for voting purposes. State law also allows for certain non-government issued forms of photo ID to suffice as a valid voter ID card on election day.\\nAs evidence that elections are being determined within the \\u201cmargin of disenfranchisement,\\u201d Rampell points to the gubernatorial race in Kansas. There, Gov. Sam Brownback (R) beat back a challenge by Paul Davis (D) by 33,000 votes out of 850,000 total votes cast. Rampell hypothesizes that the Kansas voter ID law and citizen-only voter registration law prevented 38,000 Kansans from voting. But there really is no way to prove that figure. It is a hypothesis that lacks evidence.\\nWhat is known for sure is that in the state of Georgia voter turnout actually increased after that state passed a voter ID law. Hans van Spakovsky, a former Federal Election Commissioner who now works for The Heritage Foundation, wrote a report entitled \\u201cLessons from the Voter ID Experience in Georgia\\u201d in March 2012. Von Spakovsky reviewed voter turnout data for elections in Georgia and found that between 2004 and 2008, voter turnout increased for whites, Hispanics, and African Americans. Voter ID went into effect in Georgia in 2007, meaning that the 140% increase in Hispanic turnout, 42% increase in African American turnout, and 8% increase in white turnout in 2008 all came after voter ID was implemented. Voter ID was not required in Georgia elections in 2004.\\nVon Spakovsky also reviewed Tennessee\\u2019s voter ID law in a 2014 report for The Heritage Foundation and found that voter turnout in that state increased from 2008 to 2012, and voter ID went into effect between the elections.\\nDespite these studies showing that voter turnout increased after two states implemented voter ID, Rampell nevertheless argues that the North Carolina U.S. Senate race (won by the Republican) and Florida governor\\u2019s race (won by the Republican) may have had a different outcome if voter ID hadn\\u2019t been required.\\nBut Democrats did manage to win elections in states with voter ID laws. In Hawaii, Democrats won the U.S. Senate race without much difficulty even though the Hawaii Office of Elections explains on its website that voters are required to present a valid photo ID before voting in person. Rampell does note that in Virginia, Democratic incumbent Sen. Mark Warner (D-VA)2% held his seat against a challenge by Republican Ed Gillespie, and the state does have a voter ID requirement. In Rhode Island and New Hampshire, both states with voter ID requirements, Democrats also won U.S. Senate races this fall despite the efforts of Republican candidates.\\nConversely, Republicans won U.S. Senate races in Montana, Colorado, and Iowa, states that do not have voter ID laws. The races were particularly competitive in Colorado and Iowa.\\nIn Wisconsin and Illinois, Gov. Scott Walker (R) the incumbent, and Bruce Rauner, the GOP challenger, won their races even though neither state has a voter ID law. Wisconsin\\u2019s voter ID law is expected to be in effect for the next election.\\nOne Wisconsin election change that caused liberals to express outrage was a revision of the state\\u2019s early voting laws. In 2012, early voting was allowed for up to three weeks before the election, but a change in the law made it so that in 2014, early voting was only allowed for two weeks. But a review of early voting turnout levels by Nathan Schacht of Media Trackers found that despite the shorter early voting period, early voter turnout for a gubernatorial race increased from 2010 to 2014.\\nRampell closes her editorial by suggesting that if the U.S. Supreme Court doesn\\u2019t wholesale invalidate election reforms like voter ID we should, \\u201cexpect more protracted, Bush v. Gore-type battles in our immediate future.\\u201d That\\u2019s misleading. None of the voter ID laws have been caught up in the type of drama seen in the 2000 lawsuit between the pair of presidential contenders, and there is certainly no correlation between voter ID laws, or the absence of them, and a partisan benefit for candidates of either major political party.\\nShare on Facebook 49\\n116 SHARES\\nTags: Democrats, The Washington Post, U.S. Senate Races, Voter ID',\n",
        "   u'title': u'No, Voter ID Didn\\u2019t Cost Democrats the U.S. Senate',\n",
        "   u'type': u'article'}],\n",
        " u'request': {u'api': u'article',\n",
        "  u'fields': u'title,text,type,pageUrl,tags,date,author',\n",
        "  u'pageUrl': u'http://www.redstate.com/2014/11/14/voter-id-didnt-cost-democrats-u-s-senate/',\n",
        "  u'version': 3}}"
       ]
      }
     ],
     "prompt_number": 20
    },
    {
     "cell_type": "code",
     "collapsed": false,
     "input": [
      "info['objects'][0]['text']"
     ],
     "language": "python",
     "metadata": {},
     "outputs": [
      {
       "metadata": {},
       "output_type": "pyout",
       "prompt_number": 28,
       "text": [
        "u'Share on Facebook 49\\n116 SHARES\\n\\u201cVoter suppression laws are already deciding elections,\\u201d trumpeted an editorial headline in The Washington Post in the wake of the midterm elections earlier this month. Catherine Rampell, an editorial writer for the Post, argued in the piece that recently enacted voter ID laws and changes to early voting rules in some states may have cost Democrats key U.S. Senate races and possibly even a gubernatorial race.\\nRampell is wrong. It was voters \\u2013 not voter ID or early voting rule changes \\u2013 that cost Democrats control of the U.S. Senate and some gubernatorial races.\\nVoter ID is a favored boogeyman of liberals when it comes to explaining elections and electoral outcomes. Former U.S. Attorney General Eric Holder didn\\u2019t hold back in expressing his public contempt of voter ID laws while serving in the Obama Administration. He was quoted by Jeffery Toobin in a piece for The New Yorker in February of 2014 calling the cost of getting voter ID documents \\u201cpoll taxes.\\u201d Toobin\\u2019s piece outlined the extensive legal battle Holder waged against voter ID laws using the power of the federal Department of Justice.\\nEchoing Holder\\u2019s reference to voter ID laws as a poll tax, Rampell flatly claims, \\u201cThe days of Jim Crow are officially over, but poll-tax equivalents are newly thriving, through restrictive voter registration and ID requirements, shorter poll hours and various other restrictions and red tape that cost Americans time and money if they wish to cast a ballot.\\u201d This \\u201c[v]oter suppression,\\u201d she argues, \\u201cmay have changed the outcomes of some of the closest races last week.\\u201d\\nJust paragraphs later though, she contradicts herself, admitting, \\u201cIt\\u2019s still early to definitively quantify the effects that these laws had on national turnout or on the outcomes of individual races.\\u201d\\nContrary to allegations that voter ID laws amount to a poll tax because identification cards cost money, many states with voter ID laws make the identification available for free to anyone who cannot afford it. In Wisconsin, where the state\\u2019s voter ID law was recently upheld by the 7th Circuit Court of Appeals only to be briefly and temporarily suspended by the U.S. Supreme Court for the midterm election, the state\\u2019s Division of Motor Vehicles website explains how one may obtained a free state-issued photo ID card for voting purposes. State law also allows for certain non-government issued forms of photo ID to suffice as a valid voter ID card on election day.\\nAs evidence that elections are being determined within the \\u201cmargin of disenfranchisement,\\u201d Rampell points to the gubernatorial race in Kansas. There, Gov. Sam Brownback (R) beat back a challenge by Paul Davis (D) by 33,000 votes out of 850,000 total votes cast. Rampell hypothesizes that the Kansas voter ID law and citizen-only voter registration law prevented 38,000 Kansans from voting. But there really is no way to prove that figure. It is a hypothesis that lacks evidence.\\nWhat is known for sure is that in the state of Georgia voter turnout actually increased after that state passed a voter ID law. Hans van Spakovsky, a former Federal Election Commissioner who now works for The Heritage Foundation, wrote a report entitled \\u201cLessons from the Voter ID Experience in Georgia\\u201d in March 2012. Von Spakovsky reviewed voter turnout data for elections in Georgia and found that between 2004 and 2008, voter turnout increased for whites, Hispanics, and African Americans. Voter ID went into effect in Georgia in 2007, meaning that the 140% increase in Hispanic turnout, 42% increase in African American turnout, and 8% increase in white turnout in 2008 all came after voter ID was implemented. Voter ID was not required in Georgia elections in 2004.\\nVon Spakovsky also reviewed Tennessee\\u2019s voter ID law in a 2014 report for The Heritage Foundation and found that voter turnout in that state increased from 2008 to 2012, and voter ID went into effect between the elections.\\nDespite these studies showing that voter turnout increased after two states implemented voter ID, Rampell nevertheless argues that the North Carolina U.S. Senate race (won by the Republican) and Florida governor\\u2019s race (won by the Republican) may have had a different outcome if voter ID hadn\\u2019t been required.\\nBut Democrats did manage to win elections in states with voter ID laws. In Hawaii, Democrats won the U.S. Senate race without much difficulty even though the Hawaii Office of Elections explains on its website that voters are required to present a valid photo ID before voting in person. Rampell does note that in Virginia, Democratic incumbent Sen. Mark Warner (D-VA)2% held his seat against a challenge by Republican Ed Gillespie, and the state does have a voter ID requirement. In Rhode Island and New Hampshire, both states with voter ID requirements, Democrats also won U.S. Senate races this fall despite the efforts of Republican candidates.\\nConversely, Republicans won U.S. Senate races in Montana, Colorado, and Iowa, states that do not have voter ID laws. The races were particularly competitive in Colorado and Iowa.\\nIn Wisconsin and Illinois, Gov. Scott Walker (R) the incumbent, and Bruce Rauner, the GOP challenger, won their races even though neither state has a voter ID law. Wisconsin\\u2019s voter ID law is expected to be in effect for the next election.\\nOne Wisconsin election change that caused liberals to express outrage was a revision of the state\\u2019s early voting laws. In 2012, early voting was allowed for up to three weeks before the election, but a change in the law made it so that in 2014, early voting was only allowed for two weeks. But a review of early voting turnout levels by Nathan Schacht of Media Trackers found that despite the shorter early voting period, early voter turnout for a gubernatorial race increased from 2010 to 2014.\\nRampell closes her editorial by suggesting that if the U.S. Supreme Court doesn\\u2019t wholesale invalidate election reforms like voter ID we should, \\u201cexpect more protracted, Bush v. Gore-type battles in our immediate future.\\u201d That\\u2019s misleading. None of the voter ID laws have been caught up in the type of drama seen in the 2000 lawsuit between the pair of presidential contenders, and there is certainly no correlation between voter ID laws, or the absence of them, and a partisan benefit for candidates of either major political party.\\nShare on Facebook 49\\n116 SHARES\\nTags: Democrats, The Washington Post, U.S. Senate Races, Voter ID'"
       ]
      }
     ],
     "prompt_number": 28
    },
    {
     "cell_type": "code",
     "collapsed": false,
     "input": [
      "r.url"
     ],
     "language": "python",
     "metadata": {},
     "outputs": [
      {
       "metadata": {},
       "output_type": "pyout",
       "prompt_number": 16,
       "text": [
        "u'http://api.diffbot.com/v3/article?url=http%3A%2F%2Fwww.redstate.com%2F2014%2F11%2F14%2Fvoter-id-didnt-cost-democrats-u-s-senate%2F&fields=title&fields=text&fields=type&fields=pageUrl&fields=tags&fields=date&fields=author&token=3b0f1bc2ddce2d6057a18ca91b695898'"
       ]
      }
     ],
     "prompt_number": 16
    },
    {
     "cell_type": "code",
     "collapsed": false,
     "input": [
      "#run over the links in the manifest file from the voterID segment; save as text files"
     ],
     "language": "python",
     "metadata": {},
     "outputs": []
    },
    {
     "cell_type": "code",
     "collapsed": false,
     "input": [
      "txt = info['objects'][0]['html']"
     ],
     "language": "python",
     "metadata": {},
     "outputs": [],
     "prompt_number": 32
    },
    {
     "cell_type": "code",
     "collapsed": false,
     "input": [
      "txt"
     ],
     "language": "python",
     "metadata": {},
     "outputs": [
      {
       "metadata": {},
       "output_type": "pyout",
       "prompt_number": 33,
       "text": [
        "u'<ul> <li> <a> Share on Facebook </a> <a><i>49</i></a> </li>   <li>116 SHARES</li> </ul>\\n<p>&ldquo;Voter suppression laws are already deciding elections,&rdquo; trumpeted an editorial headline in <em>The Washington Post</em> in the wake of the <a href=\"http://www.realclearpolitics.com/epolls/2014/senate/2014_elections_senate_map.html\">midterm elections</a> earlier this month. Catherine Rampell, an editorial writer for the <em>Post</em>, argued <a href=\"http://www.washingtonpost.com/opinions/catherine-rampell-voter-suppression-laws-are-already-deciding-elections/2014/11/10/52dc9710-6920-11e4-a31c-77759fc1eacc_story.html\">in the piece</a> that recently enacted voter ID laws and changes to early voting rules in some states may have cost Democrats key U.S. Senate races and possibly even a gubernatorial race.</p>\\n<p>Rampell is wrong. It was voters &ndash; not voter ID or early voting rule changes &ndash; that cost Democrats control of the U.S. Senate and some gubernatorial races.</p>\\n<p>Voter ID is a favored boogeyman of liberals when it comes to explaining elections and electoral outcomes. Former U.S. Attorney General Eric Holder didn&rsquo;t hold back in expressing his public contempt of voter ID laws while serving in the Obama Administration. He was quoted by Jeffery Toobin <a href=\"http://www.newyorker.com/magazine/2014/02/17/holder-v-roberts\">in a piece</a> for <em>The New Yorker</em> in February of 2014 calling the cost of getting voter ID documents &ldquo;poll taxes.&rdquo; Toobin&rsquo;s piece outlined the extensive legal battle Holder waged against voter ID laws using the power of the federal Department of Justice.</p>\\n<p>Echoing Holder&rsquo;s reference to voter ID laws as a poll tax, Rampell flatly claims, &ldquo;The days of Jim Crow are officially over, but poll-tax equivalents are newly thriving, through restrictive voter registration and ID requirements, shorter poll hours and various other restrictions and red tape that cost Americans time and money if they wish to cast a ballot.&rdquo; This &ldquo;[v]oter suppression,&rdquo; she argues, &ldquo;may have changed the outcomes of some of the closest races last week.&rdquo;</p>\\n<p>Just paragraphs later though, she contradicts herself, admitting, &ldquo;It&rsquo;s still early to definitively quantify the effects that these laws had on national turnout or on the outcomes of individual races.&rdquo;</p>\\n<p>Contrary to allegations that voter ID laws amount to a poll tax because identification cards cost money, many states with voter ID laws make the identification available for free to anyone who cannot afford it. In Wisconsin, where the state&rsquo;s voter ID law was recently upheld by the 7th Circuit Court of Appeals only to be briefly and temporarily suspended by the U.S. Supreme Court for the midterm election, the state&rsquo;s Division of Motor Vehicles website explains how one may obtained a free state-issued photo ID card for voting purposes. State law also allows for certain non-government issued forms of photo ID to suffice as a valid voter ID card on election day.</p>\\n<p>As evidence that elections are being determined within the &ldquo;margin of disenfranchisement,&rdquo; Rampell points to the gubernatorial race in Kansas. There, Gov. Sam Brownback (R) beat back a challenge by Paul Davis (D) by 33,000 votes out of 850,000 total votes cast. Rampell hypothesizes that the Kansas voter ID law and citizen-only voter registration law prevented 38,000 Kansans from voting. But there really is no way to prove that figure. It is a hypothesis that lacks evidence.</p>\\n<p>What is known for sure is that in the state of Georgia voter turnout actually increased after that state passed a voter ID law. Hans van Spakovsky, a former Federal Election Commissioner who now works for The Heritage Foundation, <a href=\"http://www.heritage.org/research/reports/2012/03/lessons-from-the-voter-id-experience-in-georgia\">wrote a report</a> entitled &ldquo;Lessons from the Voter ID Experience in Georgia&rdquo; in March 2012. Von Spakovsky reviewed voter turnout data for elections in Georgia and found that between 2004 and 2008, voter turnout increased for whites, Hispanics, and African Americans. Voter ID went into effect in Georgia in 2007, meaning that the 140% increase in Hispanic turnout, 42% increase in African American turnout, and 8% increase in white turnout in 2008 all came after voter ID was implemented. Voter ID was not required in Georgia elections in 2004.</p>\\n<p>Von Spakovsky <a href=\"http://www.heritage.org/research/reports/2014/03/lessons-from-the-voter-id-experience-in-tennessee\">also reviewed</a> Tennessee&rsquo;s voter ID law in a 2014 report for The Heritage Foundation and found that voter turnout in that state increased from 2008 to 2012, and voter ID went into effect between the elections.</p>\\n<p>Despite these studies showing that voter turnout increased after two states implemented voter ID, Rampell nevertheless argues that the North Carolina U.S. Senate race (won by the Republican) and Florida governor&rsquo;s race (won by the Republican) may have had a different outcome if voter ID hadn&rsquo;t been required.</p>\\n<p>But Democrats did manage to win elections in states with voter ID laws. In Hawaii, Democrats won the U.S. Senate race without much difficulty even though the Hawaii Office of Elections explains <a href=\"http://hawaii.gov/elections/voters/votehi.htm\">on its website</a> that voters are required to present a valid photo ID before voting in person. Rampell does note that in Virginia, Democratic incumbent Sen. Mark Warner (D-VA)2% held his seat against a challenge by Republican Ed Gillespie, and the state does have a voter ID requirement. In Rhode Island and New Hampshire, both states with voter ID requirements, Democrats also won U.S. Senate races this fall despite the efforts of Republican candidates.</p>\\n<p>Conversely, Republicans won U.S. Senate races in Montana, Colorado, and Iowa, states that do not have voter ID laws. The races were particularly competitive in Colorado and Iowa.</p>\\n<p>In Wisconsin and Illinois, Gov. Scott Walker (R) the incumbent, and Bruce Rauner, the GOP challenger, won their races even though neither state has a voter ID law. Wisconsin&rsquo;s voter ID law is expected to be in effect for the next election.</p>\\n<p>One Wisconsin election change that caused liberals to express outrage was a revision of the state&rsquo;s early voting laws. In 2012, early voting was allowed for up to three weeks before the election, but a change in the law made it so that in 2014, early voting was only allowed for two weeks. But <a href=\"http://mediatrackers.org/wisconsin/2014/11/07/early-voting-wis-despite-liberal-claims\">a review of early voting turnout levels</a> by Nathan Schacht of Media Trackers found that despite the shorter early voting period, early voter turnout for a gubernatorial race increased from 2010 to 2014.</p>\\n<p>Rampell closes her editorial by suggesting that if the U.S. Supreme Court doesn&rsquo;t wholesale invalidate election reforms like voter ID we should, &ldquo;expect more protracted, <em>Bush v. Gore</em>-type battles in our immediate future.&rdquo; That&rsquo;s misleading. None of the voter ID laws have been caught up in the type of drama seen in the 2000 lawsuit between the pair of presidential contenders, and there is certainly no correlation between voter ID laws, or the absence of them, and a partisan benefit for candidates of either major political party.</p>\\n<ul> <li> <a> Share on Facebook </a> <a><i>49</i></a> </li>   <li>116 SHARES</li> </ul>\\n<p>Tags: <a href=\"http://www.redstate.com/tag/democrats/\">Democrats</a>, <a href=\"http://www.redstate.com/tag/the-washington-post/\">The Washington Post</a>, <a href=\"http://www.redstate.com/tag/u-s-senate-races/\">U.S. Senate Races</a>, <a href=\"http://www.redstate.com/tag/voter-id/\">Voter ID</a></p>'"
       ]
      }
     ],
     "prompt_number": 33
    },
    {
     "cell_type": "code",
     "collapsed": false,
     "input": [
      "# things to get rid of \n",
      "# &ndash;\n",
      "# &rsquo;\n",
      "# &ldquo;"
     ],
     "language": "python",
     "metadata": {},
     "outputs": []
    },
    {
     "cell_type": "code",
     "collapsed": false,
     "input": [
      "manifest = open('./data/VoterID/manifest.json', 'r')\n",
      "text = manifest.read()"
     ],
     "language": "python",
     "metadata": {},
     "outputs": []
    },
    {
     "cell_type": "code",
     "collapsed": false,
     "input": [
      "for e in json.loads(text):\n",
      "    for n, url in enumerate(e['full_urls']):\n",
      "        items = {'token': token , 'url': url}\n",
      "        r = requests.get(\"http://api.diffbot.com/v3/article\", params=items)\n",
      "        file = open('./data/%s.json' %(str(e['id']) + '-' +  str(n)), 'w')  \n",
      "        file.write(r.text.encode('utf-8', 'ignore'))\n",
      "        file.close()\n",
      "        "
     ],
     "language": "python",
     "metadata": {},
     "outputs": [],
     "prompt_number": 45
    },
    {
     "cell_type": "code",
     "collapsed": false,
     "input": [],
     "language": "python",
     "metadata": {},
     "outputs": []
    }
   ],
   "metadata": {}
  }
 ]
}