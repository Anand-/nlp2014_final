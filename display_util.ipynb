{
 "metadata": {
  "name": "",
  "signature": "sha256:e7e722bc978f4c13ca59d7df35b37233fef8d66758514b6f24143b14bf0ce9d4"
 },
 "nbformat": 3,
 "nbformat_minor": 0,
 "worksheets": [
  {
   "cells": [
    {
     "cell_type": "code",
     "collapsed": false,
     "input": [
      "from IPython.html.widgets import interact, interactive, fixed\n",
      "from IPython.html import widgets\n",
      "from IPython.display import clear_output, display, HTML\n",
      "import matplotlib.pyplot as plt\n",
      "\n",
      "def display_results(result):\n",
      "    \n",
      "    display(HTML(\"<h2>Keyphrase Overlaps<h2>\"))\n",
      "    plot_group_df(result['group_df'])\n",
      "    \n",
      "    groups=result['groups']\n",
      "    text=[]\n",
      "    for i, group in enumerate(groups):\n",
      "        text.append(\"<div style='margin:2em'>\")\n",
      "        text.append(\"<h2>Group {}</h2>\".format(i))\n",
      "        text.append(\"<h>Keyphrases</h3>\".format(i))\n",
      "        text.append(\"<ul>\")\n",
      "        for k in group['keyphrases']:\n",
      "            text.append(\"<li>{}</li>\".format(k))\n",
      "        text.append(\"</ul>\")\n",
      "        \n",
      "        text.append(\"<h>Related URLs</h3>\".format(i))\n",
      "        text.append(\"<ul>\")\n",
      "        for k in group['urls']:\n",
      "            text.append(\"<li><a href='{0}'>{0}</a></li>\".format(k))        \n",
      "        text.append(\"</ul>\")\n",
      "        \n",
      "        text.append(\"</div>\")\n",
      "    \n",
      "    display(HTML(\"\".join(text)))\n",
      "    \n",
      "    "
     ],
     "language": "python",
     "metadata": {},
     "outputs": []
    },
    {
     "cell_type": "code",
     "collapsed": false,
     "input": [
      "def plot_group_df(group_df):\n",
      "    plt.figure(figsize=(11,8))\n",
      "    plt.pcolor(group_df.ix[:,2:], vmax=15)\n",
      "    plt.gca().invert_yaxis()\n",
      "    plt.colorbar()\n",
      "    plt.show()"
     ],
     "language": "python",
     "metadata": {},
     "outputs": [],
     "prompt_number": 1
    }
   ],
   "metadata": {}
  }
 ]
}