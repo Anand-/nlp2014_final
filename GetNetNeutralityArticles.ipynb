{
 "metadata": {
  "name": "",
  "signature": "sha256:fcd4ba633022666002e6ef589eb897d0429942fb020b57ec5cad920ce7a82f24"
 },
 "nbformat": 3,
 "nbformat_minor": 0,
 "worksheets": [
  {
   "cells": [
    {
     "cell_type": "code",
     "collapsed": true,
     "input": [
      "import tagscraper"
     ],
     "language": "python",
     "metadata": {},
     "outputs": [],
     "prompt_number": 1
    },
    {
     "cell_type": "code",
     "collapsed": false,
     "input": [
      "from os import path"
     ],
     "language": "python",
     "metadata": {},
     "outputs": [],
     "prompt_number": 2
    },
    {
     "cell_type": "code",
     "collapsed": false,
     "input": [
      "outdir = path.join(path.curdir, \"data\", \"NetNeutrality\")"
     ],
     "language": "python",
     "metadata": {},
     "outputs": [],
     "prompt_number": 3
    },
    {
     "cell_type": "code",
     "collapsed": false,
     "input": [
      "tagscraper.scrape_hashtag(\"NetNeutrality\", outdir, n=500, since=\"2014-10-1\")"
     ],
     "language": "python",
     "metadata": {},
     "outputs": [
      {
       "output_type": "stream",
       "stream": "stdout",
       "text": [
        "Scraping tweets from query \"#NetNeutrality filter:links lang:en since:2014-10-1\"\n",
        "http://go.wh.gov/net-neutrality scraped"
       ]
      },
      {
       "output_type": "stream",
       "stream": "stdout",
       "text": [
        "\n",
        "1 urls scraped\n",
        "https://medium.com/@PresidentObama/my-plan-for-a-free-and-open-internet-c45e2f4ab1e4 scraped"
       ]
      },
      {
       "output_type": "stream",
       "stream": "stdout",
       "text": [
        "\n",
        "2 urls scraped\n",
        "http://theoatmeal.com/blog/net_neutrality scraped"
       ]
      },
      {
       "output_type": "stream",
       "stream": "stdout",
       "text": [
        "\n",
        "3 urls scraped\n",
        "error scraping"
       ]
      },
      {
       "output_type": "stream",
       "stream": "stdout",
       "text": [
        "\n",
        "hostname 'time.com' doesn't match either of '*.wordpress.com', 'wordpress.com'\n",
        "error scraping"
       ]
      },
      {
       "output_type": "stream",
       "stream": "stdout",
       "text": [
        "\n",
        "hostname 'time.com' doesn't match either of '*.wordpress.com', 'wordpress.com'\n",
        "http://ofa.bo/i1Uk scraped"
       ]
      },
      {
       "output_type": "stream",
       "stream": "stdout",
       "text": [
        "\n",
        "4 urls scraped\n",
        "http://bit.ly/1zKj1tQ scraped"
       ]
      },
      {
       "output_type": "stream",
       "stream": "stdout",
       "text": [
        "\n",
        "5 urls scraped\n",
        "http://buff.ly/1xdOljB scraped"
       ]
      },
      {
       "output_type": "stream",
       "stream": "stdout",
       "text": [
        "\n",
        "6 urls scraped\n",
        "error scraping"
       ]
      },
      {
       "output_type": "stream",
       "stream": "stdout",
       "text": [
        "\n",
        "hostname 'time.com' doesn't match either of '*.wordpress.com', 'wordpress.com'\n",
        "http://ow.ly/3u8V9E scraped"
       ]
      },
      {
       "output_type": "stream",
       "stream": "stdout",
       "text": [
        "\n",
        "7 urls scraped\n",
        "error scraping"
       ]
      },
      {
       "output_type": "stream",
       "stream": "stdout",
       "text": [
        "\n",
        "hostname 'time.com' doesn't match either of '*.wordpress.com', 'wordpress.com'\n",
        "http://share.credoaction.com/85273692t?referring_akid=.1162908.kaNmwV scraped"
       ]
      },
      {
       "output_type": "stream",
       "stream": "stdout",
       "text": [
        "\n",
        "8 urls scraped\n",
        "error scraping"
       ]
      },
      {
       "output_type": "stream",
       "stream": "stdout",
       "text": [
        "\n",
        "hostname 'time.com' doesn't match either of '*.wordpress.com', 'wordpress.com'\n",
        "http://abcn.ws/1uZPLxb scraped"
       ]
      },
      {
       "output_type": "stream",
       "stream": "stdout",
       "text": [
        "\n",
        "9 urls scraped\n",
        "error scraping"
       ]
      },
      {
       "output_type": "stream",
       "stream": "stdout",
       "text": [
        "\n",
        "hostname 'time.com' doesn't match either of '*.wordpress.com', 'wordpress.com'\n",
        "http://www.sltrib.com/opinion/1808447-155/com-bagley-cartoon-facebook-lake-salt scraped"
       ]
      },
      {
       "output_type": "stream",
       "stream": "stdout",
       "text": [
        "\n",
        "10 urls scraped\n",
        "http://bit.ly/10QXAbg scraped"
       ]
      },
      {
       "output_type": "stream",
       "stream": "stdout",
       "text": [
        "\n",
        "11 urls scraped\n",
        "http://www.progressive.org/news/2014/11/187909/progressives-should-applaud-obamas-net-neutrality-stance scraped"
       ]
      },
      {
       "output_type": "stream",
       "stream": "stdout",
       "text": [
        "\n",
        "12 urls scraped\n",
        "error scraping"
       ]
      },
      {
       "output_type": "stream",
       "stream": "stdout",
       "text": [
        "\n",
        "hostname 'time.com' doesn't match either of '*.wordpress.com', 'wordpress.com'\n",
        "https://vine.co/v/OiJg0KzHxta scraped"
       ]
      },
      {
       "output_type": "stream",
       "stream": "stdout",
       "text": [
        "\n",
        "13 urls scraped\n",
        "error scraping"
       ]
      },
      {
       "output_type": "stream",
       "stream": "stdout",
       "text": [
        "\n",
        "hostname 'time.com' doesn't match either of '*.wordpress.com', 'wordpress.com'\n",
        "http://amzn.to/1otpRzG scraped"
       ]
      },
      {
       "output_type": "stream",
       "stream": "stdout",
       "text": [
        "\n",
        "14 urls scraped\n",
        "http://ow.ly/E832d scraped"
       ]
      },
      {
       "output_type": "stream",
       "stream": "stdout",
       "text": [
        "\n",
        "15 urls scraped\n",
        "https://www.callthefcc.com/ scraped"
       ]
      },
      {
       "output_type": "stream",
       "stream": "stdout",
       "text": [
        "\n",
        "16 urls scraped\n",
        "error scraping"
       ]
      },
      {
       "output_type": "stream",
       "stream": "stdout",
       "text": [
        "\n",
        "hostname 'time.com' doesn't match either of '*.wordpress.com', 'wordpress.com'\n",
        "error scraping"
       ]
      },
      {
       "output_type": "stream",
       "stream": "stdout",
       "text": [
        "\n",
        "Invalid status code\n",
        "http://ow.ly/E7VlW scraped"
       ]
      },
      {
       "output_type": "stream",
       "stream": "stdout",
       "text": [
        "\n",
        "17 urls scraped\n",
        "http://bit.ly/1u3LIhX scraped"
       ]
      },
      {
       "output_type": "stream",
       "stream": "stdout",
       "text": [
        "\n",
        "18 urls scraped\n",
        "http://ow.ly/E88Ob scraped"
       ]
      },
      {
       "output_type": "stream",
       "stream": "stdout",
       "text": [
        "\n",
        "19 urls scraped\n",
        "http://share.credoaction.com/85273200t?referring_akid=.2090088.g46-po scraped"
       ]
      },
      {
       "output_type": "stream",
       "stream": "stdout",
       "text": [
        "\n",
        "20 urls scraped\n",
        "http://ars.to/1u1rcP6 scraped"
       ]
      },
      {
       "output_type": "stream",
       "stream": "stdout",
       "text": [
        "\n",
        "21 urls scraped\n",
        "http://bit.ly/1EvZVYf scraped"
       ]
      },
      {
       "output_type": "stream",
       "stream": "stdout",
       "text": [
        "\n",
        "22 urls scraped\n",
        "http://j.mp/1yvHAqi scraped"
       ]
      },
      {
       "output_type": "stream",
       "stream": "stdout",
       "text": [
        "\n",
        "23 urls scraped\n",
        "http://tiny.cc/xze4ox scraped"
       ]
      },
      {
       "output_type": "stream",
       "stream": "stdout",
       "text": [
        "\n",
        "24 urls scraped\n",
        "error scraping"
       ]
      },
      {
       "output_type": "stream",
       "stream": "stdout",
       "text": [
        "\n",
        "Invalid status code\n",
        "error scraping"
       ]
      },
      {
       "output_type": "stream",
       "stream": "stdout",
       "text": [
        "\n",
        "hostname 'time.com' doesn't match either of '*.wordpress.com', 'wordpress.com'\n",
        "http://televisions.reviewed.com/features/sympathy-for-the-devil-comcast-on-net-neutrality scraped"
       ]
      },
      {
       "output_type": "stream",
       "stream": "stdout",
       "text": [
        "\n",
        "25 urls scraped\n",
        "http://assholeoftheday.us/post/102304084660/ted-cruz-asshole-of-the-day-for-november-10 scraped"
       ]
      },
      {
       "output_type": "stream",
       "stream": "stdout",
       "text": [
        "\n",
        "26 urls scraped\n",
        "error scraping"
       ]
      },
      {
       "output_type": "stream",
       "stream": "stdout",
       "text": [
        "\n",
        "hostname 'time.com' doesn't match either of '*.wordpress.com', 'wordpress.com'\n",
        "http://share.credoaction.com/85272692t?referring_akid=.7147494.e8z5Ow scraped"
       ]
      },
      {
       "output_type": "stream",
       "stream": "stdout",
       "text": [
        "\n",
        "27 urls scraped\n",
        "error scraping"
       ]
      },
      {
       "output_type": "stream",
       "stream": "stdout",
       "text": [
        "\n",
        "hostname 'time.com' doesn't match either of '*.wordpress.com', 'wordpress.com'\n",
        "http://bit.ly/CruzOatmeal scraped"
       ]
      },
      {
       "output_type": "stream",
       "stream": "stdout",
       "text": [
        "\n",
        "28 urls scraped\n",
        "http://goo.gl/iMdw4o scraped"
       ]
      },
      {
       "output_type": "stream",
       "stream": "stdout",
       "text": [
        "\n",
        "29 urls scraped\n",
        "http://bit.ly/1yujKLo scraped"
       ]
      },
      {
       "output_type": "stream",
       "stream": "stdout",
       "text": [
        "\n",
        "30 urls scraped\n",
        "http://bit.ly/1qAwrjz scraped"
       ]
      },
      {
       "output_type": "stream",
       "stream": "stdout",
       "text": [
        "\n",
        "31 urls scraped\n",
        "error scraping"
       ]
      },
      {
       "output_type": "stream",
       "stream": "stdout",
       "text": [
        "\n",
        "hostname 'time.com' doesn't match either of '*.wordpress.com', 'wordpress.com'\n",
        "http://voqal.org/voqal-net-neutrality-rapid-grants/ scraped"
       ]
      },
      {
       "output_type": "stream",
       "stream": "stdout",
       "text": [
        "\n",
        "32 urls scraped\n",
        "https://www.facebook.com/GirlDuJour/photos/a.168778179976591.1073741828.168753769979032/334748100046264/?type=1&theater scraped"
       ]
      },
      {
       "output_type": "stream",
       "stream": "stdout",
       "text": [
        "\n",
        "33 urls scraped\n",
        "http://share.credoaction.com/85272447t?referring_akid=.219343.WcTUJL scraped"
       ]
      },
      {
       "output_type": "stream",
       "stream": "stdout",
       "text": [
        "\n",
        "34 urls scraped\n",
        "http://bit.ly/1wgQVQq scraped"
       ]
      },
      {
       "output_type": "stream",
       "stream": "stdout",
       "text": [
        "\n",
        "35 urls scraped\n",
        "http://ofa.bo/i1U0 scraped"
       ]
      },
      {
       "output_type": "stream",
       "stream": "stdout",
       "text": [
        "\n",
        "36 urls scraped\n",
        "http://1.usa.gov/1GJ5BjJ scraped"
       ]
      },
      {
       "output_type": "stream",
       "stream": "stdout",
       "text": [
        "\n",
        "37 urls scraped\n",
        "http://www.npr.org/blogs/alltechconsidered/2014/11/10/363013806/the-white-house-is-backing-the-internet-in-a-major-way?utm_source=twitter.com&utm_medium=social&utm_campaign=npr&utm_term=nprnews&utm_content=2035 scraped"
       ]
      },
      {
       "output_type": "stream",
       "stream": "stdout",
       "text": [
        "\n",
        "38 urls scraped\n",
        "http://goo.gl/nFkWfB scraped"
       ]
      },
      {
       "output_type": "stream",
       "stream": "stdout",
       "text": [
        "\n",
        "39 urls scraped\n",
        "http://gizmo.do/sR7mkRK scraped"
       ]
      },
      {
       "output_type": "stream",
       "stream": "stdout",
       "text": [
        "\n",
        "40 urls scraped\n",
        "http://ofa.bo/i1U8 scraped"
       ]
      },
      {
       "output_type": "stream",
       "stream": "stdout",
       "text": [
        "\n",
        "41 urls scraped\n",
        "http://ow.ly/E72U9 scraped"
       ]
      },
      {
       "output_type": "stream",
       "stream": "stdout",
       "text": [
        "\n",
        "42 urls scraped\n",
        "http://shar.es/10TlNF scraped"
       ]
      },
      {
       "output_type": "stream",
       "stream": "stdout",
       "text": [
        "\n",
        "43 urls scraped\n",
        "http://www.fiercewireless.com/story/t-mobiles-legere-opposes-reclassifying-broadband-under-title-ii-net-neutral/2014-11-11?utm_campaign=SocialMedia scraped"
       ]
      },
      {
       "output_type": "stream",
       "stream": "stdout",
       "text": [
        "\n",
        "44 urls scraped\n",
        "http://bit.ly/1suuvJc scraped"
       ]
      },
      {
       "output_type": "stream",
       "stream": "stdout",
       "text": [
        "\n",
        "45 urls scraped\n",
        "http://gu.com/p/437f8/stw scraped"
       ]
      },
      {
       "output_type": "stream",
       "stream": "stdout",
       "text": [
        "\n",
        "46 urls scraped\n",
        "http://bit.ly/1En6Xwl scraped"
       ]
      },
      {
       "output_type": "stream",
       "stream": "stdout",
       "text": [
        "\n",
        "47 urls scraped\n",
        "http://goo.gl/orddDa scraped"
       ]
      },
      {
       "output_type": "stream",
       "stream": "stdout",
       "text": [
        "\n",
        "48 urls scraped\n",
        "http://gizmodo.com/how-much-money-big-cable-gave-the-politicians-who-overs-1657002442 scraped"
       ]
      },
      {
       "output_type": "stream",
       "stream": "stdout",
       "text": [
        "\n",
        "49 urls scraped\n",
        "http://www.aclu.org/fcc-net-neutrality-tw scraped"
       ]
      },
      {
       "output_type": "stream",
       "stream": "stdout",
       "text": [
        "\n",
        "50 urls scraped\n",
        "http://gizmodo.com/how-much-money-big-cable-gave-the-politicians-who-overs-1657002442/+tinaamini scraped"
       ]
      },
      {
       "output_type": "stream",
       "stream": "stdout",
       "text": [
        "\n",
        "51 urls scraped\n",
        "http://share.credoaction.com/85271529t?referring_akid=.3356885.jQVzkF scraped"
       ]
      },
      {
       "output_type": "stream",
       "stream": "stdout",
       "text": [
        "\n",
        "52 urls scraped\n",
        "http://battleforthenet.com scraped"
       ]
      },
      {
       "output_type": "stream",
       "stream": "stdout",
       "text": [
        "\n",
        "53 urls scraped\n",
        "http://share.credoaction.com/85271800t?referring_akid=.3254740.ghko98 scraped"
       ]
      },
      {
       "output_type": "stream",
       "stream": "stdout",
       "text": [
        "\n",
        "54 urls scraped\n",
        "http://wh.gov/net-neutrality scraped"
       ]
      },
      {
       "output_type": "stream",
       "stream": "stdout",
       "text": [
        "\n",
        "55 urls scraped\n",
        "http://en.m.wikipedia.org/wiki/Criticism_of_Comcast scraped"
       ]
      },
      {
       "output_type": "stream",
       "stream": "stdout",
       "text": [
        "\n",
        "56 urls scraped\n",
        "http://ow.ly/E5LKa scraped"
       ]
      },
      {
       "output_type": "stream",
       "stream": "stdout",
       "text": [
        "\n",
        "57 urls scraped\n",
        "http://time.com/3578055/net-neutrality-competition-innovation/ scraped"
       ]
      },
      {
       "output_type": "stream",
       "stream": "stdout",
       "text": [
        "\n",
        "58 urls scraped\n",
        "http://healthcare.gov scraped"
       ]
      },
      {
       "output_type": "stream",
       "stream": "stdout",
       "text": [
        "\n",
        "59 urls scraped\n",
        "http://bit.ly/1wg0wqu scraped"
       ]
      },
      {
       "output_type": "stream",
       "stream": "stdout",
       "text": [
        "\n",
        "60 urls scraped\n",
        "http://luvvie.me/1hVJ6Jc scraped"
       ]
      },
      {
       "output_type": "stream",
       "stream": "stdout",
       "text": [
        "\n",
        "61 urls scraped\n",
        "http://share.credoaction.com/85271554t?referring_akid=.7581319.rMoVCz scraped"
       ]
      },
      {
       "output_type": "stream",
       "stream": "stdout",
       "text": [
        "\n",
        "62 urls scraped\n",
        "http://ow.ly/E42Ji scraped"
       ]
      },
      {
       "output_type": "stream",
       "stream": "stdout",
       "text": [
        "\n",
        "63 urls scraped\n",
        "http://www.economist.com/news/business-and-finance/21632020?fsrc=scn/tw/te/bl/presidentialimportance scraped"
       ]
      },
      {
       "output_type": "stream",
       "stream": "stdout",
       "text": [
        "\n",
        "64 urls scraped\n",
        "http://gizmodo.com/ted-cruzs-net-neutrality-take-isnt-just-dumb-its-dange-1656821283 scraped"
       ]
      },
      {
       "output_type": "stream",
       "stream": "stdout",
       "text": [
        "\n",
        "65 urls scraped\n",
        "http://www.wicker.senate.gov/public/index.cfm/press-releases?ID=1620c0ad-4ceb-452b-96b0-61f9691158b7#.VGJNNZK1JvI.twitter scraped"
       ]
      },
      {
       "output_type": "stream",
       "stream": "stdout",
       "text": [
        "\n",
        "66 urls scraped\n",
        "http://ow.ly/E76SP scraped"
       ]
      },
      {
       "output_type": "stream",
       "stream": "stdout",
       "text": [
        "\n",
        "67 urls scraped\n",
        "https://www.facebook.com/events/307793032740468/?ref_dashboard_filter=upcoming scraped"
       ]
      },
      {
       "output_type": "stream",
       "stream": "stdout",
       "text": [
        "\n",
        "68 urls scraped\n",
        "http://bit.ly/1uYRAKY scraped"
       ]
      },
      {
       "output_type": "stream",
       "stream": "stdout",
       "text": [
        "\n",
        "69 urls scraped\n",
        "http://buff.ly/1wgPaTi scraped"
       ]
      },
      {
       "output_type": "stream",
       "stream": "stdout",
       "text": [
        "\n",
        "70 urls scraped\n",
        "http://ow.ly/3u9lBk scraped"
       ]
      },
      {
       "output_type": "stream",
       "stream": "stdout",
       "text": [
        "\n",
        "71 urls scraped\n",
        "http://bit.ly/1oHAGyj scraped"
       ]
      },
      {
       "output_type": "stream",
       "stream": "stdout",
       "text": [
        "\n",
        "72 urls scraped\n",
        "http://variety.com/2014/biz/news/obamas-net-neutrality-stance-may-spur-more-bois scraped"
       ]
      },
      {
       "output_type": "stream",
       "stream": "stdout",
       "text": [
        "\n",
        "73 urls scraped\n",
        "https://www.opensecrets.org/pres12/contrib.php?id=N00009638 scraped"
       ]
      },
      {
       "output_type": "stream",
       "stream": "stdout",
       "text": [
        "\n",
        "74 urls scraped\n",
        "http://mzl.la/1oGPrRT scraped"
       ]
      },
      {
       "output_type": "stream",
       "stream": "stdout",
       "text": [
        "\n",
        "75 urls scraped\n",
        "http://bit.ly/1xqsZNv scraped"
       ]
      },
      {
       "output_type": "stream",
       "stream": "stdout",
       "text": [
        "\n",
        "76 urls scraped\n",
        "http://etsy.me/1tyJOkj scraped"
       ]
      },
      {
       "output_type": "stream",
       "stream": "stdout",
       "text": [
        "\n",
        "77 urls scraped\n",
        "http://buff.ly/1pMO1Gp scraped"
       ]
      },
      {
       "output_type": "stream",
       "stream": "stdout",
       "text": [
        "\n",
        "78 urls scraped\n",
        "http://wh.gov/ixkqP scraped"
       ]
      },
      {
       "output_type": "stream",
       "stream": "stdout",
       "text": [
        "\n",
        "79 urls scraped\n",
        "http://sourcefed.com/president-obama-comes-forward-in-support-of-free-open-internet-and-netneutrality/ scraped"
       ]
      },
      {
       "output_type": "stream",
       "stream": "stdout",
       "text": [
        "\n",
        "80 urls scraped\n",
        "http://j.mp/1xfBayy scraped"
       ]
      },
      {
       "output_type": "stream",
       "stream": "stdout",
       "text": [
        "\n",
        "81 urls scraped\n",
        "http://nhmc.org/blog/obama-stands-millions-americans-internet-equality-whats-next/ scraped"
       ]
      },
      {
       "output_type": "stream",
       "stream": "stdout",
       "text": [
        "\n",
        "82 urls scraped\n",
        "http://www.chicagotribune.com/bluesky/technology/chi-obama-fcc-net-neutrality-bsi-story.html scraped"
       ]
      },
      {
       "output_type": "stream",
       "stream": "stdout",
       "text": [
        "\n",
        "83 urls scraped\n",
        "http://bit.ly/1uXkITl scraped"
       ]
      },
      {
       "output_type": "stream",
       "stream": "stdout",
       "text": [
        "\n",
        "84 urls scraped\n",
        "http://my.barackobama.com/Fight-for-Net-Neutrality scraped"
       ]
      },
      {
       "output_type": "stream",
       "stream": "stdout",
       "text": [
        "\n",
        "85 urls scraped\n",
        "http://demu.gr/1017226162 scraped"
       ]
      },
      {
       "output_type": "stream",
       "stream": "stdout",
       "text": [
        "\n",
        "86 urls scraped\n",
        "http://www.theverge.com/2014/11/10/7186787/tim-wu-says-obamas-net-neutrality-plan-is-bold-courageous-and-just scraped"
       ]
      },
      {
       "output_type": "stream",
       "stream": "stdout",
       "text": [
        "\n",
        "87 urls scraped\n",
        "https://vimeo.com/blog/post:659 scraped"
       ]
      },
      {
       "output_type": "stream",
       "stream": "stdout",
       "text": [
        "\n",
        "88 urls scraped\n",
        "http://trib.al/RGtvgnj scraped"
       ]
      },
      {
       "output_type": "stream",
       "stream": "stdout",
       "text": [
        "\n",
        "89 urls scraped\n",
        "https://medium.com/message/net-neutrality-is-sooo-much-more-than-access-to-the-tubes-2344b1e9f220 scraped"
       ]
      },
      {
       "output_type": "stream",
       "stream": "stdout",
       "text": [
        "\n",
        "90 urls scraped\n",
        "http://bit.ly/1stmfsT scraped"
       ]
      },
      {
       "output_type": "stream",
       "stream": "stdout",
       "text": [
        "\n",
        "91 urls scraped\n",
        "http://etsy.me/1o8a6bv scraped"
       ]
      },
      {
       "output_type": "stream",
       "stream": "stdout",
       "text": [
        "\n",
        "92 urls scraped\n",
        "http://bit.ly/1xs7Jb7 scraped"
       ]
      },
      {
       "output_type": "stream",
       "stream": "stdout",
       "text": [
        "\n",
        "93 urls scraped\n",
        "https://www.youtube.com/watch?v=xM2TD5qRUms&index=7&list=UUFrSIHmSjhrlu3sE8YacV6Q scraped"
       ]
      },
      {
       "output_type": "stream",
       "stream": "stdout",
       "text": [
        "\n",
        "94 urls scraped\n",
        "http://bit.ly/1zKal6H scraped"
       ]
      },
      {
       "output_type": "stream",
       "stream": "stdout",
       "text": [
        "\n",
        "95 urls scraped\n",
        "http://fb.me/6X8kvWe1s scraped"
       ]
      },
      {
       "output_type": "stream",
       "stream": "stdout",
       "text": [
        "\n",
        "96 urls scraped\n",
        "http://share.credoaction.com/85270409t?referring_akid=.4033714.DGckA4 scraped"
       ]
      },
      {
       "output_type": "stream",
       "stream": "stdout",
       "text": [
        "\n",
        "97 urls scraped\n",
        "http://gizmodo.com/how-much-money-big-cable-gave-the-politicians-who-overs-1657002442/+laceydonohue scraped"
       ]
      },
      {
       "output_type": "stream",
       "stream": "stdout",
       "text": [
        "\n",
        "98 urls scraped\n",
        "http://bit.ly/NoFrankensteinNN scraped"
       ]
      },
      {
       "output_type": "stream",
       "stream": "stdout",
       "text": [
        "\n",
        "99 urls scraped\n",
        "error scraping"
       ]
      },
      {
       "output_type": "stream",
       "stream": "stdout",
       "text": [
        "\n",
        "Invalid status code\n",
        "http://ow.ly/E7X6p scraped"
       ]
      },
      {
       "output_type": "stream",
       "stream": "stdout",
       "text": [
        "\n",
        "100 urls scraped\n",
        "http://share.credoaction.com/85270277t?referring_akid=.129307.bklpFn scraped"
       ]
      },
      {
       "output_type": "stream",
       "stream": "stdout",
       "text": [
        "\n",
        "101 urls scraped\n",
        "http://share.credoaction.com/85270313t?referring_akid=.1941399.gAlbS scraped"
       ]
      },
      {
       "output_type": "stream",
       "stream": "stdout",
       "text": [
        "\n",
        "102 urls scraped\n",
        "http://1.usa.gov/1zeZyyk scraped"
       ]
      },
      {
       "output_type": "stream",
       "stream": "stdout",
       "text": [
        "\n",
        "103 urls scraped\n",
        "http://j.mp/1qCOdCL scraped"
       ]
      },
      {
       "output_type": "stream",
       "stream": "stdout",
       "text": [
        "\n",
        "104 urls scraped\n",
        "http://ln.is/www.callthefcc.com/qupTY scraped"
       ]
      },
      {
       "output_type": "stream",
       "stream": "stdout",
       "text": [
        "\n",
        "105 urls scraped\n",
        "http://www.washingtontimes.com/news/2014/nov/10/ted-cruz-net-neutrality-is-obamacare-for-the-inter/ scraped"
       ]
      },
      {
       "output_type": "stream",
       "stream": "stdout",
       "text": [
        "\n",
        "106 urls scraped\n",
        "http://ofa.bo/g1T6 scraped"
       ]
      },
      {
       "output_type": "stream",
       "stream": "stdout",
       "text": [
        "\n",
        "107 urls scraped\n",
        "http://bit.ly/1tYVksV scraped"
       ]
      },
      {
       "output_type": "stream",
       "stream": "stdout",
       "text": [
        "\n",
        "108 urls scraped\n",
        "http://bit.ly/1xrWzDh scraped"
       ]
      },
      {
       "output_type": "stream",
       "stream": "stdout",
       "text": [
        "\n",
        "109 urls scraped\n",
        "http://ow.ly/E8lZn scraped"
       ]
      },
      {
       "output_type": "stream",
       "stream": "stdout",
       "text": [
        "\n",
        "110 urls scraped\n",
        "http://ow.ly/E8izE scraped"
       ]
      },
      {
       "output_type": "stream",
       "stream": "stdout",
       "text": [
        "\n",
        "111 urls scraped\n",
        "http://share.credoaction.com/85269109t?referring_akid=.6363265.kwz01m scraped"
       ]
      },
      {
       "output_type": "stream",
       "stream": "stdout",
       "text": [
        "\n",
        "112 urls scraped\n",
        "http://share.credoaction.com/85269631t?referring_akid=.5952950.KL9D4z scraped"
       ]
      },
      {
       "output_type": "stream",
       "stream": "stdout",
       "text": [
        "\n",
        "113 urls scraped\n",
        "http://bit.ly/1strRDA scraped"
       ]
      },
      {
       "output_type": "stream",
       "stream": "stdout",
       "text": [
        "\n",
        "114 urls scraped\n",
        "error scraping"
       ]
      },
      {
       "output_type": "stream",
       "stream": "stdout",
       "text": [
        "\n",
        "Invalid status code\n",
        "http://bit.ly/10RlfIA scraped"
       ]
      },
      {
       "output_type": "stream",
       "stream": "stdout",
       "text": [
        "\n",
        "115 urls scraped\n",
        "http://www.gallup.com/poll/113980/Gallup-Daily-Obama-Job-Approval.aspx?utm_source=twitterbutton&utm_medium=twitter&utm_campaign=sharing scraped"
       ]
      },
      {
       "output_type": "stream",
       "stream": "stdout",
       "text": [
        "\n",
        "116 urls scraped\n",
        "http://ow.ly/E83Qo scraped"
       ]
      },
      {
       "output_type": "stream",
       "stream": "stdout",
       "text": [
        "\n",
        "117 urls scraped\n",
        "http://buff.ly/1Exiifc scraped"
       ]
      },
      {
       "output_type": "stream",
       "stream": "stdout",
       "text": [
        "\n",
        "118 urls scraped\n",
        "http://time.com/3578055/net-neutrality-competition-innovation/#3578055/net-neutrality-competition-innovation/ scraped"
       ]
      },
      {
       "output_type": "stream",
       "stream": "stdout",
       "text": [
        "\n",
        "119 urls scraped\n",
        "http://www.msnbc.com/morning-joe/obama-pushes-bold-new-rules-net-neutrality scraped"
       ]
      },
      {
       "output_type": "stream",
       "stream": "stdout",
       "text": [
        "\n",
        "120 urls scraped\n",
        "http://bit.ly/1wgMkhd scraped"
       ]
      },
      {
       "output_type": "stream",
       "stream": "stdout",
       "text": [
        "\n",
        "121 urls scraped\n",
        "http://ow.ly/E8iVH scraped"
       ]
      },
      {
       "output_type": "stream",
       "stream": "stdout",
       "text": [
        "\n",
        "122 urls scraped\n",
        "http://www.youtube.com/watch?v=2HmjPSJz08U scraped"
       ]
      },
      {
       "output_type": "stream",
       "stream": "stdout",
       "text": [
        "\n",
        "123 urls scraped\n",
        "error scraping"
       ]
      },
      {
       "output_type": "stream",
       "stream": "stdout",
       "text": [
        "\n",
        "Invalid status code\n",
        "error scraping"
       ]
      },
      {
       "output_type": "stream",
       "stream": "stdout",
       "text": [
        "\n",
        "hostname 'time.com' doesn't match either of '*.wordpress.com', 'wordpress.com'\n",
        "http://bloom.bg/1xnx6tR scraped"
       ]
      },
      {
       "output_type": "stream",
       "stream": "stdout",
       "text": [
        "\n",
        "124 urls scraped\n",
        "https://hbr.org/2014/11/why-the-public-utility-model-is-the-wrong-approach-for-internet-regulation scraped"
       ]
      },
      {
       "output_type": "stream",
       "stream": "stdout",
       "text": [
        "\n",
        "125 urls scraped\n",
        "http://dlvr.it/7TzjDM scraped"
       ]
      },
      {
       "output_type": "stream",
       "stream": "stdout",
       "text": [
        "\n",
        "126 urls scraped\n",
        "http://mzl.la/1wLjrxs scraped"
       ]
      },
      {
       "output_type": "stream",
       "stream": "stdout",
       "text": [
        "\n",
        "127 urls scraped\n",
        "error scraping"
       ]
      },
      {
       "output_type": "stream",
       "stream": "stdout",
       "text": [
        "\n",
        "Exceeded 30 redirects.\n",
        "http://stuf.ly/1oG6pfT scraped"
       ]
      },
      {
       "output_type": "stream",
       "stream": "stdout",
       "text": [
        "\n",
        "128 urls scraped\n",
        "http://dlvr.it/7TzfkH scraped"
       ]
      },
      {
       "output_type": "stream",
       "stream": "stdout",
       "text": [
        "\n",
        "129 urls scraped\n",
        "http://share.credoaction.com/4-10496-t-0-2?referring_akid=.3952938.IELEYj scraped"
       ]
      },
      {
       "output_type": "stream",
       "stream": "stdout",
       "text": [
        "\n",
        "130 urls scraped\n",
        "http://fb.me/79UmumaDc scraped"
       ]
      },
      {
       "output_type": "stream",
       "stream": "stdout",
       "text": [
        "\n",
        "131 urls scraped\n",
        "http://share.credoaction.com/85268829t?referring_akid=.6896674.tp_DvA scraped"
       ]
      },
      {
       "output_type": "stream",
       "stream": "stdout",
       "text": [
        "\n",
        "132 urls scraped\n",
        "http://bit.ly/1u3NQXc scraped"
       ]
      },
      {
       "output_type": "stream",
       "stream": "stdout",
       "text": [
        "\n",
        "133 urls scraped\n",
        "http://www.latimes.com/opinion/opinion-la/la-ol-president-obama-net-neutrality-title-ii-20141110-story.html#page=1 scraped"
       ]
      },
      {
       "output_type": "stream",
       "stream": "stdout",
       "text": [
        "\n",
        "134 urls scraped\n",
        "http://feedproxy.google.com/~r/AVc/~3/QnqoDA9a4ZQ/ scraped"
       ]
      },
      {
       "output_type": "stream",
       "stream": "stdout",
       "text": [
        "\n",
        "135 urls scraped\n",
        "error scraping"
       ]
      },
      {
       "output_type": "stream",
       "stream": "stdout",
       "text": [
        "\n",
        "hostname 'bgr.com' doesn't match either of '*.wordpress.com', 'wordpress.com'\n",
        "https://twitter.com/ExploringBird/timelines/531866304899072000 scraped"
       ]
      },
      {
       "output_type": "stream",
       "stream": "stdout",
       "text": [
        "\n",
        "136 urls scraped\n",
        "http://nyti.ms/1svTyg0 scraped"
       ]
      },
      {
       "output_type": "stream",
       "stream": "stdout",
       "text": [
        "\n",
        "137 urls scraped\n",
        "http://ow.ly/E7Bk1 scraped"
       ]
      },
      {
       "output_type": "stream",
       "stream": "stdout",
       "text": [
        "\n",
        "138 urls scraped\n",
        "http://ow.ly/E5pvT scraped"
       ]
      },
      {
       "output_type": "stream",
       "stream": "stdout",
       "text": [
        "\n",
        "139 urls scraped\n",
        "http://ow.ly/E5MCB scraped"
       ]
      },
      {
       "output_type": "stream",
       "stream": "stdout",
       "text": [
        "\n",
        "140 urls scraped\n",
        "http://ow.ly/E5MFA scraped"
       ]
      },
      {
       "output_type": "stream",
       "stream": "stdout",
       "text": [
        "\n",
        "141 urls scraped\n",
        "http://bit.ly/1yuuwRU scraped"
       ]
      },
      {
       "output_type": "stream",
       "stream": "stdout",
       "text": [
        "\n",
        "142 urls scraped\n",
        "http://huff.to/1u28l6o scraped"
       ]
      },
      {
       "output_type": "stream",
       "stream": "stdout",
       "text": [
        "\n",
        "143 urls scraped\n",
        "http://www.huffingtonpost.com/2014/11/10/ted-cruz-net-neutrality_n_6133584.html scraped"
       ]
      },
      {
       "output_type": "stream",
       "stream": "stdout",
       "text": [
        "\n",
        "144 urls scraped\n",
        "http://etsy.me/1qA9wH3 scraped"
       ]
      },
      {
       "output_type": "stream",
       "stream": "stdout",
       "text": [
        "\n",
        "145 urls scraped\n",
        "http://ow.ly/E8kBc scraped"
       ]
      },
      {
       "output_type": "stream",
       "stream": "stdout",
       "text": [
        "\n",
        "146 urls scraped\n",
        "http://share.credoaction.com/85268149t?referring_akid=.7737745.Z_2vTq scraped"
       ]
      },
      {
       "output_type": "stream",
       "stream": "stdout",
       "text": [
        "\n",
        "147 urls scraped\n",
        "error scraping"
       ]
      },
      {
       "output_type": "stream",
       "stream": "stdout",
       "text": [
        "\n",
        "Invalid status code\n",
        "http://goo.gl/JECqrt scraped"
       ]
      },
      {
       "output_type": "stream",
       "stream": "stdout",
       "text": [
        "\n",
        "148 urls scraped\n",
        "http://sco.lt/5bD4pV scraped"
       ]
      },
      {
       "output_type": "stream",
       "stream": "stdout",
       "text": [
        "\n",
        "149 urls scraped\n",
        "http://tinyurl.com/lt32qjm scraped"
       ]
      },
      {
       "output_type": "stream",
       "stream": "stdout",
       "text": [
        "\n",
        "150 urls scraped\n",
        "http://ow.ly/i/7xYH4 scraped"
       ]
      },
      {
       "output_type": "stream",
       "stream": "stdout",
       "text": [
        "\n",
        "151 urls scraped\n",
        "https://www.youtube.com/watch?v=S-EwVZiQwVc scraped"
       ]
      },
      {
       "output_type": "stream",
       "stream": "stdout",
       "text": [
        "\n",
        "152 urls scraped\n",
        "http://share.ofa.bo/85267645t scraped"
       ]
      },
      {
       "output_type": "stream",
       "stream": "stdout",
       "text": [
        "\n",
        "153 urls scraped\n",
        "http://www.waaytv.com/tech_alabama/what-is-net-neutrality-an-explainer/article_ff1c6eb8-69bd-11e4-9775-0b633913c907.html scraped"
       ]
      },
      {
       "output_type": "stream",
       "stream": "stdout",
       "text": [
        "\n",
        "154 urls scraped\n",
        "http://nyti.ms/1yv3F8d scraped"
       ]
      },
      {
       "output_type": "stream",
       "stream": "stdout",
       "text": [
        "\n",
        "155 urls scraped\n",
        "error scraping"
       ]
      },
      {
       "output_type": "stream",
       "stream": "stdout",
       "text": [
        "\n",
        "Exceeded 30 redirects.\n",
        "http://www.nytimes.com/2014/11/11/technology/obama-net-neutrality-fcc.html?emc=edit_tu_20141111&nl=technology&nlid=56665827&_r=0 scraped"
       ]
      },
      {
       "output_type": "stream",
       "stream": "stdout",
       "text": [
        "\n",
        "156 urls scraped\n",
        "http://bit.ly/1zfzV0j scraped"
       ]
      },
      {
       "output_type": "stream",
       "stream": "stdout",
       "text": [
        "\n",
        "157 urls scraped\n",
        "http://ow.ly/E8k8N scraped"
       ]
      },
      {
       "output_type": "stream",
       "stream": "stdout",
       "text": [
        "\n",
        "158 urls scraped\n",
        "http://www.vox.com/2014/11/11/7187319/comcast-customer-service?utm_medium=social&utm_source=twitter&utm_campaign=vox&utm_content=article-share-top scraped"
       ]
      },
      {
       "output_type": "stream",
       "stream": "stdout",
       "text": [
        "\n",
        "159 urls scraped\n",
        "http://ab.co/1uWOI13 scraped"
       ]
      },
      {
       "output_type": "stream",
       "stream": "stdout",
       "text": [
        "\n",
        "160 urls scraped\n",
        "http://www.theguardian.com/technology/2014/nov/10/cable-companies-obama-net-neutrality-proposals-fcc-fight?CMP=share_btn_tw scraped"
       ]
      },
      {
       "output_type": "stream",
       "stream": "stdout",
       "text": [
        "\n",
        "161 urls scraped\n",
        "http://share.credoaction.com/85267292t?referring_akid=.5162420.8JRCQO scraped"
       ]
      },
      {
       "output_type": "stream",
       "stream": "stdout",
       "text": [
        "\n",
        "162 urls scraped\n",
        "http://j.mp/1qCNhOX scraped"
       ]
      },
      {
       "output_type": "stream",
       "stream": "stdout",
       "text": [
        "\n",
        "163 urls scraped\n",
        "http://t.ted.com/7BD7FVO scraped"
       ]
      },
      {
       "output_type": "stream",
       "stream": "stdout",
       "text": [
        "\n",
        "164 urls scraped\n",
        "http://spok.al/pkq scraped"
       ]
      },
      {
       "output_type": "stream",
       "stream": "stdout",
       "text": [
        "\n",
        "165 urls scraped\n",
        "http://share.credoaction.com/85266938t?referring_akid=.4953612.TXshwq scraped"
       ]
      },
      {
       "output_type": "stream",
       "stream": "stdout",
       "text": [
        "\n",
        "166 urls scraped\n",
        "http://www.webpronews.com/obama-asks-fcc-to-reclassify-the-internet-2014-11 scraped"
       ]
      },
      {
       "output_type": "stream",
       "stream": "stdout",
       "text": [
        "\n",
        "167 urls scraped\n",
        "error scraping"
       ]
      },
      {
       "output_type": "stream",
       "stream": "stdout",
       "text": [
        "\n",
        "Exceeded 30 redirects.\n",
        "http://m.theatlantic.com/technology/archive/2014/05/net-neutralitys-little-known-hero-antonin-scalia/361315/ scraped"
       ]
      },
      {
       "output_type": "stream",
       "stream": "stdout",
       "text": [
        "\n",
        "168 urls scraped\n",
        "http://ow.ly/E8juQ scraped"
       ]
      },
      {
       "output_type": "stream",
       "stream": "stdout",
       "text": [
        "\n",
        "169 urls scraped\n",
        "http://www.theverge.com/2014/11/10/7187501/6-reasons-real-conservatives-should-defy-republicans-and-support-net scraped"
       ]
      },
      {
       "output_type": "stream",
       "stream": "stdout",
       "text": [
        "\n",
        "170 urls scraped\n",
        "http://www.democraticunderground.com/10025798397 scraped"
       ]
      },
      {
       "output_type": "stream",
       "stream": "stdout",
       "text": [
        "\n",
        "171 urls scraped\n",
        "http://ow.ly/E8gE7 scraped"
       ]
      },
      {
       "output_type": "stream",
       "stream": "stdout",
       "text": [
        "\n",
        "172 urls scraped\n",
        "http://stanford.io/149zjzl scraped"
       ]
      },
      {
       "output_type": "stream",
       "stream": "stdout",
       "text": [
        "\n",
        "173 urls scraped\n",
        "http://to.pbs.org/1xIFROn scraped"
       ]
      },
      {
       "output_type": "stream",
       "stream": "stdout",
       "text": [
        "\n",
        "174 urls scraped\n",
        "http://techcrunch.com/2014/11/11/the-oatmeal-addresses-net-neutrality-as-only-the-oatmeal-could/?ncid=rss&utm_source=feedburner&utm_medium=feed&utm_campaign=Feed%3A+Techcrunch+%28TechCrunch%29 scraped"
       ]
      },
      {
       "output_type": "stream",
       "stream": "stdout",
       "text": [
        "\n",
        "175 urls scraped\n",
        "http://bit.ly/freethenet scraped"
       ]
      },
      {
       "output_type": "stream",
       "stream": "stdout",
       "text": [
        "\n",
        "176 urls scraped\n",
        "http://j.mp/10RRNCi scraped"
       ]
      },
      {
       "output_type": "stream",
       "stream": "stdout",
       "text": [
        "\n",
        "177 urls scraped\n",
        "http://dlvr.it/7TzQVr scraped"
       ]
      },
      {
       "output_type": "stream",
       "stream": "stdout",
       "text": [
        "\n",
        "178 urls scraped\n",
        "http://www.whitehouse.gov//blog/2014/11/10/reddit-q scraped"
       ]
      },
      {
       "output_type": "stream",
       "stream": "stdout",
       "text": [
        "\n",
        "179 urls scraped\n",
        "error scraping"
       ]
      },
      {
       "output_type": "stream",
       "stream": "stdout",
       "text": [
        "\n",
        "hostname 'time.com' doesn't match either of '*.wordpress.com', 'wordpress.com'\n",
        "http://ofa.bo/r1Vk scraped"
       ]
      },
      {
       "output_type": "stream",
       "stream": "stdout",
       "text": [
        "\n",
        "180 urls scraped\n",
        "http://bit.ly/1sAcOJl scraped"
       ]
      },
      {
       "output_type": "stream",
       "stream": "stdout",
       "text": [
        "\n",
        "181 urls scraped\n",
        "http://wp.me/p5HMd-f0RN scraped"
       ]
      },
      {
       "output_type": "stream",
       "stream": "stdout",
       "text": [
        "\n",
        "182 urls scraped\n",
        "http://www.vox.com/2014/11/10/7187281/9-questions-about-network-neutrality-you-were-too-embarrassed-to-ask?utm_medium=social&utm_source=twitter&utm_campaign=vox&utm_content=article-share-top scraped"
       ]
      },
      {
       "output_type": "stream",
       "stream": "stdout",
       "text": [
        "\n",
        "183 urls scraped\n",
        "http://time.com/3576010/net-neutrality-barack-obama-fcc-open-internet/ scraped"
       ]
      },
      {
       "output_type": "stream",
       "stream": "stdout",
       "text": [
        "\n",
        "184 urls scraped\n",
        "http://bv.ms/1ujx325 scraped"
       ]
      },
      {
       "output_type": "stream",
       "stream": "stdout",
       "text": [
        "\n",
        "185 urls scraped\n",
        "http://humanevents.com/2014/11/11/president-obama-calls-for-expanded-internet-regulation/?utm_source=hedaily&utm_medium=email&utm_campaign=nl scraped"
       ]
      },
      {
       "output_type": "stream",
       "stream": "stdout",
       "text": [
        "\n",
        "186 urls scraped\n",
        "http://ow.ly/E8iES scraped"
       ]
      },
      {
       "output_type": "stream",
       "stream": "stdout",
       "text": [
        "\n",
        "187 urls scraped\n",
        "http://share.credoaction.com/85265814t?referring_akid=.4131366.zZfJmW scraped"
       ]
      },
      {
       "output_type": "stream",
       "stream": "stdout",
       "text": [
        "\n",
        "188 urls scraped\n",
        "http://ow.ly/E7NMf scraped"
       ]
      },
      {
       "output_type": "stream",
       "stream": "stdout",
       "text": [
        "\n",
        "189 urls scraped\n",
        "error scraping"
       ]
      },
      {
       "output_type": "stream",
       "stream": "stdout",
       "text": [
        "\n",
        "Invalid status code\n",
        "http://www.csmonitor.com/USA/DC-Decoder/2014/1110/What-Obama-s-big-push-for-net-neutrality-means-video scraped"
       ]
      },
      {
       "output_type": "stream",
       "stream": "stdout",
       "text": [
        "\n",
        "190 urls scraped\n",
        "http://hubs.ly/y0hw0F0 scraped"
       ]
      },
      {
       "output_type": "stream",
       "stream": "stdout",
       "text": [
        "\n",
        "191 urls scraped\n",
        "http://bit.ly/1wQ73wg scraped"
       ]
      },
      {
       "output_type": "stream",
       "stream": "stdout",
       "text": [
        "\n",
        "192 urls scraped\n",
        "http://bit.ly/1sAcZmx scraped"
       ]
      },
      {
       "output_type": "stream",
       "stream": "stdout",
       "text": [
        "\n",
        "193 urls scraped\n",
        "http://share.credoaction.com/85265610t?referring_akid=.3382705.Nu0Euh scraped"
       ]
      },
      {
       "output_type": "stream",
       "stream": "stdout",
       "text": [
        "\n",
        "194 urls scraped\n",
        "http://ofa.bo/q1WI scraped"
       ]
      },
      {
       "output_type": "stream",
       "stream": "stdout",
       "text": [
        "\n",
        "195 urls scraped\n",
        "http://rare.us/story/dont-be-fooled-net-neutrality-is-all-about-cronyism/ scraped"
       ]
      },
      {
       "output_type": "stream",
       "stream": "stdout",
       "text": [
        "\n",
        "196 urls scraped\n",
        "http://share.credoaction.com/85265458t?referring_akid=.5201908.mHwm6t scraped"
       ]
      },
      {
       "output_type": "stream",
       "stream": "stdout",
       "text": [
        "\n",
        "197 urls scraped\n",
        "http://1.usa.gov/1zGSP2Z scraped"
       ]
      },
      {
       "output_type": "stream",
       "stream": "stdout",
       "text": [
        "\n",
        "198 urls scraped\n",
        "http://cbsn.ws/1tYV7pq scraped"
       ]
      },
      {
       "output_type": "stream",
       "stream": "stdout",
       "text": [
        "\n",
        "199 urls scraped\n",
        "http://share.credoaction.com/85265390t?referring_akid=.3810000.g5rgRk scraped"
       ]
      },
      {
       "output_type": "stream",
       "stream": "stdout",
       "text": [
        "\n",
        "200 urls scraped\n",
        "http://ift.tt/1sAcgD5 scraped"
       ]
      },
      {
       "output_type": "stream",
       "stream": "stdout",
       "text": [
        "\n",
        "201 urls scraped\n",
        "http://fb.me/3mqyr6PBa scraped"
       ]
      },
      {
       "output_type": "stream",
       "stream": "stdout",
       "text": [
        "\n",
        "202 urls scraped\n",
        "https://criticl.me/post/breaking-netneutrality-news-do-we-trust-president-obama-savetheinternet-1037 scraped"
       ]
      },
      {
       "output_type": "stream",
       "stream": "stdout",
       "text": [
        "\n",
        "203 urls scraped\n",
        "http://on.variety.com/1xsF7OQ scraped"
       ]
      },
      {
       "output_type": "stream",
       "stream": "stdout",
       "text": [
        "\n",
        "204 urls scraped\n",
        "http://talkingpointsmemo.com/idealab/european-parliament-adopts-net-neutrality-law scraped"
       ]
      },
      {
       "output_type": "stream",
       "stream": "stdout",
       "text": [
        "\n",
        "205 urls scraped\n",
        "http://share.credoaction.com/85265079t?referring_akid=.2243938.gB3K1Z scraped"
       ]
      },
      {
       "output_type": "stream",
       "stream": "stdout",
       "text": [
        "\n",
        "206 urls scraped\n",
        "http://fb.me/1z3pSImXI scraped"
       ]
      },
      {
       "output_type": "stream",
       "stream": "stdout",
       "text": [
        "\n",
        "207 urls scraped\n",
        "http://share.credoaction.com/85265035t?referring_akid=.2347786.ZMVNxc scraped"
       ]
      },
      {
       "output_type": "stream",
       "stream": "stdout",
       "text": [
        "\n",
        "208 urls scraped\n",
        "http://m.twitter.com/BarackObama scraped"
       ]
      },
      {
       "output_type": "stream",
       "stream": "stdout",
       "text": [
        "\n",
        "209 urls scraped\n",
        "http://www.buzzfeed.com/rruby44/seriously-though-all-republicans-should-demand-n-ngwr scraped"
       ]
      },
      {
       "output_type": "stream",
       "stream": "stdout",
       "text": [
        "\n",
        "210 urls scraped\n",
        "http://www.theverge.com/2014/11/7/7173511/colorado-towns-vote-for-right-to-build-broadband-internet scraped"
       ]
      },
      {
       "output_type": "stream",
       "stream": "stdout",
       "text": [
        "\n",
        "211 urls scraped\n",
        "http://buff.ly/1GJZBHf scraped"
       ]
      },
      {
       "output_type": "stream",
       "stream": "stdout",
       "text": [
        "\n",
        "212 urls scraped\n",
        "https://www.techdirt.com/articles/20140910/17200628487/comcast-continues-to-pretend-to-support-net-neutrality-with-misleading-claims.shtml scraped"
       ]
      },
      {
       "output_type": "stream",
       "stream": "stdout",
       "text": [
        "\n",
        "213 urls scraped\n",
        "http://ow.ly/E7t56 scraped"
       ]
      },
      {
       "output_type": "stream",
       "stream": "stdout",
       "text": [
        "\n",
        "214 urls scraped\n",
        "http://nyti.ms/1uT8ACd scraped"
       ]
      },
      {
       "output_type": "stream",
       "stream": "stdout",
       "text": [
        "\n",
        "215 urls scraped\n",
        "error scraping"
       ]
      },
      {
       "output_type": "stream",
       "stream": "stdout",
       "text": [
        "\n",
        "hostname 'time.com' doesn't match either of '*.wordpress.com', 'wordpress.com'\n",
        "http://share.credoaction.com/85264784t?referring_akid=.4292125.v13swB scraped"
       ]
      },
      {
       "output_type": "stream",
       "stream": "stdout",
       "text": [
        "\n",
        "216 urls scraped\n",
        "http://ow.ly/E8hY4 scraped"
       ]
      },
      {
       "output_type": "stream",
       "stream": "stdout",
       "text": [
        "\n",
        "217 urls scraped\n",
        "http://ow.ly/E8hKc scraped"
       ]
      },
      {
       "output_type": "stream",
       "stream": "stdout",
       "text": [
        "\n",
        "218 urls scraped\n",
        "http://s.hbr.org/1qCAA6w scraped"
       ]
      },
      {
       "output_type": "stream",
       "stream": "stdout",
       "text": [
        "\n",
        "219 urls scraped\n",
        "http://www.forbes.com/sites/waynecrews/2014/11/10/president-obamas-net-neutrality-plan-to-regulate-google-and-internet-content-providers/ scraped"
       ]
      },
      {
       "output_type": "stream",
       "stream": "stdout",
       "text": [
        "\n",
        "220 urls scraped\n",
        "http://www.libertarianism.org/media/free-thoughts/internet-doesnt-need-be-saved scraped"
       ]
      },
      {
       "output_type": "stream",
       "stream": "stdout",
       "text": [
        "\n",
        "221 urls scraped\n",
        "http://chw.ag/1yvwh1c scraped"
       ]
      },
      {
       "output_type": "stream",
       "stream": "stdout",
       "text": [
        "\n",
        "222 urls scraped\n",
        "http://osf.to/10LQjcz scraped"
       ]
      },
      {
       "output_type": "stream",
       "stream": "stdout",
       "text": [
        "\n",
        "223 urls scraped\n",
        "http://time.com/3578385/did-president-obama-just-break-the-internet/ scraped"
       ]
      },
      {
       "output_type": "stream",
       "stream": "stdout",
       "text": [
        "\n",
        "224 urls scraped\n",
        "error scraping"
       ]
      },
      {
       "output_type": "stream",
       "stream": "stdout",
       "text": [
        "\n",
        "hostname 'time.com' doesn't match either of '*.wordpress.com', 'wordpress.com'\n",
        "http://avc.com/ scraped"
       ]
      },
      {
       "output_type": "stream",
       "stream": "stdout",
       "text": [
        "\n",
        "225 urls scraped\n",
        "error scraping"
       ]
      },
      {
       "output_type": "stream",
       "stream": "stdout",
       "text": [
        "\n",
        "hostname 'time.com' doesn't match either of '*.wordpress.com', 'wordpress.com'\n",
        "error scraping"
       ]
      },
      {
       "output_type": "stream",
       "stream": "stdout",
       "text": [
        "\n",
        "hostname 'time.com' doesn't match either of '*.wordpress.com', 'wordpress.com'\n",
        "error scraping"
       ]
      },
      {
       "output_type": "stream",
       "stream": "stdout",
       "text": [
        "\n",
        "hostname 'time.com' doesn't match either of '*.wordpress.com', 'wordpress.com'\n",
        "http://consumerist.com/2014/03/11/comcast-goes-on-capitol-hill-spending-spree-in-advance-of-merger-hearings/ scraped"
       ]
      },
      {
       "output_type": "stream",
       "stream": "stdout",
       "text": [
        "\n",
        "226 urls scraped\n",
        "http://j.mp/1zIMlkr scraped"
       ]
      },
      {
       "output_type": "stream",
       "stream": "stdout",
       "text": [
        "\n",
        "227 urls scraped\n",
        "http://www.forbes.com/sites/joshsteimle/2014/05/14/am-i-the-only-techie-against-net-neutrality/ scraped"
       ]
      },
      {
       "output_type": "stream",
       "stream": "stdout",
       "text": [
        "\n",
        "228 urls scraped\n",
        "http://www.latimes.com/business/technology/la-fi-tn-net-neutrality-obama-fcc-internet-20141110-story.html scraped"
       ]
      },
      {
       "output_type": "stream",
       "stream": "stdout",
       "text": [
        "\n",
        "229 urls scraped\n",
        "http://ht.ly/E6yUt scraped"
       ]
      },
      {
       "output_type": "stream",
       "stream": "stdout",
       "text": [
        "\n",
        "230 urls scraped\n",
        "http://on.recode.net/1u7o3gG scraped"
       ]
      },
      {
       "output_type": "stream",
       "stream": "stdout",
       "text": [
        "\n",
        "231 urls scraped\n",
        "error scraping"
       ]
      },
      {
       "output_type": "stream",
       "stream": "stdout",
       "text": [
        "\n",
        "hostname 'time.com' doesn't match either of '*.wordpress.com', 'wordpress.com'\n",
        "http://fb.me/3hYhWYBKm scraped"
       ]
      },
      {
       "output_type": "stream",
       "stream": "stdout",
       "text": [
        "\n",
        "232 urls scraped\n",
        "http://avc.com/2014/11/internet-freedom-2/ scraped"
       ]
      },
      {
       "output_type": "stream",
       "stream": "stdout",
       "text": [
        "\n",
        "233 urls scraped\n",
        "http://evpo.st/1B3aIe7 scraped"
       ]
      },
      {
       "output_type": "stream",
       "stream": "stdout",
       "text": [
        "\n",
        "234 urls scraped\n",
        "http://goo.gl/1SRz2j scraped"
       ]
      },
      {
       "output_type": "stream",
       "stream": "stdout",
       "text": [
        "\n",
        "235 urls scraped\n",
        "http://1.usa.gov/1uWgV8S scraped"
       ]
      },
      {
       "output_type": "stream",
       "stream": "stdout",
       "text": [
        "\n",
        "236 urls scraped\n",
        "http://bit.ly/1EyaHNq scraped"
       ]
      },
      {
       "output_type": "stream",
       "stream": "stdout",
       "text": [
        "\n",
        "237 urls scraped\n",
        "error scraping"
       ]
      },
      {
       "output_type": "stream",
       "stream": "stdout",
       "text": [
        "\n",
        "hostname 'time.com' doesn't match either of '*.wordpress.com', 'wordpress.com'\n",
        "error scraping"
       ]
      },
      {
       "output_type": "stream",
       "stream": "stdout",
       "text": [
        "\n",
        "hostname 'time.com' doesn't match either of '*.wordpress.com', 'wordpress.com'\n",
        "http://onforb.es/1niGrli scraped"
       ]
      },
      {
       "output_type": "stream",
       "stream": "stdout",
       "text": [
        "\n",
        "238 urls scraped\n",
        "http://share.credoaction.com/85263440t?referring_akid=.4447542.0y1aY7 scraped"
       ]
      },
      {
       "output_type": "stream",
       "stream": "stdout",
       "text": [
        "\n",
        "239 urls scraped\n",
        "http://ow.ly/E8f3i scraped"
       ]
      },
      {
       "output_type": "stream",
       "stream": "stdout",
       "text": [
        "\n",
        "240 urls scraped\n",
        "http://propub.ca/1xu1NOZ scraped"
       ]
      },
      {
       "output_type": "stream",
       "stream": "stdout",
       "text": [
        "\n",
        "241 urls scraped\n",
        "http://wp.me/p2jID4-40s scraped"
       ]
      },
      {
       "output_type": "stream",
       "stream": "stdout",
       "text": [
        "\n",
        "242 urls scraped\n",
        "http://share.credoaction.com/85263238t?referring_akid=.6570833.UITwnZ scraped"
       ]
      },
      {
       "output_type": "stream",
       "stream": "stdout",
       "text": [
        "\n",
        "243 urls scraped\n",
        "http://venturebeat.com/2014/11/10/obama-endorses-net-neutrality-asks-fcc-to-reclassify-the-internet-as-a-utility/ scraped"
       ]
      },
      {
       "output_type": "stream",
       "stream": "stdout",
       "text": [
        "\n",
        "244 urls scraped\n",
        "http://strib.mn/1uWGLsP scraped"
       ]
      },
      {
       "output_type": "stream",
       "stream": "stdout",
       "text": [
        "\n",
        "245 urls scraped\n",
        "http://buswk.co/1uYF0LK scraped"
       ]
      },
      {
       "output_type": "stream",
       "stream": "stdout",
       "text": [
        "\n",
        "246 urls scraped\n",
        "https://medium.com/@jaspar/c1a8e8dc6801?source=tw-c5310e9d5802-1415732719190 scraped"
       ]
      },
      {
       "output_type": "stream",
       "stream": "stdout",
       "text": [
        "\n",
        "247 urls scraped\n",
        "http://goo.gl/news/TmVm9 scraped"
       ]
      },
      {
       "output_type": "stream",
       "stream": "stdout",
       "text": [
        "\n",
        "248 urls scraped\n",
        "http://goo.gl/rVpm2R scraped"
       ]
      },
      {
       "output_type": "stream",
       "stream": "stdout",
       "text": [
        "\n",
        "249 urls scraped\n",
        "https://plus.google.com/108085959008508785903/posts/F4fLEk1yRXv scraped"
       ]
      },
      {
       "output_type": "stream",
       "stream": "stdout",
       "text": [
        "\n",
        "250 urls scraped\n",
        "http://bit.ly/1uUMT4I scraped"
       ]
      },
      {
       "output_type": "stream",
       "stream": "stdout",
       "text": [
        "\n",
        "251 urls scraped\n",
        "http://ow.ly/E8aiJ scraped"
       ]
      },
      {
       "output_type": "stream",
       "stream": "stdout",
       "text": [
        "\n",
        "252 urls scraped\n",
        "http://ow.ly/E8ar0 scraped"
       ]
      },
      {
       "output_type": "stream",
       "stream": "stdout",
       "text": [
        "\n",
        "253 urls scraped\n",
        "http://ow.ly/E7rEc scraped"
       ]
      },
      {
       "output_type": "stream",
       "stream": "stdout",
       "text": [
        "\n",
        "254 urls scraped\n",
        "http://ow.ly/E7rEj scraped"
       ]
      },
      {
       "output_type": "stream",
       "stream": "stdout",
       "text": [
        "\n",
        "255 urls scraped\n",
        "http://ofa.bo/e1Th scraped"
       ]
      },
      {
       "output_type": "stream",
       "stream": "stdout",
       "text": [
        "\n",
        "256 urls scraped\n",
        "http://ow.ly/E86HY scraped"
       ]
      },
      {
       "output_type": "stream",
       "stream": "stdout",
       "text": [
        "\n",
        "257 urls scraped\n",
        "http://tch.fm/NNDebate scraped"
       ]
      },
      {
       "output_type": "stream",
       "stream": "stdout",
       "text": [
        "\n",
        "258 urls scraped\n",
        "http://techcrunch.com/2014/11/11/the-oatmeal-addresses-net-neutrality-as-only-the-oatmeal-could/?ncid=rss scraped"
       ]
      },
      {
       "output_type": "stream",
       "stream": "stdout",
       "text": [
        "\n",
        "259 urls scraped\n",
        "http://time.com/3578255/conservatives-net-neutrality-poll/ scraped"
       ]
      },
      {
       "output_type": "stream",
       "stream": "stdout",
       "text": [
        "\n",
        "260 urls scraped\n",
        "http://www.whitehouse.gov/net-neutrality scraped"
       ]
      },
      {
       "output_type": "stream",
       "stream": "stdout",
       "text": [
        "\n",
        "261 urls scraped\n",
        "http://share.credoaction.com/85261269t?referring_akid=.5469533.t-nm9z scraped"
       ]
      },
      {
       "output_type": "stream",
       "stream": "stdout",
       "text": [
        "\n",
        "262 urls scraped\n",
        "http://on.thestar.com/1pErGad scraped"
       ]
      },
      {
       "output_type": "stream",
       "stream": "stdout",
       "text": [
        "\n",
        "263 urls scraped\n",
        "http://www.networkworld.com/article/2846433/infrastructure-management/internet-sales-tax-bill-dead-in-congress.html#tk.rss_all scraped"
       ]
      },
      {
       "output_type": "stream",
       "stream": "stdout",
       "text": [
        "\n",
        "264 urls scraped\n",
        "error scraping"
       ]
      },
      {
       "output_type": "stream",
       "stream": "stdout",
       "text": [
        "\n",
        "'content-type'\n",
        "http://share.credoaction.com/85262454t?referring_akid=.5668975.NU7N5c scraped"
       ]
      },
      {
       "output_type": "stream",
       "stream": "stdout",
       "text": [
        "\n",
        "265 urls scraped\n",
        "http://share.credoaction.com/85262377t?referring_akid=.5570713._pnUUW scraped"
       ]
      },
      {
       "output_type": "stream",
       "stream": "stdout",
       "text": [
        "\n",
        "266 urls scraped\n",
        "http://nyti.ms/1AVr608 scraped"
       ]
      },
      {
       "output_type": "stream",
       "stream": "stdout",
       "text": [
        "\n",
        "267 urls scraped\n",
        "http://ctt.ec/aEMb3+ scraped"
       ]
      },
      {
       "output_type": "stream",
       "stream": "stdout",
       "text": [
        "\n",
        "268 urls scraped\n",
        "http://cble.co/10QS4Fv scraped"
       ]
      },
      {
       "output_type": "stream",
       "stream": "stdout",
       "text": [
        "\n",
        "269 urls scraped\n",
        "http://www.npr.org/blogs/alltechconsidered/2014/07/21/332678802/one-million-net-neutrality-comments-filed-but-will-they-matter scraped"
       ]
      },
      {
       "output_type": "stream",
       "stream": "stdout",
       "text": [
        "\n",
        "270 urls scraped\n",
        "http://ow.ly/E8fTR scraped"
       ]
      },
      {
       "output_type": "stream",
       "stream": "stdout",
       "text": [
        "\n",
        "271 urls scraped\n",
        "http://www.nytimes.com/video/technology/100000002881329/how-net-neutrality-works.html?smid=tw-share scraped"
       ]
      },
      {
       "output_type": "stream",
       "stream": "stdout",
       "text": [
        "\n",
        "272 urls scraped\n",
        "http://variety.com/2014/biz/news/obamas-net-neutrality-stance-may-spur-more-boisterous-partisan-debate-1201352913/ scraped"
       ]
      },
      {
       "output_type": "stream",
       "stream": "stdout",
       "text": [
        "\n",
        "273 urls scraped\n",
        "error scraping"
       ]
      },
      {
       "output_type": "stream",
       "stream": "stdout",
       "text": [
        "\n",
        "hostname 'gigaom.com' doesn't match either of '*.wordpress.com', 'wordpress.com'\n",
        "http://theskimm.com/2014/11/11/skimm-for-november-11th-2?jumpto=top-story&utm_source=twitter&utm_medium=emailshare scraped"
       ]
      },
      {
       "output_type": "stream",
       "stream": "stdout",
       "text": [
        "\n",
        "274 urls scraped\n",
        "http://ow.ly/E7lXV scraped"
       ]
      },
      {
       "output_type": "stream",
       "stream": "stdout",
       "text": [
        "\n",
        "275 urls scraped\n",
        "https://vine.co/v/OiHTdOwWxxz scraped"
       ]
      },
      {
       "output_type": "stream",
       "stream": "stdout",
       "text": [
        "\n",
        "276 urls scraped\n",
        "http://ti.me/1GMi1XV scraped"
       ]
      },
      {
       "output_type": "stream",
       "stream": "stdout",
       "text": [
        "\n",
        "277 urls scraped\n",
        "http://to.pbs.org/1xs2QyG scraped"
       ]
      },
      {
       "output_type": "stream",
       "stream": "stdout",
       "text": [
        "\n",
        "278 urls scraped\n",
        "http://ow.ly/E7gKN scraped"
       ]
      },
      {
       "output_type": "stream",
       "stream": "stdout",
       "text": [
        "\n",
        "279 urls scraped\n",
        "http://share.credoaction.com/85261558t?referring_akid=.5626048.M2SvKe scraped"
       ]
      },
      {
       "output_type": "stream",
       "stream": "stdout",
       "text": [
        "\n",
        "280 urls scraped\n",
        "http://fb.me/1CcyncRvI scraped"
       ]
      },
      {
       "output_type": "stream",
       "stream": "stdout",
       "text": [
        "\n",
        "281 urls scraped\n",
        "http://dlvr.it/7Tywt8 scraped"
       ]
      },
      {
       "output_type": "stream",
       "stream": "stdout",
       "text": [
        "\n",
        "282 urls scraped\n",
        "http://share.credoaction.com/85261542t?referring_akid=.6729019._3MGp8 scraped"
       ]
      },
      {
       "output_type": "stream",
       "stream": "stdout",
       "text": [
        "\n",
        "283 urls scraped\n",
        "http://share.credoaction.com/85261460t?referring_akid=.7978763.n3Vt4D scraped"
       ]
      },
      {
       "output_type": "stream",
       "stream": "stdout",
       "text": [
        "\n",
        "284 urls scraped\n",
        "http://bit.ly/1GMgTDN scraped"
       ]
      },
      {
       "output_type": "stream",
       "stream": "stdout",
       "text": [
        "\n",
        "285 urls scraped\n",
        "http://www.freepress.net/blog/2014/11/11/lawmakers-tweet-their-support-obamas-netneutrality-statement scraped"
       ]
      },
      {
       "output_type": "stream",
       "stream": "stdout",
       "text": [
        "\n",
        "286 urls scraped\n",
        "http://www.breitbart.com/Big-Government/2014/11/11/How-The-White-House-Reddit-AMA-on-Net-Neutrality-Went-Horribly-Wrong?utm_source=twitterfeed&utm_medium=twitter scraped"
       ]
      },
      {
       "output_type": "stream",
       "stream": "stdout",
       "text": [
        "\n",
        "287 urls scraped\n",
        "error scraping"
       ]
      },
      {
       "output_type": "stream",
       "stream": "stdout",
       "text": [
        "\n",
        "Exceeded 30 redirects.\n",
        "http://fw.to/K7RXyuQ scraped"
       ]
      },
      {
       "output_type": "stream",
       "stream": "stdout",
       "text": [
        "\n",
        "288 urls scraped\n",
        "http://www.youtube.com/watch?v=qbXG14N5Ln0&sns=tw scraped"
       ]
      },
      {
       "output_type": "stream",
       "stream": "stdout",
       "text": [
        "\n",
        "289 urls scraped\n",
        "http://video.cnbc.com/gallery/?video=3000329017 scraped"
       ]
      },
      {
       "output_type": "stream",
       "stream": "stdout",
       "text": [
        "\n",
        "290 urls scraped\n",
        "http://bit.ly/11eWaZ8 scraped"
       ]
      },
      {
       "output_type": "stream",
       "stream": "stdout",
       "text": [
        "\n",
        "291 urls scraped\n",
        "http://ow.ly/E5iky scraped"
       ]
      },
      {
       "output_type": "stream",
       "stream": "stdout",
       "text": [
        "\n",
        "292 urls scraped\n",
        "http://share.credoaction.com/85260159t?referring_akid=.1594900.Bj0mNq scraped"
       ]
      },
      {
       "output_type": "stream",
       "stream": "stdout",
       "text": [
        "\n",
        "293 urls scraped\n",
        "http://ofa.bo/i1Uy scraped"
       ]
      },
      {
       "output_type": "stream",
       "stream": "stdout",
       "text": [
        "\n",
        "294 urls scraped\n",
        "error scraping"
       ]
      },
      {
       "output_type": "stream",
       "stream": "stdout",
       "text": [
        "\n",
        "Exceeded 30 redirects.\n",
        "http://bloom.bg/1xnlhDI scraped"
       ]
      },
      {
       "output_type": "stream",
       "stream": "stdout",
       "text": [
        "\n",
        "295 urls scraped\n",
        "http://goo.gl/ynOCJ2 scraped"
       ]
      },
      {
       "output_type": "stream",
       "stream": "stdout",
       "text": [
        "\n",
        "296 urls scraped\n",
        "http://instagram.com/p/vRT07aqrPk/ scraped"
       ]
      },
      {
       "output_type": "stream",
       "stream": "stdout",
       "text": [
        "\n",
        "297 urls scraped\n",
        "http://www.instagram.com/iamdangelo scraped"
       ]
      },
      {
       "output_type": "stream",
       "stream": "stdout",
       "text": [
        "\n",
        "298 urls scraped\n",
        "http://share.credoaction.com/85260017t?referring_akid=.3191690.LbqB6t scraped"
       ]
      },
      {
       "output_type": "stream",
       "stream": "stdout",
       "text": [
        "\n",
        "299 urls scraped\n",
        "https://www.barackobama.com/net-neutrality/?source=ssn_TW_OFA_20141110_NH_net-neutrality_sign-up_NH0012&utm_medium=ssn&utm_source=TW&utm_campaign=ssn_TW_OFA_20141110_NH_net-neutrality_sign-up_NH0012&utm_content=20141110_NH_net-neutrality_sign-up_NH0012 scraped"
       ]
      },
      {
       "output_type": "stream",
       "stream": "stdout",
       "text": [
        "\n",
        "300 urls scraped\n",
        "http://scrawford.net/blog/ scraped"
       ]
      },
      {
       "output_type": "stream",
       "stream": "stdout",
       "text": [
        "\n",
        "301 urls scraped\n",
        "http://www.fcc.gov/comments scraped"
       ]
      },
      {
       "output_type": "stream",
       "stream": "stdout",
       "text": [
        "\n",
        "302 urls scraped\n",
        "http://buff.ly/1oERAxt scraped"
       ]
      },
      {
       "output_type": "stream",
       "stream": "stdout",
       "text": [
        "\n",
        "303 urls scraped\n",
        "http://ow.ly/E8dU3 scraped"
       ]
      },
      {
       "output_type": "stream",
       "stream": "stdout",
       "text": [
        "\n",
        "304 urls scraped\n",
        "http://fxn.ws/1scb4Zi scraped"
       ]
      },
      {
       "output_type": "stream",
       "stream": "stdout",
       "text": [
        "\n",
        "305 urls scraped\n",
        "http://ofa.bo/j1U4 scraped"
       ]
      },
      {
       "output_type": "stream",
       "stream": "stdout",
       "text": [
        "\n",
        "306 urls scraped\n",
        "http://www.whitehouse.gov/blog/2014/11/10/president-obama-urges-fcc-implement-stronger-net-neutrality-rules scraped"
       ]
      },
      {
       "output_type": "stream",
       "stream": "stdout",
       "text": [
        "\n",
        "307 urls scraped\n",
        "http://to.pbs.org/149Boew scraped"
       ]
      },
      {
       "output_type": "stream",
       "stream": "stdout",
       "text": [
        "\n",
        "308 urls scraped\n",
        "http://goo.gl/fb/JEVsPM scraped"
       ]
      },
      {
       "output_type": "stream",
       "stream": "stdout",
       "text": [
        "\n",
        "309 urls scraped\n",
        "http://bit.ly/1zhG2kx scraped"
       ]
      },
      {
       "output_type": "stream",
       "stream": "stdout",
       "text": [
        "\n",
        "310 urls scraped\n",
        "error scraping"
       ]
      },
      {
       "output_type": "stream",
       "stream": "stdout",
       "text": [
        "\n",
        "Invalid status code\n",
        "https://www.youtube.com/watch?v=OrRmTTb8cbI scraped"
       ]
      },
      {
       "output_type": "stream",
       "stream": "stdout",
       "text": [
        "\n",
        "311 urls scraped\n",
        "http://share.credoaction.com/85259751t?referring_akid=.1719549.jZJg-y scraped"
       ]
      },
      {
       "output_type": "stream",
       "stream": "stdout",
       "text": [
        "\n",
        "312 urls scraped\n",
        "error scraping"
       ]
      },
      {
       "output_type": "stream",
       "stream": "stdout",
       "text": [
        "\n",
        "Page not text\n",
        "http://cnnmon.ie/1yraUOt scraped"
       ]
      },
      {
       "output_type": "stream",
       "stream": "stdout",
       "text": [
        "\n",
        "313 urls scraped\n",
        "http://bit.ly/1GMgFMI scraped"
       ]
      },
      {
       "output_type": "stream",
       "stream": "stdout",
       "text": [
        "\n",
        "314 urls scraped\n",
        "http://ofa.bo/d1S6 scraped"
       ]
      },
      {
       "output_type": "stream",
       "stream": "stdout",
       "text": [
        "\n",
        "315 urls scraped\n",
        "http://www.ethanzuckerman.com/blog/2013/02/12/who-let-all-those-ghanaians-on-the-internet-jenna-burrell-on-internet-exclusion/ scraped"
       ]
      },
      {
       "output_type": "stream",
       "stream": "stdout",
       "text": [
        "\n",
        "316 urls scraped\n",
        "http://on.mash.to/1B33J4R scraped"
       ]
      },
      {
       "output_type": "stream",
       "stream": "stdout",
       "text": [
        "\n",
        "317 urls scraped\n",
        "http://dlvr.it/7Tyc1C scraped"
       ]
      },
      {
       "output_type": "stream",
       "stream": "stdout",
       "text": [
        "\n",
        "318 urls scraped\n",
        "http://share.credoaction.com/85258922t?referring_akid=.4077352.QGJVyK scraped"
       ]
      },
      {
       "output_type": "stream",
       "stream": "stdout",
       "text": [
        "\n",
        "319 urls scraped\n",
        "http://www.bostonglobe.com/business/2014/11/10/obama-strikes-blow-for-net-neutrality-outraging-isps-and-heartening-advocates/aU8RtpLcW8amso7d9RGGPI/story.html scraped"
       ]
      },
      {
       "output_type": "stream",
       "stream": "stdout",
       "text": [
        "\n",
        "320 urls scraped\n",
        "http://phandroid.com/2014/11/10/the-oatmeal-ted-cruz-net-neutrality/ scraped"
       ]
      },
      {
       "output_type": "stream",
       "stream": "stdout",
       "text": [
        "\n",
        "321 urls scraped\n",
        "http://ow.ly/E5TCn scraped"
       ]
      },
      {
       "output_type": "stream",
       "stream": "stdout",
       "text": [
        "\n",
        "322 urls scraped\n",
        "https://www.theobjectivestandard.com/2014/01/court-correctly-rejects-rights-violating-net-neutrality-rules/ scraped"
       ]
      },
      {
       "output_type": "stream",
       "stream": "stdout",
       "text": [
        "\n",
        "323 urls scraped\n",
        "http://www.jamesjheaney.com/2014/09/15/why-free-marketeers-want-to-regulate-the-internet/ scraped"
       ]
      },
      {
       "output_type": "stream",
       "stream": "stdout",
       "text": [
        "\n",
        "324 urls scraped\n",
        "error scraping"
       ]
      },
      {
       "output_type": "stream",
       "stream": "stdout",
       "text": [
        "\n",
        "Invalid status code\n",
        "http://onforb.es/1nJdMVp scraped"
       ]
      },
      {
       "output_type": "stream",
       "stream": "stdout",
       "text": [
        "\n",
        "325 urls scraped\n",
        "http://ln.is/wh.gov/zfzY0 scraped"
       ]
      },
      {
       "output_type": "stream",
       "stream": "stdout",
       "text": [
        "\n",
        "326 urls scraped\n",
        "http://goo.gl/gWQ4cZ scraped"
       ]
      },
      {
       "output_type": "stream",
       "stream": "stdout",
       "text": [
        "\n",
        "327 urls scraped\n",
        "http://bloom.bg/1qBvDLe scraped"
       ]
      },
      {
       "output_type": "stream",
       "stream": "stdout",
       "text": [
        "\n",
        "328 urls scraped\n",
        "http://bit.ly/1yrJgBa scraped"
       ]
      },
      {
       "output_type": "stream",
       "stream": "stdout",
       "text": [
        "\n",
        "329 urls scraped\n",
        "https://www.youtube.com/watch?v=uKcjQPVwfDk scraped"
       ]
      },
      {
       "output_type": "stream",
       "stream": "stdout",
       "text": [
        "\n",
        "330 urls scraped\n",
        "http://arstechnica.com/business/2014/11/obama-urges-fcc-to-regulate-broadband-as-a-utility/ scraped"
       ]
      },
      {
       "output_type": "stream",
       "stream": "stdout",
       "text": [
        "\n",
        "331 urls scraped\n",
        "http://s.forr.com/KH2k scraped"
       ]
      },
      {
       "output_type": "stream",
       "stream": "stdout",
       "text": [
        "\n",
        "332 urls scraped\n",
        "http://imgur.com/gallery/WIX5h scraped"
       ]
      },
      {
       "output_type": "stream",
       "stream": "stdout",
       "text": [
        "\n",
        "333 urls scraped\n",
        "http://www.kgw.com/story/life/style/trending/2014/11/11/senator-net-neutrality-backfires/18847927/ scraped"
       ]
      },
      {
       "output_type": "stream",
       "stream": "stdout",
       "text": [
        "\n",
        "334 urls scraped\n",
        "http://share.credoaction.com/85258145t?referring_akid=.6519990.wFlE91 scraped"
       ]
      },
      {
       "output_type": "stream",
       "stream": "stdout",
       "text": [
        "\n",
        "335 urls scraped\n",
        "http://share.credoaction.com/85258125t?referring_akid=.5846286.Xbuwus scraped"
       ]
      },
      {
       "output_type": "stream",
       "stream": "stdout",
       "text": [
        "\n",
        "336 urls scraped\n",
        "http://share.credoaction.com/85257529t?referring_akid=.5328541.nZv-ob scraped"
       ]
      },
      {
       "output_type": "stream",
       "stream": "stdout",
       "text": [
        "\n",
        "337 urls scraped\n",
        "http://1.usa.gov/1uXoqfQ scraped"
       ]
      },
      {
       "output_type": "stream",
       "stream": "stdout",
       "text": [
        "\n",
        "338 urls scraped\n",
        "https://medium.com/@beautyon_/tim-berners-lee-is-wrong-we-dont-need-a-net-magna-carta-bf8eb25405e1 scraped"
       ]
      },
      {
       "output_type": "stream",
       "stream": "stdout",
       "text": [
        "\n",
        "339 urls scraped\n",
        "http://ow.ly/E5RhH scraped"
       ]
      },
      {
       "output_type": "stream",
       "stream": "stdout",
       "text": [
        "\n",
        "340 urls scraped\n",
        "error scraping"
       ]
      },
      {
       "output_type": "stream",
       "stream": "stdout",
       "text": [
        "\n",
        "Page not text\n",
        "http://share.credoaction.com/85257125t?referring_akid=.2298590.bT2J-0 scraped"
       ]
      },
      {
       "output_type": "stream",
       "stream": "stdout",
       "text": [
        "\n",
        "341 urls scraped\n",
        "http://share.credoaction.com/85257120t?referring_akid=.3830997.lMa9mp scraped"
       ]
      },
      {
       "output_type": "stream",
       "stream": "stdout",
       "text": [
        "\n",
        "342 urls scraped\n",
        "http://www.popularresistance.org/breaking-net-neutrality-activists-blockade-fcc-chairman-tom-wheelers-house/ scraped"
       ]
      },
      {
       "output_type": "stream",
       "stream": "stdout",
       "text": [
        "\n",
        "343 urls scraped\n",
        "http://bit.ly/1u7fYIR scraped"
       ]
      },
      {
       "output_type": "stream",
       "stream": "stdout",
       "text": [
        "\n",
        "344 urls scraped\n",
        "http://bit.ly/10PlKD1 scraped"
       ]
      },
      {
       "output_type": "stream",
       "stream": "stdout",
       "text": [
        "\n",
        "345 urls scraped\n",
        "error scraping"
       ]
      },
      {
       "output_type": "stream",
       "stream": "stdout",
       "text": [
        "\n",
        "Page not text\n",
        "http://fb.me/79bwxVYWQ scraped"
       ]
      },
      {
       "output_type": "stream",
       "stream": "stdout",
       "text": [
        "\n",
        "346 urls scraped\n",
        "http://share.credoaction.com/85256344t?referring_akid=.1346673.-3E6sa scraped"
       ]
      },
      {
       "output_type": "stream",
       "stream": "stdout",
       "text": [
        "\n",
        "347 urls scraped\n",
        "http://ow.ly/E7tdY scraped"
       ]
      },
      {
       "output_type": "stream",
       "stream": "stdout",
       "text": [
        "\n",
        "348 urls scraped\n",
        "http://bit.ly/1pL7Spq scraped"
       ]
      },
      {
       "output_type": "stream",
       "stream": "stdout",
       "text": [
        "\n",
        "349 urls scraped\n",
        "http://ow.ly/E7te2 scraped"
       ]
      },
      {
       "output_type": "stream",
       "stream": "stdout",
       "text": [
        "\n",
        "350 urls scraped\n",
        "http://ow.ly/E7tAY scraped"
       ]
      },
      {
       "output_type": "stream",
       "stream": "stdout",
       "text": [
        "\n",
        "351 urls scraped\n",
        "http://ow.ly/E7tKS scraped"
       ]
      },
      {
       "output_type": "stream",
       "stream": "stdout",
       "text": [
        "\n",
        "352 urls scraped\n",
        "http://ow.ly/E7tKU scraped"
       ]
      },
      {
       "output_type": "stream",
       "stream": "stdout",
       "text": [
        "\n",
        "353 urls scraped\n",
        "http://ow.ly/E7tsO scraped"
       ]
      },
      {
       "output_type": "stream",
       "stream": "stdout",
       "text": [
        "\n",
        "354 urls scraped\n",
        "http://ow.ly/E7tSR scraped"
       ]
      },
      {
       "output_type": "stream",
       "stream": "stdout",
       "text": [
        "\n",
        "355 urls scraped\n",
        "http://ow.ly/E7tsI scraped"
       ]
      },
      {
       "output_type": "stream",
       "stream": "stdout",
       "text": [
        "\n",
        "356 urls scraped\n",
        "http://ow.ly/E7tB5 scraped"
       ]
      },
      {
       "output_type": "stream",
       "stream": "stdout",
       "text": [
        "\n",
        "357 urls scraped\n",
        "http://www.swisscom.ch/en/about/medien/press-releases/2014/11/20141107-MM-Netzneutralitat.html scraped"
       ]
      },
      {
       "output_type": "stream",
       "stream": "stdout",
       "text": [
        "\n",
        "358 urls scraped\n",
        "http://ow.ly/E7t5c scraped"
       ]
      },
      {
       "output_type": "stream",
       "stream": "stdout",
       "text": [
        "\n",
        "359 urls scraped\n",
        "https://twitter.com/Coondawg68/status/531996987663454208 scraped"
       ]
      },
      {
       "output_type": "stream",
       "stream": "stdout",
       "text": [
        "\n",
        "360 urls scraped\n",
        "http://share.credoaction.com/85255083t?referring_akid=.2601862.xfeZ3k scraped"
       ]
      },
      {
       "output_type": "stream",
       "stream": "stdout",
       "text": [
        "\n",
        "361 urls scraped\n",
        "http://ow.ly/i/7xW7B scraped"
       ]
      },
      {
       "output_type": "stream",
       "stream": "stdout",
       "text": [
        "\n",
        "362 urls scraped\n",
        "http://dailycaller.com/2014/10/29/government-twitter-censor-study-researchers-sought-to-exclusively-ban-conservative-accounts/ scraped"
       ]
      },
      {
       "output_type": "stream",
       "stream": "stdout",
       "text": [
        "\n",
        "363 urls scraped\n",
        "error scraping"
       ]
      },
      {
       "output_type": "stream",
       "stream": "stdout",
       "text": [
        "\n",
        "Invalid status code\n",
        "http://www.dailymail.co.uk/news/article-2828549/Obama-asks-FCC-strong-net-neutrality-rules.html scraped"
       ]
      },
      {
       "output_type": "stream",
       "stream": "stdout",
       "text": [
        "\n",
        "364 urls scraped\n",
        "http://gu.com/p/43787/stw scraped"
       ]
      },
      {
       "output_type": "stream",
       "stream": "stdout",
       "text": [
        "\n",
        "365 urls scraped\n",
        "error scraping"
       ]
      },
      {
       "output_type": "stream",
       "stream": "stdout",
       "text": [
        "\n",
        "Page not text\n",
        "http://www.theblaze.com/stories/2014/11/10/obamacare-architect-stupidity-of-the-american-voter-was-critical-to-passing-the-law/?utm_source=TheBlaze.com&utm_medium=rss&utm_campaign=story&utm_content=obamacare-architect-stupidity-of-the-american-voter-was-critical-to-passing-the-law scraped"
       ]
      },
      {
       "output_type": "stream",
       "stream": "stdout",
       "text": [
        "\n",
        "366 urls scraped\n",
        "http://1.q4a.us/9Jy scraped"
       ]
      },
      {
       "output_type": "stream",
       "stream": "stdout",
       "text": [
        "\n",
        "367 urls scraped\n",
        "http://archive.theskimm.com/2014/11/11/skimm-for-november-11th-2/ scraped"
       ]
      },
      {
       "output_type": "stream",
       "stream": "stdout",
       "text": [
        "\n",
        "368 urls scraped\n",
        "http://goo.gl/zkqpjx scraped"
       ]
      },
      {
       "output_type": "stream",
       "stream": "stdout",
       "text": [
        "\n",
        "369 urls scraped\n",
        "http://bit.ly/1suAY6Q scraped"
       ]
      },
      {
       "output_type": "stream",
       "stream": "stdout",
       "text": [
        "\n",
        "370 urls scraped\n",
        "http://dlvr.it/7TyRBn scraped"
       ]
      },
      {
       "output_type": "stream",
       "stream": "stdout",
       "text": [
        "\n",
        "371 urls scraped\n",
        "http://econ.st/1B1MbGl scraped"
       ]
      },
      {
       "output_type": "stream",
       "stream": "stdout",
       "text": [
        "\n",
        "372 urls scraped\n",
        "http://theverge.com/e/6954150 scraped"
       ]
      },
      {
       "output_type": "stream",
       "stream": "stdout",
       "text": [
        "\n",
        "373 urls scraped\n",
        "http://dlvr.it/7TyR7d scraped"
       ]
      },
      {
       "output_type": "stream",
       "stream": "stdout",
       "text": [
        "\n",
        "374 urls scraped\n",
        "http://dlvr.it/7TyMf4 scraped"
       ]
      },
      {
       "output_type": "stream",
       "stream": "stdout",
       "text": [
        "\n",
        "375 urls scraped\n",
        "http://ln.is/buff.ly/mmN2O scraped"
       ]
      },
      {
       "output_type": "stream",
       "stream": "stdout",
       "text": [
        "\n",
        "376 urls scraped\n",
        "http://dlvr.it/7TyKLp scraped"
       ]
      },
      {
       "output_type": "stream",
       "stream": "stdout",
       "text": [
        "\n",
        "377 urls scraped\n",
        "http://dlvr.it/7TyK61 scraped"
       ]
      },
      {
       "output_type": "stream",
       "stream": "stdout",
       "text": [
        "\n",
        "378 urls scraped\n",
        "http://share.credoaction.com/85254629t?referring_akid=.7644183.EAJ5ou scraped"
       ]
      },
      {
       "output_type": "stream",
       "stream": "stdout",
       "text": [
        "\n",
        "379 urls scraped\n",
        "http://on.mash.to/1B2Ysdq scraped"
       ]
      },
      {
       "output_type": "stream",
       "stream": "stdout",
       "text": [
        "\n",
        "380 urls scraped\n",
        "http://share.credoaction.com/85254513t?referring_akid=.713020.MB-yuy scraped"
       ]
      },
      {
       "output_type": "stream",
       "stream": "stdout",
       "text": [
        "\n",
        "381 urls scraped\n",
        "http://ow.ly/E4vD4 scraped"
       ]
      },
      {
       "output_type": "stream",
       "stream": "stdout",
       "text": [
        "\n",
        "382 urls scraped\n",
        "http://www.breitbart.com/Big-Government/2014/11/10/7-reasons-net-neutrality scraped"
       ]
      },
      {
       "output_type": "stream",
       "stream": "stdout",
       "text": [
        "\n",
        "383 urls scraped\n",
        "http://usat.ly/1qAB9Of scraped"
       ]
      },
      {
       "output_type": "stream",
       "stream": "stdout",
       "text": [
        "\n",
        "384 urls scraped\n",
        "http://bit.ly/11eSWok scraped"
       ]
      },
      {
       "output_type": "stream",
       "stream": "stdout",
       "text": [
        "\n",
        "385 urls scraped\n",
        "http://sun-tim.es/1uZ27pr scraped"
       ]
      },
      {
       "output_type": "stream",
       "stream": "stdout",
       "text": [
        "\n",
        "386 urls scraped\n",
        "http://j.mp/148nv0l scraped"
       ]
      },
      {
       "output_type": "stream",
       "stream": "stdout",
       "text": [
        "\n",
        "387 urls scraped\n",
        "http://bit.ly/1uZhRJ4 scraped"
       ]
      },
      {
       "output_type": "stream",
       "stream": "stdout",
       "text": [
        "\n",
        "388 urls scraped\n",
        "http://buff.ly/1pL7SG3 scraped"
       ]
      },
      {
       "output_type": "stream",
       "stream": "stdout",
       "text": [
        "\n",
        "389 urls scraped\n",
        "http://ow.ly/E82zp scraped"
       ]
      },
      {
       "output_type": "stream",
       "stream": "stdout",
       "text": [
        "\n",
        "390 urls scraped\n",
        "http://readersupportednews.org/news-section2/318-66/26897-cable-companies-stunned-by-obamas-extreme-net-neutrality-proposals scraped"
       ]
      },
      {
       "output_type": "stream",
       "stream": "stdout",
       "text": [
        "\n",
        "391 urls scraped\n",
        "http://www.nytimes.com/2014/11/11/upshot/a-super-simple-way-to-understand-the-net-neutrality-debate.html scraped"
       ]
      },
      {
       "output_type": "stream",
       "stream": "stdout",
       "text": [
        "\n",
        "392 urls scraped\n",
        "http://www.reuters.com/article/2014/11/10/us-usa-internet-neutrality-idUSKCN0IU1I620141110 scraped"
       ]
      },
      {
       "output_type": "stream",
       "stream": "stdout",
       "text": [
        "\n",
        "393 urls scraped\n",
        "http://share.credoaction.com/85253203t?referring_akid=.6253020.QJusQl scraped"
       ]
      },
      {
       "output_type": "stream",
       "stream": "stdout",
       "text": [
        "\n",
        "394 urls scraped\n",
        "http://share.credoaction.com/85253172t?referring_akid=.4517336.7cNU10 scraped"
       ]
      },
      {
       "output_type": "stream",
       "stream": "stdout",
       "text": [
        "\n",
        "395 urls scraped\n",
        "http://www.savetheinternet.com/what-can-i-do scraped"
       ]
      },
      {
       "output_type": "stream",
       "stream": "stdout",
       "text": [
        "\n",
        "396 urls scraped\n",
        "http://wtfgoogle.org scraped"
       ]
      },
      {
       "output_type": "stream",
       "stream": "stdout",
       "text": [
        "\n",
        "397 urls scraped\n",
        "http://for.tn/10M6PcF scraped"
       ]
      },
      {
       "output_type": "stream",
       "stream": "stdout",
       "text": [
        "\n",
        "398 urls scraped\n",
        "http://ow.ly/E5Xvy scraped"
       ]
      },
      {
       "output_type": "stream",
       "stream": "stdout",
       "text": [
        "\n",
        "399 urls scraped\n",
        "http://nyti.ms/1uX6stm scraped"
       ]
      },
      {
       "output_type": "stream",
       "stream": "stdout",
       "text": [
        "\n",
        "400 urls scraped\n",
        "error scraping"
       ]
      },
      {
       "output_type": "stream",
       "stream": "stdout",
       "text": [
        "\n",
        "Invalid status code\n",
        "http://ow.ly/E54Pr scraped"
       ]
      },
      {
       "output_type": "stream",
       "stream": "stdout",
       "text": [
        "\n",
        "401 urls scraped\n",
        "http://j.mp/1xuPRMP scraped"
       ]
      },
      {
       "output_type": "stream",
       "stream": "stdout",
       "text": [
        "\n",
        "402 urls scraped\n",
        "http://ln.is/credoaction.com/KjAky scraped"
       ]
      },
      {
       "output_type": "stream",
       "stream": "stdout",
       "text": [
        "\n",
        "403 urls scraped\n",
        "http://buff.ly/1pL7Spr scraped"
       ]
      },
      {
       "output_type": "stream",
       "stream": "stdout",
       "text": [
        "\n",
        "404 urls scraped\n",
        "http://cms.fightforthefuture.org/obama/ scraped"
       ]
      },
      {
       "output_type": "stream",
       "stream": "stdout",
       "text": [
        "\n",
        "405 urls scraped\n",
        "http://www.infocrowler.com/software/the-oatmeal-addresses-net-neutrality-as-only-the-oatmeal-could.html?utm_campaign=twitter&utm_medium=twitter&utm_source=twitter scraped"
       ]
      },
      {
       "output_type": "stream",
       "stream": "stdout",
       "text": [
        "\n",
        "406 urls scraped\n",
        "https://www.politicopro.com/tech/ scraped"
       ]
      },
      {
       "output_type": "stream",
       "stream": "stdout",
       "text": [
        "\n",
        "407 urls scraped\n",
        "http://warisacrime.org/content/fcc-chairman-under-house-arrest scraped"
       ]
      },
      {
       "output_type": "stream",
       "stream": "stdout",
       "text": [
        "\n",
        "408 urls scraped\n",
        "http://gizmo.do/0BLVEle scraped"
       ]
      },
      {
       "output_type": "stream",
       "stream": "stdout",
       "text": [
        "\n",
        "409 urls scraped\n",
        "http://bit.ly/1stmwMo scraped"
       ]
      },
      {
       "output_type": "stream",
       "stream": "stdout",
       "text": [
        "\n",
        "410 urls scraped\n",
        "http://www.msnbc.com/the-reid-report/watch/could-obama-change-the-face-of-the-internet--356130371908 scraped"
       ]
      },
      {
       "output_type": "stream",
       "stream": "stdout",
       "text": [
        "\n",
        "411 urls scraped\n",
        "http://twitter.com/JohnLegere scraped"
       ]
      },
      {
       "output_type": "stream",
       "stream": "stdout",
       "text": [
        "\n",
        "412 urls scraped\n",
        "http://theverge.com/e/6949974 scraped"
       ]
      },
      {
       "output_type": "stream",
       "stream": "stdout",
       "text": [
        "\n",
        "413 urls scraped\n",
        "http://shar.es/10FtWO scraped"
       ]
      },
      {
       "output_type": "stream",
       "stream": "stdout",
       "text": [
        "\n",
        "414 urls scraped\n",
        "http://www.fcc.gov/openinternet scraped"
       ]
      },
      {
       "output_type": "stream",
       "stream": "stdout",
       "text": [
        "\n",
        "415 urls scraped\n",
        "http://www.bizjournals.com/stlouis/news/video/2014/11/obama-calls-for-regulating-internet-like-telephone.html scraped"
       ]
      },
      {
       "output_type": "stream",
       "stream": "stdout",
       "text": [
        "\n",
        "416 urls scraped\n",
        "http://ow.ly/E3UPp scraped"
       ]
      },
      {
       "output_type": "stream",
       "stream": "stdout",
       "text": [
        "\n",
        "417 urls scraped\n",
        "http://deadline.com/2014/11/obama-net-neutrality-reclassification-fcc-1201280237/ scraped"
       ]
      },
      {
       "output_type": "stream",
       "stream": "stdout",
       "text": [
        "\n",
        "418 urls scraped\n",
        "http://hubs.ly/y0hBlq0 scraped"
       ]
      },
      {
       "output_type": "stream",
       "stream": "stdout",
       "text": [
        "\n",
        "419 urls scraped\n",
        "http://for.tn/1xmBQjf scraped"
       ]
      },
      {
       "output_type": "stream",
       "stream": "stdout",
       "text": [
        "\n",
        "420 urls scraped\n",
        "http://ofa.bo/i1U9 scraped"
       ]
      },
      {
       "output_type": "stream",
       "stream": "stdout",
       "text": [
        "\n",
        "421 urls scraped\n",
        "http://bit.ly/1xqdHZf scraped"
       ]
      },
      {
       "output_type": "stream",
       "stream": "stdout",
       "text": [
        "\n",
        "422 urls scraped\n",
        "http://theverge.com/e/6957880 scraped"
       ]
      },
      {
       "output_type": "stream",
       "stream": "stdout",
       "text": [
        "\n",
        "423 urls scraped\n",
        "http://www.sfgate.com/news/article/Obama-s-defense-of-net-neutrality-sets-up-war-5884351.php scraped"
       ]
      },
      {
       "output_type": "stream",
       "stream": "stdout",
       "text": [
        "\n",
        "424 urls scraped\n",
        "https://www.aclu.org/net-neutrality scraped"
       ]
      },
      {
       "output_type": "stream",
       "stream": "stdout",
       "text": [
        "\n",
        "425 urls scraped\n",
        "http://bit.ly/1wPVvZV scraped"
       ]
      },
      {
       "output_type": "stream",
       "stream": "stdout",
       "text": [
        "\n",
        "426 urls scraped\n",
        "http://share.credoaction.com/85251435t?referring_akid=.217455.0ZE-hp scraped"
       ]
      },
      {
       "output_type": "stream",
       "stream": "stdout",
       "text": [
        "\n",
        "427 urls scraped\n",
        "https://www.youtube.com/watch?v=fpbOEoRrHyU scraped"
       ]
      },
      {
       "output_type": "stream",
       "stream": "stdout",
       "text": [
        "\n",
        "428 urls scraped\n",
        "http://po.st/iwvZM3 scraped"
       ]
      },
      {
       "output_type": "stream",
       "stream": "stdout",
       "text": [
        "\n",
        "429 urls scraped\n",
        "http://www.pen.org/blog/how-ending-net-neutrality-will-harm-writers-and-readers scraped"
       ]
      },
      {
       "output_type": "stream",
       "stream": "stdout",
       "text": [
        "\n",
        "430 urls scraped\n",
        "http://nzzl.me/1wPnkS8 scraped"
       ]
      },
      {
       "output_type": "stream",
       "stream": "stdout",
       "text": [
        "\n",
        "431 urls scraped\n",
        "http://kstp.com/news/stories/S3615651.shtml?cat=1 scraped"
       ]
      },
      {
       "output_type": "stream",
       "stream": "stdout",
       "text": [
        "\n",
        "432 urls scraped\n",
        "http://goo.gl/spttZ3 scraped"
       ]
      },
      {
       "output_type": "stream",
       "stream": "stdout",
       "text": [
        "\n",
        "433 urls scraped\n",
        "http://www.salon.com/2014/11/11/ted_cruz_gets_even_more_annoying_why_he_wants_to_make_the_internet_worse/ scraped"
       ]
      },
      {
       "output_type": "stream",
       "stream": "stdout",
       "text": [
        "\n",
        "434 urls scraped\n",
        "http://share.credoaction.com/85240582t?referring_akid=.50741.-imlQh scraped"
       ]
      },
      {
       "output_type": "stream",
       "stream": "stdout",
       "text": [
        "\n",
        "435 urls scraped\n",
        "http://share.credoaction.com/85250686t?referring_akid=.8066576.gi7I5I scraped"
       ]
      },
      {
       "output_type": "stream",
       "stream": "stdout",
       "text": [
        "\n",
        "436 urls scraped\n",
        "http://nyti.ms/1zhD8MS scraped"
       ]
      },
      {
       "output_type": "stream",
       "stream": "stdout",
       "text": [
        "\n",
        "437 urls scraped\n",
        "http://goo.gl/LbjwXo scraped"
       ]
      },
      {
       "output_type": "stream",
       "stream": "stdout",
       "text": [
        "\n",
        "438 urls scraped\n",
        "http://j.mp/1ExOY8q scraped"
       ]
      },
      {
       "output_type": "stream",
       "stream": "stdout",
       "text": [
        "\n",
        "439 urls scraped\n",
        "http://www.pcmag.com/article2/0,2817,2471914,00.asp scraped"
       ]
      },
      {
       "output_type": "stream",
       "stream": "stdout",
       "text": [
        "\n",
        "440 urls scraped\n",
        "http://nyti.ms/1ssi00J scraped"
       ]
      },
      {
       "output_type": "stream",
       "stream": "stdout",
       "text": [
        "\n",
        "441 urls scraped\n",
        "http://bit.ly/1xqd0ix scraped"
       ]
      },
      {
       "output_type": "stream",
       "stream": "stdout",
       "text": [
        "\n",
        "442 urls scraped\n",
        "http://wp.me/p2KIu9-u1 scraped"
       ]
      },
      {
       "output_type": "stream",
       "stream": "stdout",
       "text": [
        "\n",
        "443 urls scraped\n",
        "http://share.credoaction.com/85250094t?referring_akid=.6255391.rGWghd scraped"
       ]
      },
      {
       "output_type": "stream",
       "stream": "stdout",
       "text": [
        "\n",
        "444 urls scraped\n",
        "http://dlvr.it/7TxzrC scraped"
       ]
      },
      {
       "output_type": "stream",
       "stream": "stdout",
       "text": [
        "\n",
        "445 urls scraped\n",
        "http://gag.gl/oQI6Q scraped"
       ]
      },
      {
       "output_type": "stream",
       "stream": "stdout",
       "text": [
        "\n",
        "446 urls scraped\n",
        "https://www.youtube.com/watch?v=7YcwfZEurU0 scraped"
       ]
      },
      {
       "output_type": "stream",
       "stream": "stdout",
       "text": [
        "\n",
        "447 urls scraped\n",
        "http://share.credoaction.com/85249834t?referring_akid=.5887731.DF7mLp scraped"
       ]
      },
      {
       "output_type": "stream",
       "stream": "stdout",
       "text": [
        "\n",
        "448 urls scraped\n",
        "http://ln.is/theoatmeal.com/blog/V4gEW scraped"
       ]
      },
      {
       "output_type": "stream",
       "stream": "stdout",
       "text": [
        "\n",
        "449 urls scraped\n",
        "http://bit.ly/1B1XLRQ scraped"
       ]
      },
      {
       "output_type": "stream",
       "stream": "stdout",
       "text": [
        "\n",
        "450 urls scraped\n",
        "http://share.credoaction.com/85249868t?referring_akid=.109262.NI-NlJ scraped"
       ]
      },
      {
       "output_type": "stream",
       "stream": "stdout",
       "text": [
        "\n",
        "451 urls scraped\n",
        "http://www.housingwire.com/blogs/1-rewired/post/32017-realtors-and-everyone-else-are-wrong-about-net-neutrality scraped"
       ]
      },
      {
       "output_type": "stream",
       "stream": "stdout",
       "text": [
        "\n",
        "452 urls scraped\n",
        "http://share.credoaction.com/85249869t?referring_akid=.3190610.yfK__V scraped"
       ]
      },
      {
       "output_type": "stream",
       "stream": "stdout",
       "text": [
        "\n",
        "453 urls scraped\n",
        "http://share.credoaction.com/4-10496-t-0-2?referring_akid=.5722816.29ER_i scraped"
       ]
      },
      {
       "output_type": "stream",
       "stream": "stdout",
       "text": [
        "\n",
        "454 urls scraped\n",
        "http://www.macobserver.com/tmo/podcast/tmo-daily-observations-2014-11-11?utm_campaign=tmo_twitter scraped"
       ]
      },
      {
       "output_type": "stream",
       "stream": "stdout",
       "text": [
        "\n",
        "455 urls scraped\n",
        "error scraping"
       ]
      },
      {
       "output_type": "stream",
       "stream": "stdout",
       "text": [
        "\n",
        "Exceeded 30 redirects.\n",
        "error scraping"
       ]
      },
      {
       "output_type": "stream",
       "stream": "stdout",
       "text": [
        "\n",
        "Invalid status code\n",
        "http://fb.me/75i0PPguG scraped"
       ]
      },
      {
       "output_type": "stream",
       "stream": "stdout",
       "text": [
        "\n",
        "456 urls scraped\n",
        "http://www.inc.com/associated-press/obama-inflames-debate-on-net-neutrality.html scraped"
       ]
      },
      {
       "output_type": "stream",
       "stream": "stdout",
       "text": [
        "\n",
        "457 urls scraped\n",
        "http://trib.in/14950J3 scraped"
       ]
      },
      {
       "output_type": "stream",
       "stream": "stdout",
       "text": [
        "\n",
        "458 urls scraped\n",
        "http://en.wikipedia.org/wiki/Net_neutrality scraped"
       ]
      },
      {
       "output_type": "stream",
       "stream": "stdout",
       "text": [
        "\n",
        "459 urls scraped\n",
        "http://bloom.bg/1xIjlFe scraped"
       ]
      },
      {
       "output_type": "stream",
       "stream": "stdout",
       "text": [
        "\n",
        "460 urls scraped\n",
        "http://share.credoaction.com/85249102t?referring_akid=.3235269.H4EUnt scraped"
       ]
      },
      {
       "output_type": "stream",
       "stream": "stdout",
       "text": [
        "\n",
        "461 urls scraped\n",
        "http://mashupplus.com/en/NDZmZDg0YzFjNGYx.html scraped"
       ]
      },
      {
       "output_type": "stream",
       "stream": "stdout",
       "text": [
        "\n",
        "462 urls scraped\n",
        "http://bit.ly/1EvKoHR scraped"
       ]
      },
      {
       "output_type": "stream",
       "stream": "stdout",
       "text": [
        "\n",
        "463 urls scraped\n",
        "http://share.credoaction.com/85249129t?referring_akid=.6954451.p3p3rE scraped"
       ]
      },
      {
       "output_type": "stream",
       "stream": "stdout",
       "text": [
        "\n",
        "464 urls scraped\n",
        "http://share.credoaction.com/85249158t?referring_akid=.1516915.SzY2tV scraped"
       ]
      },
      {
       "output_type": "stream",
       "stream": "stdout",
       "text": [
        "\n",
        "465 urls scraped\n",
        "http://daringfireball.net/linked/2014/11/10/obama-net-neutrality scraped"
       ]
      },
      {
       "output_type": "stream",
       "stream": "stdout",
       "text": [
        "\n",
        "466 urls scraped\n",
        "http://blog.idrive.com/2014/11/11/we-support-net-neutrality-because-it-supports-innovation/ scraped"
       ]
      },
      {
       "output_type": "stream",
       "stream": "stdout",
       "text": [
        "\n",
        "467 urls scraped\n",
        "http://boingboing.net/2014/11/11/net-neutrality-activists-block.html?utm_source=moreatbb&utm_medium=nextpost&utm_campaign=nextpostthumbnails scraped"
       ]
      },
      {
       "output_type": "stream",
       "stream": "stdout",
       "text": [
        "\n",
        "468 urls scraped\n",
        "http://ofa.bo/t1VR scraped"
       ]
      },
      {
       "output_type": "stream",
       "stream": "stdout",
       "text": [
        "\n",
        "469 urls scraped\n",
        "http://www.youtube.com/watch?v=fpbOEoRrHyU&sns=tw scraped"
       ]
      },
      {
       "output_type": "stream",
       "stream": "stdout",
       "text": [
        "\n",
        "470 urls scraped\n",
        "http://www.economist.com/news/business-and-finance/21632020 scraped"
       ]
      },
      {
       "output_type": "stream",
       "stream": "stdout",
       "text": [
        "\n",
        "471 urls scraped\n",
        "http://bit.ly/1yveEyH scraped"
       ]
      },
      {
       "output_type": "stream",
       "stream": "stdout",
       "text": [
        "\n",
        "472 urls scraped\n",
        "http://leaksource.info/2014/11/11/obama-to-fcc-implement-strongest-possible-rules-to-protect-net-neutrality/ scraped"
       ]
      },
      {
       "output_type": "stream",
       "stream": "stdout",
       "text": [
        "\n",
        "473 urls scraped\n",
        "http://www.vox.com/2014/11/10/7187281/9-questions-about-network-neutrality-you-were-too-embarrassed-to-ask scraped"
       ]
      },
      {
       "output_type": "stream",
       "stream": "stdout",
       "text": [
        "\n",
        "474 urls scraped\n",
        "http://share.credoaction.com/85248416t?referring_akid=.3390000.qPW-MA scraped"
       ]
      },
      {
       "output_type": "stream",
       "stream": "stdout",
       "text": [
        "\n",
        "475 urls scraped\n",
        "http://bit.ly/1ujiADq scraped"
       ]
      },
      {
       "output_type": "stream",
       "stream": "stdout",
       "text": [
        "\n",
        "476 urls scraped\n",
        "http://share.credoaction.com/85248423t?referring_akid=.489892.a_60bD scraped"
       ]
      },
      {
       "output_type": "stream",
       "stream": "stdout",
       "text": [
        "\n",
        "477 urls scraped\n",
        "http://buswk.co/1tCOfdX scraped"
       ]
      },
      {
       "output_type": "stream",
       "stream": "stdout",
       "text": [
        "\n",
        "478 urls scraped\n",
        "http://buff.ly/1pMDECr scraped"
       ]
      },
      {
       "output_type": "stream",
       "stream": "stdout",
       "text": [
        "\n",
        "479 urls scraped\n",
        "http://share.credoaction.com/85248131t?referring_akid=.2678577.Yb00Se scraped"
       ]
      },
      {
       "output_type": "stream",
       "stream": "stdout",
       "text": [
        "\n",
        "480 urls scraped\n",
        "http://ow.ly/E7EM8 scraped"
       ]
      },
      {
       "output_type": "stream",
       "stream": "stdout",
       "text": [
        "\n",
        "481 urls scraped\n",
        "error scraping"
       ]
      },
      {
       "output_type": "stream",
       "stream": "stdout",
       "text": [
        "\n",
        "Invalid status code\n",
        "http://ow.ly/E86ZM scraped"
       ]
      },
      {
       "output_type": "stream",
       "stream": "stdout",
       "text": [
        "\n",
        "482 urls scraped\n",
        "http://hotpage.info/news/category/tech#82847 scraped"
       ]
      },
      {
       "output_type": "stream",
       "stream": "stdout",
       "text": [
        "\n",
        "483 urls scraped\n",
        "http://cnnmon.ie/1wauGeP scraped"
       ]
      },
      {
       "output_type": "stream",
       "stream": "stdout",
       "text": [
        "\n",
        "484 urls scraped\n",
        "http://fb.me/72RLnhv1U scraped"
       ]
      },
      {
       "output_type": "stream",
       "stream": "stdout",
       "text": [
        "\n",
        "485 urls scraped\n",
        "http://m.whitehouse.gov/net-neutrality?utm_source=email&utm_medium=email&utm_content=email388-text1&utm_campaign=netneutrality scraped"
       ]
      },
      {
       "output_type": "stream",
       "stream": "stdout",
       "text": [
        "\n",
        "486 urls scraped\n",
        "http://ow.ly/E4QUe scraped"
       ]
      },
      {
       "output_type": "stream",
       "stream": "stdout",
       "text": [
        "\n",
        "487 urls scraped\n",
        "http://share.credoaction.com/85247755t?referring_akid=.3968041.2FiowJ scraped"
       ]
      },
      {
       "output_type": "stream",
       "stream": "stdout",
       "text": [
        "\n",
        "488 urls scraped\n",
        "http://tmblr.co/ZA726v1VM33Sx scraped"
       ]
      },
      {
       "output_type": "stream",
       "stream": "stdout",
       "text": [
        "\n",
        "489 urls scraped\n",
        "http://www.forbes.com/sites/docket/2010/06/17/amazon-secures-patent-for-social-networking-system/ scraped"
       ]
      },
      {
       "output_type": "stream",
       "stream": "stdout",
       "text": [
        "\n",
        "490 urls scraped\n",
        "http://wp.me/p5HMd-f0On scraped"
       ]
      },
      {
       "output_type": "stream",
       "stream": "stdout",
       "text": [
        "\n",
        "491 urls scraped\n",
        "http://patriotpost.us/posts/30834#share scraped"
       ]
      },
      {
       "output_type": "stream",
       "stream": "stdout",
       "text": [
        "\n",
        "492 urls scraped\n",
        "http://tcrn.ch/1wNPfSw scraped"
       ]
      },
      {
       "output_type": "stream",
       "stream": "stdout",
       "text": [
        "\n",
        "493 urls scraped\n",
        "http://ow.ly/E86Ax scraped"
       ]
      },
      {
       "output_type": "stream",
       "stream": "stdout",
       "text": [
        "\n",
        "494 urls scraped\n",
        "http://www.cnet.com/news/obama-pledges-net-neutrality-laws-if-elected-president/ scraped"
       ]
      },
      {
       "output_type": "stream",
       "stream": "stdout",
       "text": [
        "\n",
        "495 urls scraped\n",
        "http://bit.ly/1xqba0Y scraped"
       ]
      },
      {
       "output_type": "stream",
       "stream": "stdout",
       "text": [
        "\n",
        "496 urls scraped\n",
        "http://ow.ly/E7fQc scraped"
       ]
      },
      {
       "output_type": "stream",
       "stream": "stdout",
       "text": [
        "\n",
        "497 urls scraped\n",
        "https://www.yahoo.com/tech/5-things-to-know-about-obamas-net-neutrality-push-102308200979.html scraped"
       ]
      },
      {
       "output_type": "stream",
       "stream": "stdout",
       "text": [
        "\n",
        "498 urls scraped\n",
        "http://bit.ly/1Ev5dTU scraped"
       ]
      },
      {
       "output_type": "stream",
       "stream": "stdout",
       "text": [
        "\n",
        "499 urls scraped\n",
        "http://www.netindex.com/ scraped"
       ]
      },
      {
       "output_type": "stream",
       "stream": "stdout",
       "text": [
        "\n",
        "500 urls scraped\n",
        "Tweet manifest written\n"
       ]
      }
     ],
     "prompt_number": 4
    }
   ],
   "metadata": {}
  }
 ]
}