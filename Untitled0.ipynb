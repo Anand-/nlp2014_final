{
 "metadata": {
  "name": "",
  "signature": "sha256:3cc33d9904b1d7e45339cedaffde31e7391c9492ae6517889276b0427c55705e"
 },
 "nbformat": 3,
 "nbformat_minor": 0,
 "worksheets": [
  {
   "cells": [
    {
     "cell_type": "code",
     "collapsed": true,
     "input": [
      "import tagscraper"
     ],
     "language": "python",
     "metadata": {},
     "outputs": [],
     "prompt_number": 1
    },
    {
     "cell_type": "code",
     "collapsed": false,
     "input": [
      "from os import path"
     ],
     "language": "python",
     "metadata": {},
     "outputs": [],
     "prompt_number": 2
    },
    {
     "cell_type": "code",
     "collapsed": false,
     "input": [
      "outdir = path.join(path.curdir, \"data\", \"Election2014\")"
     ],
     "language": "python",
     "metadata": {},
     "outputs": [],
     "prompt_number": 3
    },
    {
     "cell_type": "code",
     "collapsed": false,
     "input": [
      "tagscraper.scrape_hashtag(\"Election2014\", outdir, n=1000)"
     ],
     "language": "python",
     "metadata": {},
     "outputs": [
      {
       "output_type": "stream",
       "stream": "stdout",
       "text": [
        "Scraping tweets from query \"#Election2014 filter:links\"\n",
        "http://gregpalast.us4.list-manage.com/subscribe?u=33e4ec877eed6a43863a4a92e&id=bf35b28f73 scraped"
       ]
      },
      {
       "output_type": "stream",
       "stream": "stdout",
       "text": [
        "\n",
        "1 urls scraped\n",
        "http://shar.es/10FN4B scraped"
       ]
      },
      {
       "output_type": "stream",
       "stream": "stdout",
       "text": [
        "\n",
        "2 urls scraped\n",
        "http://www.itsalways.com/video/politics-is-just-one-big-ass-blast scraped"
       ]
      },
      {
       "output_type": "stream",
       "stream": "stdout",
       "text": [
        "\n",
        "3 urls scraped\n",
        "http://tinyurl.com/qdxleoo scraped"
       ]
      },
      {
       "output_type": "stream",
       "stream": "stdout",
       "text": [
        "\n",
        "4 urls scraped\n",
        "http://bit.ly/1wMRUM5 scraped"
       ]
      },
      {
       "output_type": "stream",
       "stream": "stdout",
       "text": [
        "\n",
        "5 urls scraped\n",
        "http://tri.io/xkn6 scraped"
       ]
      },
      {
       "output_type": "stream",
       "stream": "stdout",
       "text": [
        "\n",
        "6 urls scraped\n",
        "http://dlvr.it/7TX2FS scraped"
       ]
      },
      {
       "output_type": "stream",
       "stream": "stdout",
       "text": [
        "\n",
        "7 urls scraped\n",
        "http://vimeo.com/channels/metrominutes/111471394 scraped"
       ]
      },
      {
       "output_type": "stream",
       "stream": "stdout",
       "text": [
        "\n",
        "8 urls scraped\n",
        "http://bit.ly/WhiteCons scraped"
       ]
      },
      {
       "output_type": "stream",
       "stream": "stdout",
       "text": [
        "\n",
        "9 urls scraped\n",
        "http://bit.ly/1ug3RJl scraped"
       ]
      },
      {
       "output_type": "stream",
       "stream": "stdout",
       "text": [
        "\n",
        "10 urls scraped\n",
        "http://bit.ly/1shor7E scraped"
       ]
      },
      {
       "output_type": "stream",
       "stream": "stdout",
       "text": [
        "\n",
        "11 urls scraped\n",
        "http://bizj.us/16g1cf scraped"
       ]
      },
      {
       "output_type": "stream",
       "stream": "stdout",
       "text": [
        "\n",
        "12 urls scraped\n",
        "http://ow.ly/E5uUv scraped"
       ]
      },
      {
       "output_type": "stream",
       "stream": "stdout",
       "text": [
        "\n",
        "13 urls scraped\n",
        "http://ow.ly/E5uUp scraped"
       ]
      },
      {
       "output_type": "stream",
       "stream": "stdout",
       "text": [
        "\n",
        "14 urls scraped\n",
        "http://ow.ly/E5uUA scraped"
       ]
      },
      {
       "output_type": "stream",
       "stream": "stdout",
       "text": [
        "\n",
        "15 urls scraped\n",
        "http://ow.ly/E5uUl scraped"
       ]
      },
      {
       "output_type": "stream",
       "stream": "stdout",
       "text": [
        "\n",
        "16 urls scraped\n",
        "http://www.calnewsroom.com/2014/11/10/state-assembly-39-explaining-patty-lopezs-potential-upset-of-asm-raul-bocanegra/ scraped"
       ]
      },
      {
       "output_type": "stream",
       "stream": "stdout",
       "text": [
        "\n",
        "17 urls scraped\n",
        "http://ow.ly/E5uUB scraped"
       ]
      },
      {
       "output_type": "stream",
       "stream": "stdout",
       "text": [
        "\n",
        "18 urls scraped\n",
        "http://ow.ly/E5uUx scraped"
       ]
      },
      {
       "output_type": "stream",
       "stream": "stdout",
       "text": [
        "\n",
        "19 urls scraped\n",
        "http://ow.ly/E5uUu scraped"
       ]
      },
      {
       "output_type": "stream",
       "stream": "stdout",
       "text": [
        "\n",
        "20 urls scraped\n",
        "http://ow.ly/E5uUs scraped"
       ]
      },
      {
       "output_type": "stream",
       "stream": "stdout",
       "text": [
        "\n",
        "21 urls scraped\n",
        "http://ow.ly/E5uUm scraped"
       ]
      },
      {
       "output_type": "stream",
       "stream": "stdout",
       "text": [
        "\n",
        "22 urls scraped\n",
        "http://ow.ly/E5uUj scraped"
       ]
      },
      {
       "output_type": "stream",
       "stream": "stdout",
       "text": [
        "\n",
        "23 urls scraped\n",
        "http://ow.ly/E5uUi scraped"
       ]
      },
      {
       "output_type": "stream",
       "stream": "stdout",
       "text": [
        "\n",
        "24 urls scraped\n",
        "http://ow.ly/E5uUg scraped"
       ]
      },
      {
       "output_type": "stream",
       "stream": "stdout",
       "text": [
        "\n",
        "25 urls scraped\n",
        "http://ow.ly/E5uUe scraped"
       ]
      },
      {
       "output_type": "stream",
       "stream": "stdout",
       "text": [
        "\n",
        "26 urls scraped\n",
        "http://ow.ly/E5uUc scraped"
       ]
      },
      {
       "output_type": "stream",
       "stream": "stdout",
       "text": [
        "\n",
        "27 urls scraped\n",
        "http://ow.ly/E5uUa scraped"
       ]
      },
      {
       "output_type": "stream",
       "stream": "stdout",
       "text": [
        "\n",
        "28 urls scraped\n",
        "http://bit.ly/13IMiHY scraped"
       ]
      },
      {
       "output_type": "stream",
       "stream": "stdout",
       "text": [
        "\n",
        "29 urls scraped\n",
        "http://wapo.st/10LvhL2 scraped"
       ]
      },
      {
       "output_type": "stream",
       "stream": "stdout",
       "text": [
        "\n",
        "30 urls scraped\n",
        "http://bit.ly/1ynEnZP scraped"
       ]
      },
      {
       "output_type": "stream",
       "stream": "stdout",
       "text": [
        "\n",
        "31 urls scraped\n",
        "http://thechiefleader.com/news/news_of_the_week/for-the-record/article_3b8f29a6-5a0c-11e4-bc39-0017a43b2370.html#.VGFYDs5vU_g.twitter scraped"
       ]
      },
      {
       "output_type": "stream",
       "stream": "stdout",
       "text": [
        "\n",
        "32 urls scraped\n",
        "http://buff.ly/1zfpFVJ scraped"
       ]
      },
      {
       "output_type": "stream",
       "stream": "stdout",
       "text": [
        "\n",
        "33 urls scraped\n",
        "http://ow.ly/E2L7C scraped"
       ]
      },
      {
       "output_type": "stream",
       "stream": "stdout",
       "text": [
        "\n",
        "34 urls scraped\n",
        "http://ow.ly/E2KT5 scraped"
       ]
      },
      {
       "output_type": "stream",
       "stream": "stdout",
       "text": [
        "\n",
        "35 urls scraped\n",
        "http://ow.ly/E2Fo2 scraped"
       ]
      },
      {
       "output_type": "stream",
       "stream": "stdout",
       "text": [
        "\n",
        "36 urls scraped\n",
        "http://bit.ly/1slK9Xe scraped"
       ]
      },
      {
       "output_type": "stream",
       "stream": "stdout",
       "text": [
        "\n",
        "37 urls scraped\n",
        "http://www.realclearpolitics.com/incls/ap_results/2014_midterm/live_map_house.png?1415209357644?1415209422522?1415209482524?1415209542521?1415209602527 scraped"
       ]
      },
      {
       "output_type": "stream",
       "stream": "stdout",
       "text": [
        "\n",
        "38 urls scraped\n",
        "http://ow.ly/E2L8d scraped"
       ]
      },
      {
       "output_type": "stream",
       "stream": "stdout",
       "text": [
        "\n",
        "39 urls scraped\n",
        "http://godfatherpolitics.com/18358/obama-looking-burn-house/ scraped"
       ]
      },
      {
       "output_type": "stream",
       "stream": "stdout",
       "text": [
        "\n",
        "40 urls scraped\n",
        "http://ow.ly/E2L7i scraped"
       ]
      },
      {
       "output_type": "stream",
       "stream": "stdout",
       "text": [
        "\n",
        "41 urls scraped\n",
        "http://isthmus.com/r/?r=3ed7 scraped"
       ]
      },
      {
       "output_type": "stream",
       "stream": "stdout",
       "text": [
        "\n",
        "42 urls scraped\n",
        "http://ow.ly/E2FnB scraped"
       ]
      },
      {
       "output_type": "stream",
       "stream": "stdout",
       "text": [
        "\n",
        "43 urls scraped\n",
        "http://ow.ly/E2Fo6 scraped"
       ]
      },
      {
       "output_type": "stream",
       "stream": "stdout",
       "text": [
        "\n",
        "44 urls scraped\n",
        "https://medium.com/@ShantMM/912dba216d3e?source=tw-7239b1d04c28-1415610809370 scraped"
       ]
      },
      {
       "output_type": "stream",
       "stream": "stdout",
       "text": [
        "\n",
        "45 urls scraped\n",
        "http://bit.ly/ZZsUF0 scraped"
       ]
      },
      {
       "output_type": "stream",
       "stream": "stdout",
       "text": [
        "\n",
        "46 urls scraped\n",
        "http://www.youtube.com/watch?v=jWxpHey6Kfg scraped"
       ]
      },
      {
       "output_type": "stream",
       "stream": "stdout",
       "text": [
        "\n",
        "47 urls scraped\n",
        "http://www.stonekettle.com/2014/11/powder-burns.html?utm_source=feedburner&utm_medium=email&utm_campaign=Feed%3A+StonekettleStation+%28Stonekettle+Station%29 scraped"
       ]
      },
      {
       "output_type": "stream",
       "stream": "stdout",
       "text": [
        "\n",
        "48 urls scraped\n",
        "http://ow.ly/E2L8c scraped"
       ]
      },
      {
       "output_type": "stream",
       "stream": "stdout",
       "text": [
        "\n",
        "49 urls scraped\n",
        "http://fb.me/1qFE7NTOt scraped"
       ]
      },
      {
       "output_type": "stream",
       "stream": "stdout",
       "text": [
        "\n",
        "50 urls scraped\n",
        "http://ift.tt/1Ati7TP scraped"
       ]
      },
      {
       "output_type": "stream",
       "stream": "stdout",
       "text": [
        "\n",
        "51 urls scraped\n",
        "http://nymag.com/daily/intelligencer/2014/11/salon-writer-condemns-arithmetic-as-racist.html scraped"
       ]
      },
      {
       "output_type": "stream",
       "stream": "stdout",
       "text": [
        "\n",
        "52 urls scraped\n",
        "http://ht.ly/E1vqk scraped"
       ]
      },
      {
       "output_type": "stream",
       "stream": "stdout",
       "text": [
        "\n",
        "53 urls scraped\n",
        "http://ht.ly/E1vqn scraped"
       ]
      },
      {
       "output_type": "stream",
       "stream": "stdout",
       "text": [
        "\n",
        "54 urls scraped\n",
        "http://ow.ly/E2L8f scraped"
       ]
      },
      {
       "output_type": "stream",
       "stream": "stdout",
       "text": [
        "\n",
        "55 urls scraped\n",
        "http://ift.tt/1AXs6Rp scraped"
       ]
      },
      {
       "output_type": "stream",
       "stream": "stdout",
       "text": [
        "\n",
        "56 urls scraped\n",
        "http://www.counterpunch.org/2014/11/10/why-the-democrats-lost-big/ scraped"
       ]
      },
      {
       "output_type": "stream",
       "stream": "stdout",
       "text": [
        "\n",
        "57 urls scraped\n",
        "http://to.pbs.org/1tULs3d scraped"
       ]
      },
      {
       "output_type": "stream",
       "stream": "stdout",
       "text": [
        "\n",
        "58 urls scraped\n",
        "http://bit.ly/GOP-OldWhiteMen scraped"
       ]
      },
      {
       "output_type": "stream",
       "stream": "stdout",
       "text": [
        "\n",
        "59 urls scraped\n",
        "http://www.sos.ca.gov/elections/statewide-elections/2014-general/unprocessed-ballots-report.pdf scraped"
       ]
      },
      {
       "output_type": "stream",
       "stream": "stdout",
       "text": [
        "\n",
        "60 urls scraped\n",
        "http://bit.ly/1x9jJjb scraped"
       ]
      },
      {
       "output_type": "stream",
       "stream": "stdout",
       "text": [
        "\n",
        "61 urls scraped\n",
        "http://ow.ly/E4RX3 scraped"
       ]
      },
      {
       "output_type": "stream",
       "stream": "stdout",
       "text": [
        "\n",
        "62 urls scraped\n",
        "http://anp14california.blogspot.com/2014/11/shows-over.html scraped"
       ]
      },
      {
       "output_type": "stream",
       "stream": "stdout",
       "text": [
        "\n",
        "63 urls scraped\n",
        "http://youtu.be/Vg4_lBnVniU scraped"
       ]
      },
      {
       "output_type": "stream",
       "stream": "stdout",
       "text": [
        "\n",
        "64 urls scraped\n",
        "http://bit.ly/newshourlive scraped"
       ]
      },
      {
       "output_type": "stream",
       "stream": "stdout",
       "text": [
        "\n",
        "65 urls scraped\n",
        "http://patriotpost.us/articles/30806 scraped"
       ]
      },
      {
       "output_type": "stream",
       "stream": "stdout",
       "text": [
        "\n",
        "66 urls scraped\n",
        "http://patriotpost.us/opinion/30786 scraped"
       ]
      },
      {
       "output_type": "stream",
       "stream": "stdout",
       "text": [
        "\n",
        "67 urls scraped\n",
        "http://trib.al/yrdHc4O scraped"
       ]
      },
      {
       "output_type": "stream",
       "stream": "stdout",
       "text": [
        "\n",
        "68 urls scraped\n",
        "http://www.theguardian.com/world/2014/nov/10/craig-spencer-new-york-ebola-cured scraped"
       ]
      },
      {
       "output_type": "stream",
       "stream": "stdout",
       "text": [
        "\n",
        "69 urls scraped\n",
        "http://ow.ly/E4S4t scraped"
       ]
      },
      {
       "output_type": "stream",
       "stream": "stdout",
       "text": [
        "\n",
        "70 urls scraped\n",
        "http://ow.ly/E4S4x scraped"
       ]
      },
      {
       "output_type": "stream",
       "stream": "stdout",
       "text": [
        "\n",
        "71 urls scraped\n",
        "http://fb.me/3POYyaqcF scraped"
       ]
      },
      {
       "output_type": "stream",
       "stream": "stdout",
       "text": [
        "\n",
        "72 urls scraped\n",
        "http://gu.com/p/437he/tw scraped"
       ]
      },
      {
       "output_type": "stream",
       "stream": "stdout",
       "text": [
        "\n",
        "73 urls scraped\n",
        "http://conta.cc/1qB7PHD scraped"
       ]
      },
      {
       "output_type": "stream",
       "stream": "stdout",
       "text": [
        "\n",
        "74 urls scraped\n",
        "http://bit.ly/1AX9TU0 scraped"
       ]
      },
      {
       "output_type": "stream",
       "stream": "stdout",
       "text": [
        "\n",
        "75 urls scraped\n",
        "http://www.spreaker.com/user/nh_steve/post-election-with-speaker-bill-obrien?autoplay=1 scraped"
       ]
      },
      {
       "output_type": "stream",
       "stream": "stdout",
       "text": [
        "\n",
        "76 urls scraped\n",
        "http://cap.af/1vQDLt2 scraped"
       ]
      },
      {
       "output_type": "stream",
       "stream": "stdout",
       "text": [
        "\n",
        "77 urls scraped\n",
        "http://bit.ly/13IymxL scraped"
       ]
      },
      {
       "output_type": "stream",
       "stream": "stdout",
       "text": [
        "\n",
        "78 urls scraped\n",
        "http://nextgenerationamerica.com/2014/11/10/update-on-uncalled-races/ scraped"
       ]
      },
      {
       "output_type": "stream",
       "stream": "stdout",
       "text": [
        "\n",
        "79 urls scraped\n",
        "http://npwf.info/1wbDa5o scraped"
       ]
      },
      {
       "output_type": "stream",
       "stream": "stdout",
       "text": [
        "\n",
        "80 urls scraped\n",
        "http://ow.ly/E2Fnw scraped"
       ]
      },
      {
       "output_type": "stream",
       "stream": "stdout",
       "text": [
        "\n",
        "81 urls scraped\n",
        "http://speaking4him.blogspot.com/2014/11/election-aftermath.html scraped"
       ]
      },
      {
       "output_type": "stream",
       "stream": "stdout",
       "text": [
        "\n",
        "82 urls scraped\n",
        "http://bizj.us/16g0dp scraped"
       ]
      },
      {
       "output_type": "stream",
       "stream": "stdout",
       "text": [
        "\n",
        "83 urls scraped\n",
        "http://pgelxn.com scraped"
       ]
      },
      {
       "output_type": "stream",
       "stream": "stdout",
       "text": [
        "\n",
        "84 urls scraped\n",
        "http://wp.me/p1VD1Z-NL scraped"
       ]
      },
      {
       "output_type": "stream",
       "stream": "stdout",
       "text": [
        "\n",
        "85 urls scraped\n",
        "http://buff.ly/1uOwY81 scraped"
       ]
      },
      {
       "output_type": "stream",
       "stream": "stdout",
       "text": [
        "\n",
        "86 urls scraped\n",
        "http://bit.ly/US-Shame scraped"
       ]
      },
      {
       "output_type": "stream",
       "stream": "stdout",
       "text": [
        "\n",
        "87 urls scraped\n",
        "http://ow.ly/E5i0l scraped"
       ]
      },
      {
       "output_type": "stream",
       "stream": "stdout",
       "text": [
        "\n",
        "88 urls scraped\n",
        "http://USFREEDOMARMY.COM scraped"
       ]
      },
      {
       "output_type": "stream",
       "stream": "stdout",
       "text": [
        "\n",
        "89 urls scraped\n",
        "http://ow.ly/E2Fnh scraped"
       ]
      },
      {
       "output_type": "stream",
       "stream": "stdout",
       "text": [
        "\n",
        "90 urls scraped\n",
        "http://fb.me/4bSrIfsmp scraped"
       ]
      },
      {
       "output_type": "stream",
       "stream": "stdout",
       "text": [
        "\n",
        "91 urls scraped\n",
        "http://www.nbcnews.com/politics/barack-obama/we-got-beat-obama-takes-responsibility-midterm-results-n244616 scraped"
       ]
      },
      {
       "output_type": "stream",
       "stream": "stdout",
       "text": [
        "\n",
        "92 urls scraped\n",
        "http://trib.al/3aEUbvr scraped"
       ]
      },
      {
       "output_type": "stream",
       "stream": "stdout",
       "text": [
        "\n",
        "93 urls scraped\n",
        "https://blog.twitter.com/2014/introducing-the-twitter-us-2014-election-website scraped"
       ]
      },
      {
       "output_type": "stream",
       "stream": "stdout",
       "text": [
        "\n",
        "94 urls scraped\n",
        "http://www.dickmorris.com/republicans-must-seize-momentum-midterm-victories/ scraped"
       ]
      },
      {
       "output_type": "stream",
       "stream": "stdout",
       "text": [
        "\n",
        "95 urls scraped\n",
        "http://rootscamp.neworganizing.com/en-us/awards/rootscamp-2014/mvo/entry/marisa-francos-profile/ scraped"
       ]
      },
      {
       "output_type": "stream",
       "stream": "stdout",
       "text": [
        "\n",
        "96 urls scraped\n",
        "http://bit.ly/1y9lTMA scraped"
       ]
      },
      {
       "output_type": "stream",
       "stream": "stdout",
       "text": [
        "\n",
        "97 urls scraped\n",
        "http://www.politico.com/story/2014/11/rands-grand-plan-112729_full.html scraped"
       ]
      },
      {
       "output_type": "stream",
       "stream": "stdout",
       "text": [
        "\n",
        "98 urls scraped\n",
        "http://huff.to/1EpAGqj scraped"
       ]
      },
      {
       "output_type": "stream",
       "stream": "stdout",
       "text": [
        "\n",
        "99 urls scraped\n",
        "http://southerntorch.com/want-represent-dekalb-county-save/ scraped"
       ]
      },
      {
       "output_type": "stream",
       "stream": "stdout",
       "text": [
        "\n",
        "100 urls scraped\n",
        "http://www.afr.net/live-video-player.aspx scraped"
       ]
      },
      {
       "output_type": "stream",
       "stream": "stdout",
       "text": [
        "\n",
        "101 urls scraped\n",
        "http://talkingpointsmemo.com/livewire/princeton-experts-say-us-no-longer-democracy scraped"
       ]
      },
      {
       "output_type": "stream",
       "stream": "stdout",
       "text": [
        "\n",
        "102 urls scraped\n",
        "http://goo.gl/T2zR0g scraped"
       ]
      },
      {
       "output_type": "stream",
       "stream": "stdout",
       "text": [
        "\n",
        "103 urls scraped\n",
        "http://www.news.com.au/national/victoria/occasional-childcare-wins-855m-to-increase-spaces-under-napthineabbott-agreement/story-fnii5sms-1227118827454 scraped"
       ]
      },
      {
       "output_type": "stream",
       "stream": "stdout",
       "text": [
        "\n",
        "104 urls scraped\n",
        "https://soundcloud.com/valleycountry/john-murphy-council-candidate scraped"
       ]
      },
      {
       "output_type": "stream",
       "stream": "stdout",
       "text": [
        "\n",
        "105 urls scraped\n",
        "https://soundcloud.com/valleycountry/tom-bulmer-school-trustee-candidate scraped"
       ]
      },
      {
       "output_type": "stream",
       "stream": "stdout",
       "text": [
        "\n",
        "106 urls scraped\n",
        "https://soundcloud.com/valleycountry/gerry-thiessen-mayor-candidate scraped"
       ]
      },
      {
       "output_type": "stream",
       "stream": "stdout",
       "text": [
        "\n",
        "107 urls scraped\n",
        "https://soundcloud.com/valleycountry/brian-frenkel-counciil-candidate scraped"
       ]
      },
      {
       "output_type": "stream",
       "stream": "stdout",
       "text": [
        "\n",
        "108 urls scraped\n",
        "https://soundcloud.com/valleycountry/spencer-siemens-council-candidate scraped"
       ]
      },
      {
       "output_type": "stream",
       "stream": "stdout",
       "text": [
        "\n",
        "109 urls scraped\n",
        "https://soundcloud.com/valleycountry/jean-johnson-school-trustee-candidate scraped"
       ]
      },
      {
       "output_type": "stream",
       "stream": "stdout",
       "text": [
        "\n",
        "110 urls scraped\n",
        "https://soundcloud.com/valleycountry/jessi-wilson-mayoral-candidate scraped"
       ]
      },
      {
       "output_type": "stream",
       "stream": "stdout",
       "text": [
        "\n",
        "111 urls scraped\n",
        "http://www.eiaonline.com/intercepts/2014/11/10/gop-wave-reaches-170-degrees-west-longitude/ scraped"
       ]
      },
      {
       "output_type": "stream",
       "stream": "stdout",
       "text": [
        "\n",
        "112 urls scraped\n",
        "http://www.news.com.au/national/victoria/sir-david-attenborough-pleads-for-national-park-to-save-leadbeaters-possum/story-fnii5sms-1227118856070 scraped"
       ]
      },
      {
       "output_type": "stream",
       "stream": "stdout",
       "text": [
        "\n",
        "113 urls scraped\n",
        "http://bit.ly/1xs0pfu scraped"
       ]
      },
      {
       "output_type": "stream",
       "stream": "stdout",
       "text": [
        "\n",
        "114 urls scraped\n",
        "http://samuel-warde.com/2014/07/startling-hypocrisy-conservative-icon-dr-ben-carson/ scraped"
       ]
      },
      {
       "output_type": "stream",
       "stream": "stdout",
       "text": [
        "\n",
        "115 urls scraped\n",
        "http://www.news.com.au/national/victoria/victorian-election-2014-vietnam-war-veterans-to-get-welcome-home-honour-if-labor-wins/story-fnii5sms-1227118848741 scraped"
       ]
      },
      {
       "output_type": "stream",
       "stream": "stdout",
       "text": [
        "\n",
        "116 urls scraped\n",
        "http://www.patrickstomlinson.com/2014/11/11/looking-ahead-to-2016/ scraped"
       ]
      },
      {
       "output_type": "stream",
       "stream": "stdout",
       "text": [
        "\n",
        "117 urls scraped\n",
        "http://www.abc.net.au/news/2014-11-10/victoria-election-2014-labor-reveals-compusory-driver-education/5879502?section=vic scraped"
       ]
      },
      {
       "output_type": "stream",
       "stream": "stdout",
       "text": [
        "\n",
        "118 urls scraped\n",
        "http://www.abc.net.au/news/2014-11-11/vote-compass-results-show-voters-support-east-east-link/5880648?section=vic scraped"
       ]
      },
      {
       "output_type": "stream",
       "stream": "stdout",
       "text": [
        "\n",
        "119 urls scraped\n",
        "http://ow.ly/E5dAJ scraped"
       ]
      },
      {
       "output_type": "stream",
       "stream": "stdout",
       "text": [
        "\n",
        "120 urls scraped\n",
        "http://nyr.kr/10v4zGP scraped"
       ]
      },
      {
       "output_type": "stream",
       "stream": "stdout",
       "text": [
        "\n",
        "121 urls scraped\n",
        "http://bluecorddude.blogspot.com/2014/11/on-way.html scraped"
       ]
      },
      {
       "output_type": "stream",
       "stream": "stdout",
       "text": [
        "\n",
        "122 urls scraped\n",
        "http://www.sfexaminer.com/sanfrancisco/chius-victory-leaves-several-scenarios-for-board-president-district-3-seats/Content?oid=2911558 scraped"
       ]
      },
      {
       "output_type": "stream",
       "stream": "stdout",
       "text": [
        "\n",
        "123 urls scraped\n",
        "http://stlouis.cbslocal.com/2014/11/10/ferguson-resident-we-are-getting-prepared-for-war/ scraped"
       ]
      },
      {
       "output_type": "stream",
       "stream": "stdout",
       "text": [
        "\n",
        "124 urls scraped\n",
        "https://www.thedodo.com/community/BarbiTwins/how-to-solve-the-wild-horse-pr-724291954.html scraped"
       ]
      },
      {
       "output_type": "stream",
       "stream": "stdout",
       "text": [
        "\n",
        "125 urls scraped\n",
        "http://www.usatoday.com/story/money/columnist/wolff/2014/11/09/the-sad-fate-of-msnbc/18601843/ scraped"
       ]
      },
      {
       "output_type": "stream",
       "stream": "stdout",
       "text": [
        "\n",
        "126 urls scraped\n",
        "http://ift.tt/1AWBAfL scraped"
       ]
      },
      {
       "output_type": "stream",
       "stream": "stdout",
       "text": [
        "\n",
        "127 urls scraped\n",
        "http://wapo.st/1AU3ybZ scraped"
       ]
      },
      {
       "output_type": "stream",
       "stream": "stdout",
       "text": [
        "\n",
        "128 urls scraped\n",
        "http://t.usnews.com/Z42gpf scraped"
       ]
      },
      {
       "output_type": "stream",
       "stream": "stdout",
       "text": [
        "\n",
        "129 urls scraped\n",
        "http://media.cq.com/elections/2014/ scraped"
       ]
      },
      {
       "output_type": "stream",
       "stream": "stdout",
       "text": [
        "\n",
        "130 urls scraped\n",
        "http://tl.gd/n_1sibmdk scraped"
       ]
      },
      {
       "output_type": "stream",
       "stream": "stdout",
       "text": [
        "\n",
        "131 urls scraped\n",
        "http://bedrosian.usc.edu/post-midterm-reading-digest/ scraped"
       ]
      },
      {
       "output_type": "stream",
       "stream": "stdout",
       "text": [
        "\n",
        "132 urls scraped\n",
        "http://ow.ly/E2Io9 scraped"
       ]
      },
      {
       "output_type": "stream",
       "stream": "stdout",
       "text": [
        "\n",
        "133 urls scraped\n",
        "http://dailysignal.com/2014/11/09/caught-camera-obamacare-architect-admits-deceiving-americans-pass-law/ scraped"
       ]
      },
      {
       "output_type": "stream",
       "stream": "stdout",
       "text": [
        "\n",
        "134 urls scraped\n",
        "http://canadafreepress.com/index.php/article/67448#.VGE4G5wu_pY.twitter scraped"
       ]
      },
      {
       "output_type": "stream",
       "stream": "stdout",
       "text": [
        "\n",
        "135 urls scraped\n",
        "http://wapo.st/1zfB8EN scraped"
       ]
      },
      {
       "output_type": "stream",
       "stream": "stdout",
       "text": [
        "\n",
        "136 urls scraped\n",
        "http://bit.ly/1wApOnp scraped"
       ]
      },
      {
       "output_type": "stream",
       "stream": "stdout",
       "text": [
        "\n",
        "137 urls scraped\n",
        "http://bit.ly/1u2QRa4 scraped"
       ]
      },
      {
       "output_type": "stream",
       "stream": "stdout",
       "text": [
        "\n",
        "138 urls scraped\n",
        "http://blogs.post-gazette.com/opinion/rob-rogers-cartoons/42859-obama-bourbon scraped"
       ]
      },
      {
       "output_type": "stream",
       "stream": "stdout",
       "text": [
        "\n",
        "139 urls scraped\n",
        "http://bit.ly/1xrT1kk scraped"
       ]
      },
      {
       "output_type": "stream",
       "stream": "stdout",
       "text": [
        "\n",
        "140 urls scraped\n",
        "http://huff.to/1quboPE scraped"
       ]
      },
      {
       "output_type": "stream",
       "stream": "stdout",
       "text": [
        "\n",
        "141 urls scraped\n",
        "http://on.wsj.com/1wxaJml scraped"
       ]
      },
      {
       "output_type": "stream",
       "stream": "stdout",
       "text": [
        "\n",
        "142 urls scraped\n",
        "http://ow.ly/E2L7j scraped"
       ]
      },
      {
       "output_type": "stream",
       "stream": "stdout",
       "text": [
        "\n",
        "143 urls scraped\n",
        "http://ow.ly/E57y0 scraped"
       ]
      },
      {
       "output_type": "stream",
       "stream": "stdout",
       "text": [
        "\n",
        "144 urls scraped\n",
        "http://bit.ly/1qAW8AK scraped"
       ]
      },
      {
       "output_type": "stream",
       "stream": "stdout",
       "text": [
        "\n",
        "145 urls scraped\n",
        "http://wapo.st/10RFKVT scraped"
       ]
      },
      {
       "output_type": "stream",
       "stream": "stdout",
       "text": [
        "\n",
        "146 urls scraped\n",
        "http://ow.ly/DVocY scraped"
       ]
      },
      {
       "output_type": "stream",
       "stream": "stdout",
       "text": [
        "\n",
        "147 urls scraped\n",
        "http://ow.ly/E50m5 scraped"
       ]
      },
      {
       "output_type": "stream",
       "stream": "stdout",
       "text": [
        "\n",
        "148 urls scraped\n",
        "http://spr.ly/6013S4Ax scraped"
       ]
      },
      {
       "output_type": "stream",
       "stream": "stdout",
       "text": [
        "\n",
        "149 urls scraped\n",
        "http://bit.ly/1u1GHGU scraped"
       ]
      },
      {
       "output_type": "stream",
       "stream": "stdout",
       "text": [
        "\n",
        "150 urls scraped\n",
        "http://bit.ly/megov scraped"
       ]
      },
      {
       "output_type": "stream",
       "stream": "stdout",
       "text": [
        "\n",
        "151 urls scraped\n",
        "http://ow.ly/E53Rh scraped"
       ]
      },
      {
       "output_type": "stream",
       "stream": "stdout",
       "text": [
        "\n",
        "152 urls scraped\n",
        "http://ow.ly/DVfsO scraped"
       ]
      },
      {
       "output_type": "stream",
       "stream": "stdout",
       "text": [
        "\n",
        "153 urls scraped\n",
        "http://bit.ly/1xn3hJM scraped"
       ]
      },
      {
       "output_type": "stream",
       "stream": "stdout",
       "text": [
        "\n",
        "154 urls scraped\n",
        "http://www.washingtonexaminer.com/liberal-groups-send-obama-to-do-lists/article/2555949 scraped"
       ]
      },
      {
       "output_type": "stream",
       "stream": "stdout",
       "text": [
        "\n",
        "155 urls scraped\n",
        "http://bit.ly/1x9DNSC scraped"
       ]
      },
      {
       "output_type": "stream",
       "stream": "stdout",
       "text": [
        "\n",
        "156 urls scraped\n",
        "http://spr.ly/6014S4AI scraped"
       ]
      },
      {
       "output_type": "stream",
       "stream": "stdout",
       "text": [
        "\n",
        "157 urls scraped\n",
        "http://spr.ly/6015S4AL scraped"
       ]
      },
      {
       "output_type": "stream",
       "stream": "stdout",
       "text": [
        "\n",
        "158 urls scraped\n",
        "http://bit.ly/1ugf4tm scraped"
       ]
      },
      {
       "output_type": "stream",
       "stream": "stdout",
       "text": [
        "\n",
        "159 urls scraped\n",
        "http://www.wsj.com/video/what-do-tuesday-elections-tell-us-about-2016/86DC24C9-B00B-44CC-B3E1-7A5E86ACF868.html scraped"
       ]
      },
      {
       "output_type": "stream",
       "stream": "stdout",
       "text": [
        "\n",
        "160 urls scraped\n",
        "http://practicalpoliticking.com/2014/11/10/monday-mania-1110-blame-excuses-and-threats-oh-my/ scraped"
       ]
      },
      {
       "output_type": "stream",
       "stream": "stdout",
       "text": [
        "\n",
        "161 urls scraped\n",
        "http://brkn.gs/1yfxgme scraped"
       ]
      },
      {
       "output_type": "stream",
       "stream": "stdout",
       "text": [
        "\n",
        "162 urls scraped\n",
        "http://ln.is/www.mediaite.com/tv/MlASe scraped"
       ]
      },
      {
       "output_type": "stream",
       "stream": "stdout",
       "text": [
        "\n",
        "163 urls scraped\n",
        "http://ow.ly/E51M4 scraped"
       ]
      },
      {
       "output_type": "stream",
       "stream": "stdout",
       "text": [
        "\n",
        "164 urls scraped\n",
        "http://www.weeklystandard.com/blogs/president-vp-may-differ-immigration-strategy-obama-angrily-cut-biden_818457.html scraped"
       ]
      },
      {
       "output_type": "stream",
       "stream": "stdout",
       "text": [
        "\n",
        "165 urls scraped\n",
        "http://mp12.co.vu/18Td scraped"
       ]
      },
      {
       "output_type": "stream",
       "stream": "stdout",
       "text": [
        "\n",
        "166 urls scraped\n",
        "http://mp12.co.vu/18TZ scraped"
       ]
      },
      {
       "output_type": "stream",
       "stream": "stdout",
       "text": [
        "\n",
        "167 urls scraped\n",
        "http://jp86.co.vu/2qK9 scraped"
       ]
      },
      {
       "output_type": "stream",
       "stream": "stdout",
       "text": [
        "\n",
        "168 urls scraped\n",
        "http://nyti.ms/1y3ParM scraped"
       ]
      },
      {
       "output_type": "stream",
       "stream": "stdout",
       "text": [
        "\n",
        "169 urls scraped\n",
        "http://bit.ly/1zfAvLt scraped"
       ]
      },
      {
       "output_type": "stream",
       "stream": "stdout",
       "text": [
        "\n",
        "170 urls scraped\n",
        "http://news.sciencemag.org/biology/2014/11/after-election-2014-21st-century-cures scraped"
       ]
      },
      {
       "output_type": "stream",
       "stream": "stdout",
       "text": [
        "\n",
        "171 urls scraped\n",
        "http://www.reuters.com/article/2014/11/07/us-usa-court-obamacare-idUSKBN0IR1Z720141107 scraped"
       ]
      },
      {
       "output_type": "stream",
       "stream": "stdout",
       "text": [
        "\n",
        "172 urls scraped\n",
        "http://ht.ly/E1vpv scraped"
       ]
      },
      {
       "output_type": "stream",
       "stream": "stdout",
       "text": [
        "\n",
        "173 urls scraped\n",
        "http://ht.ly/E1vpy scraped"
       ]
      },
      {
       "output_type": "stream",
       "stream": "stdout",
       "text": [
        "\n",
        "174 urls scraped\n",
        "http://snlg.ht/ROI-ELECTION2014 scraped"
       ]
      },
      {
       "output_type": "stream",
       "stream": "stdout",
       "text": [
        "\n",
        "175 urls scraped\n",
        "http://bit.ly/1uUtNMe scraped"
       ]
      },
      {
       "output_type": "stream",
       "stream": "stdout",
       "text": [
        "\n",
        "176 urls scraped\n",
        "http://po.st/xBCQvg scraped"
       ]
      },
      {
       "output_type": "stream",
       "stream": "stdout",
       "text": [
        "\n",
        "177 urls scraped\n",
        "http://atr.rollcall.com/elections-2014-barber-mcsally-uncalled-races/ scraped"
       ]
      },
      {
       "output_type": "stream",
       "stream": "stdout",
       "text": [
        "\n",
        "178 urls scraped\n",
        "http://po.st/Mv8EOp scraped"
       ]
      },
      {
       "output_type": "stream",
       "stream": "stdout",
       "text": [
        "\n",
        "179 urls scraped\n",
        "http://goo.gl/muWJcO scraped"
       ]
      },
      {
       "output_type": "stream",
       "stream": "stdout",
       "text": [
        "\n",
        "180 urls scraped\n",
        "http://www.scribd.com/doc/245649290/Lessons-from-the-trail scraped"
       ]
      },
      {
       "output_type": "stream",
       "stream": "stdout",
       "text": [
        "\n",
        "181 urls scraped\n",
        "http://YourVoiceHeard.org scraped"
       ]
      },
      {
       "output_type": "stream",
       "stream": "stdout",
       "text": [
        "\n",
        "182 urls scraped\n",
        "http://markcrispinmiller.com/2014/11/ess-machines-are-flipping-votes-in-arkansas/ scraped"
       ]
      },
      {
       "output_type": "stream",
       "stream": "stdout",
       "text": [
        "\n",
        "183 urls scraped\n",
        "http://instagram.com/p/vO80X5CN71/ scraped"
       ]
      },
      {
       "output_type": "stream",
       "stream": "stdout",
       "text": [
        "\n",
        "184 urls scraped\n",
        "http://www.politicususa.com/2014/11/09/final-back-odd-outcome-mischief.html scraped"
       ]
      },
      {
       "output_type": "stream",
       "stream": "stdout",
       "text": [
        "\n",
        "185 urls scraped\n",
        "http://ow.ly/E4qb7 scraped"
       ]
      },
      {
       "output_type": "stream",
       "stream": "stdout",
       "text": [
        "\n",
        "186 urls scraped\n",
        "http://www.cnet.com/news/president-obama-calls-on-fcc-to-keep-internet-free-and-open/ scraped"
       ]
      },
      {
       "output_type": "stream",
       "stream": "stdout",
       "text": [
        "\n",
        "187 urls scraped\n",
        "http://www.heraldonline.com/2014/11/09/6509880/democratic-nominee-for-2018-its.html scraped"
       ]
      },
      {
       "output_type": "stream",
       "stream": "stdout",
       "text": [
        "\n",
        "188 urls scraped\n",
        "http://bit.ly/1xdCl1D scraped"
       ]
      },
      {
       "output_type": "stream",
       "stream": "stdout",
       "text": [
        "\n",
        "189 urls scraped\n",
        "http://ow.ly/E4Tle scraped"
       ]
      },
      {
       "output_type": "stream",
       "stream": "stdout",
       "text": [
        "\n",
        "190 urls scraped\n",
        "http://bit.ly/1xmR7jY scraped"
       ]
      },
      {
       "output_type": "stream",
       "stream": "stdout",
       "text": [
        "\n",
        "191 urls scraped\n",
        "http://tmblr.co/ZGYu2m1VHYcEC scraped"
       ]
      },
      {
       "output_type": "stream",
       "stream": "stdout",
       "text": [
        "\n",
        "192 urls scraped\n",
        "http://buff.ly/1xdKMKk scraped"
       ]
      },
      {
       "output_type": "stream",
       "stream": "stdout",
       "text": [
        "\n",
        "193 urls scraped\n",
        "http://fxn.ws/1x3uP7U scraped"
       ]
      },
      {
       "output_type": "stream",
       "stream": "stdout",
       "text": [
        "\n",
        "194 urls scraped\n",
        "http://ow.ly/DPGl0 scraped"
       ]
      },
      {
       "output_type": "stream",
       "stream": "stdout",
       "text": [
        "\n",
        "195 urls scraped\n",
        "http://ow.ly/E49rW scraped"
       ]
      },
      {
       "output_type": "stream",
       "stream": "stdout",
       "text": [
        "\n",
        "196 urls scraped\n",
        "http://bit.ly/1zHwC4Z scraped"
       ]
      },
      {
       "output_type": "stream",
       "stream": "stdout",
       "text": [
        "\n",
        "197 urls scraped\n",
        "http://fasimetrics.herokuapp.com/v3rxGL scraped"
       ]
      },
      {
       "output_type": "stream",
       "stream": "stdout",
       "text": [
        "\n",
        "198 urls scraped\n",
        "http://www.ifallsjournal.com/news/election/elections-see-power-change-party-hands/article_252e8feb-829c-5b6f-8d1a-5fefd85a6abd.html scraped"
       ]
      },
      {
       "output_type": "stream",
       "stream": "stdout",
       "text": [
        "\n",
        "199 urls scraped\n",
        "http://www.hrc.org/blog/entry/hrc-congratulates-pro-equality-representative-sinema-on-victory scraped"
       ]
      },
      {
       "output_type": "stream",
       "stream": "stdout",
       "text": [
        "\n",
        "200 urls scraped\n",
        "http://bit.ly/1sw0Gc2 scraped"
       ]
      },
      {
       "output_type": "stream",
       "stream": "stdout",
       "text": [
        "\n",
        "201 urls scraped\n",
        "https://play.google.com/store/apps/details?id=com.zeshanmomin.itsallpolitical scraped"
       ]
      },
      {
       "output_type": "stream",
       "stream": "stdout",
       "text": [
        "\n",
        "202 urls scraped\n",
        "http://bit.ly/1zGQ4yJ scraped"
       ]
      },
      {
       "output_type": "stream",
       "stream": "stdout",
       "text": [
        "\n",
        "203 urls scraped\n",
        "http://micfarris.us/1ATiSpp scraped"
       ]
      },
      {
       "output_type": "stream",
       "stream": "stdout",
       "text": [
        "\n",
        "204 urls scraped\n",
        "http://ow.ly/E4m3x scraped"
       ]
      },
      {
       "output_type": "stream",
       "stream": "stdout",
       "text": [
        "\n",
        "205 urls scraped\n",
        "http://tobtr.com/s/7025771 scraped"
       ]
      },
      {
       "output_type": "stream",
       "stream": "stdout",
       "text": [
        "\n",
        "206 urls scraped\n",
        "http://ow.ly/E4m3A scraped"
       ]
      },
      {
       "output_type": "stream",
       "stream": "stdout",
       "text": [
        "\n",
        "207 urls scraped\n",
        "http://ow.ly/E4m3r scraped"
       ]
      },
      {
       "output_type": "stream",
       "stream": "stdout",
       "text": [
        "\n",
        "208 urls scraped\n",
        "http://cnn.it/10TQeVo scraped"
       ]
      },
      {
       "output_type": "stream",
       "stream": "stdout",
       "text": [
        "\n",
        "209 urls scraped\n",
        "http://politi.co/1yqnPAv scraped"
       ]
      },
      {
       "output_type": "stream",
       "stream": "stdout",
       "text": [
        "\n",
        "210 urls scraped\n",
        "http://www.oaupfront.com/?p=817 scraped"
       ]
      },
      {
       "output_type": "stream",
       "stream": "stdout",
       "text": [
        "\n",
        "211 urls scraped\n",
        "http://buff.ly/1uVXw8e scraped"
       ]
      },
      {
       "output_type": "stream",
       "stream": "stdout",
       "text": [
        "\n",
        "212 urls scraped\n",
        "http://ylaw.us/1tQeFhh scraped"
       ]
      },
      {
       "output_type": "stream",
       "stream": "stdout",
       "text": [
        "\n",
        "213 urls scraped\n",
        "http://www.mercurynews.com/my-town/ci_26855300/eye-east-bay-diablo-country-club-anniversary-celebration scraped"
       ]
      },
      {
       "output_type": "stream",
       "stream": "stdout",
       "text": [
        "\n",
        "214 urls scraped\n",
        "http://fb.me/2yOhjqrDo scraped"
       ]
      },
      {
       "output_type": "stream",
       "stream": "stdout",
       "text": [
        "\n",
        "215 urls scraped\n",
        "http://y-g.co/1xdBfD1 scraped"
       ]
      },
      {
       "output_type": "stream",
       "stream": "stdout",
       "text": [
        "\n",
        "216 urls scraped\n",
        "http://goo.gl/YK2NYo scraped"
       ]
      },
      {
       "output_type": "stream",
       "stream": "stdout",
       "text": [
        "\n",
        "217 urls scraped\n",
        "http://www.nytimes.com/2014/11/09/opinion/sunday/dark-money-helped-win-the-senate.html?smid=fb-share&_r=2 scraped"
       ]
      },
      {
       "output_type": "stream",
       "stream": "stdout",
       "text": [
        "\n",
        "218 urls scraped\n",
        "http://j.mp/1uGMinM scraped"
       ]
      },
      {
       "output_type": "stream",
       "stream": "stdout",
       "text": [
        "\n",
        "219 urls scraped\n",
        "http://www.the-peak.ca/2014/11/poll-party/ scraped"
       ]
      },
      {
       "output_type": "stream",
       "stream": "stdout",
       "text": [
        "\n",
        "220 urls scraped\n",
        "http://bit.ly/1pkQjfD scraped"
       ]
      },
      {
       "output_type": "stream",
       "stream": "stdout",
       "text": [
        "\n",
        "221 urls scraped\n",
        "http://bit.ly/119ZBAd scraped"
       ]
      },
      {
       "output_type": "stream",
       "stream": "stdout",
       "text": [
        "\n",
        "222 urls scraped\n",
        "http://CITIZENROSEBUD.NET scraped"
       ]
      },
      {
       "output_type": "stream",
       "stream": "stdout",
       "text": [
        "\n",
        "223 urls scraped\n",
        "http://shar.es/10Ck00 scraped"
       ]
      },
      {
       "output_type": "stream",
       "stream": "stdout",
       "text": [
        "\n",
        "224 urls scraped\n",
        "https://www3.gotomeeting.com/register/383002670 scraped"
       ]
      },
      {
       "output_type": "stream",
       "stream": "stdout",
       "text": [
        "\n",
        "225 urls scraped\n",
        "http://m.wusfnews.wusf.usf.edu/?utm_referrer=http%3A%2F%2Fwww.google.com#mobile/5946 scraped"
       ]
      },
      {
       "output_type": "stream",
       "stream": "stdout",
       "text": [
        "\n",
        "226 urls scraped\n",
        "http://talkingpointsmemo.com/edblog/forget-the-chatter-this-is-the-democrats-real-problem scraped"
       ]
      },
      {
       "output_type": "stream",
       "stream": "stdout",
       "text": [
        "\n",
        "227 urls scraped\n",
        "http://ow.ly/E2vfu scraped"
       ]
      },
      {
       "output_type": "stream",
       "stream": "stdout",
       "text": [
        "\n",
        "228 urls scraped\n",
        "http://youtu.be/juv6IYo0maU?list=PLvMZxK22whIv68sXHqMtIW8lWimNr4oQc scraped"
       ]
      },
      {
       "output_type": "stream",
       "stream": "stdout",
       "text": [
        "\n",
        "229 urls scraped\n",
        "http://bit.ly/1xh453L scraped"
       ]
      },
      {
       "output_type": "stream",
       "stream": "stdout",
       "text": [
        "\n",
        "230 urls scraped\n",
        "http://ow.ly/E4x7x scraped"
       ]
      },
      {
       "output_type": "stream",
       "stream": "stdout",
       "text": [
        "\n",
        "231 urls scraped\n",
        "http://bit.ly/1tNmBzX scraped"
       ]
      },
      {
       "output_type": "stream",
       "stream": "stdout",
       "text": [
        "\n",
        "232 urls scraped\n",
        "http://on.pnj.com/1qoy2Jm scraped"
       ]
      },
      {
       "output_type": "stream",
       "stream": "stdout",
       "text": [
        "\n",
        "233 urls scraped\n",
        "http://www.breitbart.com/Big-Government/2014/11/06/Democrats-Blew-1-64-Billion-on-Midterm-Elections scraped"
       ]
      },
      {
       "output_type": "stream",
       "stream": "stdout",
       "text": [
        "\n",
        "234 urls scraped\n",
        "http://lat.ms/1uSl1Pl scraped"
       ]
      },
      {
       "output_type": "stream",
       "stream": "stdout",
       "text": [
        "\n",
        "235 urls scraped\n",
        "http://driz.ly/election scraped"
       ]
      },
      {
       "output_type": "stream",
       "stream": "stdout",
       "text": [
        "\n",
        "236 urls scraped\n",
        "http://bit.ly/1tCDtrs scraped"
       ]
      },
      {
       "output_type": "stream",
       "stream": "stdout",
       "text": [
        "\n",
        "237 urls scraped\n",
        "http://ow.ly/E3Rsp scraped"
       ]
      },
      {
       "output_type": "stream",
       "stream": "stdout",
       "text": [
        "\n",
        "238 urls scraped\n",
        "http://y-g.co/1zfhV64 scraped"
       ]
      },
      {
       "output_type": "stream",
       "stream": "stdout",
       "text": [
        "\n",
        "239 urls scraped\n",
        "http://huff.to/1ATAGRe scraped"
       ]
      },
      {
       "output_type": "stream",
       "stream": "stdout",
       "text": [
        "\n",
        "240 urls scraped\n",
        "http://ln.is/natl.re/avBcO scraped"
       ]
      },
      {
       "output_type": "stream",
       "stream": "stdout",
       "text": [
        "\n",
        "241 urls scraped\n",
        "http://liberalbias.com/post/4134/aging-white-voters-mad-black-man-fixed-economy/ scraped"
       ]
      },
      {
       "output_type": "stream",
       "stream": "stdout",
       "text": [
        "\n",
        "242 urls scraped\n",
        "http://bit.ly/1swkdsW scraped"
       ]
      },
      {
       "output_type": "stream",
       "stream": "stdout",
       "text": [
        "\n",
        "243 urls scraped\n",
        "http://buff.ly/1x4yi7I scraped"
       ]
      },
      {
       "output_type": "stream",
       "stream": "stdout",
       "text": [
        "\n",
        "244 urls scraped\n",
        "http://shar.es/10Fmoz scraped"
       ]
      },
      {
       "output_type": "stream",
       "stream": "stdout",
       "text": [
        "\n",
        "245 urls scraped\n",
        "http://ow.ly/E47AN scraped"
       ]
      },
      {
       "output_type": "stream",
       "stream": "stdout",
       "text": [
        "\n",
        "246 urls scraped\n",
        "http://shar.es/10FakG scraped"
       ]
      },
      {
       "output_type": "stream",
       "stream": "stdout",
       "text": [
        "\n",
        "247 urls scraped\n",
        "http://goo.gl/9lhuPp scraped"
       ]
      },
      {
       "output_type": "stream",
       "stream": "stdout",
       "text": [
        "\n",
        "248 urls scraped\n",
        "http://contextflorida.com/diane-roberts-hey-gop-election-mandate-protect-environment/ scraped"
       ]
      },
      {
       "output_type": "stream",
       "stream": "stdout",
       "text": [
        "\n",
        "249 urls scraped\n",
        "http://ln.is/a.disquscdn.com/uplo/NyHQ4 scraped"
       ]
      },
      {
       "output_type": "stream",
       "stream": "stdout",
       "text": [
        "\n",
        "250 urls scraped\n",
        "http://t.usnews.com/Z428t5 scraped"
       ]
      },
      {
       "output_type": "stream",
       "stream": "stdout",
       "text": [
        "\n",
        "251 urls scraped\n",
        "http://bit.ly/1h6dqWS scraped"
       ]
      },
      {
       "output_type": "stream",
       "stream": "stdout",
       "text": [
        "\n",
        "252 urls scraped\n",
        "http://ow.ly/E2FnE scraped"
       ]
      },
      {
       "output_type": "stream",
       "stream": "stdout",
       "text": [
        "\n",
        "253 urls scraped\n",
        "http://www.dailykos.com/story/2014/11/06/1342751/-Michigan-Dems-Got-More-Votes-and-Still-Lost# scraped"
       ]
      },
      {
       "output_type": "stream",
       "stream": "stdout",
       "text": [
        "\n",
        "254 urls scraped\n",
        "http://j.mp/1tFyXsd scraped"
       ]
      },
      {
       "output_type": "stream",
       "stream": "stdout",
       "text": [
        "\n",
        "255 urls scraped\n",
        "http://www.nationalmortgageprofessional.com/news66088/warren-repeats-call-break-major-banks scraped"
       ]
      },
      {
       "output_type": "stream",
       "stream": "stdout",
       "text": [
        "\n",
        "256 urls scraped\n",
        "http://cardinalmaps.com/detailed-election-maps-2014-midterms/ scraped"
       ]
      },
      {
       "output_type": "stream",
       "stream": "stdout",
       "text": [
        "\n",
        "257 urls scraped\n",
        "http://bit.ly/10Ruf0s scraped"
       ]
      },
      {
       "output_type": "stream",
       "stream": "stdout",
       "text": [
        "\n",
        "258 urls scraped\n",
        "http://www.muslimlinkpaper.com/national-news/16-national-news/3776-for-disillusioned-muslim-community-a-struggle-to-get-the-vote-out.html scraped"
       ]
      },
      {
       "output_type": "stream",
       "stream": "stdout",
       "text": [
        "\n",
        "259 urls scraped\n",
        "http://www.gainesville.com/article/20141109/OPINION01/141109633/1076/opinion?p=2&tc=pg scraped"
       ]
      },
      {
       "output_type": "stream",
       "stream": "stdout",
       "text": [
        "\n",
        "260 urls scraped\n",
        "http://www.statista.com/statistics/351823/2014-midterm-elections-preliminary-results/ scraped"
       ]
      },
      {
       "output_type": "stream",
       "stream": "stdout",
       "text": [
        "\n",
        "261 urls scraped\n",
        "http://bit.ly/1oBZd7P scraped"
       ]
      },
      {
       "output_type": "stream",
       "stream": "stdout",
       "text": [
        "\n",
        "262 urls scraped\n",
        "http://www.vdare.com/articles/the-fulford-file-george-will-on-how-to-waste-the-gop-victory-vdare-com-has-some-better-ideas scraped"
       ]
      },
      {
       "output_type": "stream",
       "stream": "stdout",
       "text": [
        "\n",
        "263 urls scraped\n",
        "http://bit.ly/1GIwuUH scraped"
       ]
      },
      {
       "output_type": "stream",
       "stream": "stdout",
       "text": [
        "\n",
        "264 urls scraped\n",
        "http://fb.me/4nOpTyvTG scraped"
       ]
      },
      {
       "output_type": "stream",
       "stream": "stdout",
       "text": [
        "\n",
        "265 urls scraped\n",
        "http://api.ning.com/files/8HLa0OEkxj*yecSvWYVE*7*fm5pwhpFgxCEhjNnbjkw30fZefGlZGpsbx9ks5JWI6AFhh2No0FcVqtLzMw7D*qeU1tFV02Wk/AmericaEaglewatchingGOP.jpg scraped"
       ]
      },
      {
       "output_type": "stream",
       "stream": "stdout",
       "text": [
        "\n",
        "266 urls scraped\n",
        "http://rhrc.us/1Ev0fGv scraped"
       ]
      },
      {
       "output_type": "stream",
       "stream": "stdout",
       "text": [
        "\n",
        "267 urls scraped\n",
        "http://ift.tt/1ACkPXb scraped"
       ]
      },
      {
       "output_type": "stream",
       "stream": "stdout",
       "text": [
        "\n",
        "268 urls scraped\n",
        "http://images.sodahead.com/polls/004066837/intolerance-125093614885_xlarge.jpeg scraped"
       ]
      },
      {
       "output_type": "stream",
       "stream": "stdout",
       "text": [
        "\n",
        "269 urls scraped\n",
        "http://fb.me/6Sm1wfEkZ scraped"
       ]
      },
      {
       "output_type": "stream",
       "stream": "stdout",
       "text": [
        "\n",
        "270 urls scraped\n",
        "http://to.pbs.org/1zfgJ2I scraped"
       ]
      },
      {
       "output_type": "stream",
       "stream": "stdout",
       "text": [
        "\n",
        "271 urls scraped\n",
        "http://www.nytimes.com/2014/11/06/opinion/nicholas-kristof-americas-political-dysfunction.html scraped"
       ]
      },
      {
       "output_type": "stream",
       "stream": "stdout",
       "text": [
        "\n",
        "272 urls scraped\n",
        "https://represent.us/action/tallahassee/ scraped"
       ]
      },
      {
       "output_type": "stream",
       "stream": "stdout",
       "text": [
        "\n",
        "273 urls scraped\n",
        "http://fb.me/6SwnX3dc9 scraped"
       ]
      },
      {
       "output_type": "stream",
       "stream": "stdout",
       "text": [
        "\n",
        "274 urls scraped\n",
        "http://documents.clc-ctc.ca/Pacific/Victoria-EN.pdf scraped"
       ]
      },
      {
       "output_type": "stream",
       "stream": "stdout",
       "text": [
        "\n",
        "275 urls scraped\n",
        "http://goo.gl/AO5koz scraped"
       ]
      },
      {
       "output_type": "stream",
       "stream": "stdout",
       "text": [
        "\n",
        "276 urls scraped\n",
        "http://ow.ly/E4v9k scraped"
       ]
      },
      {
       "output_type": "stream",
       "stream": "stdout",
       "text": [
        "\n",
        "277 urls scraped\n",
        "http://ow.ly/E4v3w scraped"
       ]
      },
      {
       "output_type": "stream",
       "stream": "stdout",
       "text": [
        "\n",
        "278 urls scraped\n",
        "http://nyti.ms/1xd6ga8 scraped"
       ]
      },
      {
       "output_type": "stream",
       "stream": "stdout",
       "text": [
        "\n",
        "279 urls scraped\n",
        "http://ow.ly/E4uhn scraped"
       ]
      },
      {
       "output_type": "stream",
       "stream": "stdout",
       "text": [
        "\n",
        "280 urls scraped\n",
        "http://ow.ly/E4u8I scraped"
       ]
      },
      {
       "output_type": "stream",
       "stream": "stdout",
       "text": [
        "\n",
        "281 urls scraped\n",
        "http://northwrightcounty.today/?p=3088 scraped"
       ]
      },
      {
       "output_type": "stream",
       "stream": "stdout",
       "text": [
        "\n",
        "282 urls scraped\n",
        "http://www.youtube.com/watch?v=ZHFz-J7wJT0&feature=youtu.be&a scraped"
       ]
      },
      {
       "output_type": "stream",
       "stream": "stdout",
       "text": [
        "\n",
        "283 urls scraped\n",
        "http://fb.me/3dAOewVsK scraped"
       ]
      },
      {
       "output_type": "stream",
       "stream": "stdout",
       "text": [
        "\n",
        "284 urls scraped\n",
        "http://bit.ly/1uWNKme scraped"
       ]
      },
      {
       "output_type": "stream",
       "stream": "stdout",
       "text": [
        "\n",
        "285 urls scraped\n",
        "http://on.fb.me/1EhBfAN scraped"
       ]
      },
      {
       "output_type": "stream",
       "stream": "stdout",
       "text": [
        "\n",
        "286 urls scraped\n",
        "http://thehill.com/policy/energy-environment/e2-wire/223398-senate-gop-steeling-for-battle-against-the-epa scraped"
       ]
      },
      {
       "output_type": "stream",
       "stream": "stdout",
       "text": [
        "\n",
        "287 urls scraped\n",
        "http://bit.ly/10RiAPk scraped"
       ]
      },
      {
       "output_type": "stream",
       "stream": "stdout",
       "text": [
        "\n",
        "288 urls scraped\n",
        "http://ow.ly/CRQwa scraped"
       ]
      },
      {
       "output_type": "stream",
       "stream": "stdout",
       "text": [
        "\n",
        "289 urls scraped\n",
        "http://www.rawstory.com/rs/2014/11/chicago-election-judges-we-were-coerced-into-voting-for-republicans-fired-for-opposing-dirty-tricks/#.VGD-xwytmM0.twitter scraped"
       ]
      },
      {
       "output_type": "stream",
       "stream": "stdout",
       "text": [
        "\n",
        "290 urls scraped\n",
        "http://www.breitbart.com/Breitbart-California/2014/11/09/Willie-Brown-Hillary-Clinton-Is-Going-to-Lose scraped"
       ]
      },
      {
       "output_type": "stream",
       "stream": "stdout",
       "text": [
        "\n",
        "291 urls scraped\n",
        "http://ow.ly/E2L7H scraped"
       ]
      },
      {
       "output_type": "stream",
       "stream": "stdout",
       "text": [
        "\n",
        "292 urls scraped\n",
        "http://mp12.co.vu/18Pq scraped"
       ]
      },
      {
       "output_type": "stream",
       "stream": "stdout",
       "text": [
        "\n",
        "293 urls scraped\n",
        "http://mp12.co.vu/18Pn scraped"
       ]
      },
      {
       "output_type": "stream",
       "stream": "stdout",
       "text": [
        "\n",
        "294 urls scraped\n",
        "http://jp86.co.vu/2qC1 scraped"
       ]
      },
      {
       "output_type": "stream",
       "stream": "stdout",
       "text": [
        "\n",
        "295 urls scraped\n",
        "http://ow.ly/E4kt4 scraped"
       ]
      },
      {
       "output_type": "stream",
       "stream": "stdout",
       "text": [
        "\n",
        "296 urls scraped\n",
        "http://ow.ly/E2L7I scraped"
       ]
      },
      {
       "output_type": "stream",
       "stream": "stdout",
       "text": [
        "\n",
        "297 urls scraped\n",
        "http://ow.ly/E4kt7 scraped"
       ]
      },
      {
       "output_type": "stream",
       "stream": "stdout",
       "text": [
        "\n",
        "298 urls scraped\n",
        "http://buff.ly/1oCQTVm scraped"
       ]
      },
      {
       "output_type": "stream",
       "stream": "stdout",
       "text": [
        "\n",
        "299 urls scraped\n",
        "http://fb.me/6UjclSf0O scraped"
       ]
      },
      {
       "output_type": "stream",
       "stream": "stdout",
       "text": [
        "\n",
        "300 urls scraped\n",
        "http://wp.me/p1wtnE-46T scraped"
       ]
      },
      {
       "output_type": "stream",
       "stream": "stdout",
       "text": [
        "\n",
        "301 urls scraped\n",
        "http://ow.ly/3u7y8V scraped"
       ]
      },
      {
       "output_type": "stream",
       "stream": "stdout",
       "text": [
        "\n",
        "302 urls scraped\n",
        "http://bit.ly/1Ev8y5d scraped"
       ]
      },
      {
       "output_type": "stream",
       "stream": "stdout",
       "text": [
        "\n",
        "303 urls scraped\n",
        "http://ht.ly/E1vod scraped"
       ]
      },
      {
       "output_type": "stream",
       "stream": "stdout",
       "text": [
        "\n",
        "304 urls scraped\n",
        "http://www.mediaite.com/tv/tuesday-cable-ratings-fox-wins-election-night-with-high-of-6-6-million/ scraped"
       ]
      },
      {
       "output_type": "stream",
       "stream": "stdout",
       "text": [
        "\n",
        "305 urls scraped\n",
        "http://ht.ly/E1vof scraped"
       ]
      },
      {
       "output_type": "stream",
       "stream": "stdout",
       "text": [
        "\n",
        "306 urls scraped\n",
        "http://online.wsj.com/articles/john-r-lott-and-bradley-a-smith-its-shocking-how-little-was-spent-on-the-midterms-1415405600 scraped"
       ]
      },
      {
       "output_type": "stream",
       "stream": "stdout",
       "text": [
        "\n",
        "307 urls scraped\n",
        "http://www.governing.com/topics/elections/sl-election-cios.html scraped"
       ]
      },
      {
       "output_type": "stream",
       "stream": "stdout",
       "text": [
        "\n",
        "308 urls scraped\n",
        "http://bit.ly/1x975iA scraped"
       ]
      },
      {
       "output_type": "stream",
       "stream": "stdout",
       "text": [
        "\n",
        "309 urls scraped\n",
        "http://www.sfexaminer.com/sanfrancisco/transit-gets-a-boost-from-election-results/Content?oid=2911570 scraped"
       ]
      },
      {
       "output_type": "stream",
       "stream": "stdout",
       "text": [
        "\n",
        "310 urls scraped\n",
        "http://dlvr.it/7TMT2M scraped"
       ]
      },
      {
       "output_type": "stream",
       "stream": "stdout",
       "text": [
        "\n",
        "311 urls scraped\n",
        "http://www.ibtimes.co.uk/scientists-discover-virus-that-subtly-changes-brain-makes-humans-more-stupid-1474010 scraped"
       ]
      },
      {
       "output_type": "stream",
       "stream": "stdout",
       "text": [
        "\n",
        "312 urls scraped\n",
        "http://owl.li/E4mNN scraped"
       ]
      },
      {
       "output_type": "stream",
       "stream": "stdout",
       "text": [
        "\n",
        "313 urls scraped\n",
        "http://painereportblog.wordpress.com/2014/11/05/the-worst-form-of-government-except-for-every-other/ scraped"
       ]
      },
      {
       "output_type": "stream",
       "stream": "stdout",
       "text": [
        "\n",
        "314 urls scraped\n",
        "https://blog.twitter.com/2014/election2014-keeping-you-informed-on-the-midterms scraped"
       ]
      },
      {
       "output_type": "stream",
       "stream": "stdout",
       "text": [
        "\n",
        "315 urls scraped\n",
        "http://goo.gl/n9LXqP scraped"
       ]
      },
      {
       "output_type": "stream",
       "stream": "stdout",
       "text": [
        "\n",
        "316 urls scraped\n",
        "http://ow.ly/E2L7h scraped"
       ]
      },
      {
       "output_type": "stream",
       "stream": "stdout",
       "text": [
        "\n",
        "317 urls scraped\n",
        "http://bit.ly/10VKZ7r scraped"
       ]
      },
      {
       "output_type": "stream",
       "stream": "stdout",
       "text": [
        "\n",
        "318 urls scraped\n",
        "http://reason.com/blog/2014/11/06/felon-disenfranchisement-matters?n_play=5460f7bbe4b0934946b47bed scraped"
       ]
      },
      {
       "output_type": "stream",
       "stream": "stdout",
       "text": [
        "\n",
        "319 urls scraped\n"
       ]
      },
      {
       "ename": "SSLError",
       "evalue": "[Errno 1] _ssl.c:510: error:140770FC:SSL routines:SSL23_GET_SERVER_HELLO:unknown protocol",
       "output_type": "pyerr",
       "traceback": [
        "\u001b[1;31m---------------------------------------------------------------------------\u001b[0m\n\u001b[1;31mSSLError\u001b[0m                                  Traceback (most recent call last)",
        "\u001b[1;32m<ipython-input-4-35a7b3068f8f>\u001b[0m in \u001b[0;36m<module>\u001b[1;34m()\u001b[0m\n\u001b[1;32m----> 1\u001b[1;33m \u001b[0mtagscraper\u001b[0m\u001b[1;33m.\u001b[0m\u001b[0mscrape_hashtag\u001b[0m\u001b[1;33m(\u001b[0m\u001b[1;34m\"Election2014\"\u001b[0m\u001b[1;33m,\u001b[0m \u001b[0moutdir\u001b[0m\u001b[1;33m,\u001b[0m \u001b[0mn\u001b[0m\u001b[1;33m=\u001b[0m\u001b[1;36m1000\u001b[0m\u001b[1;33m)\u001b[0m\u001b[1;33m\u001b[0m\u001b[0m\n\u001b[0m",
        "\u001b[1;32m/home/paul/Programming/MIMS/nlp2014_final/tagscraper.py\u001b[0m in \u001b[0;36mscrape_hashtag\u001b[1;34m(hashtag, outdir, n, since, until)\u001b[0m\n\u001b[0;32m    136\u001b[0m \u001b[1;33m\u001b[0m\u001b[0m\n\u001b[0;32m    137\u001b[0m     \u001b[1;32mprint\u001b[0m \u001b[1;34m'Scraping tweets from query \"{}\"'\u001b[0m\u001b[1;33m.\u001b[0m\u001b[0mformat\u001b[0m\u001b[1;33m(\u001b[0m\u001b[0mquery\u001b[0m\u001b[1;33m)\u001b[0m\u001b[1;33m\u001b[0m\u001b[0m\n\u001b[1;32m--> 138\u001b[1;33m     \u001b[0mscraper\u001b[0m\u001b[1;33m(\u001b[0m\u001b[0moutdir\u001b[0m\u001b[1;33m,\u001b[0m \u001b[0mquery\u001b[0m\u001b[1;33m,\u001b[0m \u001b[0mn\u001b[0m\u001b[1;33m)\u001b[0m\u001b[1;33m\u001b[0m\u001b[0m\n\u001b[0m\u001b[0;32m    139\u001b[0m \u001b[1;33m\u001b[0m\u001b[0m\n\u001b[0;32m    140\u001b[0m \u001b[1;33m\u001b[0m\u001b[0m\n",
        "\u001b[1;32m/home/paul/Programming/MIMS/nlp2014_final/tagscraper.py\u001b[0m in \u001b[0;36mscraper\u001b[1;34m(outdir, query, n)\u001b[0m\n\u001b[0;32m    105\u001b[0m                     \u001b[0mn_urls\u001b[0m \u001b[1;33m+=\u001b[0m \u001b[1;36m1\u001b[0m\u001b[1;33m\u001b[0m\u001b[0m\n\u001b[0;32m    106\u001b[0m                     \u001b[0moutpath\u001b[0m \u001b[1;33m=\u001b[0m \u001b[0mpath\u001b[0m\u001b[1;33m.\u001b[0m\u001b[0mjoin\u001b[0m\u001b[1;33m(\u001b[0m\u001b[0moutdir\u001b[0m\u001b[1;33m,\u001b[0m \u001b[0mstr\u001b[0m\u001b[1;33m(\u001b[0m\u001b[0mtweet\u001b[0m\u001b[1;33m[\u001b[0m\u001b[1;34m'id'\u001b[0m\u001b[1;33m]\u001b[0m\u001b[1;33m)\u001b[0m\u001b[1;33m+\u001b[0m\u001b[0mstr\u001b[0m\u001b[1;33m(\u001b[0m\u001b[0mn_urls\u001b[0m\u001b[1;33m)\u001b[0m\u001b[1;33m+\u001b[0m\u001b[1;34m\".html\"\u001b[0m\u001b[1;33m)\u001b[0m\u001b[1;33m\u001b[0m\u001b[0m\n\u001b[1;32m--> 107\u001b[1;33m                     \u001b[0mpage_download\u001b[0m\u001b[1;33m(\u001b[0m\u001b[0mu\u001b[0m\u001b[1;33m,\u001b[0m \u001b[0moutpath\u001b[0m\u001b[1;33m)\u001b[0m\u001b[1;33m\u001b[0m\u001b[0m\n\u001b[0m\u001b[0;32m    108\u001b[0m                     \u001b[0mscraped\u001b[0m \u001b[1;33m=\u001b[0m \u001b[0mTrue\u001b[0m\u001b[1;33m\u001b[0m\u001b[0m\n\u001b[0;32m    109\u001b[0m                     \u001b[0murls\u001b[0m\u001b[1;33m.\u001b[0m\u001b[0madd\u001b[0m\u001b[1;33m(\u001b[0m\u001b[0mu\u001b[0m\u001b[1;33m)\u001b[0m\u001b[1;33m\u001b[0m\u001b[0m\n",
        "\u001b[1;32m/home/paul/Programming/MIMS/nlp2014_final/tagscraper.py\u001b[0m in \u001b[0;36mpage_download\u001b[1;34m(url, outpath)\u001b[0m\n\u001b[0;32m     20\u001b[0m     \u001b[1;34m\"\"\"Copies the file at url to outpath\"\"\"\u001b[0m\u001b[1;33m\u001b[0m\u001b[0m\n\u001b[0;32m     21\u001b[0m     \u001b[0moutfile\u001b[0m \u001b[1;33m=\u001b[0m \u001b[0mopen\u001b[0m\u001b[1;33m(\u001b[0m\u001b[0moutpath\u001b[0m\u001b[1;33m,\u001b[0m \u001b[1;34m'w'\u001b[0m\u001b[1;33m)\u001b[0m\u001b[1;33m\u001b[0m\u001b[0m\n\u001b[1;32m---> 22\u001b[1;33m     \u001b[0mpage\u001b[0m \u001b[1;33m=\u001b[0m \u001b[0mrequests\u001b[0m\u001b[1;33m.\u001b[0m\u001b[0mget\u001b[0m\u001b[1;33m(\u001b[0m\u001b[0murl\u001b[0m\u001b[1;33m)\u001b[0m\u001b[1;33m\u001b[0m\u001b[0m\n\u001b[0m\u001b[0;32m     23\u001b[0m     \u001b[0mtext\u001b[0m \u001b[1;33m=\u001b[0m \u001b[0mpage\u001b[0m\u001b[1;33m.\u001b[0m\u001b[0mtext\u001b[0m\u001b[1;33m.\u001b[0m\u001b[0mencode\u001b[0m\u001b[1;33m(\u001b[0m\u001b[1;34m'utf8'\u001b[0m\u001b[1;33m,\u001b[0m \u001b[1;34m'ignore'\u001b[0m\u001b[1;33m)\u001b[0m\u001b[1;33m\u001b[0m\u001b[0m\n\u001b[0;32m     24\u001b[0m     \u001b[0moutfile\u001b[0m\u001b[1;33m.\u001b[0m\u001b[0mwrite\u001b[0m\u001b[1;33m(\u001b[0m\u001b[0mtext\u001b[0m\u001b[1;33m)\u001b[0m\u001b[1;33m\u001b[0m\u001b[0m\n",
        "\u001b[1;32m/home/paul/anaconda/envs/nlp/lib/python2.7/site-packages/requests/api.pyc\u001b[0m in \u001b[0;36mget\u001b[1;34m(url, **kwargs)\u001b[0m\n\u001b[0;32m     57\u001b[0m \u001b[1;33m\u001b[0m\u001b[0m\n\u001b[0;32m     58\u001b[0m     \u001b[0mkwargs\u001b[0m\u001b[1;33m.\u001b[0m\u001b[0msetdefault\u001b[0m\u001b[1;33m(\u001b[0m\u001b[1;34m'allow_redirects'\u001b[0m\u001b[1;33m,\u001b[0m \u001b[0mTrue\u001b[0m\u001b[1;33m)\u001b[0m\u001b[1;33m\u001b[0m\u001b[0m\n\u001b[1;32m---> 59\u001b[1;33m     \u001b[1;32mreturn\u001b[0m \u001b[0mrequest\u001b[0m\u001b[1;33m(\u001b[0m\u001b[1;34m'get'\u001b[0m\u001b[1;33m,\u001b[0m \u001b[0murl\u001b[0m\u001b[1;33m,\u001b[0m \u001b[1;33m**\u001b[0m\u001b[0mkwargs\u001b[0m\u001b[1;33m)\u001b[0m\u001b[1;33m\u001b[0m\u001b[0m\n\u001b[0m\u001b[0;32m     60\u001b[0m \u001b[1;33m\u001b[0m\u001b[0m\n\u001b[0;32m     61\u001b[0m \u001b[1;33m\u001b[0m\u001b[0m\n",
        "\u001b[1;32m/home/paul/anaconda/envs/nlp/lib/python2.7/site-packages/requests/api.pyc\u001b[0m in \u001b[0;36mrequest\u001b[1;34m(method, url, **kwargs)\u001b[0m\n\u001b[0;32m     46\u001b[0m \u001b[1;33m\u001b[0m\u001b[0m\n\u001b[0;32m     47\u001b[0m     \u001b[0msession\u001b[0m \u001b[1;33m=\u001b[0m \u001b[0msessions\u001b[0m\u001b[1;33m.\u001b[0m\u001b[0mSession\u001b[0m\u001b[1;33m(\u001b[0m\u001b[1;33m)\u001b[0m\u001b[1;33m\u001b[0m\u001b[0m\n\u001b[1;32m---> 48\u001b[1;33m     \u001b[1;32mreturn\u001b[0m \u001b[0msession\u001b[0m\u001b[1;33m.\u001b[0m\u001b[0mrequest\u001b[0m\u001b[1;33m(\u001b[0m\u001b[0mmethod\u001b[0m\u001b[1;33m=\u001b[0m\u001b[0mmethod\u001b[0m\u001b[1;33m,\u001b[0m \u001b[0murl\u001b[0m\u001b[1;33m=\u001b[0m\u001b[0murl\u001b[0m\u001b[1;33m,\u001b[0m \u001b[1;33m**\u001b[0m\u001b[0mkwargs\u001b[0m\u001b[1;33m)\u001b[0m\u001b[1;33m\u001b[0m\u001b[0m\n\u001b[0m\u001b[0;32m     49\u001b[0m \u001b[1;33m\u001b[0m\u001b[0m\n\u001b[0;32m     50\u001b[0m \u001b[1;33m\u001b[0m\u001b[0m\n",
        "\u001b[1;32m/home/paul/anaconda/envs/nlp/lib/python2.7/site-packages/requests/sessions.pyc\u001b[0m in \u001b[0;36mrequest\u001b[1;34m(self, method, url, params, data, headers, cookies, files, auth, timeout, allow_redirects, proxies, hooks, stream, verify, cert)\u001b[0m\n\u001b[0;32m    449\u001b[0m         }\n\u001b[0;32m    450\u001b[0m         \u001b[0msend_kwargs\u001b[0m\u001b[1;33m.\u001b[0m\u001b[0mupdate\u001b[0m\u001b[1;33m(\u001b[0m\u001b[0msettings\u001b[0m\u001b[1;33m)\u001b[0m\u001b[1;33m\u001b[0m\u001b[0m\n\u001b[1;32m--> 451\u001b[1;33m         \u001b[0mresp\u001b[0m \u001b[1;33m=\u001b[0m \u001b[0mself\u001b[0m\u001b[1;33m.\u001b[0m\u001b[0msend\u001b[0m\u001b[1;33m(\u001b[0m\u001b[0mprep\u001b[0m\u001b[1;33m,\u001b[0m \u001b[1;33m**\u001b[0m\u001b[0msend_kwargs\u001b[0m\u001b[1;33m)\u001b[0m\u001b[1;33m\u001b[0m\u001b[0m\n\u001b[0m\u001b[0;32m    452\u001b[0m \u001b[1;33m\u001b[0m\u001b[0m\n\u001b[0;32m    453\u001b[0m         \u001b[1;32mreturn\u001b[0m \u001b[0mresp\u001b[0m\u001b[1;33m\u001b[0m\u001b[0m\n",
        "\u001b[1;32m/home/paul/anaconda/envs/nlp/lib/python2.7/site-packages/requests/sessions.pyc\u001b[0m in \u001b[0;36msend\u001b[1;34m(self, request, **kwargs)\u001b[0m\n\u001b[0;32m    581\u001b[0m \u001b[1;33m\u001b[0m\u001b[0m\n\u001b[0;32m    582\u001b[0m         \u001b[1;31m# Resolve redirects if allowed.\u001b[0m\u001b[1;33m\u001b[0m\u001b[1;33m\u001b[0m\u001b[0m\n\u001b[1;32m--> 583\u001b[1;33m         \u001b[0mhistory\u001b[0m \u001b[1;33m=\u001b[0m \u001b[1;33m[\u001b[0m\u001b[0mresp\u001b[0m \u001b[1;32mfor\u001b[0m \u001b[0mresp\u001b[0m \u001b[1;32min\u001b[0m \u001b[0mgen\u001b[0m\u001b[1;33m]\u001b[0m \u001b[1;32mif\u001b[0m \u001b[0mallow_redirects\u001b[0m \u001b[1;32melse\u001b[0m \u001b[1;33m[\u001b[0m\u001b[1;33m]\u001b[0m\u001b[1;33m\u001b[0m\u001b[0m\n\u001b[0m\u001b[0;32m    584\u001b[0m \u001b[1;33m\u001b[0m\u001b[0m\n\u001b[0;32m    585\u001b[0m         \u001b[1;31m# Shuffle things around if there's history.\u001b[0m\u001b[1;33m\u001b[0m\u001b[1;33m\u001b[0m\u001b[0m\n",
        "\u001b[1;32m/home/paul/anaconda/envs/nlp/lib/python2.7/site-packages/requests/sessions.pyc\u001b[0m in \u001b[0;36mresolve_redirects\u001b[1;34m(self, resp, req, stream, timeout, verify, cert, proxies)\u001b[0m\n\u001b[0;32m    187\u001b[0m                 \u001b[0mcert\u001b[0m\u001b[1;33m=\u001b[0m\u001b[0mcert\u001b[0m\u001b[1;33m,\u001b[0m\u001b[1;33m\u001b[0m\u001b[0m\n\u001b[0;32m    188\u001b[0m                 \u001b[0mproxies\u001b[0m\u001b[1;33m=\u001b[0m\u001b[0mproxies\u001b[0m\u001b[1;33m,\u001b[0m\u001b[1;33m\u001b[0m\u001b[0m\n\u001b[1;32m--> 189\u001b[1;33m                 \u001b[0mallow_redirects\u001b[0m\u001b[1;33m=\u001b[0m\u001b[0mFalse\u001b[0m\u001b[1;33m,\u001b[0m\u001b[1;33m\u001b[0m\u001b[0m\n\u001b[0m\u001b[0;32m    190\u001b[0m             )\n\u001b[0;32m    191\u001b[0m \u001b[1;33m\u001b[0m\u001b[0m\n",
        "\u001b[1;32m/home/paul/anaconda/envs/nlp/lib/python2.7/site-packages/requests/sessions.pyc\u001b[0m in \u001b[0;36msend\u001b[1;34m(self, request, **kwargs)\u001b[0m\n\u001b[0;32m    555\u001b[0m \u001b[1;33m\u001b[0m\u001b[0m\n\u001b[0;32m    556\u001b[0m         \u001b[1;31m# Send the request\u001b[0m\u001b[1;33m\u001b[0m\u001b[1;33m\u001b[0m\u001b[0m\n\u001b[1;32m--> 557\u001b[1;33m         \u001b[0mr\u001b[0m \u001b[1;33m=\u001b[0m \u001b[0madapter\u001b[0m\u001b[1;33m.\u001b[0m\u001b[0msend\u001b[0m\u001b[1;33m(\u001b[0m\u001b[0mrequest\u001b[0m\u001b[1;33m,\u001b[0m \u001b[1;33m**\u001b[0m\u001b[0mkwargs\u001b[0m\u001b[1;33m)\u001b[0m\u001b[1;33m\u001b[0m\u001b[0m\n\u001b[0m\u001b[0;32m    558\u001b[0m \u001b[1;33m\u001b[0m\u001b[0m\n\u001b[0;32m    559\u001b[0m         \u001b[1;31m# Total elapsed time of the request (approximately)\u001b[0m\u001b[1;33m\u001b[0m\u001b[1;33m\u001b[0m\u001b[0m\n",
        "\u001b[1;32m/home/paul/anaconda/envs/nlp/lib/python2.7/site-packages/requests/adapters.pyc\u001b[0m in \u001b[0;36msend\u001b[1;34m(self, request, stream, timeout, verify, cert, proxies)\u001b[0m\n\u001b[0;32m    418\u001b[0m         \u001b[1;32mexcept\u001b[0m \u001b[1;33m(\u001b[0m\u001b[0m_SSLError\u001b[0m\u001b[1;33m,\u001b[0m \u001b[0m_HTTPError\u001b[0m\u001b[1;33m)\u001b[0m \u001b[1;32mas\u001b[0m \u001b[0me\u001b[0m\u001b[1;33m:\u001b[0m\u001b[1;33m\u001b[0m\u001b[0m\n\u001b[0;32m    419\u001b[0m             \u001b[1;32mif\u001b[0m \u001b[0misinstance\u001b[0m\u001b[1;33m(\u001b[0m\u001b[0me\u001b[0m\u001b[1;33m,\u001b[0m \u001b[0m_SSLError\u001b[0m\u001b[1;33m)\u001b[0m\u001b[1;33m:\u001b[0m\u001b[1;33m\u001b[0m\u001b[0m\n\u001b[1;32m--> 420\u001b[1;33m                 \u001b[1;32mraise\u001b[0m \u001b[0mSSLError\u001b[0m\u001b[1;33m(\u001b[0m\u001b[0me\u001b[0m\u001b[1;33m,\u001b[0m \u001b[0mrequest\u001b[0m\u001b[1;33m=\u001b[0m\u001b[0mrequest\u001b[0m\u001b[1;33m)\u001b[0m\u001b[1;33m\u001b[0m\u001b[0m\n\u001b[0m\u001b[0;32m    421\u001b[0m             \u001b[1;32melif\u001b[0m \u001b[0misinstance\u001b[0m\u001b[1;33m(\u001b[0m\u001b[0me\u001b[0m\u001b[1;33m,\u001b[0m \u001b[0mReadTimeoutError\u001b[0m\u001b[1;33m)\u001b[0m\u001b[1;33m:\u001b[0m\u001b[1;33m\u001b[0m\u001b[0m\n\u001b[0;32m    422\u001b[0m                 \u001b[1;32mraise\u001b[0m \u001b[0mReadTimeout\u001b[0m\u001b[1;33m(\u001b[0m\u001b[0me\u001b[0m\u001b[1;33m,\u001b[0m \u001b[0mrequest\u001b[0m\u001b[1;33m=\u001b[0m\u001b[0mrequest\u001b[0m\u001b[1;33m)\u001b[0m\u001b[1;33m\u001b[0m\u001b[0m\n",
        "\u001b[1;31mSSLError\u001b[0m: [Errno 1] _ssl.c:510: error:140770FC:SSL routines:SSL23_GET_SERVER_HELLO:unknown protocol"
       ]
      }
     ],
     "prompt_number": 4
    }
   ],
   "metadata": {}
  }
 ]
}