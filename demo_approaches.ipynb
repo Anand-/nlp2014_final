{
 "metadata": {
  "name": "",
  "signature": "sha256:12b4415ee63912a0b8309e90070676967a2404de58045a38cb02afdf4e8cda3e"
 },
 "nbformat": 3,
 "nbformat_minor": 0,
 "worksheets": [
  {
   "cells": [
    {
     "cell_type": "code",
     "collapsed": false,
     "input": [
      "from os import path\n",
      "import cPickle as pickle\n",
      "\n",
      "import nltk, string\n",
      "from nltk.corpus import stopwords\n",
      "from nltk.tokenize import RegexpTokenizer\n",
      "from nltk.collocations import *\n",
      "import codecs, os, json, glob\n",
      "from bs4 import BeautifulSoup\n",
      "from nltk.corpus import wordnet as wn\n",
      "from pandas import DataFrame\n",
      "import pandas as pd\n",
      "\n",
      "import chunking_util\n",
      "import grouping_util\n",
      "from approach_fdchunks import chunk_approach\n",
      "from approach_ngrams import ngram_approach"
     ],
     "language": "python",
     "metadata": {},
     "outputs": [],
     "prompt_number": 1
    },
    {
     "cell_type": "code",
     "collapsed": false,
     "input": [
      "data_dir = path.join(path.curdir, 'data')\n",
      "pickle_dir = path.join(path.curdir, 'pickles')"
     ],
     "language": "python",
     "metadata": {},
     "outputs": [],
     "prompt_number": 2
    },
    {
     "cell_type": "code",
     "collapsed": false,
     "input": [
      "hashes=[\n",
      "    \"voterID_clean.pkl\",\n",
      "    \"Keystonexl.pkl\",\n",
      "    \"Cooks.pkl\",\n",
      "    \"Ferguson.pkl\",\n",
      "    \"GamerGate.pkl\"\n",
      "]"
     ],
     "language": "python",
     "metadata": {},
     "outputs": [],
     "prompt_number": 3
    },
    {
     "cell_type": "code",
     "collapsed": false,
     "input": [
      "ngram_approach(path.join(pickle_dir, hashes[1]))"
     ],
     "language": "python",
     "metadata": {},
     "outputs": [
      {
       "output_type": "stream",
       "stream": "stdout",
       "text": [
        "2318\n",
        "1639"
       ]
      },
      {
       "output_type": "stream",
       "stream": "stdout",
       "text": [
        "\n",
        "(u'Koch', u'Brothers')"
       ]
      }
     ]
    },
    {
     "cell_type": "code",
     "collapsed": false,
     "input": [
      "chunk_approach(path.join(pickle_dir, hashes[1]))"
     ],
     "language": "python",
     "metadata": {},
     "outputs": []
    }
   ],
   "metadata": {}
  }
 ]
}