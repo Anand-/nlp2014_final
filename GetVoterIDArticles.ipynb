{
 "metadata": {
  "name": "",
  "signature": "sha256:bd9676288bbe785c80f857c1751286b0694c081b1c8f638be2b98e06cd57932d"
 },
 "nbformat": 3,
 "nbformat_minor": 0,
 "worksheets": [
  {
   "cells": [
    {
     "cell_type": "code",
     "collapsed": true,
     "input": [
      "import tagscraper"
     ],
     "language": "python",
     "metadata": {},
     "outputs": [],
     "prompt_number": 1
    },
    {
     "cell_type": "code",
     "collapsed": false,
     "input": [
      "from os import path"
     ],
     "language": "python",
     "metadata": {},
     "outputs": [],
     "prompt_number": 2
    },
    {
     "cell_type": "code",
     "collapsed": false,
     "input": [
      "outdir = path.join(path.curdir, \"data\", \"VoterID\")"
     ],
     "language": "python",
     "metadata": {},
     "outputs": [],
     "prompt_number": 3
    },
    {
     "cell_type": "code",
     "collapsed": false,
     "input": [
      "tagscraper.scrape_hashtag(\"VoterID\", outdir, n=500, since=\"2014-10-1\")"
     ],
     "language": "python",
     "metadata": {},
     "outputs": [
      {
       "output_type": "stream",
       "stream": "stdout",
       "text": [
        "Scraping tweets from query \"#VoterID filter:links lang:en since:2014-10-1\"\n",
        "http://ow.ly/E8EyO scraped"
       ]
      },
      {
       "output_type": "stream",
       "stream": "stdout",
       "text": [
        "\n",
        "1 urls scraped\n",
        "http://bit.ly/1qCsN8V scraped"
       ]
      },
      {
       "output_type": "stream",
       "stream": "stdout",
       "text": [
        "\n",
        "2 urls scraped\n",
        "http://bit.ly/1u2loFa scraped"
       ]
      },
      {
       "output_type": "stream",
       "stream": "stdout",
       "text": [
        "\n",
        "3 urls scraped\n",
        "http://ln.is/bit.ly/IWzAm scraped"
       ]
      },
      {
       "output_type": "stream",
       "stream": "stdout",
       "text": [
        "\n",
        "4 urls scraped\n",
        "http://bit.ly/10WnwCu scraped"
       ]
      },
      {
       "output_type": "stream",
       "stream": "stdout",
       "text": [
        "\n",
        "5 urls scraped\n",
        "http://j.mp/10WkrT0 scraped"
       ]
      },
      {
       "output_type": "stream",
       "stream": "stdout",
       "text": [
        "\n",
        "6 urls scraped\n",
        "http://abcnews.go.com/Politics/loretta-lynch-eric-holder-agree-hot-button-issues/story?id=26815921&singlePage=true scraped"
       ]
      },
      {
       "output_type": "stream",
       "stream": "stdout",
       "text": [
        "\n",
        "7 urls scraped\n",
        "http://www.salon.com/2014/11/11/rig_the_vote_the_right_resurrects_a_shady_plan_to_skew_2016_in_the_gops_favor/ scraped"
       ]
      },
      {
       "output_type": "stream",
       "stream": "stdout",
       "text": [
        "\n",
        "8 urls scraped\n",
        "http://fb.me/1QhqmSftl scraped"
       ]
      },
      {
       "output_type": "stream",
       "stream": "stdout",
       "text": [
        "\n",
        "9 urls scraped\n",
        "http://fb.me/71r1SDDot scraped"
       ]
      },
      {
       "output_type": "stream",
       "stream": "stdout",
       "text": [
        "\n",
        "10 urls scraped\n",
        "http://po.st/RqpGQC scraped"
       ]
      },
      {
       "output_type": "stream",
       "stream": "stdout",
       "text": [
        "\n",
        "11 urls scraped\n",
        "http://ow.ly/vxmyn scraped"
       ]
      },
      {
       "output_type": "stream",
       "stream": "stdout",
       "text": [
        "\n",
        "12 urls scraped\n",
        "http://uprisingradio.org/home/2014/11/11/did-voter-id-laws-impact-election-results/ scraped"
       ]
      },
      {
       "output_type": "stream",
       "stream": "stdout",
       "text": [
        "\n",
        "13 urls scraped\n",
        "http://truth-out.org/news/item/27366-the-results-were-skewed-toward-republicans-a-response-to-nate-silver scraped"
       ]
      },
      {
       "output_type": "stream",
       "stream": "stdout",
       "text": [
        "\n",
        "14 urls scraped\n",
        "http://www.theblaze.com/stories/2014/10/20/surveillance-video-apparently-catches-guy-doing-something-at-the-ballot-box-that-left-republican-monitor-stunned/ scraped"
       ]
      },
      {
       "output_type": "stream",
       "stream": "stdout",
       "text": [
        "\n",
        "15 urls scraped\n",
        "http://bit.ly/1uildW7 scraped"
       ]
      },
      {
       "output_type": "stream",
       "stream": "stdout",
       "text": [
        "\n",
        "16 urls scraped\n",
        "http://wapo.st/1GJJYQg scraped"
       ]
      },
      {
       "output_type": "stream",
       "stream": "stdout",
       "text": [
        "\n",
        "17 urls scraped\n",
        "http://ln.is/on.msnbc.com/oEeSK scraped"
       ]
      },
      {
       "output_type": "stream",
       "stream": "stdout",
       "text": [
        "\n",
        "18 urls scraped\n",
        "http://ln.is/dailycaller.com/2014/isS96 scraped"
       ]
      },
      {
       "output_type": "stream",
       "stream": "stdout",
       "text": [
        "\n",
        "19 urls scraped\n",
        "http://thehill.com/blogs/pundits-blog/campaign/223582-a-moral-case-against-voter-id-laws scraped"
       ]
      },
      {
       "output_type": "stream",
       "stream": "stdout",
       "text": [
        "\n",
        "20 urls scraped\n",
        "http://ow.ly/E46SE scraped"
       ]
      },
      {
       "output_type": "stream",
       "stream": "stdout",
       "text": [
        "\n",
        "21 urls scraped\n",
        "http://www.huffingtonpost.com/2010/10/20/scalia-thomas-koch-industries_n_769843.html scraped"
       ]
      },
      {
       "output_type": "stream",
       "stream": "stdout",
       "text": [
        "\n",
        "22 urls scraped\n",
        "http://thkpr.gs/3590959 scraped"
       ]
      },
      {
       "output_type": "stream",
       "stream": "stdout",
       "text": [
        "\n",
        "23 urls scraped\n",
        "http://ln.is/ning.com/bgc9M scraped"
       ]
      },
      {
       "output_type": "stream",
       "stream": "stdout",
       "text": [
        "\n",
        "24 urls scraped\n",
        "http://www.truth-out.org/news/item/27350-call-this-election-what-it-was-a-fossil-fuel-coup scraped"
       ]
      },
      {
       "output_type": "stream",
       "stream": "stdout",
       "text": [
        "\n",
        "25 urls scraped\n",
        "http://ln.is/townhall.com/columni/BSNwW scraped"
       ]
      },
      {
       "output_type": "stream",
       "stream": "stdout",
       "text": [
        "\n",
        "26 urls scraped\n",
        "http://dailysignal.com/2014/11/10/irs-failure-to-search-computers-for-missing-emails-intensifies-attorney-general-nomination/ scraped"
       ]
      },
      {
       "output_type": "stream",
       "stream": "stdout",
       "text": [
        "\n",
        "27 urls scraped\n",
        "http://www.cincinnati.com/story/news/courts/2014/11/10/hamilton-county-convicts-illegal-voter-jean-gobeil/18798999/ scraped"
       ]
      },
      {
       "output_type": "stream",
       "stream": "stdout",
       "text": [
        "\n",
        "28 urls scraped\n",
        "http://gotnews.com/ag-nominee-loretta-lynch-voter-id-racist/ scraped"
       ]
      },
      {
       "output_type": "stream",
       "stream": "stdout",
       "text": [
        "\n",
        "29 urls scraped\n",
        "http://www.nationalreview.com/campaign-spot/391134/jaw-dropping-study-claims-large-numbers-non-citizens-vote-us-jim-geraghty scraped"
       ]
      },
      {
       "output_type": "stream",
       "stream": "stdout",
       "text": [
        "\n",
        "30 urls scraped\n",
        "http://wp.me/p5HMd-f0iS scraped"
       ]
      },
      {
       "output_type": "stream",
       "stream": "stdout",
       "text": [
        "\n",
        "31 urls scraped\n",
        "http://america.aljazeera.com/blogs/scrutineer/2014/11/10/voting-laws-turnoutmidtermresults.html?utm_content=blog&utm_campaign=ajam&utm_source=facebook&utm_medium=So scraped"
       ]
      },
      {
       "output_type": "stream",
       "stream": "stdout",
       "text": [
        "\n",
        "32 urls scraped\n",
        "http://ln.is/ning.com/1pph6 scraped"
       ]
      },
      {
       "output_type": "stream",
       "stream": "stdout",
       "text": [
        "\n",
        "33 urls scraped\n",
        "http://abcn.ws/1stQpwa scraped"
       ]
      },
      {
       "output_type": "stream",
       "stream": "stdout",
       "text": [
        "\n",
        "34 urls scraped\n",
        "http://bit.ly/1A5RP9T scraped"
       ]
      },
      {
       "output_type": "stream",
       "stream": "stdout",
       "text": [
        "\n",
        "35 urls scraped\n",
        "http://www.thegatewaypundit.com/2014/11/figures-obamas-ag-pick-voter-id-is-racist-must-be-stopped-video/ scraped"
       ]
      },
      {
       "output_type": "stream",
       "stream": "stdout",
       "text": [
        "\n",
        "36 urls scraped\n",
        "http://thepunditpress.com/2014/11/08/obama-ag-nominee-lynch-voter-id-laws-were-passed-by-racist-southerners-must-be-stopped/ scraped"
       ]
      },
      {
       "output_type": "stream",
       "stream": "stdout",
       "text": [
        "\n",
        "37 urls scraped\n",
        "http://www.newsmax.com/Newsfront/Loretta-Lynch-attorney-general-nominee-video-voter-ID-laws/2014/11/10/id/606374/ scraped"
       ]
      },
      {
       "output_type": "stream",
       "stream": "stdout",
       "text": [
        "\n",
        "38 urls scraped\n",
        "http://www.salon.com/2014/11/08/millennials_arent_apathetic_their_vote_is_suppressed/ scraped"
       ]
      },
      {
       "output_type": "stream",
       "stream": "stdout",
       "text": [
        "\n",
        "39 urls scraped\n",
        "http://gotnews.com/?p=2341 scraped"
       ]
      },
      {
       "output_type": "stream",
       "stream": "stdout",
       "text": [
        "\n",
        "40 urls scraped\n",
        "http://www.texastribune.org/2014/11/10/analysis-voters-who-disappeared/ scraped"
       ]
      },
      {
       "output_type": "stream",
       "stream": "stdout",
       "text": [
        "\n",
        "41 urls scraped\n",
        "error scraping"
       ]
      },
      {
       "output_type": "stream",
       "stream": "stdout",
       "text": [
        "\n",
        "Invalid status code\n",
        "error scraping"
       ]
      },
      {
       "output_type": "stream",
       "stream": "stdout",
       "text": [
        "\n",
        "Invalid status code\n",
        "http://www.wnd.com/2014/11/obama-ag-pick-racism-fuels-voter-id-laws/ scraped"
       ]
      },
      {
       "output_type": "stream",
       "stream": "stdout",
       "text": [
        "\n",
        "42 urls scraped\n",
        "http://ln.is/nws.mx/9xZLE scraped"
       ]
      },
      {
       "output_type": "stream",
       "stream": "stdout",
       "text": [
        "\n",
        "43 urls scraped\n",
        "http://mobile.wnd.com/2014/11/obama-ag-pick-racism-fuels-voter-id-laws/ scraped"
       ]
      },
      {
       "output_type": "stream",
       "stream": "stdout",
       "text": [
        "\n",
        "44 urls scraped\n",
        "http://huff.to/1qtXcGu scraped"
       ]
      },
      {
       "output_type": "stream",
       "stream": "stdout",
       "text": [
        "\n",
        "45 urls scraped\n",
        "http://shar.es/10Fbyv scraped"
       ]
      },
      {
       "output_type": "stream",
       "stream": "stdout",
       "text": [
        "\n",
        "46 urls scraped\n",
        "http://www.nationaljournal.com/domesticpolicy/voter-id-laws-can-decrease-minority-and-youth-turnout-20141008?ref=t.co&mrefid=walkingheader scraped"
       ]
      },
      {
       "output_type": "stream",
       "stream": "stdout",
       "text": [
        "\n",
        "47 urls scraped\n",
        "http://toprightnews.com/?p=7159 scraped"
       ]
      },
      {
       "output_type": "stream",
       "stream": "stdout",
       "text": [
        "\n",
        "48 urls scraped\n",
        "http://www.newsday.com/opinion/columnists/william-f-b-o-reilly/is-the-democratic-party-slowly-losing-hold-over-african-american-voters-william-f-b-o-reilly-1.9603015 scraped"
       ]
      },
      {
       "output_type": "stream",
       "stream": "stdout",
       "text": [
        "\n",
        "49 urls scraped\n",
        "http://dailycaller.com/2014/11/09/obama-attorney-general-pick-voter-id-laws-are-about-taking-back-what-dr-king-won/ scraped"
       ]
      },
      {
       "output_type": "stream",
       "stream": "stdout",
       "text": [
        "\n",
        "50 urls scraped\n",
        "http://go.mywv.net/1ElxwC8 scraped"
       ]
      },
      {
       "output_type": "stream",
       "stream": "stdout",
       "text": [
        "\n",
        "51 urls scraped\n",
        "http://tinyurl.com/onrwwxg scraped"
       ]
      },
      {
       "output_type": "stream",
       "stream": "stdout",
       "text": [
        "\n",
        "52 urls scraped\n",
        "http://ow.ly/E3BwR scraped"
       ]
      },
      {
       "output_type": "stream",
       "stream": "stdout",
       "text": [
        "\n",
        "53 urls scraped\n",
        "http://bit.ly/1wEIF0v scraped"
       ]
      },
      {
       "output_type": "stream",
       "stream": "stdout",
       "text": [
        "\n",
        "54 urls scraped\n",
        "http://talkingpointsmemo.com/dc/richard-posner-dissent-voter-id scraped"
       ]
      },
      {
       "output_type": "stream",
       "stream": "stdout",
       "text": [
        "\n",
        "55 urls scraped\n",
        "http://www.whoradio.com/onair/simon-conway-42296/wait-what-obamas-nominee-for-ag-12952547/ scraped"
       ]
      },
      {
       "output_type": "stream",
       "stream": "stdout",
       "text": [
        "\n",
        "56 urls scraped\n",
        "http://fb.me/1qjd4tPmd scraped"
       ]
      },
      {
       "output_type": "stream",
       "stream": "stdout",
       "text": [
        "\n",
        "57 urls scraped\n",
        "http://fb.me/3ZTOKBLC0 scraped"
       ]
      },
      {
       "output_type": "stream",
       "stream": "stdout",
       "text": [
        "\n",
        "58 urls scraped\n",
        "http://fb.me/6RCz3y6tf scraped"
       ]
      },
      {
       "output_type": "stream",
       "stream": "stdout",
       "text": [
        "\n",
        "59 urls scraped\n",
        "http://bit.ly/1sgBKUV scraped"
       ]
      },
      {
       "output_type": "stream",
       "stream": "stdout",
       "text": [
        "\n",
        "60 urls scraped\n",
        "http://theuspatriot.com/2014/05/08/breaking-obama-admin-officials-convicted-of-voter-fraud-in-obama-election/ scraped"
       ]
      },
      {
       "output_type": "stream",
       "stream": "stdout",
       "text": [
        "\n",
        "61 urls scraped\n",
        "http://ln.is/ning.com/CbO9U scraped"
       ]
      },
      {
       "output_type": "stream",
       "stream": "stdout",
       "text": [
        "\n",
        "62 urls scraped\n",
        "http://bit.ly/143HAok scraped"
       ]
      },
      {
       "output_type": "stream",
       "stream": "stdout",
       "text": [
        "\n",
        "63 urls scraped\n",
        "http://www.brennancenter.org/blog/media-wrap-how-voters-fared-new-restrictions#.VGCON4eFmr8.twitter scraped"
       ]
      },
      {
       "output_type": "stream",
       "stream": "stdout",
       "text": [
        "\n",
        "64 urls scraped\n",
        "error scraping"
       ]
      },
      {
       "output_type": "stream",
       "stream": "stdout",
       "text": [
        "\n",
        "('Connection aborted.', BadStatusLine(\"''\",))\n",
        "http://readersupportednews.org/news-section2/318-66/26858-how-voter-suppression-helped-produce-the-lowest-turnout-in-decades scraped"
       ]
      },
      {
       "output_type": "stream",
       "stream": "stdout",
       "text": [
        "\n",
        "65 urls scraped\n",
        "http://bit.ly/1xzYLql scraped"
       ]
      },
      {
       "output_type": "stream",
       "stream": "stdout",
       "text": [
        "\n",
        "66 urls scraped\n",
        "http://dailycaller.com/2014/10/29/la-raza-promotes-washington-post-guide-on-where-people-can-vote-without-an-id/ scraped"
       ]
      },
      {
       "output_type": "stream",
       "stream": "stdout",
       "text": [
        "\n",
        "67 urls scraped\n",
        "http://dlvr.it/7Sj5dv scraped"
       ]
      },
      {
       "output_type": "stream",
       "stream": "stdout",
       "text": [
        "\n",
        "68 urls scraped\n",
        "http://fb.me/6T0a80KpD scraped"
       ]
      },
      {
       "output_type": "stream",
       "stream": "stdout",
       "text": [
        "\n",
        "69 urls scraped\n",
        "http://shar.es/109dtd scraped"
       ]
      },
      {
       "output_type": "stream",
       "stream": "stdout",
       "text": [
        "\n",
        "70 urls scraped\n",
        "http://ln.is/ning.com/mZDEW scraped"
       ]
      },
      {
       "output_type": "stream",
       "stream": "stdout",
       "text": [
        "\n",
        "71 urls scraped\n",
        "http://townhall.com/t/1913619-1 scraped"
       ]
      },
      {
       "output_type": "stream",
       "stream": "stdout",
       "text": [
        "\n",
        "72 urls scraped\n",
        "http://www.tsu.co/PattieCurran/4787097 scraped"
       ]
      },
      {
       "output_type": "stream",
       "stream": "stdout",
       "text": [
        "\n",
        "73 urls scraped\n",
        "http://ow.ly/DZSsG scraped"
       ]
      },
      {
       "output_type": "stream",
       "stream": "stdout",
       "text": [
        "\n",
        "74 urls scraped\n",
        "http://fb.me/3MuK5Tmz5 scraped"
       ]
      },
      {
       "output_type": "stream",
       "stream": "stdout",
       "text": [
        "\n",
        "75 urls scraped\n",
        "http://wi1848forward.blogspot.com/2014/07/marx-groucho-are-you-corrupt-politician.html?spref=tw scraped"
       ]
      },
      {
       "output_type": "stream",
       "stream": "stdout",
       "text": [
        "\n",
        "76 urls scraped\n",
        "http://trib.al/mIhAGne scraped"
       ]
      },
      {
       "output_type": "stream",
       "stream": "stdout",
       "text": [
        "\n",
        "77 urls scraped\n",
        "http://www.salon.com/2014/11/09/the_gops_infernal_election_strategy_why_suppressing_the_vote_could_keep_republicans_in_power/ scraped"
       ]
      },
      {
       "output_type": "stream",
       "stream": "stdout",
       "text": [
        "\n",
        "78 urls scraped\n",
        "http://po.st/6GOITw scraped"
       ]
      },
      {
       "output_type": "stream",
       "stream": "stdout",
       "text": [
        "\n",
        "79 urls scraped\n",
        "http://fb.me/7bhp9egxl scraped"
       ]
      },
      {
       "output_type": "stream",
       "stream": "stdout",
       "text": [
        "\n",
        "80 urls scraped\n",
        "http://wp.me/p5HMd-eZmj scraped"
       ]
      },
      {
       "output_type": "stream",
       "stream": "stdout",
       "text": [
        "\n",
        "81 urls scraped\n",
        "http://www.truth-out.org/news/item/27204-computerized-vote-rigging-is-still-the-unseen-threat-to-american-democracy-it-s-time-to-change-the-system scraped"
       ]
      },
      {
       "output_type": "stream",
       "stream": "stdout",
       "text": [
        "\n",
        "82 urls scraped\n",
        "http://blogforarizona.net/gop-might-get-to-continue-to-wage-war-on-women-by-lying-that-they-are-doing-that/ scraped"
       ]
      },
      {
       "output_type": "stream",
       "stream": "stdout",
       "text": [
        "\n",
        "83 urls scraped\n",
        "http://www.nationalreview.com/node/391801 scraped"
       ]
      },
      {
       "output_type": "stream",
       "stream": "stdout",
       "text": [
        "\n",
        "84 urls scraped\n",
        "http://ln.is/com/3LB8C scraped"
       ]
      },
      {
       "output_type": "stream",
       "stream": "stdout",
       "text": [
        "\n",
        "85 urls scraped\n",
        "error scraping"
       ]
      },
      {
       "output_type": "stream",
       "stream": "stdout",
       "text": [
        "\n",
        "Invalid status code\n",
        "error scraping"
       ]
      },
      {
       "output_type": "stream",
       "stream": "stdout",
       "text": [
        "\n",
        "Invalid status code\n",
        "http://www.wnd.com/2012/11/gop-legally-barred-from-fighting-vote-fraud scraped"
       ]
      },
      {
       "output_type": "stream",
       "stream": "stdout",
       "text": [
        "\n",
        "86 urls scraped\n",
        "http://www.brennancenter.org/blog/how-much-difference-did-new-voting-restrictions-make-yesterdays-close-races scraped"
       ]
      },
      {
       "output_type": "stream",
       "stream": "stdout",
       "text": [
        "\n",
        "87 urls scraped\n",
        "http://ln.is/ning.com/VA7Po scraped"
       ]
      },
      {
       "output_type": "stream",
       "stream": "stdout",
       "text": [
        "\n",
        "88 urls scraped\n",
        "http://fw.to/WL0g7Yc scraped"
       ]
      },
      {
       "output_type": "stream",
       "stream": "stdout",
       "text": [
        "\n",
        "89 urls scraped\n",
        "http://weeklystandard.com/blogs/msnbc-minority-voters-disenfranchised-problems-polls_818155.html#.VF4uNAT4mcw.twitter scraped"
       ]
      },
      {
       "output_type": "stream",
       "stream": "stdout",
       "text": [
        "\n",
        "90 urls scraped\n",
        "http://thkpr.gs/3588243 scraped"
       ]
      },
      {
       "output_type": "stream",
       "stream": "stdout",
       "text": [
        "\n",
        "91 urls scraped\n",
        "http://www.brennancenter.org/blog/voter-id-law-turns-away-texans#.VF8Lss_LpmI.twitter scraped"
       ]
      },
      {
       "output_type": "stream",
       "stream": "stdout",
       "text": [
        "\n",
        "92 urls scraped\n",
        "http://bit.ly/1wEID8T scraped"
       ]
      },
      {
       "output_type": "stream",
       "stream": "stdout",
       "text": [
        "\n",
        "93 urls scraped\n",
        "error scraping"
       ]
      },
      {
       "output_type": "stream",
       "stream": "stdout",
       "text": [
        "\n",
        "'content-type'\n",
        "error scraping"
       ]
      },
      {
       "output_type": "stream",
       "stream": "stdout",
       "text": [
        "\n",
        "Invalid status code\n",
        "http://ow.ly/E0wcB scraped"
       ]
      },
      {
       "output_type": "stream",
       "stream": "stdout",
       "text": [
        "\n",
        "94 urls scraped\n",
        "http://ricochet.com/archives/gop-should-introduce-the-nelson-mandela-voter-protection-act/ scraped"
       ]
      },
      {
       "output_type": "stream",
       "stream": "stdout",
       "text": [
        "\n",
        "95 urls scraped\n",
        "http://ow.ly/3tXpAZ scraped"
       ]
      },
      {
       "output_type": "stream",
       "stream": "stdout",
       "text": [
        "\n",
        "96 urls scraped\n",
        "http://ln.is/ning.com/Qz67A scraped"
       ]
      },
      {
       "output_type": "stream",
       "stream": "stdout",
       "text": [
        "\n",
        "97 urls scraped\n",
        "http://ln.is/huff.to/8EUyG scraped"
       ]
      },
      {
       "output_type": "stream",
       "stream": "stdout",
       "text": [
        "\n",
        "98 urls scraped\n",
        "http://mathcurmudgeon.blogspot.com/2014/11/voting-and-id-requirement.html scraped"
       ]
      },
      {
       "output_type": "stream",
       "stream": "stdout",
       "text": [
        "\n",
        "99 urls scraped\n",
        "http://fb.me/3HP8Dt4Zs scraped"
       ]
      },
      {
       "output_type": "stream",
       "stream": "stdout",
       "text": [
        "\n",
        "100 urls scraped\n",
        "http://ow.ly/E0Cd7 scraped"
       ]
      },
      {
       "output_type": "stream",
       "stream": "stdout",
       "text": [
        "\n",
        "101 urls scraped\n",
        "http://wi1848forward.blogspot.com/2014/02/grokking-democracy-via-ieee-on-voting.html?spref=tw scraped"
       ]
      },
      {
       "output_type": "stream",
       "stream": "stdout",
       "text": [
        "\n",
        "102 urls scraped\n",
        "http://on.thegrio.com/1sk7BnS scraped"
       ]
      },
      {
       "output_type": "stream",
       "stream": "stdout",
       "text": [
        "\n",
        "103 urls scraped\n",
        "http://www.slate.com/blogs/the_vault/2013/06/28/voting_rights_and_the_supreme_court_the_impossible_literacy_test_louisiana.html scraped"
       ]
      },
      {
       "output_type": "stream",
       "stream": "stdout",
       "text": [
        "\n",
        "104 urls scraped\n",
        "http://ow.ly/DDiJ1 scraped"
       ]
      },
      {
       "output_type": "stream",
       "stream": "stdout",
       "text": [
        "\n",
        "105 urls scraped\n",
        "http://ln.is/ow.ly/drryi scraped"
       ]
      },
      {
       "output_type": "stream",
       "stream": "stdout",
       "text": [
        "\n",
        "106 urls scraped\n",
        "http://ow.ly/E0Cda scraped"
       ]
      },
      {
       "output_type": "stream",
       "stream": "stdout",
       "text": [
        "\n",
        "107 urls scraped\n",
        "http://bit.ly/1xugIH5 scraped"
       ]
      },
      {
       "output_type": "stream",
       "stream": "stdout",
       "text": [
        "\n",
        "108 urls scraped\n",
        "http://ow.ly/DZStN scraped"
       ]
      },
      {
       "output_type": "stream",
       "stream": "stdout",
       "text": [
        "\n",
        "109 urls scraped\n",
        "http://humanevents.com/2014/11/07/controversial-photo-id-law-seems-to-pass-inaugural-election-test-in-virginia/ scraped"
       ]
      },
      {
       "output_type": "stream",
       "stream": "stdout",
       "text": [
        "\n",
        "110 urls scraped\n",
        "http://ow.ly/E0qgj scraped"
       ]
      },
      {
       "output_type": "stream",
       "stream": "stdout",
       "text": [
        "\n",
        "111 urls scraped\n",
        "http://ln.is/thkpr.gs/b9RaG scraped"
       ]
      },
      {
       "output_type": "stream",
       "stream": "stdout",
       "text": [
        "\n",
        "112 urls scraped\n",
        "http://fb.me/6Zhgmb0mk scraped"
       ]
      },
      {
       "output_type": "stream",
       "stream": "stdout",
       "text": [
        "\n",
        "113 urls scraped\n",
        "error scraping"
       ]
      },
      {
       "output_type": "stream",
       "stream": "stdout",
       "text": [
        "\n",
        "[Errno 1] _ssl.c:510: error:14090086:SSL routines:SSL3_GET_SERVER_CERTIFICATE:certificate verify failed\n",
        "error scraping"
       ]
      },
      {
       "output_type": "stream",
       "stream": "stdout",
       "text": [
        "\n",
        "[Errno 1] _ssl.c:510: error:14090086:SSL routines:SSL3_GET_SERVER_CERTIFICATE:certificate verify failed\n",
        "http://buff.ly/1xkoDq7 scraped"
       ]
      },
      {
       "output_type": "stream",
       "stream": "stdout",
       "text": [
        "\n",
        "114 urls scraped\n",
        "http://www.alan.com/2014/11/08/photo-id-laws-led-to-voter-suppression/ scraped"
       ]
      },
      {
       "output_type": "stream",
       "stream": "stdout",
       "text": [
        "\n",
        "115 urls scraped\n",
        "http://ln.is/mediamatters.org/blo/FZrci scraped"
       ]
      },
      {
       "output_type": "stream",
       "stream": "stdout",
       "text": [
        "\n",
        "116 urls scraped\n",
        "http://kansasfirstnews.com/2014/11/07/appeals-court-feds-dont-have-to-enforce-kansas-proof-of-citizenship-law/ scraped"
       ]
      },
      {
       "output_type": "stream",
       "stream": "stdout",
       "text": [
        "\n",
        "117 urls scraped\n",
        "http://www.salon.com/2014/11/07/wingnut_voter_id_group_fails_again_voter_integrity_outfit_unable_to_find_midterm_fraud/ scraped"
       ]
      },
      {
       "output_type": "stream",
       "stream": "stdout",
       "text": [
        "\n",
        "118 urls scraped\n",
        "http://ln.is/ning.com/ZGmi8 scraped"
       ]
      },
      {
       "output_type": "stream",
       "stream": "stdout",
       "text": [
        "\n",
        "119 urls scraped\n",
        "http://ow.ly/DZStD scraped"
       ]
      },
      {
       "output_type": "stream",
       "stream": "stdout",
       "text": [
        "\n",
        "120 urls scraped\n",
        "http://ow.ly/DZStE scraped"
       ]
      },
      {
       "output_type": "stream",
       "stream": "stdout",
       "text": [
        "\n",
        "121 urls scraped\n",
        "http://www.pbs.org/wgbh/pages/frontline/government-elections-politics/why-doesnt-everybody-have-a-voter-id/ scraped"
       ]
      },
      {
       "output_type": "stream",
       "stream": "stdout",
       "text": [
        "\n",
        "122 urls scraped\n",
        "http://ow.ly/DZStP scraped"
       ]
      },
      {
       "output_type": "stream",
       "stream": "stdout",
       "text": [
        "\n",
        "123 urls scraped\n",
        "http://ow.ly/DZStQ scraped"
       ]
      },
      {
       "output_type": "stream",
       "stream": "stdout",
       "text": [
        "\n",
        "124 urls scraped\n",
        "http://ow.ly/DZStO scraped"
       ]
      },
      {
       "output_type": "stream",
       "stream": "stdout",
       "text": [
        "\n",
        "125 urls scraped\n",
        "http://ow.ly/DZStM scraped"
       ]
      },
      {
       "output_type": "stream",
       "stream": "stdout",
       "text": [
        "\n",
        "126 urls scraped\n",
        "http://ow.ly/DZStL scraped"
       ]
      },
      {
       "output_type": "stream",
       "stream": "stdout",
       "text": [
        "\n",
        "127 urls scraped\n",
        "http://ow.ly/DZStK scraped"
       ]
      },
      {
       "output_type": "stream",
       "stream": "stdout",
       "text": [
        "\n",
        "128 urls scraped\n",
        "http://ow.ly/DZStJ scraped"
       ]
      },
      {
       "output_type": "stream",
       "stream": "stdout",
       "text": [
        "\n",
        "129 urls scraped\n",
        "http://ow.ly/DZStI scraped"
       ]
      },
      {
       "output_type": "stream",
       "stream": "stdout",
       "text": [
        "\n",
        "130 urls scraped\n",
        "http://ow.ly/DZStG scraped"
       ]
      },
      {
       "output_type": "stream",
       "stream": "stdout",
       "text": [
        "\n",
        "131 urls scraped\n",
        "http://ow.ly/DZStF scraped"
       ]
      },
      {
       "output_type": "stream",
       "stream": "stdout",
       "text": [
        "\n",
        "132 urls scraped\n",
        "http://ow.ly/DZStC scraped"
       ]
      },
      {
       "output_type": "stream",
       "stream": "stdout",
       "text": [
        "\n",
        "133 urls scraped\n",
        "http://bit.ly/1shDc9B scraped"
       ]
      },
      {
       "output_type": "stream",
       "stream": "stdout",
       "text": [
        "\n",
        "134 urls scraped\n",
        "http://vimeo.com/109092894 scraped"
       ]
      },
      {
       "output_type": "stream",
       "stream": "stdout",
       "text": [
        "\n",
        "135 urls scraped\n",
        "http://www.wdbj7.com/news/local/registrars-report-no-major-problems-with-new-voter-id-law/29601930#.VF2GZXJhoNk.twitter scraped"
       ]
      },
      {
       "output_type": "stream",
       "stream": "stdout",
       "text": [
        "\n",
        "136 urls scraped\n",
        "http://apne.ws/1vRJ2El scraped"
       ]
      },
      {
       "output_type": "stream",
       "stream": "stdout",
       "text": [
        "\n",
        "137 urls scraped\n",
        "http://bit.ly/1uIpseO scraped"
       ]
      },
      {
       "output_type": "stream",
       "stream": "stdout",
       "text": [
        "\n",
        "138 urls scraped\n",
        "http://indiancountrytodaymedianetwork.com/Zw4X#.VF1XhNk-ELI.twitter scraped"
       ]
      },
      {
       "output_type": "stream",
       "stream": "stdout",
       "text": [
        "\n",
        "139 urls scraped\n",
        "http://www.huffingtonpost.com/2014/11/07/texas-voter-id_n_6117742.html?utm_hp_ref=tw scraped"
       ]
      },
      {
       "output_type": "stream",
       "stream": "stdout",
       "text": [
        "\n",
        "140 urls scraped\n",
        "http://www.demos.org/blog/11/6/14/voter-suppression-2014 scraped"
       ]
      },
      {
       "output_type": "stream",
       "stream": "stdout",
       "text": [
        "\n",
        "141 urls scraped\n",
        "http://ow.ly/DZwkG scraped"
       ]
      },
      {
       "output_type": "stream",
       "stream": "stdout",
       "text": [
        "\n",
        "142 urls scraped\n",
        "http://pjmedia.com/tatler/2014/10/29/massive-non-citizen-voting-uncovered-in-maryland/ scraped"
       ]
      },
      {
       "output_type": "stream",
       "stream": "stdout",
       "text": [
        "\n",
        "143 urls scraped\n",
        "http://ln.is/huffingtonpost.com/3pQKK scraped"
       ]
      },
      {
       "output_type": "stream",
       "stream": "stdout",
       "text": [
        "\n",
        "144 urls scraped\n",
        "http://www.salon.com/2014/10/13/gop_voter_id_law_gets_crushed_why_judge_richard_posners_ruling_is_so_amazing/ scraped"
       ]
      },
      {
       "output_type": "stream",
       "stream": "stdout",
       "text": [
        "\n",
        "145 urls scraped\n",
        "http://fb.me/70BhHqMrt scraped"
       ]
      },
      {
       "output_type": "stream",
       "stream": "stdout",
       "text": [
        "\n",
        "146 urls scraped\n",
        "http://www.truth-out.org/news/item/27260-new-voter-suppression-laws-could-decide-key-races-and-turn-back-the-clocks-for-years-to-come scraped"
       ]
      },
      {
       "output_type": "stream",
       "stream": "stdout",
       "text": [
        "\n",
        "147 urls scraped\n",
        "http://ln.is/ning.com/3TlG8 scraped"
       ]
      },
      {
       "output_type": "stream",
       "stream": "stdout",
       "text": [
        "\n",
        "148 urls scraped\n",
        "https://www.youtube.com/watch?v=6ye5CbXF5Ak scraped"
       ]
      },
      {
       "output_type": "stream",
       "stream": "stdout",
       "text": [
        "\n",
        "149 urls scraped\n",
        "http://ln.is/ourfuture.org/201411/c6UM0 scraped"
       ]
      },
      {
       "output_type": "stream",
       "stream": "stdout",
       "text": [
        "\n",
        "150 urls scraped\n",
        "error scraping"
       ]
      },
      {
       "output_type": "stream",
       "stream": "stdout",
       "text": [
        "\n",
        "Invalid status code\n",
        "http://kcur.org/post/hot-races-down-ballot-amendments-affect-turnout-kansas-and-missouri scraped"
       ]
      },
      {
       "output_type": "stream",
       "stream": "stdout",
       "text": [
        "\n",
        "151 urls scraped\n",
        "http://pops.ci/rdCmAF scraped"
       ]
      },
      {
       "output_type": "stream",
       "stream": "stdout",
       "text": [
        "\n",
        "152 urls scraped\n",
        "http://www.latimes.com/business/hiltzik/la-fi-mh-why-voter-id-laws-are-evil-20141013-column.html scraped"
       ]
      },
      {
       "output_type": "stream",
       "stream": "stdout",
       "text": [
        "\n",
        "153 urls scraped\n",
        "http://wi1848forward.blogspot.com/2012/11/moyers-hacker-pierson-on-engineered.html?spref=tw scraped"
       ]
      },
      {
       "output_type": "stream",
       "stream": "stdout",
       "text": [
        "\n",
        "154 urls scraped\n",
        "http://wi1848forward.blogspot.com/2013/03/wealth-inequality-video-032013.html?spref=tw scraped"
       ]
      },
      {
       "output_type": "stream",
       "stream": "stdout",
       "text": [
        "\n",
        "155 urls scraped\n",
        "http://huff.to/1tQG16X scraped"
       ]
      },
      {
       "output_type": "stream",
       "stream": "stdout",
       "text": [
        "\n",
        "156 urls scraped\n",
        "http://ht.ly/DYZKx scraped"
       ]
      },
      {
       "output_type": "stream",
       "stream": "stdout",
       "text": [
        "\n",
        "157 urls scraped\n",
        "http://ht.ly/DYZwC scraped"
       ]
      },
      {
       "output_type": "stream",
       "stream": "stdout",
       "text": [
        "\n",
        "158 urls scraped\n",
        "http://www.huffingtonpost.com/2014/10/30/texas-voter-id_n_6076536.html scraped"
       ]
      },
      {
       "output_type": "stream",
       "stream": "stdout",
       "text": [
        "\n",
        "159 urls scraped\n",
        "http://ow.ly/DYFzq scraped"
       ]
      },
      {
       "output_type": "stream",
       "stream": "stdout",
       "text": [
        "\n",
        "160 urls scraped\n",
        "http://www.huffingtonpost.com/2014/11/07/texas-voter-id_n_6117742.html scraped"
       ]
      },
      {
       "output_type": "stream",
       "stream": "stdout",
       "text": [
        "\n",
        "161 urls scraped\n",
        "http://www.washingtonpost.com/blogs/wonkblog/wp/2014/10/29/this-is-what-its-like-to-try-to-get-a-voter-id-when-youre-disabled-poor-or-dont-drive/ scraped"
       ]
      },
      {
       "output_type": "stream",
       "stream": "stdout",
       "text": [
        "\n",
        "162 urls scraped\n",
        "http://blog.chron.com/nickanderson/2014/11/voter-apathy/ scraped"
       ]
      },
      {
       "output_type": "stream",
       "stream": "stdout",
       "text": [
        "\n",
        "163 urls scraped\n",
        "http://aikenareaprogressive.blogspot.com/2014/11/heres-proof-that-voter-id-laws-are-nothing-more-than-throwback-to-slavery-days.html scraped"
       ]
      },
      {
       "output_type": "stream",
       "stream": "stdout",
       "text": [
        "\n",
        "164 urls scraped\n",
        "http://brev.is/jBe9 scraped"
       ]
      },
      {
       "output_type": "stream",
       "stream": "stdout",
       "text": [
        "\n",
        "165 urls scraped\n",
        "http://www.motherjones.com/mojo/2014/11/brennan-center-voting-restrictions-margin-victory scraped"
       ]
      },
      {
       "output_type": "stream",
       "stream": "stdout",
       "text": [
        "\n",
        "166 urls scraped\n",
        "http://www.msnbc.com/msnbc/gop-control-voting-process-2016-swing-states scraped"
       ]
      },
      {
       "output_type": "stream",
       "stream": "stdout",
       "text": [
        "\n",
        "167 urls scraped\n",
        "http://ow.ly/DBuqb scraped"
       ]
      },
      {
       "output_type": "stream",
       "stream": "stdout",
       "text": [
        "\n",
        "168 urls scraped\n",
        "http://buff.ly/1xaKbWc scraped"
       ]
      },
      {
       "output_type": "stream",
       "stream": "stdout",
       "text": [
        "\n",
        "169 urls scraped\n",
        "error scraping"
       ]
      },
      {
       "output_type": "stream",
       "stream": "stdout",
       "text": [
        "\n",
        "Page not text\n",
        "http://alj.am/1E9OzXM scraped"
       ]
      },
      {
       "output_type": "stream",
       "stream": "stdout",
       "text": [
        "\n",
        "170 urls scraped\n",
        "http://www.mediaite.com/online/convicted-mayor-placed-under-house-arrest-after-illegally-voting-in-midterms/ scraped"
       ]
      },
      {
       "output_type": "stream",
       "stream": "stdout",
       "text": [
        "\n",
        "171 urls scraped\n",
        "http://ln.is/ning.com/b6ZCa scraped"
       ]
      },
      {
       "output_type": "stream",
       "stream": "stdout",
       "text": [
        "\n",
        "172 urls scraped\n",
        "http://www.brennancenter.org/blog/ground-texas-voter-id-troubles-continue#.VFx60YQQ84w.twitter scraped"
       ]
      },
      {
       "output_type": "stream",
       "stream": "stdout",
       "text": [
        "\n",
        "173 urls scraped\n",
        "error scraping"
       ]
      },
      {
       "output_type": "stream",
       "stream": "stdout",
       "text": [
        "\n",
        "Invalid status code\n",
        "error scraping"
       ]
      },
      {
       "output_type": "stream",
       "stream": "stdout",
       "text": [
        "\n",
        "Invalid status code\n",
        "error scraping"
       ]
      },
      {
       "output_type": "stream",
       "stream": "stdout",
       "text": [
        "\n",
        "Invalid status code\n",
        "error scraping"
       ]
      },
      {
       "output_type": "stream",
       "stream": "stdout",
       "text": [
        "\n",
        "Invalid status code\n",
        "error scraping"
       ]
      },
      {
       "output_type": "stream",
       "stream": "stdout",
       "text": [
        "\n",
        "Invalid status code\n",
        "http://bit.ly/1xQbW70 scraped"
       ]
      },
      {
       "output_type": "stream",
       "stream": "stdout",
       "text": [
        "\n",
        "174 urls scraped\n",
        "https://twitter.com/inanityofsanity/status/529485952398667776 scraped"
       ]
      },
      {
       "output_type": "stream",
       "stream": "stdout",
       "text": [
        "\n",
        "175 urls scraped\n",
        "error scraping"
       ]
      },
      {
       "output_type": "stream",
       "stream": "stdout",
       "text": [
        "\n",
        "Invalid status code\n",
        "error scraping"
       ]
      },
      {
       "output_type": "stream",
       "stream": "stdout",
       "text": [
        "\n",
        "Invalid status code\n",
        "error scraping"
       ]
      },
      {
       "output_type": "stream",
       "stream": "stdout",
       "text": [
        "\n",
        "Invalid status code\n",
        "error scraping"
       ]
      },
      {
       "output_type": "stream",
       "stream": "stdout",
       "text": [
        "\n",
        "Invalid status code\n",
        "http://www.upworthy.com/can-i-see-some-id-is-a-totally-reasonable-question-except-in-1-situation?c=upw1 scraped"
       ]
      },
      {
       "output_type": "stream",
       "stream": "stdout",
       "text": [
        "\n",
        "176 urls scraped\n",
        "error scraping"
       ]
      },
      {
       "output_type": "stream",
       "stream": "stdout",
       "text": [
        "\n",
        "Invalid status code\n",
        "http://www.xrayultra.com/1/post/2014/11/voter-fraud-and-voter-id.html scraped"
       ]
      },
      {
       "output_type": "stream",
       "stream": "stdout",
       "text": [
        "\n",
        "177 urls scraped\n",
        "http://ow.ly/DObVq scraped"
       ]
      },
      {
       "output_type": "stream",
       "stream": "stdout",
       "text": [
        "\n",
        "178 urls scraped\n",
        "http://bit.ly/1tVpWN2 scraped"
       ]
      },
      {
       "output_type": "stream",
       "stream": "stdout",
       "text": [
        "\n",
        "179 urls scraped\n",
        "http://bit.ly/1s4BkRs scraped"
       ]
      },
      {
       "output_type": "stream",
       "stream": "stdout",
       "text": [
        "\n",
        "180 urls scraped\n",
        "https://www.youtube.com/watch?v=dwADrtpJ6Fg scraped"
       ]
      },
      {
       "output_type": "stream",
       "stream": "stdout",
       "text": [
        "\n",
        "181 urls scraped\n",
        "http://www.ibtimes.com/midterm-election-results-2014-did-voter-id-laws-help-republicans-win-senate-majority-1715785 scraped"
       ]
      },
      {
       "output_type": "stream",
       "stream": "stdout",
       "text": [
        "\n",
        "182 urls scraped\n",
        "http://bit.ly/1ElBgp2 scraped"
       ]
      },
      {
       "output_type": "stream",
       "stream": "stdout",
       "text": [
        "\n",
        "183 urls scraped\n",
        "error scraping"
       ]
      },
      {
       "output_type": "stream",
       "stream": "stdout",
       "text": [
        "\n",
        "Invalid status code\n",
        "http://billmoyers.com/2014/11/05/much-difference-new-voting-restrictions-make-yesterdays-close-races/ scraped"
       ]
      },
      {
       "output_type": "stream",
       "stream": "stdout",
       "text": [
        "\n",
        "184 urls scraped\n",
        "http://townhall.com/columnists/cas scraped"
       ]
      },
      {
       "output_type": "stream",
       "stream": "stdout",
       "text": [
        "\n",
        "185 urls scraped\n",
        "http://townhall.com/columnists/caseygiven/2014/11/04/the-conservative-case-against-voter-id-laws-n1913645/page/full# scraped"
       ]
      },
      {
       "output_type": "stream",
       "stream": "stdout",
       "text": [
        "\n",
        "186 urls scraped\n",
        "http://ln.is/ning.com/3vj8q scraped"
       ]
      },
      {
       "output_type": "stream",
       "stream": "stdout",
       "text": [
        "\n",
        "187 urls scraped\n",
        "http://pjmedia.com/tatler/2014/11/06/decoding-the-president-listening-to-two-thirds-who-didnt-vote/ scraped"
       ]
      },
      {
       "output_type": "stream",
       "stream": "stdout",
       "text": [
        "\n",
        "188 urls scraped\n",
        "http://lat.ms/1yYVAJP scraped"
       ]
      },
      {
       "output_type": "stream",
       "stream": "stdout",
       "text": [
        "\n",
        "189 urls scraped\n",
        "http://dailycaller.com/2014/11/04/convicted-felon-democratic-politician-caught-voting-in-nc/ scraped"
       ]
      },
      {
       "output_type": "stream",
       "stream": "stdout",
       "text": [
        "\n",
        "190 urls scraped\n",
        "http://bit.ly/1tDPajm scraped"
       ]
      },
      {
       "output_type": "stream",
       "stream": "stdout",
       "text": [
        "\n",
        "191 urls scraped\n",
        "http://articles.latimes.com/2014/jan/17/nation/la-na-nn-pennsylvania-voter-id-law-overturned-20140117 scraped"
       ]
      },
      {
       "output_type": "stream",
       "stream": "stdout",
       "text": [
        "\n",
        "192 urls scraped\n",
        "http://blogforarizona.net/u-s-senate-race-results/#more-32440 scraped"
       ]
      },
      {
       "output_type": "stream",
       "stream": "stdout",
       "text": [
        "\n",
        "193 urls scraped\n",
        "http://huff.to/1qolyBg scraped"
       ]
      },
      {
       "output_type": "stream",
       "stream": "stdout",
       "text": [
        "\n",
        "194 urls scraped\n",
        "http://bit.ly/1ur4zVi scraped"
       ]
      },
      {
       "output_type": "stream",
       "stream": "stdout",
       "text": [
        "\n",
        "195 urls scraped\n",
        "http://atxne.ws/1z2iYGn scraped"
       ]
      },
      {
       "output_type": "stream",
       "stream": "stdout",
       "text": [
        "\n",
        "196 urls scraped\n",
        "http://nyti.ms/1up4bXr scraped"
       ]
      },
      {
       "output_type": "stream",
       "stream": "stdout",
       "text": [
        "\n",
        "197 urls scraped\n",
        "http://bit.ly/10A0qBr scraped"
       ]
      },
      {
       "output_type": "stream",
       "stream": "stdout",
       "text": [
        "\n",
        "198 urls scraped\n",
        "http://bit.ly/13IymxL scraped"
       ]
      },
      {
       "output_type": "stream",
       "stream": "stdout",
       "text": [
        "\n",
        "199 urls scraped\n",
        "http://www.theguardian.com/us-news/2014/nov/05/how-republicans-won-midterm-elections?CMP=ema_565 scraped"
       ]
      },
      {
       "output_type": "stream",
       "stream": "stdout",
       "text": [
        "\n",
        "200 urls scraped\n",
        "http://nypost.com/2014/11/04/voter-fraud-voter-id-and-fearmondering/ scraped"
       ]
      },
      {
       "output_type": "stream",
       "stream": "stdout",
       "text": [
        "\n",
        "201 urls scraped\n",
        "http://bigstory.ap.org/article/1dba56c5f8f7430f859748aff4405b10/study-voter-id-laws-cut-turnout-blacks-young scraped"
       ]
      },
      {
       "output_type": "stream",
       "stream": "stdout",
       "text": [
        "\n",
        "202 urls scraped\n",
        "http://ow.ly/DT4Xq scraped"
       ]
      },
      {
       "output_type": "stream",
       "stream": "stdout",
       "text": [
        "\n",
        "203 urls scraped\n",
        "http://ln.is/thinkprogress.org/el/3CNGq scraped"
       ]
      },
      {
       "output_type": "stream",
       "stream": "stdout",
       "text": [
        "\n",
        "204 urls scraped\n",
        "http://bit.ly/1omCi04 scraped"
       ]
      },
      {
       "output_type": "stream",
       "stream": "stdout",
       "text": [
        "\n",
        "205 urls scraped\n",
        "http://bit.ly/1omCi0c scraped"
       ]
      },
      {
       "output_type": "stream",
       "stream": "stdout",
       "text": [
        "\n",
        "206 urls scraped\n",
        "http://bit.ly/1vMzBm9 scraped"
       ]
      },
      {
       "output_type": "stream",
       "stream": "stdout",
       "text": [
        "\n",
        "207 urls scraped\n",
        "error scraping"
       ]
      },
      {
       "output_type": "stream",
       "stream": "stdout",
       "text": [
        "\n",
        "Invalid status code\n",
        "http://ln.is/ning.com/4LGw0 scraped"
       ]
      },
      {
       "output_type": "stream",
       "stream": "stdout",
       "text": [
        "\n",
        "208 urls scraped\n",
        "http://www.salon.com/2014/11/04/texas_vote_suppression_debacle_why_gops_scheme_is_already_working/ scraped"
       ]
      },
      {
       "output_type": "stream",
       "stream": "stdout",
       "text": [
        "\n",
        "209 urls scraped\n",
        "http://ift.tt/1xbi3nL scraped"
       ]
      },
      {
       "output_type": "stream",
       "stream": "stdout",
       "text": [
        "\n",
        "210 urls scraped\n",
        "error scraping"
       ]
      },
      {
       "output_type": "stream",
       "stream": "stdout",
       "text": [
        "\n",
        "Page not text\n",
        "error scraping"
       ]
      },
      {
       "output_type": "stream",
       "stream": "stdout",
       "text": [
        "\n",
        "Page not text\n",
        "error scraping"
       ]
      },
      {
       "output_type": "stream",
       "stream": "stdout",
       "text": [
        "\n",
        "Page not text\n",
        "https://www.google.com/search?q=nelson+mandela&es_sm=122&source=lnms&tbm=isch&sa=X&ei=PWlRU7rIKLXJsQSBlIH4Cg&ved=0CAkQ_AUoAg&biw=1280&bih=899#q=nelson+mandela+ID&tbm=isch&facrc=_&imgrc=u4lNlinLDqHQdM%253A%3BYD7sp7sbS359_M%3Bhttp%253A%252F%252Fdailycaller.com%252Fwp-content%252Fuploads%252F2013%252F12%252Fnelson-mandela-voter-id-getty-images-e1386713746246.jpg%3Bhttp%253A%252F%252Fdailycaller.com%252F2013%252F12%252F11%252Fmandela-t-shirt-get-an-id-register-vote%252F%3B600%3B829 scraped"
       ]
      },
      {
       "output_type": "stream",
       "stream": "stdout",
       "text": [
        "\n",
        "211 urls scraped\n",
        "error scraping"
       ]
      },
      {
       "output_type": "stream",
       "stream": "stdout",
       "text": [
        "\n",
        "Invalid status code\n",
        "http://cady.us/1um7wY1 scraped"
       ]
      },
      {
       "output_type": "stream",
       "stream": "stdout",
       "text": [
        "\n",
        "212 urls scraped\n",
        "http://www.rawstory.com/rs/2014/11/laura-ingraham-if-id-laws-make-voting-too-difficult-for-some-people-then-good/#.VFrwjBTxv8w.twitter scraped"
       ]
      },
      {
       "output_type": "stream",
       "stream": "stdout",
       "text": [
        "\n",
        "213 urls scraped\n",
        "error scraping"
       ]
      },
      {
       "output_type": "stream",
       "stream": "stdout",
       "text": [
        "\n",
        "Invalid status code\n",
        "http://ow.ly/DOUp3 scraped"
       ]
      },
      {
       "output_type": "stream",
       "stream": "stdout",
       "text": [
        "\n",
        "214 urls scraped\n",
        "error scraping"
       ]
      },
      {
       "output_type": "stream",
       "stream": "stdout",
       "text": [
        "\n",
        "Invalid status code\n",
        "error scraping"
       ]
      },
      {
       "output_type": "stream",
       "stream": "stdout",
       "text": [
        "\n",
        "Invalid status code\n",
        "http://www.ncsl.org/research/elections-and-campaigns/voter-id.aspx scraped"
       ]
      },
      {
       "output_type": "stream",
       "stream": "stdout",
       "text": [
        "\n",
        "215 urls scraped\n",
        "error scraping"
       ]
      },
      {
       "output_type": "stream",
       "stream": "stdout",
       "text": [
        "\n",
        "Invalid status code\n",
        "http://www.ibtimes.com/midterm-election-results-2014-did-voter-id-laws-help-republicans-win-senate-majority-1715785#.VFrup6SXx5w.twitter scraped"
       ]
      },
      {
       "output_type": "stream",
       "stream": "stdout",
       "text": [
        "\n",
        "216 urls scraped\n",
        "error scraping"
       ]
      },
      {
       "output_type": "stream",
       "stream": "stdout",
       "text": [
        "\n",
        "Invalid status code\n",
        "error scraping"
       ]
      },
      {
       "output_type": "stream",
       "stream": "stdout",
       "text": [
        "\n",
        "Invalid status code\n",
        "http://goo.gl/1VW4Zn scraped"
       ]
      },
      {
       "output_type": "stream",
       "stream": "stdout",
       "text": [
        "\n",
        "217 urls scraped\n",
        "http://thehill.com/homenews/administration/221446-obama-apathy-not-voter-id-keeps-minorities-from-polls#.VFrXmhdzpp0.twitter scraped"
       ]
      },
      {
       "output_type": "stream",
       "stream": "stdout",
       "text": [
        "\n",
        "218 urls scraped\n",
        "error scraping"
       ]
      },
      {
       "output_type": "stream",
       "stream": "stdout",
       "text": [
        "\n",
        "Invalid status code\n",
        "http://usat.ly/1qnQFwY scraped"
       ]
      },
      {
       "output_type": "stream",
       "stream": "stdout",
       "text": [
        "\n",
        "219 urls scraped\n",
        "http://bit.ly/1shtghi scraped"
       ]
      },
      {
       "output_type": "stream",
       "stream": "stdout",
       "text": [
        "\n",
        "220 urls scraped\n",
        "http://dailyfreddie.com/?p=276 scraped"
       ]
      },
      {
       "output_type": "stream",
       "stream": "stdout",
       "text": [
        "\n",
        "221 urls scraped\n",
        "http://buff.ly/1xaKa4z scraped"
       ]
      },
      {
       "output_type": "stream",
       "stream": "stdout",
       "text": [
        "\n",
        "222 urls scraped\n",
        "http://ln.is/ning.com/pDqem scraped"
       ]
      },
      {
       "output_type": "stream",
       "stream": "stdout",
       "text": [
        "\n",
        "223 urls scraped\n",
        "error scraping"
       ]
      },
      {
       "output_type": "stream",
       "stream": "stdout",
       "text": [
        "\n",
        "Invalid status code\n",
        "error scraping"
       ]
      },
      {
       "output_type": "stream",
       "stream": "stdout",
       "text": [
        "\n",
        "Invalid status code\n",
        "http://brennancenter.org scraped"
       ]
      },
      {
       "output_type": "stream",
       "stream": "stdout",
       "text": [
        "\n",
        "224 urls scraped\n",
        "error scraping"
       ]
      },
      {
       "output_type": "stream",
       "stream": "stdout",
       "text": [
        "\n",
        "Invalid status code\n",
        "http://www.nytimes.com/2014/11/05/opinion/election-2014-ill-concealed-prejudice.html?ref=opinion#permid=13245130 scraped"
       ]
      },
      {
       "output_type": "stream",
       "stream": "stdout",
       "text": [
        "\n",
        "225 urls scraped\n",
        "error scraping"
       ]
      },
      {
       "output_type": "stream",
       "stream": "stdout",
       "text": [
        "\n",
        "Invalid status code\n",
        "http://www.dps.texas.gov/DriverLicense/electionID.htm scraped"
       ]
      },
      {
       "output_type": "stream",
       "stream": "stdout",
       "text": [
        "\n",
        "226 urls scraped\n",
        "http://thinkprogress.org/election/2014/11/05/3588243/texas-voter-issues-recap/ scraped"
       ]
      },
      {
       "output_type": "stream",
       "stream": "stdout",
       "text": [
        "\n",
        "227 urls scraped\n",
        "http://gu.com/p/433bt/stw scraped"
       ]
      },
      {
       "output_type": "stream",
       "stream": "stdout",
       "text": [
        "\n",
        "228 urls scraped\n",
        "error scraping"
       ]
      },
      {
       "output_type": "stream",
       "stream": "stdout",
       "text": [
        "\n",
        "Invalid status code\n",
        "http://ow.ly/DPT2v scraped"
       ]
      },
      {
       "output_type": "stream",
       "stream": "stdout",
       "text": [
        "\n",
        "229 urls scraped\n",
        "http://pulse.me/s/31Wr8o scraped"
       ]
      },
      {
       "output_type": "stream",
       "stream": "stdout",
       "text": [
        "\n",
        "230 urls scraped\n",
        "http://ow.ly/DKgHq scraped"
       ]
      },
      {
       "output_type": "stream",
       "stream": "stdout",
       "text": [
        "\n",
        "231 urls scraped\n",
        "http://tinyurl.com/mdhws9y scraped"
       ]
      },
      {
       "output_type": "stream",
       "stream": "stdout",
       "text": [
        "\n",
        "232 urls scraped\n",
        "error scraping"
       ]
      },
      {
       "output_type": "stream",
       "stream": "stdout",
       "text": [
        "\n",
        "Invalid status code\n",
        "http://www.theguardian.com/us-news/2014/nov/04/us-midterms-glitches-polling-stations-voter-id-laws scraped"
       ]
      },
      {
       "output_type": "stream",
       "stream": "stdout",
       "text": [
        "\n",
        "233 urls scraped\n",
        "http://www.huffingtonpost.com/2014/11/04/voter-id_n_6103634.html scraped"
       ]
      },
      {
       "output_type": "stream",
       "stream": "stdout",
       "text": [
        "\n",
        "234 urls scraped\n",
        "error scraping"
       ]
      },
      {
       "output_type": "stream",
       "stream": "stdout",
       "text": [
        "\n",
        "Invalid status code\n",
        "error scraping"
       ]
      },
      {
       "output_type": "stream",
       "stream": "stdout",
       "text": [
        "\n",
        "Invalid status code\n",
        "http://www.politichicks.tv/2014/11/colorado-day-voter-registrations-surge-checks-residency-citizenship/ scraped"
       ]
      },
      {
       "output_type": "stream",
       "stream": "stdout",
       "text": [
        "\n",
        "235 urls scraped\n",
        "http://bit.ly/10NYaHz scraped"
       ]
      },
      {
       "output_type": "stream",
       "stream": "stdout",
       "text": [
        "\n",
        "236 urls scraped\n",
        "http://huff.to/1sMLjuV scraped"
       ]
      },
      {
       "output_type": "stream",
       "stream": "stdout",
       "text": [
        "\n",
        "237 urls scraped\n",
        "http://pocket.co/sWPV5 scraped"
       ]
      },
      {
       "output_type": "stream",
       "stream": "stdout",
       "text": [
        "\n",
        "238 urls scraped\n",
        "http://j.mp/1wqy2gj scraped"
       ]
      },
      {
       "output_type": "stream",
       "stream": "stdout",
       "text": [
        "\n",
        "239 urls scraped\n",
        "error scraping"
       ]
      },
      {
       "output_type": "stream",
       "stream": "stdout",
       "text": [
        "\n",
        "Invalid status code\n",
        "error scraping"
       ]
      },
      {
       "output_type": "stream",
       "stream": "stdout",
       "text": [
        "\n",
        "Invalid status code\n",
        "http://america.aljazeera.com/articles/2014/11/5/texas-voter-id-law.html scraped"
       ]
      },
      {
       "output_type": "stream",
       "stream": "stdout",
       "text": [
        "\n",
        "240 urls scraped\n",
        "http://jree.se/rf scraped"
       ]
      },
      {
       "output_type": "stream",
       "stream": "stdout",
       "text": [
        "\n",
        "241 urls scraped\n",
        "http://thevirginiavibe.com/ scraped"
       ]
      },
      {
       "output_type": "stream",
       "stream": "stdout",
       "text": [
        "\n",
        "242 urls scraped\n",
        "error scraping"
       ]
      },
      {
       "output_type": "stream",
       "stream": "stdout",
       "text": [
        "\n",
        "Invalid status code\n",
        "error scraping"
       ]
      },
      {
       "output_type": "stream",
       "stream": "stdout",
       "text": [
        "\n",
        "Invalid status code\n",
        "http://nyti.ms/1seEIKt scraped"
       ]
      },
      {
       "output_type": "stream",
       "stream": "stdout",
       "text": [
        "\n",
        "243 urls scraped\n",
        "error scraping"
       ]
      },
      {
       "output_type": "stream",
       "stream": "stdout",
       "text": [
        "\n",
        "Invalid status code\n",
        "error scraping"
       ]
      },
      {
       "output_type": "stream",
       "stream": "stdout",
       "text": [
        "\n",
        "Invalid status code\n",
        "http://bit.ly/1xedDuA scraped"
       ]
      },
      {
       "output_type": "stream",
       "stream": "stdout",
       "text": [
        "\n",
        "244 urls scraped\n",
        "http://bit.ly/1uwcmkM scraped"
       ]
      },
      {
       "output_type": "stream",
       "stream": "stdout",
       "text": [
        "\n",
        "245 urls scraped\n",
        "http://bit.ly/1uwcm4t scraped"
       ]
      },
      {
       "output_type": "stream",
       "stream": "stdout",
       "text": [
        "\n",
        "246 urls scraped\n",
        "error scraping"
       ]
      },
      {
       "output_type": "stream",
       "stream": "stdout",
       "text": [
        "\n",
        "Invalid status code\n",
        "error scraping"
       ]
      },
      {
       "output_type": "stream",
       "stream": "stdout",
       "text": [
        "\n",
        "Invalid status code\n",
        "error scraping"
       ]
      },
      {
       "output_type": "stream",
       "stream": "stdout",
       "text": [
        "\n",
        "Invalid status code\n",
        "error scraping"
       ]
      },
      {
       "output_type": "stream",
       "stream": "stdout",
       "text": [
        "\n",
        "Invalid status code\n",
        "error scraping"
       ]
      },
      {
       "output_type": "stream",
       "stream": "stdout",
       "text": [
        "\n",
        "Invalid status code\n",
        "error scraping"
       ]
      },
      {
       "output_type": "stream",
       "stream": "stdout",
       "text": [
        "\n",
        "Invalid status code\n",
        "error scraping"
       ]
      },
      {
       "output_type": "stream",
       "stream": "stdout",
       "text": [
        "\n",
        "Invalid status code\n",
        "error scraping"
       ]
      },
      {
       "output_type": "stream",
       "stream": "stdout",
       "text": [
        "\n",
        "Invalid status code\n",
        "error scraping"
       ]
      },
      {
       "output_type": "stream",
       "stream": "stdout",
       "text": [
        "\n",
        "Invalid status code\n",
        "error scraping"
       ]
      },
      {
       "output_type": "stream",
       "stream": "stdout",
       "text": [
        "\n",
        "Invalid status code\n",
        "error scraping"
       ]
      },
      {
       "output_type": "stream",
       "stream": "stdout",
       "text": [
        "\n",
        "Invalid status code\n",
        "error scraping"
       ]
      },
      {
       "output_type": "stream",
       "stream": "stdout",
       "text": [
        "\n",
        "Invalid status code\n",
        "error scraping"
       ]
      },
      {
       "output_type": "stream",
       "stream": "stdout",
       "text": [
        "\n",
        "Invalid status code\n",
        "error scraping"
       ]
      },
      {
       "output_type": "stream",
       "stream": "stdout",
       "text": [
        "\n",
        "Invalid status code\n",
        "http://bit.ly/1yYFkbW scraped"
       ]
      },
      {
       "output_type": "stream",
       "stream": "stdout",
       "text": [
        "\n",
        "247 urls scraped\n",
        "http://econ.st/1yYF6RY scraped"
       ]
      },
      {
       "output_type": "stream",
       "stream": "stdout",
       "text": [
        "\n",
        "248 urls scraped\n",
        "http://fb.me/1ggSotvZx scraped"
       ]
      },
      {
       "output_type": "stream",
       "stream": "stdout",
       "text": [
        "\n",
        "249 urls scraped\n",
        "error scraping"
       ]
      },
      {
       "output_type": "stream",
       "stream": "stdout",
       "text": [
        "\n",
        "Invalid status code\n",
        "error scraping"
       ]
      },
      {
       "output_type": "stream",
       "stream": "stdout",
       "text": [
        "\n",
        "Invalid status code\n",
        "error scraping"
       ]
      },
      {
       "output_type": "stream",
       "stream": "stdout",
       "text": [
        "\n",
        "Invalid status code\n",
        "error scraping"
       ]
      },
      {
       "output_type": "stream",
       "stream": "stdout",
       "text": [
        "\n",
        "Invalid status code\n",
        "http://bit.ly/1yYDOXc scraped"
       ]
      },
      {
       "output_type": "stream",
       "stream": "stdout",
       "text": [
        "\n",
        "250 urls scraped\n",
        "error scraping"
       ]
      },
      {
       "output_type": "stream",
       "stream": "stdout",
       "text": [
        "\n",
        "Invalid status code\n",
        "http://bit.ly/1yYDFDb scraped"
       ]
      },
      {
       "output_type": "stream",
       "stream": "stdout",
       "text": [
        "\n",
        "251 urls scraped\n",
        "http://slate.me/1yYDs2P scraped"
       ]
      },
      {
       "output_type": "stream",
       "stream": "stdout",
       "text": [
        "\n",
        "252 urls scraped\n",
        "error scraping"
       ]
      },
      {
       "output_type": "stream",
       "stream": "stdout",
       "text": [
        "\n",
        "Invalid status code\n",
        "error scraping"
       ]
      },
      {
       "output_type": "stream",
       "stream": "stdout",
       "text": [
        "\n",
        "Invalid status code\n",
        "error scraping"
       ]
      },
      {
       "output_type": "stream",
       "stream": "stdout",
       "text": [
        "\n",
        "Invalid status code\n",
        "error scraping"
       ]
      },
      {
       "output_type": "stream",
       "stream": "stdout",
       "text": [
        "\n",
        "Invalid status code\n",
        "error scraping"
       ]
      },
      {
       "output_type": "stream",
       "stream": "stdout",
       "text": [
        "\n",
        "Invalid status code\n",
        "error scraping"
       ]
      },
      {
       "output_type": "stream",
       "stream": "stdout",
       "text": [
        "\n",
        "Invalid status code\n",
        "error scraping"
       ]
      },
      {
       "output_type": "stream",
       "stream": "stdout",
       "text": [
        "\n",
        "Invalid status code\n",
        "error scraping"
       ]
      },
      {
       "output_type": "stream",
       "stream": "stdout",
       "text": [
        "\n",
        "Invalid status code\n",
        "error scraping"
       ]
      },
      {
       "output_type": "stream",
       "stream": "stdout",
       "text": [
        "\n",
        "Invalid status code\n",
        "http://m.youtube.com/watch?v=azSUHpAb_E4 scraped"
       ]
      },
      {
       "output_type": "stream",
       "stream": "stdout",
       "text": [
        "\n",
        "253 urls scraped\n",
        "http://www.nytimes.com/2014/11/05/us/election-tests-new-rules-on-voting.html?_r=0 scraped"
       ]
      },
      {
       "output_type": "stream",
       "stream": "stdout",
       "text": [
        "\n",
        "254 urls scraped\n",
        "http://ow.ly/DMffW scraped"
       ]
      },
      {
       "output_type": "stream",
       "stream": "stdout",
       "text": [
        "\n",
        "255 urls scraped\n",
        "http://www.washingtonpost.com/opinions/five-myths-about-voter-fraud/2011/10/04/gIQAkjoYTL_story.html scraped"
       ]
      },
      {
       "output_type": "stream",
       "stream": "stdout",
       "text": [
        "\n",
        "256 urls scraped\n",
        "http://ow.ly/DKSzQ scraped"
       ]
      },
      {
       "output_type": "stream",
       "stream": "stdout",
       "text": [
        "\n",
        "257 urls scraped\n",
        "http://www.jsonline.com/blogs/news/281608361.html scraped"
       ]
      },
      {
       "output_type": "stream",
       "stream": "stdout",
       "text": [
        "\n",
        "258 urls scraped\n",
        "error scraping"
       ]
      },
      {
       "output_type": "stream",
       "stream": "stdout",
       "text": [
        "\n",
        "Invalid status code\n",
        "error scraping"
       ]
      },
      {
       "output_type": "stream",
       "stream": "stdout",
       "text": [
        "\n",
        "Invalid status code\n",
        "http://ow.ly/DH03Y scraped"
       ]
      },
      {
       "output_type": "stream",
       "stream": "stdout",
       "text": [
        "\n",
        "259 urls scraped\n",
        "error scraping"
       ]
      },
      {
       "output_type": "stream",
       "stream": "stdout",
       "text": [
        "\n",
        "Invalid status code\n",
        "http://ow.ly/DKgMf scraped"
       ]
      },
      {
       "output_type": "stream",
       "stream": "stdout",
       "text": [
        "\n",
        "260 urls scraped\n",
        "http://talkpoverty.org/2014/11/03/voter-id-laws/ scraped"
       ]
      },
      {
       "output_type": "stream",
       "stream": "stdout",
       "text": [
        "\n",
        "261 urls scraped\n",
        "http://memorado.com/iqtest scraped"
       ]
      },
      {
       "output_type": "stream",
       "stream": "stdout",
       "text": [
        "\n",
        "262 urls scraped\n",
        "error scraping"
       ]
      },
      {
       "output_type": "stream",
       "stream": "stdout",
       "text": [
        "\n",
        "Invalid status code\n",
        "http://ift.tt/10uyOOb scraped"
       ]
      },
      {
       "output_type": "stream",
       "stream": "stdout",
       "text": [
        "\n",
        "263 urls scraped\n",
        "error scraping"
       ]
      },
      {
       "output_type": "stream",
       "stream": "stdout",
       "text": [
        "\n",
        "'content-type'\n",
        "error scraping"
       ]
      },
      {
       "output_type": "stream",
       "stream": "stdout",
       "text": [
        "\n",
        "'content-type'\n",
        "http://ln.is/ning.com/rvTKS scraped"
       ]
      },
      {
       "output_type": "stream",
       "stream": "stdout",
       "text": [
        "\n",
        "264 urls scraped\n",
        "error scraping"
       ]
      },
      {
       "output_type": "stream",
       "stream": "stdout",
       "text": [
        "\n",
        "Page not text\n",
        "http://trib.al/u6aA56p scraped"
       ]
      },
      {
       "output_type": "stream",
       "stream": "stdout",
       "text": [
        "\n",
        "265 urls scraped\n",
        "error scraping"
       ]
      },
      {
       "output_type": "stream",
       "stream": "stdout",
       "text": [
        "\n",
        "'content-type'\n",
        "http://www.thenation.com/blog/186849/new-voting-restrictions-could-swing-2014-election scraped"
       ]
      },
      {
       "output_type": "stream",
       "stream": "stdout",
       "text": [
        "\n",
        "266 urls scraped\n",
        "http://truth-out.org/news/item/27237-jim-crow-returns-interstate-crosscheck-program-could-strip-millions-of-the-right-to-vote scraped"
       ]
      },
      {
       "output_type": "stream",
       "stream": "stdout",
       "text": [
        "\n",
        "267 urls scraped\n",
        "error scraping"
       ]
      },
      {
       "output_type": "stream",
       "stream": "stdout",
       "text": [
        "\n",
        "'content-type'\n",
        "http://www.motherjones.com/politics/2014/10/minority-voters-election-long-lines-id scraped"
       ]
      },
      {
       "output_type": "stream",
       "stream": "stdout",
       "text": [
        "\n",
        "268 urls scraped\n",
        "http://dailycaller.com/2012/08/02/voter-id-rules-protect-seniors-minorities-from-fraudsters-says-new-study scraped"
       ]
      },
      {
       "output_type": "stream",
       "stream": "stdout",
       "text": [
        "\n",
        "269 urls scraped\n",
        "https://m.youtube.com/watch?v=V-uKdEmBGfs scraped"
       ]
      },
      {
       "output_type": "stream",
       "stream": "stdout",
       "text": [
        "\n",
        "270 urls scraped\n",
        "http://www.lwval.org scraped"
       ]
      },
      {
       "output_type": "stream",
       "stream": "stdout",
       "text": [
        "\n",
        "271 urls scraped\n",
        "http://ln.is/manitoumessenger.com/Kvv44 scraped"
       ]
      },
      {
       "output_type": "stream",
       "stream": "stdout",
       "text": [
        "\n",
        "272 urls scraped\n",
        "http://www.msnbc.com/msnbc/texas-sees-surge-disenfranchised-voters scraped"
       ]
      },
      {
       "output_type": "stream",
       "stream": "stdout",
       "text": [
        "\n",
        "273 urls scraped\n",
        "http://www.motherjones.com/mojo/2014/11/cats-voting scraped"
       ]
      },
      {
       "output_type": "stream",
       "stream": "stdout",
       "text": [
        "\n",
        "274 urls scraped\n",
        "http://m.timesdispatch.com/news/election/in-st-statewide-election-few-problems-reported-with-voter-photo/article_41e477cf-7591-51e4-b013-775ace23c517.html scraped"
       ]
      },
      {
       "output_type": "stream",
       "stream": "stdout",
       "text": [
        "\n",
        "275 urls scraped\n",
        "http://m.timesdispatch.com/news/election/in-st-statewide-election-few-problems-reported-with-voter-photo/article_41e477cf-7591-51e4-b013-775ace23c517.html?mode=jqm scraped"
       ]
      },
      {
       "output_type": "stream",
       "stream": "stdout",
       "text": [
        "\n",
        "276 urls scraped\n",
        "http://ballotpedia.org/State_by_State_Voter_ID_Laws scraped"
       ]
      },
      {
       "output_type": "stream",
       "stream": "stdout",
       "text": [
        "\n",
        "277 urls scraped\n",
        "http://www.kob.com/article/stories/S3607682.shtml scraped"
       ]
      },
      {
       "output_type": "stream",
       "stream": "stdout",
       "text": [
        "\n",
        "278 urls scraped\n",
        "https://www.youtube.com/watch?v=AaDkQrEwOyY scraped"
       ]
      },
      {
       "output_type": "stream",
       "stream": "stdout",
       "text": [
        "\n",
        "279 urls scraped\n",
        "http://smar.ws/c5KA0 scraped"
       ]
      },
      {
       "output_type": "stream",
       "stream": "stdout",
       "text": [
        "\n",
        "280 urls scraped\n",
        "http://ln.is/abcnews.go.com/Polit/os4kq scraped"
       ]
      },
      {
       "output_type": "stream",
       "stream": "stdout",
       "text": [
        "\n",
        "281 urls scraped\n",
        "http://fb.me/1outHdOsO scraped"
       ]
      },
      {
       "output_type": "stream",
       "stream": "stdout",
       "text": [
        "\n",
        "282 urls scraped\n",
        "http://www.breitbart.com/Big-Government/2014/10/30/New-O-Keefe-Video-Allegedly-Shows-Democratic-Poll-Workers-Assisting-Illegal-Non-Citizen-to-Vote-in-NC scraped"
       ]
      },
      {
       "output_type": "stream",
       "stream": "stdout",
       "text": [
        "\n",
        "283 urls scraped\n",
        "http://www.brennancenter.org/blog/ground-texas-voter-id-troubles-continue scraped"
       ]
      },
      {
       "output_type": "stream",
       "stream": "stdout",
       "text": [
        "\n",
        "284 urls scraped\n",
        "http://fb.me/1qgbAgraY scraped"
       ]
      },
      {
       "output_type": "stream",
       "stream": "stdout",
       "text": [
        "\n",
        "285 urls scraped\n",
        "error scraping"
       ]
      },
      {
       "output_type": "stream",
       "stream": "stdout",
       "text": [
        "\n",
        "'content-type'\n",
        "https://twitter.com/brennancenter/status/528661542754320384 scraped"
       ]
      },
      {
       "output_type": "stream",
       "stream": "stdout",
       "text": [
        "\n",
        "286 urls scraped\n",
        "http://www.latimes.com/nation/politics/politicsnow/la-pn-voting-monitors-concerns-20141104-story.html scraped"
       ]
      },
      {
       "output_type": "stream",
       "stream": "stdout",
       "text": [
        "\n",
        "287 urls scraped\n",
        "http://trib.al/sfXZ7st scraped"
       ]
      },
      {
       "output_type": "stream",
       "stream": "stdout",
       "text": [
        "\n",
        "288 urls scraped\n",
        "http://instagram.com/p/u_-ONDhX_q/ scraped"
       ]
      },
      {
       "output_type": "stream",
       "stream": "stdout",
       "text": [
        "\n",
        "289 urls scraped\n",
        "http://j.mp/10snan2 scraped"
       ]
      },
      {
       "output_type": "stream",
       "stream": "stdout",
       "text": [
        "\n",
        "290 urls scraped\n",
        "http://www.nytimes.com/2014/06/11/upshot/vote-fraud-is-rare-but-myth-is-widespread.html?abt=0002&abg=0 scraped"
       ]
      },
      {
       "output_type": "stream",
       "stream": "stdout",
       "text": [
        "\n",
        "291 urls scraped\n",
        "http://bit.ly/1FwFZpB scraped"
       ]
      },
      {
       "output_type": "stream",
       "stream": "stdout",
       "text": [
        "\n",
        "292 urls scraped\n",
        "http://bit.ly/1wm3Rpy scraped"
       ]
      },
      {
       "output_type": "stream",
       "stream": "stdout",
       "text": [
        "\n",
        "293 urls scraped\n",
        "http://j.mp/10sl32t scraped"
       ]
      },
      {
       "output_type": "stream",
       "stream": "stdout",
       "text": [
        "\n",
        "294 urls scraped\n",
        "http://fb.me/1pc5MD8R3 scraped"
       ]
      },
      {
       "output_type": "stream",
       "stream": "stdout",
       "text": [
        "\n",
        "295 urls scraped\n",
        "http://bit.ly/1zuRyMC scraped"
       ]
      },
      {
       "output_type": "stream",
       "stream": "stdout",
       "text": [
        "\n",
        "296 urls scraped\n",
        "https://twitter.com/outforbud/status/529789967199772673 scraped"
       ]
      },
      {
       "output_type": "stream",
       "stream": "stdout",
       "text": [
        "\n",
        "297 urls scraped\n",
        "http://at.law.com/7TuRif scraped"
       ]
      },
      {
       "output_type": "stream",
       "stream": "stdout",
       "text": [
        "\n",
        "298 urls scraped\n",
        "http://bit.ly/1E46VcA scraped"
       ]
      },
      {
       "output_type": "stream",
       "stream": "stdout",
       "text": [
        "\n",
        "299 urls scraped\n",
        "error scraping"
       ]
      },
      {
       "output_type": "stream",
       "stream": "stdout",
       "text": [
        "\n",
        "Invalid status code\n",
        "http://www.truthdig.com/report/item/is_voter_suppression_an_american_tradition_20141028/#.VFlqYjjzGxg.twitter scraped"
       ]
      },
      {
       "output_type": "stream",
       "stream": "stdout",
       "text": [
        "\n",
        "300 urls scraped\n",
        "http://fb.me/7g4XQYBS5 scraped"
       ]
      },
      {
       "output_type": "stream",
       "stream": "stdout",
       "text": [
        "\n",
        "301 urls scraped\n",
        "http://ow.ly/DKkR7 scraped"
       ]
      },
      {
       "output_type": "stream",
       "stream": "stdout",
       "text": [
        "\n",
        "302 urls scraped\n",
        "http://bit.ly/1yWcmt7 scraped"
       ]
      },
      {
       "output_type": "stream",
       "stream": "stdout",
       "text": [
        "\n",
        "303 urls scraped\n",
        "http://wapo.st/1s9CdJv scraped"
       ]
      },
      {
       "output_type": "stream",
       "stream": "stdout",
       "text": [
        "\n",
        "304 urls scraped\n",
        "http://bit.ly/1tFw8cp scraped"
       ]
      },
      {
       "output_type": "stream",
       "stream": "stdout",
       "text": [
        "\n",
        "305 urls scraped\n",
        "http://www.votingwhiletrans.org/index.html scraped"
       ]
      },
      {
       "output_type": "stream",
       "stream": "stdout",
       "text": [
        "\n",
        "306 urls scraped\n",
        "http://www.foxnews.com/politics/2014/11/04/midterms-2014-campaign-notebook/ scraped"
       ]
      },
      {
       "output_type": "stream",
       "stream": "stdout",
       "text": [
        "\n",
        "307 urls scraped\n",
        "http://www.wmur.com/politics/Voter-information-Polling-places-voter-ID-report-problems/27717834 scraped"
       ]
      },
      {
       "output_type": "stream",
       "stream": "stdout",
       "text": [
        "\n",
        "308 urls scraped\n",
        "http://ow.ly/DOXQK scraped"
       ]
      },
      {
       "output_type": "stream",
       "stream": "stdout",
       "text": [
        "\n",
        "309 urls scraped\n",
        "http://on.mgmadv.com/1qo20Nw scraped"
       ]
      },
      {
       "output_type": "stream",
       "stream": "stdout",
       "text": [
        "\n",
        "310 urls scraped\n",
        "http://www.BlackConservativesFund.com/GOTV scraped"
       ]
      },
      {
       "output_type": "stream",
       "stream": "stdout",
       "text": [
        "\n",
        "311 urls scraped\n",
        "http://fb.me/3KvWfMr6t scraped"
       ]
      },
      {
       "output_type": "stream",
       "stream": "stdout",
       "text": [
        "\n",
        "312 urls scraped\n",
        "http://twitchy.com/2014/11/04/needs-a-news-hit-you-will-not-believe-what-is-happening-at-these-polling-stations-photo/ scraped"
       ]
      },
      {
       "output_type": "stream",
       "stream": "stdout",
       "text": [
        "\n",
        "313 urls scraped\n",
        "http://bit.ly/the-VRA scraped"
       ]
      },
      {
       "output_type": "stream",
       "stream": "stdout",
       "text": [
        "\n",
        "314 urls scraped\n",
        "http://shar.es/10hqX8 scraped"
       ]
      },
      {
       "output_type": "stream",
       "stream": "stdout",
       "text": [
        "\n",
        "315 urls scraped\n",
        "http://natl.re/1A6xql1 scraped"
       ]
      },
      {
       "output_type": "stream",
       "stream": "stdout",
       "text": [
        "\n",
        "316 urls scraped\n",
        "http://ow.ly/DOkYH scraped"
       ]
      },
      {
       "output_type": "stream",
       "stream": "stdout",
       "text": [
        "\n",
        "317 urls scraped\n",
        "error scraping"
       ]
      },
      {
       "output_type": "stream",
       "stream": "stdout",
       "text": [
        "\n",
        "'content-type'\n",
        "http://ow.ly/DNCap scraped"
       ]
      },
      {
       "output_type": "stream",
       "stream": "stdout",
       "text": [
        "\n",
        "318 urls scraped\n",
        "http://gu.com/p/42tyh/stw scraped"
       ]
      },
      {
       "output_type": "stream",
       "stream": "stdout",
       "text": [
        "\n",
        "319 urls scraped\n",
        "http://wapo.st/1yUs5J6 scraped"
       ]
      },
      {
       "output_type": "stream",
       "stream": "stdout",
       "text": [
        "\n",
        "320 urls scraped\n",
        "http://ex-army.blogspot.com/2014/11/id-and-sovereignty.html?spref=tw scraped"
       ]
      },
      {
       "output_type": "stream",
       "stream": "stdout",
       "text": [
        "\n",
        "321 urls scraped\n",
        "error scraping"
       ]
      },
      {
       "output_type": "stream",
       "stream": "stdout",
       "text": [
        "\n",
        "'content-type'\n",
        "error scraping"
       ]
      },
      {
       "output_type": "stream",
       "stream": "stdout",
       "text": [
        "\n",
        "'content-type'\n",
        "error scraping"
       ]
      },
      {
       "output_type": "stream",
       "stream": "stdout",
       "text": [
        "\n",
        "'content-type'\n",
        "error scraping"
       ]
      },
      {
       "output_type": "stream",
       "stream": "stdout",
       "text": [
        "\n",
        "'content-type'\n",
        "http://dailysignal.com/category/topics-society/ scraped"
       ]
      },
      {
       "output_type": "stream",
       "stream": "stdout",
       "text": [
        "\n",
        "322 urls scraped\n",
        "error scraping"
       ]
      },
      {
       "output_type": "stream",
       "stream": "stdout",
       "text": [
        "\n",
        "'content-type'\n",
        "http://goo.gl/8VSsMe scraped"
       ]
      },
      {
       "output_type": "stream",
       "stream": "stdout",
       "text": [
        "\n",
        "323 urls scraped\n",
        "error scraping"
       ]
      },
      {
       "output_type": "stream",
       "stream": "stdout",
       "text": [
        "\n",
        "'content-type'\n",
        "http://wi1848forward.blogspot.com/2012/12/gab-vs-fitzwalkerstan-rig-elections.html?spref=tw scraped"
       ]
      },
      {
       "output_type": "stream",
       "stream": "stdout",
       "text": [
        "\n",
        "324 urls scraped\n",
        "error scraping"
       ]
      },
      {
       "output_type": "stream",
       "stream": "stdout",
       "text": [
        "\n",
        "'content-type'\n",
        "error scraping"
       ]
      },
      {
       "output_type": "stream",
       "stream": "stdout",
       "text": [
        "\n",
        "Page not text\n",
        "http://www.txdemocrats.org/act/voter-id-basics scraped"
       ]
      },
      {
       "output_type": "stream",
       "stream": "stdout",
       "text": [
        "\n",
        "325 urls scraped\n",
        "error scraping"
       ]
      },
      {
       "output_type": "stream",
       "stream": "stdout",
       "text": [
        "\n",
        "Invalid status code\n",
        "error scraping"
       ]
      },
      {
       "output_type": "stream",
       "stream": "stdout",
       "text": [
        "\n",
        "Invalid status code\n",
        "http://bit.ly/1xXVa5x scraped"
       ]
      },
      {
       "output_type": "stream",
       "stream": "stdout",
       "text": [
        "\n",
        "326 urls scraped\n",
        "http://fb.me/6TJgegcOp scraped"
       ]
      },
      {
       "output_type": "stream",
       "stream": "stdout",
       "text": [
        "\n",
        "327 urls scraped\n",
        "error scraping"
       ]
      },
      {
       "output_type": "stream",
       "stream": "stdout",
       "text": [
        "\n",
        "Page not text\n",
        "http://ln.is/on.msnbc.com/lKO1k scraped"
       ]
      },
      {
       "output_type": "stream",
       "stream": "stdout",
       "text": [
        "\n",
        "328 urls scraped\n",
        "https://www.youtube.com/watch?v=CtevgEN8BKw scraped"
       ]
      },
      {
       "output_type": "stream",
       "stream": "stdout",
       "text": [
        "\n",
        "329 urls scraped\n",
        "http://instagram.com/p/u_i6SVQcYA/ scraped"
       ]
      },
      {
       "output_type": "stream",
       "stream": "stdout",
       "text": [
        "\n",
        "330 urls scraped\n",
        "http://www.huffingtonpost.com/2014/11/04/voting-machines-broken_n_6101312.html scraped"
       ]
      },
      {
       "output_type": "stream",
       "stream": "stdout",
       "text": [
        "\n",
        "331 urls scraped\n",
        "http://ln.is/ning.com/1G3HI scraped"
       ]
      },
      {
       "output_type": "stream",
       "stream": "stdout",
       "text": [
        "\n",
        "332 urls scraped\n",
        "http://www.washingtonpost.com/pb/politics/election-2014-live/?id=ac65383b-54da-40e1-b2e0-45137eafc4f2 scraped"
       ]
      },
      {
       "output_type": "stream",
       "stream": "stdout",
       "text": [
        "\n",
        "333 urls scraped\n",
        "http://thinkprogress.org/election/2014/11/02/3587428/election-2014-liveblog/#lbu-1415123407 scraped"
       ]
      },
      {
       "output_type": "stream",
       "stream": "stdout",
       "text": [
        "\n",
        "334 urls scraped\n",
        "http://townhall.com/columnists/thomassowell/2014/11/04/voter-fraud-and-voter-id-n1913619?utm_source=thdaily&utm_medium=email&utm_campaign=nl scraped"
       ]
      },
      {
       "output_type": "stream",
       "stream": "stdout",
       "text": [
        "\n",
        "335 urls scraped\n",
        "error scraping"
       ]
      },
      {
       "output_type": "stream",
       "stream": "stdout",
       "text": [
        "\n",
        "Page not text\n",
        "error scraping"
       ]
      },
      {
       "output_type": "stream",
       "stream": "stdout",
       "text": [
        "\n",
        "Page not text\n",
        "http://www.motherjones.com/politics/2014/10/supreme-court-texas-voter-id-law-history scraped"
       ]
      },
      {
       "output_type": "stream",
       "stream": "stdout",
       "text": [
        "\n",
        "336 urls scraped\n",
        "error scraping"
       ]
      },
      {
       "output_type": "stream",
       "stream": "stdout",
       "text": [
        "\n",
        "Page not text\n",
        "http://ln.is/www.motherjones.com/528m8 scraped"
       ]
      },
      {
       "output_type": "stream",
       "stream": "stdout",
       "text": [
        "\n",
        "337 urls scraped\n",
        "http://fus.in/1ry3Cn7 scraped"
       ]
      },
      {
       "output_type": "stream",
       "stream": "stdout",
       "text": [
        "\n",
        "338 urls scraped\n",
        "error scraping"
       ]
      },
      {
       "output_type": "stream",
       "stream": "stdout",
       "text": [
        "\n",
        "Invalid status code\n",
        "error scraping"
       ]
      },
      {
       "output_type": "stream",
       "stream": "stdout",
       "text": [
        "\n",
        "Invalid status code\n",
        "http://twitchy.com/2014/11/04/better-just-be-a-glitch-is-texas-voting-machine-leaving-greg-abbott-off-the-ballot-photo/ scraped"
       ]
      },
      {
       "output_type": "stream",
       "stream": "stdout",
       "text": [
        "\n",
        "339 urls scraped\n",
        "http://www.nytimes.com/2014/11/05/us/election-tests-new-rules-on-voting.html?hp&action=click&pgtype=Homepage&module=a-lede-package-region&region=top-news&WT.nav=top-news&_r=0 scraped"
       ]
      },
      {
       "output_type": "stream",
       "stream": "stdout",
       "text": [
        "\n",
        "340 urls scraped\n",
        "http://ow.ly/DKjeT scraped"
       ]
      },
      {
       "output_type": "stream",
       "stream": "stdout",
       "text": [
        "\n",
        "341 urls scraped\n",
        "https://www.youtube.com/watch?v=vKhfuLjhADE&list=PL_pPc6-qR9Zw87MGxX7I3A6gSbfZjOd-k scraped"
       ]
      },
      {
       "output_type": "stream",
       "stream": "stdout",
       "text": [
        "\n",
        "342 urls scraped\n",
        "http://cjon.co/1vEEu0i scraped"
       ]
      },
      {
       "output_type": "stream",
       "stream": "stdout",
       "text": [
        "\n",
        "343 urls scraped\n",
        "http://wapo.st/1scMc0J scraped"
       ]
      },
      {
       "output_type": "stream",
       "stream": "stdout",
       "text": [
        "\n",
        "344 urls scraped\n",
        "error scraping"
       ]
      },
      {
       "output_type": "stream",
       "stream": "stdout",
       "text": [
        "\n",
        "Page not text\n",
        "http://bit.ly/VOTE411 scraped"
       ]
      },
      {
       "output_type": "stream",
       "stream": "stdout",
       "text": [
        "\n",
        "345 urls scraped\n",
        "error scraping"
       ]
      },
      {
       "output_type": "stream",
       "stream": "stdout",
       "text": [
        "\n",
        "Page not text\n",
        "http://www.realclearpolitics.com/articles/2014/11/04/voter_fraud_and_voter_id_124553.html#.VFkprS3NnpM.twitter scraped"
       ]
      },
      {
       "output_type": "stream",
       "stream": "stdout",
       "text": [
        "\n",
        "346 urls scraped\n",
        "http://econ.st/1x2KPVP scraped"
       ]
      },
      {
       "output_type": "stream",
       "stream": "stdout",
       "text": [
        "\n",
        "347 urls scraped\n",
        "http://thepunditpress.com/2014/11/02/voter-fraud-in-new-mexico-voter-turned-away-after-illegal-voted-as-him-lack-of-voter-id-law-blamed/ scraped"
       ]
      },
      {
       "output_type": "stream",
       "stream": "stdout",
       "text": [
        "\n",
        "348 urls scraped\n",
        "http://www.usa.gov/Citizen/Topics/Voting/Register.shtml scraped"
       ]
      },
      {
       "output_type": "stream",
       "stream": "stdout",
       "text": [
        "\n",
        "349 urls scraped\n",
        "error scraping"
       ]
      },
      {
       "output_type": "stream",
       "stream": "stdout",
       "text": [
        "\n",
        "Invalid status code\n",
        "error scraping"
       ]
      },
      {
       "output_type": "stream",
       "stream": "stdout",
       "text": [
        "\n",
        "Invalid status code\n",
        "error scraping"
       ]
      },
      {
       "output_type": "stream",
       "stream": "stdout",
       "text": [
        "\n",
        "Invalid status code\n",
        "error scraping"
       ]
      },
      {
       "output_type": "stream",
       "stream": "stdout",
       "text": [
        "\n",
        "Invalid status code\n",
        "http://m.wcfcourier.com/news/local/govt-and-politics/general-election-2014/iowa-secretary-of-state-hopefuls-differ-on-voter-id-measures/article_273a1332-7926-5558-a890-33c3a2189cf6.html?mobile_touch=true scraped"
       ]
      },
      {
       "output_type": "stream",
       "stream": "stdout",
       "text": [
        "\n",
        "350 urls scraped\n",
        "http://po.st/xZQ21e scraped"
       ]
      },
      {
       "output_type": "stream",
       "stream": "stdout",
       "text": [
        "\n",
        "351 urls scraped\n",
        "http://www.unfinishedbusiness.org/20141031-how-voter-id-laws-prevent-americans-from-voting/ scraped"
       ]
      },
      {
       "output_type": "stream",
       "stream": "stdout",
       "text": [
        "\n",
        "352 urls scraped\n",
        "http://hvrd.me/DNtqg scraped"
       ]
      },
      {
       "output_type": "stream",
       "stream": "stdout",
       "text": [
        "\n",
        "353 urls scraped\n",
        "error scraping"
       ]
      },
      {
       "output_type": "stream",
       "stream": "stdout",
       "text": [
        "\n",
        "Invalid status code\n",
        "error scraping"
       ]
      },
      {
       "output_type": "stream",
       "stream": "stdout",
       "text": [
        "\n",
        "Invalid status code\n",
        "error scraping"
       ]
      },
      {
       "output_type": "stream",
       "stream": "stdout",
       "text": [
        "\n",
        "Invalid status code\n",
        "http://manitoumessenger.com/opinions/2014/11/04/texas-voter-id-law-discourages-voter-security/ scraped"
       ]
      },
      {
       "output_type": "stream",
       "stream": "stdout",
       "text": [
        "\n",
        "354 urls scraped\n",
        "http://www.houstonchronicle.com/news/politics/houston/article/Little-demand-for-voter-ID-cards-but-some-hit-5865476.php?cmpid=email-premium&cmpid=twitter-premium&t=63fe950f6bec4584b7 scraped"
       ]
      },
      {
       "output_type": "stream",
       "stream": "stdout",
       "text": [
        "\n",
        "355 urls scraped\n",
        "http://on.msnbc.com/1EebYcq scraped"
       ]
      },
      {
       "output_type": "stream",
       "stream": "stdout",
       "text": [
        "\n",
        "356 urls scraped\n",
        "http://www.brennancenter.org/blog/we-already-know-who-won-2014-election scraped"
       ]
      },
      {
       "output_type": "stream",
       "stream": "stdout",
       "text": [
        "\n",
        "357 urls scraped\n",
        "http://tmblr.co/Zt70ay1Unp5N5 scraped"
       ]
      },
      {
       "output_type": "stream",
       "stream": "stdout",
       "text": [
        "\n",
        "358 urls scraped\n",
        "http://bit.ly/1x0HsC9 scraped"
       ]
      },
      {
       "output_type": "stream",
       "stream": "stdout",
       "text": [
        "\n",
        "359 urls scraped\n",
        "http://www.arktimes.com/ArkansasBlog/archives/2014/11/03/aclu-demands-secretary-of-state-change-vote-id-requirement scraped"
       ]
      },
      {
       "output_type": "stream",
       "stream": "stdout",
       "text": [
        "\n",
        "360 urls scraped\n",
        "http://gwag.co/bo scraped"
       ]
      },
      {
       "output_type": "stream",
       "stream": "stdout",
       "text": [
        "\n",
        "361 urls scraped\n",
        "error scraping"
       ]
      },
      {
       "output_type": "stream",
       "stream": "stdout",
       "text": [
        "\n",
        "Page not text\n",
        "http://ow.ly/i/7sgq7 scraped"
       ]
      },
      {
       "output_type": "stream",
       "stream": "stdout",
       "text": [
        "\n",
        "362 urls scraped\n",
        "error scraping"
       ]
      },
      {
       "output_type": "stream",
       "stream": "stdout",
       "text": [
        "\n",
        "[Errno 1] _ssl.c:510: error:14090086:SSL routines:SSL3_GET_SERVER_CERTIFICATE:certificate verify failed\n",
        "http://ow.ly/De2EK scraped"
       ]
      },
      {
       "output_type": "stream",
       "stream": "stdout",
       "text": [
        "\n",
        "363 urls scraped\n",
        "http://wisdomvoices.com/not-everyones-life-is-just-like-yours-trying-to-get-a-voter-id/ scraped"
       ]
      },
      {
       "output_type": "stream",
       "stream": "stdout",
       "text": [
        "\n",
        "364 urls scraped\n",
        "error scraping"
       ]
      },
      {
       "output_type": "stream",
       "stream": "stdout",
       "text": [
        "\n",
        "[Errno 1] _ssl.c:510: error:14090086:SSL routines:SSL3_GET_SERVER_CERTIFICATE:certificate verify failed\n",
        "http://townhall.com/columnists/thomassowell/2014/11/04/voter-fraud-and-voter-id-n1913619 scraped"
       ]
      },
      {
       "output_type": "stream",
       "stream": "stdout",
       "text": [
        "\n",
        "365 urls scraped\n",
        "error scraping"
       ]
      },
      {
       "output_type": "stream",
       "stream": "stdout",
       "text": [
        "\n",
        "Invalid status code\n",
        "http://wapo.st/1yVdKMO scraped"
       ]
      },
      {
       "output_type": "stream",
       "stream": "stdout",
       "text": [
        "\n",
        "366 urls scraped\n",
        "http://bit.ly/1zugIL3 scraped"
       ]
      },
      {
       "output_type": "stream",
       "stream": "stdout",
       "text": [
        "\n",
        "367 urls scraped\n",
        "http://drudge.tw/1E1X2fI scraped"
       ]
      },
      {
       "output_type": "stream",
       "stream": "stdout",
       "text": [
        "\n",
        "368 urls scraped\n",
        "http://bit.ly/1x0DidB scraped"
       ]
      },
      {
       "output_type": "stream",
       "stream": "stdout",
       "text": [
        "\n",
        "369 urls scraped\n",
        "http://fb.me/3Pid8D2r0 scraped"
       ]
      },
      {
       "output_type": "stream",
       "stream": "stdout",
       "text": [
        "\n",
        "370 urls scraped\n",
        "http://shar.es/zfFdH scraped"
       ]
      },
      {
       "output_type": "stream",
       "stream": "stdout",
       "text": [
        "\n",
        "371 urls scraped\n",
        "http://bit.ly/1bwoVNy scraped"
       ]
      },
      {
       "output_type": "stream",
       "stream": "stdout",
       "text": [
        "\n",
        "372 urls scraped\n",
        "http://bit.ly/1yV5kF6 scraped"
       ]
      },
      {
       "output_type": "stream",
       "stream": "stdout",
       "text": [
        "\n",
        "373 urls scraped\n",
        "http://bit.ly/1thzgLc scraped"
       ]
      },
      {
       "output_type": "stream",
       "stream": "stdout",
       "text": [
        "\n",
        "374 urls scraped\n",
        "http://ow.ly/DHiwh scraped"
       ]
      },
      {
       "output_type": "stream",
       "stream": "stdout",
       "text": [
        "\n",
        "375 urls scraped\n",
        "http://gr8.com/r/yrMIy/E/SmjG scraped"
       ]
      },
      {
       "output_type": "stream",
       "stream": "stdout",
       "text": [
        "\n",
        "376 urls scraped\n",
        "http://www.nationalreview.com/article/391474/non-citizens-are-voting-john-fund scraped"
       ]
      },
      {
       "output_type": "stream",
       "stream": "stdout",
       "text": [
        "\n",
        "377 urls scraped\n",
        "http://bit.ly/1Gl6AWW scraped"
       ]
      },
      {
       "output_type": "stream",
       "stream": "stdout",
       "text": [
        "\n",
        "378 urls scraped\n",
        "http://www.houstonchronicle.com/news/politics/houston/article/Little-demand-for-voter-ID-cards-but-some-hit-5865476.php scraped"
       ]
      },
      {
       "output_type": "stream",
       "stream": "stdout",
       "text": [
        "\n",
        "379 urls scraped\n",
        "error scraping"
       ]
      },
      {
       "output_type": "stream",
       "stream": "stdout",
       "text": [
        "\n",
        "Invalid status code\n",
        "http://patriotsbillboard.org/leak-shows-naacp-is-planning-mass-fraud-on-election-day/ scraped"
       ]
      },
      {
       "output_type": "stream",
       "stream": "stdout",
       "text": [
        "\n",
        "380 urls scraped\n",
        "http://ow.ly/DNC9M scraped"
       ]
      },
      {
       "output_type": "stream",
       "stream": "stdout",
       "text": [
        "\n",
        "381 urls scraped\n",
        "http://ow.ly/DNCa3 scraped"
       ]
      },
      {
       "output_type": "stream",
       "stream": "stdout",
       "text": [
        "\n",
        "382 urls scraped\n",
        "http://ow.ly/DNCab scraped"
       ]
      },
      {
       "output_type": "stream",
       "stream": "stdout",
       "text": [
        "\n",
        "383 urls scraped\n",
        "http://ow.ly/DNC9S scraped"
       ]
      },
      {
       "output_type": "stream",
       "stream": "stdout",
       "text": [
        "\n",
        "384 urls scraped\n",
        "http://ow.ly/DNC9X scraped"
       ]
      },
      {
       "output_type": "stream",
       "stream": "stdout",
       "text": [
        "\n",
        "385 urls scraped\n",
        "http://ow.ly/DNCax scraped"
       ]
      },
      {
       "output_type": "stream",
       "stream": "stdout",
       "text": [
        "\n",
        "386 urls scraped\n",
        "http://ow.ly/DNCaz scraped"
       ]
      },
      {
       "output_type": "stream",
       "stream": "stdout",
       "text": [
        "\n",
        "387 urls scraped\n",
        "http://ow.ly/DNCat scraped"
       ]
      },
      {
       "output_type": "stream",
       "stream": "stdout",
       "text": [
        "\n",
        "388 urls scraped\n",
        "http://ow.ly/DNCaf scraped"
       ]
      },
      {
       "output_type": "stream",
       "stream": "stdout",
       "text": [
        "\n",
        "389 urls scraped\n",
        "http://ow.ly/DNCa1 scraped"
       ]
      },
      {
       "output_type": "stream",
       "stream": "stdout",
       "text": [
        "\n",
        "390 urls scraped\n",
        "http://ow.ly/DNCah scraped"
       ]
      },
      {
       "output_type": "stream",
       "stream": "stdout",
       "text": [
        "\n",
        "391 urls scraped\n",
        "http://ow.ly/DNC9U scraped"
       ]
      },
      {
       "output_type": "stream",
       "stream": "stdout",
       "text": [
        "\n",
        "392 urls scraped\n",
        "http://ow.ly/DNCa8 scraped"
       ]
      },
      {
       "output_type": "stream",
       "stream": "stdout",
       "text": [
        "\n",
        "393 urls scraped\n",
        "http://ow.ly/DNCak scraped"
       ]
      },
      {
       "output_type": "stream",
       "stream": "stdout",
       "text": [
        "\n",
        "394 urls scraped\n",
        "http://fb.me/4psmjgz98 scraped"
       ]
      },
      {
       "output_type": "stream",
       "stream": "stdout",
       "text": [
        "\n",
        "395 urls scraped\n",
        "http://www.woai.com/articles/woai-local-news-sponsored-by-five-119078/first-federal-election-under-texas-new-12931824/ scraped"
       ]
      },
      {
       "output_type": "stream",
       "stream": "stdout",
       "text": [
        "\n",
        "396 urls scraped\n",
        "http://bit.ly/1x8nQZw scraped"
       ]
      },
      {
       "output_type": "stream",
       "stream": "stdout",
       "text": [
        "\n",
        "397 urls scraped\n",
        "http://wreg.com/2014/11/04/transgender-voters-worried-about-voter-id/ scraped"
       ]
      },
      {
       "output_type": "stream",
       "stream": "stdout",
       "text": [
        "\n",
        "398 urls scraped\n",
        "http://KOB.com scraped"
       ]
      },
      {
       "output_type": "stream",
       "stream": "stdout",
       "text": [
        "\n",
        "399 urls scraped\n",
        "http://www.kob.com/article/stories/s3607682.shtml#.VFj45s-mgjm.twitter scraped"
       ]
      },
      {
       "output_type": "stream",
       "stream": "stdout",
       "text": [
        "\n",
        "400 urls scraped\n",
        "error scraping"
       ]
      },
      {
       "output_type": "stream",
       "stream": "stdout",
       "text": [
        "\n",
        "Invalid status code\n",
        "http://bit.ly/1twqgjQ scraped"
       ]
      },
      {
       "output_type": "stream",
       "stream": "stdout",
       "text": [
        "\n",
        "401 urls scraped\n",
        "http://www.vox.com/2014/11/4/7151587/6-questions-about-voter-id-laws-you-were-too-embarrassed-to-ask?utm_medium=social&utm_source=twitter&utm_campaign=vox&utm_content=article-share-top scraped"
       ]
      },
      {
       "output_type": "stream",
       "stream": "stdout",
       "text": [
        "\n",
        "402 urls scraped\n",
        "http://www.realclearpolitics.com/articles/2014/11/04/voter_fraud_and_voter_id_124553.html#.VFjiYKR7Kg8.twitter scraped"
       ]
      },
      {
       "output_type": "stream",
       "stream": "stdout",
       "text": [
        "\n",
        "403 urls scraped\n",
        "http://ht.ly/DNUIB scraped"
       ]
      },
      {
       "output_type": "stream",
       "stream": "stdout",
       "text": [
        "\n",
        "404 urls scraped\n",
        "http://ht.ly/DNUIu scraped"
       ]
      },
      {
       "output_type": "stream",
       "stream": "stdout",
       "text": [
        "\n",
        "405 urls scraped\n",
        "error scraping"
       ]
      },
      {
       "output_type": "stream",
       "stream": "stdout",
       "text": [
        "\n",
        "Invalid status code\n",
        "http://ift.tt/1x33r7W scraped"
       ]
      },
      {
       "output_type": "stream",
       "stream": "stdout",
       "text": [
        "\n",
        "406 urls scraped\n",
        "http://www.people-press.org/2014/10/31/the-party-of-nonvoters-2/ scraped"
       ]
      },
      {
       "output_type": "stream",
       "stream": "stdout",
       "text": [
        "\n",
        "407 urls scraped\n",
        "http://bit.ly/1yJVd5Z scraped"
       ]
      },
      {
       "output_type": "stream",
       "stream": "stdout",
       "text": [
        "\n",
        "408 urls scraped\n",
        "http://www.lwvgb.org scraped"
       ]
      },
      {
       "output_type": "stream",
       "stream": "stdout",
       "text": [
        "\n",
        "409 urls scraped\n",
        "https://twitter.com/JoshWeinhold/status/529638845445591040 scraped"
       ]
      },
      {
       "output_type": "stream",
       "stream": "stdout",
       "text": [
        "\n",
        "410 urls scraped\n",
        "http://www.salon.com/2014/11/04/must_see_morning_clip_jon_stewart_slams_voter_id_laws_a_lot_of_these_laws_smell_pretty_voter_suppression_y/ scraped"
       ]
      },
      {
       "output_type": "stream",
       "stream": "stdout",
       "text": [
        "\n",
        "411 urls scraped\n",
        "http://www.nytimes.com/2014/11/05/us/election-tests-new-rules-on-voting.html?smprod=nytcore-iphone&smid=nytcore-iphone-share scraped"
       ]
      },
      {
       "output_type": "stream",
       "stream": "stdout",
       "text": [
        "\n",
        "412 urls scraped\n",
        "http://j.mp/107Qn65 scraped"
       ]
      },
      {
       "output_type": "stream",
       "stream": "stdout",
       "text": [
        "\n",
        "413 urls scraped\n",
        "error scraping"
       ]
      },
      {
       "output_type": "stream",
       "stream": "stdout",
       "text": [
        "\n",
        "Page not text\n",
        "http://shar.es/10CM2c scraped"
       ]
      },
      {
       "output_type": "stream",
       "stream": "stdout",
       "text": [
        "\n",
        "414 urls scraped\n",
        "http://fb.me/3lAwpbfFi scraped"
       ]
      },
      {
       "output_type": "stream",
       "stream": "stdout",
       "text": [
        "\n",
        "415 urls scraped\n",
        "http://ow.ly/DNtyB scraped"
       ]
      },
      {
       "output_type": "stream",
       "stream": "stdout",
       "text": [
        "\n",
        "416 urls scraped\n",
        "error scraping"
       ]
      },
      {
       "output_type": "stream",
       "stream": "stdout",
       "text": [
        "\n",
        "Page not text\n",
        "http://fw.to/s0Tdjsa scraped"
       ]
      },
      {
       "output_type": "stream",
       "stream": "stdout",
       "text": [
        "\n",
        "417 urls scraped\n",
        "http://cbsloc.al/1upLG58 scraped"
       ]
      },
      {
       "output_type": "stream",
       "stream": "stdout",
       "text": [
        "\n",
        "418 urls scraped\n",
        "http://dailycaller.com/2011/07/29/mississippi-naacp-leader-sent-to-prison-for-10-counts-of-voter-fraud/ scraped"
       ]
      },
      {
       "output_type": "stream",
       "stream": "stdout",
       "text": [
        "\n",
        "419 urls scraped\n",
        "http://www.theroot.com/articles/politics/2014/11/colorofchange_s_iftheyspeakforme_campaign.html scraped"
       ]
      },
      {
       "output_type": "stream",
       "stream": "stdout",
       "text": [
        "\n",
        "420 urls scraped\n",
        "http://bit.ly/10pMWbo scraped"
       ]
      },
      {
       "output_type": "stream",
       "stream": "stdout",
       "text": [
        "\n",
        "421 urls scraped\n",
        "http://ow.ly/DNeiZ scraped"
       ]
      },
      {
       "output_type": "stream",
       "stream": "stdout",
       "text": [
        "\n",
        "422 urls scraped\n",
        "http://ow.ly/DNtz3 scraped"
       ]
      },
      {
       "output_type": "stream",
       "stream": "stdout",
       "text": [
        "\n",
        "423 urls scraped\n",
        "http://ow.ly/DNtzk scraped"
       ]
      },
      {
       "output_type": "stream",
       "stream": "stdout",
       "text": [
        "\n",
        "424 urls scraped\n",
        "http://ow.ly/DNtzf scraped"
       ]
      },
      {
       "output_type": "stream",
       "stream": "stdout",
       "text": [
        "\n",
        "425 urls scraped\n",
        "http://ow.ly/DNtza scraped"
       ]
      },
      {
       "output_type": "stream",
       "stream": "stdout",
       "text": [
        "\n",
        "426 urls scraped\n",
        "http://ow.ly/DNtz8 scraped"
       ]
      },
      {
       "output_type": "stream",
       "stream": "stdout",
       "text": [
        "\n",
        "427 urls scraped\n",
        "http://ow.ly/DNtyX scraped"
       ]
      },
      {
       "output_type": "stream",
       "stream": "stdout",
       "text": [
        "\n",
        "428 urls scraped\n",
        "http://ow.ly/DNtyU scraped"
       ]
      },
      {
       "output_type": "stream",
       "stream": "stdout",
       "text": [
        "\n",
        "429 urls scraped\n",
        "http://ow.ly/DNtyQ scraped"
       ]
      },
      {
       "output_type": "stream",
       "stream": "stdout",
       "text": [
        "\n",
        "430 urls scraped\n",
        "http://ow.ly/DNtyN scraped"
       ]
      },
      {
       "output_type": "stream",
       "stream": "stdout",
       "text": [
        "\n",
        "431 urls scraped\n",
        "http://ow.ly/DNtyJ scraped"
       ]
      },
      {
       "output_type": "stream",
       "stream": "stdout",
       "text": [
        "\n",
        "432 urls scraped\n",
        "http://ow.ly/DNtyz scraped"
       ]
      },
      {
       "output_type": "stream",
       "stream": "stdout",
       "text": [
        "\n",
        "433 urls scraped\n",
        "http://ow.ly/DNtyx scraped"
       ]
      },
      {
       "output_type": "stream",
       "stream": "stdout",
       "text": [
        "\n",
        "434 urls scraped\n",
        "http://ow.ly/DNtyv scraped"
       ]
      },
      {
       "output_type": "stream",
       "stream": "stdout",
       "text": [
        "\n",
        "435 urls scraped\n",
        "http://ow.ly/DNtys scraped"
       ]
      },
      {
       "output_type": "stream",
       "stream": "stdout",
       "text": [
        "\n",
        "436 urls scraped\n",
        "http://ow.ly/DNtyn scraped"
       ]
      },
      {
       "output_type": "stream",
       "stream": "stdout",
       "text": [
        "\n",
        "437 urls scraped\n",
        "http://ow.ly/DNtyh scraped"
       ]
      },
      {
       "output_type": "stream",
       "stream": "stdout",
       "text": [
        "\n",
        "438 urls scraped\n",
        "http://ow.ly/DNtyc scraped"
       ]
      },
      {
       "output_type": "stream",
       "stream": "stdout",
       "text": [
        "\n",
        "439 urls scraped\n",
        "http://ow.ly/DNty8 scraped"
       ]
      },
      {
       "output_type": "stream",
       "stream": "stdout",
       "text": [
        "\n",
        "440 urls scraped\n",
        "http://ow.ly/DNty3 scraped"
       ]
      },
      {
       "output_type": "stream",
       "stream": "stdout",
       "text": [
        "\n",
        "441 urls scraped\n",
        "http://ow.ly/DNtxY scraped"
       ]
      },
      {
       "output_type": "stream",
       "stream": "stdout",
       "text": [
        "\n",
        "442 urls scraped\n",
        "http://ow.ly/DNtxU scraped"
       ]
      },
      {
       "output_type": "stream",
       "stream": "stdout",
       "text": [
        "\n",
        "443 urls scraped\n",
        "http://ow.ly/DNtxL scraped"
       ]
      },
      {
       "output_type": "stream",
       "stream": "stdout",
       "text": [
        "\n",
        "444 urls scraped\n",
        "http://bit.ly/1uloPry scraped"
       ]
      },
      {
       "output_type": "stream",
       "stream": "stdout",
       "text": [
        "\n",
        "445 urls scraped\n",
        "http://balkin.blogspot.com/2014/11/like-looking-for-vacuum.html scraped"
       ]
      },
      {
       "output_type": "stream",
       "stream": "stdout",
       "text": [
        "\n",
        "446 urls scraped\n",
        "http://www.washingtonpost.com/blogs/wonkblog/wp/2014/11/04/wonkbook-the-most-aggravating-race-in-the-midterms/ scraped"
       ]
      },
      {
       "output_type": "stream",
       "stream": "stdout",
       "text": [
        "\n",
        "447 urls scraped\n",
        "http://tinyurl.com/pmghavy scraped"
       ]
      },
      {
       "output_type": "stream",
       "stream": "stdout",
       "text": [
        "\n",
        "448 urls scraped\n",
        "http://www.realclearpolitics.com/articles/2014/11/04/voter_fraud_and_voter_id_124553.html#.VFjO4CGtoe0.twitter scraped"
       ]
      },
      {
       "output_type": "stream",
       "stream": "stdout",
       "text": [
        "\n",
        "449 urls scraped\n",
        "http://ow.ly/DNeiJ scraped"
       ]
      },
      {
       "output_type": "stream",
       "stream": "stdout",
       "text": [
        "\n",
        "450 urls scraped\n",
        "http://goo.gl/jua6Wa scraped"
       ]
      },
      {
       "output_type": "stream",
       "stream": "stdout",
       "text": [
        "\n",
        "451 urls scraped\n",
        "https://www.facebook.com/HLBREALTOR/posts/878400718844367 scraped"
       ]
      },
      {
       "output_type": "stream",
       "stream": "stdout",
       "text": [
        "\n",
        "452 urls scraped\n",
        "http://ow.ly/DNei2 scraped"
       ]
      },
      {
       "output_type": "stream",
       "stream": "stdout",
       "text": [
        "\n",
        "453 urls scraped\n",
        "http://ow.ly/DNeiL scraped"
       ]
      },
      {
       "output_type": "stream",
       "stream": "stdout",
       "text": [
        "\n",
        "454 urls scraped\n",
        "http://ow.ly/DNeiw scraped"
       ]
      },
      {
       "output_type": "stream",
       "stream": "stdout",
       "text": [
        "\n",
        "455 urls scraped\n",
        "http://ow.ly/DNeiA scraped"
       ]
      },
      {
       "output_type": "stream",
       "stream": "stdout",
       "text": [
        "\n",
        "456 urls scraped\n",
        "http://ow.ly/DNeib scraped"
       ]
      },
      {
       "output_type": "stream",
       "stream": "stdout",
       "text": [
        "\n",
        "457 urls scraped\n",
        "http://ow.ly/DNeiD scraped"
       ]
      },
      {
       "output_type": "stream",
       "stream": "stdout",
       "text": [
        "\n",
        "458 urls scraped\n",
        "http://ow.ly/DNejn scraped"
       ]
      },
      {
       "output_type": "stream",
       "stream": "stdout",
       "text": [
        "\n",
        "459 urls scraped\n",
        "http://ow.ly/DNej7 scraped"
       ]
      },
      {
       "output_type": "stream",
       "stream": "stdout",
       "text": [
        "\n",
        "460 urls scraped\n",
        "http://ow.ly/DNeie scraped"
       ]
      },
      {
       "output_type": "stream",
       "stream": "stdout",
       "text": [
        "\n",
        "461 urls scraped\n",
        "http://ow.ly/DNeig scraped"
       ]
      },
      {
       "output_type": "stream",
       "stream": "stdout",
       "text": [
        "\n",
        "462 urls scraped\n",
        "http://ow.ly/DNeir scraped"
       ]
      },
      {
       "output_type": "stream",
       "stream": "stdout",
       "text": [
        "\n",
        "463 urls scraped\n",
        "http://ow.ly/DNej4 scraped"
       ]
      },
      {
       "output_type": "stream",
       "stream": "stdout",
       "text": [
        "\n",
        "464 urls scraped\n",
        "http://ow.ly/DNeip scraped"
       ]
      },
      {
       "output_type": "stream",
       "stream": "stdout",
       "text": [
        "\n",
        "465 urls scraped\n",
        "http://ow.ly/DNeiH scraped"
       ]
      },
      {
       "output_type": "stream",
       "stream": "stdout",
       "text": [
        "\n",
        "466 urls scraped\n",
        "http://ow.ly/DNeiP scraped"
       ]
      },
      {
       "output_type": "stream",
       "stream": "stdout",
       "text": [
        "\n",
        "467 urls scraped\n",
        "http://ow.ly/DNeil scraped"
       ]
      },
      {
       "output_type": "stream",
       "stream": "stdout",
       "text": [
        "\n",
        "468 urls scraped\n",
        "http://ow.ly/DNeja scraped"
       ]
      },
      {
       "output_type": "stream",
       "stream": "stdout",
       "text": [
        "\n",
        "469 urls scraped\n",
        "http://ow.ly/DNejf scraped"
       ]
      },
      {
       "output_type": "stream",
       "stream": "stdout",
       "text": [
        "\n",
        "470 urls scraped\n",
        "http://ow.ly/DNeji scraped"
       ]
      },
      {
       "output_type": "stream",
       "stream": "stdout",
       "text": [
        "\n",
        "471 urls scraped\n",
        "http://www.washingtonpost.com/blogs/wonkblog/wp/2014/08/06/a-comprehensive-investigation-of-voter-impersonation-finds-31-credible-incidents-out-of-one-billion-ballots-cast/ scraped"
       ]
      },
      {
       "output_type": "stream",
       "stream": "stdout",
       "text": [
        "\n",
        "472 urls scraped\n",
        "http://dailysign.al/1zRHxKo scraped"
       ]
      },
      {
       "output_type": "stream",
       "stream": "stdout",
       "text": [
        "\n",
        "473 urls scraped\n",
        "http://dailycaller.com/2014/11/03/george-soros-funded-group-monitoring-polling-places-in-16-states/ scraped"
       ]
      },
      {
       "output_type": "stream",
       "stream": "stdout",
       "text": [
        "\n",
        "474 urls scraped\n",
        "http://bit.ly/1tDF1TN scraped"
       ]
      },
      {
       "output_type": "stream",
       "stream": "stdout",
       "text": [
        "\n",
        "475 urls scraped\n",
        "http://bit.ly/ZH5KCv scraped"
       ]
      },
      {
       "output_type": "stream",
       "stream": "stdout",
       "text": [
        "\n",
        "476 urls scraped\n",
        "http://wapo.st/1xAlCSk scraped"
       ]
      },
      {
       "output_type": "stream",
       "stream": "stdout",
       "text": [
        "\n",
        "477 urls scraped\n",
        "http://tl.gd/n_1sdu91g scraped"
       ]
      },
      {
       "output_type": "stream",
       "stream": "stdout",
       "text": [
        "\n",
        "478 urls scraped\n",
        "http://www.realclearpolitics.com/articles/2014/11/04/voter_fraud_and_voter_id_124553.html#.VFjI_dUwDuo.twitter scraped"
       ]
      },
      {
       "output_type": "stream",
       "stream": "stdout",
       "text": [
        "\n",
        "479 urls scraped\n",
        "error scraping"
       ]
      },
      {
       "output_type": "stream",
       "stream": "stdout",
       "text": [
        "\n",
        "Invalid status code\n",
        "http://natl.re/1vCQ5gq scraped"
       ]
      },
      {
       "output_type": "stream",
       "stream": "stdout",
       "text": [
        "\n",
        "480 urls scraped\n",
        "http://conservativetribune.com/caught-on-tape-illegals/ scraped"
       ]
      },
      {
       "output_type": "stream",
       "stream": "stdout",
       "text": [
        "\n",
        "481 urls scraped\n",
        "error scraping"
       ]
      },
      {
       "output_type": "stream",
       "stream": "stdout",
       "text": [
        "\n",
        "Page not text\n",
        "http://wapo.st/1vhOEE5 scraped"
       ]
      },
      {
       "output_type": "stream",
       "stream": "stdout",
       "text": [
        "\n",
        "482 urls scraped\n",
        "http://townhall.com/columnists/ThomasSowell/2014/11/04/voter-fraud-and-voter-id-n1913619 scraped"
       ]
      },
      {
       "output_type": "stream",
       "stream": "stdout",
       "text": [
        "\n",
        "483 urls scraped\n",
        "http://tinyurl.com/md42494 scraped"
       ]
      },
      {
       "output_type": "stream",
       "stream": "stdout",
       "text": [
        "\n",
        "484 urls scraped\n",
        "http://instagram.com/p/u-gzEXRA5j/ scraped"
       ]
      },
      {
       "output_type": "stream",
       "stream": "stdout",
       "text": [
        "\n",
        "485 urls scraped\n",
        "http://www.elections.state.md.us/voting/election_day_questions.html scraped"
       ]
      },
      {
       "output_type": "stream",
       "stream": "stdout",
       "text": [
        "\n",
        "486 urls scraped\n",
        "http://bit.ly/PlzVote2014 scraped"
       ]
      },
      {
       "output_type": "stream",
       "stream": "stdout",
       "text": [
        "\n",
        "487 urls scraped\n",
        "http://ln.is/ning.com/OwuWS scraped"
       ]
      },
      {
       "output_type": "stream",
       "stream": "stdout",
       "text": [
        "\n",
        "488 urls scraped\n",
        "http://trib.al/QSplstH scraped"
       ]
      },
      {
       "output_type": "stream",
       "stream": "stdout",
       "text": [
        "\n",
        "489 urls scraped\n",
        "http://ow.ly/DIbBc scraped"
       ]
      },
      {
       "output_type": "stream",
       "stream": "stdout",
       "text": [
        "\n",
        "490 urls scraped\n",
        "Tweet manifest written"
       ]
      },
      {
       "output_type": "stream",
       "stream": "stdout",
       "text": [
        "\n"
       ]
      }
     ],
     "prompt_number": 4
    }
   ],
   "metadata": {}
  }
 ]
}