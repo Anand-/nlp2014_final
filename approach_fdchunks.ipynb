{
 "metadata": {
  "name": "",
  "signature": "sha256:61bb457511920c696ac1bd66e8884594ab3532ba1f7a03b5b3621f6595179034"
 },
 "nbformat": 3,
 "nbformat_minor": 0,
 "worksheets": [
  {
   "cells": [
    {
     "cell_type": "code",
     "collapsed": false,
     "input": [
      "from os import path\n",
      "import cPickle as pickle\n",
      "\n",
      "import chunking_util\n",
      "import grouping_util\n",
      "import display_util"
     ],
     "language": "python",
     "metadata": {},
     "outputs": [],
     "prompt_number": 1
    },
    {
     "cell_type": "code",
     "collapsed": false,
     "input": [
      "def chunk_approach(data_path, chunk_start=0, chunk_end=100, min_matches=3):\n",
      "    p = open(data_path, 'r')\n",
      "    df=pickle.load(p)\n",
      "    chunk_map=chunking_util.get_best_chunks(df, fd_start=chunk_start, fd_end=chunk_end)\n",
      "    df_overlap=grouping_util.get_overlaps(chunk_map, df)\n",
      "    df['common_chunks']=grouping_util.get_keyphrase_columns(chunk_map, df, make_keyphrase_cols=False)\n",
      "    groups=grouping_util.get_groups(df_overlap, doc_percents=False,set_filters=df.common_chunks, min_matches=min_matches)\n",
      "    \n",
      "    out={\n",
      "            'group_df':grouping_util.get_grouped_df(df_overlap,groups),\n",
      "            'keyphrases':chunk_map\n",
      "        }\n",
      "    \n",
      "    group_data=[]\n",
      "    for g in groups:\n",
      "        g_dict={}\n",
      "        g_set=set(g)\n",
      "        g_dict['keyphrases']=g_set\n",
      "        url_list = []\n",
      "        for url in df[df.common_chunks.apply(lambda r: r>=g_set)].url:\n",
      "            url_list.append(url)\n",
      "        \n",
      "        g_dict['urls']=url_list\n",
      "        \n",
      "        group_data.append(g_dict)\n",
      "    \n",
      "    out['groups']=group_data\n",
      "    \n",
      "    return out"
     ],
     "language": "python",
     "metadata": {},
     "outputs": [],
     "prompt_number": 4
    }
   ],
   "metadata": {}
  }
 ]
}