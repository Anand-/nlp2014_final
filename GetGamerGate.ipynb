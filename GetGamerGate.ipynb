{
 "metadata": {
  "name": "",
  "signature": "sha256:c80a8ad83b7c12b1b93233380828de9d423001d725ecb1e02455d005e562be74"
 },
 "nbformat": 3,
 "nbformat_minor": 0,
 "worksheets": [
  {
   "cells": [
    {
     "cell_type": "code",
     "collapsed": true,
     "input": [
      "from tagscraper import yield_tweets"
     ],
     "language": "python",
     "metadata": {},
     "outputs": [],
     "prompt_number": 1
    },
    {
     "cell_type": "code",
     "collapsed": false,
     "input": [
      "import os\n",
      "from os import path\n",
      "import re\n",
      "import json\n",
      "\n",
      "import requests\n",
      "\n",
      "from tokens import key, secret"
     ],
     "language": "python",
     "metadata": {},
     "outputs": [],
     "prompt_number": 2
    },
    {
     "cell_type": "code",
     "collapsed": false,
     "input": [
      "outdir = path.join(path.curdir, \"data\", \"GamerGate\")"
     ],
     "language": "python",
     "metadata": {},
     "outputs": [],
     "prompt_number": 3
    },
    {
     "cell_type": "code",
     "collapsed": false,
     "input": [
      "def get_manifest(outdir, query, n=100):\n",
      "\n",
      "    if not path.exists(outdir):\n",
      "        #check if path exists and make otherwise\n",
      "        os.makedirs(outdir)\n",
      "\n",
      "    tweets = yield_tweets(query)\n",
      "    tweet_list = []\n",
      "    urls = set()\n",
      "\n",
      "    count = 0\n",
      "\n",
      "    for tweet in tweets:\n",
      "\n",
      "        if len(tweet['full_urls']) > 0:\n",
      "            n_urls = 0\n",
      "            scraped = False\n",
      "            for u in tweet['full_urls']:\n",
      "                if re.findall(r\"youtu\\.be|youture\\.com|soundcloud.com\", u):\n",
      "                    #check if page is likely to have non text media\n",
      "                    continue\n",
      "\n",
      "                if not u in urls:\n",
      "                    print u\n",
      "                    count += 1\n",
      "                    n_urls += 1\n",
      "                    scraped = True\n",
      "                    urls.add(u)\n",
      "\n",
      "\n",
      "            if scraped:\n",
      "                tweet_list.append(tweet)\n",
      "\n",
      "        if count >= n:\n",
      "            break\n",
      "\n",
      "    # create manifest file of tweets\n",
      "    manifest = open(path.join(outdir, \"manifest.json\"), 'w')\n",
      "    manifest.write(json.dumps(tweet_list))\n",
      "    manifest.close()\n",
      "    print \"Tweet manifest written\"\n"
     ],
     "language": "python",
     "metadata": {},
     "outputs": [],
     "prompt_number": 4
    },
    {
     "cell_type": "code",
     "collapsed": false,
     "input": [
      "get_manifest(outdir, \"#GamerGate filter:links lang:en\", n=500)"
     ],
     "language": "python",
     "metadata": {},
     "outputs": [
      {
       "output_type": "stream",
       "stream": "stdout",
       "text": [
        "http://betabeat.com/2014/12/i-was-summoned-by-gamergate-heres-what-i-saw/\n",
        "http://ift.tt/10BbOO3\n",
        "http://gamingjobonlin.com\n",
        "https://au.news.yahoo.com/technology/a/25681376/grand-theft-auto-5-target-kmart-pull-game-off-shelves-over-sexual-violence-controversy/\n",
        "http://www.news.com.au/technology/home-entertainment/gamers-fight-back-against-targets-ridiculous-decision-to-ban-grand-theft-auto-v/story-e6frfrt9-1227144736337"
       ]
      },
      {
       "output_type": "stream",
       "stream": "stdout",
       "text": [
        "\n",
        "http://www.hitbox.tv/synthovine\n",
        "http://blogjob.com/oneangrygamer/2014/12/shes-not-gonna-take-your-games-away-says-jim-sterling-gta-5-gets-banned/"
       ]
      },
      {
       "output_type": "stream",
       "stream": "stdout",
       "text": [
        "\n",
        "https://www.youtube.com/watch?v=ZBR2G-iI3-I"
       ]
      },
      {
       "output_type": "stream",
       "stream": "stdout",
       "text": [
        "\n",
        "https://twitter.com/a_man_in_black/status/540344907877998593\n",
        "https://www.reddit.com/r/KotakuInAction/comments/2o6a74/bgotd_1232014_adadvisor_bluekai_drawbridge_gawker/\n",
        "https://www.aclu.org/free-speech/what-censorship\n",
        "http://digitalcommons.law.scu.edu/cgi/viewcontent.cgi?article=1798&context=historical"
       ]
      },
      {
       "output_type": "stream",
       "stream": "stdout",
       "text": [
        "\n",
        "http://www.foxnews.com/search-results/search?q=gamergate&submit=Search&ss=fn"
       ]
      },
      {
       "output_type": "stream",
       "stream": "stdout",
       "text": [
        "\n",
        "http://archive.today/wKw28"
       ]
      },
      {
       "output_type": "stream",
       "stream": "stdout",
       "text": [
        "\n",
        "http://www.zazzle.com/gamerfruit_mens_pixel_t_shirt_dark-235765417844933806?color=royalblue&size=a_m&context=114075767698756542&hasUserTitle=False&style=basic_tshirt_light&design.areas=%5Bfront_horz%5D&view=113158993915508071&rf=238111564428447808&CMPN=addthis&lang=en\n",
        "https://www.youtube.com/watch?v=TH-pR2zcwUk\n",
        "http://vocaroo.com/i/s17iCJzwcJh8"
       ]
      },
      {
       "output_type": "stream",
       "stream": "stdout",
       "text": [
        "\n",
        "http://vocaroo.com/i/s0J5cgoioWbt\n",
        "https://archive.today/ZZxEe"
       ]
      },
      {
       "output_type": "stream",
       "stream": "stdout",
       "text": [
        "\n",
        "http://tl.gd/n_1siu7ip\n",
        "https://twitter.com/srhbutts/status/540343734077255680\n",
        "https://twitter.com/Spacekatgal/status/539842190957363200"
       ]
      },
      {
       "output_type": "stream",
       "stream": "stdout",
       "text": [
        "\n",
        "https://www.youtube.com/watch?v=ZKbdyETGwP0\n",
        "http://en.wikipedia.org/wiki/United_States_antitrust_law\n",
        "http://wp.me/p4Lhbm-UP\n",
        "http://officialgamergate.booru.org/index.php?page=post&s=list&tags=vivian_james\n",
        "https://www.youtube.com/watch?v=jkAne0dUYu4\n",
        "https://archive.today/wvyOB\n",
        "http://techraptor.net/content/pc-gaming-gift-guide-awesome-peripherals\n",
        "http://pastebin.com/3htNRxW1"
       ]
      },
      {
       "output_type": "stream",
       "stream": "stdout",
       "text": [
        "\n",
        "http://mindlesszombiestudios.com/content/what-does-ethics-gaming-journalism-mean"
       ]
      },
      {
       "output_type": "stream",
       "stream": "stdout",
       "text": [
        "\n",
        "https://i.imgur.com/kZ7YrG0.jpg"
       ]
      },
      {
       "output_type": "stream",
       "stream": "stdout",
       "text": [
        "\n",
        "https://www.youtube.com/watch?v=kHwgaiwlO3A"
       ]
      },
      {
       "output_type": "stream",
       "stream": "stdout",
       "text": [
        "\n",
        "https://www.youtube.com/watch?v=2gOowCOUmTM\n",
        "http://ift.tt/1wvtKXV\n",
        "http://ift.tt/1yPRbJW\n",
        "http://ift.tt/1zmudJz\n",
        "http://thesentinelwire.com/research/"
       ]
      },
      {
       "output_type": "stream",
       "stream": "stdout",
       "text": [
        "\n",
        "http://techraptor.net/content/inside-gamejournopros-interview-william-oneal\n",
        "https://www.youtube.com/watch?v=FgBl7I6bIV8\n",
        "http://ift.tt/1wYtBIM"
       ]
      },
      {
       "output_type": "stream",
       "stream": "stdout",
       "text": [
        "\n",
        "http://ift.tt/1ofTKnc\n",
        "https://storify.com/a_man_in_black/how-chan-style-anonymous-culture-shapes-gamergate\n",
        "http://www.reddit.com/r/KotakuInAction/comments/2o6a74/bgotd_1232014_adadvisor_bluekai_drawbridge_gawker/\n",
        "http://www.reddit.com/r/KotakuInAction/comments/2o2d3i/bgotd_1222014_the_home_depot_rock_paper_shotgun/"
       ]
      },
      {
       "output_type": "stream",
       "stream": "stdout",
       "text": [
        "\n",
        "http://goo.gl/LeLT1x\n",
        "http://www.abc.net.au/news/2014-12-03/target-kmart-pull-grand-theft-auto-5-game-sexual-violence/5939184"
       ]
      },
      {
       "output_type": "stream",
       "stream": "stdout",
       "text": [
        "\n",
        "http://www.geekenstein.com/banned-in-australia/"
       ]
      },
      {
       "output_type": "stream",
       "stream": "stdout",
       "text": [
        "\n",
        "https://www.change.org/p/target-stop-selling-fifty-shades-of-grey-in-all-target-stores?recruiter=8659516&utm_source=share_petition&utm_medium=twitter&utm_campaign=share_twitter_responsive\n",
        "http://bit.ly/1sZYzOb"
       ]
      },
      {
       "output_type": "stream",
       "stream": "stdout",
       "text": [
        "\n",
        "https://www.change.org/p/target-continue-to-sell-grand-theft-auto-5-in-australia/share"
       ]
      },
      {
       "output_type": "stream",
       "stream": "stdout",
       "text": [
        "\n",
        "https://archive.today/XUHRO\n",
        "http://www.yelp.com/biz/gamergate-west-hollywood"
       ]
      },
      {
       "output_type": "stream",
       "stream": "stdout",
       "text": [
        "\n",
        "http://www.littletinyfrogs.com/article/459705/Have_people_lost_their_collective_minds\n",
        "http://billingsgazette.com/business/technology/game-developer-became-enamored-early/article_14cae7b4-28c9-5669-a4b7-2fbf3b314588.html"
       ]
      },
      {
       "output_type": "stream",
       "stream": "stdout",
       "text": [
        "\n",
        "http://abcnews.go.com/Entertainment/wireStory/grand-theft-auto-pulled-australian-retailer-27349058\n",
        "http://www.abc.net.au/news/2014-12-03/target-pulls-grand-theft-auto-5-game-off-shelves-over-sexual-vi/5939184"
       ]
      },
      {
       "output_type": "stream",
       "stream": "stdout",
       "text": [
        "\n",
        "https://www.change.org/p/target-withdraw-grand-theft-auto-5-this-sickening-game-encourages-players-to-commit-sexual-violence-and-kill-women?recruiter=14274630&utm_source=share_petition&utm_medium=twitter&utm_campaign=share_twitter_responsive\n",
        "http://bit.ly/1ynJ3Br"
       ]
      },
      {
       "output_type": "stream",
       "stream": "stdout",
       "text": [
        "\n",
        "https://www.change.org/p/target-continue-to-sell-grand-theft-auto-5-in-australia\n",
        "https://twitter.com/JennOfHardwire/status/539887649818152960"
       ]
      },
      {
       "output_type": "stream",
       "stream": "stdout",
       "text": [
        "\n",
        "https://twitter.com/TheWhaler_/status/539895644425814017\n",
        "http://thegameawards.com/nominees/\n",
        "http://imgur.com/x3AJskV\n",
        "https://www.youtube.com/watch?v=jeXljIb-CJU"
       ]
      },
      {
       "output_type": "stream",
       "stream": "stdout",
       "text": [
        "\n",
        "https://www.youtube.com/watch?v=lbOtyWTRZ_g\n",
        "http://afca.bavaweb.com/mbtjn8.html?group=tw"
       ]
      },
      {
       "output_type": "stream",
       "stream": "stdout",
       "text": [
        "\n",
        "http://bit.ly/1yRuVzl\n",
        "https://archive.today/eg5zF\n",
        "http://www.theguardian.com/technology/2014/dec/04/grand-theft-auto-5-kmart-target-pulling-game-sale\n",
        "https://www.change.org/p/target-put-grand-theft-auto-5-back-on-target-shelves-in-australia"
       ]
      },
      {
       "output_type": "stream",
       "stream": "stdout",
       "text": [
        "\n",
        "http://shetterly.blogspot.com/2013/06/the-first-amendment-protects-private.html\n",
        "https://www.youtube.com/watch?v=nZiIk4TvRbM"
       ]
      },
      {
       "output_type": "stream",
       "stream": "stdout",
       "text": [
        "\n",
        "http://gamergate.me/"
       ]
      },
      {
       "output_type": "stream",
       "stream": "stdout",
       "text": [
        "\n",
        "http://bit.ly/1yaed0f"
       ]
      },
      {
       "output_type": "stream",
       "stream": "stdout",
       "text": [
        "\n",
        "http://wp.me/p5oUEx-4"
       ]
      },
      {
       "output_type": "stream",
       "stream": "stdout",
       "text": [
        "\n",
        "http://bit.ly/1FQkajT\n",
        "http://thndr.it/11OVvNk"
       ]
      },
      {
       "output_type": "stream",
       "stream": "stdout",
       "text": [
        "\n",
        "http://igg.me/p/945877/twtr"
       ]
      },
      {
       "output_type": "stream",
       "stream": "stdout",
       "text": [
        "\n",
        "https://archive.today/lJMOk"
       ]
      },
      {
       "output_type": "stream",
       "stream": "stdout",
       "text": [
        "\n",
        "https://archive.today/Zerq3\n",
        "http://4life4freedom.blogspot.com/2014/12/what-id-rather-see-next-in-mmorpgs.html\n",
        "http://www.abc.net.au/news/2014-12-04/male-lawn-bowls-players-quit-over-move-to-mixed-competitions/5942078"
       ]
      },
      {
       "output_type": "stream",
       "stream": "stdout",
       "text": [
        "\n",
        "http://gamerghazi.newsin.tk/a/e3fc6ea1-72c6-11e4-a440-c37a46c7e49a\n",
        "https://www.youtube.com/watch?v=4dqkba27V7s\n",
        "https://www.kickstarter.com/projects/thimbleweedpark/thimbleweed-park-a-new-classic-point-and-click-adv"
       ]
      },
      {
       "output_type": "stream",
       "stream": "stdout",
       "text": [
        "\n",
        "https://www.change.org/p/australian-government-protect-the-artistic-freedom-of-video-game-developers/"
       ]
      },
      {
       "output_type": "stream",
       "stream": "stdout",
       "text": [
        "\n",
        "http://press.gamergate.me/dossier/\n",
        "http://twodashstash.com/2014/11/opinion-opening-the-gates-and-gamergate/\n",
        "http://www.ruthlessreviews.com/25529/gamergate-culture-war/\n",
        "http://www.cinemablend.com/games/FTC-Updating-Consumer-Info-Regarding-Media-Endorsements-YouTubers-2015-68602.html\n",
        "https://archive.today/SVgeJ\n",
        "https://archive.today/Ak1ed\n",
        "http://Change.org\n",
        "http://tmblr.co/ZKYo6o1X96J6Q"
       ]
      },
      {
       "output_type": "stream",
       "stream": "stdout",
       "text": [
        "\n",
        "http://archive.today/YICbE"
       ]
      },
      {
       "output_type": "stream",
       "stream": "stdout",
       "text": [
        "\n",
        "http://archive.today/5z2ow\n",
        "http://archive.today/mqRQl\n",
        "https://archive.today/qKmir\n",
        "http://blogjob.com/oneangrygamer/2014/12/gamergate-all-buyers-on-desura-will-be-treated-equally-states-desura/\n",
        "http://f-st.co/atAqoog"
       ]
      },
      {
       "output_type": "stream",
       "stream": "stdout",
       "text": [
        "\n",
        "http://bit.ly/1tHqgvn\n",
        "https://archive.today/DiMJo\n",
        "http://gamerghazi.newsin.tk/a/34db7b20-6d83-11e4-b8c4-d1a6aa162218"
       ]
      },
      {
       "output_type": "stream",
       "stream": "stdout",
       "text": [
        "\n",
        "http://i.imgur.com/It2JPy4.jpg"
       ]
      },
      {
       "output_type": "stream",
       "stream": "stdout",
       "text": [
        "\n",
        "http://ift.tt/1w8ol8X"
       ]
      },
      {
       "output_type": "stream",
       "stream": "stdout",
       "text": [
        "\n",
        "https://archive.today/kCwt3#selection-4333.0-4350.0\n",
        "https://archive.today/kCwt3\n",
        "http://goo.gl/EvXM0d\n",
        "http://techraptor.net/content/indie-developer-withholds-steam-keys-members-gamergate"
       ]
      },
      {
       "output_type": "stream",
       "stream": "stdout",
       "text": [
        "\n",
        "http://ask.fm/a/bfihcfmm\n",
        "https://www.youtube.com/watch?v=CCGqUyIc7P0#"
       ]
      },
      {
       "output_type": "stream",
       "stream": "stdout",
       "text": [
        "\n",
        "https://www.youtube.com/watch?v=wSAp991JIVs\n",
        "https://www.crowdrise.com/gamersfordiversity/fundraiser/GamersForDiversity"
       ]
      },
      {
       "output_type": "stream",
       "stream": "stdout",
       "text": [
        "\n",
        "http://thesentinelwire.com/\n",
        "https://www.aclu.org/free-speech/censorship"
       ]
      },
      {
       "output_type": "stream",
       "stream": "stdout",
       "text": [
        "\n",
        "http://bit.ly/1I2kKwY"
       ]
      },
      {
       "output_type": "stream",
       "stream": "stdout",
       "text": [
        "\n",
        "http://wiki.gamergate.me/index.php?title=Gawker#Joel_Johnson_and_Gawker.27s_call_for_.40NYTFridge.27s_doxing\n",
        "http://www.twitlonger.com/show/n_1siu6bj?new_post=true"
       ]
      },
      {
       "output_type": "stream",
       "stream": "stdout",
       "text": [
        "\n",
        "http://kycbygg.bavaweb.com/gnp8.html?group=tw\n",
        "http://ln.is/www.youtube.com/11vfU"
       ]
      },
      {
       "output_type": "stream",
       "stream": "stdout",
       "text": [
        "\n",
        "http://ift.tt/1vP1ahk\n",
        "http://archive.today/kCwt3\n",
        "http://bit.ly/1CagNpE\n",
        "https://www.youtube.com/watch?v=MReV9dkAVhY"
       ]
      },
      {
       "output_type": "stream",
       "stream": "stdout",
       "text": [
        "\n",
        "http://ift.tt/1ynPOTO\n",
        "https://archive.today/j02Bw\n",
        "https://www.youtube.com/watch?v=M5UYSAxiECw"
       ]
      },
      {
       "output_type": "stream",
       "stream": "stdout",
       "text": [
        "\n",
        "https://8chan.co/gamergate/res/13263.html\n",
        "http://www.colliefight.com/fm\n",
        "http://www.cinemablend.com/games/EA-Admits-40-000-Users-Were-Hacked-Whistleblower-Steps-Forward-67256.html\n",
        "http://wo262.deviantart.com/art/Vivian-James-and-v-494905053"
       ]
      },
      {
       "output_type": "stream",
       "stream": "stdout",
       "text": [
        "\n",
        "https://www.youtube.com/watch?v=kKCakYj-dI4"
       ]
      },
      {
       "output_type": "stream",
       "stream": "stdout",
       "text": [
        "\n",
        "https://www.youtube.com/watch?v=E2IDMGEL6-8"
       ]
      },
      {
       "output_type": "stream",
       "stream": "stdout",
       "text": [
        "\n",
        "http://goo.gl/sqNozl"
       ]
      },
      {
       "output_type": "stream",
       "stream": "stdout",
       "text": [
        "\n",
        "http://bit.ly/1I2kMVI\n",
        "http://bit.ly/1yi9YuC\n",
        "https://www.crowdrise.com/20Kin2012/fundraiser/equalitynow"
       ]
      },
      {
       "output_type": "stream",
       "stream": "stdout",
       "text": [
        "\n",
        "http://www.equalitynow.org/agldf\n",
        "https://www.thunderclap.it/projects/19630-gamergate-2015?locale=en\n",
        "https://www.youtube.com/watch?v=Fj5qGFYaP6A\n",
        "http://linustechtips.com/main/topic/262692-game-developers-40892-kickstarter-project-goes-unfinished-donates-remaining-funding-to-feminist-frequency-changes-name/"
       ]
      },
      {
       "output_type": "stream",
       "stream": "stdout",
       "text": [
        "\n",
        "https://archive.today/MjJfJ"
       ]
      },
      {
       "output_type": "stream",
       "stream": "stdout",
       "text": [
        "\n",
        "https://twitter.com/radicalbytes/status/540362218395561984"
       ]
      },
      {
       "output_type": "stream",
       "stream": "stdout",
       "text": [
        "\n",
        "https://www.youtube.com/watch?v=Jwup4ItqyNQ\n",
        "http://actionptstext.blogspot.com/p/thanksgaming.html\n",
        "https://twitter.com/draginol/status/540193307172028416\n",
        "http://www.twitch.tv/evilagram"
       ]
      },
      {
       "output_type": "stream",
       "stream": "stdout",
       "text": [
        "\n",
        "https://8chan.co/gamergate/res/17684.html\n",
        "http://bit.ly/1I2imX6"
       ]
      },
      {
       "output_type": "stream",
       "stream": "stdout",
       "text": [
        "\n",
        "http://www.fastcodesign.com/3039212/after-gamergate-theresa-duncans-early-feminist-videogames-set-to-relaunch"
       ]
      },
      {
       "output_type": "stream",
       "stream": "stdout",
       "text": [
        "\n",
        "http://bit.ly/1tHfDsm"
       ]
      },
      {
       "output_type": "stream",
       "stream": "stdout",
       "text": [
        "\n",
        "http://www.reddit.com/r/GamerGhazi/comments/2o44w1/i_dont_even_know_what_to_make_of_this/\n",
        "https://archive.today/bk81e\n",
        "http://ift.tt/1yReV0i"
       ]
      },
      {
       "output_type": "stream",
       "stream": "stdout",
       "text": [
        "\n",
        "http://tl.gd/n_1siu6bj"
       ]
      },
      {
       "output_type": "stream",
       "stream": "stdout",
       "text": [
        "\n",
        "http://bit.ly/1tHfBke\n",
        "http://apgnation.com/archives/2014/12/03/10815/open-letter-audience\n",
        "http://www.rawstory.com/rs/2014/12/zoe-quinn-speaks-out-all-gamergate-has-done-is-ruin-peoples-lives/#.VH_lfAHeV3c.twitter\n",
        "http://cnb.bavaweb.com/vp8.html?group=tw\n",
        "https://archive.today/jzIMf"
       ]
      },
      {
       "output_type": "stream",
       "stream": "stdout",
       "text": [
        "\n",
        "https://archive.today/ua4oS"
       ]
      },
      {
       "output_type": "stream",
       "stream": "stdout",
       "text": [
        "\n",
        "http://www.reddit.com/r/KotakuInAction/comments/2nz204/important_ftc_update_4_ftc_confirms_that_yes/\n",
        "https://twitter.com/LionUCS/status/539621557102866432"
       ]
      },
      {
       "output_type": "stream",
       "stream": "stdout",
       "text": [
        "\n",
        "http://bit.ly/12x82qa"
       ]
      },
      {
       "output_type": "stream",
       "stream": "stdout",
       "text": [
        "\n",
        "http://bit.ly/1yR4h9Q\n",
        "http://bit.ly/12x829B\n",
        "http://tl.gd/n_1siu67f\n",
        "https://www.youtube.com/watch?v=ElOEwtx7wjA"
       ]
      },
      {
       "output_type": "stream",
       "stream": "stdout",
       "text": [
        "\n",
        "https://www.youtube.com/watch?v=hnbQsfgk5Rk\n",
        "http://www.theguardian.com/technology/2014/dec/03/zoe-quinn-gamergate-interview"
       ]
      },
      {
       "output_type": "stream",
       "stream": "stdout",
       "text": [
        "\n",
        "http://www.forbes.com/sites/erikkain/2014/12/03/target-bans-grand-theft-auto-v-sales-in-australia/\n",
        "http://bit.ly/11UdFgV"
       ]
      },
      {
       "output_type": "stream",
       "stream": "stdout",
       "text": [
        "\n",
        "https://www.change.org/p/target-let-s-get-gta-v-back-on-shelves\n",
        "http://gu.com/p/43n7v/tw"
       ]
      },
      {
       "output_type": "stream",
       "stream": "stdout",
       "text": [
        "\n",
        "http://kotaku.com/grand-theft-auto-taught-me-to-drive-503781868\n",
        "http://goo.gl/HLGCxp\n",
        "http://f24.my/1CHfoqJ"
       ]
      },
      {
       "output_type": "stream",
       "stream": "stdout",
       "text": [
        "\n",
        "http://grooveshark.com/#!/s/Game+Theory/234ral?src=5"
       ]
      },
      {
       "output_type": "stream",
       "stream": "stdout",
       "text": [
        "\n",
        "https://archive.today/Q7YbZ"
       ]
      },
      {
       "output_type": "stream",
       "stream": "stdout",
       "text": [
        "\n",
        "https://www.youtube.com/watch?v=qjnOyFEQdys"
       ]
      },
      {
       "output_type": "stream",
       "stream": "stdout",
       "text": [
        "\n",
        "http://twitter.com/dsgaudin/status/540360769901035520/photo/1"
       ]
      },
      {
       "output_type": "stream",
       "stream": "stdout",
       "text": [
        "\n",
        "http://betabeat.com/?p=114701\n",
        "https://www.youtube.com/watch?v=VXL83CUksTw"
       ]
      },
      {
       "output_type": "stream",
       "stream": "stdout",
       "text": [
        "\n",
        "http://strawpoll.me/3119439"
       ]
      },
      {
       "output_type": "stream",
       "stream": "stdout",
       "text": [
        "\n",
        "https://archive.today/5yDw7"
       ]
      },
      {
       "output_type": "stream",
       "stream": "stdout",
       "text": [
        "\n",
        "https://archive.today/mY9Ey\n",
        "https://twitter.com/the_moviebob/status/540268909367394304"
       ]
      },
      {
       "output_type": "stream",
       "stream": "stdout",
       "text": [
        "\n",
        "http://www.urbandictionary.com/define.php?term=Full+McIntosh\n",
        "http://acko.net/blog/storms-and-teacups/\n",
        "http://apne.ws/1ygZpwX\n",
        "https://archive.today/oWz0J"
       ]
      },
      {
       "output_type": "stream",
       "stream": "stdout",
       "text": [
        "\n",
        "http://www.gamnesia.com/news/tim-schafer-adam-sessler-and-other-industry-leaders-record-a-video-for-femi"
       ]
      },
      {
       "output_type": "stream",
       "stream": "stdout",
       "text": [
        "\n",
        "https://archive.today/StfjK"
       ]
      },
      {
       "output_type": "stream",
       "stream": "stdout",
       "text": [
        "\n",
        "https://www.justgiving.com/GGcharity\n",
        "http://en.wikipedia.org/wiki/Corporate_censorship\n",
        "http://www.chron.com/entertainment/article/Female-video-game-developer-provides-a-new-1580998.php"
       ]
      },
      {
       "output_type": "stream",
       "stream": "stdout",
       "text": [
        "\n",
        "http://en.wikipedia.org/wiki/Golden_Shield_Project"
       ]
      },
      {
       "output_type": "stream",
       "stream": "stdout",
       "text": [
        "\n",
        "https://www.youtube.com/watch?v=JCSZ0gUfbMg"
       ]
      },
      {
       "output_type": "stream",
       "stream": "stdout",
       "text": [
        "\n",
        "https://archive.today/HskEX"
       ]
      },
      {
       "output_type": "stream",
       "stream": "stdout",
       "text": [
        "\n",
        "http://ow.ly/FkC9a"
       ]
      },
      {
       "output_type": "stream",
       "stream": "stdout",
       "text": [
        "\n",
        "http://satorukimukobayashi.tumblr.com/post/104300860738/on-another-note\n",
        "http://bit.ly/1yR4hq8"
       ]
      },
      {
       "output_type": "stream",
       "stream": "stdout",
       "text": [
        "\n",
        "http://bit.ly/1yR4h9M\n",
        "http://imgur.com/99VOArQ"
       ]
      },
      {
       "output_type": "stream",
       "stream": "stdout",
       "text": [
        "\n",
        "https://www.change.org/p/australian-government-protect-the-artistic-freedom-of-video-game-developers\n",
        "http://en.wikipedia.org/wiki/Censorship"
       ]
      },
      {
       "output_type": "stream",
       "stream": "stdout",
       "text": [
        "\n",
        "http://www.fastcompany.com/3038861/my-creative-life/how-t\n",
        "http://betabeat.com/2014/12/i-was-summoned-by-gamergate-heres-what-i-saw/#ixzz3Ktne5djA\n",
        "https://archive.today/xazDk"
       ]
      },
      {
       "output_type": "stream",
       "stream": "stdout",
       "text": [
        "\n",
        "https://www.change.org/p/target-don-t-withdraw-grand-theft-auto-5-this-already-year-old-game-encourages-players-to-commit-equal-opportunity-violence/sponsors/new\n",
        "https://twitter.com/Desura/status/539841549379440640"
       ]
      },
      {
       "output_type": "stream",
       "stream": "stdout",
       "text": [
        "\n",
        "http://i3.kym-cdn.com/photos/images/original/000/874/482/b8c.png\n",
        "http://www.visualstudio.com/en-us/news/vs2013-community-vs.aspx\n",
        "http://www.blender.org/\n",
        "http://www.gimp.org/downloads/\n",
        "http://techraptor.net/content/kmart-follows-target-removing-gta-v-sale"
       ]
      },
      {
       "output_type": "stream",
       "stream": "stdout",
       "text": [
        "\n",
        "http://ift.tt/1zSVkfu\n",
        "https://www.change.org/p/target-don-t-withdraw-grand-theft-auto-5-this-already-year-old-game-encourages-players-to-commit-equal-opportunity-violence"
       ]
      },
      {
       "output_type": "stream",
       "stream": "stdout",
       "text": [
        "\n",
        "http://topsy.com/analytics?q1=%23GamerGate&q2=%23notyourshield&period=3%20month\n",
        "http://www.christcenteredgamer.com"
       ]
      },
      {
       "output_type": "stream",
       "stream": "stdout",
       "text": [
        "\n",
        "http://bit.ly/1E6RoJ2\n",
        "https://archive.today/ko5OZ"
       ]
      },
      {
       "output_type": "stream",
       "stream": "stdout",
       "text": [
        "\n",
        "http://ln.is/betabeat.com/oCxfM\n",
        "https://www.change.org/p/twitter-forcibly-change-fyrasec-s-avatar-to-furdachi-permanently?just_created=true\n",
        "https://www.youtube.com/watch?v=tjgbT9PgSYA"
       ]
      },
      {
       "output_type": "stream",
       "stream": "stdout",
       "text": [
        "\n",
        "http://www.reddit.com/r/GamerGhazi/comments/2o5k7z/i_outed_a_couple_of_gators_in_an_rgames_thread/\n",
        "https://archive.today/Rhq9x"
       ]
      },
      {
       "output_type": "stream",
       "stream": "stdout",
       "text": [
        "\n",
        "http://bit.ly/1FOvYS2"
       ]
      },
      {
       "output_type": "stream",
       "stream": "stdout",
       "text": [
        "\n",
        "http://bit.ly/1yhk2cf\n",
        "http://www.fastcompany.com/3038861/my-creative-life/how-todays-toddler-and-tween-video-games-could-create-a-future-without-game?utm_source=mailchimp&utm_medium=email&utm_campaign=fast-company-daily-newsletter-b&position=4&partner=newsletter&campaign_date=11242014"
       ]
      },
      {
       "output_type": "stream",
       "stream": "stdout",
       "text": [
        "\n",
        "https://twitter.com/radicalbytes/status/540339671448825857"
       ]
      },
      {
       "output_type": "stream",
       "stream": "stdout",
       "text": [
        "\n",
        "http://bit.ly/1yhVSJN"
       ]
      },
      {
       "output_type": "stream",
       "stream": "stdout",
       "text": [
        "\n",
        "https://twitter.com/FeelMyHeel1/status/539208339386007553"
       ]
      },
      {
       "output_type": "stream",
       "stream": "stdout",
       "text": [
        "\n",
        "https://www.youtube.com/watch?v=AGp1h3b-VKw"
       ]
      },
      {
       "output_type": "stream",
       "stream": "stdout",
       "text": [
        "\n",
        "https://www.youtube.com/watch?v=ZVUyyHYkBHk"
       ]
      },
      {
       "output_type": "stream",
       "stream": "stdout",
       "text": [
        "\n",
        "http://bit.ly/1AgtOJw"
       ]
      },
      {
       "output_type": "stream",
       "stream": "stdout",
       "text": [
        "\n",
        "https://www.youtube.com/watch?v=U-otAJrtY-w\n",
        "https://archive.today/Xdlrz"
       ]
      },
      {
       "output_type": "stream",
       "stream": "stdout",
       "text": [
        "\n",
        "http://bit.ly/1BdkMjM"
       ]
      },
      {
       "output_type": "stream",
       "stream": "stdout",
       "text": [
        "\n",
        "http://www.justgiving.com/GGcharity/?utm_source=Twitter&utm_medium=fundraisingpage&utm_content=GGcharity&utm_campaign=pfp-tweet"
       ]
      },
      {
       "output_type": "stream",
       "stream": "stdout",
       "text": [
        "\n",
        "http://gamergate.trendolizer.com/2014/12/target-kmart-pull-sexually-violent-video-game-off-shelves.html"
       ]
      },
      {
       "output_type": "stream",
       "stream": "stdout",
       "text": [
        "\n",
        "http://tmblr.co/Zts6Ry1X85dbi"
       ]
      },
      {
       "output_type": "stream",
       "stream": "stdout",
       "text": [
        "\n",
        "http://gu.com/p/43n7v/stw\n",
        "http://kotakuinaction.newsin.tk/a/9d7abec0-6b8f-11e4-b70f-5f0b18b20376"
       ]
      },
      {
       "output_type": "stream",
       "stream": "stdout",
       "text": [
        "\n",
        "http://tinyurl.com/l7teee3\n",
        "http://bit.ly/1yhk43P\n",
        "http://bit.ly/1yhk3Np"
       ]
      },
      {
       "output_type": "stream",
       "stream": "stdout",
       "text": [
        "\n",
        "http://bit.ly/1FOvZ8k\n",
        "http://bit.ly/1FOvXgN\n",
        "http://bit.ly/1rU20Lu"
       ]
      },
      {
       "output_type": "stream",
       "stream": "stdout",
       "text": [
        "\n",
        "https://twitter.com/tapobu/status/54035196911461171\n",
        "https://www.change.org/p/target-withdraw-grand-theft-auto-5-this-sickening-game-encourages-players-to-commit-sexual-violence-and-kill-women"
       ]
      },
      {
       "output_type": "stream",
       "stream": "stdout",
       "text": [
        "\n",
        "https://www.indiegogo.com/projects/code-here\n",
        "https://www.change.org/p/target-target-australia-must-remove-all-super-mario-bros-games-from-sale/share?just_signed=true"
       ]
      },
      {
       "output_type": "stream",
       "stream": "stdout",
       "text": [
        "\n",
        "https://www.youtube.com/watch?v=9MxqSwzFy5w"
       ]
      },
      {
       "output_type": "stream",
       "stream": "stdout",
       "text": [
        "\n",
        "https://www.thunderclap.it/projects/19630-gamergate-2015\n",
        "http://tmblr.co/ZdZ8At1X8k1eD"
       ]
      },
      {
       "output_type": "stream",
       "stream": "stdout",
       "text": [
        "\n",
        "http://8chan.co/gamergate\n",
        "https://www.youtube.com/watch?v=sQhWEOaQ-Fg"
       ]
      },
      {
       "output_type": "stream",
       "stream": "stdout",
       "text": [
        "\n",
        "https://storify.com/Darth_Nikon/milo-yiannopoulos-pet-sociopath-edition"
       ]
      },
      {
       "output_type": "stream",
       "stream": "stdout",
       "text": [
        "\n",
        "http://i.imgur.com/kZ7YrG0.jpg"
       ]
      },
      {
       "output_type": "stream",
       "stream": "stdout",
       "text": [
        "\n",
        "https://www.youtube.com/watch?v=bduzUGJ4IgY"
       ]
      },
      {
       "output_type": "stream",
       "stream": "stdout",
       "text": [
        "\n",
        "https://medium.com/@zoequinnzel/lets-talk-about-ethics-in-games-journalism-6a2fd89069ae\n",
        "http://www.ricedigital.co.uk/waifu-wars-winner/\n",
        "http://www.huffingtonpost.com/lina-esco/free-the-nipple_b_4415859.html"
       ]
      },
      {
       "output_type": "stream",
       "stream": "stdout",
       "text": [
        "\n",
        "https://www.youtube.com/watch?v=mM_KYB_-zz8\n",
        "http://bit.ly/1B7XmMR\n",
        "http://ift.tt/1vO2F0A"
       ]
      },
      {
       "output_type": "stream",
       "stream": "stdout",
       "text": [
        "\n",
        "http://i.imgur.com/dvirYja.png\n",
        "http://www.ign.com/articles/2014/12/04/kmart-is-also-pulling-gta-5-off-shelves-in-australia"
       ]
      },
      {
       "output_type": "stream",
       "stream": "stdout",
       "text": [
        "\n",
        "http://gamergate.trendolizer.com/2014/12/grand-theft-auto-5-kmart-joins-target-in-pulling-game-from-sale.html"
       ]
      },
      {
       "output_type": "stream",
       "stream": "stdout",
       "text": [
        "\n",
        "http://gamergate.trendolizer.com/2014/12/australia-just-took-a-radical-stand-against-misogynistic-video-games.html\n",
        "http://community.surpriseattackgames.com/particulars\n",
        "https://archive.today/GxTpD\n",
        "http://a.pomf.se/finrto.webm"
       ]
      },
      {
       "output_type": "stream",
       "stream": "stdout",
       "text": [
        "\n",
        "http://bit.ly/1FQkcbI\n",
        "http://bit.ly/1rU1Xzq\n",
        "http://bit.ly/1FQkcbs\n",
        "http://kotakuinaction.newsin.tk/a/18795030-6dd6-11e4-89a6-3dd1b9f066d8"
       ]
      },
      {
       "output_type": "stream",
       "stream": "stdout",
       "text": [
        "\n",
        "http://goo.gl/nR7NYV\n",
        "https://archive.today/ArmW3\n",
        "https://archive.today/buM5H\n",
        "http://store.steampowered.com/app/259470/"
       ]
      },
      {
       "output_type": "stream",
       "stream": "stdout",
       "text": [
        "\n",
        "https://www.youtube.com/watch?v=u-8kmPJKGgM"
       ]
      },
      {
       "output_type": "stream",
       "stream": "stdout",
       "text": [
        "\n",
        "http://ln.is/www.theguardian.com/7m5Ka"
       ]
      },
      {
       "output_type": "stream",
       "stream": "stdout",
       "text": [
        "\n",
        "http://www.justgiving.com/GGcharity?utm_source=twitter&utm_medium=socspondesktop&utm_content=GGcharity&utm_campaign=post-sponsorship-donation-desktop\n",
        "http://tl.gd/n_1sit7n6"
       ]
      },
      {
       "output_type": "stream",
       "stream": "stdout",
       "text": [
        "\n",
        "https://twitter.com/tapobu/status/540296139208019969\n",
        "http://huff.to/1vGzsEE\n",
        "http://www.change.org/p/target-continue-to-sell-grand-theft-auto-5-in-australia?recruiter=61761915&utm_campaign=twitter_link_action_box&utm_medium=twitter&utm_source=share_petition"
       ]
      },
      {
       "output_type": "stream",
       "stream": "stdout",
       "text": [
        "\n",
        "http://twitter.com/Targetaus/status/540075306535497728\n",
        "http://bit.ly/1vhWbC3"
       ]
      },
      {
       "output_type": "stream",
       "stream": "stdout",
       "text": [
        "\n",
        "http://fb.me/77Ekimil7"
       ]
      },
      {
       "output_type": "stream",
       "stream": "stdout",
       "text": [
        "\n",
        "http://tl.gd/n_1siu4s7\n",
        "http://gamerghazi.newsin.tk/a/76ab1c60-79e3-11e4-9a05-65cd26885ffe\n",
        "http://www.tomshardware.com/picturestory/382-9-the-50-greatest-female-characters-in-the-history-of-video-games.html"
       ]
      },
      {
       "output_type": "stream",
       "stream": "stdout",
       "text": [
        "\n",
        "http://www.theguardian.com/technology/2014/dec/03/zoe-quinn-gamergate-interview?CMP=twt_gu\n",
        "http://kotaku.com/another-stupid-australian-retailer-has-pulled-gta-v-1666495453"
       ]
      },
      {
       "output_type": "stream",
       "stream": "stdout",
       "text": [
        "\n",
        "http://goo.gl/d2YxmK"
       ]
      },
      {
       "output_type": "stream",
       "stream": "stdout",
       "text": [
        "\n",
        "http://www.reddit.com/r/KotakuInAction/comments/2n3ykp/email_received_from_igda/\n",
        "http://v.gd/ivmTvu"
       ]
      },
      {
       "output_type": "stream",
       "stream": "stdout",
       "text": [
        "\n",
        "http://bit.ly/11WMySp"
       ]
      },
      {
       "output_type": "stream",
       "stream": "stdout",
       "text": [
        "\n",
        "http://twitter.com/ZURATAMA1324/status/540345924162027520/photo/1\n",
        "https://archive.today/EJHOi\n",
        "https://www.youtube.com/watch?v=tzwGIHUCtjU\n",
        "https://www.youtube.com/watch?v=y3nYFSRIop4"
       ]
      },
      {
       "output_type": "stream",
       "stream": "stdout",
       "text": [
        "\n",
        "http://www.vulture.com/2014/11/chris-rock-frank-rich-in-conversation.html"
       ]
      },
      {
       "output_type": "stream",
       "stream": "stdout",
       "text": [
        "\n",
        "http://en.wikipedia.org/wiki/Philistinism\n",
        "https://twitter.com/fartchives/status/540218251121524736"
       ]
      },
      {
       "output_type": "stream",
       "stream": "stdout",
       "text": [
        "\n",
        "http://bit.ly/1yhVSJC"
       ]
      },
      {
       "output_type": "stream",
       "stream": "stdout",
       "text": [
        "\n",
        "https://www.youtube.com/watch?v=8HgGYzHRBbc\n",
        "http://topsy.com/analytics?q1=%23gamergate&q2=%23gamergate%20-%40TheQuinnspiracy%20-%40femfreq%20-%40freebsdgirl%20-%40Spacekatgal&via=Topsy"
       ]
      },
      {
       "output_type": "stream",
       "stream": "stdout",
       "text": [
        "\n",
        "http://mindlesszombiestudios.com/content/my-rant-about-feminism-today\n",
        "http://theralphretort.com/new-york-times-continues-prove-best-days-long-gone/\n",
        "https://www.youtube.com/watch?v=vEpuTTC_qOM"
       ]
      },
      {
       "output_type": "stream",
       "stream": "stdout",
       "text": [
        "\n",
        "https://www.reddit.com/r/GamerGhazi/comments/2o7nku/whats_the_best_progressive_gaming_subreddit_to/cmkhztc\n",
        "https://np.reddit.com/r/HailCorporate/comments/2o659u/shout_out_to_rkotakuinaction_a_sub_that_shares/"
       ]
      },
      {
       "output_type": "stream",
       "stream": "stdout",
       "text": [
        "\n",
        "http://nichegamer.net/2014/12/xbro-interview-igda-gamergate-blacklist-edition/"
       ]
      },
      {
       "output_type": "stream",
       "stream": "stdout",
       "text": [
        "\n",
        "http://www.reddit.com/r/Games/comments/2o5404/gta_v_removed_from_target_stores_in_australia/"
       ]
      },
      {
       "output_type": "stream",
       "stream": "stdout",
       "text": [
        "\n",
        "http://attackongaming.com/gaming-talk/stardock-ceo-brad-wardell-once-again-targeted-by-gaming-media/"
       ]
      },
      {
       "output_type": "stream",
       "stream": "stdout",
       "text": [
        "\n",
        "http://ift.tt/1tGS9Uj\n",
        "http://www.reddit.com/r/KotakuInAction/comments/2o7yhm/today_in_rgames/"
       ]
      },
      {
       "output_type": "stream",
       "stream": "stdout",
       "text": [
        "\n",
        "http://www.theguardian.com/technology/2014/dec/03/australian-store-bans-grand-theft-auto-5-violence-against-women"
       ]
      },
      {
       "output_type": "stream",
       "stream": "stdout",
       "text": [
        "\n",
        "http://tl.gd/n_1siu462"
       ]
      },
      {
       "output_type": "stream",
       "stream": "stdout",
       "text": [
        "\n",
        "http://bit.ly/1FOqnuM\n",
        "http://bit.ly/1FOqlDh\n",
        "https://archive.today/PxX7c"
       ]
      },
      {
       "output_type": "stream",
       "stream": "stdout",
       "text": [
        "\n",
        "http://ln.is/www.abc.net.au/news/8F2dM\n",
        "https://www.change.org/p/target-stop-the-censorship-of-videogames-due-to-misrepresentation"
       ]
      },
      {
       "output_type": "stream",
       "stream": "stdout",
       "text": [
        "\n",
        "http://www.reddit.com/r/KotakuInAction/comments/2nyp2b/bgotd_1212014_samsung_rock_paper_shotgun/"
       ]
      },
      {
       "output_type": "stream",
       "stream": "stdout",
       "text": [
        "\n",
        "http://qqsm.bavaweb.com/pjvi8.html?group=tw"
       ]
      },
      {
       "output_type": "stream",
       "stream": "stdout",
       "text": [
        "\n",
        "https://www.youtube.com/watch?v=tjgbT9PgSYA&list=UUfcz4Adua63Yf2X11yUUf6A\n",
        "http://tinyurl.com/ooxms6u\n",
        "http://bit.ly/12wNe1L"
       ]
      },
      {
       "output_type": "stream",
       "stream": "stdout",
       "text": [
        "\n",
        "http://blogjob.com/oneangrygamer/2014/11/gamergate-your-check-from-a-publisher-is-in-the-mail-states-gjp-thread/"
       ]
      },
      {
       "output_type": "stream",
       "stream": "stdout",
       "text": [
        "\n",
        "http://cskox.bavaweb.com/dknkrn8.html?group=tw\n",
        "https://twitter.com/radicalbytes/status/540336813148106753\n",
        "https://twitter.com/action_pts/status/540336735515721728"
       ]
      },
      {
       "output_type": "stream",
       "stream": "stdout",
       "text": [
        "\n",
        "http://ift.tt/1vOOLtM\n",
        "http://ift.tt/1yniITT\n",
        "http://fb.me/3y8tLMKQX"
       ]
      },
      {
       "output_type": "stream",
       "stream": "stdout",
       "text": [
        "\n",
        "https://twitter.com/battlefieldtrip/status/540316218066862081\n",
        "https://www.reddit.com/r/KotakuInAction/comments/2o5wr2/microsoft_are_over_60_days_late_with_q3_payments/\n",
        "http://www.reddit.com/r/KotakuInAction/comments/2o6e3i/way_to_many_people_talking_abut_sjwautoblocker_on/"
       ]
      },
      {
       "output_type": "stream",
       "stream": "stdout",
       "text": [
        "\n",
        "http://ift.tt/1yniLiz\n",
        "http://bit.ly/1zSFHEL"
       ]
      },
      {
       "output_type": "stream",
       "stream": "stdout",
       "text": [
        "\n",
        "http://bit.ly/12wNdLm\n",
        "http://bit.ly/12wNduT\n",
        "http://twitter.com/KissyKaede/status/540335609689407489/photo/1"
       ]
      },
      {
       "output_type": "stream",
       "stream": "stdout",
       "text": [
        "\n",
        "http://gamerghazi.newsin.tk/a/d580f1d0-7b5d-11e4-acf9-210860dbcd62\n",
        "http://gamergate.trendolizer.com/2014/12/behold-the-20th-anniversary-edition-playstation-4.html"
       ]
      },
      {
       "output_type": "stream",
       "stream": "stdout",
       "text": [
        "\n",
        "http://twitter.com/fortunatelyacat/status/540338056490807297/photo/1\n",
        "http://www.geekyfreaky.com/2014/11/08/youre-not-making-feminism-better-youre-making-nerd-culture-worse/"
       ]
      },
      {
       "output_type": "stream",
       "stream": "stdout",
       "text": [
        "\n",
        "http://twitter.com/TheRealJackBoss/status/540337642080980993/photo/1"
       ]
      },
      {
       "output_type": "stream",
       "stream": "stdout",
       "text": [
        "\n",
        "http://kotaku.com/behold-the-20th-anniversary-edition-playstation-4-1666061818"
       ]
      },
      {
       "output_type": "stream",
       "stream": "stdout",
       "text": [
        "\n",
        "http://innuendostudios.tumblr.com/post/104288647532/why-the-escapist-wont-talk-about-gamergate"
       ]
      },
      {
       "output_type": "stream",
       "stream": "stdout",
       "text": [
        "\n",
        "http://pastebin.com/EaaBFuiQ\n",
        "https://archive.today/9DBSV"
       ]
      },
      {
       "output_type": "stream",
       "stream": "stdout",
       "text": [
        "\n",
        "https://archive.today/B6cf0\n",
        "http://blogjob.com/oneangrygamer/2014/12/indie-dev-reneges-on-plan-to-withhold-steam-keys-from-gamergate-supporters/"
       ]
      },
      {
       "output_type": "stream",
       "stream": "stdout",
       "text": [
        "\n",
        "http://po.st/O1OYJB\n",
        "https://archive.today/QR3ei"
       ]
      },
      {
       "output_type": "stream",
       "stream": "stdout",
       "text": [
        "\n",
        "https://archive.today/rncCz\n",
        "https://www.youtube.com/watch?v=DO8_0Herftk\n",
        "http://pastebin.com/aHEVuLMd"
       ]
      },
      {
       "output_type": "stream",
       "stream": "stdout",
       "text": [
        "\n",
        "http://bit.ly/1yhVT09"
       ]
      },
      {
       "output_type": "stream",
       "stream": "stdout",
       "text": [
        "\n",
        "http://bit.ly/1I1W6wC"
       ]
      },
      {
       "output_type": "stream",
       "stream": "stdout",
       "text": [
        "\n",
        "http://www.rawstory.com/rs/2014/12/zoe-quinn-speaks-out-all-gamergate-has-done-is-ruin-peoples-lives/\n",
        "http://another-castle.com/forums/forum/gaming/news/15597-target-removes-gta-v-from-shelves-due-to-a-petition"
       ]
      },
      {
       "output_type": "stream",
       "stream": "stdout",
       "text": [
        "\n",
        "http://topsy.com/analytics?q1=%23gamergate&q2=%23gamergate%20-%40barryallen%20-%40shugknight%20-%40rainbows%20-%40moonbeams&via=Topsy\n",
        "http://twitter.com/Isane_14/status/540333991103307777/photo/1"
       ]
      },
      {
       "output_type": "stream",
       "stream": "stdout",
       "text": [
        "\n",
        "http://qprpgc.bavaweb.com/up8.html?group=tw\n",
        "http://ift.tt/1Bff9BH"
       ]
      },
      {
       "output_type": "stream",
       "stream": "stdout",
       "text": [
        "\n",
        "http://kotakuinaction.newsin.tk/a/3bf78b60-7a62-11e4-9e31-018c6d89471f\n",
        "https://archive.today/Ngprp"
       ]
      },
      {
       "output_type": "stream",
       "stream": "stdout",
       "text": [
        "\n",
        "http://www.quinnspiracy.com/526-2/"
       ]
      },
      {
       "output_type": "stream",
       "stream": "stdout",
       "text": [
        "\n",
        "http://boingboing.net/2014/12/02/25-invisible-benefits-of-gamin.html"
       ]
      },
      {
       "output_type": "stream",
       "stream": "stdout",
       "text": [
        "\n",
        "https://permrec.com/free100"
       ]
      },
      {
       "output_type": "stream",
       "stream": "stdout",
       "text": [
        "\n",
        "http://dlvr.it/7jtLXM"
       ]
      },
      {
       "output_type": "stream",
       "stream": "stdout",
       "text": [
        "\n",
        "http://gamerghazi.newsin.tk/a/d5474430-7b5d-11e4-acf9-210860dbcd62"
       ]
      },
      {
       "output_type": "stream",
       "stream": "stdout",
       "text": [
        "\n",
        "https://medium.com/@cainejw/a-welcoming-response-on-quinns-joining-of-gamergate-4fb20f7c7e91\n",
        "http://fb.me/1r8VQ9Tx6"
       ]
      },
      {
       "output_type": "stream",
       "stream": "stdout",
       "text": [
        "\n",
        "https://www.youtube.com/watch?v=7hlRUDCj-XY"
       ]
      },
      {
       "output_type": "stream",
       "stream": "stdout",
       "text": [
        "\n",
        "https://www.youtube.com/watch?v=dD-zQKvnl04"
       ]
      },
      {
       "output_type": "stream",
       "stream": "stdout",
       "text": [
        "\n",
        "http://steamcommunity.com/groups/GamerGaters"
       ]
      },
      {
       "output_type": "stream",
       "stream": "stdout",
       "text": [
        "\n",
        "https://www.youtube.com/watch?v=kHwgaiwlO3A&list=UUkop4F44-FV6N92-PNAYzxA"
       ]
      },
      {
       "output_type": "stream",
       "stream": "stdout",
       "text": [
        "\n",
        "http://www.reaxxion.com/2572/could-the-new-star-wars-film-provoke-a-gamergate-style-reaction"
       ]
      },
      {
       "output_type": "stream",
       "stream": "stdout",
       "text": [
        "\n",
        "http://startbutton.net"
       ]
      },
      {
       "output_type": "stream",
       "stream": "stdout",
       "text": [
        "\n",
        "http://drybones.me/blog/?p=28\n",
        "http://knowyourmeme.com/photos/841842-gamergate\n",
        "http://tl.gd/n_1siu3nn"
       ]
      },
      {
       "output_type": "stream",
       "stream": "stdout",
       "text": [
        "\n",
        "http://twitter.com/KachoArinoDesu/status/540330914191253506/photo/1\n",
        "https://storify.com/davidgaliel/a-prominent-spokeswoman-for-women-in-the-game-indu\n",
        "http://bit.ly/1yhVT0f"
       ]
      },
      {
       "output_type": "stream",
       "stream": "stdout",
       "text": [
        "\n",
        "http://bit.ly/1I1W47V\n",
        "http://bit.ly/1I1W6gb\n",
        "http://bit.ly/1I1W6g5\n",
        "http://bit.ly/1I1W3Re\n",
        "http://bit.ly/1I1W5ZB\n",
        "http://bit.ly/1I1W3AW\n",
        "http://bit.ly/1I1W5Zx"
       ]
      },
      {
       "output_type": "stream",
       "stream": "stdout",
       "text": [
        "\n",
        "http://bit.ly/1yhVQl3\n",
        "http://bit.ly/1I1W3kv\n",
        "http://bit.ly/1yhVQkV\n",
        "http://bit.ly/1yhVSti\n",
        "http://wiki.gamergate.me/index.php?title=Timeline"
       ]
      },
      {
       "output_type": "stream",
       "stream": "stdout",
       "text": [
        "\n",
        "https://archive.today/r16t0\n",
        "http://www.theguardian.com/technology/2014/dec/03/australian-store-bans-grand-theft-auto-5-violence-against-women?CMP=fb_gu\n",
        "http://po.st/4aqedq\n",
        "https://twitter.com/thewtfmagazine/status/540328034910605313"
       ]
      },
      {
       "output_type": "stream",
       "stream": "stdout",
       "text": [
        "\n",
        "http://www.breitbart.com/Breitbart-London/2014/09/21/GameJournoPros-we-reveal-every-journalist-on-the-list\n",
        "https://www.youtube.com/watch?v=sNJmfuEWR8w"
       ]
      },
      {
       "output_type": "stream",
       "stream": "stdout",
       "text": [
        "\n",
        "https://archive.today/acybA"
       ]
      },
      {
       "output_type": "stream",
       "stream": "stdout",
       "text": [
        "\n",
        "http://thndr.it/ZCOhLd"
       ]
      },
      {
       "output_type": "stream",
       "stream": "stdout",
       "text": [
        "\n",
        "https://www.youtube.com/watch?v=7CwKplZn11A\n",
        "http://miax.bavaweb.com/uwxzke8.html?group=tw\n",
        "http://www.reddit.com/r/MensRights/duplicates/2nmt4w/gamergate_ftc_addressing_website_endorsements/"
       ]
      },
      {
       "output_type": "stream",
       "stream": "stdout",
       "text": [
        "\n",
        "https://www.youtube.com/watch?v=ljIMMCQyexA#t=556"
       ]
      },
      {
       "output_type": "stream",
       "stream": "stdout",
       "text": [
        "\n",
        "http://apgnation.com"
       ]
      },
      {
       "output_type": "stream",
       "stream": "stdout",
       "text": [
        "\n",
        "https://archive.today/ySS4O"
       ]
      },
      {
       "output_type": "stream",
       "stream": "stdout",
       "text": [
        "\n",
        "https://twitter.com/A_PLANT_/status/538578143834304512"
       ]
      },
      {
       "output_type": "stream",
       "stream": "stdout",
       "text": [
        "\n",
        "http://www.reddit.com/r/KotakuInAction/comments/2o2qfs/new_conflitc_of_interests_involving_gone_home/"
       ]
      },
      {
       "output_type": "stream",
       "stream": "stdout",
       "text": [
        "\n",
        "http://pastebin.com/3tBitpjm"
       ]
      },
      {
       "output_type": "stream",
       "stream": "stdout",
       "text": [
        "\n",
        "http://fg-2.com/2014/12/02/interview-with-vince-desi-of-running-with-scissors/"
       ]
      },
      {
       "output_type": "stream",
       "stream": "stdout",
       "text": [
        "\n",
        "http://digitalconfederacy.com/292-gamergate-interviews-daddy-warpig\n",
        "https://www.youtube.com/watch?v=HnSxfnGIMuA\n",
        "http://bit.ly/1sZWth7"
       ]
      },
      {
       "output_type": "stream",
       "stream": "stdout",
       "text": [
        "\n",
        "http://web.archive.org/web/20131217101714/http://techsavvyglobal.com/mock-reviews-video-games-software-hardware/"
       ]
      },
      {
       "output_type": "stream",
       "stream": "stdout",
       "text": [
        "\n",
        "https://www.youtube.com/watch?v=qcMZG84gE4w"
       ]
      },
      {
       "output_type": "stream",
       "stream": "stdout",
       "text": [
        "\n",
        "http://vr.bavaweb.com/gedg8.html?group=tw"
       ]
      },
      {
       "output_type": "stream",
       "stream": "stdout",
       "text": [
        "\n",
        "http://gamergate.trendolizer.com/2014/12/target-australia-pulls-grand-theft-auto-v-from-shelves.html"
       ]
      },
      {
       "output_type": "stream",
       "stream": "stdout",
       "text": [
        "\n",
        "https://www.youtube.com/watch?v=BVAGRaogazI&list=UUFvc7oDzPHp4Uhm1sgxVLNg"
       ]
      },
      {
       "output_type": "stream",
       "stream": "stdout",
       "text": [
        "\n",
        "http://time.com/85933/why-ill-never-apologize-for-my-white-male-privilege/\n",
        "http://igg.me/at/codehere/x/3590458"
       ]
      },
      {
       "output_type": "stream",
       "stream": "stdout",
       "text": [
        "\n",
        "http://lnkd.in/bVWTwFk"
       ]
      },
      {
       "output_type": "stream",
       "stream": "stdout",
       "text": [
        "\n",
        "https://twitter.com/NkDragunov/status/540322052058906625"
       ]
      },
      {
       "output_type": "stream",
       "stream": "stdout",
       "text": [
        "\n",
        "http://gamergate.me/2014/12/struggle-of-the-pen/"
       ]
      },
      {
       "output_type": "stream",
       "stream": "stdout",
       "text": [
        "\n",
        "http://muslimmatters.org/2014/11/13/top-five-misquotations-of-the-quran/"
       ]
      },
      {
       "output_type": "stream",
       "stream": "stdout",
       "text": [
        "\n",
        "https://medium.com/@alexandraerin/gamergate-actually-about-ethics-after-all-99e7f14ea690?source=tw-lo_51a6bad807d-1417657786720\n",
        "http://twitter.com/IzzyBak21/status/540214017303011329/photo/1"
       ]
      },
      {
       "output_type": "stream",
       "stream": "stdout",
       "text": [
        "\n",
        "https://www.youtube.com/watch?v=kHwgaiwlO3A&list=PLNQ-ok-jMOgO39xTjD3BF4XtB5xiskI40"
       ]
      },
      {
       "output_type": "stream",
       "stream": "stdout",
       "text": [
        "\n",
        "https://archive.today/u5dR7"
       ]
      },
      {
       "output_type": "stream",
       "stream": "stdout",
       "text": [
        "\n",
        "http://www.reddit.com/r/KotakuInAction/comments/2o7ngh/possible_conflict_of_interest_involving_ben/\n",
        "http://www.rawstory.com/rs/2014/12/zoe-quinn-speaks-out-all-gamergate-has-done-is-ruin-peoples-lives/#.VH-8nPwXygw.twitter"
       ]
      },
      {
       "output_type": "stream",
       "stream": "stdout",
       "text": [
        "\n",
        "https://plus.google.com/+GamergateCaGroup/posts\n",
        "http://superchorgers.tumblr.com/post/103944972536/more-indie-nepotism-in-games-journalism"
       ]
      },
      {
       "output_type": "stream",
       "stream": "stdout",
       "text": [
        "\n",
        "http://gamerghazi.newsin.tk/a/3a29c6d0-6546-11e4-a870-4de0437a9b06"
       ]
      },
      {
       "output_type": "stream",
       "stream": "stdout",
       "text": [
        "\n",
        "http://www.reddit.com/r/KotakuInAction/comments/2nb3hw/important_update_the_ftc_heard_our_complaints/"
       ]
      },
      {
       "output_type": "stream",
       "stream": "stdout",
       "text": [
        "\n",
        "https://twitter.com/uurow1/status/540319412654706688"
       ]
      },
      {
       "output_type": "stream",
       "stream": "stdout",
       "text": [
        "\n",
        "https://twitter.com/aRedMosquito/status/540311677322153984\n",
        "http://techsavvyglobal.com/wp-content/uploads/2012/02/Game-Consultants-and-Video-Game-Consulting.pdf\n",
        "http://bit.ly/1sZWaTz"
       ]
      },
      {
       "output_type": "stream",
       "stream": "stdout",
       "text": [
        "\n",
        "http://twitter.com/Jasperge107/status/540317285412786177/photo/1\n",
        "https://twitter.com/joecndapuckats/status/540318484342009857"
       ]
      },
      {
       "output_type": "stream",
       "stream": "stdout",
       "text": [
        "\n",
        "http://np.reddit.com/r/KotakuInAction/comments/2o7pdk/is_it_fair_to_assume_that_a_good_number_antigg/"
       ]
      },
      {
       "output_type": "stream",
       "stream": "stdout",
       "text": [
        "\n",
        "https://www.youtube.com/watch?v=3MteSlpxCpo"
       ]
      },
      {
       "output_type": "stream",
       "stream": "stdout",
       "text": [
        "\n",
        "https://twitter.com/HotdropOClock/status/540318579451625473"
       ]
      },
      {
       "output_type": "stream",
       "stream": "stdout",
       "text": [
        "\n",
        "http://www.gamevox.com/QHQX-4AD"
       ]
      },
      {
       "output_type": "stream",
       "stream": "stdout",
       "text": [
        "\n",
        "http://www.change.org/p/australian-government-protect-the-artistic-freedom-of-video-game-developers?recruiter=191361026&utm_campaign=twitter_link_action_box&utm_medium=twitter&utm_source=share_petition\n",
        "https://www.youtube.com/watch?v=VoXGG5byktw"
       ]
      },
      {
       "output_type": "stream",
       "stream": "stdout",
       "text": [
        "\n",
        "http://gamerghazi.newsin.tk/a/0b5efdd0-6e19-11e4-8fa2-c37338cdec1f\n",
        "https://www.youtube.com/watch?v=eh7Zt1HOUQE"
       ]
      },
      {
       "output_type": "stream",
       "stream": "stdout",
       "text": [
        "\n",
        "http://irzym.bavaweb.com/hny8.html?group=tw"
       ]
      },
      {
       "output_type": "stream",
       "stream": "stdout",
       "text": [
        "\n",
        "https://archive.today/Gqv64"
       ]
      },
      {
       "output_type": "stream",
       "stream": "stdout",
       "text": [
        "\n",
        "http://tmblr.co/Z5xyWy1X86IU2\n",
        "https://archive.today/E4YEV"
       ]
      },
      {
       "output_type": "stream",
       "stream": "stdout",
       "text": [
        "\n",
        "http://www.reddit.com/r/KotakuInAction/comments/2o14y3/journalism_school/"
       ]
      },
      {
       "output_type": "stream",
       "stream": "stdout",
       "text": [
        "\n",
        "https://twitter.com/UsagiOjo"
       ]
      },
      {
       "output_type": "stream",
       "stream": "stdout",
       "text": [
        "\n",
        "http://www.richardbradley.net/shotsinthedark/2014/11/24/is-the-rolling-stone-story-true/"
       ]
      },
      {
       "output_type": "stream",
       "stream": "stdout",
       "text": [
        "\n",
        "https://www.youtube.com/watch?v=jSlFRrh91KE\n",
        "https://www.youtube.com/watch?v=GhuvaKLJbNw"
       ]
      },
      {
       "output_type": "stream",
       "stream": "stdout",
       "text": [
        "\n",
        "https://archive.today/NVAG4"
       ]
      },
      {
       "output_type": "stream",
       "stream": "stdout",
       "text": [
        "\n",
        "http://sebtoincblogs.blogspot.com/2014/12/sjws-are-effectively-saying-females-are.html\n",
        "http://tl.gd/n_1siu2n7"
       ]
      },
      {
       "output_type": "stream",
       "stream": "stdout",
       "text": [
        "\n",
        "https://www.youtube.com/watch?v=QdM3qsCNQYY\n",
        "http://v.gd/NZSNa6\n",
        "http://goo.gl/4a8zCU\n",
        "https://archive.today/jnmuz"
       ]
      },
      {
       "output_type": "stream",
       "stream": "stdout",
       "text": [
        "\n",
        "http://bit.ly/1pVPGcu\n",
        "https://archive.today/Gqo9M"
       ]
      },
      {
       "output_type": "stream",
       "stream": "stdout",
       "text": [
        "\n",
        "http://i.imgur.com/FV3WXZN.png"
       ]
      },
      {
       "output_type": "stream",
       "stream": "stdout",
       "text": [
        "\n",
        "https://www.youtube.com/watch?v=hn1VxaMEjRU\n",
        "http://gamergate.me/2014/11/data-study-on-harassment/\n",
        "http://www.reddit.com/r/GamerGhazi/comments/2o7err/bro_red_pill_has_another_video_with_an_anonymous/cmkgtgv"
       ]
      },
      {
       "output_type": "stream",
       "stream": "stdout",
       "text": [
        "\n",
        "http://www.icyousee.org/titanic.html"
       ]
      },
      {
       "output_type": "stream",
       "stream": "stdout",
       "text": [
        "\n",
        "http://twitter.com/ThatSabineGirl/status/540312515637706752/photo/1"
       ]
      },
      {
       "output_type": "stream",
       "stream": "stdout",
       "text": [
        "\n",
        "https://www.change.org/p/target-stop-the-censorship-of-videogames-due-to-misrepresentation?recruiter=191363121&utm_source=share_petition&utm_medium=twitter&utm_campaign=share_twitter_responsive"
       ]
      },
      {
       "output_type": "stream",
       "stream": "stdout",
       "text": [
        "\n",
        "http://www.target.com.au/medias/marketing/corporate/PDF/media-release/GTA-Media-Release-v2.pdf"
       ]
      },
      {
       "output_type": "stream",
       "stream": "stdout",
       "text": [
        "\n",
        "https://www.youtube.com/watch?v=-hVuv7mDNqM"
       ]
      },
      {
       "output_type": "stream",
       "stream": "stdout",
       "text": [
        "\n",
        "http://bit.ly/1pVPGsM"
       ]
      },
      {
       "output_type": "stream",
       "stream": "stdout",
       "text": [
        "\n",
        "https://twitter.com/wikileaks/status/522087808316755968"
       ]
      },
      {
       "output_type": "stream",
       "stream": "stdout",
       "text": [
        "\n",
        "http://pando.com/2014/10/12/wikileaks-meets-surveillance-valley-an-interview-with-julian-assange/\n",
        "http://ugh-feminism.tumblr.com/post/104260783700/archatlas-the-colbert-report-11-19-14"
       ]
      },
      {
       "output_type": "stream",
       "stream": "stdout",
       "text": [
        "\n",
        "http://www.psychologytoday.com/blog/your-online-secrets/201409/internet-trolls-are-narcissists-psychopaths-and-sadists"
       ]
      },
      {
       "output_type": "stream",
       "stream": "stdout",
       "text": [
        "\n",
        "https://8chan.co/gg/res/553735.html#553735\n",
        "http://www.quora.com/GamerGate-Fall-2014/Could-someone-please-explain-the-controversy-surrounding-Zoe-Quinn-and-Anita-Sarkeesian"
       ]
      },
      {
       "output_type": "stream",
       "stream": "stdout",
       "text": [
        "\n",
        "http://www.change.org/p/australian-government-protect-the-artistic-freedom-of-video-game-developers?recruiter=103240055&utm_campaign=twitter_link_action_box&utm_medium=twitter&utm_source=share_petition"
       ]
      },
      {
       "output_type": "stream",
       "stream": "stdout",
       "text": [
        "\n",
        "http://ift.tt/1yRszkW"
       ]
      },
      {
       "output_type": "stream",
       "stream": "stdout",
       "text": [
        "\n",
        "http://ift.tt/1yPR94E\n",
        "Tweet manifest written\n"
       ]
      }
     ],
     "prompt_number": 5
    },
    {
     "cell_type": "code",
     "collapsed": false,
     "input": [
      "manifest = open(path.join(outdir, 'manifest.json'), 'r')\n",
      "text = manifest.read()"
     ],
     "language": "python",
     "metadata": {},
     "outputs": [],
     "prompt_number": 6
    },
    {
     "cell_type": "code",
     "collapsed": false,
     "input": [
      "token = '3b0f1bc2ddce2d6057a18ca91b695898'"
     ],
     "language": "python",
     "metadata": {},
     "outputs": [],
     "prompt_number": 7
    },
    {
     "cell_type": "code",
     "collapsed": false,
     "input": [
      "for e in json.loads(text):\n",
      "    for n, url in enumerate(e['full_urls']):\n",
      "        out_path = path.join(outdir, '%s.json' %(str(e['id']) + '-' +  str(n)))\n",
      "        if path.exists(out_path):\n",
      "            print \"skipping: {}\".format(url)\n",
      "            continue\n",
      "        print \"scraping: {}\".format(url)\n",
      "        items = {'token': token , 'url': url}\n",
      "        r = requests.get(\"http://api.diffbot.com/v3/article\", params=items)\n",
      "        file = open(out_path, 'w')  \n",
      "        file.write(r.text.encode('utf-8', 'ignore'))\n",
      "        file.close()"
     ],
     "language": "python",
     "metadata": {},
     "outputs": [
      {
       "output_type": "stream",
       "stream": "stdout",
       "text": [
        "scraping: http://betabeat.com/2014/12/i-was-summoned-by-gamergate-heres-what-i-saw/\n",
        "scraping: http://ift.tt/10BbOO3"
       ]
      },
      {
       "output_type": "stream",
       "stream": "stdout",
       "text": [
        "\n",
        "scraping: http://gamingjobonlin.com"
       ]
      },
      {
       "output_type": "stream",
       "stream": "stdout",
       "text": [
        "\n",
        "scraping: https://au.news.yahoo.com/technology/a/25681376/grand-theft-auto-5-target-kmart-pull-game-off-shelves-over-sexual-violence-controversy/"
       ]
      },
      {
       "output_type": "stream",
       "stream": "stdout",
       "text": [
        "\n",
        "scraping: http://www.news.com.au/technology/home-entertainment/gamers-fight-back-against-targets-ridiculous-decision-to-ban-grand-theft-auto-v/story-e6frfrt9-1227144736337"
       ]
      },
      {
       "output_type": "stream",
       "stream": "stdout",
       "text": [
        "\n",
        "scraping: http://www.hitbox.tv/synthovine"
       ]
      },
      {
       "output_type": "stream",
       "stream": "stdout",
       "text": [
        "\n",
        "scraping: http://blogjob.com/oneangrygamer/2014/12/shes-not-gonna-take-your-games-away-says-jim-sterling-gta-5-gets-banned/"
       ]
      },
      {
       "output_type": "stream",
       "stream": "stdout",
       "text": [
        "\n",
        "scraping: https://www.youtube.com/watch?v=ZBR2G-iI3-I"
       ]
      },
      {
       "output_type": "stream",
       "stream": "stdout",
       "text": [
        "\n",
        "scraping: https://twitter.com/a_man_in_black/status/540344907877998593"
       ]
      },
      {
       "output_type": "stream",
       "stream": "stdout",
       "text": [
        "\n",
        "scraping: https://www.reddit.com/r/KotakuInAction/comments/2o6a74/bgotd_1232014_adadvisor_bluekai_drawbridge_gawker/"
       ]
      },
      {
       "output_type": "stream",
       "stream": "stdout",
       "text": [
        "\n",
        "scraping: https://www.aclu.org/free-speech/what-censorship"
       ]
      },
      {
       "output_type": "stream",
       "stream": "stdout",
       "text": [
        "\n",
        "scraping: http://digitalcommons.law.scu.edu/cgi/viewcontent.cgi?article=1798&context=historical"
       ]
      },
      {
       "output_type": "stream",
       "stream": "stdout",
       "text": [
        "\n",
        "scraping: http://www.foxnews.com/search-results/search?q=gamergate&submit=Search&ss=fn"
       ]
      },
      {
       "output_type": "stream",
       "stream": "stdout",
       "text": [
        "\n",
        "scraping: http://archive.today/wKw28"
       ]
      },
      {
       "output_type": "stream",
       "stream": "stdout",
       "text": [
        "\n",
        "scraping: http://www.zazzle.com/gamerfruit_mens_pixel_t_shirt_dark-235765417844933806?color=royalblue&size=a_m&context=114075767698756542&hasUserTitle=False&style=basic_tshirt_light&design.areas=%5Bfront_horz%5D&view=113158993915508071&rf=238111564428447808&CMPN=addthis&lang=en"
       ]
      },
      {
       "output_type": "stream",
       "stream": "stdout",
       "text": [
        "\n",
        "scraping: https://www.youtube.com/watch?v=TH-pR2zcwUk"
       ]
      },
      {
       "output_type": "stream",
       "stream": "stdout",
       "text": [
        "\n",
        "scraping: http://vocaroo.com/i/s17iCJzwcJh8"
       ]
      },
      {
       "output_type": "stream",
       "stream": "stdout",
       "text": [
        "\n",
        "scraping: http://vocaroo.com/i/s0J5cgoioWbt"
       ]
      },
      {
       "output_type": "stream",
       "stream": "stdout",
       "text": [
        "\n",
        "scraping: https://archive.today/ZZxEe"
       ]
      },
      {
       "output_type": "stream",
       "stream": "stdout",
       "text": [
        "\n",
        "scraping: http://tl.gd/n_1siu7ip"
       ]
      },
      {
       "output_type": "stream",
       "stream": "stdout",
       "text": [
        "\n",
        "scraping: https://twitter.com/srhbutts/status/540343734077255680"
       ]
      },
      {
       "output_type": "stream",
       "stream": "stdout",
       "text": [
        "\n",
        "scraping: https://twitter.com/Spacekatgal/status/539842190957363200"
       ]
      },
      {
       "output_type": "stream",
       "stream": "stdout",
       "text": [
        "\n",
        "scraping: https://www.youtube.com/watch?v=ZKbdyETGwP0"
       ]
      },
      {
       "output_type": "stream",
       "stream": "stdout",
       "text": [
        "\n",
        "scraping: http://en.wikipedia.org/wiki/United_States_antitrust_law"
       ]
      },
      {
       "output_type": "stream",
       "stream": "stdout",
       "text": [
        "\n",
        "scraping: http://wp.me/p4Lhbm-UP"
       ]
      },
      {
       "output_type": "stream",
       "stream": "stdout",
       "text": [
        "\n",
        "scraping: http://officialgamergate.booru.org/index.php?page=post&s=list&tags=vivian_james"
       ]
      },
      {
       "output_type": "stream",
       "stream": "stdout",
       "text": [
        "\n",
        "scraping: https://www.youtube.com/watch?v=jkAne0dUYu4"
       ]
      },
      {
       "output_type": "stream",
       "stream": "stdout",
       "text": [
        "\n",
        "scraping: https://archive.today/wvyOB"
       ]
      },
      {
       "output_type": "stream",
       "stream": "stdout",
       "text": [
        "\n",
        "scraping: http://techraptor.net/content/pc-gaming-gift-guide-awesome-peripherals"
       ]
      },
      {
       "output_type": "stream",
       "stream": "stdout",
       "text": [
        "\n",
        "scraping: http://pastebin.com/3htNRxW1"
       ]
      },
      {
       "output_type": "stream",
       "stream": "stdout",
       "text": [
        "\n",
        "scraping: http://mindlesszombiestudios.com/content/what-does-ethics-gaming-journalism-mean"
       ]
      },
      {
       "output_type": "stream",
       "stream": "stdout",
       "text": [
        "\n",
        "scraping: https://i.imgur.com/kZ7YrG0.jpg"
       ]
      },
      {
       "output_type": "stream",
       "stream": "stdout",
       "text": [
        "\n",
        "scraping: https://www.youtube.com/watch?v=kHwgaiwlO3A"
       ]
      },
      {
       "output_type": "stream",
       "stream": "stdout",
       "text": [
        "\n",
        "scraping: https://www.youtube.com/watch?v=2gOowCOUmTM"
       ]
      },
      {
       "output_type": "stream",
       "stream": "stdout",
       "text": [
        "\n",
        "scraping: http://ift.tt/10BbOO3"
       ]
      },
      {
       "output_type": "stream",
       "stream": "stdout",
       "text": [
        "\n",
        "scraping: http://ift.tt/1wvtKXV"
       ]
      },
      {
       "output_type": "stream",
       "stream": "stdout",
       "text": [
        "\n",
        "scraping: http://ift.tt/1yPRbJW"
       ]
      },
      {
       "output_type": "stream",
       "stream": "stdout",
       "text": [
        "\n",
        "scraping: http://ift.tt/1zmudJz"
       ]
      },
      {
       "output_type": "stream",
       "stream": "stdout",
       "text": [
        "\n",
        "scraping: http://thesentinelwire.com/research/"
       ]
      },
      {
       "output_type": "stream",
       "stream": "stdout",
       "text": [
        "\n",
        "scraping: http://techraptor.net/content/inside-gamejournopros-interview-william-oneal"
       ]
      },
      {
       "output_type": "stream",
       "stream": "stdout",
       "text": [
        "\n",
        "scraping: https://www.youtube.com/watch?v=FgBl7I6bIV8"
       ]
      },
      {
       "output_type": "stream",
       "stream": "stdout",
       "text": [
        "\n",
        "scraping: http://ift.tt/1wYtBIM"
       ]
      },
      {
       "output_type": "stream",
       "stream": "stdout",
       "text": [
        "\n",
        "scraping: http://ift.tt/1ofTKnc"
       ]
      },
      {
       "output_type": "stream",
       "stream": "stdout",
       "text": [
        "\n",
        "scraping: https://storify.com/a_man_in_black/how-chan-style-anonymous-culture-shapes-gamergate"
       ]
      },
      {
       "output_type": "stream",
       "stream": "stdout",
       "text": [
        "\n",
        "scraping: http://www.reddit.com/r/KotakuInAction/comments/2o6a74/bgotd_1232014_adadvisor_bluekai_drawbridge_gawker/"
       ]
      },
      {
       "output_type": "stream",
       "stream": "stdout",
       "text": [
        "\n",
        "scraping: http://www.reddit.com/r/KotakuInAction/comments/2o2d3i/bgotd_1222014_the_home_depot_rock_paper_shotgun/"
       ]
      },
      {
       "output_type": "stream",
       "stream": "stdout",
       "text": [
        "\n",
        "scraping: http://goo.gl/LeLT1x"
       ]
      },
      {
       "output_type": "stream",
       "stream": "stdout",
       "text": [
        "\n",
        "scraping: http://www.abc.net.au/news/2014-12-03/target-kmart-pull-grand-theft-auto-5-game-sexual-violence/5939184"
       ]
      },
      {
       "output_type": "stream",
       "stream": "stdout",
       "text": [
        "\n",
        "scraping: http://www.geekenstein.com/banned-in-australia/"
       ]
      },
      {
       "output_type": "stream",
       "stream": "stdout",
       "text": [
        "\n",
        "scraping: https://www.change.org/p/target-stop-selling-fifty-shades-of-grey-in-all-target-stores?recruiter=8659516&utm_source=share_petition&utm_medium=twitter&utm_campaign=share_twitter_responsive"
       ]
      },
      {
       "output_type": "stream",
       "stream": "stdout",
       "text": [
        "\n",
        "scraping: http://bit.ly/1sZYzOb"
       ]
      },
      {
       "output_type": "stream",
       "stream": "stdout",
       "text": [
        "\n",
        "scraping: https://www.change.org/p/target-continue-to-sell-grand-theft-auto-5-in-australia/share"
       ]
      },
      {
       "output_type": "stream",
       "stream": "stdout",
       "text": [
        "\n",
        "scraping: https://archive.today/XUHRO"
       ]
      },
      {
       "output_type": "stream",
       "stream": "stdout",
       "text": [
        "\n",
        "scraping: http://www.yelp.com/biz/gamergate-west-hollywood"
       ]
      },
      {
       "output_type": "stream",
       "stream": "stdout",
       "text": [
        "\n",
        "scraping: http://www.littletinyfrogs.com/article/459705/Have_people_lost_their_collective_minds"
       ]
      },
      {
       "output_type": "stream",
       "stream": "stdout",
       "text": [
        "\n",
        "scraping: http://billingsgazette.com/business/technology/game-developer-became-enamored-early/article_14cae7b4-28c9-5669-a4b7-2fbf3b314588.html"
       ]
      },
      {
       "output_type": "stream",
       "stream": "stdout",
       "text": [
        "\n",
        "scraping: http://abcnews.go.com/Entertainment/wireStory/grand-theft-auto-pulled-australian-retailer-27349058"
       ]
      },
      {
       "output_type": "stream",
       "stream": "stdout",
       "text": [
        "\n",
        "scraping: http://www.abc.net.au/news/2014-12-03/target-pulls-grand-theft-auto-5-game-off-shelves-over-sexual-vi/5939184"
       ]
      },
      {
       "output_type": "stream",
       "stream": "stdout",
       "text": [
        "\n",
        "scraping: https://www.change.org/p/target-withdraw-grand-theft-auto-5-this-sickening-game-encourages-players-to-commit-sexual-violence-and-kill-women?recruiter=14274630&utm_source=share_petition&utm_medium=twitter&utm_campaign=share_twitter_responsive"
       ]
      },
      {
       "output_type": "stream",
       "stream": "stdout",
       "text": [
        "\n",
        "scraping: http://bit.ly/1ynJ3Br"
       ]
      },
      {
       "output_type": "stream",
       "stream": "stdout",
       "text": [
        "\n",
        "scraping: https://www.change.org/p/target-continue-to-sell-grand-theft-auto-5-in-australia"
       ]
      },
      {
       "output_type": "stream",
       "stream": "stdout",
       "text": [
        "\n",
        "scraping: https://twitter.com/JennOfHardwire/status/539887649818152960"
       ]
      },
      {
       "output_type": "stream",
       "stream": "stdout",
       "text": [
        "\n",
        "scraping: https://twitter.com/TheWhaler_/status/539895644425814017"
       ]
      },
      {
       "output_type": "stream",
       "stream": "stdout",
       "text": [
        "\n",
        "scraping: http://thegameawards.com/nominees/"
       ]
      },
      {
       "output_type": "stream",
       "stream": "stdout",
       "text": [
        "\n",
        "scraping: http://imgur.com/x3AJskV"
       ]
      },
      {
       "output_type": "stream",
       "stream": "stdout",
       "text": [
        "\n",
        "scraping: https://www.youtube.com/watch?v=jeXljIb-CJU"
       ]
      },
      {
       "output_type": "stream",
       "stream": "stdout",
       "text": [
        "\n",
        "scraping: https://www.youtube.com/watch?v=lbOtyWTRZ_g"
       ]
      },
      {
       "output_type": "stream",
       "stream": "stdout",
       "text": [
        "\n",
        "scraping: http://afca.bavaweb.com/mbtjn8.html?group=tw"
       ]
      },
      {
       "output_type": "stream",
       "stream": "stdout",
       "text": [
        "\n",
        "scraping: http://bit.ly/1yRuVzl"
       ]
      },
      {
       "output_type": "stream",
       "stream": "stdout",
       "text": [
        "\n",
        "scraping: https://archive.today/eg5zF"
       ]
      },
      {
       "output_type": "stream",
       "stream": "stdout",
       "text": [
        "\n",
        "scraping: http://www.theguardian.com/technology/2014/dec/04/grand-theft-auto-5-kmart-target-pulling-game-sale"
       ]
      },
      {
       "output_type": "stream",
       "stream": "stdout",
       "text": [
        "\n",
        "scraping: https://www.change.org/p/target-put-grand-theft-auto-5-back-on-target-shelves-in-australia"
       ]
      },
      {
       "output_type": "stream",
       "stream": "stdout",
       "text": [
        "\n",
        "scraping: http://shetterly.blogspot.com/2013/06/the-first-amendment-protects-private.html"
       ]
      },
      {
       "output_type": "stream",
       "stream": "stdout",
       "text": [
        "\n",
        "scraping: https://www.youtube.com/watch?v=nZiIk4TvRbM"
       ]
      },
      {
       "output_type": "stream",
       "stream": "stdout",
       "text": [
        "\n",
        "scraping: http://gamergate.me/"
       ]
      },
      {
       "output_type": "stream",
       "stream": "stdout",
       "text": [
        "\n",
        "scraping: http://gamingjobonlin.com"
       ]
      },
      {
       "output_type": "stream",
       "stream": "stdout",
       "text": [
        "\n",
        "scraping: http://bit.ly/1yaed0f"
       ]
      },
      {
       "output_type": "stream",
       "stream": "stdout",
       "text": [
        "\n",
        "scraping: http://wp.me/p5oUEx-4"
       ]
      },
      {
       "output_type": "stream",
       "stream": "stdout",
       "text": [
        "\n",
        "scraping: http://bit.ly/1FQkajT"
       ]
      },
      {
       "output_type": "stream",
       "stream": "stdout",
       "text": [
        "\n",
        "scraping: http://thndr.it/11OVvNk"
       ]
      },
      {
       "output_type": "stream",
       "stream": "stdout",
       "text": [
        "\n",
        "scraping: http://igg.me/p/945877/twtr"
       ]
      },
      {
       "output_type": "stream",
       "stream": "stdout",
       "text": [
        "\n",
        "scraping: https://archive.today/lJMOk"
       ]
      },
      {
       "output_type": "stream",
       "stream": "stdout",
       "text": [
        "\n",
        "scraping: https://archive.today/Zerq3"
       ]
      },
      {
       "output_type": "stream",
       "stream": "stdout",
       "text": [
        "\n",
        "scraping: http://4life4freedom.blogspot.com/2014/12/what-id-rather-see-next-in-mmorpgs.html"
       ]
      },
      {
       "output_type": "stream",
       "stream": "stdout",
       "text": [
        "\n",
        "scraping: http://www.abc.net.au/news/2014-12-04/male-lawn-bowls-players-quit-over-move-to-mixed-competitions/5942078"
       ]
      },
      {
       "output_type": "stream",
       "stream": "stdout",
       "text": [
        "\n",
        "scraping: http://gamerghazi.newsin.tk/a/e3fc6ea1-72c6-11e4-a440-c37a46c7e49a"
       ]
      },
      {
       "output_type": "stream",
       "stream": "stdout",
       "text": [
        "\n",
        "scraping: https://www.youtube.com/watch?v=4dqkba27V7s"
       ]
      },
      {
       "output_type": "stream",
       "stream": "stdout",
       "text": [
        "\n",
        "scraping: https://www.kickstarter.com/projects/thimbleweedpark/thimbleweed-park-a-new-classic-point-and-click-adv"
       ]
      },
      {
       "output_type": "stream",
       "stream": "stdout",
       "text": [
        "\n",
        "scraping: https://www.change.org/p/australian-government-protect-the-artistic-freedom-of-video-game-developers/"
       ]
      },
      {
       "output_type": "stream",
       "stream": "stdout",
       "text": [
        "\n",
        "scraping: http://press.gamergate.me/dossier/"
       ]
      },
      {
       "output_type": "stream",
       "stream": "stdout",
       "text": [
        "\n",
        "scraping: http://twodashstash.com/2014/11/opinion-opening-the-gates-and-gamergate/"
       ]
      },
      {
       "output_type": "stream",
       "stream": "stdout",
       "text": [
        "\n",
        "scraping: http://www.ruthlessreviews.com/25529/gamergate-culture-war/"
       ]
      },
      {
       "output_type": "stream",
       "stream": "stdout",
       "text": [
        "\n",
        "scraping: http://www.cinemablend.com/games/FTC-Updating-Consumer-Info-Regarding-Media-Endorsements-YouTubers-2015-68602.html"
       ]
      },
      {
       "output_type": "stream",
       "stream": "stdout",
       "text": [
        "\n",
        "scraping: https://archive.today/SVgeJ"
       ]
      },
      {
       "output_type": "stream",
       "stream": "stdout",
       "text": [
        "\n",
        "scraping: https://archive.today/Ak1ed"
       ]
      },
      {
       "output_type": "stream",
       "stream": "stdout",
       "text": [
        "\n",
        "scraping: http://Change.org"
       ]
      },
      {
       "output_type": "stream",
       "stream": "stdout",
       "text": [
        "\n",
        "scraping: http://tmblr.co/ZKYo6o1X96J6Q"
       ]
      },
      {
       "output_type": "stream",
       "stream": "stdout",
       "text": [
        "\n",
        "scraping: http://archive.today/YICbE"
       ]
      },
      {
       "output_type": "stream",
       "stream": "stdout",
       "text": [
        "\n",
        "scraping: http://archive.today/5z2ow"
       ]
      },
      {
       "output_type": "stream",
       "stream": "stdout",
       "text": [
        "\n",
        "scraping: http://archive.today/mqRQl"
       ]
      },
      {
       "output_type": "stream",
       "stream": "stdout",
       "text": [
        "\n",
        "scraping: https://archive.today/qKmir"
       ]
      },
      {
       "output_type": "stream",
       "stream": "stdout",
       "text": [
        "\n",
        "scraping: http://blogjob.com/oneangrygamer/2014/12/gamergate-all-buyers-on-desura-will-be-treated-equally-states-desura/"
       ]
      },
      {
       "output_type": "stream",
       "stream": "stdout",
       "text": [
        "\n",
        "scraping: http://f-st.co/atAqoog"
       ]
      },
      {
       "output_type": "stream",
       "stream": "stdout",
       "text": [
        "\n",
        "scraping: http://bit.ly/1tHqgvn"
       ]
      },
      {
       "output_type": "stream",
       "stream": "stdout",
       "text": [
        "\n",
        "scraping: https://archive.today/DiMJo"
       ]
      },
      {
       "output_type": "stream",
       "stream": "stdout",
       "text": [
        "\n",
        "scraping: http://gamerghazi.newsin.tk/a/34db7b20-6d83-11e4-b8c4-d1a6aa162218"
       ]
      },
      {
       "output_type": "stream",
       "stream": "stdout",
       "text": [
        "\n",
        "scraping: http://i.imgur.com/It2JPy4.jpg"
       ]
      },
      {
       "output_type": "stream",
       "stream": "stdout",
       "text": [
        "\n",
        "scraping: http://ift.tt/1w8ol8X"
       ]
      },
      {
       "output_type": "stream",
       "stream": "stdout",
       "text": [
        "\n",
        "scraping: https://archive.today/kCwt3#selection-4333.0-4350.0"
       ]
      },
      {
       "output_type": "stream",
       "stream": "stdout",
       "text": [
        "\n",
        "scraping: https://archive.today/kCwt3"
       ]
      },
      {
       "output_type": "stream",
       "stream": "stdout",
       "text": [
        "\n",
        "scraping: http://goo.gl/EvXM0d"
       ]
      },
      {
       "output_type": "stream",
       "stream": "stdout",
       "text": [
        "\n",
        "scraping: http://techraptor.net/content/indie-developer-withholds-steam-keys-members-gamergate"
       ]
      },
      {
       "output_type": "stream",
       "stream": "stdout",
       "text": [
        "\n",
        "scraping: http://ask.fm/a/bfihcfmm"
       ]
      },
      {
       "output_type": "stream",
       "stream": "stdout",
       "text": [
        "\n",
        "scraping: https://www.youtube.com/watch?v=CCGqUyIc7P0#"
       ]
      },
      {
       "output_type": "stream",
       "stream": "stdout",
       "text": [
        "\n",
        "scraping: https://www.youtube.com/watch?v=wSAp991JIVs"
       ]
      },
      {
       "output_type": "stream",
       "stream": "stdout",
       "text": [
        "\n",
        "scraping: https://www.crowdrise.com/gamersfordiversity/fundraiser/GamersForDiversity"
       ]
      },
      {
       "output_type": "stream",
       "stream": "stdout",
       "text": [
        "\n",
        "scraping: http://thesentinelwire.com/"
       ]
      },
      {
       "output_type": "stream",
       "stream": "stdout",
       "text": [
        "\n",
        "scraping: https://www.aclu.org/free-speech/censorship"
       ]
      },
      {
       "output_type": "stream",
       "stream": "stdout",
       "text": [
        "\n",
        "scraping: http://bit.ly/1I2kKwY"
       ]
      },
      {
       "output_type": "stream",
       "stream": "stdout",
       "text": [
        "\n",
        "scraping: http://wiki.gamergate.me/index.php?title=Gawker#Joel_Johnson_and_Gawker.27s_call_for_.40NYTFridge.27s_doxing"
       ]
      },
      {
       "output_type": "stream",
       "stream": "stdout",
       "text": [
        "\n",
        "scraping: http://www.twitlonger.com/show/n_1siu6bj?new_post=true"
       ]
      },
      {
       "output_type": "stream",
       "stream": "stdout",
       "text": [
        "\n",
        "scraping: http://kycbygg.bavaweb.com/gnp8.html?group=tw"
       ]
      },
      {
       "output_type": "stream",
       "stream": "stdout",
       "text": [
        "\n",
        "scraping: http://ln.is/www.youtube.com/11vfU"
       ]
      },
      {
       "output_type": "stream",
       "stream": "stdout",
       "text": [
        "\n",
        "scraping: http://ift.tt/1yPRbJW"
       ]
      },
      {
       "output_type": "stream",
       "stream": "stdout",
       "text": [
        "\n",
        "scraping: http://ift.tt/1vP1ahk"
       ]
      },
      {
       "output_type": "stream",
       "stream": "stdout",
       "text": [
        "\n",
        "scraping: http://archive.today/kCwt3"
       ]
      },
      {
       "output_type": "stream",
       "stream": "stdout",
       "text": [
        "\n",
        "scraping: http://bit.ly/1CagNpE"
       ]
      },
      {
       "output_type": "stream",
       "stream": "stdout",
       "text": [
        "\n",
        "scraping: https://www.youtube.com/watch?v=MReV9dkAVhY"
       ]
      },
      {
       "output_type": "stream",
       "stream": "stdout",
       "text": [
        "\n",
        "scraping: http://ift.tt/10BbOO3"
       ]
      },
      {
       "output_type": "stream",
       "stream": "stdout",
       "text": [
        "\n",
        "scraping: http://ift.tt/1ynPOTO"
       ]
      },
      {
       "output_type": "stream",
       "stream": "stdout",
       "text": [
        "\n",
        "scraping: https://archive.today/j02Bw"
       ]
      },
      {
       "output_type": "stream",
       "stream": "stdout",
       "text": [
        "\n",
        "scraping: https://www.youtube.com/watch?v=M5UYSAxiECw"
       ]
      },
      {
       "output_type": "stream",
       "stream": "stdout",
       "text": [
        "\n",
        "scraping: https://8chan.co/gamergate/res/13263.html"
       ]
      },
      {
       "output_type": "stream",
       "stream": "stdout",
       "text": [
        "\n",
        "scraping: http://www.colliefight.com/fm"
       ]
      },
      {
       "output_type": "stream",
       "stream": "stdout",
       "text": [
        "\n",
        "scraping: http://www.cinemablend.com/games/EA-Admits-40-000-Users-Were-Hacked-Whistleblower-Steps-Forward-67256.html"
       ]
      },
      {
       "output_type": "stream",
       "stream": "stdout",
       "text": [
        "\n",
        "scraping: http://wo262.deviantart.com/art/Vivian-James-and-v-494905053"
       ]
      },
      {
       "output_type": "stream",
       "stream": "stdout",
       "text": [
        "\n",
        "scraping: https://www.youtube.com/watch?v=kKCakYj-dI4"
       ]
      },
      {
       "output_type": "stream",
       "stream": "stdout",
       "text": [
        "\n",
        "scraping: https://www.youtube.com/watch?v=E2IDMGEL6-8"
       ]
      },
      {
       "output_type": "stream",
       "stream": "stdout",
       "text": [
        "\n",
        "scraping: http://goo.gl/sqNozl"
       ]
      },
      {
       "output_type": "stream",
       "stream": "stdout",
       "text": [
        "\n",
        "scraping: http://bit.ly/1I2kMVI"
       ]
      },
      {
       "output_type": "stream",
       "stream": "stdout",
       "text": [
        "\n",
        "scraping: http://bit.ly/1yi9YuC"
       ]
      },
      {
       "output_type": "stream",
       "stream": "stdout",
       "text": [
        "\n",
        "scraping: https://www.crowdrise.com/20Kin2012/fundraiser/equalitynow"
       ]
      },
      {
       "output_type": "stream",
       "stream": "stdout",
       "text": [
        "\n",
        "scraping: http://www.equalitynow.org/agldf"
       ]
      },
      {
       "output_type": "stream",
       "stream": "stdout",
       "text": [
        "\n",
        "scraping: https://www.thunderclap.it/projects/19630-gamergate-2015?locale=en"
       ]
      },
      {
       "output_type": "stream",
       "stream": "stdout",
       "text": [
        "\n",
        "scraping: https://www.youtube.com/watch?v=Fj5qGFYaP6A"
       ]
      },
      {
       "output_type": "stream",
       "stream": "stdout",
       "text": [
        "\n",
        "scraping: http://linustechtips.com/main/topic/262692-game-developers-40892-kickstarter-project-goes-unfinished-donates-remaining-funding-to-feminist-frequency-changes-name/"
       ]
      },
      {
       "output_type": "stream",
       "stream": "stdout",
       "text": [
        "\n",
        "scraping: https://archive.today/MjJfJ"
       ]
      },
      {
       "output_type": "stream",
       "stream": "stdout",
       "text": [
        "\n",
        "scraping: https://twitter.com/radicalbytes/status/540362218395561984"
       ]
      },
      {
       "output_type": "stream",
       "stream": "stdout",
       "text": [
        "\n",
        "scraping: https://www.youtube.com/watch?v=Jwup4ItqyNQ"
       ]
      },
      {
       "output_type": "stream",
       "stream": "stdout",
       "text": [
        "\n",
        "scraping: http://actionptstext.blogspot.com/p/thanksgaming.html"
       ]
      },
      {
       "output_type": "stream",
       "stream": "stdout",
       "text": [
        "\n",
        "scraping: https://twitter.com/draginol/status/540193307172028416"
       ]
      },
      {
       "output_type": "stream",
       "stream": "stdout",
       "text": [
        "\n",
        "scraping: http://www.twitch.tv/evilagram"
       ]
      },
      {
       "output_type": "stream",
       "stream": "stdout",
       "text": [
        "\n",
        "scraping: https://8chan.co/gamergate/res/17684.html"
       ]
      },
      {
       "output_type": "stream",
       "stream": "stdout",
       "text": [
        "\n",
        "scraping: http://bit.ly/1I2imX6"
       ]
      },
      {
       "output_type": "stream",
       "stream": "stdout",
       "text": [
        "\n",
        "scraping: http://www.fastcodesign.com/3039212/after-gamergate-theresa-duncans-early-feminist-videogames-set-to-relaunch"
       ]
      },
      {
       "output_type": "stream",
       "stream": "stdout",
       "text": [
        "\n",
        "scraping: http://bit.ly/1tHfDsm"
       ]
      },
      {
       "output_type": "stream",
       "stream": "stdout",
       "text": [
        "\n",
        "scraping: http://www.reddit.com/r/GamerGhazi/comments/2o44w1/i_dont_even_know_what_to_make_of_this/"
       ]
      },
      {
       "output_type": "stream",
       "stream": "stdout",
       "text": [
        "\n",
        "scraping: https://archive.today/bk81e"
       ]
      },
      {
       "output_type": "stream",
       "stream": "stdout",
       "text": [
        "\n",
        "scraping: http://ift.tt/1yPRbJW"
       ]
      },
      {
       "output_type": "stream",
       "stream": "stdout",
       "text": [
        "\n",
        "scraping: http://ift.tt/1yReV0i"
       ]
      },
      {
       "output_type": "stream",
       "stream": "stdout",
       "text": [
        "\n",
        "scraping: http://tl.gd/n_1siu6bj"
       ]
      },
      {
       "output_type": "stream",
       "stream": "stdout",
       "text": [
        "\n",
        "scraping: http://bit.ly/1tHfBke"
       ]
      },
      {
       "output_type": "stream",
       "stream": "stdout",
       "text": [
        "\n",
        "scraping: http://apgnation.com/archives/2014/12/03/10815/open-letter-audience"
       ]
      },
      {
       "output_type": "stream",
       "stream": "stdout",
       "text": [
        "\n",
        "scraping: http://www.rawstory.com/rs/2014/12/zoe-quinn-speaks-out-all-gamergate-has-done-is-ruin-peoples-lives/#.VH_lfAHeV3c.twitter"
       ]
      },
      {
       "output_type": "stream",
       "stream": "stdout",
       "text": [
        "\n",
        "scraping: http://cnb.bavaweb.com/vp8.html?group=tw"
       ]
      },
      {
       "output_type": "stream",
       "stream": "stdout",
       "text": [
        "\n",
        "scraping: https://archive.today/jzIMf"
       ]
      },
      {
       "output_type": "stream",
       "stream": "stdout",
       "text": [
        "\n",
        "scraping: https://archive.today/ua4oS"
       ]
      },
      {
       "output_type": "stream",
       "stream": "stdout",
       "text": [
        "\n",
        "scraping: http://www.reddit.com/r/KotakuInAction/comments/2nz204/important_ftc_update_4_ftc_confirms_that_yes/"
       ]
      },
      {
       "output_type": "stream",
       "stream": "stdout",
       "text": [
        "\n",
        "scraping: https://twitter.com/LionUCS/status/539621557102866432"
       ]
      },
      {
       "output_type": "stream",
       "stream": "stdout",
       "text": [
        "\n",
        "scraping: http://bit.ly/12x82qa"
       ]
      },
      {
       "output_type": "stream",
       "stream": "stdout",
       "text": [
        "\n",
        "scraping: http://bit.ly/1yR4h9Q"
       ]
      },
      {
       "output_type": "stream",
       "stream": "stdout",
       "text": [
        "\n",
        "scraping: http://bit.ly/12x829B"
       ]
      },
      {
       "output_type": "stream",
       "stream": "stdout",
       "text": [
        "\n",
        "scraping: http://tl.gd/n_1siu67f"
       ]
      },
      {
       "output_type": "stream",
       "stream": "stdout",
       "text": [
        "\n",
        "scraping: https://www.youtube.com/watch?v=ElOEwtx7wjA"
       ]
      },
      {
       "output_type": "stream",
       "stream": "stdout",
       "text": [
        "\n",
        "scraping: https://www.youtube.com/watch?v=hnbQsfgk5Rk"
       ]
      },
      {
       "output_type": "stream",
       "stream": "stdout",
       "text": [
        "\n",
        "scraping: http://www.theguardian.com/technology/2014/dec/03/zoe-quinn-gamergate-interview"
       ]
      },
      {
       "output_type": "stream",
       "stream": "stdout",
       "text": [
        "\n",
        "scraping: http://www.forbes.com/sites/erikkain/2014/12/03/target-bans-grand-theft-auto-v-sales-in-australia/"
       ]
      },
      {
       "output_type": "stream",
       "stream": "stdout",
       "text": [
        "\n",
        "scraping: http://bit.ly/11UdFgV"
       ]
      },
      {
       "output_type": "stream",
       "stream": "stdout",
       "text": [
        "\n",
        "scraping: https://www.change.org/p/target-let-s-get-gta-v-back-on-shelves"
       ]
      },
      {
       "output_type": "stream",
       "stream": "stdout",
       "text": [
        "\n",
        "scraping: http://gu.com/p/43n7v/tw"
       ]
      },
      {
       "output_type": "stream",
       "stream": "stdout",
       "text": [
        "\n",
        "scraping: http://kotaku.com/grand-theft-auto-taught-me-to-drive-503781868"
       ]
      },
      {
       "output_type": "stream",
       "stream": "stdout",
       "text": [
        "\n",
        "scraping: http://www.twitch.tv/evilagram"
       ]
      },
      {
       "output_type": "stream",
       "stream": "stdout",
       "text": [
        "\n",
        "scraping: http://goo.gl/HLGCxp"
       ]
      },
      {
       "output_type": "stream",
       "stream": "stdout",
       "text": [
        "\n",
        "scraping: http://f24.my/1CHfoqJ"
       ]
      },
      {
       "output_type": "stream",
       "stream": "stdout",
       "text": [
        "\n",
        "scraping: http://grooveshark.com/#!/s/Game+Theory/234ral?src=5"
       ]
      },
      {
       "output_type": "stream",
       "stream": "stdout",
       "text": [
        "\n",
        "scraping: https://archive.today/Q7YbZ"
       ]
      },
      {
       "output_type": "stream",
       "stream": "stdout",
       "text": [
        "\n",
        "scraping: https://www.youtube.com/watch?v=qjnOyFEQdys"
       ]
      },
      {
       "output_type": "stream",
       "stream": "stdout",
       "text": [
        "\n",
        "scraping: http://twitter.com/dsgaudin/status/540360769901035520/photo/1"
       ]
      },
      {
       "output_type": "stream",
       "stream": "stdout",
       "text": [
        "\n",
        "scraping: http://betabeat.com/?p=114701"
       ]
      },
      {
       "output_type": "stream",
       "stream": "stdout",
       "text": [
        "\n",
        "scraping: https://www.youtube.com/watch?v=VXL83CUksTw"
       ]
      },
      {
       "output_type": "stream",
       "stream": "stdout",
       "text": [
        "\n",
        "scraping: http://strawpoll.me/3119439"
       ]
      },
      {
       "output_type": "stream",
       "stream": "stdout",
       "text": [
        "\n",
        "scraping: https://archive.today/5yDw7"
       ]
      },
      {
       "output_type": "stream",
       "stream": "stdout",
       "text": [
        "\n",
        "scraping: https://archive.today/mY9Ey"
       ]
      },
      {
       "output_type": "stream",
       "stream": "stdout",
       "text": [
        "\n",
        "scraping: https://twitter.com/the_moviebob/status/540268909367394304"
       ]
      },
      {
       "output_type": "stream",
       "stream": "stdout",
       "text": [
        "\n",
        "scraping: http://www.urbandictionary.com/define.php?term=Full+McIntosh"
       ]
      },
      {
       "output_type": "stream",
       "stream": "stdout",
       "text": [
        "\n",
        "scraping: http://acko.net/blog/storms-and-teacups/"
       ]
      },
      {
       "output_type": "stream",
       "stream": "stdout",
       "text": [
        "\n",
        "scraping: http://apne.ws/1ygZpwX"
       ]
      },
      {
       "output_type": "stream",
       "stream": "stdout",
       "text": [
        "\n",
        "scraping: https://archive.today/oWz0J"
       ]
      },
      {
       "output_type": "stream",
       "stream": "stdout",
       "text": [
        "\n",
        "scraping: http://www.gamnesia.com/news/tim-schafer-adam-sessler-and-other-industry-leaders-record-a-video-for-femi"
       ]
      },
      {
       "output_type": "stream",
       "stream": "stdout",
       "text": [
        "\n",
        "scraping: https://archive.today/StfjK"
       ]
      },
      {
       "output_type": "stream",
       "stream": "stdout",
       "text": [
        "\n",
        "scraping: https://www.justgiving.com/GGcharity"
       ]
      },
      {
       "output_type": "stream",
       "stream": "stdout",
       "text": [
        "\n",
        "scraping: http://en.wikipedia.org/wiki/Corporate_censorship"
       ]
      },
      {
       "output_type": "stream",
       "stream": "stdout",
       "text": [
        "\n",
        "scraping: http://www.chron.com/entertainment/article/Female-video-game-developer-provides-a-new-1580998.php"
       ]
      },
      {
       "output_type": "stream",
       "stream": "stdout",
       "text": [
        "\n",
        "scraping: http://en.wikipedia.org/wiki/Golden_Shield_Project"
       ]
      },
      {
       "output_type": "stream",
       "stream": "stdout",
       "text": [
        "\n",
        "scraping: https://www.youtube.com/watch?v=JCSZ0gUfbMg"
       ]
      },
      {
       "output_type": "stream",
       "stream": "stdout",
       "text": [
        "\n",
        "scraping: https://archive.today/HskEX"
       ]
      },
      {
       "output_type": "stream",
       "stream": "stdout",
       "text": [
        "\n",
        "scraping: http://ow.ly/FkC9a"
       ]
      },
      {
       "output_type": "stream",
       "stream": "stdout",
       "text": [
        "\n",
        "scraping: http://satorukimukobayashi.tumblr.com/post/104300860738/on-another-note"
       ]
      },
      {
       "output_type": "stream",
       "stream": "stdout",
       "text": [
        "\n",
        "scraping: http://bit.ly/1yR4hq8"
       ]
      },
      {
       "output_type": "stream",
       "stream": "stdout",
       "text": [
        "\n",
        "scraping: http://bit.ly/1yR4h9M"
       ]
      },
      {
       "output_type": "stream",
       "stream": "stdout",
       "text": [
        "\n",
        "scraping: http://imgur.com/99VOArQ"
       ]
      },
      {
       "output_type": "stream",
       "stream": "stdout",
       "text": [
        "\n",
        "scraping: https://www.change.org/p/australian-government-protect-the-artistic-freedom-of-video-game-developers"
       ]
      },
      {
       "output_type": "stream",
       "stream": "stdout",
       "text": [
        "\n",
        "scraping: http://en.wikipedia.org/wiki/Censorship"
       ]
      },
      {
       "output_type": "stream",
       "stream": "stdout",
       "text": [
        "\n",
        "scraping: http://www.fastcompany.com/3038861/my-creative-life/how-t"
       ]
      },
      {
       "output_type": "stream",
       "stream": "stdout",
       "text": [
        "\n",
        "scraping: http://betabeat.com/2014/12/i-was-summoned-by-gamergate-heres-what-i-saw/#ixzz3Ktne5djA"
       ]
      },
      {
       "output_type": "stream",
       "stream": "stdout",
       "text": [
        "\n",
        "scraping: https://archive.today/xazDk"
       ]
      },
      {
       "output_type": "stream",
       "stream": "stdout",
       "text": [
        "\n",
        "scraping: https://www.change.org/p/target-don-t-withdraw-grand-theft-auto-5-this-already-year-old-game-encourages-players-to-commit-equal-opportunity-violence/sponsors/new"
       ]
      },
      {
       "output_type": "stream",
       "stream": "stdout",
       "text": [
        "\n",
        "scraping: https://twitter.com/Desura/status/539841549379440640"
       ]
      },
      {
       "output_type": "stream",
       "stream": "stdout",
       "text": [
        "\n",
        "scraping: http://i3.kym-cdn.com/photos/images/original/000/874/482/b8c.png"
       ]
      },
      {
       "output_type": "stream",
       "stream": "stdout",
       "text": [
        "\n",
        "scraping: http://www.visualstudio.com/en-us/news/vs2013-community-vs.aspx"
       ]
      },
      {
       "output_type": "stream",
       "stream": "stdout",
       "text": [
        "\n",
        "scraping: http://www.blender.org/"
       ]
      },
      {
       "output_type": "stream",
       "stream": "stdout",
       "text": [
        "\n",
        "scraping: http://www.gimp.org/downloads/"
       ]
      },
      {
       "output_type": "stream",
       "stream": "stdout",
       "text": [
        "\n",
        "scraping: http://techraptor.net/content/kmart-follows-target-removing-gta-v-sale"
       ]
      },
      {
       "output_type": "stream",
       "stream": "stdout",
       "text": [
        "\n",
        "scraping: http://ift.tt/1yPRbJW"
       ]
      },
      {
       "output_type": "stream",
       "stream": "stdout",
       "text": [
        "\n",
        "scraping: http://ift.tt/1zSVkfu"
       ]
      },
      {
       "output_type": "stream",
       "stream": "stdout",
       "text": [
        "\n",
        "scraping: https://www.change.org/p/target-don-t-withdraw-grand-theft-auto-5-this-already-year-old-game-encourages-players-to-commit-equal-opportunity-violence"
       ]
      },
      {
       "output_type": "stream",
       "stream": "stdout",
       "text": [
        "\n",
        "scraping: http://topsy.com/analytics?q1=%23GamerGate&q2=%23notyourshield&period=3%20month"
       ]
      },
      {
       "output_type": "stream",
       "stream": "stdout",
       "text": [
        "\n",
        "scraping: http://www.christcenteredgamer.com"
       ]
      },
      {
       "output_type": "stream",
       "stream": "stdout",
       "text": [
        "\n",
        "scraping: http://bit.ly/1E6RoJ2"
       ]
      },
      {
       "output_type": "stream",
       "stream": "stdout",
       "text": [
        "\n",
        "scraping: https://archive.today/ko5OZ"
       ]
      },
      {
       "output_type": "stream",
       "stream": "stdout",
       "text": [
        "\n",
        "scraping: http://ln.is/betabeat.com/oCxfM"
       ]
      },
      {
       "output_type": "stream",
       "stream": "stdout",
       "text": [
        "\n",
        "scraping: https://www.change.org/p/twitter-forcibly-change-fyrasec-s-avatar-to-furdachi-permanently?just_created=true"
       ]
      },
      {
       "output_type": "stream",
       "stream": "stdout",
       "text": [
        "\n",
        "scraping: https://www.youtube.com/watch?v=tjgbT9PgSYA"
       ]
      },
      {
       "output_type": "stream",
       "stream": "stdout",
       "text": [
        "\n",
        "scraping: http://www.reddit.com/r/GamerGhazi/comments/2o5k7z/i_outed_a_couple_of_gators_in_an_rgames_thread/"
       ]
      },
      {
       "output_type": "stream",
       "stream": "stdout",
       "text": [
        "\n",
        "scraping: https://archive.today/Rhq9x"
       ]
      },
      {
       "output_type": "stream",
       "stream": "stdout",
       "text": [
        "\n",
        "scraping: http://bit.ly/1FOvYS2"
       ]
      },
      {
       "output_type": "stream",
       "stream": "stdout",
       "text": [
        "\n",
        "scraping: http://bit.ly/1yhk2cf"
       ]
      },
      {
       "output_type": "stream",
       "stream": "stdout",
       "text": [
        "\n",
        "scraping: http://www.fastcompany.com/3038861/my-creative-life/how-todays-toddler-and-tween-video-games-could-create-a-future-without-game?utm_source=mailchimp&utm_medium=email&utm_campaign=fast-company-daily-newsletter-b&position=4&partner=newsletter&campaign_date=11242014"
       ]
      },
      {
       "output_type": "stream",
       "stream": "stdout",
       "text": [
        "\n",
        "scraping: https://twitter.com/radicalbytes/status/540339671448825857"
       ]
      },
      {
       "output_type": "stream",
       "stream": "stdout",
       "text": [
        "\n",
        "scraping: http://bit.ly/1yhVSJN"
       ]
      },
      {
       "output_type": "stream",
       "stream": "stdout",
       "text": [
        "\n",
        "scraping: https://twitter.com/FeelMyHeel1/status/539208339386007553"
       ]
      },
      {
       "output_type": "stream",
       "stream": "stdout",
       "text": [
        "\n",
        "scraping: https://www.youtube.com/watch?v=AGp1h3b-VKw"
       ]
      },
      {
       "output_type": "stream",
       "stream": "stdout",
       "text": [
        "\n",
        "scraping: https://www.youtube.com/watch?v=ZVUyyHYkBHk"
       ]
      },
      {
       "output_type": "stream",
       "stream": "stdout",
       "text": [
        "\n",
        "scraping: http://bit.ly/1AgtOJw"
       ]
      },
      {
       "output_type": "stream",
       "stream": "stdout",
       "text": [
        "\n",
        "scraping: https://www.youtube.com/watch?v=U-otAJrtY-w"
       ]
      },
      {
       "output_type": "stream",
       "stream": "stdout",
       "text": [
        "\n",
        "scraping: https://archive.today/Xdlrz"
       ]
      },
      {
       "output_type": "stream",
       "stream": "stdout",
       "text": [
        "\n",
        "scraping: http://bit.ly/1BdkMjM"
       ]
      },
      {
       "output_type": "stream",
       "stream": "stdout",
       "text": [
        "\n",
        "scraping: http://www.justgiving.com/GGcharity/?utm_source=Twitter&utm_medium=fundraisingpage&utm_content=GGcharity&utm_campaign=pfp-tweet"
       ]
      },
      {
       "output_type": "stream",
       "stream": "stdout",
       "text": [
        "\n",
        "scraping: http://gamergate.trendolizer.com/2014/12/target-kmart-pull-sexually-violent-video-game-off-shelves.html"
       ]
      },
      {
       "output_type": "stream",
       "stream": "stdout",
       "text": [
        "\n",
        "scraping: http://tmblr.co/Zts6Ry1X85dbi"
       ]
      },
      {
       "output_type": "stream",
       "stream": "stdout",
       "text": [
        "\n",
        "scraping: http://gu.com/p/43n7v/stw"
       ]
      },
      {
       "output_type": "stream",
       "stream": "stdout",
       "text": [
        "\n",
        "scraping: http://kotakuinaction.newsin.tk/a/9d7abec0-6b8f-11e4-b70f-5f0b18b20376"
       ]
      },
      {
       "output_type": "stream",
       "stream": "stdout",
       "text": [
        "\n",
        "scraping: http://tinyurl.com/l7teee3"
       ]
      },
      {
       "output_type": "stream",
       "stream": "stdout",
       "text": [
        "\n",
        "scraping: http://bit.ly/1yhk43P"
       ]
      },
      {
       "output_type": "stream",
       "stream": "stdout",
       "text": [
        "\n",
        "scraping: http://bit.ly/1yhk3Np"
       ]
      },
      {
       "output_type": "stream",
       "stream": "stdout",
       "text": [
        "\n",
        "scraping: http://bit.ly/1FOvZ8k"
       ]
      },
      {
       "output_type": "stream",
       "stream": "stdout",
       "text": [
        "\n",
        "scraping: http://bit.ly/1FOvXgN"
       ]
      },
      {
       "output_type": "stream",
       "stream": "stdout",
       "text": [
        "\n",
        "scraping: http://bit.ly/1rU20Lu"
       ]
      },
      {
       "output_type": "stream",
       "stream": "stdout",
       "text": [
        "\n",
        "scraping: https://twitter.com/tapobu/status/54035196911461171"
       ]
      },
      {
       "output_type": "stream",
       "stream": "stdout",
       "text": [
        "\n",
        "scraping: https://www.change.org/p/target-withdraw-grand-theft-auto-5-this-sickening-game-encourages-players-to-commit-sexual-violence-and-kill-women"
       ]
      },
      {
       "output_type": "stream",
       "stream": "stdout",
       "text": [
        "\n",
        "scraping: https://www.indiegogo.com/projects/code-here"
       ]
      },
      {
       "output_type": "stream",
       "stream": "stdout",
       "text": [
        "\n",
        "scraping: https://www.change.org/p/target-target-australia-must-remove-all-super-mario-bros-games-from-sale/share?just_signed=true"
       ]
      },
      {
       "output_type": "stream",
       "stream": "stdout",
       "text": [
        "\n",
        "scraping: https://www.youtube.com/watch?v=9MxqSwzFy5w"
       ]
      },
      {
       "output_type": "stream",
       "stream": "stdout",
       "text": [
        "\n",
        "scraping: https://www.thunderclap.it/projects/19630-gamergate-2015"
       ]
      },
      {
       "output_type": "stream",
       "stream": "stdout",
       "text": [
        "\n",
        "scraping: http://tmblr.co/ZdZ8At1X8k1eD"
       ]
      },
      {
       "output_type": "stream",
       "stream": "stdout",
       "text": [
        "\n",
        "scraping: http://8chan.co/gamergate"
       ]
      },
      {
       "output_type": "stream",
       "stream": "stdout",
       "text": [
        "\n",
        "scraping: https://www.youtube.com/watch?v=sQhWEOaQ-Fg"
       ]
      },
      {
       "output_type": "stream",
       "stream": "stdout",
       "text": [
        "\n",
        "scraping: https://storify.com/Darth_Nikon/milo-yiannopoulos-pet-sociopath-edition"
       ]
      },
      {
       "output_type": "stream",
       "stream": "stdout",
       "text": [
        "\n",
        "scraping: http://i.imgur.com/kZ7YrG0.jpg"
       ]
      },
      {
       "output_type": "stream",
       "stream": "stdout",
       "text": [
        "\n",
        "scraping: https://www.youtube.com/watch?v=bduzUGJ4IgY"
       ]
      },
      {
       "output_type": "stream",
       "stream": "stdout",
       "text": [
        "\n",
        "scraping: https://medium.com/@zoequinnzel/lets-talk-about-ethics-in-games-journalism-6a2fd89069ae"
       ]
      },
      {
       "output_type": "stream",
       "stream": "stdout",
       "text": [
        "\n",
        "scraping: http://www.ricedigital.co.uk/waifu-wars-winner/"
       ]
      },
      {
       "output_type": "stream",
       "stream": "stdout",
       "text": [
        "\n",
        "scraping: http://www.huffingtonpost.com/lina-esco/free-the-nipple_b_4415859.html"
       ]
      },
      {
       "output_type": "stream",
       "stream": "stdout",
       "text": [
        "\n",
        "scraping: https://www.youtube.com/watch?v=mM_KYB_-zz8"
       ]
      },
      {
       "output_type": "stream",
       "stream": "stdout",
       "text": [
        "\n",
        "scraping: http://bit.ly/1B7XmMR"
       ]
      },
      {
       "output_type": "stream",
       "stream": "stdout",
       "text": [
        "\n",
        "scraping: http://ift.tt/1yPRbJW"
       ]
      },
      {
       "output_type": "stream",
       "stream": "stdout",
       "text": [
        "\n",
        "scraping: http://ift.tt/1vO2F0A"
       ]
      },
      {
       "output_type": "stream",
       "stream": "stdout",
       "text": [
        "\n",
        "scraping: http://i.imgur.com/dvirYja.png"
       ]
      },
      {
       "output_type": "stream",
       "stream": "stdout",
       "text": [
        "\n",
        "scraping: http://www.ign.com/articles/2014/12/04/kmart-is-also-pulling-gta-5-off-shelves-in-australia"
       ]
      },
      {
       "output_type": "stream",
       "stream": "stdout",
       "text": [
        "\n",
        "scraping: http://gamergate.trendolizer.com/2014/12/grand-theft-auto-5-kmart-joins-target-in-pulling-game-from-sale.html"
       ]
      },
      {
       "output_type": "stream",
       "stream": "stdout",
       "text": [
        "\n",
        "scraping: http://gamergate.trendolizer.com/2014/12/australia-just-took-a-radical-stand-against-misogynistic-video-games.html"
       ]
      },
      {
       "output_type": "stream",
       "stream": "stdout",
       "text": [
        "\n",
        "scraping: http://community.surpriseattackgames.com/particulars"
       ]
      },
      {
       "output_type": "stream",
       "stream": "stdout",
       "text": [
        "\n",
        "scraping: https://archive.today/GxTpD"
       ]
      },
      {
       "output_type": "stream",
       "stream": "stdout",
       "text": [
        "\n",
        "scraping: http://a.pomf.se/finrto.webm"
       ]
      },
      {
       "output_type": "stream",
       "stream": "stdout",
       "text": [
        "\n",
        "scraping: http://bit.ly/1FQkcbI"
       ]
      },
      {
       "output_type": "stream",
       "stream": "stdout",
       "text": [
        "\n",
        "scraping: http://bit.ly/1rU1Xzq"
       ]
      },
      {
       "output_type": "stream",
       "stream": "stdout",
       "text": [
        "\n",
        "scraping: http://bit.ly/1FQkcbs"
       ]
      },
      {
       "output_type": "stream",
       "stream": "stdout",
       "text": [
        "\n",
        "scraping: http://kotakuinaction.newsin.tk/a/18795030-6dd6-11e4-89a6-3dd1b9f066d8"
       ]
      },
      {
       "output_type": "stream",
       "stream": "stdout",
       "text": [
        "\n",
        "scraping: http://goo.gl/nR7NYV"
       ]
      },
      {
       "output_type": "stream",
       "stream": "stdout",
       "text": [
        "\n",
        "scraping: https://archive.today/ArmW3"
       ]
      },
      {
       "output_type": "stream",
       "stream": "stdout",
       "text": [
        "\n",
        "scraping: https://archive.today/buM5H"
       ]
      },
      {
       "output_type": "stream",
       "stream": "stdout",
       "text": [
        "\n",
        "scraping: http://store.steampowered.com/app/259470/"
       ]
      },
      {
       "output_type": "stream",
       "stream": "stdout",
       "text": [
        "\n",
        "scraping: https://au.news.yahoo.com/technology/a/25681376/grand-theft-auto-5-target-kmart-pull-game-off-shelves-over-sexual-violence-controversy/"
       ]
      },
      {
       "output_type": "stream",
       "stream": "stdout",
       "text": [
        "\n",
        "scraping: https://www.youtube.com/watch?v=u-8kmPJKGgM"
       ]
      },
      {
       "output_type": "stream",
       "stream": "stdout",
       "text": [
        "\n",
        "scraping: http://ln.is/www.theguardian.com/7m5Ka"
       ]
      },
      {
       "output_type": "stream",
       "stream": "stdout",
       "text": [
        "\n",
        "scraping: http://www.justgiving.com/GGcharity?utm_source=twitter&utm_medium=socspondesktop&utm_content=GGcharity&utm_campaign=post-sponsorship-donation-desktop"
       ]
      },
      {
       "output_type": "stream",
       "stream": "stdout",
       "text": [
        "\n",
        "scraping: http://tl.gd/n_1sit7n6"
       ]
      },
      {
       "output_type": "stream",
       "stream": "stdout",
       "text": [
        "\n",
        "scraping: https://twitter.com/tapobu/status/540296139208019969"
       ]
      },
      {
       "output_type": "stream",
       "stream": "stdout",
       "text": [
        "\n",
        "scraping: http://huff.to/1vGzsEE"
       ]
      },
      {
       "output_type": "stream",
       "stream": "stdout",
       "text": [
        "\n",
        "scraping: http://www.change.org/p/target-continue-to-sell-grand-theft-auto-5-in-australia?recruiter=61761915&utm_campaign=twitter_link_action_box&utm_medium=twitter&utm_source=share_petition"
       ]
      },
      {
       "output_type": "stream",
       "stream": "stdout",
       "text": [
        "\n",
        "scraping: http://twitter.com/Targetaus/status/540075306535497728"
       ]
      },
      {
       "output_type": "stream",
       "stream": "stdout",
       "text": [
        "\n",
        "scraping: http://bit.ly/1vhWbC3"
       ]
      },
      {
       "output_type": "stream",
       "stream": "stdout",
       "text": [
        "\n",
        "scraping: https://www.youtube.com/watch?v=JCSZ0gUfbMg"
       ]
      },
      {
       "output_type": "stream",
       "stream": "stdout",
       "text": [
        "\n",
        "scraping: http://fb.me/77Ekimil7"
       ]
      },
      {
       "output_type": "stream",
       "stream": "stdout",
       "text": [
        "\n",
        "scraping: http://tl.gd/n_1siu4s7"
       ]
      },
      {
       "output_type": "stream",
       "stream": "stdout",
       "text": [
        "\n",
        "scraping: http://gamerghazi.newsin.tk/a/76ab1c60-79e3-11e4-9a05-65cd26885ffe"
       ]
      },
      {
       "output_type": "stream",
       "stream": "stdout",
       "text": [
        "\n",
        "scraping: http://www.tomshardware.com/picturestory/382-9-the-50-greatest-female-characters-in-the-history-of-video-games.html"
       ]
      },
      {
       "output_type": "stream",
       "stream": "stdout",
       "text": [
        "\n",
        "scraping: http://www.theguardian.com/technology/2014/dec/03/zoe-quinn-gamergate-interview?CMP=twt_gu"
       ]
      },
      {
       "output_type": "stream",
       "stream": "stdout",
       "text": [
        "\n",
        "scraping: http://kotaku.com/another-stupid-australian-retailer-has-pulled-gta-v-1666495453"
       ]
      },
      {
       "output_type": "stream",
       "stream": "stdout",
       "text": [
        "\n",
        "scraping: http://goo.gl/d2YxmK"
       ]
      },
      {
       "output_type": "stream",
       "stream": "stdout",
       "text": [
        "\n",
        "scraping: http://www.reddit.com/r/KotakuInAction/comments/2n3ykp/email_received_from_igda/"
       ]
      },
      {
       "output_type": "stream",
       "stream": "stdout",
       "text": [
        "\n",
        "scraping: http://v.gd/ivmTvu"
       ]
      },
      {
       "output_type": "stream",
       "stream": "stdout",
       "text": [
        "\n",
        "scraping: http://bit.ly/11WMySp"
       ]
      },
      {
       "output_type": "stream",
       "stream": "stdout",
       "text": [
        "\n",
        "scraping: http://twitter.com/ZURATAMA1324/status/540345924162027520/photo/1"
       ]
      },
      {
       "output_type": "stream",
       "stream": "stdout",
       "text": [
        "\n",
        "scraping: https://archive.today/EJHOi"
       ]
      },
      {
       "output_type": "stream",
       "stream": "stdout",
       "text": [
        "\n",
        "scraping: https://www.youtube.com/watch?v=tzwGIHUCtjU"
       ]
      },
      {
       "output_type": "stream",
       "stream": "stdout",
       "text": [
        "\n",
        "scraping: https://www.youtube.com/watch?v=y3nYFSRIop4"
       ]
      },
      {
       "output_type": "stream",
       "stream": "stdout",
       "text": [
        "\n",
        "scraping: http://www.vulture.com/2014/11/chris-rock-frank-rich-in-conversation.html"
       ]
      },
      {
       "output_type": "stream",
       "stream": "stdout",
       "text": [
        "\n",
        "scraping: http://en.wikipedia.org/wiki/Philistinism"
       ]
      },
      {
       "output_type": "stream",
       "stream": "stdout",
       "text": [
        "\n",
        "scraping: https://twitter.com/fartchives/status/540218251121524736"
       ]
      },
      {
       "output_type": "stream",
       "stream": "stdout",
       "text": [
        "\n",
        "scraping: http://bit.ly/1yhVSJC"
       ]
      },
      {
       "output_type": "stream",
       "stream": "stdout",
       "text": [
        "\n",
        "scraping: https://www.youtube.com/watch?v=8HgGYzHRBbc"
       ]
      },
      {
       "output_type": "stream",
       "stream": "stdout",
       "text": [
        "\n",
        "scraping: http://topsy.com/analytics?q1=%23gamergate&q2=%23gamergate%20-%40TheQuinnspiracy%20-%40femfreq%20-%40freebsdgirl%20-%40Spacekatgal&via=Topsy"
       ]
      },
      {
       "output_type": "stream",
       "stream": "stdout",
       "text": [
        "\n",
        "scraping: http://mindlesszombiestudios.com/content/my-rant-about-feminism-today"
       ]
      },
      {
       "output_type": "stream",
       "stream": "stdout",
       "text": [
        "\n",
        "scraping: http://theralphretort.com/new-york-times-continues-prove-best-days-long-gone/"
       ]
      },
      {
       "output_type": "stream",
       "stream": "stdout",
       "text": [
        "\n",
        "scraping: https://www.youtube.com/watch?v=vEpuTTC_qOM"
       ]
      },
      {
       "output_type": "stream",
       "stream": "stdout",
       "text": [
        "\n",
        "scraping: https://www.reddit.com/r/GamerGhazi/comments/2o7nku/whats_the_best_progressive_gaming_subreddit_to/cmkhztc"
       ]
      },
      {
       "output_type": "stream",
       "stream": "stdout",
       "text": [
        "\n",
        "scraping: https://np.reddit.com/r/HailCorporate/comments/2o659u/shout_out_to_rkotakuinaction_a_sub_that_shares/"
       ]
      },
      {
       "output_type": "stream",
       "stream": "stdout",
       "text": [
        "\n",
        "scraping: http://nichegamer.net/2014/12/xbro-interview-igda-gamergate-blacklist-edition/"
       ]
      },
      {
       "output_type": "stream",
       "stream": "stdout",
       "text": [
        "\n",
        "scraping: http://www.reddit.com/r/Games/comments/2o5404/gta_v_removed_from_target_stores_in_australia/"
       ]
      },
      {
       "output_type": "stream",
       "stream": "stdout",
       "text": [
        "\n",
        "scraping: http://attackongaming.com/gaming-talk/stardock-ceo-brad-wardell-once-again-targeted-by-gaming-media/"
       ]
      },
      {
       "output_type": "stream",
       "stream": "stdout",
       "text": [
        "\n",
        "scraping: http://ift.tt/1yPRbJW"
       ]
      },
      {
       "output_type": "stream",
       "stream": "stdout",
       "text": [
        "\n",
        "scraping: http://ift.tt/1tGS9Uj"
       ]
      },
      {
       "output_type": "stream",
       "stream": "stdout",
       "text": [
        "\n",
        "scraping: http://www.reddit.com/r/KotakuInAction/comments/2o7yhm/today_in_rgames/"
       ]
      },
      {
       "output_type": "stream",
       "stream": "stdout",
       "text": [
        "\n",
        "scraping: http://www.theguardian.com/technology/2014/dec/03/australian-store-bans-grand-theft-auto-5-violence-against-women"
       ]
      },
      {
       "output_type": "stream",
       "stream": "stdout",
       "text": [
        "\n",
        "scraping: http://tl.gd/n_1siu462"
       ]
      },
      {
       "output_type": "stream",
       "stream": "stdout",
       "text": [
        "\n",
        "scraping: http://bit.ly/1FOqnuM"
       ]
      },
      {
       "output_type": "stream",
       "stream": "stdout",
       "text": [
        "\n",
        "scraping: http://bit.ly/1FOqlDh"
       ]
      },
      {
       "output_type": "stream",
       "stream": "stdout",
       "text": [
        "\n",
        "scraping: https://archive.today/PxX7c"
       ]
      },
      {
       "output_type": "stream",
       "stream": "stdout",
       "text": [
        "\n",
        "scraping: http://ln.is/www.abc.net.au/news/8F2dM"
       ]
      },
      {
       "output_type": "stream",
       "stream": "stdout",
       "text": [
        "\n",
        "scraping: https://www.change.org/p/target-stop-the-censorship-of-videogames-due-to-misrepresentation"
       ]
      },
      {
       "output_type": "stream",
       "stream": "stdout",
       "text": [
        "\n",
        "scraping: http://www.reddit.com/r/KotakuInAction/comments/2nyp2b/bgotd_1212014_samsung_rock_paper_shotgun/"
       ]
      },
      {
       "output_type": "stream",
       "stream": "stdout",
       "text": [
        "\n",
        "scraping: http://qqsm.bavaweb.com/pjvi8.html?group=tw"
       ]
      },
      {
       "output_type": "stream",
       "stream": "stdout",
       "text": [
        "\n",
        "scraping: https://www.youtube.com/watch?v=tjgbT9PgSYA&list=UUfcz4Adua63Yf2X11yUUf6A"
       ]
      },
      {
       "output_type": "stream",
       "stream": "stdout",
       "text": [
        "\n",
        "scraping: http://tinyurl.com/ooxms6u"
       ]
      },
      {
       "output_type": "stream",
       "stream": "stdout",
       "text": [
        "\n",
        "scraping: http://bit.ly/12wNe1L"
       ]
      },
      {
       "output_type": "stream",
       "stream": "stdout",
       "text": [
        "\n",
        "scraping: http://blogjob.com/oneangrygamer/2014/11/gamergate-your-check-from-a-publisher-is-in-the-mail-states-gjp-thread/"
       ]
      },
      {
       "output_type": "stream",
       "stream": "stdout",
       "text": [
        "\n",
        "scraping: http://cskox.bavaweb.com/dknkrn8.html?group=tw"
       ]
      },
      {
       "output_type": "stream",
       "stream": "stdout",
       "text": [
        "\n",
        "scraping: https://twitter.com/radicalbytes/status/540336813148106753"
       ]
      },
      {
       "output_type": "stream",
       "stream": "stdout",
       "text": [
        "\n",
        "scraping: https://twitter.com/action_pts/status/540336735515721728"
       ]
      },
      {
       "output_type": "stream",
       "stream": "stdout",
       "text": [
        "\n",
        "scraping: http://ift.tt/1yPRbJW"
       ]
      },
      {
       "output_type": "stream",
       "stream": "stdout",
       "text": [
        "\n",
        "scraping: http://ift.tt/1vOOLtM"
       ]
      },
      {
       "output_type": "stream",
       "stream": "stdout",
       "text": [
        "\n",
        "scraping: http://ift.tt/10BbOO3"
       ]
      },
      {
       "output_type": "stream",
       "stream": "stdout",
       "text": [
        "\n",
        "scraping: http://ift.tt/1yniITT"
       ]
      },
      {
       "output_type": "stream",
       "stream": "stdout",
       "text": [
        "\n",
        "scraping: http://fb.me/3y8tLMKQX"
       ]
      },
      {
       "output_type": "stream",
       "stream": "stdout",
       "text": [
        "\n",
        "scraping: https://twitter.com/battlefieldtrip/status/540316218066862081"
       ]
      },
      {
       "output_type": "stream",
       "stream": "stdout",
       "text": [
        "\n",
        "scraping: https://www.reddit.com/r/KotakuInAction/comments/2o5wr2/microsoft_are_over_60_days_late_with_q3_payments/"
       ]
      },
      {
       "output_type": "stream",
       "stream": "stdout",
       "text": [
        "\n",
        "scraping: http://www.reddit.com/r/KotakuInAction/comments/2o6e3i/way_to_many_people_talking_abut_sjwautoblocker_on/"
       ]
      },
      {
       "output_type": "stream",
       "stream": "stdout",
       "text": [
        "\n",
        "scraping: http://ift.tt/10BbOO3"
       ]
      },
      {
       "output_type": "stream",
       "stream": "stdout",
       "text": [
        "\n",
        "scraping: http://ift.tt/1yniLiz"
       ]
      },
      {
       "output_type": "stream",
       "stream": "stdout",
       "text": [
        "\n",
        "scraping: http://bit.ly/1zSFHEL"
       ]
      },
      {
       "output_type": "stream",
       "stream": "stdout",
       "text": [
        "\n",
        "scraping: http://bit.ly/12wNdLm"
       ]
      },
      {
       "output_type": "stream",
       "stream": "stdout",
       "text": [
        "\n",
        "scraping: http://bit.ly/12wNduT"
       ]
      },
      {
       "output_type": "stream",
       "stream": "stdout",
       "text": [
        "\n",
        "scraping: http://twitter.com/KissyKaede/status/540335609689407489/photo/1"
       ]
      },
      {
       "output_type": "stream",
       "stream": "stdout",
       "text": [
        "\n",
        "scraping: http://gamerghazi.newsin.tk/a/d580f1d0-7b5d-11e4-acf9-210860dbcd62"
       ]
      },
      {
       "output_type": "stream",
       "stream": "stdout",
       "text": [
        "\n",
        "scraping: http://gamergate.trendolizer.com/2014/12/behold-the-20th-anniversary-edition-playstation-4.html"
       ]
      },
      {
       "output_type": "stream",
       "stream": "stdout",
       "text": [
        "\n",
        "scraping: http://twitter.com/fortunatelyacat/status/540338056490807297/photo/1"
       ]
      },
      {
       "output_type": "stream",
       "stream": "stdout",
       "text": [
        "\n",
        "scraping: http://www.geekyfreaky.com/2014/11/08/youre-not-making-feminism-better-youre-making-nerd-culture-worse/"
       ]
      },
      {
       "output_type": "stream",
       "stream": "stdout",
       "text": [
        "\n",
        "scraping: http://twitter.com/TheRealJackBoss/status/540337642080980993/photo/1"
       ]
      },
      {
       "output_type": "stream",
       "stream": "stdout",
       "text": [
        "\n",
        "scraping: http://kotaku.com/behold-the-20th-anniversary-edition-playstation-4-1666061818"
       ]
      },
      {
       "output_type": "stream",
       "stream": "stdout",
       "text": [
        "\n",
        "scraping: http://innuendostudios.tumblr.com/post/104288647532/why-the-escapist-wont-talk-about-gamergate"
       ]
      },
      {
       "output_type": "stream",
       "stream": "stdout",
       "text": [
        "\n",
        "scraping: http://pastebin.com/EaaBFuiQ"
       ]
      },
      {
       "output_type": "stream",
       "stream": "stdout",
       "text": [
        "\n",
        "scraping: https://archive.today/9DBSV"
       ]
      },
      {
       "output_type": "stream",
       "stream": "stdout",
       "text": [
        "\n",
        "scraping: https://archive.today/B6cf0"
       ]
      },
      {
       "output_type": "stream",
       "stream": "stdout",
       "text": [
        "\n",
        "scraping: http://blogjob.com/oneangrygamer/2014/12/indie-dev-reneges-on-plan-to-withhold-steam-keys-from-gamergate-supporters/"
       ]
      },
      {
       "output_type": "stream",
       "stream": "stdout",
       "text": [
        "\n",
        "scraping: http://po.st/O1OYJB"
       ]
      },
      {
       "output_type": "stream",
       "stream": "stdout",
       "text": [
        "\n",
        "scraping: https://archive.today/QR3ei"
       ]
      },
      {
       "output_type": "stream",
       "stream": "stdout",
       "text": [
        "\n",
        "scraping: https://archive.today/rncCz"
       ]
      },
      {
       "output_type": "stream",
       "stream": "stdout",
       "text": [
        "\n",
        "scraping: https://www.youtube.com/watch?v=DO8_0Herftk"
       ]
      },
      {
       "output_type": "stream",
       "stream": "stdout",
       "text": [
        "\n",
        "scraping: http://pastebin.com/aHEVuLMd"
       ]
      },
      {
       "output_type": "stream",
       "stream": "stdout",
       "text": [
        "\n",
        "scraping: http://bit.ly/1yhVT09"
       ]
      },
      {
       "output_type": "stream",
       "stream": "stdout",
       "text": [
        "\n",
        "scraping: http://bit.ly/1I1W6wC"
       ]
      },
      {
       "output_type": "stream",
       "stream": "stdout",
       "text": [
        "\n",
        "scraping: http://www.rawstory.com/rs/2014/12/zoe-quinn-speaks-out-all-gamergate-has-done-is-ruin-peoples-lives/"
       ]
      },
      {
       "output_type": "stream",
       "stream": "stdout",
       "text": [
        "\n",
        "scraping: http://another-castle.com/forums/forum/gaming/news/15597-target-removes-gta-v-from-shelves-due-to-a-petition"
       ]
      },
      {
       "output_type": "stream",
       "stream": "stdout",
       "text": [
        "\n",
        "scraping: http://topsy.com/analytics?q1=%23gamergate&q2=%23gamergate%20-%40barryallen%20-%40shugknight%20-%40rainbows%20-%40moonbeams&via=Topsy"
       ]
      },
      {
       "output_type": "stream",
       "stream": "stdout",
       "text": [
        "\n",
        "scraping: http://twitter.com/Isane_14/status/540333991103307777/photo/1"
       ]
      },
      {
       "output_type": "stream",
       "stream": "stdout",
       "text": [
        "\n",
        "scraping: http://qprpgc.bavaweb.com/up8.html?group=tw"
       ]
      },
      {
       "output_type": "stream",
       "stream": "stdout",
       "text": [
        "\n",
        "scraping: http://ift.tt/1yPRbJW"
       ]
      },
      {
       "output_type": "stream",
       "stream": "stdout",
       "text": [
        "\n",
        "scraping: http://ift.tt/1Bff9BH"
       ]
      },
      {
       "output_type": "stream",
       "stream": "stdout",
       "text": [
        "\n",
        "scraping: http://kotakuinaction.newsin.tk/a/3bf78b60-7a62-11e4-9e31-018c6d89471f"
       ]
      },
      {
       "output_type": "stream",
       "stream": "stdout",
       "text": [
        "\n",
        "scraping: https://archive.today/Ngprp"
       ]
      },
      {
       "output_type": "stream",
       "stream": "stdout",
       "text": [
        "\n",
        "scraping: http://www.quinnspiracy.com/526-2/"
       ]
      },
      {
       "output_type": "stream",
       "stream": "stdout",
       "text": [
        "\n",
        "scraping: http://boingboing.net/2014/12/02/25-invisible-benefits-of-gamin.html"
       ]
      },
      {
       "output_type": "stream",
       "stream": "stdout",
       "text": [
        "\n",
        "scraping: https://permrec.com/free100"
       ]
      },
      {
       "output_type": "stream",
       "stream": "stdout",
       "text": [
        "\n",
        "scraping: http://dlvr.it/7jtLXM"
       ]
      },
      {
       "output_type": "stream",
       "stream": "stdout",
       "text": [
        "\n",
        "scraping: http://gamerghazi.newsin.tk/a/d5474430-7b5d-11e4-acf9-210860dbcd62"
       ]
      },
      {
       "output_type": "stream",
       "stream": "stdout",
       "text": [
        "\n",
        "scraping: https://medium.com/@cainejw/a-welcoming-response-on-quinns-joining-of-gamergate-4fb20f7c7e91"
       ]
      },
      {
       "output_type": "stream",
       "stream": "stdout",
       "text": [
        "\n",
        "scraping: http://fb.me/1r8VQ9Tx6"
       ]
      },
      {
       "output_type": "stream",
       "stream": "stdout",
       "text": [
        "\n",
        "scraping: https://www.youtube.com/watch?v=7hlRUDCj-XY"
       ]
      },
      {
       "output_type": "stream",
       "stream": "stdout",
       "text": [
        "\n",
        "scraping: https://www.youtube.com/watch?v=dD-zQKvnl04"
       ]
      },
      {
       "output_type": "stream",
       "stream": "stdout",
       "text": [
        "\n",
        "scraping: http://steamcommunity.com/groups/GamerGaters"
       ]
      },
      {
       "output_type": "stream",
       "stream": "stdout",
       "text": [
        "\n",
        "scraping: https://www.youtube.com/watch?v=kHwgaiwlO3A&list=UUkop4F44-FV6N92-PNAYzxA"
       ]
      },
      {
       "output_type": "stream",
       "stream": "stdout",
       "text": [
        "\n",
        "scraping: http://www.reaxxion.com/2572/could-the-new-star-wars-film-provoke-a-gamergate-style-reaction"
       ]
      },
      {
       "output_type": "stream",
       "stream": "stdout",
       "text": [
        "\n",
        "scraping: http://startbutton.net"
       ]
      },
      {
       "output_type": "stream",
       "stream": "stdout",
       "text": [
        "\n",
        "scraping: http://drybones.me/blog/?p=28"
       ]
      },
      {
       "output_type": "stream",
       "stream": "stdout",
       "text": [
        "\n",
        "scraping: http://knowyourmeme.com/photos/841842-gamergate"
       ]
      },
      {
       "output_type": "stream",
       "stream": "stdout",
       "text": [
        "\n",
        "scraping: http://tl.gd/n_1siu3nn"
       ]
      },
      {
       "output_type": "stream",
       "stream": "stdout",
       "text": [
        "\n",
        "scraping: http://twitter.com/KachoArinoDesu/status/540330914191253506/photo/1"
       ]
      },
      {
       "output_type": "stream",
       "stream": "stdout",
       "text": [
        "\n",
        "scraping: https://storify.com/davidgaliel/a-prominent-spokeswoman-for-women-in-the-game-indu"
       ]
      },
      {
       "output_type": "stream",
       "stream": "stdout",
       "text": [
        "\n",
        "scraping: http://bit.ly/1yhVT0f"
       ]
      },
      {
       "output_type": "stream",
       "stream": "stdout",
       "text": [
        "\n",
        "scraping: http://bit.ly/1I1W47V"
       ]
      },
      {
       "output_type": "stream",
       "stream": "stdout",
       "text": [
        "\n",
        "scraping: http://bit.ly/1I1W6gb"
       ]
      },
      {
       "output_type": "stream",
       "stream": "stdout",
       "text": [
        "\n",
        "scraping: http://bit.ly/1I1W6g5"
       ]
      },
      {
       "output_type": "stream",
       "stream": "stdout",
       "text": [
        "\n",
        "scraping: http://bit.ly/1I1W3Re"
       ]
      },
      {
       "output_type": "stream",
       "stream": "stdout",
       "text": [
        "\n",
        "scraping: http://bit.ly/1I1W5ZB"
       ]
      },
      {
       "output_type": "stream",
       "stream": "stdout",
       "text": [
        "\n",
        "scraping: http://bit.ly/1I1W3AW"
       ]
      },
      {
       "output_type": "stream",
       "stream": "stdout",
       "text": [
        "\n",
        "scraping: http://bit.ly/1I1W5Zx"
       ]
      },
      {
       "output_type": "stream",
       "stream": "stdout",
       "text": [
        "\n",
        "scraping: http://bit.ly/1yhVQl3"
       ]
      },
      {
       "output_type": "stream",
       "stream": "stdout",
       "text": [
        "\n",
        "scraping: http://bit.ly/1I1W3kv"
       ]
      },
      {
       "output_type": "stream",
       "stream": "stdout",
       "text": [
        "\n",
        "scraping: http://bit.ly/1yhVQkV"
       ]
      },
      {
       "output_type": "stream",
       "stream": "stdout",
       "text": [
        "\n",
        "scraping: http://bit.ly/1yhVSti"
       ]
      },
      {
       "output_type": "stream",
       "stream": "stdout",
       "text": [
        "\n",
        "scraping: http://wiki.gamergate.me/index.php?title=Timeline"
       ]
      },
      {
       "output_type": "stream",
       "stream": "stdout",
       "text": [
        "\n",
        "scraping: https://archive.today/r16t0"
       ]
      },
      {
       "output_type": "stream",
       "stream": "stdout",
       "text": [
        "\n",
        "scraping: http://www.theguardian.com/technology/2014/dec/03/australian-store-bans-grand-theft-auto-5-violence-against-women?CMP=fb_gu"
       ]
      },
      {
       "output_type": "stream",
       "stream": "stdout",
       "text": [
        "\n",
        "scraping: http://po.st/4aqedq"
       ]
      },
      {
       "output_type": "stream",
       "stream": "stdout",
       "text": [
        "\n",
        "scraping: https://twitter.com/thewtfmagazine/status/540328034910605313"
       ]
      },
      {
       "output_type": "stream",
       "stream": "stdout",
       "text": [
        "\n",
        "scraping: http://www.breitbart.com/Breitbart-London/2014/09/21/GameJournoPros-we-reveal-every-journalist-on-the-list"
       ]
      },
      {
       "output_type": "stream",
       "stream": "stdout",
       "text": [
        "\n",
        "scraping: https://www.youtube.com/watch?v=sNJmfuEWR8w"
       ]
      },
      {
       "output_type": "stream",
       "stream": "stdout",
       "text": [
        "\n",
        "scraping: https://archive.today/acybA"
       ]
      },
      {
       "output_type": "stream",
       "stream": "stdout",
       "text": [
        "\n",
        "scraping: http://thndr.it/ZCOhLd"
       ]
      },
      {
       "output_type": "stream",
       "stream": "stdout",
       "text": [
        "\n",
        "scraping: https://www.youtube.com/watch?v=7CwKplZn11A"
       ]
      },
      {
       "output_type": "stream",
       "stream": "stdout",
       "text": [
        "\n",
        "scraping: http://miax.bavaweb.com/uwxzke8.html?group=tw"
       ]
      },
      {
       "output_type": "stream",
       "stream": "stdout",
       "text": [
        "\n",
        "scraping: http://www.reddit.com/r/MensRights/duplicates/2nmt4w/gamergate_ftc_addressing_website_endorsements/"
       ]
      },
      {
       "output_type": "stream",
       "stream": "stdout",
       "text": [
        "\n",
        "scraping: https://www.youtube.com/watch?v=ljIMMCQyexA#t=556"
       ]
      },
      {
       "output_type": "stream",
       "stream": "stdout",
       "text": [
        "\n",
        "scraping: http://apgnation.com"
       ]
      },
      {
       "output_type": "stream",
       "stream": "stdout",
       "text": [
        "\n",
        "scraping: http://bit.ly/1E6RoJ2"
       ]
      },
      {
       "output_type": "stream",
       "stream": "stdout",
       "text": [
        "\n",
        "scraping: https://archive.today/ySS4O"
       ]
      },
      {
       "output_type": "stream",
       "stream": "stdout",
       "text": [
        "\n",
        "scraping: https://twitter.com/A_PLANT_/status/538578143834304512"
       ]
      },
      {
       "output_type": "stream",
       "stream": "stdout",
       "text": [
        "\n",
        "scraping: http://www.reddit.com/r/KotakuInAction/comments/2o2qfs/new_conflitc_of_interests_involving_gone_home/"
       ]
      },
      {
       "output_type": "stream",
       "stream": "stdout",
       "text": [
        "\n",
        "scraping: http://pastebin.com/3tBitpjm"
       ]
      },
      {
       "output_type": "stream",
       "stream": "stdout",
       "text": [
        "\n",
        "scraping: http://fg-2.com/2014/12/02/interview-with-vince-desi-of-running-with-scissors/"
       ]
      },
      {
       "output_type": "stream",
       "stream": "stdout",
       "text": [
        "\n",
        "scraping: http://digitalconfederacy.com/292-gamergate-interviews-daddy-warpig"
       ]
      },
      {
       "output_type": "stream",
       "stream": "stdout",
       "text": [
        "\n",
        "scraping: https://www.youtube.com/watch?v=HnSxfnGIMuA"
       ]
      },
      {
       "output_type": "stream",
       "stream": "stdout",
       "text": [
        "\n",
        "scraping: http://bit.ly/1sZWth7"
       ]
      },
      {
       "output_type": "stream",
       "stream": "stdout",
       "text": [
        "\n",
        "scraping: http://web.archive.org/web/20131217101714/http://techsavvyglobal.com/mock-reviews-video-games-software-hardware/"
       ]
      },
      {
       "output_type": "stream",
       "stream": "stdout",
       "text": [
        "\n",
        "scraping: https://www.youtube.com/watch?v=qcMZG84gE4w"
       ]
      },
      {
       "output_type": "stream",
       "stream": "stdout",
       "text": [
        "\n",
        "scraping: http://vr.bavaweb.com/gedg8.html?group=tw"
       ]
      },
      {
       "output_type": "stream",
       "stream": "stdout",
       "text": [
        "\n",
        "scraping: http://gamergate.trendolizer.com/2014/12/target-australia-pulls-grand-theft-auto-v-from-shelves.html"
       ]
      },
      {
       "output_type": "stream",
       "stream": "stdout",
       "text": [
        "\n",
        "scraping: https://www.youtube.com/watch?v=BVAGRaogazI&list=UUFvc7oDzPHp4Uhm1sgxVLNg"
       ]
      },
      {
       "output_type": "stream",
       "stream": "stdout",
       "text": [
        "\n",
        "scraping: http://time.com/85933/why-ill-never-apologize-for-my-white-male-privilege/"
       ]
      },
      {
       "output_type": "stream",
       "stream": "stdout",
       "text": [
        "\n",
        "scraping: http://igg.me/at/codehere/x/3590458"
       ]
      },
      {
       "output_type": "stream",
       "stream": "stdout",
       "text": [
        "\n",
        "scraping: http://lnkd.in/bVWTwFk"
       ]
      },
      {
       "output_type": "stream",
       "stream": "stdout",
       "text": [
        "\n",
        "scraping: https://twitter.com/NkDragunov/status/540322052058906625"
       ]
      },
      {
       "output_type": "stream",
       "stream": "stdout",
       "text": [
        "\n",
        "scraping: http://gamergate.me/2014/12/struggle-of-the-pen/"
       ]
      },
      {
       "output_type": "stream",
       "stream": "stdout",
       "text": [
        "\n",
        "scraping: http://muslimmatters.org/2014/11/13/top-five-misquotations-of-the-quran/"
       ]
      },
      {
       "output_type": "stream",
       "stream": "stdout",
       "text": [
        "\n",
        "scraping: https://medium.com/@alexandraerin/gamergate-actually-about-ethics-after-all-99e7f14ea690?source=tw-lo_51a6bad807d-1417657786720"
       ]
      },
      {
       "output_type": "stream",
       "stream": "stdout",
       "text": [
        "\n",
        "scraping: http://twitter.com/IzzyBak21/status/540214017303011329/photo/1"
       ]
      },
      {
       "output_type": "stream",
       "stream": "stdout",
       "text": [
        "\n",
        "scraping: https://www.youtube.com/watch?v=kHwgaiwlO3A&list=PLNQ-ok-jMOgO39xTjD3BF4XtB5xiskI40"
       ]
      },
      {
       "output_type": "stream",
       "stream": "stdout",
       "text": [
        "\n",
        "scraping: https://archive.today/u5dR7"
       ]
      },
      {
       "output_type": "stream",
       "stream": "stdout",
       "text": [
        "\n",
        "scraping: http://www.reddit.com/r/KotakuInAction/comments/2o7ngh/possible_conflict_of_interest_involving_ben/"
       ]
      },
      {
       "output_type": "stream",
       "stream": "stdout",
       "text": [
        "\n",
        "scraping: http://www.rawstory.com/rs/2014/12/zoe-quinn-speaks-out-all-gamergate-has-done-is-ruin-peoples-lives/#.VH-8nPwXygw.twitter"
       ]
      },
      {
       "output_type": "stream",
       "stream": "stdout",
       "text": [
        "\n",
        "scraping: https://plus.google.com/+GamergateCaGroup/posts"
       ]
      },
      {
       "output_type": "stream",
       "stream": "stdout",
       "text": [
        "\n",
        "scraping: http://superchorgers.tumblr.com/post/103944972536/more-indie-nepotism-in-games-journalism"
       ]
      },
      {
       "output_type": "stream",
       "stream": "stdout",
       "text": [
        "\n",
        "scraping: http://gamerghazi.newsin.tk/a/3a29c6d0-6546-11e4-a870-4de0437a9b06"
       ]
      },
      {
       "output_type": "stream",
       "stream": "stdout",
       "text": [
        "\n",
        "scraping: http://www.reddit.com/r/KotakuInAction/comments/2nb3hw/important_update_the_ftc_heard_our_complaints/"
       ]
      },
      {
       "output_type": "stream",
       "stream": "stdout",
       "text": [
        "\n",
        "scraping: https://twitter.com/uurow1/status/540319412654706688"
       ]
      },
      {
       "output_type": "stream",
       "stream": "stdout",
       "text": [
        "\n",
        "scraping: https://twitter.com/aRedMosquito/status/540311677322153984"
       ]
      },
      {
       "output_type": "stream",
       "stream": "stdout",
       "text": [
        "\n",
        "scraping: http://techsavvyglobal.com/wp-content/uploads/2012/02/Game-Consultants-and-Video-Game-Consulting.pdf"
       ]
      },
      {
       "output_type": "stream",
       "stream": "stdout",
       "text": [
        "\n",
        "scraping: http://bit.ly/1sZWaTz"
       ]
      },
      {
       "output_type": "stream",
       "stream": "stdout",
       "text": [
        "\n",
        "scraping: http://twitter.com/Jasperge107/status/540317285412786177/photo/1"
       ]
      },
      {
       "output_type": "stream",
       "stream": "stdout",
       "text": [
        "\n",
        "scraping: https://twitter.com/joecndapuckats/status/540318484342009857"
       ]
      },
      {
       "output_type": "stream",
       "stream": "stdout",
       "text": [
        "\n",
        "scraping: http://np.reddit.com/r/KotakuInAction/comments/2o7pdk/is_it_fair_to_assume_that_a_good_number_antigg/"
       ]
      },
      {
       "output_type": "stream",
       "stream": "stdout",
       "text": [
        "\n",
        "scraping: https://www.youtube.com/watch?v=3MteSlpxCpo"
       ]
      },
      {
       "output_type": "stream",
       "stream": "stdout",
       "text": [
        "\n",
        "scraping: https://twitter.com/HotdropOClock/status/540318579451625473"
       ]
      },
      {
       "output_type": "stream",
       "stream": "stdout",
       "text": [
        "\n",
        "scraping: http://www.gamevox.com/QHQX-4AD"
       ]
      },
      {
       "output_type": "stream",
       "stream": "stdout",
       "text": [
        "\n",
        "scraping: http://www.change.org/p/australian-government-protect-the-artistic-freedom-of-video-game-developers?recruiter=191361026&utm_campaign=twitter_link_action_box&utm_medium=twitter&utm_source=share_petition"
       ]
      },
      {
       "output_type": "stream",
       "stream": "stdout",
       "text": [
        "\n",
        "scraping: https://www.youtube.com/watch?v=VoXGG5byktw"
       ]
      },
      {
       "output_type": "stream",
       "stream": "stdout",
       "text": [
        "\n",
        "scraping: http://gamerghazi.newsin.tk/a/0b5efdd0-6e19-11e4-8fa2-c37338cdec1f"
       ]
      },
      {
       "output_type": "stream",
       "stream": "stdout",
       "text": [
        "\n",
        "scraping: https://www.youtube.com/watch?v=eh7Zt1HOUQE"
       ]
      },
      {
       "output_type": "stream",
       "stream": "stdout",
       "text": [
        "\n",
        "scraping: http://irzym.bavaweb.com/hny8.html?group=tw"
       ]
      },
      {
       "output_type": "stream",
       "stream": "stdout",
       "text": [
        "\n",
        "scraping: https://archive.today/Gqv64"
       ]
      },
      {
       "output_type": "stream",
       "stream": "stdout",
       "text": [
        "\n",
        "scraping: http://tmblr.co/Z5xyWy1X86IU2"
       ]
      },
      {
       "output_type": "stream",
       "stream": "stdout",
       "text": [
        "\n",
        "scraping: https://archive.today/E4YEV"
       ]
      },
      {
       "output_type": "stream",
       "stream": "stdout",
       "text": [
        "\n",
        "scraping: http://www.reddit.com/r/KotakuInAction/comments/2o14y3/journalism_school/"
       ]
      },
      {
       "output_type": "stream",
       "stream": "stdout",
       "text": [
        "\n",
        "scraping: https://twitter.com/UsagiOjo"
       ]
      },
      {
       "output_type": "stream",
       "stream": "stdout",
       "text": [
        "\n",
        "scraping: http://www.richardbradley.net/shotsinthedark/2014/11/24/is-the-rolling-stone-story-true/"
       ]
      },
      {
       "output_type": "stream",
       "stream": "stdout",
       "text": [
        "\n",
        "scraping: https://www.youtube.com/watch?v=jSlFRrh91KE"
       ]
      },
      {
       "output_type": "stream",
       "stream": "stdout",
       "text": [
        "\n",
        "scraping: https://www.youtube.com/watch?v=GhuvaKLJbNw"
       ]
      },
      {
       "output_type": "stream",
       "stream": "stdout",
       "text": [
        "\n",
        "scraping: https://archive.today/NVAG4"
       ]
      },
      {
       "output_type": "stream",
       "stream": "stdout",
       "text": [
        "\n",
        "scraping: http://sebtoincblogs.blogspot.com/2014/12/sjws-are-effectively-saying-females-are.html"
       ]
      },
      {
       "output_type": "stream",
       "stream": "stdout",
       "text": [
        "\n",
        "scraping: http://tl.gd/n_1siu2n7"
       ]
      },
      {
       "output_type": "stream",
       "stream": "stdout",
       "text": [
        "\n",
        "scraping: https://www.youtube.com/watch?v=QdM3qsCNQYY"
       ]
      },
      {
       "output_type": "stream",
       "stream": "stdout",
       "text": [
        "\n",
        "scraping: http://v.gd/NZSNa6"
       ]
      },
      {
       "output_type": "stream",
       "stream": "stdout",
       "text": [
        "\n",
        "scraping: http://goo.gl/4a8zCU"
       ]
      },
      {
       "output_type": "stream",
       "stream": "stdout",
       "text": [
        "\n",
        "scraping: https://archive.today/jnmuz"
       ]
      },
      {
       "output_type": "stream",
       "stream": "stdout",
       "text": [
        "\n",
        "scraping: http://bit.ly/1pVPGcu"
       ]
      },
      {
       "output_type": "stream",
       "stream": "stdout",
       "text": [
        "\n",
        "scraping: https://archive.today/Gqo9M"
       ]
      },
      {
       "output_type": "stream",
       "stream": "stdout",
       "text": [
        "\n",
        "scraping: http://i.imgur.com/FV3WXZN.png"
       ]
      },
      {
       "output_type": "stream",
       "stream": "stdout",
       "text": [
        "\n",
        "scraping: https://www.youtube.com/watch?v=hn1VxaMEjRU"
       ]
      },
      {
       "output_type": "stream",
       "stream": "stdout",
       "text": [
        "\n",
        "scraping: http://gamergate.me/2014/11/data-study-on-harassment/"
       ]
      },
      {
       "output_type": "stream",
       "stream": "stdout",
       "text": [
        "\n",
        "scraping: http://www.reddit.com/r/GamerGhazi/comments/2o7err/bro_red_pill_has_another_video_with_an_anonymous/cmkgtgv"
       ]
      },
      {
       "output_type": "stream",
       "stream": "stdout",
       "text": [
        "\n",
        "scraping: http://www.icyousee.org/titanic.html"
       ]
      },
      {
       "output_type": "stream",
       "stream": "stdout",
       "text": [
        "\n",
        "scraping: http://twitter.com/ThatSabineGirl/status/540312515637706752/photo/1"
       ]
      },
      {
       "output_type": "stream",
       "stream": "stdout",
       "text": [
        "\n",
        "scraping: https://www.change.org/p/target-stop-the-censorship-of-videogames-due-to-misrepresentation?recruiter=191363121&utm_source=share_petition&utm_medium=twitter&utm_campaign=share_twitter_responsive"
       ]
      },
      {
       "output_type": "stream",
       "stream": "stdout",
       "text": [
        "\n",
        "scraping: http://www.target.com.au/medias/marketing/corporate/PDF/media-release/GTA-Media-Release-v2.pdf"
       ]
      },
      {
       "output_type": "stream",
       "stream": "stdout",
       "text": [
        "\n",
        "scraping: https://www.youtube.com/watch?v=-hVuv7mDNqM"
       ]
      },
      {
       "output_type": "stream",
       "stream": "stdout",
       "text": [
        "\n",
        "scraping: http://bit.ly/1pVPGsM"
       ]
      },
      {
       "output_type": "stream",
       "stream": "stdout",
       "text": [
        "\n",
        "scraping: https://twitter.com/wikileaks/status/522087808316755968"
       ]
      },
      {
       "output_type": "stream",
       "stream": "stdout",
       "text": [
        "\n",
        "scraping: http://pando.com/2014/10/12/wikileaks-meets-surveillance-valley-an-interview-with-julian-assange/"
       ]
      },
      {
       "output_type": "stream",
       "stream": "stdout",
       "text": [
        "\n",
        "scraping: http://ugh-feminism.tumblr.com/post/104260783700/archatlas-the-colbert-report-11-19-14"
       ]
      },
      {
       "output_type": "stream",
       "stream": "stdout",
       "text": [
        "\n",
        "scraping: https://storify.com/Darth_Nikon/milo-yiannopoulos-pet-sociopath-edition"
       ]
      },
      {
       "output_type": "stream",
       "stream": "stdout",
       "text": [
        "\n",
        "scraping: http://www.psychologytoday.com/blog/your-online-secrets/201409/internet-trolls-are-narcissists-psychopaths-and-sadists"
       ]
      },
      {
       "output_type": "stream",
       "stream": "stdout",
       "text": [
        "\n",
        "scraping: https://8chan.co/gg/res/553735.html#553735"
       ]
      },
      {
       "output_type": "stream",
       "stream": "stdout",
       "text": [
        "\n",
        "scraping: http://www.quora.com/GamerGate-Fall-2014/Could-someone-please-explain-the-controversy-surrounding-Zoe-Quinn-and-Anita-Sarkeesian"
       ]
      },
      {
       "output_type": "stream",
       "stream": "stdout",
       "text": [
        "\n",
        "scraping: http://www.change.org/p/australian-government-protect-the-artistic-freedom-of-video-game-developers?recruiter=103240055&utm_campaign=twitter_link_action_box&utm_medium=twitter&utm_source=share_petition"
       ]
      },
      {
       "output_type": "stream",
       "stream": "stdout",
       "text": [
        "\n",
        "scraping: http://ift.tt/1yPRbJW"
       ]
      },
      {
       "output_type": "stream",
       "stream": "stdout",
       "text": [
        "\n",
        "scraping: http://ift.tt/1yRszkW"
       ]
      },
      {
       "output_type": "stream",
       "stream": "stdout",
       "text": [
        "\n",
        "scraping: http://ift.tt/1yPRbJW"
       ]
      },
      {
       "output_type": "stream",
       "stream": "stdout",
       "text": [
        "\n",
        "scraping: http://ift.tt/1yPR94E"
       ]
      },
      {
       "output_type": "stream",
       "stream": "stdout",
       "text": [
        "\n"
       ]
      }
     ],
     "prompt_number": 8
    }
   ],
   "metadata": {}
  }
 ]
}