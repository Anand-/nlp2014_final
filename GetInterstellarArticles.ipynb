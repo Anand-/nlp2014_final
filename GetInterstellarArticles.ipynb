{
 "metadata": {
  "name": "",
  "signature": "sha256:f70723661a38ac70264be0ae431cc73367123ada89d8ab6ced69e154029286d7"
 },
 "nbformat": 3,
 "nbformat_minor": 0,
 "worksheets": [
  {
   "cells": [
    {
     "cell_type": "code",
     "collapsed": true,
     "input": [
      "import tagscraper"
     ],
     "language": "python",
     "metadata": {},
     "outputs": [],
     "prompt_number": 1
    },
    {
     "cell_type": "code",
     "collapsed": false,
     "input": [
      "from os import path"
     ],
     "language": "python",
     "metadata": {},
     "outputs": [],
     "prompt_number": 2
    },
    {
     "cell_type": "code",
     "collapsed": false,
     "input": [
      "outdir = path.join(path.curdir, \"data\", \"Interstellar\")"
     ],
     "language": "python",
     "metadata": {},
     "outputs": [],
     "prompt_number": 3
    },
    {
     "cell_type": "code",
     "collapsed": false,
     "input": [
      "tagscraper.scrape_hashtag(\"Interstellar\", outdir, n=500, since=\"2014-10-1\")"
     ],
     "language": "python",
     "metadata": {},
     "outputs": [
      {
       "output_type": "stream",
       "stream": "stdout",
       "text": [
        "Scraping tweets from query \"#Interstellar filter:links lang:en since:2014-10-1\"\n",
        "https://www.swarmapp.com/c/fADUCnNNDR3 scraped"
       ]
      },
      {
       "output_type": "stream",
       "stream": "stdout",
       "text": [
        "\n",
        "1 urls scraped\n",
        "https://amp.twimg.com/v/858fbc83-14ef-4fc8-9c4d-fa82655faf32 scraped"
       ]
      },
      {
       "output_type": "stream",
       "stream": "stdout",
       "text": [
        "\n",
        "2 urls scraped\n",
        "http://www.onearth.org/earthwire/interstellar-survival-guide-planet scraped"
       ]
      },
      {
       "output_type": "stream",
       "stream": "stdout",
       "text": [
        "\n",
        "3 urls scraped\n",
        "http://gu.com/p/433pn/tw scraped"
       ]
      },
      {
       "output_type": "stream",
       "stream": "stdout",
       "text": [
        "\n",
        "4 urls scraped\n",
        "error scraping"
       ]
      },
      {
       "output_type": "stream",
       "stream": "stdout",
       "text": [
        "\n",
        "Invalid status code\n",
        "http://trib.al/mctszwv scraped"
       ]
      },
      {
       "output_type": "stream",
       "stream": "stdout",
       "text": [
        "\n",
        "5 urls scraped\n",
        "http://www.monbiot.com/2014/11/11/better-dead-than-different/ scraped"
       ]
      },
      {
       "output_type": "stream",
       "stream": "stdout",
       "text": [
        "\n",
        "6 urls scraped\n",
        "http://instagram.com/p/vRpW4QH7xf/ scraped"
       ]
      },
      {
       "output_type": "stream",
       "stream": "stdout",
       "text": [
        "\n",
        "7 urls scraped\n",
        "https://www.youtube.com/watch?v=8DsrJ_NezHU scraped"
       ]
      },
      {
       "output_type": "stream",
       "stream": "stdout",
       "text": [
        "\n",
        "8 urls scraped\n",
        "http://bddy.me/1whLoJm scraped"
       ]
      },
      {
       "output_type": "stream",
       "stream": "stdout",
       "text": [
        "\n",
        "9 urls scraped\n",
        "http://bddy.me/1whLqkr scraped"
       ]
      },
      {
       "output_type": "stream",
       "stream": "stdout",
       "text": [
        "\n",
        "10 urls scraped\n",
        "http://buff.ly/1xRafpu scraped"
       ]
      },
      {
       "output_type": "stream",
       "stream": "stdout",
       "text": [
        "\n",
        "11 urls scraped\n",
        "http://www.youtube.com/watch?v=mW3pUUQwLa8& scraped"
       ]
      },
      {
       "output_type": "stream",
       "stream": "stdout",
       "text": [
        "\n",
        "12 urls scraped\n",
        "http://www.sciencemuseum.org.uk/interstellar scraped"
       ]
      },
      {
       "output_type": "stream",
       "stream": "stdout",
       "text": [
        "\n",
        "13 urls scraped\n",
        "http://thr.cm/AffWM1 scraped"
       ]
      },
      {
       "output_type": "stream",
       "stream": "stdout",
       "text": [
        "\n",
        "14 urls scraped\n",
        "http://po.st/d8HksB scraped"
       ]
      },
      {
       "output_type": "stream",
       "stream": "stdout",
       "text": [
        "\n",
        "15 urls scraped\n",
        "http://cnn.it/1tz75py scraped"
       ]
      },
      {
       "output_type": "stream",
       "stream": "stdout",
       "text": [
        "\n",
        "16 urls scraped\n",
        "http://actionagogo.com/?p=11165 scraped"
       ]
      },
      {
       "output_type": "stream",
       "stream": "stdout",
       "text": [
        "\n",
        "17 urls scraped\n",
        "http://wp.me/p2H34V-fm scraped"
       ]
      },
      {
       "output_type": "stream",
       "stream": "stdout",
       "text": [
        "\n",
        "18 urls scraped\n",
        "http://instagram.com/p/vRzYjRv9M2/ scraped"
       ]
      },
      {
       "output_type": "stream",
       "stream": "stdout",
       "text": [
        "\n",
        "19 urls scraped\n",
        "http://www.wired.com/2014/10/astrophysics-interstellar-black-hole/ scraped"
       ]
      },
      {
       "output_type": "stream",
       "stream": "stdout",
       "text": [
        "\n",
        "20 urls scraped\n",
        "http://interstellar.withgoogle.com/tickets scraped"
       ]
      },
      {
       "output_type": "stream",
       "stream": "stdout",
       "text": [
        "\n",
        "21 urls scraped\n",
        "http://bit.ly/1sB1yMG scraped"
       ]
      },
      {
       "output_type": "stream",
       "stream": "stdout",
       "text": [
        "\n",
        "22 urls scraped\n",
        "http://instagram.com/p/vRzRTboKaI/ scraped"
       ]
      },
      {
       "output_type": "stream",
       "stream": "stdout",
       "text": [
        "\n",
        "23 urls scraped\n",
        "http://goo.gl/I4TnK5 scraped"
       ]
      },
      {
       "output_type": "stream",
       "stream": "stdout",
       "text": [
        "\n",
        "24 urls scraped\n",
        "http://instagram.com/p/vRzJd_t_0j/ scraped"
       ]
      },
      {
       "output_type": "stream",
       "stream": "stdout",
       "text": [
        "\n",
        "25 urls scraped\n",
        "error scraping"
       ]
      },
      {
       "output_type": "stream",
       "stream": "stdout",
       "text": [
        "\n",
        "Invalid status code\n",
        "http://bookgoodies.com/a/B00AWELPNU scraped"
       ]
      },
      {
       "output_type": "stream",
       "stream": "stdout",
       "text": [
        "\n",
        "26 urls scraped\n",
        "http://instagram.com/p/vRymodgGQ0/ scraped"
       ]
      },
      {
       "output_type": "stream",
       "stream": "stdout",
       "text": [
        "\n",
        "27 urls scraped\n",
        "https://amp.twimg.com/v/66fae6b8-85f3-4246-947d-98c6d4effd91 scraped"
       ]
      },
      {
       "output_type": "stream",
       "stream": "stdout",
       "text": [
        "\n",
        "28 urls scraped\n",
        "http://instagram.com/p/vRZsmQKiu8/ scraped"
       ]
      },
      {
       "output_type": "stream",
       "stream": "stdout",
       "text": [
        "\n",
        "29 urls scraped\n",
        "http://www.theguardian.com/commentisfree/2014/nov/11/interstellar-insane-fantasy-abandoning-earth-political-defeatism scraped"
       ]
      },
      {
       "output_type": "stream",
       "stream": "stdout",
       "text": [
        "\n",
        "30 urls scraped\n",
        "http://instagram.com/p/vRycCNpPdQ/ scraped"
       ]
      },
      {
       "output_type": "stream",
       "stream": "stdout",
       "text": [
        "\n",
        "31 urls scraped\n",
        "http://instagram.com/p/vRybLZTYx1/ scraped"
       ]
      },
      {
       "output_type": "stream",
       "stream": "stdout",
       "text": [
        "\n",
        "32 urls scraped\n",
        "http://sploid.gizmodo.com/interstellar-explained-in-one-timeline-warning-spoile-1656588261 scraped"
       ]
      },
      {
       "output_type": "stream",
       "stream": "stdout",
       "text": [
        "\n",
        "33 urls scraped\n",
        "https://amp.twimg.com/v/59f9344d-9464-46c5-9e26-7969544897ca scraped"
       ]
      },
      {
       "output_type": "stream",
       "stream": "stdout",
       "text": [
        "\n",
        "34 urls scraped\n",
        "http://drafthouse.com/movies/movies-in-the-park-the-dark-knight/austin scraped"
       ]
      },
      {
       "output_type": "stream",
       "stream": "stdout",
       "text": [
        "\n",
        "35 urls scraped\n",
        "http://ow.ly/E8OVC scraped"
       ]
      },
      {
       "output_type": "stream",
       "stream": "stdout",
       "text": [
        "\n",
        "36 urls scraped\n",
        "http://sta.cr/6xL1 scraped"
       ]
      },
      {
       "output_type": "stream",
       "stream": "stdout",
       "text": [
        "\n",
        "37 urls scraped\n",
        "http://dlvr.it/7V3PgV scraped"
       ]
      },
      {
       "output_type": "stream",
       "stream": "stdout",
       "text": [
        "\n",
        "38 urls scraped\n",
        "http://instagram.com/p/vRxzQttewI/ scraped"
       ]
      },
      {
       "output_type": "stream",
       "stream": "stdout",
       "text": [
        "\n",
        "39 urls scraped\n",
        "http://goo.gl/fb/Lb74hD scraped"
       ]
      },
      {
       "output_type": "stream",
       "stream": "stdout",
       "text": [
        "\n",
        "40 urls scraped\n",
        "http://www.worldsciencefestival.com/2014/11/cinema-peer-review-astrophysicist-katie-mack-reviews-interstellar/ scraped"
       ]
      },
      {
       "output_type": "stream",
       "stream": "stdout",
       "text": [
        "\n",
        "41 urls scraped\n",
        "http://www.telegraph.co.uk/culture/film/filmreviews/11207268/Interstellar-review-a-feast-of-extraordinary-ideas.html scraped"
       ]
      },
      {
       "output_type": "stream",
       "stream": "stdout",
       "text": [
        "\n",
        "42 urls scraped\n",
        "http://cinemajustforfun.blogspot.com/2014/11/interstellar-by-christopher-nolan-2014.html?spref=tw scraped"
       ]
      },
      {
       "output_type": "stream",
       "stream": "stdout",
       "text": [
        "\n",
        "43 urls scraped\n",
        "http://slnm.us/Bix4NfA scraped"
       ]
      },
      {
       "output_type": "stream",
       "stream": "stdout",
       "text": [
        "\n",
        "44 urls scraped\n",
        "http://thr.cm/viGhDv scraped"
       ]
      },
      {
       "output_type": "stream",
       "stream": "stdout",
       "text": [
        "\n",
        "45 urls scraped\n",
        "https://www.youtube.com/watch?v=jGUeadHiYeY scraped"
       ]
      },
      {
       "output_type": "stream",
       "stream": "stdout",
       "text": [
        "\n",
        "46 urls scraped\n",
        "http://taosimplesquantoisso.blogspot.co.uk/2014/11/interstellar-2014-gone-girl-2014.html scraped"
       ]
      },
      {
       "output_type": "stream",
       "stream": "stdout",
       "text": [
        "\n",
        "47 urls scraped\n",
        "http://usat.ly/10POBI4 scraped"
       ]
      },
      {
       "output_type": "stream",
       "stream": "stdout",
       "text": [
        "\n",
        "48 urls scraped\n",
        "https://www.youtube.com/watch?v=YV_pPDZePVg scraped"
       ]
      },
      {
       "output_type": "stream",
       "stream": "stdout",
       "text": [
        "\n",
        "49 urls scraped\n",
        "http://tmblr.co/ZgJ2Do1VMtZ4f scraped"
       ]
      },
      {
       "output_type": "stream",
       "stream": "stdout",
       "text": [
        "\n",
        "50 urls scraped\n",
        "https://www.youtube.com/watch?v=sKSg44-UQXY scraped"
       ]
      },
      {
       "output_type": "stream",
       "stream": "stdout",
       "text": [
        "\n",
        "51 urls scraped\n",
        "http://www.engadget.com/2014/11/11/interstellar-review/?utm_source=Iphone_Featured_Stories_RSS&utm_medium=feed&utm_campaign=Engadget scraped"
       ]
      },
      {
       "output_type": "stream",
       "stream": "stdout",
       "text": [
        "\n",
        "52 urls scraped\n",
        "error scraping"
       ]
      },
      {
       "output_type": "stream",
       "stream": "stdout",
       "text": [
        "\n",
        "Invalid status code\n",
        "http://erinsedit.com/interstellar/ scraped"
       ]
      },
      {
       "output_type": "stream",
       "stream": "stdout",
       "text": [
        "\n",
        "53 urls scraped\n",
        "http://read.bi/1ukdAON scraped"
       ]
      },
      {
       "output_type": "stream",
       "stream": "stdout",
       "text": [
        "\n",
        "54 urls scraped\n",
        "http://bit.ly/1xgCy0D scraped"
       ]
      },
      {
       "output_type": "stream",
       "stream": "stdout",
       "text": [
        "\n",
        "55 urls scraped\n",
        "http://bit.ly/1ukgao4 scraped"
       ]
      },
      {
       "output_type": "stream",
       "stream": "stdout",
       "text": [
        "\n",
        "56 urls scraped\n",
        "http://petesperorations.blogspot.co.uk/2014/11/interstellar.html scraped"
       ]
      },
      {
       "output_type": "stream",
       "stream": "stdout",
       "text": [
        "\n",
        "57 urls scraped\n",
        "http://bsl.io/CgA scraped"
       ]
      },
      {
       "output_type": "stream",
       "stream": "stdout",
       "text": [
        "\n",
        "58 urls scraped\n",
        "http://farrell1991.wordpress.com/2014/11/11/interstellar/ scraped"
       ]
      },
      {
       "output_type": "stream",
       "stream": "stdout",
       "text": [
        "\n",
        "59 urls scraped\n",
        "http://www.theatlantic.com/entertainment/archive/2014/11/why-interstellars-organ-needs-to-be-so-loud/382619/ scraped"
       ]
      },
      {
       "output_type": "stream",
       "stream": "stdout",
       "text": [
        "\n",
        "60 urls scraped\n",
        "http://instagram.com/p/vRqCBKN8G3/ scraped"
       ]
      },
      {
       "output_type": "stream",
       "stream": "stdout",
       "text": [
        "\n",
        "61 urls scraped\n",
        "error scraping"
       ]
      },
      {
       "output_type": "stream",
       "stream": "stdout",
       "text": [
        "\n",
        "Invalid status code\n",
        "http://gu.com/p/438f9/tw scraped"
       ]
      },
      {
       "output_type": "stream",
       "stream": "stdout",
       "text": [
        "\n",
        "62 urls scraped\n",
        "http://en.wikipedia.org/wiki/Timeline_of_the_far_future scraped"
       ]
      },
      {
       "output_type": "stream",
       "stream": "stdout",
       "text": [
        "\n",
        "63 urls scraped\n",
        "http://instagram.com/p/vRv1LzyJCq/ scraped"
       ]
      },
      {
       "output_type": "stream",
       "stream": "stdout",
       "text": [
        "\n",
        "64 urls scraped\n",
        "http://instagram.com/p/vRvxd6lz8n/ scraped"
       ]
      },
      {
       "output_type": "stream",
       "stream": "stdout",
       "text": [
        "\n",
        "65 urls scraped\n",
        "http://www.reverbnation.com/doscara/song/22147435-sleep-when-i-die scraped"
       ]
      },
      {
       "output_type": "stream",
       "stream": "stdout",
       "text": [
        "\n",
        "66 urls scraped\n",
        "http://www.rollingstone.com/movies/lists/20-best-matthew-mcconaughey-performances-20141110/edtv-1999-20141110 scraped"
       ]
      },
      {
       "output_type": "stream",
       "stream": "stdout",
       "text": [
        "\n",
        "67 urls scraped\n",
        "http://goo.gl/fb/x9n2ZR scraped"
       ]
      },
      {
       "output_type": "stream",
       "stream": "stdout",
       "text": [
        "\n",
        "68 urls scraped\n",
        "http://usat.ly/1ujBQk8 scraped"
       ]
      },
      {
       "output_type": "stream",
       "stream": "stdout",
       "text": [
        "\n",
        "69 urls scraped\n",
        "http://www.engadget.com/2014/11/11/interstellar-review/?ncid=rss_truncated scraped"
       ]
      },
      {
       "output_type": "stream",
       "stream": "stdout",
       "text": [
        "\n",
        "70 urls scraped\n",
        "http://www.reddit.com/r/TrueFilm/comments/2lxo48/time_is_a_flat_sphere_interstellar_general/clzg9a0 scraped"
       ]
      },
      {
       "output_type": "stream",
       "stream": "stdout",
       "text": [
        "\n",
        "71 urls scraped\n",
        "http://ow.ly/E82X7 scraped"
       ]
      },
      {
       "output_type": "stream",
       "stream": "stdout",
       "text": [
        "\n",
        "72 urls scraped\n",
        "http://ow.ly/i/7xTdZ scraped"
       ]
      },
      {
       "output_type": "stream",
       "stream": "stdout",
       "text": [
        "\n",
        "73 urls scraped\n",
        "https://www.swarmapp.com/c/cQiyBqHVdFr scraped"
       ]
      },
      {
       "output_type": "stream",
       "stream": "stdout",
       "text": [
        "\n",
        "74 urls scraped\n",
        "http://bit.ly/1EaLGWw scraped"
       ]
      },
      {
       "output_type": "stream",
       "stream": "stdout",
       "text": [
        "\n",
        "75 urls scraped\n",
        "http://io9.com/jonah-nolans-first-interstellar-pitch-were-not-f-ing-g-1654506330 scraped"
       ]
      },
      {
       "output_type": "stream",
       "stream": "stdout",
       "text": [
        "\n",
        "76 urls scraped\n",
        "http://bit.ly/1tE7MKR scraped"
       ]
      },
      {
       "output_type": "stream",
       "stream": "stdout",
       "text": [
        "\n",
        "77 urls scraped\n",
        "http://ow.ly/E29jy scraped"
       ]
      },
      {
       "output_type": "stream",
       "stream": "stdout",
       "text": [
        "\n",
        "78 urls scraped\n",
        "http://www.stitcher.com/s?eid=35936392 scraped"
       ]
      },
      {
       "output_type": "stream",
       "stream": "stdout",
       "text": [
        "\n",
        "79 urls scraped\n",
        "http://www.amazingsky.net scraped"
       ]
      },
      {
       "output_type": "stream",
       "stream": "stdout",
       "text": [
        "\n",
        "80 urls scraped\n",
        "https://www.swarmapp.com/c/8m0XdT4ve5M scraped"
       ]
      },
      {
       "output_type": "stream",
       "stream": "stdout",
       "text": [
        "\n",
        "81 urls scraped\n",
        "http://huff.to/1xf3zop scraped"
       ]
      },
      {
       "output_type": "stream",
       "stream": "stdout",
       "text": [
        "\n",
        "82 urls scraped\n",
        "http://www.blogtalkradio.com/totallydriven/2014/11/05/silver-screams-show-6 scraped"
       ]
      },
      {
       "output_type": "stream",
       "stream": "stdout",
       "text": [
        "\n",
        "83 urls scraped\n",
        "http://podcoost.com/kneejerk-interstellar/ scraped"
       ]
      },
      {
       "output_type": "stream",
       "stream": "stdout",
       "text": [
        "\n",
        "84 urls scraped\n",
        "http://lockerdo.me/3wk3M scraped"
       ]
      },
      {
       "output_type": "stream",
       "stream": "stdout",
       "text": [
        "\n",
        "85 urls scraped\n",
        "http://www.radiotimes.com/news/2014-11-11/interstellar-co-writer-jonathan-nolan-to-adapt-isaac-asimovs-foundation-for-television scraped"
       ]
      },
      {
       "output_type": "stream",
       "stream": "stdout",
       "text": [
        "\n",
        "86 urls scraped\n",
        "http://on.wsj.com/149Htrv scraped"
       ]
      },
      {
       "output_type": "stream",
       "stream": "stdout",
       "text": [
        "\n",
        "87 urls scraped\n",
        "http://averageisbetter.blogspot.com/2014/11/interstellar.html?spref=tw scraped"
       ]
      },
      {
       "output_type": "stream",
       "stream": "stdout",
       "text": [
        "\n",
        "88 urls scraped\n",
        "http://read.bi/1pOocpp scraped"
       ]
      },
      {
       "output_type": "stream",
       "stream": "stdout",
       "text": [
        "\n",
        "89 urls scraped\n",
        "http://hereisthecity.com/en-gb/2014/11/07/interstellar-review/ scraped"
       ]
      },
      {
       "output_type": "stream",
       "stream": "stdout",
       "text": [
        "\n",
        "90 urls scraped\n",
        "https://www.tastemade.com/@tammylalaland/j5SHjWPWSbuCMTuegn-yzg scraped"
       ]
      },
      {
       "output_type": "stream",
       "stream": "stdout",
       "text": [
        "\n",
        "91 urls scraped\n",
        "http://www.nasa.gov/mission_pages/gpb/gpb_results.html scraped"
       ]
      },
      {
       "output_type": "stream",
       "stream": "stdout",
       "text": [
        "\n",
        "92 urls scraped\n",
        "http://ftw.usatoday.com/2014/11/interstellar-review-matthew-mcconaughy-what-happens scraped"
       ]
      },
      {
       "output_type": "stream",
       "stream": "stdout",
       "text": [
        "\n",
        "93 urls scraped\n",
        "http://instagram.com/p/vRtinYPKwu/ scraped"
       ]
      },
      {
       "output_type": "stream",
       "stream": "stdout",
       "text": [
        "\n",
        "94 urls scraped\n",
        "http://tvt.ag/1xQjfdr scraped"
       ]
      },
      {
       "output_type": "stream",
       "stream": "stdout",
       "text": [
        "\n",
        "95 urls scraped\n",
        "https://www.swarmapp.com/c/0y5XuYORntn scraped"
       ]
      },
      {
       "output_type": "stream",
       "stream": "stdout",
       "text": [
        "\n",
        "96 urls scraped\n",
        "http://instagram.com/p/vRtRbGA-YZ/ scraped"
       ]
      },
      {
       "output_type": "stream",
       "stream": "stdout",
       "text": [
        "\n",
        "97 urls scraped\n",
        "http://buff.ly/1xI3RkC scraped"
       ]
      },
      {
       "output_type": "stream",
       "stream": "stdout",
       "text": [
        "\n",
        "98 urls scraped\n",
        "http://instagram.com/p/vRtPRjgZE2/ scraped"
       ]
      },
      {
       "output_type": "stream",
       "stream": "stdout",
       "text": [
        "\n",
        "99 urls scraped\n",
        "http://ln.is/com/DzkuC scraped"
       ]
      },
      {
       "output_type": "stream",
       "stream": "stdout",
       "text": [
        "\n",
        "100 urls scraped\n",
        "http://twitter.com/EldredDValley/status/532302742191366144/photo/1 scraped"
       ]
      },
      {
       "output_type": "stream",
       "stream": "stdout",
       "text": [
        "\n",
        "101 urls scraped\n",
        "http://instagram.com/p/vRtEo9w90i/ scraped"
       ]
      },
      {
       "output_type": "stream",
       "stream": "stdout",
       "text": [
        "\n",
        "102 urls scraped\n",
        "http://bit.ly/1EvX7u2 scraped"
       ]
      },
      {
       "output_type": "stream",
       "stream": "stdout",
       "text": [
        "\n",
        "103 urls scraped\n",
        "http://peoplem.ag/4F1YaRu scraped"
       ]
      },
      {
       "output_type": "stream",
       "stream": "stdout",
       "text": [
        "\n",
        "104 urls scraped\n",
        "http://instagram.com/p/vRs0z6jXLE/ scraped"
       ]
      },
      {
       "output_type": "stream",
       "stream": "stdout",
       "text": [
        "\n",
        "105 urls scraped\n",
        "error scraping"
       ]
      },
      {
       "output_type": "stream",
       "stream": "stdout",
       "text": [
        "\n",
        "Page not text\n",
        "http://www.skiptotheend.co.uk scraped"
       ]
      },
      {
       "output_type": "stream",
       "stream": "stdout",
       "text": [
        "\n",
        "106 urls scraped\n",
        "http://news.discovery.com/space/videos/interstellar-how-many-dimensions-does-the-universe-have-110814.htm scraped"
       ]
      },
      {
       "output_type": "stream",
       "stream": "stdout",
       "text": [
        "\n",
        "107 urls scraped\n",
        "http://instagram.com/p/vRsLnNOHgS/ scraped"
       ]
      },
      {
       "output_type": "stream",
       "stream": "stdout",
       "text": [
        "\n",
        "108 urls scraped\n",
        "http://flip.it/jBxYi scraped"
       ]
      },
      {
       "output_type": "stream",
       "stream": "stdout",
       "text": [
        "\n",
        "109 urls scraped\n",
        "http://www.breakpoint.org/features-columns/articles/entry/12/26392#.VGKJLYYjbZ0.twitter scraped"
       ]
      },
      {
       "output_type": "stream",
       "stream": "stdout",
       "text": [
        "\n",
        "110 urls scraped\n",
        "http://instagram.com/p/vRj1JvxhX3/ scraped"
       ]
      },
      {
       "output_type": "stream",
       "stream": "stdout",
       "text": [
        "\n",
        "111 urls scraped\n",
        "http://instagram.com/p/vRD3uMl1es/ scraped"
       ]
      },
      {
       "output_type": "stream",
       "stream": "stdout",
       "text": [
        "\n",
        "112 urls scraped\n",
        "http://bit.ly/MumsBubsT scraped"
       ]
      },
      {
       "output_type": "stream",
       "stream": "stdout",
       "text": [
        "\n",
        "113 urls scraped\n",
        "http://instagram.com/p/vRrv-cNtaN/ scraped"
       ]
      },
      {
       "output_type": "stream",
       "stream": "stdout",
       "text": [
        "\n",
        "114 urls scraped\n",
        "http://1.usa.gov/1tMQwrL scraped"
       ]
      },
      {
       "output_type": "stream",
       "stream": "stdout",
       "text": [
        "\n",
        "115 urls scraped\n",
        "http://tl.gd/n_1sicn5f scraped"
       ]
      },
      {
       "output_type": "stream",
       "stream": "stdout",
       "text": [
        "\n",
        "116 urls scraped\n",
        "http://buff.ly/1Eevtjp scraped"
       ]
      },
      {
       "output_type": "stream",
       "stream": "stdout",
       "text": [
        "\n",
        "117 urls scraped\n",
        "error scraping"
       ]
      },
      {
       "output_type": "stream",
       "stream": "stdout",
       "text": [
        "\n",
        "Page not text\n",
        "http://ow.ly/E2UH5 scraped"
       ]
      },
      {
       "output_type": "stream",
       "stream": "stdout",
       "text": [
        "\n",
        "118 urls scraped\n",
        "http://Salon.com scraped"
       ]
      },
      {
       "output_type": "stream",
       "stream": "stdout",
       "text": [
        "\n",
        "119 urls scraped\n",
        "http://ow.ly/E8J30 scraped"
       ]
      },
      {
       "output_type": "stream",
       "stream": "stdout",
       "text": [
        "\n",
        "120 urls scraped\n",
        "http://goo.gl/pxI0XO scraped"
       ]
      },
      {
       "output_type": "stream",
       "stream": "stdout",
       "text": [
        "\n",
        "121 urls scraped\n",
        "http://instagram.com/p/vRq5x2o-dX/ scraped"
       ]
      },
      {
       "output_type": "stream",
       "stream": "stdout",
       "text": [
        "\n",
        "122 urls scraped\n",
        "https://www.swarmapp.com/c/cn9cJEWTTqI scraped"
       ]
      },
      {
       "output_type": "stream",
       "stream": "stdout",
       "text": [
        "\n",
        "123 urls scraped\n",
        "http://j.mp/1slGDgA scraped"
       ]
      },
      {
       "output_type": "stream",
       "stream": "stdout",
       "text": [
        "\n",
        "124 urls scraped\n",
        "http://www.hollywoodreporter.com/news/man-maced-at-afi-chinese-748068 scraped"
       ]
      },
      {
       "output_type": "stream",
       "stream": "stdout",
       "text": [
        "\n",
        "125 urls scraped\n",
        "http://www.ign.com/boards/threads/lets-talk-about-romilly-interstellar.454286722/ scraped"
       ]
      },
      {
       "output_type": "stream",
       "stream": "stdout",
       "text": [
        "\n",
        "126 urls scraped\n",
        "http://www.salon.com/2014/11/10/neil_degrasse_tyson_gives_interstellar_a_surprise_science_review/ scraped"
       ]
      },
      {
       "output_type": "stream",
       "stream": "stdout",
       "text": [
        "\n",
        "127 urls scraped\n",
        "http://www.salon.com/2014/11/11/the_7_biggest_problems_with_interstellar_partner/ scraped"
       ]
      },
      {
       "output_type": "stream",
       "stream": "stdout",
       "text": [
        "\n",
        "128 urls scraped\n",
        "http://www.esquire.com/blogs/culture/interstellar-behind-the-scenes?click=feed&src=spr_TWITTER&spr_id=1456_110871423 scraped"
       ]
      },
      {
       "output_type": "stream",
       "stream": "stdout",
       "text": [
        "\n",
        "129 urls scraped\n",
        "http://buff.ly/1tYZNfb scraped"
       ]
      },
      {
       "output_type": "stream",
       "stream": "stdout",
       "text": [
        "\n",
        "130 urls scraped\n",
        "http://www.speculativepost.com/editions/11-11-14.html scraped"
       ]
      },
      {
       "output_type": "stream",
       "stream": "stdout",
       "text": [
        "\n",
        "131 urls scraped\n",
        "http://petesperorations.blogspot.com/2014/11/interstellar.html?spref=tw scraped"
       ]
      },
      {
       "output_type": "stream",
       "stream": "stdout",
       "text": [
        "\n",
        "132 urls scraped\n",
        "http://bit.ly/1wbyTyQ scraped"
       ]
      },
      {
       "output_type": "stream",
       "stream": "stdout",
       "text": [
        "\n",
        "133 urls scraped\n",
        "http://ow.ly/E8I26 scraped"
       ]
      },
      {
       "output_type": "stream",
       "stream": "stdout",
       "text": [
        "\n",
        "134 urls scraped\n",
        "error scraping"
       ]
      },
      {
       "output_type": "stream",
       "stream": "stdout",
       "text": [
        "\n",
        "Invalid status code\n",
        "http://rnj.me/1uk5Vjn scraped"
       ]
      },
      {
       "output_type": "stream",
       "stream": "stdout",
       "text": [
        "\n",
        "135 urls scraped\n",
        "https://www.youtube.com/watch?v=0vxOhd4qlnA scraped"
       ]
      },
      {
       "output_type": "stream",
       "stream": "stdout",
       "text": [
        "\n",
        "136 urls scraped\n",
        "http://instagram.com/p/vRprtjLj3r/ scraped"
       ]
      },
      {
       "output_type": "stream",
       "stream": "stdout",
       "text": [
        "\n",
        "137 urls scraped\n",
        "http://metamorcinetv.blogspot.co.uk/2014/11/criticando-interstellar-cristopher.html scraped"
       ]
      },
      {
       "output_type": "stream",
       "stream": "stdout",
       "text": [
        "\n",
        "138 urls scraped\n",
        "http://ow.ly/E5m7F scraped"
       ]
      },
      {
       "output_type": "stream",
       "stream": "stdout",
       "text": [
        "\n",
        "139 urls scraped\n",
        "http://instagram.com/p/vRo-UkDcW7/ scraped"
       ]
      },
      {
       "output_type": "stream",
       "stream": "stdout",
       "text": [
        "\n",
        "140 urls scraped\n",
        "http://j.mp/1401eBF scraped"
       ]
      },
      {
       "output_type": "stream",
       "stream": "stdout",
       "text": [
        "\n",
        "141 urls scraped\n",
        "http://instagram.com/p/vRXgJYA3K1/ scraped"
       ]
      },
      {
       "output_type": "stream",
       "stream": "stdout",
       "text": [
        "\n",
        "142 urls scraped\n",
        "http://tmblr.co/ZCR54y1VNAwn3 scraped"
       ]
      },
      {
       "output_type": "stream",
       "stream": "stdout",
       "text": [
        "\n",
        "143 urls scraped\n",
        "http://ow.ly/E593F scraped"
       ]
      },
      {
       "output_type": "stream",
       "stream": "stdout",
       "text": [
        "\n",
        "144 urls scraped\n",
        "http://ow.ly/E5936 scraped"
       ]
      },
      {
       "output_type": "stream",
       "stream": "stdout",
       "text": [
        "\n",
        "145 urls scraped\n",
        "http://ow.ly/E5cNi scraped"
       ]
      },
      {
       "output_type": "stream",
       "stream": "stdout",
       "text": [
        "\n",
        "146 urls scraped\n",
        "http://instagram.com/p/vRotgPHOr4/ scraped"
       ]
      },
      {
       "output_type": "stream",
       "stream": "stdout",
       "text": [
        "\n",
        "147 urls scraped\n",
        "http://ow.ly/E5cNp scraped"
       ]
      },
      {
       "output_type": "stream",
       "stream": "stdout",
       "text": [
        "\n",
        "148 urls scraped\n",
        "http://ow.ly/E5cNl scraped"
       ]
      },
      {
       "output_type": "stream",
       "stream": "stdout",
       "text": [
        "\n",
        "149 urls scraped\n",
        "http://buff.ly/1xfuTD7 scraped"
       ]
      },
      {
       "output_type": "stream",
       "stream": "stdout",
       "text": [
        "\n",
        "150 urls scraped\n",
        "http://bit.ly/1GM6eJg scraped"
       ]
      },
      {
       "output_type": "stream",
       "stream": "stdout",
       "text": [
        "\n",
        "151 urls scraped\n",
        "http://instagram.com/p/vOsAa3v9Wp/ scraped"
       ]
      },
      {
       "output_type": "stream",
       "stream": "stdout",
       "text": [
        "\n",
        "152 urls scraped\n",
        "http://bit.ly/1whl3Lp scraped"
       ]
      },
      {
       "output_type": "stream",
       "stream": "stdout",
       "text": [
        "\n",
        "153 urls scraped\n",
        "https://www.swarmapp.com/c/9NsmNWcvJM3 scraped"
       ]
      },
      {
       "output_type": "stream",
       "stream": "stdout",
       "text": [
        "\n",
        "154 urls scraped\n",
        "http://wp.me/p5fSX0-78 scraped"
       ]
      },
      {
       "output_type": "stream",
       "stream": "stdout",
       "text": [
        "\n",
        "155 urls scraped\n",
        "http://bit.ly/1v04Qiv scraped"
       ]
      },
      {
       "output_type": "stream",
       "stream": "stdout",
       "text": [
        "\n",
        "156 urls scraped\n",
        "error scraping"
       ]
      },
      {
       "output_type": "stream",
       "stream": "stdout",
       "text": [
        "\n",
        "hostname 'time.com' doesn't match either of '*.wordpress.com', 'wordpress.com'\n",
        "http://buff.ly/1xdrxk6 scraped"
       ]
      },
      {
       "output_type": "stream",
       "stream": "stdout",
       "text": [
        "\n",
        "157 urls scraped\n",
        "http://instagram.com/p/vRnzrbBlKV/ scraped"
       ]
      },
      {
       "output_type": "stream",
       "stream": "stdout",
       "text": [
        "\n",
        "158 urls scraped\n",
        "http://wapo.st/1xsd4iM scraped"
       ]
      },
      {
       "output_type": "stream",
       "stream": "stdout",
       "text": [
        "\n",
        "159 urls scraped\n",
        "http://www.amazon.com/dp/B00MAOYWQC/ref=cm_sw_r_tw_awdm_2vOyub12X6GS9 scraped"
       ]
      },
      {
       "output_type": "stream",
       "stream": "stdout",
       "text": [
        "\n",
        "160 urls scraped\n",
        "http://bit.ly/10Szw7U scraped"
       ]
      },
      {
       "output_type": "stream",
       "stream": "stdout",
       "text": [
        "\n",
        "161 urls scraped\n",
        "http://instagram.com/p/vRnYowDkcR/ scraped"
       ]
      },
      {
       "output_type": "stream",
       "stream": "stdout",
       "text": [
        "\n",
        "162 urls scraped\n",
        "http://imdb.to/13TGXhg scraped"
       ]
      },
      {
       "output_type": "stream",
       "stream": "stdout",
       "text": [
        "\n",
        "163 urls scraped\n",
        "http://cnn.it/1qCWyGw scraped"
       ]
      },
      {
       "output_type": "stream",
       "stream": "stdout",
       "text": [
        "\n",
        "164 urls scraped\n",
        "http://fb.me/7cBPmOmM7 scraped"
       ]
      },
      {
       "output_type": "stream",
       "stream": "stdout",
       "text": [
        "\n",
        "165 urls scraped\n",
        "http://ln.is/www.fandango.com/int/mjpA0 scraped"
       ]
      },
      {
       "output_type": "stream",
       "stream": "stdout",
       "text": [
        "\n",
        "166 urls scraped\n",
        "http://j.mp/141ZUOE scraped"
       ]
      },
      {
       "output_type": "stream",
       "stream": "stdout",
       "text": [
        "\n",
        "167 urls scraped\n",
        "http://screenrant.com/christopher-nolan-movies-best-worst-critics/ scraped"
       ]
      },
      {
       "output_type": "stream",
       "stream": "stdout",
       "text": [
        "\n",
        "168 urls scraped\n",
        "http://SCATcast.com scraped"
       ]
      },
      {
       "output_type": "stream",
       "stream": "stdout",
       "text": [
        "\n",
        "169 urls scraped\n",
        "http://klou.tt/10k6o8nufmrdb scraped"
       ]
      },
      {
       "output_type": "stream",
       "stream": "stdout",
       "text": [
        "\n",
        "170 urls scraped\n",
        "http://instagram.com/p/vRmi17Bb_A/ scraped"
       ]
      },
      {
       "output_type": "stream",
       "stream": "stdout",
       "text": [
        "\n",
        "171 urls scraped\n",
        "http://www.picturehouses.co.uk/cinema/Cameo_Picturehouse/film/Interstellar/ scraped"
       ]
      },
      {
       "output_type": "stream",
       "stream": "stdout",
       "text": [
        "\n",
        "172 urls scraped\n",
        "http://tmblr.co/ZFkbOy1VN4IoQ scraped"
       ]
      },
      {
       "output_type": "stream",
       "stream": "stdout",
       "text": [
        "\n",
        "173 urls scraped\n",
        "http://instagram.com/p/vRmTiQRBCP/ scraped"
       ]
      },
      {
       "output_type": "stream",
       "stream": "stdout",
       "text": [
        "\n",
        "174 urls scraped\n",
        "http://bit.ly/1oHXBtc scraped"
       ]
      },
      {
       "output_type": "stream",
       "stream": "stdout",
       "text": [
        "\n",
        "175 urls scraped\n",
        "http://slnm.us/zKW3KUF scraped"
       ]
      },
      {
       "output_type": "stream",
       "stream": "stdout",
       "text": [
        "\n",
        "176 urls scraped\n",
        "http://instagram.com/p/vRmIKOg3xI/ scraped"
       ]
      },
      {
       "output_type": "stream",
       "stream": "stdout",
       "text": [
        "\n",
        "177 urls scraped\n",
        "http://bit.ly/1xqHLDP scraped"
       ]
      },
      {
       "output_type": "stream",
       "stream": "stdout",
       "text": [
        "\n",
        "178 urls scraped\n",
        "http://www.youtube.com/watch?v=827FNDpQWrQ scraped"
       ]
      },
      {
       "output_type": "stream",
       "stream": "stdout",
       "text": [
        "\n",
        "179 urls scraped\n",
        "http://ln.is/ow.ly/jaAfI scraped"
       ]
      },
      {
       "output_type": "stream",
       "stream": "stdout",
       "text": [
        "\n",
        "180 urls scraped\n",
        "http://yfrog.com/mmvbtqp scraped"
       ]
      },
      {
       "output_type": "stream",
       "stream": "stdout",
       "text": [
        "\n",
        "181 urls scraped\n",
        "http://buff.ly/1tWOFzt scraped"
       ]
      },
      {
       "output_type": "stream",
       "stream": "stdout",
       "text": [
        "\n",
        "182 urls scraped\n",
        "http://on.fb.me/1rMHaaS scraped"
       ]
      },
      {
       "output_type": "stream",
       "stream": "stdout",
       "text": [
        "\n",
        "183 urls scraped\n",
        "http://instagram.com/p/vRlgpIGwd5/ scraped"
       ]
      },
      {
       "output_type": "stream",
       "stream": "stdout",
       "text": [
        "\n",
        "184 urls scraped\n",
        "http://theverge.com/e/6954128 scraped"
       ]
      },
      {
       "output_type": "stream",
       "stream": "stdout",
       "text": [
        "\n",
        "185 urls scraped\n",
        "http://goo.gl/fb/DyzylC scraped"
       ]
      },
      {
       "output_type": "stream",
       "stream": "stdout",
       "text": [
        "\n",
        "186 urls scraped\n",
        "http://instagram.com/p/vRlIbSqxbe/ scraped"
       ]
      },
      {
       "output_type": "stream",
       "stream": "stdout",
       "text": [
        "\n",
        "187 urls scraped\n",
        "http://bit.ly/1szUPT2 scraped"
       ]
      },
      {
       "output_type": "stream",
       "stream": "stdout",
       "text": [
        "\n",
        "188 urls scraped\n",
        "http://gu.com/p/433pn/stw scraped"
       ]
      },
      {
       "output_type": "stream",
       "stream": "stdout",
       "text": [
        "\n",
        "189 urls scraped\n",
        "http://bit.ly/1tDY8rM scraped"
       ]
      },
      {
       "output_type": "stream",
       "stream": "stdout",
       "text": [
        "\n",
        "190 urls scraped\n",
        "http://www.ign.com/articles/2014/11/11/nolan-responds-to-interstellar-science-gripes scraped"
       ]
      },
      {
       "output_type": "stream",
       "stream": "stdout",
       "text": [
        "\n",
        "191 urls scraped\n",
        "https://www.quora.com/Hans-Zimmer-11/answers scraped"
       ]
      },
      {
       "output_type": "stream",
       "stream": "stdout",
       "text": [
        "\n",
        "192 urls scraped\n",
        "error scraping"
       ]
      },
      {
       "output_type": "stream",
       "stream": "stdout",
       "text": [
        "\n",
        "Invalid status code\n",
        "https://www.youtube.com/watch?v=a0bAD9xBW8A scraped"
       ]
      },
      {
       "output_type": "stream",
       "stream": "stdout",
       "text": [
        "\n",
        "193 urls scraped\n",
        "http://www.slashfilm.com/interstellar-script-differences/ scraped"
       ]
      },
      {
       "output_type": "stream",
       "stream": "stdout",
       "text": [
        "\n",
        "194 urls scraped\n",
        "https://www.youtube.com/watch?v=dJVj5Xb_O4I scraped"
       ]
      },
      {
       "output_type": "stream",
       "stream": "stdout",
       "text": [
        "\n",
        "195 urls scraped\n",
        "http://instagram.com/p/vRkYDUPCpt/ scraped"
       ]
      },
      {
       "output_type": "stream",
       "stream": "stdout",
       "text": [
        "\n",
        "196 urls scraped\n",
        "http://instagram.com/p/vRkWyFQrCV/ scraped"
       ]
      },
      {
       "output_type": "stream",
       "stream": "stdout",
       "text": [
        "\n",
        "197 urls scraped\n",
        "http://bit.ly/InterstellariOS scraped"
       ]
      },
      {
       "output_type": "stream",
       "stream": "stdout",
       "text": [
        "\n",
        "198 urls scraped\n",
        "http://ift.tt/1xJlT61 scraped"
       ]
      },
      {
       "output_type": "stream",
       "stream": "stdout",
       "text": [
        "\n",
        "199 urls scraped\n",
        "http://lat.ms/1xfkrvg scraped"
       ]
      },
      {
       "output_type": "stream",
       "stream": "stdout",
       "text": [
        "\n",
        "200 urls scraped\n",
        "https://vine.co/v/OiwILMvEbFD scraped"
       ]
      },
      {
       "output_type": "stream",
       "stream": "stdout",
       "text": [
        "\n",
        "201 urls scraped\n",
        "https://www.youtube.com/watch?v=U3cH3JJh-GM scraped"
       ]
      },
      {
       "output_type": "stream",
       "stream": "stdout",
       "text": [
        "\n",
        "202 urls scraped\n",
        "http://instagram.com/p/vRj9L4wC_4/ scraped"
       ]
      },
      {
       "output_type": "stream",
       "stream": "stdout",
       "text": [
        "\n",
        "203 urls scraped\n",
        "http://www.vulture.com/2014/11/21-things-in-interstellar-that-dont-make-sense.html scraped"
       ]
      },
      {
       "output_type": "stream",
       "stream": "stdout",
       "text": [
        "\n",
        "204 urls scraped\n",
        "https://plus.google.com/u/0/106322139077890223533/posts/cuzYwL3YTXn scraped"
       ]
      },
      {
       "output_type": "stream",
       "stream": "stdout",
       "text": [
        "\n",
        "205 urls scraped\n",
        "http://www.thecultden.com/2014/11/film-opinion-interstellar.html scraped"
       ]
      },
      {
       "output_type": "stream",
       "stream": "stdout",
       "text": [
        "\n",
        "206 urls scraped\n",
        "http://vult.re/1oDSMB3 scraped"
       ]
      },
      {
       "output_type": "stream",
       "stream": "stdout",
       "text": [
        "\n",
        "207 urls scraped\n",
        "http://instagram.com/p/vRjYZ3xjSi/ scraped"
       ]
      },
      {
       "output_type": "stream",
       "stream": "stdout",
       "text": [
        "\n",
        "208 urls scraped\n",
        "http://www.sparknotes.com/mindhut/2014/11/11/the-science-of-interstellar-what-did-it-get-right-and-what-did-it-get-wrong scraped"
       ]
      },
      {
       "output_type": "stream",
       "stream": "stdout",
       "text": [
        "\n",
        "209 urls scraped\n",
        "https://www.youtube.com/watch?v=I95Bw2ywiZw scraped"
       ]
      },
      {
       "output_type": "stream",
       "stream": "stdout",
       "text": [
        "\n",
        "210 urls scraped\n",
        "http://instagram.com/p/vRjIw8MJDd/ scraped"
       ]
      },
      {
       "output_type": "stream",
       "stream": "stdout",
       "text": [
        "\n",
        "211 urls scraped\n",
        "http://www.examiner.com/review/interstellar-movie-review scraped"
       ]
      },
      {
       "output_type": "stream",
       "stream": "stdout",
       "text": [
        "\n",
        "212 urls scraped\n",
        "http://new.livestream.com/ESA/cometlanding scraped"
       ]
      },
      {
       "output_type": "stream",
       "stream": "stdout",
       "text": [
        "\n",
        "213 urls scraped\n",
        "http://rnj.me/1tZa3nK scraped"
       ]
      },
      {
       "output_type": "stream",
       "stream": "stdout",
       "text": [
        "\n",
        "214 urls scraped\n",
        "https://vine.co/v/OiwDjV50tZh scraped"
       ]
      },
      {
       "output_type": "stream",
       "stream": "stdout",
       "text": [
        "\n",
        "215 urls scraped\n",
        "http://tmblr.co/Zpq65y1VMwKxR scraped"
       ]
      },
      {
       "output_type": "stream",
       "stream": "stdout",
       "text": [
        "\n",
        "216 urls scraped\n",
        "http://www.hollywoodreporter.com/news/global-box-office-christopher-nolans-746620 scraped"
       ]
      },
      {
       "output_type": "stream",
       "stream": "stdout",
       "text": [
        "\n",
        "217 urls scraped\n",
        "http://trib.in/1xfIVEG scraped"
       ]
      },
      {
       "output_type": "stream",
       "stream": "stdout",
       "text": [
        "\n",
        "218 urls scraped\n",
        "error scraping"
       ]
      },
      {
       "output_type": "stream",
       "stream": "stdout",
       "text": [
        "\n",
        "Invalid status code\n",
        "http://instagram.com/p/vRiS_Lyzrr/ scraped"
       ]
      },
      {
       "output_type": "stream",
       "stream": "stdout",
       "text": [
        "\n",
        "219 urls scraped\n",
        "https://itunes.apple.com/us/podcast/know-brainer-podcast-catalyze/id895342888?mt=2&i=323942781 scraped"
       ]
      },
      {
       "output_type": "stream",
       "stream": "stdout",
       "text": [
        "\n",
        "220 urls scraped\n",
        "http://cbsn.ws/1GMypYt scraped"
       ]
      },
      {
       "output_type": "stream",
       "stream": "stdout",
       "text": [
        "\n",
        "221 urls scraped\n",
        "http://fb.me/6QKMS4W2G scraped"
       ]
      },
      {
       "output_type": "stream",
       "stream": "stdout",
       "text": [
        "\n",
        "222 urls scraped\n",
        "http://instagram.com/p/vRh4-9O5FS/ scraped"
       ]
      },
      {
       "output_type": "stream",
       "stream": "stdout",
       "text": [
        "\n",
        "223 urls scraped\n",
        "http://bit.ly/1xJhH69 scraped"
       ]
      },
      {
       "output_type": "stream",
       "stream": "stdout",
       "text": [
        "\n",
        "224 urls scraped\n",
        "http://instagram.com/p/vRhth8BxOS/ scraped"
       ]
      },
      {
       "output_type": "stream",
       "stream": "stdout",
       "text": [
        "\n",
        "225 urls scraped\n",
        "http://j.mp/1xqCqwm scraped"
       ]
      },
      {
       "output_type": "stream",
       "stream": "stdout",
       "text": [
        "\n",
        "226 urls scraped\n",
        "http://jabberandthedrone.podbean.com/e/109-interstellar-and-nightcrawler/ scraped"
       ]
      },
      {
       "output_type": "stream",
       "stream": "stdout",
       "text": [
        "\n",
        "227 urls scraped\n",
        "http://instagram.com/p/vRhnqJocq9/ scraped"
       ]
      },
      {
       "output_type": "stream",
       "stream": "stdout",
       "text": [
        "\n",
        "228 urls scraped\n",
        "http://fb.me/4auZHgSTT scraped"
       ]
      },
      {
       "output_type": "stream",
       "stream": "stdout",
       "text": [
        "\n",
        "229 urls scraped\n",
        "http://bit.ly/1u5mks0 scraped"
       ]
      },
      {
       "output_type": "stream",
       "stream": "stdout",
       "text": [
        "\n",
        "230 urls scraped\n",
        "http://www.slashfilm.com/interstellar-script-differences/4/ scraped"
       ]
      },
      {
       "output_type": "stream",
       "stream": "stdout",
       "text": [
        "\n",
        "231 urls scraped\n",
        "error scraping"
       ]
      },
      {
       "output_type": "stream",
       "stream": "stdout",
       "text": [
        "\n",
        "Invalid status code\n",
        "http://instagram.com/p/vRg9lJBmCz/ scraped"
       ]
      },
      {
       "output_type": "stream",
       "stream": "stdout",
       "text": [
        "\n",
        "232 urls scraped\n",
        "http://fb.me/1G1q3u0nQ scraped"
       ]
      },
      {
       "output_type": "stream",
       "stream": "stdout",
       "text": [
        "\n",
        "233 urls scraped\n",
        "http://bit.ly/1uiTK6z scraped"
       ]
      },
      {
       "output_type": "stream",
       "stream": "stdout",
       "text": [
        "\n",
        "234 urls scraped\n",
        "https://www.youtube.com/watch?v=XQ41ZzhV-54 scraped"
       ]
      },
      {
       "output_type": "stream",
       "stream": "stdout",
       "text": [
        "\n",
        "235 urls scraped\n",
        "http://tmblr.co/Zg3A-x1VMpsD8 scraped"
       ]
      },
      {
       "output_type": "stream",
       "stream": "stdout",
       "text": [
        "\n",
        "236 urls scraped\n",
        "http://tmblr.co/ZRQnGs1VMn8IH scraped"
       ]
      },
      {
       "output_type": "stream",
       "stream": "stdout",
       "text": [
        "\n",
        "237 urls scraped\n",
        "http://instagram.com/p/vROPx1MrqH/ scraped"
       ]
      },
      {
       "output_type": "stream",
       "stream": "stdout",
       "text": [
        "\n",
        "238 urls scraped\n",
        "http://seanldurham.wix.com/seanlesterdurham#!Interstellar-Review-by-Sean-Lester-Durham/c1q8z/21D4515B-BE58-4F6B-B0F0-71711FB20639 scraped"
       ]
      },
      {
       "output_type": "stream",
       "stream": "stdout",
       "text": [
        "\n",
        "239 urls scraped\n",
        "http://fb.me/78zY7OPqu scraped"
       ]
      },
      {
       "output_type": "stream",
       "stream": "stdout",
       "text": [
        "\n",
        "240 urls scraped\n",
        "http://www.wallpaperterest.com/interstellar-movie-wallpaper/ scraped"
       ]
      },
      {
       "output_type": "stream",
       "stream": "stdout",
       "text": [
        "\n",
        "241 urls scraped\n",
        "http://disq.us/8kwh89 scraped"
       ]
      },
      {
       "output_type": "stream",
       "stream": "stdout",
       "text": [
        "\n",
        "242 urls scraped\n",
        "http://goo.gl/fb/MtuDm3 scraped"
       ]
      },
      {
       "output_type": "stream",
       "stream": "stdout",
       "text": [
        "\n",
        "243 urls scraped\n",
        "http://bit.ly/deltalinkscom scraped"
       ]
      },
      {
       "output_type": "stream",
       "stream": "stdout",
       "text": [
        "\n",
        "244 urls scraped\n",
        "error scraping"
       ]
      },
      {
       "output_type": "stream",
       "stream": "stdout",
       "text": [
        "\n",
        "Page not text\n",
        "http://filmbeef.com scraped"
       ]
      },
      {
       "output_type": "stream",
       "stream": "stdout",
       "text": [
        "\n",
        "245 urls scraped\n",
        "http://ow.ly/E11xh scraped"
       ]
      },
      {
       "output_type": "stream",
       "stream": "stdout",
       "text": [
        "\n",
        "246 urls scraped\n",
        "http://utterlyoffensive.com/ scraped"
       ]
      },
      {
       "output_type": "stream",
       "stream": "stdout",
       "text": [
        "\n",
        "247 urls scraped\n",
        "http://po.st/InterstellarTickets scraped"
       ]
      },
      {
       "output_type": "stream",
       "stream": "stdout",
       "text": [
        "\n",
        "248 urls scraped\n",
        "https://amp.twimg.com/v/7f434c5a-7857-4efc-84fd-fe931d90418f scraped"
       ]
      },
      {
       "output_type": "stream",
       "stream": "stdout",
       "text": [
        "\n",
        "249 urls scraped\n",
        "http://www.thegeeksclub.com/42604-things-know-watching-christopher-nolans-interstellar-movie/ scraped"
       ]
      },
      {
       "output_type": "stream",
       "stream": "stdout",
       "text": [
        "\n",
        "250 urls scraped\n",
        "http://bit.ly/1xqkrqW scraped"
       ]
      },
      {
       "output_type": "stream",
       "stream": "stdout",
       "text": [
        "\n",
        "251 urls scraped\n",
        "http://www.mackansfilm.wordpress.com scraped"
       ]
      },
      {
       "output_type": "stream",
       "stream": "stdout",
       "text": [
        "\n",
        "252 urls scraped\n",
        "error scraping"
       ]
      },
      {
       "output_type": "stream",
       "stream": "stdout",
       "text": [
        "\n",
        "Invalid status code\n",
        "http://bit.ly/1wQlFvq scraped"
       ]
      },
      {
       "output_type": "stream",
       "stream": "stdout",
       "text": [
        "\n",
        "253 urls scraped\n",
        "http://instagram.com/p/vRfMOzQdWs/ scraped"
       ]
      },
      {
       "output_type": "stream",
       "stream": "stdout",
       "text": [
        "\n",
        "254 urls scraped\n",
        "http://read.bi/1pO0ppy scraped"
       ]
      },
      {
       "output_type": "stream",
       "stream": "stdout",
       "text": [
        "\n",
        "255 urls scraped\n",
        "http://ln.is/ow.ly/UOBlA scraped"
       ]
      },
      {
       "output_type": "stream",
       "stream": "stdout",
       "text": [
        "\n",
        "256 urls scraped\n",
        "http://ow.ly/E1KzR scraped"
       ]
      },
      {
       "output_type": "stream",
       "stream": "stdout",
       "text": [
        "\n",
        "257 urls scraped\n",
        "http://twitter.com/ludakris_/status/532271281031618561/photo/1 scraped"
       ]
      },
      {
       "output_type": "stream",
       "stream": "stdout",
       "text": [
        "\n",
        "258 urls scraped\n",
        "http://instagram.com/p/vReqEBLVDI/ scraped"
       ]
      },
      {
       "output_type": "stream",
       "stream": "stdout",
       "text": [
        "\n",
        "259 urls scraped\n",
        "http://instagram.com/p/vRepbmhfXX/ scraped"
       ]
      },
      {
       "output_type": "stream",
       "stream": "stdout",
       "text": [
        "\n",
        "260 urls scraped\n",
        "http://instagram.com/p/vReU71GwXn/ scraped"
       ]
      },
      {
       "output_type": "stream",
       "stream": "stdout",
       "text": [
        "\n",
        "261 urls scraped\n",
        "http://9gag.com/gag/avZ1yLW?ref=t scraped"
       ]
      },
      {
       "output_type": "stream",
       "stream": "stdout",
       "text": [
        "\n",
        "262 urls scraped\n",
        "http://ow.ly/E4nvD scraped"
       ]
      },
      {
       "output_type": "stream",
       "stream": "stdout",
       "text": [
        "\n",
        "263 urls scraped\n",
        "https://vine.co/v/Oi5LEehWVYi scraped"
       ]
      },
      {
       "output_type": "stream",
       "stream": "stdout",
       "text": [
        "\n",
        "264 urls scraped\n",
        "http://coub.com/view/3z5xd scraped"
       ]
      },
      {
       "output_type": "stream",
       "stream": "stdout",
       "text": [
        "\n",
        "265 urls scraped\n",
        "http://www.douxreviews.com/2014/11/interstellar.html scraped"
       ]
      },
      {
       "output_type": "stream",
       "stream": "stdout",
       "text": [
        "\n",
        "266 urls scraped\n",
        "http://goo.gl/fb/Jz1IQw scraped"
       ]
      },
      {
       "output_type": "stream",
       "stream": "stdout",
       "text": [
        "\n",
        "267 urls scraped\n",
        "http://wp.me/pguxy-28qM scraped"
       ]
      },
      {
       "output_type": "stream",
       "stream": "stdout",
       "text": [
        "\n",
        "268 urls scraped\n",
        "http://goo.gl/8inHdv scraped"
       ]
      },
      {
       "output_type": "stream",
       "stream": "stdout",
       "text": [
        "\n",
        "269 urls scraped\n",
        "error scraping"
       ]
      },
      {
       "output_type": "stream",
       "stream": "stdout",
       "text": [
        "\n",
        "Invalid status code\n",
        "http://instagram.com/p/vRdLxeEF-z/ scraped"
       ]
      },
      {
       "output_type": "stream",
       "stream": "stdout",
       "text": [
        "\n",
        "270 urls scraped\n",
        "http://instagram.com/p/vRdE1syfx_/ scraped"
       ]
      },
      {
       "output_type": "stream",
       "stream": "stdout",
       "text": [
        "\n",
        "271 urls scraped\n",
        "http://goo.gl/fb/1QSToI scraped"
       ]
      },
      {
       "output_type": "stream",
       "stream": "stdout",
       "text": [
        "\n",
        "272 urls scraped\n",
        "error scraping"
       ]
      },
      {
       "output_type": "stream",
       "stream": "stdout",
       "text": [
        "\n",
        "Page not text\n",
        "http://ift.tt/1u7CDF2 scraped"
       ]
      },
      {
       "output_type": "stream",
       "stream": "stdout",
       "text": [
        "\n",
        "273 urls scraped\n",
        "http://uproxx.it/1qz9LjR scraped"
       ]
      },
      {
       "output_type": "stream",
       "stream": "stdout",
       "text": [
        "\n",
        "274 urls scraped\n",
        "http://j.mp/110PBcv scraped"
       ]
      },
      {
       "output_type": "stream",
       "stream": "stdout",
       "text": [
        "\n",
        "275 urls scraped\n",
        "http://instagram.com/p/vRJOCshLAe/ scraped"
       ]
      },
      {
       "output_type": "stream",
       "stream": "stdout",
       "text": [
        "\n",
        "276 urls scraped\n",
        "http://ow.ly/DPHHi scraped"
       ]
      },
      {
       "output_type": "stream",
       "stream": "stdout",
       "text": [
        "\n",
        "277 urls scraped\n",
        "http://buff.ly/1qCODJz scraped"
       ]
      },
      {
       "output_type": "stream",
       "stream": "stdout",
       "text": [
        "\n",
        "278 urls scraped\n",
        "http://instagram.com/p/vRcoy-PRKj/ scraped"
       ]
      },
      {
       "output_type": "stream",
       "stream": "stdout",
       "text": [
        "\n",
        "279 urls scraped\n",
        "http://thebea.st/10WbVmQ scraped"
       ]
      },
      {
       "output_type": "stream",
       "stream": "stdout",
       "text": [
        "\n",
        "280 urls scraped\n",
        "https://twitter.com/neiltyson scraped"
       ]
      },
      {
       "output_type": "stream",
       "stream": "stdout",
       "text": [
        "\n",
        "281 urls scraped\n",
        "http://bit.ly/1xqvfEp scraped"
       ]
      },
      {
       "output_type": "stream",
       "stream": "stdout",
       "text": [
        "\n",
        "282 urls scraped\n",
        "http://www.collectspace.com/news/news-111014a-interstellar-movie-space-history.html scraped"
       ]
      },
      {
       "output_type": "stream",
       "stream": "stdout",
       "text": [
        "\n",
        "283 urls scraped\n",
        "http://instagram.com/p/vRcM5yELhL/ scraped"
       ]
      },
      {
       "output_type": "stream",
       "stream": "stdout",
       "text": [
        "\n",
        "284 urls scraped\n",
        "http://bit.ly/1uuY0kO scraped"
       ]
      },
      {
       "output_type": "stream",
       "stream": "stdout",
       "text": [
        "\n",
        "285 urls scraped\n",
        "http://fb.me/3QNiy8qhZ scraped"
       ]
      },
      {
       "output_type": "stream",
       "stream": "stdout",
       "text": [
        "\n",
        "286 urls scraped\n",
        "http://Space.com scraped"
       ]
      },
      {
       "output_type": "stream",
       "stream": "stdout",
       "text": [
        "\n",
        "287 urls scraped\n",
        "http://bit.ly/10RgXku scraped"
       ]
      },
      {
       "output_type": "stream",
       "stream": "stdout",
       "text": [
        "\n",
        "288 urls scraped\n",
        "http://www.slate.com/blogs/bad_astronomy/2014/07/28/the_great_oxygenation_event_the_earth_s_first_mass_extinction.html scraped"
       ]
      },
      {
       "output_type": "stream",
       "stream": "stdout",
       "text": [
        "\n",
        "289 urls scraped\n",
        "http://everybodyhatescleveland.com/2014/11/11/interstellar-is-visually-impressive-but-ultimately-disappoints/ scraped"
       ]
      },
      {
       "output_type": "stream",
       "stream": "stdout",
       "text": [
        "\n",
        "290 urls scraped\n",
        "error scraping"
       ]
      },
      {
       "output_type": "stream",
       "stream": "stdout",
       "text": [
        "\n",
        "Invalid status code\n",
        "http://www.boxofficemojo.com/news/?id=3956&p=s.htm scraped"
       ]
      },
      {
       "output_type": "stream",
       "stream": "stdout",
       "text": [
        "\n",
        "291 urls scraped\n",
        "https://www.youtube.com/watch?v=hhXgFSd__0o scraped"
       ]
      },
      {
       "output_type": "stream",
       "stream": "stdout",
       "text": [
        "\n",
        "292 urls scraped\n",
        "error scraping"
       ]
      },
      {
       "output_type": "stream",
       "stream": "stdout",
       "text": [
        "\n",
        "Invalid status code\n",
        "http://www.thedailybeast.com/articles/2014/11/11/neil-degrasse-tyson-breaks-down-interstellar-black-holes-time-dilations-and-massive-waves.html scraped"
       ]
      },
      {
       "output_type": "stream",
       "stream": "stdout",
       "text": [
        "\n",
        "293 urls scraped\n",
        "error scraping"
       ]
      },
      {
       "output_type": "stream",
       "stream": "stdout",
       "text": [
        "\n",
        "Invalid status code\n",
        "http://livestream24x7.com/interstellar-2014/ scraped"
       ]
      },
      {
       "output_type": "stream",
       "stream": "stdout",
       "text": [
        "\n",
        "294 urls scraped\n",
        "http://j.mp/1Eqh3gb scraped"
       ]
      },
      {
       "output_type": "stream",
       "stream": "stdout",
       "text": [
        "\n",
        "295 urls scraped\n",
        "http://cinetropolis.net/tag/2001-a-space-odyssey/ scraped"
       ]
      },
      {
       "output_type": "stream",
       "stream": "stdout",
       "text": [
        "\n",
        "296 urls scraped\n",
        "http://www.econlib.org/library/Columns/y2004/Caplanidea.html scraped"
       ]
      },
      {
       "output_type": "stream",
       "stream": "stdout",
       "text": [
        "\n",
        "297 urls scraped\n",
        "http://tmblr.co/ZEa4Sy1VMbmpo scraped"
       ]
      },
      {
       "output_type": "stream",
       "stream": "stdout",
       "text": [
        "\n",
        "298 urls scraped\n",
        "http://instagram.com/p/vRbEnHNGmY/ scraped"
       ]
      },
      {
       "output_type": "stream",
       "stream": "stdout",
       "text": [
        "\n",
        "299 urls scraped\n",
        "http://www.businessinsider.com/neil-degrasse-tyson-questions-interstellar-2014-11 scraped"
       ]
      },
      {
       "output_type": "stream",
       "stream": "stdout",
       "text": [
        "\n",
        "300 urls scraped\n",
        "http://instagram.com/p/vRbBdAAofW/ scraped"
       ]
      },
      {
       "output_type": "stream",
       "stream": "stdout",
       "text": [
        "\n",
        "301 urls scraped\n",
        "http://mp12.co.vu/18wW scraped"
       ]
      },
      {
       "output_type": "stream",
       "stream": "stdout",
       "text": [
        "\n",
        "302 urls scraped\n",
        "http://bit.ly/1u4tMDA scraped"
       ]
      },
      {
       "output_type": "stream",
       "stream": "stdout",
       "text": [
        "\n",
        "303 urls scraped\n",
        "http://ow.ly/i/7xTsB scraped"
       ]
      },
      {
       "output_type": "stream",
       "stream": "stdout",
       "text": [
        "\n",
        "304 urls scraped\n",
        "http://instagram.com/p/vRa2TGsrFp/ scraped"
       ]
      },
      {
       "output_type": "stream",
       "stream": "stdout",
       "text": [
        "\n",
        "305 urls scraped\n",
        "http://mp12.co.vu/18wb scraped"
       ]
      },
      {
       "output_type": "stream",
       "stream": "stdout",
       "text": [
        "\n",
        "306 urls scraped\n",
        "http://instagram.com/p/vRaz1Duf1S/ scraped"
       ]
      },
      {
       "output_type": "stream",
       "stream": "stdout",
       "text": [
        "\n",
        "307 urls scraped\n",
        "http://www.buzzfeed.com/arianelange/interstellar-ending-jonathan-nolan scraped"
       ]
      },
      {
       "output_type": "stream",
       "stream": "stdout",
       "text": [
        "\n",
        "308 urls scraped\n",
        "http://ow.ly/E85s3 scraped"
       ]
      },
      {
       "output_type": "stream",
       "stream": "stdout",
       "text": [
        "\n",
        "309 urls scraped\n",
        "http://goo.gl/fb/AatuUQ scraped"
       ]
      },
      {
       "output_type": "stream",
       "stream": "stdout",
       "text": [
        "\n",
        "310 urls scraped\n",
        "http://dcdr.me/1tyzWqF scraped"
       ]
      },
      {
       "output_type": "stream",
       "stream": "stdout",
       "text": [
        "\n",
        "311 urls scraped\n",
        "http://www.reelsguide.com/interstellar-review-taking-risks/ scraped"
       ]
      },
      {
       "output_type": "stream",
       "stream": "stdout",
       "text": [
        "\n",
        "312 urls scraped\n",
        "http://abduzeedo.com/interstellar-posters scraped"
       ]
      },
      {
       "output_type": "stream",
       "stream": "stdout",
       "text": [
        "\n",
        "313 urls scraped\n",
        "http://usat.ly/10LIVxR scraped"
       ]
      },
      {
       "output_type": "stream",
       "stream": "stdout",
       "text": [
        "\n",
        "314 urls scraped\n",
        "http://buff.ly/1B21oqJ scraped"
       ]
      },
      {
       "output_type": "stream",
       "stream": "stdout",
       "text": [
        "\n",
        "315 urls scraped\n",
        "error scraping"
       ]
      },
      {
       "output_type": "stream",
       "stream": "stdout",
       "text": [
        "\n",
        "Invalid status code\n",
        "http://instagram.com/p/vRaYAYGep9/ scraped"
       ]
      },
      {
       "output_type": "stream",
       "stream": "stdout",
       "text": [
        "\n",
        "316 urls scraped\n",
        "http://on.mtv.com/1xD1LT7 scraped"
       ]
      },
      {
       "output_type": "stream",
       "stream": "stdout",
       "text": [
        "\n",
        "317 urls scraped\n",
        "https://sites.google.com/site/drunkprojectionist/reviews/interstellar scraped"
       ]
      },
      {
       "output_type": "stream",
       "stream": "stdout",
       "text": [
        "\n",
        "318 urls scraped\n",
        "error scraping"
       ]
      },
      {
       "output_type": "stream",
       "stream": "stdout",
       "text": [
        "\n",
        "Invalid status code\n",
        "https://path.com/p/1xbXt2 scraped"
       ]
      },
      {
       "output_type": "stream",
       "stream": "stdout",
       "text": [
        "\n",
        "319 urls scraped\n",
        "http://www.ign.com/articles/2014/11/08/jonathan-nolan-interstellar-spoilers scraped"
       ]
      },
      {
       "output_type": "stream",
       "stream": "stdout",
       "text": [
        "\n",
        "320 urls scraped\n",
        "http://instagram.com/p/vRZsO9Cg-3/ scraped"
       ]
      },
      {
       "output_type": "stream",
       "stream": "stdout",
       "text": [
        "\n",
        "321 urls scraped\n",
        "http://fb.me/1DCBUolXM scraped"
       ]
      },
      {
       "output_type": "stream",
       "stream": "stdout",
       "text": [
        "\n",
        "322 urls scraped\n",
        "http://mobile.abc.net.au/news/2014-11-11/dean-interstellar-offers-only-a-taste-of-cosmic-wonders/5882046 scraped"
       ]
      },
      {
       "output_type": "stream",
       "stream": "stdout",
       "text": [
        "\n",
        "323 urls scraped\n",
        "http://bit.ly/1xEzETo scraped"
       ]
      },
      {
       "output_type": "stream",
       "stream": "stdout",
       "text": [
        "\n",
        "324 urls scraped\n",
        "http://fb.me/7bEDjXqEQ scraped"
       ]
      },
      {
       "output_type": "stream",
       "stream": "stdout",
       "text": [
        "\n",
        "325 urls scraped\n",
        "http://ow.ly/E8iFp scraped"
       ]
      },
      {
       "output_type": "stream",
       "stream": "stdout",
       "text": [
        "\n",
        "326 urls scraped\n",
        "http://fb.me/44UX5jnKS scraped"
       ]
      },
      {
       "output_type": "stream",
       "stream": "stdout",
       "text": [
        "\n",
        "327 urls scraped\n",
        "http://instagram.com/p/vRZJAJq0_a/ scraped"
       ]
      },
      {
       "output_type": "stream",
       "stream": "stdout",
       "text": [
        "\n",
        "328 urls scraped\n",
        "http://ow.ly/E5WRg scraped"
       ]
      },
      {
       "output_type": "stream",
       "stream": "stdout",
       "text": [
        "\n",
        "329 urls scraped\n",
        "error scraping"
       ]
      },
      {
       "output_type": "stream",
       "stream": "stdout",
       "text": [
        "\n",
        "Invalid status code\n",
        "http://bit.ly/1wgLYXO scraped"
       ]
      },
      {
       "output_type": "stream",
       "stream": "stdout",
       "text": [
        "\n",
        "330 urls scraped\n",
        "http://www.theredrighthand.co.uk/456interstellar.html scraped"
       ]
      },
      {
       "output_type": "stream",
       "stream": "stdout",
       "text": [
        "\n",
        "331 urls scraped\n",
        "error scraping"
       ]
      },
      {
       "output_type": "stream",
       "stream": "stdout",
       "text": [
        "\n",
        "Invalid status code\n",
        "error scraping"
       ]
      },
      {
       "output_type": "stream",
       "stream": "stdout",
       "text": [
        "\n",
        "('Connection aborted.', error(110, 'Connection timed out'))\n",
        "http://instagram.com/p/vRYgb7Ln2G/ scraped"
       ]
      },
      {
       "output_type": "stream",
       "stream": "stdout",
       "text": [
        "\n",
        "332 urls scraped\n",
        "http://inthegalaxypodcast.podbean.com scraped"
       ]
      },
      {
       "output_type": "stream",
       "stream": "stdout",
       "text": [
        "\n",
        "333 urls scraped\n",
        "http://wp.me/p4ucbz-3X scraped"
       ]
      },
      {
       "output_type": "stream",
       "stream": "stdout",
       "text": [
        "\n",
        "334 urls scraped\n",
        "http://bit.ly/1yuxJAS scraped"
       ]
      },
      {
       "output_type": "stream",
       "stream": "stdout",
       "text": [
        "\n",
        "335 urls scraped\n",
        "http://bit.ly/10S2hBn scraped"
       ]
      },
      {
       "output_type": "stream",
       "stream": "stdout",
       "text": [
        "\n",
        "336 urls scraped\n",
        "http://bit.ly/10S2fJV scraped"
       ]
      },
      {
       "output_type": "stream",
       "stream": "stdout",
       "text": [
        "\n",
        "337 urls scraped\n",
        "http://bit.ly/10S2fJL scraped"
       ]
      },
      {
       "output_type": "stream",
       "stream": "stdout",
       "text": [
        "\n",
        "338 urls scraped\n",
        "http://bit.ly/10S2h4A scraped"
       ]
      },
      {
       "output_type": "stream",
       "stream": "stdout",
       "text": [
        "\n",
        "339 urls scraped\n",
        "http://bit.ly/10S2h4t scraped"
       ]
      },
      {
       "output_type": "stream",
       "stream": "stdout",
       "text": [
        "\n",
        "340 urls scraped\n",
        "http://dlvr.it/7TzSgn scraped"
       ]
      },
      {
       "output_type": "stream",
       "stream": "stdout",
       "text": [
        "\n",
        "341 urls scraped\n",
        "http://instagram.com/p/vRX_-2seBy/ scraped"
       ]
      },
      {
       "output_type": "stream",
       "stream": "stdout",
       "text": [
        "\n",
        "342 urls scraped\n",
        "http://ow.ly/i/7valz scraped"
       ]
      },
      {
       "output_type": "stream",
       "stream": "stdout",
       "text": [
        "\n",
        "343 urls scraped\n",
        "error scraping"
       ]
      },
      {
       "output_type": "stream",
       "stream": "stdout",
       "text": [
        "\n",
        "Invalid status code\n",
        "http://ift.tt/149JAM1 scraped"
       ]
      },
      {
       "output_type": "stream",
       "stream": "stdout",
       "text": [
        "\n",
        "344 urls scraped\n",
        "http://screenrant.com/interstellar-ending-spoilers-time-travel scraped"
       ]
      },
      {
       "output_type": "stream",
       "stream": "stdout",
       "text": [
        "\n",
        "345 urls scraped\n",
        "http://tmblr.co/ZCHUKy1VMT8vj scraped"
       ]
      },
      {
       "output_type": "stream",
       "stream": "stdout",
       "text": [
        "\n",
        "346 urls scraped\n",
        "http://instagram.com/p/vRXtu4CEGQ/ scraped"
       ]
      },
      {
       "output_type": "stream",
       "stream": "stdout",
       "text": [
        "\n",
        "347 urls scraped\n",
        "http://instagram.com/p/vRXpTjE0Ox/ scraped"
       ]
      },
      {
       "output_type": "stream",
       "stream": "stdout",
       "text": [
        "\n",
        "348 urls scraped\n",
        "http://bit.ly/1yuDuP8 scraped"
       ]
      },
      {
       "output_type": "stream",
       "stream": "stdout",
       "text": [
        "\n",
        "349 urls scraped\n",
        "http://lockerdo.me/rY.fa scraped"
       ]
      },
      {
       "output_type": "stream",
       "stream": "stdout",
       "text": [
        "\n",
        "350 urls scraped\n",
        "error scraping"
       ]
      },
      {
       "output_type": "stream",
       "stream": "stdout",
       "text": [
        "\n",
        "Invalid status code\n",
        "error scraping"
       ]
      },
      {
       "output_type": "stream",
       "stream": "stdout",
       "text": [
        "\n",
        "Invalid status code\n",
        "error scraping"
       ]
      },
      {
       "output_type": "stream",
       "stream": "stdout",
       "text": [
        "\n",
        "Invalid status code\n",
        "http://is.gd/kcclive scraped"
       ]
      },
      {
       "output_type": "stream",
       "stream": "stdout",
       "text": [
        "\n",
        "351 urls scraped\n",
        "http://bit.ly/10cnDZS scraped"
       ]
      },
      {
       "output_type": "stream",
       "stream": "stdout",
       "text": [
        "\n",
        "352 urls scraped\n",
        "http://bit.ly/1G6tC3L scraped"
       ]
      },
      {
       "output_type": "stream",
       "stream": "stdout",
       "text": [
        "\n",
        "353 urls scraped\n",
        "error scraping"
       ]
      },
      {
       "output_type": "stream",
       "stream": "stdout",
       "text": [
        "\n",
        "Page not text\n",
        "http://fb.me/44ehc9nWG scraped"
       ]
      },
      {
       "output_type": "stream",
       "stream": "stdout",
       "text": [
        "\n",
        "354 urls scraped\n",
        "https://www.swarmapp.com/c/iLN1d3auBho scraped"
       ]
      },
      {
       "output_type": "stream",
       "stream": "stdout",
       "text": [
        "\n",
        "355 urls scraped\n",
        "http://TrailerBinge.com scraped"
       ]
      },
      {
       "output_type": "stream",
       "stream": "stdout",
       "text": [
        "\n",
        "356 urls scraped\n",
        "http://tinyurl.com/lonqsfh scraped"
       ]
      },
      {
       "output_type": "stream",
       "stream": "stdout",
       "text": [
        "\n",
        "357 urls scraped\n",
        "http://on.wsj.com/1GMkotY scraped"
       ]
      },
      {
       "output_type": "stream",
       "stream": "stdout",
       "text": [
        "\n",
        "358 urls scraped\n",
        "http://bit.ly/1xuQdTN scraped"
       ]
      },
      {
       "output_type": "stream",
       "stream": "stdout",
       "text": [
        "\n",
        "359 urls scraped\n",
        "http://blog.mindresearch.net/blog/bid/399819/Movies-Remind-Us-Even-Scientific-Quests-are-Personal-Ones scraped"
       ]
      },
      {
       "output_type": "stream",
       "stream": "stdout",
       "text": [
        "\n",
        "360 urls scraped\n",
        "http://j.mp/1u7qqjJ scraped"
       ]
      },
      {
       "output_type": "stream",
       "stream": "stdout",
       "text": [
        "\n",
        "361 urls scraped\n",
        "http://j.mp/1B3dIXU scraped"
       ]
      },
      {
       "output_type": "stream",
       "stream": "stdout",
       "text": [
        "\n",
        "362 urls scraped\n",
        "http://www.imdb.com/chart/top?tt0816692 scraped"
       ]
      },
      {
       "output_type": "stream",
       "stream": "stdout",
       "text": [
        "\n",
        "363 urls scraped\n",
        "http://vult.re/1xIEi2P scraped"
       ]
      },
      {
       "output_type": "stream",
       "stream": "stdout",
       "text": [
        "\n",
        "364 urls scraped\n",
        "http://instagram.com/p/vRWuY1tOt0/ scraped"
       ]
      },
      {
       "output_type": "stream",
       "stream": "stdout",
       "text": [
        "\n",
        "365 urls scraped\n",
        "http://rnj.me/1tQ187O scraped"
       ]
      },
      {
       "output_type": "stream",
       "stream": "stdout",
       "text": [
        "\n",
        "366 urls scraped\n",
        "error scraping"
       ]
      },
      {
       "output_type": "stream",
       "stream": "stdout",
       "text": [
        "\n",
        "Invalid status code\n",
        "http://lockerdo.me/i-3XG scraped"
       ]
      },
      {
       "output_type": "stream",
       "stream": "stdout",
       "text": [
        "\n",
        "367 urls scraped\n",
        "http://j.mp/1B3cNqr scraped"
       ]
      },
      {
       "output_type": "stream",
       "stream": "stdout",
       "text": [
        "\n",
        "368 urls scraped\n",
        "http://variety.com/2014/film/news/interstellar-global-box-office-1201351875/ scraped"
       ]
      },
      {
       "output_type": "stream",
       "stream": "stdout",
       "text": [
        "\n",
        "369 urls scraped\n",
        "http://prmoviegeeks.wordpress.com scraped"
       ]
      },
      {
       "output_type": "stream",
       "stream": "stdout",
       "text": [
        "\n",
        "370 urls scraped\n",
        "http://goo.gl/zspxwU scraped"
       ]
      },
      {
       "output_type": "stream",
       "stream": "stdout",
       "text": [
        "\n",
        "371 urls scraped\n",
        "http://instagram.com/p/vRWRTlSJCX/ scraped"
       ]
      },
      {
       "output_type": "stream",
       "stream": "stdout",
       "text": [
        "\n",
        "372 urls scraped\n",
        "http://www.poets.org/poetsorg/poem/do-not-go-gentle-good-night scraped"
       ]
      },
      {
       "output_type": "stream",
       "stream": "stdout",
       "text": [
        "\n",
        "373 urls scraped\n",
        "error scraping"
       ]
      },
      {
       "output_type": "stream",
       "stream": "stdout",
       "text": [
        "\n",
        "Invalid status code\n",
        "http://goo.gl/fb/FbcxMJ scraped"
       ]
      },
      {
       "output_type": "stream",
       "stream": "stdout",
       "text": [
        "\n",
        "374 urls scraped\n",
        "http://bit.ly/1xjb9Mf scraped"
       ]
      },
      {
       "output_type": "stream",
       "stream": "stdout",
       "text": [
        "\n",
        "375 urls scraped\n",
        "error scraping"
       ]
      },
      {
       "output_type": "stream",
       "stream": "stdout",
       "text": [
        "\n",
        "Page not text\n",
        "https://itunes.apple.com/us/podcast/the-offensiveline/id842029570 scraped"
       ]
      },
      {
       "output_type": "stream",
       "stream": "stdout",
       "text": [
        "\n",
        "376 urls scraped\n",
        "error scraping"
       ]
      },
      {
       "output_type": "stream",
       "stream": "stdout",
       "text": [
        "\n",
        "Page not text\n",
        "http://www.youtube.com/watch?v=BAzCf0ascW8 scraped"
       ]
      },
      {
       "output_type": "stream",
       "stream": "stdout",
       "text": [
        "\n",
        "377 urls scraped\n",
        "error scraping"
       ]
      },
      {
       "output_type": "stream",
       "stream": "stdout",
       "text": [
        "\n",
        "Invalid status code\n",
        "error scraping"
       ]
      },
      {
       "output_type": "stream",
       "stream": "stdout",
       "text": [
        "\n",
        "Invalid status code\n",
        "error scraping"
       ]
      },
      {
       "output_type": "stream",
       "stream": "stdout",
       "text": [
        "\n",
        "Invalid status code\n",
        "error scraping"
       ]
      },
      {
       "output_type": "stream",
       "stream": "stdout",
       "text": [
        "\n",
        "Invalid status code\n",
        "error scraping"
       ]
      },
      {
       "output_type": "stream",
       "stream": "stdout",
       "text": [
        "\n",
        "Invalid status code\n",
        "http://j.mp/1xv1uTO scraped"
       ]
      },
      {
       "output_type": "stream",
       "stream": "stdout",
       "text": [
        "\n",
        "378 urls scraped\n",
        "error scraping"
       ]
      },
      {
       "output_type": "stream",
       "stream": "stdout",
       "text": [
        "\n",
        "Invalid status code\n",
        "error scraping"
       ]
      },
      {
       "output_type": "stream",
       "stream": "stdout",
       "text": [
        "\n",
        "Invalid status code\n",
        "error scraping"
       ]
      },
      {
       "output_type": "stream",
       "stream": "stdout",
       "text": [
        "\n",
        "Invalid status code\n",
        "error scraping"
       ]
      },
      {
       "output_type": "stream",
       "stream": "stdout",
       "text": [
        "\n",
        "Invalid status code\n",
        "error scraping"
       ]
      },
      {
       "output_type": "stream",
       "stream": "stdout",
       "text": [
        "\n",
        "Invalid status code\n",
        "http://1.usa.gov/1EoHBjE scraped"
       ]
      },
      {
       "output_type": "stream",
       "stream": "stdout",
       "text": [
        "\n",
        "379 urls scraped\n",
        "http://grogsmovieblogs.com/2014/11/10/interstellar-2014-grogs-mega-movie-review/ scraped"
       ]
      },
      {
       "output_type": "stream",
       "stream": "stdout",
       "text": [
        "\n",
        "380 urls scraped\n",
        "http://j.mp/1wgFaJI scraped"
       ]
      },
      {
       "output_type": "stream",
       "stream": "stdout",
       "text": [
        "\n",
        "381 urls scraped\n",
        "http://tmblr.co/ZjooQy1VMOFRe scraped"
       ]
      },
      {
       "output_type": "stream",
       "stream": "stdout",
       "text": [
        "\n",
        "382 urls scraped\n",
        "http://j.mp/1wgEWSV scraped"
       ]
      },
      {
       "output_type": "stream",
       "stream": "stdout",
       "text": [
        "\n",
        "383 urls scraped\n",
        "http://www.tsu.co/shawnallen330/5518684 scraped"
       ]
      },
      {
       "output_type": "stream",
       "stream": "stdout",
       "text": [
        "\n",
        "384 urls scraped\n",
        "http://instagram.com/p/vRVomTp8RZ/ scraped"
       ]
      },
      {
       "output_type": "stream",
       "stream": "stdout",
       "text": [
        "\n",
        "385 urls scraped\n",
        "http://thehumanist.com/arts_entertainment/film/film-review-interstellar-may-be-the-best-movie-of-the-year scraped"
       ]
      },
      {
       "output_type": "stream",
       "stream": "stdout",
       "text": [
        "\n",
        "386 urls scraped\n",
        "http://bit.ly/1yqu730 scraped"
       ]
      },
      {
       "output_type": "stream",
       "stream": "stdout",
       "text": [
        "\n",
        "387 urls scraped\n",
        "http://lockerdo.me/s2otI scraped"
       ]
      },
      {
       "output_type": "stream",
       "stream": "stdout",
       "text": [
        "\n",
        "388 urls scraped\n",
        "http://goo.gl/2AhC6U scraped"
       ]
      },
      {
       "output_type": "stream",
       "stream": "stdout",
       "text": [
        "\n",
        "389 urls scraped\n",
        "http://instagram.com/p/vRVJg6iwwZ/ scraped"
       ]
      },
      {
       "output_type": "stream",
       "stream": "stdout",
       "text": [
        "\n",
        "390 urls scraped\n",
        "http://mashupplus.com/en/OTBjMTlkODhhNGM3.html scraped"
       ]
      },
      {
       "output_type": "stream",
       "stream": "stdout",
       "text": [
        "\n",
        "391 urls scraped\n",
        "http://fb.me/2uOeib6Cx scraped"
       ]
      },
      {
       "output_type": "stream",
       "stream": "stdout",
       "text": [
        "\n",
        "392 urls scraped\n",
        "http://fb.me/72DBa3Xqp scraped"
       ]
      },
      {
       "output_type": "stream",
       "stream": "stdout",
       "text": [
        "\n",
        "393 urls scraped\n",
        "http://instagram.com/p/vRVAxWx285/ scraped"
       ]
      },
      {
       "output_type": "stream",
       "stream": "stdout",
       "text": [
        "\n",
        "394 urls scraped\n",
        "http://slnm.us/7A2L1zN scraped"
       ]
      },
      {
       "output_type": "stream",
       "stream": "stdout",
       "text": [
        "\n",
        "395 urls scraped\n",
        "http://buff.ly/1ytvb6d scraped"
       ]
      },
      {
       "output_type": "stream",
       "stream": "stdout",
       "text": [
        "\n",
        "396 urls scraped\n",
        "http://bit.ly/1xzElOl scraped"
       ]
      },
      {
       "output_type": "stream",
       "stream": "stdout",
       "text": [
        "\n",
        "397 urls scraped\n",
        "http://tl.gd/nhatnq scraped"
       ]
      },
      {
       "output_type": "stream",
       "stream": "stdout",
       "text": [
        "\n",
        "398 urls scraped\n",
        "http://www.rottentomatoes.com/m/interstellar_2014/ scraped"
       ]
      },
      {
       "output_type": "stream",
       "stream": "stdout",
       "text": [
        "\n",
        "399 urls scraped\n",
        "http://www.thefocuspull.com/features/interstellar/ scraped"
       ]
      },
      {
       "output_type": "stream",
       "stream": "stdout",
       "text": [
        "\n",
        "400 urls scraped\n",
        "http://j.mp/1Eq4W2E scraped"
       ]
      },
      {
       "output_type": "stream",
       "stream": "stdout",
       "text": [
        "\n",
        "401 urls scraped\n",
        "error scraping"
       ]
      },
      {
       "output_type": "stream",
       "stream": "stdout",
       "text": [
        "\n",
        "Invalid status code\n",
        "http://harlanelam.bigcartel.com/product/we-ll-find-a-way-we-always-have scraped"
       ]
      },
      {
       "output_type": "stream",
       "stream": "stdout",
       "text": [
        "\n",
        "402 urls scraped\n",
        "http://www.si.edu/imax/movie/140 scraped"
       ]
      },
      {
       "output_type": "stream",
       "stream": "stdout",
       "text": [
        "\n",
        "403 urls scraped\n",
        "http://spaceref.com/interstellar/visiting-interstellars-spacecraft.html scraped"
       ]
      },
      {
       "output_type": "stream",
       "stream": "stdout",
       "text": [
        "\n",
        "404 urls scraped\n",
        "http://ow.ly/E56FF scraped"
       ]
      },
      {
       "output_type": "stream",
       "stream": "stdout",
       "text": [
        "\n",
        "405 urls scraped\n",
        "http://cbc.ca/1.2829011 scraped"
       ]
      },
      {
       "output_type": "stream",
       "stream": "stdout",
       "text": [
        "\n",
        "406 urls scraped\n",
        "http://instagram.com/p/vRUIn8iFu_/ scraped"
       ]
      },
      {
       "output_type": "stream",
       "stream": "stdout",
       "text": [
        "\n",
        "407 urls scraped\n",
        "http://ow.ly/E5cHs scraped"
       ]
      },
      {
       "output_type": "stream",
       "stream": "stdout",
       "text": [
        "\n",
        "408 urls scraped\n",
        "http://ow.ly/E5cHA scraped"
       ]
      },
      {
       "output_type": "stream",
       "stream": "stdout",
       "text": [
        "\n",
        "409 urls scraped\n",
        "http://ow.ly/E5cHv scraped"
       ]
      },
      {
       "output_type": "stream",
       "stream": "stdout",
       "text": [
        "\n",
        "410 urls scraped\n",
        "http://qr.ae/mnhhS scraped"
       ]
      },
      {
       "output_type": "stream",
       "stream": "stdout",
       "text": [
        "\n",
        "411 urls scraped\n",
        "http://ow.ly/E58Wz scraped"
       ]
      },
      {
       "output_type": "stream",
       "stream": "stdout",
       "text": [
        "\n",
        "412 urls scraped\n",
        "http://ow.ly/E58Wy scraped"
       ]
      },
      {
       "output_type": "stream",
       "stream": "stdout",
       "text": [
        "\n",
        "413 urls scraped\n",
        "http://www.gaurav4292.blogspot.in scraped"
       ]
      },
      {
       "output_type": "stream",
       "stream": "stdout",
       "text": [
        "\n",
        "414 urls scraped\n",
        "http://instagram.com/p/vRT-qBF5J_/ scraped"
       ]
      },
      {
       "output_type": "stream",
       "stream": "stdout",
       "text": [
        "\n",
        "415 urls scraped\n",
        "http://instagram.com/p/vRT5BGLgUQ/ scraped"
       ]
      },
      {
       "output_type": "stream",
       "stream": "stdout",
       "text": [
        "\n",
        "416 urls scraped\n",
        "http://goo.gl/fb/MGVPrL scraped"
       ]
      },
      {
       "output_type": "stream",
       "stream": "stdout",
       "text": [
        "\n",
        "417 urls scraped\n",
        "http://goo.gl/fb/Dbe3b2 scraped"
       ]
      },
      {
       "output_type": "stream",
       "stream": "stdout",
       "text": [
        "\n",
        "418 urls scraped\n",
        "http://fb.me/2YWhGnw9h scraped"
       ]
      },
      {
       "output_type": "stream",
       "stream": "stdout",
       "text": [
        "\n",
        "419 urls scraped\n",
        "http://uinterview.com/reviews/movies/interstellar-review-2014-a-space-sickness scraped"
       ]
      },
      {
       "output_type": "stream",
       "stream": "stdout",
       "text": [
        "\n",
        "420 urls scraped\n",
        "error scraping"
       ]
      },
      {
       "output_type": "stream",
       "stream": "stdout",
       "text": [
        "\n",
        "Invalid status code\n",
        "http://io9.com/hbo-will-make-asimovs-foundation-with-interstellars-jon-1657018306 scraped"
       ]
      },
      {
       "output_type": "stream",
       "stream": "stdout",
       "text": [
        "\n",
        "421 urls scraped\n",
        "http://popfront.us/2014/11/the-stars-our-destination/#more-431 scraped"
       ]
      },
      {
       "output_type": "stream",
       "stream": "stdout",
       "text": [
        "\n",
        "422 urls scraped\n",
        "http://dlvr.it/7TyT9d scraped"
       ]
      },
      {
       "output_type": "stream",
       "stream": "stdout",
       "text": [
        "\n",
        "423 urls scraped\n",
        "http://lockerdo.me/NP/Ys scraped"
       ]
      },
      {
       "output_type": "stream",
       "stream": "stdout",
       "text": [
        "\n",
        "424 urls scraped\n",
        "http://j.mp/1EqwE0Z scraped"
       ]
      },
      {
       "output_type": "stream",
       "stream": "stdout",
       "text": [
        "\n",
        "425 urls scraped\n",
        "http://www.kcrw.com/news-culture/shows/press-play-with-madeleine-brand/remains-of-missing-mexican-students-and-bill-nye-the-science-guy#seg-the-science-of-interstellar scraped"
       ]
      },
      {
       "output_type": "stream",
       "stream": "stdout",
       "text": [
        "\n",
        "426 urls scraped\n",
        "http://www.infowars.com/interstellar-a-positive-message-for-humanity-at-the-crossroads-of-history/ scraped"
       ]
      },
      {
       "output_type": "stream",
       "stream": "stdout",
       "text": [
        "\n",
        "427 urls scraped\n",
        "http://goo.gl/fb/ko3Ev9 scraped"
       ]
      },
      {
       "output_type": "stream",
       "stream": "stdout",
       "text": [
        "\n",
        "428 urls scraped\n",
        "http://statweestics.com/2141515/ scraped"
       ]
      },
      {
       "output_type": "stream",
       "stream": "stdout",
       "text": [
        "\n",
        "429 urls scraped\n",
        "http://instagram.com/p/vRTMi4G_Ql/ scraped"
       ]
      },
      {
       "output_type": "stream",
       "stream": "stdout",
       "text": [
        "\n",
        "430 urls scraped\n",
        "http://j.mp/1u7iyi0 scraped"
       ]
      },
      {
       "output_type": "stream",
       "stream": "stdout",
       "text": [
        "\n",
        "431 urls scraped\n",
        "error scraping"
       ]
      },
      {
       "output_type": "stream",
       "stream": "stdout",
       "text": [
        "\n",
        "Page not text\n",
        "http://bit.ly/10R4Qns scraped"
       ]
      },
      {
       "output_type": "stream",
       "stream": "stdout",
       "text": [
        "\n",
        "432 urls scraped\n",
        "http://trib.al/NITs4KK scraped"
       ]
      },
      {
       "output_type": "stream",
       "stream": "stdout",
       "text": [
        "\n",
        "433 urls scraped\n",
        "http://lockerdo.me/GM&rT scraped"
       ]
      },
      {
       "output_type": "stream",
       "stream": "stdout",
       "text": [
        "\n",
        "434 urls scraped\n",
        "http://www.myinstants.com/instant/inception-button/ scraped"
       ]
      },
      {
       "output_type": "stream",
       "stream": "stdout",
       "text": [
        "\n",
        "435 urls scraped\n",
        "http://ift.tt/10RKTNm scraped"
       ]
      },
      {
       "output_type": "stream",
       "stream": "stdout",
       "text": [
        "\n",
        "436 urls scraped\n",
        "http://fw.to/u9J4NPm scraped"
       ]
      },
      {
       "output_type": "stream",
       "stream": "stdout",
       "text": [
        "\n",
        "437 urls scraped\n",
        "http://lockerdo.me/HWJNT scraped"
       ]
      },
      {
       "output_type": "stream",
       "stream": "stdout",
       "text": [
        "\n",
        "438 urls scraped\n",
        "http://lockerdo.me/+zgkd scraped"
       ]
      },
      {
       "output_type": "stream",
       "stream": "stdout",
       "text": [
        "\n",
        "439 urls scraped\n",
        "http://tinyurl.com/m4xf8kl scraped"
       ]
      },
      {
       "output_type": "stream",
       "stream": "stdout",
       "text": [
        "\n",
        "440 urls scraped\n",
        "http://fb.me/3n4Zippq3 scraped"
       ]
      },
      {
       "output_type": "stream",
       "stream": "stdout",
       "text": [
        "\n",
        "441 urls scraped\n",
        "http://buff.ly/1Enl7zu scraped"
       ]
      },
      {
       "output_type": "stream",
       "stream": "stdout",
       "text": [
        "\n",
        "442 urls scraped\n",
        "http://dlvr.it/7TyYM0 scraped"
       ]
      },
      {
       "output_type": "stream",
       "stream": "stdout",
       "text": [
        "\n",
        "443 urls scraped\n",
        "http://crazydogtshirts.com scraped"
       ]
      },
      {
       "output_type": "stream",
       "stream": "stdout",
       "text": [
        "\n",
        "444 urls scraped\n",
        "https://twitter.com/neiltyson/status/532241876946915329 scraped"
       ]
      },
      {
       "output_type": "stream",
       "stream": "stdout",
       "text": [
        "\n",
        "445 urls scraped\n",
        "http://failedcritics.com/2014/11/11/into-stellar/ scraped"
       ]
      },
      {
       "output_type": "stream",
       "stream": "stdout",
       "text": [
        "\n",
        "446 urls scraped\n",
        "http://instagram.com/p/vRR1_mtD3k/ scraped"
       ]
      },
      {
       "output_type": "stream",
       "stream": "stdout",
       "text": [
        "\n",
        "447 urls scraped\n",
        "http://www.expo21xx.com/industrial-robots/20270_st3_robotics-world/default.htm scraped"
       ]
      },
      {
       "output_type": "stream",
       "stream": "stdout",
       "text": [
        "\n",
        "448 urls scraped\n",
        "https://fergalcasey.wordpress.com/2014/11/10/interstellar/ scraped"
       ]
      },
      {
       "output_type": "stream",
       "stream": "stdout",
       "text": [
        "\n",
        "449 urls scraped\n",
        "http://instagram.com/p/vRRlTwSO7A/ scraped"
       ]
      },
      {
       "output_type": "stream",
       "stream": "stdout",
       "text": [
        "\n",
        "450 urls scraped\n",
        "http://instagram.com/p/vRRgccG4yE/ scraped"
       ]
      },
      {
       "output_type": "stream",
       "stream": "stdout",
       "text": [
        "\n",
        "451 urls scraped\n",
        "http://www.reviewsofmoviesihaventseen.com/2014/11/interstellar.html scraped"
       ]
      },
      {
       "output_type": "stream",
       "stream": "stdout",
       "text": [
        "\n",
        "452 urls scraped\n",
        "http://instagram.com/p/vRRYiGK4-X/ scraped"
       ]
      },
      {
       "output_type": "stream",
       "stream": "stdout",
       "text": [
        "\n",
        "453 urls scraped\n",
        "http://instagram.com/p/vRRYYQnMcu/ scraped"
       ]
      },
      {
       "output_type": "stream",
       "stream": "stdout",
       "text": [
        "\n",
        "454 urls scraped\n",
        "http://espn.go.com/nfl/story/_/page/TMQWeekTen141111/saints-prove-need-revised-playoffs-tuesday-morning-quarterback scraped"
       ]
      },
      {
       "output_type": "stream",
       "stream": "stdout",
       "text": [
        "\n",
        "455 urls scraped\n",
        "http://wp.me/p4xw2y-2w scraped"
       ]
      },
      {
       "output_type": "stream",
       "stream": "stdout",
       "text": [
        "\n",
        "456 urls scraped\n",
        "http://buff.ly/1yrYDJL scraped"
       ]
      },
      {
       "output_type": "stream",
       "stream": "stdout",
       "text": [
        "\n",
        "457 urls scraped\n",
        "http://anksreview.blogspot.com/2014/11/interstellar-science-fiction-55.html?spref=tw scraped"
       ]
      },
      {
       "output_type": "stream",
       "stream": "stdout",
       "text": [
        "\n",
        "458 urls scraped\n",
        "http://ow.ly/E8aGb scraped"
       ]
      },
      {
       "output_type": "stream",
       "stream": "stdout",
       "text": [
        "\n",
        "459 urls scraped\n",
        "http://bit.ly/11bxvoh scraped"
       ]
      },
      {
       "output_type": "stream",
       "stream": "stdout",
       "text": [
        "\n",
        "460 urls scraped\n",
        "http://ln.is/lockerdo.me/UW26i scraped"
       ]
      },
      {
       "output_type": "stream",
       "stream": "stdout",
       "text": [
        "\n",
        "461 urls scraped\n",
        "http://www.ustream.tv/channel/cinema-samurai-movie-reviews-show scraped"
       ]
      },
      {
       "output_type": "stream",
       "stream": "stdout",
       "text": [
        "\n",
        "462 urls scraped\n",
        "http://coub.com/view/3yfzd scraped"
       ]
      },
      {
       "output_type": "stream",
       "stream": "stdout",
       "text": [
        "\n",
        "463 urls scraped\n",
        "http://instagram.com/p/vRQs3GpLSr/ scraped"
       ]
      },
      {
       "output_type": "stream",
       "stream": "stdout",
       "text": [
        "\n",
        "464 urls scraped\n",
        "http://behindwoods.com/tamil-movies-cinema-news-14/reasons-to-watch-appuchi-graamam.html scraped"
       ]
      },
      {
       "output_type": "stream",
       "stream": "stdout",
       "text": [
        "\n",
        "465 urls scraped\n",
        "http://fb.me/7g6ya59f9 scraped"
       ]
      },
      {
       "output_type": "stream",
       "stream": "stdout",
       "text": [
        "\n",
        "466 urls scraped\n",
        "http://bit.ly/1u7aL3T scraped"
       ]
      },
      {
       "output_type": "stream",
       "stream": "stdout",
       "text": [
        "\n",
        "467 urls scraped\n",
        "http://j.mp/10VSFWD scraped"
       ]
      },
      {
       "output_type": "stream",
       "stream": "stdout",
       "text": [
        "\n",
        "468 urls scraped\n",
        "http://ViralBinge.com scraped"
       ]
      },
      {
       "output_type": "stream",
       "stream": "stdout",
       "text": [
        "\n",
        "469 urls scraped\n",
        "http://tinyurl.com/lgt2rah scraped"
       ]
      },
      {
       "output_type": "stream",
       "stream": "stdout",
       "text": [
        "\n",
        "470 urls scraped\n",
        "error scraping"
       ]
      },
      {
       "output_type": "stream",
       "stream": "stdout",
       "text": [
        "\n",
        "Page not text\n",
        "http://instagram.com/p/vRQRvQMM5k/ scraped"
       ]
      },
      {
       "output_type": "stream",
       "stream": "stdout",
       "text": [
        "\n",
        "471 urls scraped\n",
        "error scraping"
       ]
      },
      {
       "output_type": "stream",
       "stream": "stdout",
       "text": [
        "\n",
        "Page not text\n",
        "http://instagram.com/p/vRQFUchrj_/ scraped"
       ]
      },
      {
       "output_type": "stream",
       "stream": "stdout",
       "text": [
        "\n",
        "472 urls scraped\n",
        "http://www.nasa.gov/content/one-year-crew/index.html#.VGD7APnF81I scraped"
       ]
      },
      {
       "output_type": "stream",
       "stream": "stdout",
       "text": [
        "\n",
        "473 urls scraped\n",
        "https://www.facebook.com/picturehouses/photos/a.389920984452.169801.360780814452/10153011464239453/?type=1&theater scraped"
       ]
      },
      {
       "output_type": "stream",
       "stream": "stdout",
       "text": [
        "\n",
        "474 urls scraped\n",
        "error scraping"
       ]
      },
      {
       "output_type": "stream",
       "stream": "stdout",
       "text": [
        "\n",
        "Page not text\n",
        "http://instagram.com/p/vRP2fLw0Qo/ scraped"
       ]
      },
      {
       "output_type": "stream",
       "stream": "stdout",
       "text": [
        "\n",
        "475 urls scraped\n",
        "http://www.cbsnews.com/news/interstellar-science-explained-by-neil-degrasse-tyson scraped"
       ]
      },
      {
       "output_type": "stream",
       "stream": "stdout",
       "text": [
        "\n",
        "476 urls scraped\n",
        "http://buff.ly/1GLwHGH scraped"
       ]
      },
      {
       "output_type": "stream",
       "stream": "stdout",
       "text": [
        "\n",
        "477 urls scraped\n",
        "http://www.vulture.com/2014/11/interstellar-tars-best-character-crying-matt-damon.html?mid=twitter_vulture scraped"
       ]
      },
      {
       "output_type": "stream",
       "stream": "stdout",
       "text": [
        "\n",
        "478 urls scraped\n",
        "error scraping"
       ]
      },
      {
       "output_type": "stream",
       "stream": "stdout",
       "text": [
        "\n",
        "Invalid status code\n",
        "error scraping"
       ]
      },
      {
       "output_type": "stream",
       "stream": "stdout",
       "text": [
        "\n",
        "Page not text\n",
        "error scraping"
       ]
      },
      {
       "output_type": "stream",
       "stream": "stdout",
       "text": [
        "\n",
        "Invalid status code\n",
        "http://www.youtube.com/watch?v=zSWdZVtXT7E scraped"
       ]
      },
      {
       "output_type": "stream",
       "stream": "stdout",
       "text": [
        "\n",
        "479 urls scraped\n",
        "http://buff.ly/1zhAqXC scraped"
       ]
      },
      {
       "output_type": "stream",
       "stream": "stdout",
       "text": [
        "\n",
        "480 urls scraped\n",
        "http://bollywoodhollywoodreviews.blogspot.in/2014/11/movie-review-interstellar.html scraped"
       ]
      },
      {
       "output_type": "stream",
       "stream": "stdout",
       "text": [
        "\n",
        "481 urls scraped\n",
        "error scraping"
       ]
      },
      {
       "output_type": "stream",
       "stream": "stdout",
       "text": [
        "\n",
        "Invalid status code\n",
        "http://bit.ly/1szWxUA scraped"
       ]
      },
      {
       "output_type": "stream",
       "stream": "stdout",
       "text": [
        "\n",
        "482 urls scraped\n",
        "error scraping"
       ]
      },
      {
       "output_type": "stream",
       "stream": "stdout",
       "text": [
        "\n",
        "Invalid status code\n",
        "http://buff.ly/1yqyQ4N scraped"
       ]
      },
      {
       "output_type": "stream",
       "stream": "stdout",
       "text": [
        "\n",
        "483 urls scraped\n",
        "http://idpetition.blogspot.com scraped"
       ]
      },
      {
       "output_type": "stream",
       "stream": "stdout",
       "text": [
        "\n",
        "484 urls scraped\n",
        "http://twitter.com/jamiecalder/status/532235935811776512/photo/1 scraped"
       ]
      },
      {
       "output_type": "stream",
       "stream": "stdout",
       "text": [
        "\n",
        "485 urls scraped\n",
        "http://ift.tt/1Ey0h0t scraped"
       ]
      },
      {
       "output_type": "stream",
       "stream": "stdout",
       "text": [
        "\n",
        "486 urls scraped\n",
        "http://www.fandango.com/interstellar_163452/movieoverview scraped"
       ]
      },
      {
       "output_type": "stream",
       "stream": "stdout",
       "text": [
        "\n",
        "487 urls scraped\n",
        "error scraping"
       ]
      },
      {
       "output_type": "stream",
       "stream": "stdout",
       "text": [
        "\n",
        "Invalid status code\n",
        "http://www.washingtonpost.com/lifestyle/style/critics-notebook-interstellars-sonic-soup-or-how-auteurs-diss-their-audience/2014/11/07/7f8e4110-65cd-11e4-836c-83bc4f26eb67_story.html scraped"
       ]
      },
      {
       "output_type": "stream",
       "stream": "stdout",
       "text": [
        "\n",
        "488 urls scraped\n",
        "http://wmag.co/1w1c7tw scraped"
       ]
      },
      {
       "output_type": "stream",
       "stream": "stdout",
       "text": [
        "\n",
        "489 urls scraped\n",
        "http://www.indiewire.com/article/neil-degrasse-tysons-twitter-review-makes-us-re-think-interstellar-20141110 scraped"
       ]
      },
      {
       "output_type": "stream",
       "stream": "stdout",
       "text": [
        "\n",
        "490 urls scraped\n",
        "http://fb.me/1oNw0PVlX scraped"
       ]
      },
      {
       "output_type": "stream",
       "stream": "stdout",
       "text": [
        "\n",
        "491 urls scraped\n",
        "http://ln.is/lockerdo.me/xhmcq scraped"
       ]
      },
      {
       "output_type": "stream",
       "stream": "stdout",
       "text": [
        "\n",
        "492 urls scraped\n",
        "error scraping"
       ]
      },
      {
       "output_type": "stream",
       "stream": "stdout",
       "text": [
        "\n",
        "Invalid status code\n",
        "http://bit.ly/1wFpMu8 scraped"
       ]
      },
      {
       "output_type": "stream",
       "stream": "stdout",
       "text": [
        "\n",
        "493 urls scraped\n",
        "http://www.zazzle.com/the_disintegration_of_winslow_t_shirt-235440215745836521 scraped"
       ]
      },
      {
       "output_type": "stream",
       "stream": "stdout",
       "text": [
        "\n",
        "494 urls scraped\n",
        "http://fb.me/3BKNubHgQ scraped"
       ]
      },
      {
       "output_type": "stream",
       "stream": "stdout",
       "text": [
        "\n",
        "495 urls scraped\n",
        "https://www.swarmapp.com/c/awseZu3JOOc scraped"
       ]
      },
      {
       "output_type": "stream",
       "stream": "stdout",
       "text": [
        "\n",
        "496 urls scraped\n",
        "http://ln.is/lockerdo.me/R04/xjTt2 scraped"
       ]
      },
      {
       "output_type": "stream",
       "stream": "stdout",
       "text": [
        "\n",
        "497 urls scraped\n",
        "http://bit.ly/1uVGx56 scraped"
       ]
      },
      {
       "output_type": "stream",
       "stream": "stdout",
       "text": [
        "\n",
        "498 urls scraped\n",
        "http://goo.gl/ntox8F scraped"
       ]
      },
      {
       "output_type": "stream",
       "stream": "stdout",
       "text": [
        "\n",
        "499 urls scraped\n",
        "http://buff.ly/1GLwFif scraped"
       ]
      },
      {
       "output_type": "stream",
       "stream": "stdout",
       "text": [
        "\n",
        "500 urls scraped\n",
        "Tweet manifest written\n"
       ]
      }
     ],
     "prompt_number": 4
    }
   ],
   "metadata": {}
  }
 ]
}