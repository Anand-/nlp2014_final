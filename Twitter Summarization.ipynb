{
 "metadata": {
  "name": "",
  "signature": "sha256:72936e96788cb05e9d7707f51d64f127a89f86b7401a1689dae9d7f7e7d21780"
 },
 "nbformat": 3,
 "nbformat_minor": 0,
 "worksheets": [
  {
   "cells": [
    {
     "cell_type": "code",
     "collapsed": false,
     "input": [
      "import nltk, string\n",
      "from nltk.corpus import stopwords, brown\n",
      "from nltk.tokenize import RegexpTokenizer\n",
      "from nltk.collocations import *\n",
      "import codecs, os, json, glob\n",
      "from bs4 import BeautifulSoup\n",
      "from nltk.corpus import wordnet as wn\n",
      "from pandas import DataFrame\n",
      "import pandas as pd"
     ],
     "language": "python",
     "metadata": {},
     "outputs": [],
     "prompt_number": 1
    },
    {
     "cell_type": "code",
     "collapsed": false,
     "input": [
      "#get list of files\n",
      "def readFilestoList(path):\n",
      "    filelist = []\n",
      "    for file in glob.glob(os.path.join(path, '*.json')):\n",
      "        filelist.append(file)\n",
      "    return filelist        "
     ],
     "language": "python",
     "metadata": {},
     "outputs": [],
     "prompt_number": 2
    },
    {
     "cell_type": "code",
     "collapsed": false,
     "input": [
      "def jsonToTuples(filelist):\n",
      "    articles = []\n",
      "    for filepath in filelist:\n",
      "        with open(filepath, 'r') as f:\n",
      "            j = json.load(f)\n",
      "            if 'objects' in j.keys():\n",
      "                if 'title' in j['objects'][0]:\n",
      "                    articles.append((j['objects'][0]['title'], j['objects'][0]['text']))\n",
      "    return articles"
     ],
     "language": "python",
     "metadata": {},
     "outputs": [],
     "prompt_number": 3
    },
    {
     "cell_type": "code",
     "collapsed": false,
     "input": [
      "def jsonToDict(filelist):\n",
      "    articles = {}\n",
      "    for filepath in filelist:\n",
      "        with open(filepath, 'r') as f:\n",
      "            j = json.load(f)\n",
      "            if 'objects' in j.keys():\n",
      "                if 'title' in j['objects'][0]:\n",
      "                    articles[j['objects'][0]['title']]=j['objects'][0]['text']\n",
      "    return articles"
     ],
     "language": "python",
     "metadata": {},
     "outputs": [],
     "prompt_number": 4
    },
    {
     "cell_type": "code",
     "collapsed": false,
     "input": [
      "datadir = os.path.join(os.path.curdir, \"data\")"
     ],
     "language": "python",
     "metadata": {},
     "outputs": [],
     "prompt_number": 5
    },
    {
     "cell_type": "code",
     "collapsed": false,
     "input": [
      "voterID = readFilestoList(os.path.join(datadir, \"voterID_clean\"))"
     ],
     "language": "python",
     "metadata": {},
     "outputs": [],
     "prompt_number": 6
    },
    {
     "cell_type": "code",
     "collapsed": false,
     "input": [
      "tuples = jsonToTuples(voterID)"
     ],
     "language": "python",
     "metadata": {},
     "outputs": [],
     "prompt_number": 7
    },
    {
     "cell_type": "code",
     "collapsed": false,
     "input": [
      "diction = jsonToDict(voterID)"
     ],
     "language": "python",
     "metadata": {},
     "outputs": [],
     "prompt_number": 8
    },
    {
     "cell_type": "heading",
     "level": 3,
     "metadata": {},
     "source": [
      "Adding tuples into Dataframe"
     ]
    },
    {
     "cell_type": "code",
     "collapsed": false,
     "input": [
      "def languageCheck(text):\n",
      "    fd = nltk.FreqDist(nltk.word_tokenize(text))\n",
      "    topwords = [key.lower() for key in fd.keys()[:15]]\n",
      "    \n",
      "    if \"the\" not in topwords:\n",
      "#         print \"BAD TOPWORDS: \", topwords\n",
      "        return False\n",
      "    else:\n",
      "#         print \"GOOD TOPWORDS: \", topwords\n",
      "        return True\n",
      "    "
     ],
     "language": "python",
     "metadata": {},
     "outputs": [],
     "prompt_number": 9
    },
    {
     "cell_type": "code",
     "collapsed": false,
     "input": [
      "#create df for titles & content\n",
      "#tokenize titles and content\n",
      "def tokenizeTitlesContentToDf(tuples):\n",
      "    articles = []\n",
      "    titles = []\n",
      "    for i in tuples:\n",
      "        print i[0]\n",
      "        if(languageCheck(i[1])):\n",
      "            articles.append(i[1])\n",
      "            titles.append(i[0])\n",
      "\n",
      "    data = {'article': articles, 'title': titles}\n",
      "    df = DataFrame(data)\n",
      "    df['tokenized_article'] = df['article'].map(nltk.word_tokenize)\n",
      "    df['tokenized_title'] = df['title'].map(nltk.word_tokenize)\n",
      "    return df"
     ],
     "language": "python",
     "metadata": {},
     "outputs": [],
     "prompt_number": 10
    },
    {
     "cell_type": "code",
     "collapsed": false,
     "input": [
      "#create df for titles & content\n",
      "#tokenize titles and content\n",
      "def tokenizeDictionaryContentToDf(tuples):\n",
      "    articles = []\n",
      "    titles = []\n",
      "    for title,article in tuples.items():\n",
      "#         if(languageCheck(article)):\n",
      "        articles.append(article)\n",
      "        titles.append(title)\n",
      "\n",
      "    data = {'article': articles, 'title': titles}\n",
      "    df = DataFrame(data)\n",
      "    df['tokenized_article'] = df['article'].map(nltk.word_tokenize)\n",
      "    df['tokenized_title'] = df['title'].map(nltk.word_tokenize)\n",
      "    return df"
     ],
     "language": "python",
     "metadata": {},
     "outputs": [],
     "prompt_number": 11
    },
    {
     "cell_type": "code",
     "collapsed": false,
     "input": [
      "articles_df = tokenizeTitlesContentToDf(tuples)"
     ],
     "language": "python",
     "metadata": {},
     "outputs": [
      {
       "output_type": "stream",
       "stream": "stdout",
       "text": [
        "Voter Identification Requirements | Voter ID Laws\n",
        "Voter Fraud and Voter I.D."
       ]
      },
      {
       "output_type": "stream",
       "stream": "stdout",
       "text": [
        "\n",
        "Identificaci\u00f3n de Votantes\n",
        "Texans Slam Voter ID Law: 'Now That It's Happened To Me, I'm Devastated'"
       ]
      },
      {
       "output_type": "stream",
       "stream": "stdout",
       "text": [
        "\n",
        "Voter Identification Requirements | Voter ID Laws\n",
        "Is the Democratic party slowly losing hold over African-American voters?"
       ]
      },
      {
       "output_type": "stream",
       "stream": "stdout",
       "text": [
        "\n",
        "Voter Identification Requirements | Voter ID Laws\n",
        "Voter information: Polling places, voter ID, report problems"
       ]
      },
      {
       "output_type": "stream",
       "stream": "stdout",
       "text": [
        "\n",
        "6 questions about voter ID laws you were too embarrassed to ask\n",
        "Texans Slam Voter ID Law: 'Now That It's Happened To Me, I'm Devastated'\n",
        "Chaos Caused By New N.D. Voter I.D. Law"
       ]
      },
      {
       "output_type": "stream",
       "stream": "stdout",
       "text": [
        "\n",
        "On the Ground: Texas Voter ID Troubles Continue\n",
        "Convicted Mayor Placed Under House Arrest After Illegally Voting in Midterms"
       ]
      },
      {
       "output_type": "stream",
       "stream": "stdout",
       "text": [
        "\n",
        "Voter Fraud and Voter I.D.\n",
        "Vote-fraud undercover videos 'made a difference'\n",
        "Texans Slam Voter ID Law: 'Now That It's Happened To Me, I'm Devastated'"
       ]
      },
      {
       "output_type": "stream",
       "stream": "stdout",
       "text": [
        "\n",
        "Obama AG pick: Racism fuels voter-ID laws\n",
        "Voter Identification Requirements | Voter ID Laws\n",
        "0700 Mark Obenshain and Marines Birthday"
       ]
      },
      {
       "output_type": "stream",
       "stream": "stdout",
       "text": [
        "\n",
        "Registrars report no major problems with new voter ID law\n",
        "Since Texas Implemented Voter ID, The Number Of Provisional Ballots Doubled\n",
        "Iowa secretary of state hopefuls differ on voter ID measures\n",
        "'Can I See Some ID?' Is A Totally Reasonable Question, Except In 1 Situation"
       ]
      },
      {
       "output_type": "stream",
       "stream": "stdout",
       "text": [
        "\n",
        "The GOP\u2019s infernal election strategy: Why suppressing the vote could keep Republicans in power\n",
        "The most aggravating race in the midterms\n",
        "Casey: Photo ID law is 'voter fraud at its worst'"
       ]
      },
      {
       "output_type": "stream",
       "stream": "stdout",
       "text": [
        "\n",
        "This is what it\u2019s like to try to get a Voter ID when you\u2019re disabled, poor or don\u2019t drive\n",
        "7 Examples That Show Voter Fraud Is A Huge Problem"
       ]
      },
      {
       "output_type": "stream",
       "stream": "stdout",
       "text": [
        "\n",
        "Identificaci\u00f3n de Votantes\n",
        "Taxpayer Dollars Used For Voter Suppression In Milwaukee"
       ]
      },
      {
       "output_type": "stream",
       "stream": "stdout",
       "text": [
        "\n",
        "Texas sees surge of disenfranchised voters\n",
        "Loretta Lynch Attacks Voter ID Laws in Video"
       ]
      },
      {
       "output_type": "stream",
       "stream": "stdout",
       "text": [
        "\n",
        "Why Are Voter ID Laws So Controversial? FRONTLINE Answers Your Questions\n",
        "Identificaci\u00f3n de Votantes\n",
        "Exposing the Liberal lies that Voter Fraud never happens."
       ]
      },
      {
       "output_type": "stream",
       "stream": "stdout",
       "text": [
        "\n",
        "Identificaci\u00f3n de Votantes\n",
        "On the ground on Texas"
       ]
      },
      {
       "output_type": "stream",
       "stream": "stdout",
       "text": [
        "\n",
        "US Senate Debate on Keystone Pipeline Bill\n",
        "Obama AG Nominee Lynch: Voter ID Laws were Passed by Racist Southerners, Must be Stopped\n",
        "Catherine Rampell: Voter suppression laws are already deciding elections\n",
        "A common sense explanation for why voter ID laws seem like common sense\n",
        "Voices: In some states, voter ID is no joke\n",
        "Measuring the Effects of Voter Identification Laws"
       ]
      },
      {
       "output_type": "stream",
       "stream": "stdout",
       "text": [
        "\n",
        "So, is it suppressing voters?\n",
        "When Prosecutors Write Opinions That Judges Sign Off On"
       ]
      },
      {
       "output_type": "stream",
       "stream": "stdout",
       "text": [
        "\n",
        "OPINION: Thomas Sowell \u2014 Voter Fraud and Voter I.D.\n",
        "Time to Give Voter Fraud the Finger\n",
        "Woman happy she gets stolen purse back in time to vote\n",
        "Voter Identification Requirements | Voter ID Laws\n",
        "Voter Identification Requirements | Voter ID Laws"
       ]
      },
      {
       "output_type": "stream",
       "stream": "stdout",
       "text": [
        "\n",
        "Measuring the Effects of Voter Identification Laws"
       ]
      },
      {
       "output_type": "stream",
       "stream": "stdout",
       "text": [
        "\n",
        "Voter Fraud and Voter I.D.\n",
        "Voters Finally Cast Ballots, Make Decisions in Election 2014"
       ]
      },
      {
       "output_type": "stream",
       "stream": "stdout",
       "text": [
        "\n",
        "Jim Crow Returns: Interstate \"Crosscheck\" Program Could Strip Millions of the Right to Vote\n",
        "Polling place a long walk for ASU students"
       ]
      },
      {
       "output_type": "stream",
       "stream": "stdout",
       "text": [
        "\n",
        "Voting: 19th Century Style\n",
        "Why Conservatives Should Get Involved in the Republican Party\n",
        "Non-Citizens Are Voting\n",
        "S.C. is model for voter ID laws in U.S."
       ]
      },
      {
       "output_type": "stream",
       "stream": "stdout",
       "text": [
        "\n",
        "Welcome to the Quick IQ Test!\n",
        "Registrars report no major problems with new voter ID law\n",
        "Voter Fraud and Voter I.D.\n",
        "This Is What Happened Because Congress Didn't Fix The Voting Rights Act\n",
        "ALEC - The American Legislative Exchange Council - Explained in 5 Minutes"
       ]
      },
      {
       "output_type": "stream",
       "stream": "stdout",
       "text": [
        "\n",
        "La Raza Promotes Washington Post Guide On Where People Can Vote Without An ID\n",
        "Missouri Police chief told to show ID before voting\n",
        "Voter Identification Requirements | Voter ID Laws\n",
        "Texans Slam Voter ID Law: 'Now That It's Happened To Me, I'm Devastated'"
       ]
      },
      {
       "output_type": "stream",
       "stream": "stdout",
       "text": [
        "\n",
        "Voting Rights Complaint Form\n",
        "Election Night 2014 Coverage with Democracy Now!\n",
        "Obama\u2019s A.G. Nominee: Voter ID Laws Were Passed by Racist Southerners, and Must be Stopped\n",
        "Identificaci\u00f3n de Votantes\n",
        "Identificaci\u00f3n de Votantes"
       ]
      },
      {
       "output_type": "stream",
       "stream": "stdout",
       "text": [
        "\n",
        "WATCH! AG Nominee Loretta Lynch: Voter ID Is Racist\n",
        "Media Wrap-Up: How Voters Fared With New Restrictions"
       ]
      },
      {
       "output_type": "stream",
       "stream": "stdout",
       "text": [
        "\n",
        "Scott Walker wants jobless, food stamp recipients to face drug tests\n",
        "The constitutional amendment that would finally end our endless voter ID battle\n",
        "Democrats are Racist"
       ]
      },
      {
       "output_type": "stream",
       "stream": "stdout",
       "text": [
        "\n",
        "Report: Dwight Howard Under Investigation for Child Abuse\n",
        "In 1st statewide election, few problems reported with voter photo ID\n",
        "Voter Disenfranchisement That Right-Wing Media Said Wouldn't Happen Is Definitely Happening"
       ]
      },
      {
       "output_type": "stream",
       "stream": "stdout",
       "text": [
        "\n",
        "Mississippi NAACP leader sent to prison for 10 counts of voter fraud"
       ]
      },
      {
       "output_type": "stream",
       "stream": "stdout",
       "text": [
        "\n",
        "Voter Identification Requirements | Voter ID Laws\n",
        "This Is What Happened Because Congress Didn't Fix The Voting Rights Act"
       ]
      },
      {
       "output_type": "stream",
       "stream": "stdout",
       "text": [
        "\n",
        "For Election 2014, It\u2019s About Protecting Voting Rights\n",
        "Vote-fraud undercover videos 'made a difference'"
       ]
      },
      {
       "output_type": "stream",
       "stream": "stdout",
       "text": [
        "\n",
        "Identificaci\u00f3n de Votantes\n",
        "The constitutional amendment that would finally end our endless voter ID battle"
       ]
      },
      {
       "output_type": "stream",
       "stream": "stdout",
       "text": [
        "\n",
        "How Much of a Difference Did New Voting Restrictions Make in Yesterday\u2019s Close Races?\n",
        "Needs a \u2018news hit!\u2019 You will not believe what is happening at these polling stations [photo]"
       ]
      },
      {
       "output_type": "stream",
       "stream": "stdout",
       "text": [
        "\n",
        "Voter ID Laws Sowed Confusion Tuesday, Lawyers Report\n",
        "Wait.. What? Obama's nominee for AG is against what? VIDEO!!\n",
        "Analysis: The Voters Who Disappeared\n",
        "jessieann71\n",
        "First case of voter fraud confirmed in Rio Arriba Co.\n",
        "Obama\u2019s A.G. Nominee: Voter ID Laws Were Passed by Racist Southerners, and Must be Stopped"
       ]
      },
      {
       "output_type": "stream",
       "stream": "stdout",
       "text": [
        "\n",
        "No Justice Department Charges Against Ohio Woman Who Voted Six Times for Obama\n",
        "Harvard students attempt to take 1964 Louisiana Literacy test, fail\n",
        "Since Texas Implemented Voter ID, The Number Of Provisional Ballots Doubled\n",
        "Man gets BernCo. to send 3 dead voters' absentee ballots to own home; FBI seizes ballots"
       ]
      },
      {
       "output_type": "stream",
       "stream": "stdout",
       "text": [
        "\n",
        "Identificaci\u00f3n de Votantes\n",
        "This Is What Happened Because Congress Didn't Fix The Voting Rights Act"
       ]
      },
      {
       "output_type": "stream",
       "stream": "stdout",
       "text": [
        "\n",
        "Identificaci\u00f3n de Votantes\n",
        "As New Rules Take Effect, Voters Report Problems in Some States"
       ]
      },
      {
       "output_type": "stream",
       "stream": "stdout",
       "text": [
        "\n",
        "Do I need an ID to vote? A look at the laws in all 50 states.\n",
        "Even Without Voter ID Laws, Minority Voters Face More Hurdles to Casting Ballots\n",
        "How Republicans turned Democrats' voter turnout tactics against them\n",
        "Justice Department dispatches poll monitors for Election Day"
       ]
      },
      {
       "output_type": "stream",
       "stream": "stdout",
       "text": [
        "\n",
        "Exposing the Liberal lies that Voter Fraud never happens.\n",
        "Do I need an ID to vote? A look at the laws in all 50 states.\n",
        "MSNBC: Minority Voters Disenfranchised, Problems at Polls\n",
        "Voter Fraud Confirmed in New Mexico: Voter Turned Away After Illegal Voter Pretended to be Him\n",
        "GOP legally barred from fighting vote fraud\n",
        "Thank you for voting, Greater Birmingham!"
       ]
      },
      {
       "output_type": "stream",
       "stream": "stdout",
       "text": [
        "\n",
        "Texas sees surge of disenfranchised voters\n",
        "Voter Fraud and Voter I.D."
       ]
      },
      {
       "output_type": "stream",
       "stream": "stdout",
       "text": [
        "\n",
        "Voters: we want to hear your horror stories\n",
        "Voter Identification Requirements | Voter ID Laws\n",
        "Voter Identification Requirements | Voter ID Laws"
       ]
      },
      {
       "output_type": "stream",
       "stream": "stdout",
       "text": [
        "\n",
        "The Day After: 8 Takeaways from the 2014 Midterms"
       ]
      },
      {
       "output_type": "stream",
       "stream": "stdout",
       "text": [
        "\n",
        "Midterm Election Results 2014: Did Voter ID Laws Help Republicans Win The Senate Majority?\n",
        "Register to Vote\n",
        "Young: Choosing who gets to choose, 2014"
       ]
      },
      {
       "output_type": "stream",
       "stream": "stdout",
       "text": [
        "\n",
        "Identificaci\u00f3n de Votantes\n",
        "Comprehensive Database of U.S. Voter Fraud Uncovers No Evidence That Photo ID Is Needed\n",
        "A New Voting Machine Could Make Sure Every Vote Really Counts"
       ]
      },
      {
       "output_type": "stream",
       "stream": "stdout",
       "text": [
        "\n",
        "We Already Know Who Won the 2014 Election\n",
        "Voter Identification Requirements | Voter ID Laws\n",
        "Identificaci\u00f3n de Votantes"
       ]
      },
      {
       "output_type": "stream",
       "stream": "stdout",
       "text": [
        "\n",
        "Texas Voter ID law discourages voter security\n",
        "Where to Vote"
       ]
      },
      {
       "output_type": "stream",
       "stream": "stdout",
       "text": [
        "\n",
        "This Is the One Democrat Texas' Voter ID Law Could Really Screw Over\n",
        "Voter Fraud and Voter I.D.\n",
        "Not Voting: What\u2019s Your Excuse?\n",
        "Massive Non-Citizen Voting Uncovered in Maryland\n",
        "Chasing Echoes Voter ID. ft. Pres. Barack Obama (Extended Night Mix) #SeeYouInNovember2014\n",
        "Voting Machine Caught on Camera Casting Ballot for Democrat when Selecting Republican\n",
        "Harvard students attempt to take 1964 Louisiana Literacy test, fail\n",
        "No ID, No Vote: What's Happening in Texas"
       ]
      },
      {
       "output_type": "stream",
       "stream": "stdout",
       "text": [
        "\n",
        "Identificaci\u00f3n de Votantes\n",
        "Obama AG Nominee Lynch: Voter ID Laws were Passed by Racist Southerners, Must be Stopped"
       ]
      },
      {
       "output_type": "stream",
       "stream": "stdout",
       "text": [
        "\n",
        "Texans Slam Voter ID Law: 'Now That It's Happened To Me, I'm Devastated'\n",
        "As New Rules Take Effect, Voters Report Problems in Some States\n",
        "A comprehensive investigation of voter impersonation finds 31 credible incidents out of one billion ballots cast\n",
        "Buy Direct from China Factories. Free Shipping & Payment Protection."
       ]
      },
      {
       "output_type": "stream",
       "stream": "stdout",
       "text": [
        "\n",
        "Voter Identification Requirements | Voter ID Laws\n",
        "Identificaci\u00f3n de Votantes"
       ]
      },
      {
       "output_type": "stream",
       "stream": "stdout",
       "text": [
        "\n",
        "Identificaci\u00f3n de Votantes\n",
        "Identificaci\u00f3n de Votantes"
       ]
      },
      {
       "output_type": "stream",
       "stream": "stdout",
       "text": [
        "\n",
        "Election 2014: Beyond The Horserace\n",
        "How Much of a Difference Did New Voting Restrictions Make in Yesterday's Close Races?"
       ]
      },
      {
       "output_type": "stream",
       "stream": "stdout",
       "text": [
        "\n",
        "Welcome Aboard!\n",
        "Equality\n",
        "Voter Identification Requirements | Voter ID Laws\n",
        "What Beyonc\u00e9 and Lil Jon know about ballot selfies can help fix voting rights"
       ]
      },
      {
       "output_type": "stream",
       "stream": "stdout",
       "text": [
        "\n",
        "What\u2019s ahead in Texas voter ID battle\n",
        "Tenth Circuit Bars Effort By Kansas, Arizona To Add To Requirements For Voter Registration\n",
        "First case of voter fraud confirmed in Rio Arriba Co."
       ]
      },
      {
       "output_type": "stream",
       "stream": "stdout",
       "text": [
        "\n",
        "Actual election turnout far lower than reported\n",
        "Identificaci\u00f3n de Votantes\n",
        "Vote-fraud undercover videos 'made a difference'"
       ]
      },
      {
       "output_type": "stream",
       "stream": "stdout",
       "text": [
        "\n",
        "Identificaci\u00f3n de Votantes\n",
        "Identificaci\u00f3n de Votantes"
       ]
      },
      {
       "output_type": "stream",
       "stream": "stdout",
       "text": [
        "\n",
        "Voter Suppression in 2014"
       ]
      },
      {
       "output_type": "stream",
       "stream": "stdout",
       "text": [
        "\n",
        "Identificaci\u00f3n de Votantes\n",
        "Federal appeals court rejects citizenship proof rule for Kansas voters"
       ]
      },
      {
       "output_type": "stream",
       "stream": "stdout",
       "text": [
        "\n",
        "Here's How Much It Costs to Vote in States With Voter ID Laws\n",
        "BENEDI: Qualifications to legally vote\n",
        "Voter Identification Requirements | Voter ID Laws"
       ]
      },
      {
       "output_type": "stream",
       "stream": "stdout",
       "text": [
        "\n",
        "Who Doesn\u2019t Have Photo ID?"
       ]
      },
      {
       "output_type": "stream",
       "stream": "stdout",
       "text": [
        "\n",
        "Voter Fraud and Voter I.D.\n",
        "Exposing the Liberal lies that Voter Fraud never happens.\n",
        "New photo ID rule in effect Tuesday\n",
        "Voter Identification Requirements | Voter ID Laws"
       ]
      },
      {
       "output_type": "stream",
       "stream": "stdout",
       "text": [
        "\n",
        "How Much of a Difference Did New Voting Restrictions Make in Yesterday's Close Races?"
       ]
      },
      {
       "output_type": "stream",
       "stream": "stdout",
       "text": [
        "\n",
        "Obama AG Nominee Loretta Lynch: Voter ID Laws Are Racist And Must Be Stopped\u2026\n",
        "Voting Rights Complaint Form\n",
        "Democrats are Racist\n",
        "First Federal Election Under Texas' New Voter ID Law"
       ]
      },
      {
       "output_type": "stream",
       "stream": "stdout",
       "text": [
        "\n",
        "9 Scathing Quotes From Judge Posner's Dissent Against WI Voter ID\n",
        "Little demand for voter ID cards, but some hit obstacles\n",
        "Texans Slam Voter ID Law: 'Now That It's Happened To Me, I'm Devastated'"
       ]
      },
      {
       "output_type": "stream",
       "stream": "stdout",
       "text": [
        "\n",
        "Voter Identification Requirements | Voter ID Laws\n",
        "Midterm Election Results 2014: Did Voter ID Laws Help Republicans Win The Senate Majority?"
       ]
      },
      {
       "output_type": "stream",
       "stream": "stdout",
       "text": [
        "\n",
        "Voter Fraud and Voter ID\n",
        "Identificaci\u00f3n de Votantes"
       ]
      },
      {
       "output_type": "stream",
       "stream": "stdout",
       "text": [
        "\n",
        "Identificaci\u00f3n de Votantes"
       ]
      },
      {
       "output_type": "stream",
       "stream": "stdout",
       "text": [
        "\n",
        "This Is What Happened Because Congress Didn't Fix The Voting Rights Act"
       ]
      },
      {
       "output_type": "stream",
       "stream": "stdout",
       "text": [
        "\n",
        "Voter Suppression\n",
        "Texas sees surge of disenfranchised voters\n",
        "Texans Slam Voter ID Law: 'Now That It's Happened To Me, I'm Devastated'"
       ]
      },
      {
       "output_type": "stream",
       "stream": "stdout",
       "text": [
        "\n",
        "Obama AG Nominee Lynch: 'Voter ID Lawsuits Will Continue'\n",
        "Everything You\u2019ve Ever Wanted to Know About Voter ID Laws\n",
        "Balkinization"
       ]
      },
      {
       "output_type": "stream",
       "stream": "stdout",
       "text": [
        "\n",
        "Little demand for voter ID cards, but some hit obstacles"
       ]
      },
      {
       "output_type": "stream",
       "stream": "stdout",
       "text": [
        "\n",
        "The War on Voting May Have Swung These 4 Races\n",
        "Computerized Vote Rigging Is Still the Unseen Threat to US Democracy: It's Time to Change the System"
       ]
      },
      {
       "output_type": "stream",
       "stream": "stdout",
       "text": [
        "\n",
        "Voter Fraud and Voter I.D."
       ]
      },
      {
       "output_type": "stream",
       "stream": "stdout",
       "text": [
        "\n",
        "Justices Scalia And Thomas's Attendance At Koch Event Sparks Judicial Ethics Debate\n",
        "Voter Identification Requirements | Voter ID Laws\n",
        "BREAKING: Top Democrat Caught on Tape Telling Illegal Immigrants to Vote [VIDEO]"
       ]
      },
      {
       "output_type": "stream",
       "stream": "stdout",
       "text": [
        "\n",
        "A Snapshot of Voting Day in Houston, Texas\n",
        "N.C. poll workers offer ballots to IMPOSTOR\n",
        "Conservative Columnists with Political News Commentary, Analysis"
       ]
      },
      {
       "output_type": "stream",
       "stream": "stdout",
       "text": [
        "\n",
        "The Impact of Voter-ID Laws on Voter Turnout\n",
        "Timeline Photos\n",
        "Voting and the ID Requirement\n",
        "Where did Obama go wrong?\n",
        "Voter Identification Requirements | Voter ID Laws"
       ]
      },
      {
       "output_type": "stream",
       "stream": "stdout",
       "text": [
        "\n",
        "Here Is Voter Fraud"
       ]
      },
      {
       "output_type": "stream",
       "stream": "stdout",
       "text": [
        "\n",
        "Why Doesn\u2019t Everybody Have a Voter ID?\n",
        "Texas sees surge of disenfranchised voters\n",
        "Obama Attorney General Pick: Voter ID Laws Are About Taking Back What Dr. King Won"
       ]
      },
      {
       "output_type": "stream",
       "stream": "stdout",
       "text": [
        "\n",
        "Nancy Pleloski & George Jefferson abhor voter suppression\n",
        "Why Doesn't Everyone Have a Voter ID? | FRONTLINE Answers Your Questions\n",
        "Voter Identification Requirements | Voter ID Laws\n",
        "Aleks Buterman"
       ]
      },
      {
       "output_type": "stream",
       "stream": "stdout",
       "text": [
        "\n",
        "Voter Fraud and Voter I.D.\n",
        "Dear Supporter,\n",
        "Liberals Are Cool\n",
        "Identificaci\u00f3n de Votantes\n",
        "GOP Should Introduce the Nelson Mandela Voter Protection Act"
       ]
      },
      {
       "output_type": "stream",
       "stream": "stdout",
       "text": [
        "\n",
        "Did Voter ID Laws Impact Election Results?\n",
        "Unusual level of glitches at US polling stations reported on election day\n",
        "Meese, Blackwell: How to fraud-proof elections\n",
        "Decoding the President Listening to Two-Thirds Who Didn\u2019t Vote"
       ]
      },
      {
       "output_type": "stream",
       "stream": "stdout",
       "text": [
        "\n",
        "Election Day 2014: Research-based best practices for media; scholarship on trending campaign topics\n",
        "Voter ID rules protect seniors, minorities from fraudsters, says new study"
       ]
      },
      {
       "output_type": "stream",
       "stream": "stdout",
       "text": [
        "\n",
        "ID and Sovereignty\n",
        "America\u2019s Historically Shameful Election Day Turnout\n",
        "Texas sees surge of disenfranchised voters"
       ]
      },
      {
       "output_type": "stream",
       "stream": "stdout",
       "text": [
        "\n",
        "Albuquerque pilot, girlfriend on board missing plane\n",
        "I Was Arrested for Voting\n",
        "Explosive Election Day scandal in toss-up state\n",
        "Obama AG Nominee Lynch: Voter ID Laws were Passed by Racist Southerners, Must be Stopped"
       ]
      },
      {
       "output_type": "stream",
       "stream": "stdout",
       "text": [
        "\n",
        "Marx, Groucho : Are you a corrupt politician? WI Governor Walker\n",
        "Election 2014: Ill-Concealed Prejudice\n",
        "Grokking Democracy via IEEE ... on voting and social media\n",
        "Appeals Court: Feds don\u2019t have to enforce Kansas proof-of-citizenship law\n",
        "Identificaci\u00f3n de Votantes"
       ]
      },
      {
       "output_type": "stream",
       "stream": "stdout",
       "text": [
        "\n",
        "Voting Rights Complaint Form"
       ]
      },
      {
       "output_type": "stream",
       "stream": "stdout",
       "text": [
        "\n",
        "Wingnut voter ID group fails again: \u201cVoter integrity\u201d outfit unable to find midterm fraud\n",
        "Loretta Lynch Attacks Voter ID Laws in Video\n",
        "CorPoRAtionS & pacz, wHErE\u2019z UR VOtr ID?\n",
        "Voter Identification Requirements | Voter ID Laws\n",
        "Voting While Trans"
       ]
      },
      {
       "output_type": "stream",
       "stream": "stdout",
       "text": [
        "\n",
        "Texas Voter ID law discourages voter security\n",
        "Carl Lindemann\n",
        "Unusual level of glitches at US polling stations reported on election day\n",
        "Texans Slam Voter ID Law: 'Now That It's Happened To Me, I'm Devastated'\n",
        "Since Texas Implemented Voter ID, The Number Of Provisional Ballots Doubled"
       ]
      },
      {
       "output_type": "stream",
       "stream": "stdout",
       "text": [
        "\n",
        "Millennials aren\u2019t apathetic: Their vote is suppressed\n",
        "Voter Identification Requirements | Voter ID Laws"
       ]
      },
      {
       "output_type": "stream",
       "stream": "stdout",
       "text": [
        "\n",
        "Identificaci\u00f3n de Votantes"
       ]
      },
      {
       "output_type": "stream",
       "stream": "stdout",
       "text": [
        "\n",
        "Winners and losers in Tuesday's general election"
       ]
      },
      {
       "output_type": "stream",
       "stream": "stdout",
       "text": [
        "\n",
        "Exposing the Liberal lies that Voter Fraud never happens.\n",
        "N.C. poll workers offer ballots to IMPOSTOR\n",
        "Voter Fraud and Voter I.D."
       ]
      },
      {
       "output_type": "stream",
       "stream": "stdout",
       "text": [
        "\n",
        "The Enormous, Secretive Effort To Purge Thousands Of Minorities From 27 States\u2019 Voter Rolls\n",
        "George Soros-Funded Group Monitoring Polling Places In 16 States\n",
        "In 1st statewide election, few problems reported with voter photo ID"
       ]
      },
      {
       "output_type": "stream",
       "stream": "stdout",
       "text": [
        "\n",
        "Texans Slam Voter ID Law: 'Now That It's Happened To Me, I'm Devastated'\n",
        "Voter-ID backer catches Dems in the act"
       ]
      },
      {
       "output_type": "stream",
       "stream": "stdout",
       "text": [
        "\n",
        "Texas Leagues are Up to the Challenge \u2013 Providing Critical Voter Education\n",
        "Voter Identification Requirements | Voter ID Laws\n",
        "N.C. early voting revealed as vulnerable to identity fraud"
       ]
      },
      {
       "output_type": "stream",
       "stream": "stdout",
       "text": [
        "\n",
        "Exposing the Liberal lies that Voter Fraud never happens.\n",
        "Texans Slam Voter ID Law: 'Now That It's Happened To Me, I'm Devastated'\n",
        "Democrats are Racist"
       ]
      },
      {
       "output_type": "stream",
       "stream": "stdout",
       "text": [
        "\n",
        "Study: Voter ID laws cut turnout by blacks, young\n",
        "How Voter ID Laws Affect Women of Color\n",
        "Voter Identification Requirements | Voter ID Laws"
       ]
      },
      {
       "output_type": "stream",
       "stream": "stdout",
       "text": [
        "\n",
        "Reversal in Texas Voter ID Law Case"
       ]
      },
      {
       "output_type": "stream",
       "stream": "stdout",
       "text": [
        "\n",
        "Voter Fraud Is Rare, but Myth Is Widespread\n",
        "A poll tax by another name is still a poll tax\n",
        "Texas sees surge of disenfranchised voters\n",
        "Voting While Trans"
       ]
      },
      {
       "output_type": "stream",
       "stream": "stdout",
       "text": [
        "\n",
        "Josh Weinhold\n",
        "The Voting Rights Act and Real Voter Suppression\n",
        "Thank you for voting, Alabama!\n",
        "Take the Impossible \u201cLiteracy\u201d Test Louisiana Gave Black Voters in the 1960s"
       ]
      },
      {
       "output_type": "stream",
       "stream": "stdout",
       "text": [
        "\n",
        "James OKeefe Offered a Bus Load of Ballots in North Carolina\n",
        "Identificaci\u00f3n de Votantes\n",
        "Little demand for voter ID cards, but some hit obstacles"
       ]
      },
      {
       "output_type": "stream",
       "stream": "stdout",
       "text": [
        "\n",
        "A state-by-state map reveals the answer: almost none.\n",
        "Voter Apathy\n",
        "Since Texas Implemented Voter ID, The Number Of Provisional Ballots Doubled\n",
        "League of Women Voters protects voting rights"
       ]
      },
      {
       "output_type": "stream",
       "stream": "stdout",
       "text": [
        "\n",
        "Voter Identification Requirements | Voter ID Laws\n",
        "Voter Identification Requirements | Voter ID Laws"
       ]
      },
      {
       "output_type": "stream",
       "stream": "stdout",
       "text": [
        "\n",
        "Appeals Court: Feds don\u2019t have to enforce Kansas proof-of-citizenship law"
       ]
      },
      {
       "output_type": "stream",
       "stream": "stdout",
       "text": [
        "\n",
        "IRS Failure to Search Computers for \u2018Missing\u2019 Emails Intensifies Attorney General Nomination\n",
        "1.8 Million Voters Are Dead (And Other Facts You Didn\u2019t Know About Voter Fraud)\n",
        "How Voter ID Laws Affect Women of Color\n",
        "Even Without Voter ID Laws, Minority Voters Face More Hurdles to Casting Ballots\n",
        "Yes, Voter ID Laws Are Racially-Motivated"
       ]
      },
      {
       "output_type": "stream",
       "stream": "stdout",
       "text": [
        "\n",
        "Identificaci\u00f3n de Votantes\n",
        "Photo ID Laws Led To Voter Suppression"
       ]
      },
      {
       "output_type": "stream",
       "stream": "stdout",
       "text": [
        "\n",
        "Here Is a Picture of Cats Voting\n",
        "Controversial photo ID law seems to pass inaugural election test in Virginia\n",
        "Meese, Blackwell: How to fraud-proof elections\n",
        "Democrats are Racist"
       ]
      },
      {
       "output_type": "stream",
       "stream": "stdout",
       "text": [
        "\n",
        "How Voter Suppression Helped Produce the Lowest Turnout in Decades\n",
        "Texas vote suppression debacle: Why GOP\u2019s scheme is already working\n",
        "Identificaci\u00f3n de Votantes"
       ]
      },
      {
       "output_type": "stream",
       "stream": "stdout",
       "text": [
        "\n",
        "TwitLonger"
       ]
      },
      {
       "output_type": "stream",
       "stream": "stdout",
       "text": [
        "\n",
        "Identificaci\u00f3n de Votantes\n",
        "In Last Minute Decision, Alabama Says Voters Can\u2019t Use Public Housing ID At The Polls"
       ]
      },
      {
       "output_type": "stream",
       "stream": "stdout",
       "text": [
        "\n",
        "0600 Voter ID And The Registrar Case\n",
        "Figures. Obama\u2019s AG Pick: Voter ID Is Racist & Must Be Stopped (Video)\n",
        "Call This Election What It Was: A Fossil Fuel Coup\n",
        "Voting While Trans"
       ]
      },
      {
       "output_type": "stream",
       "stream": "stdout",
       "text": [
        "\n",
        "Texans Slam Voter ID Law: 'Now That It's Happened To Me, I'm Devastated'\n",
        "New Voter Suppression Laws Could Decide Key Races, and Turn Back the Clocks for Years to Come\n",
        "GOP to control voting process in 2016 swing states"
       ]
      },
      {
       "output_type": "stream",
       "stream": "stdout",
       "text": [
        "\n",
        "Millennials aren\u2019t apathetic: Their vote is suppressed\n",
        "Voter Identification Requirements | Voter ID Laws\n",
        "Rig the vote! The right resurrects a shady plan to skew 2016 in the GOP\u2019s favor"
       ]
      },
      {
       "output_type": "stream",
       "stream": "stdout",
       "text": [
        "\n",
        "Here's proof that voter ID laws are nothing more than a throwback to the slavery days of the 1800s\n",
        "Identificaci\u00f3n de Votantes"
       ]
      },
      {
       "output_type": "stream",
       "stream": "stdout",
       "text": [
        "\n",
        "Voting monitors report complaints in states with new voter ID laws"
       ]
      },
      {
       "output_type": "stream",
       "stream": "stdout",
       "text": [
        "\n",
        "Transgender voters worried about voter ID\n",
        "Texans Slam Voter ID Law: 'Now That It's Happened To Me, I'm Devastated'\n",
        "Obama Nominates Loretta Lynch as Attorney General"
       ]
      },
      {
       "output_type": "stream",
       "stream": "stdout",
       "text": [
        "\n",
        "Voter Identification Requirements | Voter ID Laws\n",
        "Texans Slam Voter ID Law: 'Now That It's Happened To Me, I'm Devastated'"
       ]
      },
      {
       "output_type": "stream",
       "stream": "stdout",
       "text": [
        "\n",
        "Harrison Beacher Realtor\n",
        "Voter Fraud and Voter I.D.\n",
        "Casey: Photo ID law is 'voter fraud at its worst'"
       ]
      },
      {
       "output_type": "stream",
       "stream": "stdout",
       "text": [
        "\n",
        "Voter Identification Requirements | Voter ID Laws\n",
        "Democrats Caught Posing as Republican Election Judges in Colorado!"
       ]
      },
      {
       "output_type": "stream",
       "stream": "stdout",
       "text": [
        "\n",
        "0600 Voter ID And The Registrar Case\n",
        "Voter Fraud and Voter I.D.\n",
        "Election 2014: Beyond The Horserace\n",
        "Texas woman threatened with jail after applying for voter ID"
       ]
      },
      {
       "output_type": "stream",
       "stream": "stdout",
       "text": [
        "\n",
        "This is what it\u2019s like to try to get a Voter ID when you\u2019re disabled, poor or don\u2019t drive\n",
        "Instagram\n",
        "A moral case against voter ID laws"
       ]
      },
      {
       "output_type": "stream",
       "stream": "stdout",
       "text": [
        "\n",
        "The Conservative Case Against Voter ID Laws\n",
        "BESbswy\n",
        "\u2018Not Everyone\u2019s Life Is Just Like Yours': Trying To Get A Voter ID"
       ]
      },
      {
       "output_type": "stream",
       "stream": "stdout",
       "text": [
        "\n",
        "Republicans Choose Candidate for Comstock\u2019s Seat\n",
        "Being white on Election Day means you probably didn\u2019t stand in a crazy line to vote\n",
        "Identificaci\u00f3n de Votantes"
       ]
      },
      {
       "output_type": "stream",
       "stream": "stdout",
       "text": [
        "\n",
        "As New Rules Take Effect, Voters Report Problems in Some States"
       ]
      },
      {
       "output_type": "stream",
       "stream": "stdout",
       "text": [
        "\n",
        "New Voting Restrictions Could Swing the 2014 Election\n",
        "RBG revises opinion after professor flags error"
       ]
      },
      {
       "output_type": "stream",
       "stream": "stdout",
       "text": [
        "\n",
        "Voter Identification Requirements | Voter ID Laws\n",
        "Austin voter id law reaction"
       ]
      },
      {
       "output_type": "stream",
       "stream": "stdout",
       "text": [
        "\n",
        "Texans Slam Voter ID Law: 'Now That It's Happened To Me, I'm Devastated'\n",
        "Identificaci\u00f3n de Votantes\n",
        "Taxpayer Funded Voter Suppression - There's More!"
       ]
      },
      {
       "output_type": "stream",
       "stream": "stdout",
       "text": [
        "\n",
        "Identificaci\u00f3n de Votantes\n",
        "How voter suppression helped produce the lowest turnout in decades"
       ]
      },
      {
       "output_type": "stream",
       "stream": "stdout",
       "text": [
        "\n",
        "Voter Identification Requirements | Voter ID Laws\n",
        "Republican Milwaukee Supervisor Sends Out False Information About Need For Voter ID"
       ]
      },
      {
       "output_type": "stream",
       "stream": "stdout",
       "text": [
        "\n",
        "Pogo-kun\n",
        "'Born and raised' Texans forced to prove identities under new voter ID law\n",
        "Voter Fraud Vigilantes"
       ]
      },
      {
       "output_type": "stream",
       "stream": "stdout",
       "text": [
        "\n",
        "WATCH! AG Nominee Loretta Lynch: Voter ID Is Racist\n",
        "Voter ID: What you need to know to vote on Election Day\n",
        "First case of voter fraud confirmed in Rio Arriba Co.\n",
        "New Voting Restrictions Could Swing the 2014 Election"
       ]
      },
      {
       "output_type": "stream",
       "stream": "stdout",
       "text": [
        "\n",
        "Jon Stewart slams voter ID laws: \u201cA lot of these laws smell pretty voter suppression-y\u201d\n",
        "Obama: Apathy, not Voter ID, keeps minorities from polls\n",
        "Surveillance Video Apparently Catches Guy Doing Something at the Ballot Box That Left Republican Monitor Stunned"
       ]
      },
      {
       "output_type": "stream",
       "stream": "stdout",
       "text": [
        "\n",
        "Undercover Video Exposes Possible North Carolina Voter Fraud\n",
        "Five myths about voter fraud\n",
        "Mobile Uploads"
       ]
      },
      {
       "output_type": "stream",
       "stream": "stdout",
       "text": [
        "\n",
        "Dianna Duran Secretary of State 2014_ Voter ID\n",
        "Casey [VA]: Photo ID law is 'voter fraud at its worst'\n",
        "How Voter ID Laws Prevent Americans from Voting\n",
        "Pennsylvania voter ID law struck down by judge as unconstitutional\n",
        "Virginia voting rights groups mobilize for Election Day and new photo ID law\n",
        "Voter Identification Requirements | Voter ID Laws"
       ]
      },
      {
       "output_type": "stream",
       "stream": "stdout",
       "text": [
        "\n",
        "MIDTERMS 2014: Ted Kennedy Jr. wins Connecticut state Senate race"
       ]
      },
      {
       "output_type": "stream",
       "stream": "stdout",
       "text": [
        "\n",
        "The Opinion Pages\n",
        "ASU Ph.D. Concludes Voter Suppression Didn\u2019t Happen in Boone Elections, Dems Call Study \u2018Misleading at Best\u2019"
       ]
      },
      {
       "output_type": "stream",
       "stream": "stdout",
       "text": [
        "\n",
        "Texans Slam Voter ID Law: 'Now That It's Happened To Me, I'm Devastated'\n",
        "Problems reported at polls vary from state to state"
       ]
      },
      {
       "output_type": "stream",
       "stream": "stdout",
       "text": [
        "\n",
        "Texas Just Won the Right to Disenfranchise 600,000 People. It's Not the First Time.\n",
        "Chasing Echoes Voter ID. ft. Pres. Barack Obama (Extended Night Mix) #SeeYouInNovember2014\n",
        "Colorado Same Day Voter Registrations Surge: No Checks for Residency or Citizenship\n",
        "Ohio Poll Worker Convicted On Multiple Counts Of Obama-Biased Voter Fraud"
       ]
      },
      {
       "output_type": "stream",
       "stream": "stdout",
       "text": [
        "\n",
        "GOP might get to continue to wage war on women by lying that they are doing that\n",
        "Canadian man convicted of voting illegally here\n",
        "Obama AG pick: Racism fuels voter-ID laws"
       ]
      },
      {
       "output_type": "stream",
       "stream": "stdout",
       "text": [
        "\n",
        "Loretta Lynch and Eric Holder Agree on These 4 Hot Button Issues\n",
        "\u2018Better just be a glitch\u2019: Is Texas voting machine leaving Greg Abbott off the ballot? [photo]"
       ]
      },
      {
       "output_type": "stream",
       "stream": "stdout",
       "text": [
        "\n",
        "Voter Turnout in Midterm Elections Hits 72-Year Low\n",
        "On the Ground: Texas Voter ID Troubles Continue\n",
        "State by State Voter ID Laws"
       ]
      },
      {
       "output_type": "stream",
       "stream": "stdout",
       "text": [
        "\n",
        "The Regulators Want to Kill Bitcoin, one ATM at a time"
       ]
      },
      {
       "output_type": "stream",
       "stream": "stdout",
       "text": [
        "\n",
        "Texans Slam Voter ID Law: 'Now That It's Happened To Me, I'm Devastated'\n",
        "Black vote not suppressed: Voter fraud and voter I.D.\n",
        "Voter ID Law Turns Away Texans"
       ]
      },
      {
       "output_type": "stream",
       "stream": "stdout",
       "text": [
        "\n",
        "Rules and Information for Voters\n",
        "Voter ID laws: A microcosm of a divided America\n",
        "Wingnut voter ID group fails again: \u201cVoter integrity\u201d outfit unable to find midterm fraud"
       ]
      },
      {
       "output_type": "stream",
       "stream": "stdout",
       "text": [
        "\n",
        "Democrats are Racist\n",
        "Voter Identification Requirements | Voter ID Laws\n",
        "Since Texas Implemented Voter ID, The Number Of Provisional Ballots Doubled"
       ]
      },
      {
       "output_type": "stream",
       "stream": "stdout",
       "text": [
        "\n",
        "Identificaci\u00f3n de Votantes\n",
        "Voting monitors report complaints in states with new voter ID laws"
       ]
      },
      {
       "output_type": "stream",
       "stream": "stdout",
       "text": [
        "\n",
        "On the Ground: Texas Voter ID Troubles Continue\n",
        "Identificaci\u00f3n de Votantes"
       ]
      },
      {
       "output_type": "stream",
       "stream": "stdout",
       "text": [
        "\n",
        "So, is it suppressing voters?\n",
        "Chasing Echoes Voter ID. ft. Pres. Barack Obama (Extended Night Mix) #SeeYouInNovember2014"
       ]
      },
      {
       "output_type": "stream",
       "stream": "stdout",
       "text": [
        "\n",
        "Identificaci\u00f3n de Votantes\n",
        "Record low turnout raises question of voting law influence on 2014 results"
       ]
      },
      {
       "output_type": "stream",
       "stream": "stdout",
       "text": [
        "\n",
        "Society\n",
        "Exposing the Liberal lies that Voter Fraud never happens.\n",
        "The Results Were Skewed Toward Republicans: A Response to Nate Silver\n",
        "Obama: Bottom Line Voter ID Laws Do Not Stop 'Our Folks' from Voting"
       ]
      },
      {
       "output_type": "stream",
       "stream": "stdout",
       "text": [
        "\n",
        "Long-stalled voter ID legislation gets new life\n",
        "bexardems\n",
        "A conservative judge's devastating take on why voter ID laws are evil\n",
        "Voter Identification Requirements | Voter ID Laws\n",
        "Texans Slam Voter ID Law: 'Now That It's Happened To Me, I'm Devastated'"
       ]
      },
      {
       "output_type": "stream",
       "stream": "stdout",
       "text": [
        "\n",
        "ACLU demands secretary of state change 'illegal' vote ID requirement\n",
        "Colorado Same Day Voter Registrations Surge: No Checks for Residency or Citizenship\n",
        "Texans Slam Voter ID Law: 'Now That It's Happened To Me, I'm Devastated'\n",
        "The Party of Nonvoters"
       ]
      },
      {
       "output_type": "stream",
       "stream": "stdout",
       "text": [
        "\n",
        "Wealth Inequality Video 03/2013\n",
        "Hot Races, Down Ballot Amendments Affect Turnout In Kansas And Missouri\n",
        "Chasing Echoes Voter ID. ft. Pres. Barack Obama (Extended Night Mix) #SeeYouInNovember2014"
       ]
      },
      {
       "output_type": "stream",
       "stream": "stdout",
       "text": [
        "\n",
        "In 1st statewide election, few problems reported with voter photo ID\n",
        "ACLU demands secretary of state change 'illegal' vote ID requirement\n",
        "Texans Slam Voter ID Law: 'Now That It's Happened To Me, I'm Devastated'\n",
        "Identificaci\u00f3n de Votantes"
       ]
      },
      {
       "output_type": "stream",
       "stream": "stdout",
       "text": [
        "\n",
        "Is Voter Suppression an American Tradition?"
       ]
      },
      {
       "output_type": "stream",
       "stream": "stdout",
       "text": [
        "\n",
        "Here Is Voter Fraud\n",
        "Laura Ingraham: If ID laws make voting \u2018too difficult\u2019 for some people, \u2018then good\u2019"
       ]
      },
      {
       "output_type": "stream",
       "stream": "stdout",
       "text": [
        "\n",
        "Ginsburg Was Right: Texas' Extreme Voter ID Law Is Stopping People From Voting\n",
        "Texans Slam Voter ID Law: 'Now That It's Happened To Me, I'm Devastated'\n",
        "Center Finds Voter ID Laws Helped Make For An Unfair Election"
       ]
      },
      {
       "output_type": "stream",
       "stream": "stdout",
       "text": [
        "\n",
        "Convicted Felon Democratic Politician Caught Voting In NC\n",
        "Voter Fraud and Voter I.D.\n",
        "Election Identification Certificate (EIC)\n",
        "Exposing the Liberal lies that Voter Fraud never happens."
       ]
      },
      {
       "output_type": "stream",
       "stream": "stdout",
       "text": [
        "\n",
        "Texas vote suppression debacle: Why GOP\u2019s scheme is already working\n",
        "WATCH! AG Nominee Loretta Lynch: Voter ID Is Racist"
       ]
      },
      {
       "output_type": "stream",
       "stream": "stdout",
       "text": [
        "\n",
        "Subject: Unless You're Dead, Please VOTE!\n",
        "How Many Women Won\u2019t Be Allowed to Vote?\n",
        "Instagram\n",
        "Identificaci\u00f3n de Votantes\n",
        "Texas ID law didn\u2019t mess with as many voters as feared"
       ]
      },
      {
       "output_type": "stream",
       "stream": "stdout",
       "text": [
        "\n",
        "Democrats are Racist\n",
        "Voting monitors report complaints in states with new voter ID laws"
       ]
      },
      {
       "output_type": "stream",
       "stream": "stdout",
       "text": [
        "\n",
        "As New Rules Take Effect, Voters Report Problems in Some States\n",
        "Voter turned away in possible ID mixup\n",
        "Texans Slam Voter ID Law: 'Now That It's Happened To Me, I'm Devastated'\n",
        "Identificaci\u00f3n de Votantes"
       ]
      },
      {
       "output_type": "stream",
       "stream": "stdout",
       "text": [
        "\n",
        "Voter fraud, Voter ID and fearmongering\n",
        "Democrats are Racist"
       ]
      },
      {
       "output_type": "stream",
       "stream": "stdout",
       "text": [
        "\n",
        "How Black Students Are Reportedly Being Disenfranchised Right Now In Texas\n",
        "Voter Fraud and Voter I.D.\n",
        "blog.chron.com/nickanderson/2\n",
        "Moyers : Hacker & Pierson on Engineered Inequality : PBS\n",
        "Voter fraud now confirmed in New Mexico"
       ]
      },
      {
       "output_type": "stream",
       "stream": "stdout",
       "text": [
        "\n",
        "BREAKING: Obama Admin. Officials Convicted Of Voter Fraud In Obama Election\n",
        "Voter ID A Proud Symbol Of Freedom For Afghans\n",
        "Loretta Lynch and Eric Holder Agree on These 4 Hot Button Issues\n",
        "Even Without Voter ID Laws, Minority Voters Face More Hurdles to Casting Ballots"
       ]
      },
      {
       "output_type": "stream",
       "stream": "stdout",
       "text": [
        "\n",
        "v3 GAB vs FitzWalkerSTAN rig elections Fitzgerald, Walker\n",
        "It's White House vs. Americans on voter ID\n",
        "Texans Slam Voter ID Law: 'Now That It's Happened To Me, I'm Devastated'"
       ]
      },
      {
       "output_type": "stream",
       "stream": "stdout",
       "text": [
        "\n",
        "Identificaci\u00f3n de Votantes\n",
        "Voter ID Basics"
       ]
      },
      {
       "output_type": "stream",
       "stream": "stdout",
       "text": [
        "\n",
        "How Many Women Won\u2019t Be Allowed to Vote?"
       ]
      },
      {
       "output_type": "stream",
       "stream": "stdout",
       "text": [
        "\n",
        "Identificaci\u00f3n de Votantes\n",
        "Needs a \u2018news hit!\u2019 You will not believe what is happening at these polling stations [photo]"
       ]
      },
      {
       "output_type": "stream",
       "stream": "stdout",
       "text": [
        "\n",
        "Enter your address to find your polling place, build your ballot with our\n",
        "Democrats are Racist\n",
        "8 Founders Advise How to Vote\n",
        "The Challenge of Obtaining Voter Identification"
       ]
      },
      {
       "output_type": "stream",
       "stream": "stdout",
       "text": [
        "\n",
        "CorPoRAtionS & pacz, wHErE\u2019z UR VOtr ID?\n",
        "New Virginia voter ID law causes minor confusion\n",
        "Chasing Echoes Voter ID. ft. Pres. Barack Obama (Extended Night Mix) #SeeYouInNovember2014"
       ]
      },
      {
       "output_type": "stream",
       "stream": "stdout",
       "text": [
        "\n",
        "Leak Shows NAACP Is Planning Mass Fraud on Election Day\n",
        "In-person voter fraud \u2018a very rare phenomenon\u2019\n",
        "How Voter ID Laws Affect Women of Color"
       ]
      },
      {
       "output_type": "stream",
       "stream": "stdout",
       "text": [
        "\n",
        "0700 Mark Obenshain and Marines Birthday\n",
        "On the Ground: Texas Voter ID Troubles Continue\n",
        "Voter Identification Requirements | Voter ID Laws"
       ]
      },
      {
       "output_type": "stream",
       "stream": "stdout",
       "text": [
        "\n",
        "Ginsburg Was Right: Texas' Extreme Voter ID Law Is Stopping People From Voting"
       ]
      },
      {
       "output_type": "stream",
       "stream": "stdout",
       "text": [
        "\n",
        "Study: Voter ID laws cut turnout by blacks, young\n",
        "Voter Identification Requirements | Voter ID Laws"
       ]
      },
      {
       "output_type": "stream",
       "stream": "stdout",
       "text": [
        "\n",
        "blog.chron.com/nickanderson/2"
       ]
      },
      {
       "output_type": "stream",
       "stream": "stdout",
       "text": [
        "\n",
        "GOP voter ID law gets crushed: Why Judge Richard Posner\u2019s new opinion is so amazing\n",
        "Multiple NC Campaign Workers Willing to Aid Non-Citizen With Felony Kay Hagan Votes\n",
        "Turned Away From Voting With a Tribal ID: Why This Matters\n",
        "Identificaci\u00f3n de Votantes\n",
        "law unjustly targets law abiding citizens ("
       ]
      },
      {
       "output_type": "stream",
       "stream": "stdout",
       "text": [
        "\n",
        "Identificaci\u00f3n de Votantes\n",
        "Jaw-Dropping Study Claims Large Numbers of Non-Citizens Vote in U.S."
       ]
      },
      {
       "output_type": "stream",
       "stream": "stdout",
       "text": [
        "\n",
        "Republican Congressman Claims Voting Machines Are Rigged\n",
        "Voter Fraud and Voter I.D.\n",
        "When Black Americans Vote, We Determine Elections\n"
       ]
      }
     ],
     "prompt_number": 12
    },
    {
     "cell_type": "code",
     "collapsed": false,
     "input": [
      "articles_df = tokenizeDictionaryContentToDf(diction)"
     ],
     "language": "python",
     "metadata": {},
     "outputs": [],
     "prompt_number": 13
    },
    {
     "cell_type": "code",
     "collapsed": false,
     "input": [
      "articles_df.count()"
     ],
     "language": "python",
     "metadata": {},
     "outputs": [
      {
       "metadata": {},
       "output_type": "pyout",
       "prompt_number": 14,
       "text": [
        "article              296\n",
        "title                296\n",
        "tokenized_article    296\n",
        "tokenized_title      296\n",
        "dtype: int64"
       ]
      }
     ],
     "prompt_number": 14
    },
    {
     "cell_type": "code",
     "collapsed": false,
     "input": [
      "articles_df.tail(25)"
     ],
     "language": "python",
     "metadata": {},
     "outputs": [
      {
       "html": [
        "<div style=\"max-height:1000px;max-width:1500px;overflow:auto;\">\n",
        "<table border=\"1\" class=\"dataframe\">\n",
        "  <thead>\n",
        "    <tr style=\"text-align: right;\">\n",
        "      <th></th>\n",
        "      <th>article</th>\n",
        "      <th>title</th>\n",
        "      <th>tokenized_article</th>\n",
        "      <th>tokenized_title</th>\n",
        "    </tr>\n",
        "  </thead>\n",
        "  <tbody>\n",
        "    <tr>\n",
        "      <th>271</th>\n",
        "      <td> The presidential election of 2008 was a pretty...</td>\n",
        "      <td>         Yes, Voter ID Laws Are Racially-Motivated</td>\n",
        "      <td> [The, presidential, election, of, 2008, was, a...</td>\n",
        "      <td> [Yes, ,, Voter, ID, Laws, Are, Racially-Motiva...</td>\n",
        "    </tr>\n",
        "    <tr>\n",
        "      <th>272</th>\n",
        "      <td> Espa\u00f1ola councilor's plea deal rejected in pis...</td>\n",
        "      <td> Albuquerque pilot, girlfriend on board missing...</td>\n",
        "      <td> [Espa\u00f1ola, councilor, 's, plea, deal, rejected...</td>\n",
        "      <td> [Albuquerque, pilot, ,, girlfriend, on, board,...</td>\n",
        "    </tr>\n",
        "    <tr>\n",
        "      <th>273</th>\n",
        "      <td> Subscribe on YouTube: http://bit.ly/1BycsJW\\nF...</td>\n",
        "      <td> Why Doesn't Everyone Have a Voter ID? | FRONTL...</td>\n",
        "      <td> [Subscribe, on, YouTube, :, http, :, //bit.ly/...</td>\n",
        "      <td> [Why, Does, n't, Everyone, Have, a, Voter, ID,...</td>\n",
        "    </tr>\n",
        "    <tr>\n",
        "      <th>274</th>\n",
        "      <td> An Albuquerque voter trying to cast his ballot...</td>\n",
        "      <td>            Voter turned away in possible ID mixup</td>\n",
        "      <td> [An, Albuquerque, voter, trying, to, cast, his...</td>\n",
        "      <td>    [Voter, turned, away, in, possible, ID, mixup]</td>\n",
        "    </tr>\n",
        "    <tr>\n",
        "      <th>275</th>\n",
        "      <td> U.S. News\\nDavid Edwards\\n04 Nov 2014 at 17:03...</td>\n",
        "      <td> Laura Ingraham: If ID laws make voting \u2018too di...</td>\n",
        "      <td> [U.S., News, David, Edwards, 04, Nov, 2014, at...</td>\n",
        "      <td> [Laura, Ingraham, :, If, ID, laws, make, votin...</td>\n",
        "    </tr>\n",
        "    <tr>\n",
        "      <th>276</th>\n",
        "      <td> Please Like, Share, and Subscribe.\\nAlso be su...</td>\n",
        "      <td> Chasing Echoes Voter ID. ft. Pres. Barack Obam...</td>\n",
        "      <td> [Please, Like, ,, Share, ,, and, Subscribe., A...</td>\n",
        "      <td> [Chasing, Echoes, Voter, ID., ft., Pres., Bara...</td>\n",
        "    </tr>\n",
        "    <tr>\n",
        "      <th>277</th>\n",
        "      <td> WASHINGTON -- A Virginia Republican congressma...</td>\n",
        "      <td> Republican Congressman Claims Voting Machines ...</td>\n",
        "      <td> [WASHINGTON, --, A, Virginia, Republican, cong...</td>\n",
        "      <td> [Republican, Congressman, Claims, Voting, Mach...</td>\n",
        "    </tr>\n",
        "    <tr>\n",
        "      <th>278</th>\n",
        "      <td> Analyzing #voter #turnout makes me wonder: may...</td>\n",
        "      <td>                                    Aleks Buterman</td>\n",
        "      <td> [Analyzing, #, voter, #, turnout, makes, me, w...</td>\n",
        "      <td>                                 [Aleks, Buterman]</td>\n",
        "    </tr>\n",
        "    <tr>\n",
        "      <th>279</th>\n",
        "      <td> On posters, on the radio, on social media, ess...</td>\n",
        "      <td> Turned Away From Voting With a Tribal ID: Why ...</td>\n",
        "      <td> [On, posters, ,, on, the, radio, ,, on, social...</td>\n",
        "      <td> [Turned, Away, From, Voting, With, a, Tribal, ...</td>\n",
        "    </tr>\n",
        "    <tr>\n",
        "      <th>280</th>\n",
        "      <td> LATEST UPDATE\\n10:31 am\\nHow Ballot Initiative...</td>\n",
        "      <td>               Election 2014: Beyond The Horserace</td>\n",
        "      <td> [LATEST, UPDATE, 10:31, am, How, Ballot, Initi...</td>\n",
        "      <td>       [Election, 2014, :, Beyond, The, Horserace]</td>\n",
        "    </tr>\n",
        "    <tr>\n",
        "      <th>281</th>\n",
        "      <td> Text smaller\\nText bigger\\n285\\nYet when O\u2019Kee...</td>\n",
        "      <td>        It's White House vs. Americans on voter ID</td>\n",
        "      <td> [Text, smaller, Text, bigger, 285, Yet, when, ...</td>\n",
        "      <td> [It, 's, White, House, vs., Americans, on, vot...</td>\n",
        "    </tr>\n",
        "    <tr>\n",
        "      <th>282</th>\n",
        "      <td> Pattie Curran wants to share something with yo...</td>\n",
        "      <td>                                   Welcome Aboard!</td>\n",
        "      <td> [Pattie, Curran, wants, to, share, something, ...</td>\n",
        "      <td>                              [Welcome, Aboard, !]</td>\n",
        "    </tr>\n",
        "    <tr>\n",
        "      <th>283</th>\n",
        "      <td> 10-23-14 The government watchdog group Judicia...</td>\n",
        "      <td> Leak Shows NAACP Is Planning Mass Fraud on Ele...</td>\n",
        "      <td> [10-23-14, The, government, watchdog, group, J...</td>\n",
        "      <td> [Leak, Shows, NAACP, Is, Planning, Mass, Fraud...</td>\n",
        "    </tr>\n",
        "    <tr>\n",
        "      <th>284</th>\n",
        "      <td> Is vote fraud common in American politics? Not...</td>\n",
        "      <td>       Voter Fraud Is Rare, but Myth Is Widespread</td>\n",
        "      <td> [Is, vote, fraud, common, in, American, politi...</td>\n",
        "      <td> [Voter, Fraud, Is, Rare, ,, but, Myth, Is, Wid...</td>\n",
        "    </tr>\n",
        "    <tr>\n",
        "      <th>285</th>\n",
        "      <td> DO THE DEAD REALLY VOTE IN NM? One person livi...</td>\n",
        "      <td>         Subject: Unless You're Dead, Please VOTE!</td>\n",
        "      <td> [DO, THE, DEAD, REALLY, VOTE, IN, NM, ?, One, ...</td>\n",
        "      <td> [Subject, :, Unless, You, 're, Dead, ,, Please...</td>\n",
        "    </tr>\n",
        "    <tr>\n",
        "      <th>286</th>\n",
        "      <td> Share\\nThis post originally appeared on The BR...</td>\n",
        "      <td> Wingnut voter ID group fails again: \u201cVoter int...</td>\n",
        "      <td> [Share, This, post, originally, appeared, on, ...</td>\n",
        "      <td> [Wingnut, voter, ID, group, fails, again, :, \u201c...</td>\n",
        "    </tr>\n",
        "    <tr>\n",
        "      <th>287</th>\n",
        "      <td> Voting machines suspiciously defaulting to Bar...</td>\n",
        "      <td>       GOP legally barred from fighting vote fraud</td>\n",
        "      <td> [Voting, machines, suspiciously, defaulting, t...</td>\n",
        "      <td> [GOP, legally, barred, from, fighting, vote, f...</td>\n",
        "    </tr>\n",
        "    <tr>\n",
        "      <th>288</th>\n",
        "      <td> Across the enormous state of Texas on Tuesday,...</td>\n",
        "      <td> Since Texas Implemented Voter ID, The Number O...</td>\n",
        "      <td> [Across, the, enormous, state, of, Texas, on, ...</td>\n",
        "      <td> [Since, Texas, Implemented, Voter, ID, ,, The,...</td>\n",
        "    </tr>\n",
        "    <tr>\n",
        "      <th>289</th>\n",
        "      <td> Younger, More Racially Diverse, More Financial...</td>\n",
        "      <td>                            The Party of Nonvoters</td>\n",
        "      <td> [Younger, ,, More, Racially, Diverse, ,, More,...</td>\n",
        "      <td>                       [The, Party, of, Nonvoters]</td>\n",
        "    </tr>\n",
        "    <tr>\n",
        "      <th>290</th>\n",
        "      <td> ANYONE who hopes to vote in Texas this year ne...</td>\n",
        "      <td>                     So, is it suppressing voters?</td>\n",
        "      <td> [ANYONE, who, hopes, to, vote, in, Texas, this...</td>\n",
        "      <td>           [So, ,, is, it, suppressing, voters, ?]</td>\n",
        "    </tr>\n",
        "    <tr>\n",
        "      <th>291</th>\n",
        "      <td> A video has surfaced showing President Barack ...</td>\n",
        "      <td>      Loretta Lynch Attacks Voter ID Laws in Video</td>\n",
        "      <td> [A, video, has, surfaced, showing, President, ...</td>\n",
        "      <td> [Loretta, Lynch, Attacks, Voter, ID, Laws, in,...</td>\n",
        "    </tr>\n",
        "    <tr>\n",
        "      <th>292</th>\n",
        "      <td> In a story has grown all too common as an elec...</td>\n",
        "      <td> The Enormous, Secretive Effort To Purge Thousa...</td>\n",
        "      <td> [In, a, story, has, grown, all, too, common, a...</td>\n",
        "      <td> [The, Enormous, ,, Secretive, Effort, To, Purg...</td>\n",
        "    </tr>\n",
        "    <tr>\n",
        "      <th>293</th>\n",
        "      <td> \ue086 147 Tweet This \ue027 386 Share This \ue039 0 +1 This\\...</td>\n",
        "      <td>           How Voter ID Laws Affect Women of Color</td>\n",
        "      <td> [\ue086, 147, Tweet, This, \ue027, 386, Share, This, \ue039, ...</td>\n",
        "      <td>  [How, Voter, ID, Laws, Affect, Women, of, Color]</td>\n",
        "    </tr>\n",
        "    <tr>\n",
        "      <th>294</th>\n",
        "      <td> Comrades, a follow up to my recent post, regar...</td>\n",
        "      <td> Nancy Pleloski &amp; George Jefferson abhor voter ...</td>\n",
        "      <td> [Comrades, ,, a, follow, up, to, my, recent, p...</td>\n",
        "      <td> [Nancy, Pleloski, &amp;, George, Jefferson, abhor,...</td>\n",
        "    </tr>\n",
        "    <tr>\n",
        "      <th>295</th>\n",
        "      <td> Republicans take control of the U.S. Senate.\\n...</td>\n",
        "      <td> The Day After: 8 Takeaways from the 2014 Midterms</td>\n",
        "      <td> [Republicans, take, control, of, the, U.S., Se...</td>\n",
        "      <td> [The, Day, After, :, 8, Takeaways, from, the, ...</td>\n",
        "    </tr>\n",
        "  </tbody>\n",
        "</table>\n",
        "</div>"
       ],
       "metadata": {},
       "output_type": "pyout",
       "prompt_number": 15,
       "text": [
        "                                               article  \\\n",
        "271  The presidential election of 2008 was a pretty...   \n",
        "272  Espa\u00f1ola councilor's plea deal rejected in pis...   \n",
        "273  Subscribe on YouTube: http://bit.ly/1BycsJW\\nF...   \n",
        "274  An Albuquerque voter trying to cast his ballot...   \n",
        "275  U.S. News\\nDavid Edwards\\n04 Nov 2014 at 17:03...   \n",
        "276  Please Like, Share, and Subscribe.\\nAlso be su...   \n",
        "277  WASHINGTON -- A Virginia Republican congressma...   \n",
        "278  Analyzing #voter #turnout makes me wonder: may...   \n",
        "279  On posters, on the radio, on social media, ess...   \n",
        "280  LATEST UPDATE\\n10:31 am\\nHow Ballot Initiative...   \n",
        "281  Text smaller\\nText bigger\\n285\\nYet when O\u2019Kee...   \n",
        "282  Pattie Curran wants to share something with yo...   \n",
        "283  10-23-14 The government watchdog group Judicia...   \n",
        "284  Is vote fraud common in American politics? Not...   \n",
        "285  DO THE DEAD REALLY VOTE IN NM? One person livi...   \n",
        "286  Share\\nThis post originally appeared on The BR...   \n",
        "287  Voting machines suspiciously defaulting to Bar...   \n",
        "288  Across the enormous state of Texas on Tuesday,...   \n",
        "289  Younger, More Racially Diverse, More Financial...   \n",
        "290  ANYONE who hopes to vote in Texas this year ne...   \n",
        "291  A video has surfaced showing President Barack ...   \n",
        "292  In a story has grown all too common as an elec...   \n",
        "293  \ue086 147 Tweet This \ue027 386 Share This \ue039 0 +1 This\\...   \n",
        "294  Comrades, a follow up to my recent post, regar...   \n",
        "295  Republicans take control of the U.S. Senate.\\n...   \n",
        "\n",
        "                                                 title  \\\n",
        "271          Yes, Voter ID Laws Are Racially-Motivated   \n",
        "272  Albuquerque pilot, girlfriend on board missing...   \n",
        "273  Why Doesn't Everyone Have a Voter ID? | FRONTL...   \n",
        "274             Voter turned away in possible ID mixup   \n",
        "275  Laura Ingraham: If ID laws make voting \u2018too di...   \n",
        "276  Chasing Echoes Voter ID. ft. Pres. Barack Obam...   \n",
        "277  Republican Congressman Claims Voting Machines ...   \n",
        "278                                     Aleks Buterman   \n",
        "279  Turned Away From Voting With a Tribal ID: Why ...   \n",
        "280                Election 2014: Beyond The Horserace   \n",
        "281         It's White House vs. Americans on voter ID   \n",
        "282                                    Welcome Aboard!   \n",
        "283  Leak Shows NAACP Is Planning Mass Fraud on Ele...   \n",
        "284        Voter Fraud Is Rare, but Myth Is Widespread   \n",
        "285          Subject: Unless You're Dead, Please VOTE!   \n",
        "286  Wingnut voter ID group fails again: \u201cVoter int...   \n",
        "287        GOP legally barred from fighting vote fraud   \n",
        "288  Since Texas Implemented Voter ID, The Number O...   \n",
        "289                             The Party of Nonvoters   \n",
        "290                      So, is it suppressing voters?   \n",
        "291       Loretta Lynch Attacks Voter ID Laws in Video   \n",
        "292  The Enormous, Secretive Effort To Purge Thousa...   \n",
        "293            How Voter ID Laws Affect Women of Color   \n",
        "294  Nancy Pleloski & George Jefferson abhor voter ...   \n",
        "295  The Day After: 8 Takeaways from the 2014 Midterms   \n",
        "\n",
        "                                     tokenized_article  \\\n",
        "271  [The, presidential, election, of, 2008, was, a...   \n",
        "272  [Espa\u00f1ola, councilor, 's, plea, deal, rejected...   \n",
        "273  [Subscribe, on, YouTube, :, http, :, //bit.ly/...   \n",
        "274  [An, Albuquerque, voter, trying, to, cast, his...   \n",
        "275  [U.S., News, David, Edwards, 04, Nov, 2014, at...   \n",
        "276  [Please, Like, ,, Share, ,, and, Subscribe., A...   \n",
        "277  [WASHINGTON, --, A, Virginia, Republican, cong...   \n",
        "278  [Analyzing, #, voter, #, turnout, makes, me, w...   \n",
        "279  [On, posters, ,, on, the, radio, ,, on, social...   \n",
        "280  [LATEST, UPDATE, 10:31, am, How, Ballot, Initi...   \n",
        "281  [Text, smaller, Text, bigger, 285, Yet, when, ...   \n",
        "282  [Pattie, Curran, wants, to, share, something, ...   \n",
        "283  [10-23-14, The, government, watchdog, group, J...   \n",
        "284  [Is, vote, fraud, common, in, American, politi...   \n",
        "285  [DO, THE, DEAD, REALLY, VOTE, IN, NM, ?, One, ...   \n",
        "286  [Share, This, post, originally, appeared, on, ...   \n",
        "287  [Voting, machines, suspiciously, defaulting, t...   \n",
        "288  [Across, the, enormous, state, of, Texas, on, ...   \n",
        "289  [Younger, ,, More, Racially, Diverse, ,, More,...   \n",
        "290  [ANYONE, who, hopes, to, vote, in, Texas, this...   \n",
        "291  [A, video, has, surfaced, showing, President, ...   \n",
        "292  [In, a, story, has, grown, all, too, common, a...   \n",
        "293  [\ue086, 147, Tweet, This, \ue027, 386, Share, This, \ue039, ...   \n",
        "294  [Comrades, ,, a, follow, up, to, my, recent, p...   \n",
        "295  [Republicans, take, control, of, the, U.S., Se...   \n",
        "\n",
        "                                       tokenized_title  \n",
        "271  [Yes, ,, Voter, ID, Laws, Are, Racially-Motiva...  \n",
        "272  [Albuquerque, pilot, ,, girlfriend, on, board,...  \n",
        "273  [Why, Does, n't, Everyone, Have, a, Voter, ID,...  \n",
        "274     [Voter, turned, away, in, possible, ID, mixup]  \n",
        "275  [Laura, Ingraham, :, If, ID, laws, make, votin...  \n",
        "276  [Chasing, Echoes, Voter, ID., ft., Pres., Bara...  \n",
        "277  [Republican, Congressman, Claims, Voting, Mach...  \n",
        "278                                  [Aleks, Buterman]  \n",
        "279  [Turned, Away, From, Voting, With, a, Tribal, ...  \n",
        "280        [Election, 2014, :, Beyond, The, Horserace]  \n",
        "281  [It, 's, White, House, vs., Americans, on, vot...  \n",
        "282                               [Welcome, Aboard, !]  \n",
        "283  [Leak, Shows, NAACP, Is, Planning, Mass, Fraud...  \n",
        "284  [Voter, Fraud, Is, Rare, ,, but, Myth, Is, Wid...  \n",
        "285  [Subject, :, Unless, You, 're, Dead, ,, Please...  \n",
        "286  [Wingnut, voter, ID, group, fails, again, :, \u201c...  \n",
        "287  [GOP, legally, barred, from, fighting, vote, f...  \n",
        "288  [Since, Texas, Implemented, Voter, ID, ,, The,...  \n",
        "289                        [The, Party, of, Nonvoters]  \n",
        "290            [So, ,, is, it, suppressing, voters, ?]  \n",
        "291  [Loretta, Lynch, Attacks, Voter, ID, Laws, in,...  \n",
        "292  [The, Enormous, ,, Secretive, Effort, To, Purg...  \n",
        "293   [How, Voter, ID, Laws, Affect, Women, of, Color]  \n",
        "294  [Nancy, Pleloski, &, George, Jefferson, abhor,...  \n",
        "295  [The, Day, After, :, 8, Takeaways, from, the, ...  "
       ]
      }
     ],
     "prompt_number": 15
    },
    {
     "cell_type": "code",
     "collapsed": false,
     "input": [
      "def get_fd(tokens, cleaner=None, aggregator=None):\n",
      "    if cleaner:\n",
      "        tokens=cleaner(tokens)\n",
      "    \n",
      "    if aggregator:\n",
      "        tokens = aggregator(tokens)\n",
      "    \n",
      "    return nltk.FreqDist(tokens)"
     ],
     "language": "python",
     "metadata": {},
     "outputs": [],
     "prompt_number": 16
    },
    {
     "cell_type": "code",
     "collapsed": false,
     "input": [
      "stopwords = nltk.corpus.stopwords.words('english')\n",
      "stopwords.extend(string.punctuation)\n",
      "\n",
      "def remove_stopwords(tokens, stopwords=stopwords):\n",
      "    return [t.lower() for t in tokens if t.lower() not in stopwords]"
     ],
     "language": "python",
     "metadata": {},
     "outputs": [],
     "prompt_number": 17
    },
    {
     "cell_type": "code",
     "collapsed": false,
     "input": [
      "def get_key_terms(tokens, unigrammin=.02, bigrammin=.01, trigrammin=.005):\n",
      "    key_terms = []\n",
      "    fd = get_fd(tokens, cleaner=remove_stopwords, aggregator=None)\n",
      "    \n",
      "    for k in fd.iterkeys():\n",
      "        if fd.freq(k)>=unigrammin:\n",
      "            key_terms.append(k)\n",
      "        else:\n",
      "            break\n",
      "    \n",
      "    fd = get_fd(tokens, cleaner=remove_stopwords, aggregator=nltk.bigrams)\n",
      "    \n",
      "    for k in fd.iterkeys():\n",
      "        if fd.freq(k)>=bigrammin and fd[k]>1:\n",
      "            key_terms.append(k)\n",
      "        else:\n",
      "            break\n",
      "    \n",
      "        fd = get_fd(tokens, cleaner=remove_stopwords, aggregator=nltk.trigrams)\n",
      "    \n",
      "    for k in fd.iterkeys():\n",
      "        if fd.freq(k)>=trigrammin and fd[k]>1:\n",
      "            key_terms.append(k)\n",
      "        else:\n",
      "            break\n",
      "    \n",
      "    return key_terms"
     ],
     "language": "python",
     "metadata": {},
     "outputs": [],
     "prompt_number": 19
    },
    {
     "cell_type": "code",
     "collapsed": false,
     "input": [
      "def get_common_terms(article_list, cleaner=remove_stopwords, aggregator=None):\n",
      "\n",
      "    all_fd = nltk.FreqDist()\n",
      "\n",
      "    for article in article_list.tokenized_article:\n",
      "        for t in get_fd(article, cleaner=cleaner, aggregator=aggregator):\n",
      "            all_fd[t]+=1\n",
      "\n",
      "    return all_fd"
     ],
     "language": "python",
     "metadata": {},
     "outputs": [],
     "prompt_number": 21
    },
    {
     "cell_type": "code",
     "collapsed": false,
     "input": [
      "fd = get_common_terms(articles_df, aggregator=nltk.trigrams)"
     ],
     "language": "python",
     "metadata": {},
     "outputs": [],
     "prompt_number": 22
    },
    {
     "cell_type": "code",
     "collapsed": false,
     "input": [
      "fd.items()"
     ],
     "language": "python",
     "metadata": {},
     "outputs": [
      {
       "metadata": {},
       "output_type": "pyout",
       "prompt_number": 23,
       "text": [
        "[((u'voter', u'id', u'laws'), 89),\n",
        " ((u'voter', u'id', u'law'), 65),\n",
        " ((u'voting', u'rights', u'act'), 43),\n",
        " ((u'new', u'voter', u'id'), 38),\n",
        " ((u'brennan', u'center', u'justice'), 25),\n",
        " ((u'u.s.', u'supreme', u'court'), 24),\n",
        " ((u'voter', u'id', u'law.'), 24),\n",
        " ((u'voter', u'registration', u'card'), 24),\n",
        " ((u'photo', u'id', u'law'), 23),\n",
        " ((u'voter', u'id', u'laws.'), 23),\n",
        " ((u'department', u'public', u'safety'), 22),\n",
        " ((u'attorney', u'general', u'eric'), 21),\n",
        " ((u'general', u'eric', u'holder'), 21),\n",
        " ((u'new', u'photo', u'id'), 16),\n",
        " ((u'show', u'photo', u'id'), 16),\n",
        " ((u'voter', u'identification', u'law'), 16),\n",
        " ((u'election', u'identification', u'certificate'), 15),\n",
        " ((u'strict', u'voter', u'id'), 15),\n",
        " ((u'voter', u'identification', u'laws'), 15),\n",
        " ((u'photo', u'id', u'requirement'), 14),\n",
        " ((u'texas', u'voter', u'id'), 14),\n",
        " ((u'driver', u\"'s\", u'license'), 13),\n",
        " ((u'government', u'accountability', u'office'), 13),\n",
        " ((u'new', u'york', u'times'), 13),\n",
        " ((u'turned', u'away', u'polls'), 13),\n",
        " ((u\"'s\", u'voter', u'id'), 12),\n",
        " ((u'circuit', u'court', u'appeals'), 12),\n",
        " ((u'justice', u'ruth', u'bader'), 12),\n",
        " ((u'martin', u'luther', u'king'), 12),\n",
        " ((u'photo', u'id', u'requirement.'), 12),\n",
        " ((u'ruth', u'bader', u'ginsburg'), 12),\n",
        " ((u'state\\u2019s', u'voter', u'id'), 12),\n",
        " ((u'voters', u'cast', u'ballots'), 12),\n",
        " ((u'voting', u'rights', u'act.'), 12),\n",
        " ((u'600,000', u'registered', u'voters'), 11),\n",
        " ((u'american', u'civil', u'liberties'), 11),\n",
        " ((u'new', u'voter', u'identification'), 11),\n",
        " ((u'new', u'voting', u'restrictions'), 11),\n",
        " ((u'photo', u'id', u'laws'), 11),\n",
        " ((u'public', u'safety', u'dps'), 11),\n",
        " ((u'state', u'north', u'carolina'), 11),\n",
        " ((u'civil', u'liberties', u'union'), 10),\n",
        " ((u'civil', u'rights', u'law'), 10),\n",
        " ((u'committee', u'civil', u'rights'), 10),\n",
        " ((u'kansas', u'secretary', u'state'), 10),\n",
        " ((u'league', u'women', u'voters'), 10),\n",
        " ((u'secretary', u'state', u\"'s\"), 10),\n",
        " ((u'secretary', u'state\\u2019s', u'office'), 10),\n",
        " ((u'strict', u'photo', u'id'), 10),\n",
        " ((u'supreme', u'court', u'allowed'), 10),\n",
        " ((u'supreme', u'court', u'decision'), 10),\n",
        " ((u'supreme', u'court', u'gutted'), 10),\n",
        " ((u'u.s.', u'district', u'court'), 10),\n",
        " ((u'voter', u'id', u'requirements'), 10),\n",
        " ((u'voters', u'show', u'photo'), 10),\n",
        " ((u'cast', u'provisional', u'ballot'), 9),\n",
        " ((u'copy', u'birth', u'certificate'), 9),\n",
        " ((u'county', u'v.', u'holder'), 9),\n",
        " ((u'early', u'voting', u'period'), 9),\n",
        " ((u'in-person', u'voter', u'fraud'), 9),\n",
        " ((u'judge', u'nelva', u'gonzales'), 9),\n",
        " ((u'million', u'registered', u'voters'), 9),\n",
        " ((u'national', u'conference', u'state'), 9),\n",
        " ((u'new', u'georgia', u'project'), 9),\n",
        " ((u'november', u'4', u'2014'), 9),\n",
        " ((u'secretary', u'state', u'kris'), 9),\n",
        " ((u'shelby', u'county', u'v.'), 9),\n",
        " ((u'social', u'security', u'card'), 9),\n",
        " ((u'state', u'kris', u'kobach'), 9),\n",
        " ((u'civil', u'rights', u'groups'), 8),\n",
        " ((u'civil', u'rights', u'movement'), 8),\n",
        " ((u'concealed', u'handgun', u'license'), 8),\n",
        " ((u'eric', u'holder', u'others'), 8),\n",
        " ((u'george', u'w.', u'bush'), 8),\n",
        " ((u'home', u'state', u'north'), 8),\n",
        " ((u'laws', u'requiring', u'voters'), 8),\n",
        " ((u'nelva', u'gonzales', u'ramos'), 8),\n",
        " ((u'new', u'york', u'university'), 8),\n",
        " ((u'old', u'dominion', u'university'), 8),\n",
        " ((u'people', u'registered', u'vote'), 8),\n",
        " ((u'people', u'trying', u'take'), 8),\n",
        " ((u'photo', u'id', u'law.'), 8),\n",
        " ((u'photo', u'id', u'polls'), 8),\n",
        " ((u'photo', u'id', u'voting'), 8),\n",
        " ((u'photo', u'identification', u'cards'), 8),\n",
        " ((u'read', u'full', u'article'), 8),\n",
        " ((u'require', u'voters', u'show'), 8),\n",
        " ((u'requiring', u'photo', u'id'), 8),\n",
        " ((u'rights', u'act', u'1965.'), 8),\n",
        " ((u'see', u'people', u'trying'), 8),\n",
        " ((u'state', u'board', u'elections'), 8),\n",
        " ((u'supreme', u'court', u'blocked'), 8),\n",
        " ((u'supreme', u'court', u'ruled'), 8),\n",
        " ((u'supreme', u'court', u'struck'), 8),\n",
        " ((u'texas', u'department', u'public'), 8),\n",
        " ((u'time', u'see', u'people'), 8),\n",
        " ((u'trying', u'take', u'back'), 8),\n",
        " ((u'vote', u'provisional', u'ballot'), 8),\n",
        " ((u'voting', u'rights', u'advocates'), 8),\n",
        " ((u'50', u'years', u'civil'), 7),\n",
        " ((u'ability', u'stand', u'exercise'), 7),\n",
        " ((u'absentee', u'ballots', u'people'), 7),\n",
        " ((u'attorney', u'general', u'holder'), 7),\n",
        " ((u'back', u'much', u'dr.'), 7),\n",
        " ((u'brought', u'lawsuits', u'voting'), 7),\n",
        " ((u'carolina', u'brought', u'lawsuits'), 7),\n",
        " ((u'center', u'justice', u'new'), 7),\n",
        " ((u'changes', u'seek', u'limit'), 7),\n",
        " ((u'civil', u'rights', u'act'), 7),\n",
        " ((u'click', u'read', u'full'), 7),\n",
        " ((u'country', u'time', u'see'), 7),\n",
        " ((u'deep', u'south', u'home'), 7),\n",
        " ((u'denying', u'right', u'vote'), 7),\n",
        " ((u'department', u'justice', u'looked'), 7),\n",
        " ((u'dr.', u'martin', u'luther'), 7),\n",
        " ((u'early', u'voting', u'same-day'), 7),\n",
        " ((u'election', u'day', u'vote'), 7),\n",
        " ((u'elections', u'restricting', u'vote'), 7),\n",
        " ((u'exercise', u'right', u'vote'), 7),\n",
        " ((u'federal', u'appeals', u'court'), 7),\n",
        " ((u'get', u'birth', u'certificate'), 7),\n",
        " ((u'happening', u'deep', u'south'), 7),\n",
        " ((u'help', u'america', u'vote'), 7),\n",
        " ((u'hundreds', u'thousands', u'voters'), 7),\n",
        " ((u'id', u'required', u'vote'), 7),\n",
        " ((u'jim', u'crow', u'laws'), 7),\n",
        " ((u'justice', u'department', u'attorney'), 7),\n",
        " ((u'justice', u'looked', u'laws'), 7),\n",
        " ((u'justice', u'new', u'york'), 7),\n",
        " ((u'lawsuits', u'voting', u'rights'), 7),\n",
        " ((u'limit', u'ability', u'stand'), 7),\n",
        " ((u'looked', u'laws', u'looked'), 7),\n",
        " ((u'march', u'washington', u'50'), 7),\n",
        " ((u'movement', u'stand', u'country'), 7),\n",
        " ((u'need', u'photo', u'id'), 7),\n",
        " ((u'nominee', u'loretta', u'lynch'), 7),\n",
        " ((u'north', u'carolina', u'brought'), 7),\n",
        " ((u'north', u'carolina', u'voters'), 7),\n",
        " ((u'photo', u'id', u'required'), 7),\n",
        " ((u'photo', u'id', u'requirements'), 7),\n",
        " ((u'photo', u'id', u'vote'), 7),\n",
        " ((u'president', u'barack', u'obama\\u2019s'), 7),\n",
        " ((u'proud', u'tell', u'department'), 7),\n",
        " ((u'provisional', u'ballots', u'cast'), 7),\n",
        " ((u'registered', u'voters', u'citizens'), 7),\n",
        " ((u'registered', u'voters', u'texas'), 7),\n",
        " ((u'requiring', u'voters', u'show'), 7),\n",
        " ((u'right', u'vote', u'hundreds'), 7),\n",
        " ((u'rights', u'changes', u'seek'), 7),\n",
        " ((u'rights', u'elections', u'restricting'), 7),\n",
        " ((u'rights', u'movement', u'stand'), 7),\n",
        " ((u'seek', u'limit', u'ability'), 7),\n",
        " ((u'south', u'home', u'state'), 7),\n",
        " ((u'stand', u'country', u'time'), 7),\n",
        " ((u'stand', u'exercise', u'rights'), 7),\n",
        " ((u'state', u\"'s\", u'new'), 7),\n",
        " ((u'state', u\"'s\", u'office'), 7),\n",
        " ((u'state', u\"'s\", u'voter'), 7),\n",
        " ((u'states', u'voter', u'id'), 7),\n",
        " ((u'take', u'back', u'much'), 7),\n",
        " ((u'tell', u'department', u'justice'), 7),\n",
        " ((u'texas', u'driver\\u2019s', u'license'), 7),\n",
        " ((u'two', u'years', u'ago'), 7),\n",
        " ((u'unconstitutional', u'poll', u'tax'), 7),\n",
        " ((u'valid', u'photo', u'id'), 7),\n",
        " ((u'vote', u'hundreds', u'thousands'), 7),\n",
        " ((u'voter', u'fraud', u'recent'), 7),\n",
        " ((u'voter', u'id', u'card'), 7),\n",
        " ((u'voter', u'photo', u'id'), 7),\n",
        " ((u'voters', u'turned', u'away'), 7),\n",
        " ((u'voting', u'rights', u'changes'), 7),\n",
        " ((u'voting', u'rights', u'elections'), 7),\n",
        " ((u'washington', u'50', u'years'), 7),\n",
        " ((u'years', u'civil', u'rights'), 7),\n",
        " ((u'years', u'march', u'washington'), 7),\n",
        " ((u\"'s\", u'new', u'voter'), 6),\n",
        " ((u'13th', u'amendment', u'outlawing'), 6),\n",
        " ((u'1960s', u'higher', u'percentage'), 6),\n",
        " ((u'1964', u'voting', u'rights'), 6),\n",
        " ((u'1965.', u'going', u'talk'), 6),\n",
        " ((u'2013', u'supreme', u'court'), 6),\n",
        " ((u'2014', u'midterm', u'elections'), 6),\n",
        " ((u'acceptable', u'forms', u'id'), 6),\n",
        " ((u'accomplish', u'creates', u'another'), 6),\n",
        " ((u'account', u'voter', u'fraud'), 6),\n",
        " ((u'act', u'1964', u'voting'), 6),\n",
        " ((u'act', u'1965.', u'going'), 6),\n",
        " ((u'action', u'schools', u'discipline'), 6),\n",
        " ((u'adams.', u'justice', u'department'), 6),\n",
        " ((u'additional', u'black', u'votes'), 6),\n",
        " ((u'allow', u'demagogues', u'like'), 6),\n",
        " ((u'allowing', u'democrats', u'like'), 6),\n",
        " ((u'allowing', u'disruptive', u'students'), 6),\n",
        " ((u'amendment', u'outlawing', u'slavery.'), 6),\n",
        " ((u'amid', u'political', u'hysteria'), 6),\n",
        " ((u'another', u'racial', u'grievance'), 6),\n",
        " ((u'asked', u'them.', u'political'), 6),\n",
        " ((u'attempts', u'suppress', u'black'), 6),\n",
        " ((u'attorney', u'detailed', u'inside'), 6),\n",
        " ((u'attorney', u'general', u'nominee'), 6),\n",
        " ((u'available', u'free', u'photo'), 6),\n",
        " ((u'away', u'absurdities', u'abound'), 6),\n",
        " ((u'back', u'buses', u'used'), 6),\n",
        " ((u'ballots', u'filled', u'forged'), 6),\n",
        " ((u'ballots', u'people', u'never'), 6),\n",
        " ((u'barrier', u'voting.', u'since'), 6),\n",
        " ((u'believe', u'black', u'boys'), 6),\n",
        " ((u'better', u'life.', u'sacrificing'), 6),\n",
        " ((u'biggest', u'voter', u'fraud'), 6),\n",
        " ((u'biggest', u'voter', u'frauds'), 6),\n",
        " ((u'birth', u'certificate', u'new'), 6),\n",
        " ((u'black', u'boys.', u'unless'), 6),\n",
        " ((u'black', u'voters', u'telling'), 6),\n",
        " ((u'black', u'voters', u'turn'), 6),\n",
        " ((u'black', u'voting.', u'reporter'), 6),\n",
        " ((u'blacks', u'racist', u'dangers.'), 6),\n",
        " ((u'blacks', u'sit', u'back'), 6),\n",
        " ((u'blacks', u'whites', u'show'), 6),\n",
        " ((u'books', u'voter', u'fraud'), 6),\n",
        " ((u'boys.', u'unless', u'believe'), 6),\n",
        " ((u'bull', u'connor', u'turned'), 6),\n",
        " ((u'buses', u'used', u'republicans'), 6),\n",
        " ((u'cards', u'mean', u'poverty'), 6),\n",
        " ((u'cases', u'voter', u'impersonation'), 6),\n",
        " ((u'cashing', u'checks', u'getting'), 6),\n",
        " ((u'cast', u'provisional', u'ballots'), 6),\n",
        " ((u'caused', u'shrill', u'outcries'), 6),\n",
        " ((u'checks', u'getting', u'plane'), 6),\n",
        " ((u'christian', u'adams.', u'justice'), 6),\n",
        " ((u'claim.', u'widely', u'available'), 6),\n",
        " ((u'come', u'election', u'day'), 6),\n",
        " ((u'conference', u'state', u'legislatures'), 6),\n",
        " ((u'congress', u'voted', u'13th'), 6),\n",
        " ((u'connor', u'turned', u'police'), 6),\n",
        " ((u'controlled', u'democrats', u'era.'), 6),\n",
        " ((u'could', u'allow', u'demagogues'), 6),\n",
        " ((u'could', u'go', u'hundreds'), 6),\n",
        " ((u'court', u'justice', u'ruth'), 6),\n",
        " ((u'creates', u'another', u'racial'), 6),\n",
        " ((u'crow', u'laws', u'made'), 6),\n",
        " ((u'crow', u'south', u'without'), 6),\n",
        " ((u'cynical', u'politics', u'promoting'), 6),\n",
        " ((u'danger', u'allowing', u'disruptive'), 6),\n",
        " ((u'dangers.', u'real', u'danger'), 6),\n",
        " ((u'day', u'ballots', u'arrived'), 6),\n",
        " ((u'day', u'vote', u'democrats.'), 6),\n",
        " ((u'days', u'could', u'go'), 6),\n",
        " ((u'decision', u'shelby', u'county'), 6),\n",
        " ((u'demagogues', u'like', u'rangel'), 6),\n",
        " ((u'democrat.', u'southern', u'segregationists.'), 6),\n",
        " ((u'democrats', u'era.', u'bull'), 6),\n",
        " ((u'democrats', u'like', u'holder'), 6),\n",
        " ((u'democrats', u'may', u'well'), 6),\n",
        " ((u'democrats', u'voted', u'landmark'), 6),\n",
        " ((u'democrats.', u'nothing', u'gross'), 6),\n",
        " ((u'demonstrators', u'democrat.', u'southern'), 6),\n",
        " ((u'denied', u'right', u'vote'), 6),\n",
        " ((u'department', u'attorney', u'detailed'), 6),\n",
        " ((u'department', u'ignored', u'attorney'), 6),\n",
        " ((u'destroy', u'education', u'black'), 6),\n",
        " ((u'detailed', u'inside', u'knowledge'), 6),\n",
        " ((u'devastating', u'account', u'voter'), 6),\n",
        " ((u'disruptive', u'students', u'ghetto'), 6),\n",
        " ((u'district', u'judge', u'nelva'), 6),\n",
        " ((u'dogs', u'fire', u'hoses'), 6),\n",
        " ((u'dominion', u'university', u'indicates'), 6),\n",
        " ((u'dr.', u'king', u'fought'), 6),\n",
        " ((u'driver\\u2019s', u'license', u'expired'), 6),\n",
        " ((u'dumbed-down', u'education', u'could'), 6),\n",
        " ((u'early', u'voting', u'days'), 6),\n",
        " ((u'education', u'black', u'students'), 6),\n",
        " ((u'education', u'could', u'allow'), 6),\n",
        " ((u'education', u'hope', u'ghetto'), 6),\n",
        " ((u'election', u'identification', u'certificates'), 6),\n",
        " ((u'election', u'protection', u'hotline'), 6),\n",
        " ((u'election', u'year.', u'veteran'), 6),\n",
        " ((u'emancipation', u'proclamation.', u'republican-controlled'), 6),\n",
        " ((u'entitled', u'vote.', u'devastating'), 6),\n",
        " ((u'era', u'dumbed-down', u'education'), 6),\n",
        " ((u'era.', u'bull', u'connor'), 6),\n",
        " ((u'eric', u'holder', u'sees'), 6),\n",
        " ((u'everything', u'cashing', u'checks'), 6),\n",
        " ((u'evidence', u'voter', u'fraud'), 6),\n",
        " ((u'evil', u'hears', u'evil'), 6),\n",
        " ((u'evil', u'speaks', u'evil.'), 6),\n",
        " ((u'exercise', u'rights', u'citizens.'), 6),\n",
        " ((u'facts', u'heard', u'probably'), 6),\n",
        " ((u'facts', u'right.', u'utter'), 6),\n",
        " ((u'federal', u'district', u'judge'), 6),\n",
        " ((u'fill', u'out.', u'sometimes'), 6),\n",
        " ((u'filled', u'forged', u'signatures'), 6),\n",
        " ((u'follow', u'us', u'twitter'), 6),\n",
        " ((u'forged', u'signatures', u'voters.'), 6),\n",
        " ((u'fraud', u'black', u'voters'), 6),\n",
        " ((u'fraud', u'fraud', u'black'), 6),\n",
        " ((u'fraud', u'laws', u'requiring'), 6),\n",
        " ((u'fraud', u'may', u'book'), 6),\n",
        " ((u'fraud', u'recent', u'survey'), 6),\n",
        " ((u'frauds', u'involved', u'sending'), 6),\n",
        " ((u'frauds', u'known', u'justice'), 6),\n",
        " ((u'frauds', u'may', u'idea'), 6),\n",
        " ((u'free', u'photo', u'identification'), 6),\n",
        " ((u'fund', u'written', u'three'), 6),\n",
        " ((u'futures', u'hopes', u'gaining'), 6),\n",
        " ((u'gaining', u'additional', u'black'), 6),\n",
        " ((u'game', u'accomplish', u'creates'), 6),\n",
        " ((u'general', u'nominee', u'loretta'), 6),\n",
        " ((u'get', u'away', u'absurdities'), 6),\n",
        " ((u'get', u'come', u'election'), 6),\n",
        " ((u'get', u'facts', u'right.'), 6),\n",
        " ((u'getting', u'black', u'voters'), 6),\n",
        " ((u'getting', u'plane', u'requiring'), 6),\n",
        " ((u'ghetto', u'schools', u'destroy'), 6),\n",
        " ((u'ghetto', u'youngsters', u'better'), 6),\n",
        " ((u'girls', u'political', u'numbers'), 6),\n",
        " ((u'go', u'hundreds', u'miles'), 6),\n",
        " ((u'going', u'talk', u'history'), 6),\n",
        " ((u'gov.', u'scott', u'walker'), 6),\n",
        " ((u'government-issued', u'photo', u'identification'), 6),\n",
        " ((u'grievance', u'allowing', u'democrats'), 6),\n",
        " ((u'gross', u'promoting', u'racial'), 6),\n",
        " ((u'hard', u'facts', u'heard'), 6),\n",
        " ((u'heard', u'probably', u'none'), 6),\n",
        " ((u'hears', u'evil', u'speaks'), 6),\n",
        " ((u'higher', u'percentage', u'republicans'), 6),\n",
        " ((u'history', u'era', u'dumbed-down'), 6),\n",
        " ((u'holder', u'others', u'voter'), 6),\n",
        " ((u'holder', u'pose', u'rescuers'), 6),\n",
        " ((u'holder', u'sees', u'evil'), 6),\n",
        " ((u'hope', u'ghetto', u'youngsters'), 6),\n",
        " ((u'hopes', u'gaining', u'additional'), 6),\n",
        " ((u'hopes', u'getting', u'black'), 6),\n",
        " ((u'hundreds', u'miles', u'jim'), 6),\n",
        " ((u'hundreds', u'thousands', u'eligible'), 6),\n",
        " ((u'hysteria', u'election', u'year.'), 6),\n",
        " ((u'hysteria', u'many', u'hard'), 6),\n",
        " ((u'id', u'law', u'could'), 6),\n",
        " ((u'id', u'law.', u'despite'), 6),\n",
        " ((u'idea', u'promoted', u'attorney'), 6),\n",
        " ((u'identification', u'attempts', u'suppress'), 6),\n",
        " ((u'identification', u'cards', u'mean'), 6),\n",
        " ((u'ignorance', u'history', u'era'), 6),\n",
        " ((u'ignored', u'attorney', u'general'), 6),\n",
        " ((u'illegal', u'votes', u'democrats'), 6),\n",
        " ((u'images', u'lynching', u'jim'), 6),\n",
        " ((u'in-person', u'voter', u'impersonation'), 6),\n",
        " ((u'indicates', u'million', u'registered'), 6),\n",
        " ((u'inside', u'knowledge', u'voter'), 6),\n",
        " ((u'intruders', u'simply', u'took'), 6),\n",
        " ((u'involved', u'sending', u'absentee'), 6),\n",
        " ((u'issued', u'emancipation', u'proclamation.'), 6),\n",
        " ((u'i\\u2019m', u'proud', u'tell'), 6),\n",
        " ((u'j.', u'christian', u'adams.'), 6),\n",
        " ((u'jim', u'crow', u'south'), 6),\n",
        " ((u'john', u'fund', u'written'), 6),\n",
        " ((u'judge', u'richard', u'posner'), 6),\n",
        " ((u'justice', u'department', u'ignored'), 6),\n",
        " ((u'knowledge', u'voter', u'frauds'), 6),\n",
        " ((u'known', u'justice', u'department'), 6),\n",
        " ((u'landmark', u'civil', u'rights'), 6),\n",
        " ((u'law', u'requiring', u'voters'), 6),\n",
        " ((u'laws', u'looked', u'what\\u2019s'), 6),\n",
        " ((u'laws', u'made', u'blacks'), 6),\n",
        " ((u'lawyers\\u2019', u'committee', u'civil'), 6),\n",
        " ((u'least', u'get', u'facts'), 6),\n",
        " ((u'legal', u'action', u'schools'), 6),\n",
        " ((u'legally', u'entitled', u'vote.'), 6),\n",
        " ((u'life.', u'sacrificing', u'young'), 6),\n",
        " ((u'like', u'holder', u'pose'), 6),\n",
        " ((u'like', u'rangel', u'get'), 6),\n",
        " ((u'looked', u'what\\u2019s', u'happening'), 6),\n",
        " ((u'lynching', u'jim', u'crow'), 6),\n",
        " ((u'made', u'blacks', u'sit'), 6),\n",
        " ((u'many', u'hard', u'facts'), 6),\n",
        " ((u'may', u'idea', u'promoted'), 6),\n",
        " ((u'may', u'well', u'eric'), 6),\n",
        " ((u'mean', u'poverty', u'barrier'), 6),\n",
        " ((u'miles', u'jim', u'crow'), 6),\n",
        " ((u'much', u'dr.', u'king'), 6),\n",
        " ((u'much', u'racial', u'polarization'), 6),\n",
        " ((u'naacp', u'legal', u'defense'), 6),\n",
        " ((u'never', u'asked', u'them.'), 6),\n",
        " ((u'none', u'supports', u'claim.'), 6),\n",
        " ((u'north', u'carolina', u\"'s\"), 6),\n",
        " ((u'nothing', u'gross', u'promoting'), 6),\n",
        " ((u'number', u'black', u'boys.'), 6),\n",
        " ((u'numbers', u'game', u'accomplish'), 6),\n",
        " ((u'official.', u'political', u'observers'), 6),\n",
        " ((u'one', u'biggest', u'voter'), 6),\n",
        " ((u'one', u'frauds', u'involved'), 6),\n",
        " ((u'operator', u'would', u'show'), 6),\n",
        " ((u'order', u'try', u'get'), 6),\n",
        " ((u'others', u'voter', u'fraud'), 6),\n",
        " ((u'out.', u'sometimes', u'intruders'), 6),\n",
        " ((u'outcries', u'unfortunately', u'part'), 6),\n",
        " ((u'outlawing', u'slavery.', u'1960s'), 6),\n",
        " ((u'paranoia', u'possible', u'hopes'), 6),\n",
        " ((u'part', u'cynical', u'politics'), 6),\n",
        " ((u'people', u'never', u'asked'), 6),\n",
        " ((u'people', u'try', u'take'), 6),\n",
        " ((u'percent', u'eligible', u'voters'), 6),\n",
        " ((u'percentage', u'republicans', u'democrats'), 6),\n",
        " ((u'perhaps', u'biggest', u'voter'), 6),\n",
        " ((u'photo', u'id', u'card'), 6),\n",
        " ((u'photo', u'identification', u'attempts'), 6),\n",
        " ((u'photo', u'voter', u'id'), 6),\n",
        " ((u'plane', u'requiring', u'photo'), 6),\n",
        " ((u'ploys', u'attorney', u'general'), 6),\n",
        " ((u'polarization', u'paranoia', u'possible'), 6),\n",
        " ((u'police', u'dogs', u'fire'), 6),\n",
        " ((u'political', u'hysteria', u'many'), 6),\n",
        " ((u'political', u'numbers', u'game'), 6),\n",
        " ((u'political', u'observers', u'called'), 6),\n",
        " ((u'political', u'operator', u'would'), 6),\n",
        " ((u'politics', u'promoting', u'much'), 6),\n",
        " ((u'politics.', u'images', u'lynching'), 6),\n",
        " ((u'pose', u'rescuers', u'blacks'), 6),\n",
        " ((u'possible', u'hopes', u'getting'), 6),\n",
        " ((u'possibly', u'misbehaving', u'often'), 6),\n",
        " ((u'poverty', u'barrier', u'voting.'), 6),\n",
        " ((u'president', u'issued', u'emancipation'), 6),\n",
        " ((u'prevent', u'voter', u'fraud'), 6),\n",
        " ((u'probably', u'none', u'supports'), 6),\n",
        " ((u'proclamation.', u'republican-controlled', u'congress'), 6),\n",
        " ((u'project', u'veritas', u'action'), 6),\n",
        " ((u'promoted', u'attorney', u'general'), 6),\n",
        " ((u'promoting', u'much', u'racial'), 6),\n",
        " ((u'promoting', u'racial', u'hysteria'), 6),\n",
        " ((u'provision', u'voting', u'rights'), 6),\n",
        " ((u'racial', u'grievance', u'allowing'), 6),\n",
        " ((u'racial', u'hysteria', u'election'), 6),\n",
        " ((u'racial', u'polarization', u'paranoia'), 6),\n",
        " ((u'racist', u'dangers.', u'real'), 6),\n",
        " ((u'rangel', u'get', u'away'), 6),\n",
        " ((u'real', u'danger', u'allowing'), 6),\n",
        " ((u'recent', u'survey', u'old'), 6),\n",
        " ((u'reporter', u'john', u'fund'), 6),\n",
        " ((u'republican', u'official.', u'political'), 6),\n",
        " ((u'republican', u'president', u'issued'), 6),\n",
        " ((u'republican', u'secretary', u'state'), 6),\n",
        " ((u'republican-controlled', u'congress', u'voted'), 6),\n",
        " ((u'republicans', u'democrats', u'voted'), 6),\n",
        " ((u'republicans', u'even', u'though'), 6),\n",
        " ((u'republicans', u'win', u'civil'), 6),\n",
        " ((u'requiring', u'voters', u'photo'), 6),\n",
        " ((u'rescuers', u'blacks', u'racist'), 6),\n",
        " ((u'right.', u'utter', u'ignorance'), 6),\n",
        " ((u'rights', u'act', u'1964'), 6),\n",
        " ((u'rights', u'citizens.', u'lawsuits'), 6),\n",
        " ((u'risks', u'denying', u'right'), 6),\n",
        " ((u'said', u'voter', u'id'), 6),\n",
        " ((u'schools', u'destroy', u'education'), 6),\n",
        " ((u'seeing', u'single', u'republican'), 6),\n",
        " ((u'sees', u'evil', u'hears'), 6),\n",
        " ((u'segregationists.', u'days', u'could'), 6),\n",
        " ((u'sending', u'absentee', u'ballots'), 6),\n",
        " ((u'shrill', u'outcries', u'unfortunately'), 6),\n",
        " ((u'signatures', u'voters.', u'illegal'), 6),\n",
        " ((u'simply', u'took', u'ballots'), 6),\n",
        " ((u'since', u'blacks', u'whites'), 6),\n",
        " ((u'single', u'republican', u'official.'), 6),\n",
        " ((u'sit', u'back', u'buses'), 6),\n",
        " ((u'slavery.', u'1960s', u'higher'), 6),\n",
        " ((u'slavery.', u'republican', u'president'), 6),\n",
        " ((u'solidly', u'controlled', u'democrats'), 6),\n",
        " ((u'sometimes', u'intruders', u'simply'), 6),\n",
        " ((u'south', u'without', u'seeing'), 6),\n",
        " ((u'southern', u'segregationists.', u'days'), 6),\n",
        " ((u'speaks', u'evil.', u'race-based'), 6),\n",
        " ((u'state', u'house', u'reverse'), 6),\n",
        " ((u'state\\u2019s', u'new', u'voter'), 6),\n",
        " ((u'stories', u'order', u'try'), 6),\n",
        " ((u'students', u'ghetto', u'schools'), 6),\n",
        " ((u'support', u'voter', u'id'), 6),\n",
        " ((u'supports', u'claim.', u'widely'), 6),\n",
        " ((u'suppress', u'black', u'voting.'), 6),\n",
        " ((u'supreme', u'court', u'justice'), 6),\n",
        " ((u'supreme', u'court', u'upheld'), 6),\n",
        " ((u'survey', u'old', u'dominion'), 6),\n",
        " ((u'take', u'state', u'house'), 6),\n",
        " ((u'them.', u'political', u'operator'), 6),\n",
        " ((u'threats', u'legal', u'action'), 6),\n",
        " ((u'three', u'books', u'voter'), 6),\n",
        " ((u'took', u'ballots', u'filled'), 6),\n",
        " ((u'try', u'get', u'come'), 6),\n",
        " ((u'try', u'take', u'state'), 6),\n",
        " ((u'turn', u'vote', u'democrats.'), 6),\n",
        " ((u'turned', u'police', u'dogs'), 6),\n",
        " ((u'u.s.', u'circuit', u'court'), 6),\n",
        " ((u'u.s.', u'senate', u'race'), 6),\n",
        " ((u'unfortunately', u'part', u'cynical'), 6),\n",
        " ((u'university', u'indicates', u'million'), 6),\n",
        " ((u'unless', u'believe', u'black'), 6),\n",
        " ((u'used', u'republicans', u'even'), 6),\n",
        " ((u'utter', u'ignorance', u'history'), 6),\n",
        " ((u'vote', u'democrats.', u'cynical'), 6),\n",
        " ((u'vote', u'democrats.', u'nothing'), 6),\n",
        " ((u'vote', u'election', u'day'), 6),\n",
        " ((u'vote.', u'devastating', u'account'), 6),\n",
        " ((u'voted', u'13th', u'amendment'), 6),\n",
        " ((u'voted', u'landmark', u'civil'), 6),\n",
        " ((u'voter', u'fill', u'out.'), 6),\n",
        " ((u'voter', u'fraud', u'fraud'), 6),\n",
        " ((u'voter', u'fraud', u'laws'), 6),\n",
        " ((u'voter', u'fraud', u'may'), 6),\n",
        " ((u'voter', u'frauds', u'known'), 6),\n",
        " ((u'voter', u'frauds', u'may'), 6),\n",
        " ((u'voter', u'identification', u'requirements'), 6),\n",
        " ((u'voter', u'impersonation', u'fraud'), 6),\n",
        " ((u'voter', u'registration', u'card.'), 6),\n",
        " ((u'voter', u'registration', u'form'), 6),\n",
        " ((u'voters', u'citizens', u'therefore'), 6),\n",
        " ((u'voters', u'likely', u'vote'), 6),\n",
        " ((u'voters', u'photo', u'identification'), 6),\n",
        " ((u'voters', u'turn', u'vote'), 6),\n",
        " ((u'voters.', u'illegal', u'votes'), 6),\n",
        " ((u'votes', u'democrats', u'may'), 6),\n",
        " ((u'voting', u'caused', u'shrill'), 6),\n",
        " ((u'voting', u'rights', u'restored.'), 6),\n",
        " ((u'voting', u'same-day', u'registration'), 6),\n",
        " ((u'voting.', u'reporter', u'john'), 6),\n",
        " ((u'voting.', u'since', u'blacks'), 6),\n",
        " ((u'well', u'eric', u'holder'), 6),\n",
        " ((u'what\\u2019s', u'happening', u'deep'), 6),\n",
        " ((u'whites', u'show', u'photo'), 6),\n",
        " ((u'widely', u'available', u'free'), 6),\n",
        " ((u'win', u'civil', u'war.'), 6),\n",
        " ((u'without', u'photo', u'id'), 6),\n",
        " ((u'without', u'seeing', u'single'), 6),\n",
        " ((u'won', u'civil', u'war'), 6),\n",
        " ((u'world', u'education', u'hope'), 6),\n",
        " ((u'written', u'three', u'books'), 6),\n",
        " ((u'york', u'university', u'school'), 6),\n",
        " ((u'youngsters', u'better', u'life.'), 6),\n",
        " ((u\"''\", u'said.', u'``'), 5),\n",
        " ((u'2', u'voting', u'rights'), 5),\n",
        " ((u'7th', u'circuit', u'court'), 5),\n",
        " ((u'abound', u'election', u'year'), 5),\n",
        " ((u'absurdities', u'abound', u'election'), 5),\n",
        " ((u'acceptable', u'photo', u'id'), 5),\n",
        " ((u'according', u'brennan', u'center'), 5),\n",
        " ((u'according', u'national', u'conference'), 5),\n",
        " ((u'actions', u'site', u'navigation'), 5),\n",
        " ((u'adobe', u'flash', u'player'), 5),\n",
        " ((u'america', u'vote', u'act'), 5),\n",
        " ((u'american', u'girls', u'political'), 5),\n",
        " ((u'asian', u'american', u'girls'), 5),\n",
        " ((u'attorney', u'general', u'greg'), 5),\n",
        " ((u'available', u'common', u'actions'), 5),\n",
        " ((u'ballots', u'early', u'voting'), 5),\n",
        " ((u'birth', u'certificate', u'social'), 5),\n",
        " ((u'black', u'boys', u'possibly'), 5),\n",
        " ((u'black', u'votes', u'today'), 5),\n",
        " ((u'boys', u'possibly', u'misbehaving'), 5),\n",
        " ((u'brennan', u'center', u'justice.'), 5),\n",
        " ((u'cases', u'since', u'2000'), 5),\n",
        " ((u'cases', u'voter', u'fraud'), 5),\n",
        " ((u'cast', u'ballots', u'early'), 5),\n",
        " ((u'cast', u'provisional', u'ballot.'), 5),\n",
        " ((u'certificate', u'social', u'security'), 5),\n",
        " ((u'charlie', u'rangel', u'harlem'), 5),\n",
        " ((u'citizens', u'therefore', u'legally'), 5),\n",
        " ((u'citizens.', u'lawsuits', u'continue.\\u201d'), 5),\n",
        " ((u'civil', u'rights', u'demonstrators'), 5),\n",
        " ((u'common', u'actions', u'site'), 5),\n",
        " ((u'congressman', u'charlie', u'rangel'), 5),\n",
        " ((u'county', u'election', u'officials'), 5),\n",
        " ((u'cynical', u'fraudulent', u'gets.'), 5),\n",
        " ((u'democracy', u'program', u'brennan'), 5),\n",
        " ((u'democrat', u'congressman', u'charlie'), 5),\n",
        " ((u'department', u'motor', u'vehicles'), 5),\n",
        " ((u'disagree', u'\\u2014', u'hate'), 5),\n",
        " ((u'district', u'court', u'judge'), 5),\n",
        " ((u'election', u'voter', u'id'), 5),\n",
        " ((u'election', u'year', u'politics.'), 5),\n",
        " ((u'elimination', u'same-day', u'registration'), 5),\n",
        " ((u'expired', u'driver\\u2019s', u'license'), 5),\n",
        " ((u'fire', u'hoses', u'civil'), 5),\n",
        " ((u'forms', u'photo', u'id'), 5),\n",
        " ((u'fraud', u'voter', u'id'), 5),\n",
        " ((u'general', u'greg', u'abbott'), 5),\n",
        " ((u'general', u'holder', u'company.'), 5),\n",
        " ((u'get', u'election', u'identification'), 5),\n",
        " ((u'goals', u'made', u'voting'), 5),\n",
        " ((u'government-issued', u'photo', u'id.'), 5),\n",
        " ((u'harlem', u'declared', u'republicans'), 5),\n",
        " ((u'hoses', u'civil', u'rights'), 5),\n",
        " ((u'house', u'reverse', u'goals'), 5),\n",
        " ((u'id', u'law', u'place'), 5),\n",
        " ((u'id', u'law', u'would'), 5),\n",
        " ((u'id', u'law', u'\\u2014'), 5),\n",
        " ((u'identification', u'certificate', u'eic'), 5),\n",
        " ((u'imposes', u'unconstitutional', u'poll'), 5),\n",
        " ((u'keyboard', u'shortcuts', u'available'), 5),\n",
        " ((u'keyboard', u'shortcuts', u'keyboard'), 5),\n",
        " ((u'law', u'goes', u'effect'), 5),\n",
        " ((u'license', u'voter', u'registration'), 5),\n",
        " ((u'likely', u'imposes', u'unconstitutional'), 5),\n",
        " ((u'lone', u'star', u'state'), 5),\n",
        " ((u'lynch', u'u.s.', u'attorney'), 5),\n",
        " ((u'military', u'id', u'card'), 5),\n",
        " ((u'military', u'identification', u'card'), 5),\n",
        " ((u'misbehaving', u'often', u'asian'), 5),\n",
        " ((u'must', u'show', u'photo'), 5),\n",
        " ((u'name', u'voter', u'registration'), 5),\n",
        " ((u'national', u'voter', u'registration'), 5),\n",
        " ((u'north', u'carolina', u'state'), 5),\n",
        " ((u'obama\\u2019s', u'attorney', u'general'), 5),\n",
        " ((u'obtain', u'photo', u'id'), 5),\n",
        " ((u'obtaining', u'photo', u'id'), 5),\n",
        " ((u'often', u'asian', u'american'), 5),\n",
        " ((u'out-of-state', u'driver\\u2019s', u'license'), 5),\n",
        " ((u'part', u'voting', u'rights'), 5),\n",
        " ((u'photo', u'id', u'voter'), 5),\n",
        " ((u'photo', u'identification', u'cast'), 5),\n",
        " ((u'poll', u'tax', u'risks'), 5),\n",
        " ((u'polls', u'election', u'day.'), 5),\n",
        " ((u'professor', u'political', u'science'), 5),\n",
        " ((u'program', u'brennan', u'center'), 5),\n",
        " ((u'public', u'housing', u'id'), 5),\n",
        " ((u'rangel', u'harlem', u'declared'), 5),\n",
        " ((u'reduce', u'turnout', u'2.4'), 5),\n",
        " ((u'registrar', u\"'s\", u'office'), 5),\n",
        " ((u'restrictive', u'voter', u'id'), 5),\n",
        " ((u'reverse', u'goals', u'made'), 5),\n",
        " ((u'rights', u'act', u'1965'), 5),\n",
        " ((u'rights', u'demonstrators', u'democrat.'), 5),\n",
        " ((u'ruled', u'last', u'month'), 5),\n",
        " ((u'safety', u'dps', u'office'), 5),\n",
        " ((u'section', u'2', u'voting'), 5),\n",
        " ((u'shortcuts', u'available', u'common'), 5),\n",
        " ((u'shortcuts', u'keyboard', u'shortcuts'), 5),\n",
        " ((u'show', u'\\u2014', u'uninvited'), 5),\n",
        " ((u'social', u'security', u'number'), 5),\n",
        " ((u'state', u'voter', u'id'), 5),\n",
        " ((u'states', u'passed', u'laws'), 5),\n",
        " ((u'supreme', u'court', u'ruling'), 5),\n",
        " ((u'supreme', u'court\\u2019s', u'decision'), 5),\n",
        " ((u'tax', u'risks', u'denying'), 5),\n",
        " ((u'texas', u'north', u'carolina'), 5),\n",
        " ((u'texas\\u2019', u'voter', u'id'), 5),\n",
        " ((u'therefore', u'legally', u'entitled'), 5),\n",
        " ((u'time', u'get', u'texas'), 5),\n",
        " ((u'today', u'cynical', u'fraudulent'), 5),\n",
        " ((u'turnout', u'midterm', u'elections'), 5),\n",
        " ((u'u.s.', u'district', u'judge'), 5),\n",
        " ((u'u.s.', u'supreme', u'court.'), 5),\n",
        " ((u'uninvited', u'\\u2014', u'day'), 5),\n",
        " ((u'university', u'law', u'school'), 5),\n",
        " ((u'university', u'school', u'law'), 5),\n",
        " ((u'valid', u'photo', u'id.'), 5),\n",
        " ((u'veteran', u'democrat', u'congressman'), 5),\n",
        " ((u'vote', u'election', u'day.'), 5),\n",
        " ((u'vote', u'federal', u'elections'), 5),\n",
        " ((u'vote', u'\\u201d', u'said'), 5),\n",
        " ((u'voter', u'fraud', u'cases'), 5),\n",
        " ((u'voter', u'fraud', u'voter'), 5),\n",
        " ((u'voter', u'fraud', u'\\u2014'), 5),\n",
        " ((u'voter', u'id', u'requirement'), 5),\n",
        " ((u'voters', u'election', u'day'), 5),\n",
        " ((u'voters', u'must', u'show'), 5),\n",
        " ((u'voters', u'show', u'id'), 5),\n",
        " ((u'votes', u'today', u'cynical'), 5),\n",
        " ((u'wendy', u'r.', u'weiser'), 5),\n",
        " ((u'wi', u'1848', u'forward'), 5),\n",
        " ((u'wisconsin', u'supreme', u'court'), 5),\n",
        " ((u'would', u'show', u'\\u2014'), 5),\n",
        " ((u'year', u'politics.', u'images'), 5),\n",
        " ((u'year.', u'veteran', u'democrat'), 5),\n",
        " ((u'\\u2014', u'day', u'ballots'), 5),\n",
        " ((u'\\u2014', u'uninvited', u'\\u2014'), 5),\n",
        " ((u'\\u201c50', u'years', u'march'), 5),\n",
        " ((u\"'s\", u'photo', u'id'), 4),\n",
        " ((u'1965', u'voting', u'rights'), 4),\n",
        " ((u'200,000', u'voters', u'cast'), 4),\n",
        " ((u'2014', u'general', u'election'), 4),\n",
        " ((u'5', u'voting', u'rights'), 4),\n",
        " ((u'``', u'voter', u'suppression'), 4),\n",
        " ((u'able', u'cast', u'ballot'), 4),\n",
        " ((u'able', u'vote', u'year'), 4),\n",
        " ((u'absentee', u'ballot', u'fraud'), 4),\n",
        " ((u'acceptable', u'form', u'id'), 4),\n",
        " ((u'accepted', u'id', u'law.'), 4),\n",
        " ((u'accountability', u'office', u'found'), 4),\n",
        " ((u'accountability', u'office', u'report'), 4),\n",
        " ((u'across', u'united', u'states'), 4),\n",
        " ((u'al', u'jazeera', u'america'), 4),\n",
        " ((u'allowed', u'vote', u'provisional'), 4),\n",
        " ((u'allowed', u'vote', u'state'), 4),\n",
        " ((u'ap', u'voting', u'rights'), 4),\n",
        " ((u'astonishing', u'bureaucratic', u'thicket'), 4),\n",
        " ((u'barriers', u'side', u'effect'), 4),\n",
        " ((u'birth', u'certificate', u'could'), 4),\n",
        " ((u'birth', u'certificate', u'passport'), 4),\n",
        " ((u'birth', u'certificate', u'texas'), 4),\n",
        " ((u'black', u'students', u'\\u2014'), 4),\n",
        " ((u'bogey', u'man', u'ploys'), 4),\n",
        " ((u'bogey', u'man', u'stories'), 4),\n",
        " ((u'brought', u'expired', u'driver\\u2019s'), 4),\n",
        " ((u'bureaucratic', u'thicket', u'time'), 4),\n",
        " ((u'came', u'close', u'likely'), 4),\n",
        " ((u'card', u'could', u'used'), 4),\n",
        " ((u'card', u'voter', u'registration'), 4),\n",
        " ((u'case', u'prospect', u'enforcing'), 4),\n",
        " ((u'cases', u'in-person', u'voter'), 4),\n",
        " ((u'casting', u'ballots', u'election'), 4),\n",
        " ((u'certificate', u'new', u'id'), 4),\n",
        " ((u'challenger', u'paul', u'davis'), 4),\n",
        " ((u'circuit', u'court', u'appeals.'), 4),\n",
        " ((u'citizenship', u'requirement', u'voter'), 4),\n",
        " ((u'civil', u'rights', u'division'), 4),\n",
        " ((u'clerk', u\"'s\", u'office'), 4),\n",
        " ((u'close', u'likely', u'margin'), 4),\n",
        " ((u'combat', u'voter', u'fraud.'), 4),\n",
        " ((u'commit', u'voter', u'fraud'), 4),\n",
        " ((u'company.', u'one', u'frauds'), 4),\n",
        " ((u'confidence', u'elections', u'case'), 4),\n",
        " ((u'could', u'reached', u'comment.'), 4),\n",
        " ((u'country.', u'people', u'try'), 4),\n",
        " ((u'county', u'board', u'elections'), 4),\n",
        " ((u'county', u'clerk', u\"'s\"), 4),\n",
        " ((u'court', u'also', u'said'), 4),\n",
        " ((u'court', u'decision', u'shelby'), 4),\n",
        " ((u'court', u'gutted', u'key'), 4),\n",
        " ((u'court', u'struck', u'law'), 4),\n",
        " ((u'cuts', u'early', u'voting'), 4),\n",
        " ((u'cynical', u'bogey', u'man'), 4),\n",
        " ((u'days', u'early', u'voting'), 4),\n",
        " ((u'democratic', u'national', u'committee'), 4),\n",
        " ((u'democrats.', u'cynical', u'bogey'), 4),\n",
        " ((u'despite', u'trying', u'months'), 4),\n",
        " ((u'director', u'democracy', u'program'), 4),\n",
        " ((u'discriminatory', u'law', u'one'), 4),\n",
        " ((u'driver', u\"'s\", u'license.'), 4),\n",
        " ((u'driver', u\"'s\", u'licenses'), 4),\n",
        " ((u'driver\\u2019s', u'license', u'office'), 4),\n",
        " ((u'driver\\u2019s', u'license', u'valid'), 4),\n",
        " ((u'election', u'assistance', u'commission'), 4),\n",
        " ((u'election', u'officials', u'help'), 4),\n",
        " ((u'election', u'protection', u'nonpartisan'), 4),\n",
        " ((u'elections', u'case', u'prospect'), 4),\n",
        " ((u'employee', u'id', u'card'), 4),\n",
        " ((u'evidence', u'voter', u'id'), 4),\n",
        " ((u'experienced', u'election', u'volunteer'), 4),\n",
        " ((u'federal', u'voter', u'registration'), 4),\n",
        " ((u'first', u'federal', u'election'), 4),\n",
        " ((u'first', u'last', u'name'), 4),\n",
        " ((u'first', u'time', u'voting'), 4),\n",
        " ((u'florida', u'governor\\u2019s', u'race'), 4),\n",
        " ((u'form', u'photo', u'identification'), 4),\n",
        " ((u'forms', u'id', u'include'), 4),\n",
        " ((u'forms', u'photo', u'identification'), 4),\n",
        " ((u'get', u'driver\\u2019s', u'license'), 4),\n",
        " ((u'get', u'participate', u'democratic'), 4),\n",
        " ((u'get', u'texas', u'license'), 4),\n",
        " ((u'gonzales', u'36', u'out-of-state'), 4),\n",
        " ((u'gonzales', u'white', u'well-educated'), 4),\n",
        " ((u'gov.', u'rick', u'scott'), 4),\n",
        " ((u'gov.', u'tom', u'corbett'), 4),\n",
        " ((u'government', u'accountability', u'board'), 4),\n",
        " ((u'greatest', u'threat', u'public'), 4),\n",
        " ((u'gutted', u'key', u'provision'), 4),\n",
        " ((u'gutted', u'voting', u'rights'), 4),\n",
        " ((u'hans', u'von', u'spakovsky'), 4),\n",
        " ((u'holder', u'company.', u'one'), 4),\n",
        " ((u'house', u'majority', u'leader'), 4),\n",
        " ((u'i.d.', u'everything', u'cashing'), 4),\n",
        " ((u'i.d.', u'voting', u'caused'), 4),\n",
        " ((u'id', u'law', u'effect'), 4),\n",
        " ((u'id', u'law', u'struck'), 4),\n",
        " ((u'id', u'laws', u'``'), 4),\n",
        " ((u'id', u'laws', u'may'), 4),\n",
        " ((u'id', u'laws', u'nation.'), 4),\n",
        " ((u'id', u'laws', u'would'), 4),\n",
        " ((u'id', u'order', u'vote'), 4),\n",
        " ((u'id', u'requirement', u'would'), 4),\n",
        " ((u'id', u'voter', u'registration'), 4),\n",
        " ((u'identification', u'card', u'containing'), 4),\n",
        " ((u'impact', u'voter', u'id'), 4),\n",
        " ((u'incidents', u'voter', u'fraud'), 4),\n",
        " ((u'including', u'north', u'carolina'), 4),\n",
        " ((u'judge', u'lynn', u'adelman'), 4),\n",
        " ((u'key', u'provision', u'voting'), 4),\n",
        " ((u'key', u'races', u'margin'), 4),\n",
        " ((u'last', u'four', u'digits'), 4),\n",
        " ((u'last', u'midterms', u'2010'), 4),\n",
        " ((u'law', u'one', u'likely'), 4),\n",
        " ((u'law.', u'despite', u'trying'), 4),\n",
        " ((u'laws', u'reduce', u'turnout'), 4),\n",
        " ((u'liberties', u'union', u'virginia'), 4),\n",
        " ((u'license', u'use', u'vote.'), 4),\n",
        " ((u'like', u'voter', u'id'), 4),\n",
        " ((u'likely', u'margin', u'disenfranchisement.'), 4),\n",
        " ((u'little', u'bit', u'shock'), 4),\n",
        " ((u'lost', u'right', u'vote'), 4),\n",
        " ((u'loyola', u'university', u'law'), 4),\n",
        " ((u'luther', u'king', u'jr.'), 4),\n",
        " ((u'made', u'voting', u'country.'), 4),\n",
        " ((u'man', u'ploys', u'attorney'), 4),\n",
        " ((u'man', u'stories', u'order'), 4),\n",
        " ((u'margin', u'victory', u'came'), 4),\n",
        " ((u'midterms', u'2010', u'200,000'), 4),\n",
        " ((u'minority', u'voters', u'would'), 4),\n",
        " ((u'months', u'unable', u'navigate'), 4),\n",
        " ((u'national', u'lawyers', u'association'), 4),\n",
        " ((u'national', u'voting', u'rights'), 4),\n",
        " ((u'navigate', u'astonishing', u'bureaucratic'), 4),\n",
        " ((u'new', u'id', u'law.'), 4),\n",
        " ((u'new', u'id', u'laws'), 4),\n",
        " ((u'new', u'law', u'requiring'), 4),\n",
        " ((u'new', u'texas', u'voter'), 4),\n",
        " ((u'new', u'voting', u'law'), 4),\n",
        " ((u'new', u'york', u'city'), 4),\n",
        " ((u'north', u'carolina', u'also'), 4),\n",
        " ((u'north', u'carolina', u'ohio'), 4),\n",
        " ((u'north', u'carolina', u'senate'), 4),\n",
        " ((u'offered', u'provisional', u'ballot'), 4),\n",
        " ((u'one', u'likely', u'imposes'), 4),\n",
        " ((u'one', u'seven', u'forms'), 4),\n",
        " ((u'paid', u'debt', u'society'), 4),\n",
        " ((u'participate', u'democratic', u'process.'), 4),\n",
        " ((u'passed', u'voter', u'id'), 4),\n",
        " ((u'personal', u'id', u'card'), 4),\n",
        " ((u'personal', u'identification', u'card'), 4),\n",
        " ((u'photo', u'ap', u'voting'), 4),\n",
        " ((u'photo', u'i.d.', u'everything'), 4),\n",
        " ((u'photo', u'i.d.', u'voting'), 4),\n",
        " ((u'photo', u'id', u'issued'), 4),\n",
        " ((u'photo', u'id', u'order'), 4),\n",
        " ((u'photo', u'identification', u'polls'), 4),\n",
        " ((u'photo', u'identification', u'requirements'), 4),\n",
        " ((u'place', u'photo', u'id'), 4),\n",
        " ((u'polls', u'year', u'\\u2014'), 4),\n",
        " ((u'prairie', u'view', u'm'), 4),\n",
        " ((u'present', u'photo', u'id'), 4),\n",
        " ((u'proof', u'citizenship', u'requirement'), 4),\n",
        " ((u'public', u'confidence', u'elections'), 4),\n",
        " ((u'public', u'interest', u'law'), 4),\n",
        " ((u'races', u'margin', u'victory'), 4),\n",
        " ((u'raising', u'minimum', u'wage'), 4),\n",
        " ((u'replacement', u'birth', u'certificate'), 4),\n",
        " ((u'republican', u'national', u'lawyers'), 4),\n",
        " ((u'required', u'state', u'law.'), 4),\n",
        " ((u'requiring', u'photo', u'i.d.'), 4),\n",
        " ((u'requiring', u'photo', u'identification'), 4),\n",
        " ((u'restrictive', u'voting', u'laws'), 4),\n",
        " ((u'right', u'\\u201d', u'said.'), 4),\n",
        " ((u'rights', u'act', u'required'), 4),\n",
        " ((u'rio', u'arriba', u'county'), 4),\n",
        " ((u'said', u'gonzales', u'white'), 4),\n",
        " ((u'same-day', u'registration', u'early'), 4),\n",
        " ((u'secretary', u'state', u'brian'), 4),\n",
        " ((u'secretary', u'state', u'ken'), 4),\n",
        " ((u'section', u'5', u'voting'), 4),\n",
        " ((u'sen.', u'kay', u'hagan'), 4),\n",
        " ((u'several', u'key', u'races'), 4),\n",
        " ((u'show', u'photo', u'i.d.'), 4),\n",
        " ((u'show', u'photo', u'identification'), 4),\n",
        " ((u'since', u'u.s.', u'supreme'), 4),\n",
        " ((u'something', u'care', u'deeply'), 4),\n",
        " ((u'speaker', u'thom', u'tillis'), 4),\n",
        " ((u'stand', u'country.', u'people'), 4),\n",
        " ((u'state', u'attorney', u'general'), 4),\n",
        " ((u'state', u'board', u'elections.'), 4),\n",
        " ((u'state', u'brian', u'kemp'), 4),\n",
        " ((u'state-issued', u'photo', u'id'), 4),\n",
        " ((u'states', u'court', u'appeals'), 4),\n",
        " ((u'still', u'little', u'bit'), 4),\n",
        " ((u'strict', u'new', u'voter'), 4),\n",
        " ((u'strictest', u'voter', u'id'), 4),\n",
        " ((u'struck', u'part', u'voting'), 4),\n",
        " ((u'students', u'\\u2014', u'world'), 4),\n",
        " ((u'supreme', u'court', u'reversed'), 4),\n",
        " ((u'supreme', u'court', u'temporarily'), 4),\n",
        " ((u'telling', u'bogey', u'man'), 4),\n",
        " ((u'tend', u'vote', u'democratic'), 4),\n",
        " ((u'texas', u'concealed', u'handgun'), 4),\n",
        " ((u'texas', u'license', u'use'), 4),\n",
        " ((u'texas', u'personal', u'identification'), 4),\n",
        " ((u'texas', u'secretary', u'state'), 4),\n",
        " ((u'texas\\u2019s', u'strict', u'voter'), 4),\n",
        " ((u'thicket', u'time', u'get'), 4),\n",
        " ((u'threat', u'public', u'confidence'), 4),\n",
        " ((u'told', u'could', u'get'), 4),\n",
        " ((u'told', u'huffington', u'post'), 4),\n",
        " ((u'tried', u'register', u'year'), 4),\n",
        " ((u'trying', u'cast', u'ballot'), 4),\n",
        " ((u'trying', u'months', u'unable'), 4),\n",
        " ((u'turned', u'away', u'voting'), 4),\n",
        " ((u'turnout', u'2', u'percent'), 4),\n",
        " ((u'u.s.', u'attorney', u'general'), 4),\n",
        " ((u'u.s.', u'election', u'assistance'), 4),\n",
        " ((u'unable', u'navigate', u'astonishing'), 4),\n",
        " ((u'united', u'states', u'court'), 4),\n",
        " ((u'united', u'states', u'elections'), 4),\n",
        " ((u'united', u'states', u'military'), 4),\n",
        " ((u'united', u'states', u'passport'), 4),\n",
        " ((u'university', u'california', u'irvine'), 4),\n",
        " ((u'university', u'historically', u'black'), 4),\n",
        " ((u'us', u'supreme', u'court'), 4),\n",
        " ((u'using', u'federal', u'form'), 4),\n",
        " ((u'v.', u'marion', u'county'), 4),\n",
        " ((u'valid', u'forms', u'id'), 4),\n",
        " ((u'valid', u'photo', u'identification'), 4),\n",
        " ((u'victory', u'came', u'close'), 4),\n",
        " ((u'view', u'm', u'university'), 4),\n",
        " ((u'vote', u'first', u'time'), 4),\n",
        " ((u'vote', u'first', u'time.'), 4),\n",
        " ((u'voter', u'id', u'cards'), 4),\n",
        " ((u'voter', u'id', u'case'), 4),\n",
        " ((u'voter', u'id', u'voter'), 4),\n",
        " ((u'voter', u'identification', u'laws.'), 4),\n",
        " ((u'voter', u'registration', u'applications'), 4),\n",
        " ((u'voter', u'registration', u'drives'), 4),\n",
        " ((u'voter', u'registration', u'form.'), 4),\n",
        " ((u'voter', u'registration', u'office'), 4),\n",
        " ((u'voter', u'suppression', u'laws'), 4),\n",
        " ((u'voter', u'trying', u'cast'), 4),\n",
        " ((u'voters', u'ca', u\"n't\"), 4),\n",
        " ((u'voters', u'photo', u'id'), 4),\n",
        " ((u'voters', u'telling', u'bogey'), 4),\n",
        " ((u'voters', u'unable', u'vote'), 4),\n",
        " ((u'voters', u'would', u'need'), 4),\n",
        " ((u'voting', u'rights', u'groups'), 4),\n",
        " ((u'well-educated', u'politically', u'engaged.'), 4),\n",
        " ((u'whether', u'voter', u'id'), 4),\n",
        " ((u'white', u'well-educated', u'politically'), 4),\n",
        " ((u'wisconsin', u\"'s\", u'voter'), 4),\n",
        " ((u'wisconsin', u'voter', u'id'), 4),\n",
        " ((u'within', u'90', u'days'), 4),\n",
        " ((u'\\u2014', u'world', u'education'), 4),\n",
        " ((u'\\u201cbut', u'i\\u2019m', u'proud'), 4),\n",
        " ((u'\\u201d', u'said', u'michael'), 4),\n",
        " ((u\"''\", u'according', u'rangel'), 3),\n",
        " ((u\"''\", u'amid', u'political'), 3),\n",
        " ((u\"''\", u'j.', u'christian'), 3),\n",
        " ((u\"''\", u'number', u'black'), 3),\n",
        " ((u\"''\", u'perhaps', u'biggest'), 3),\n",
        " ((u\"''\", u'republicans', u'win'), 3),\n",
        " ((u\"''\", u'said', u'``'), 3),\n",
        " ((u\"''\", u'solidly', u'controlled'), 3),\n",
        " ((u\"''\", u'voter', u'fill'), 3),\n",
        " ((u\"''\", u'voter', u'id'), 3),\n",
        " ((u\"'s\", u'brennan', u'center'), 3),\n",
        " ((u\"'s\", u'futures', u'hopes'), 3),\n",
        " ((u\"'s\", u'least', u'get'), 3),\n",
        " ((u\"'s\", u'license', u'expired'), 3),\n",
        " ((u\"'s\", u'slavery.', u'republican'), 3),\n",
        " ((u\"'s\", u'threats', u'legal'), 3),\n",
        " ((u'1-866-our-vote', u'trained', u'volunteers'), 3),\n",
        " ((u'1.3', u'million', u'floridians'), 3),\n",
        " ((u'10th', u'circuit', u'court'), 3),\n",
        " ((u'11', u'percent', u'eligible'), 3),\n",
        " ((u'18', u'september', u'excited'), 3),\n",
        " ((u'18', u'years', u'old.'), 3),\n",
        " ((u'2', u'weeks', u'ago'), 3),\n",
        " ((u'2008.', u'tried', u'get'), 3),\n",
        " ((u'2010', u'200,000', u'voters'), 3),\n",
        " ((u'2010', u'midterm', u'elections'), 3),\n",
        " ((u'2012', u'election', u'new'), 3),\n",
        " ((u'2014', u'midterm', u'elections.'), 3),\n",
        " ((u'21,000', u'registrants', u'seen'), 3),\n",
        " ((u'24,000', u'kansans', u'tried'), 3),\n",
        " ((u'30', u'combined.', u'working'), 3),\n",
        " ((u'36', u'out-of-state', u'driver\\u2019s'), 3),\n",
        " ((u'40,000', u'people', u'registered'), 3),\n",
        " ((u'5th', u'u.s.', u'circuit'), 3),\n",
        " ((u'7,500', u'voters', u'cast'), 3),\n",
        " ((u'``', u'believe', u'slavery'), 3),\n",
        " ((u'``', u'disproportionate', u\"''\"), 3),\n",
        " ((u'``', u'help', u\"''\"), 3),\n",
        " ((u'``', u'injustice', u\"''\"), 3),\n",
        " ((u'``', u\"n't\", u'disagree'), 3),\n",
        " ((u'``', u'solid', u'south'), 3),\n",
        " ((u'``', u'solid', u'south.'), 3),\n",
        " ((u'able', u'afford', u'documents'), 3),\n",
        " ((u'abner', u'louima', u'assault'), 3),\n",
        " ((u'accept', u'public', u'housing'), 3),\n",
        " ((u'acceptable', u'forms', u'voter'), 3),\n",
        " ((u'acceptable', u'id', u'year.'), 3),\n",
        " ((u'accomplishments', u'promised', u'doj'), 3),\n",
        " ((u'according', u'new', u'report'), 3),\n",
        " ((u'according', u'rangel', u'``'), 3),\n",
        " ((u'according', u'rangel', u'\\u201csome'), 3),\n",
        " ((u'according', u'secretary', u'state'), 3),\n",
        " ((u'according', u'united', u'states'), 3),\n",
        " ((u'according', u'virginia', u'board'), 3),\n",
        " ((u'across', u'country', u'tuesday'), 3),\n",
        " ((u'across', u'country.', u'kansas'), 3),\n",
        " ((u'across', u'state', u'year'), 3),\n",
        " ((u'act', u'meant', u'create'), 3),\n",
        " ((u'act', u'would', u'required'), 3),\n",
        " ((u'actual', u'voters', u'difficulties'), 3),\n",
        " ((u'actually', u'person', u'says'), 3),\n",
        " ((u'adam', u'alkhafaji', u'student'), 3),\n",
        " ((u'address', u'date', u'birth'), 3),\n",
        " ((u'advocates', u'wichita', u'petition'), 3),\n",
        " ((u'afford', u'documents', u'much'), 3),\n",
        " ((u'african', u'americans', u'latinos'), 3),\n",
        " ((u'african', u'americans', u'young'), 3),\n",
        " ...]"
       ]
      }
     ],
     "prompt_number": 23
    },
    {
     "cell_type": "code",
     "collapsed": false,
     "input": [
      "articles_df.title.unique()"
     ],
     "language": "python",
     "metadata": {},
     "outputs": [
      {
       "metadata": {},
       "output_type": "pyout",
       "prompt_number": 25,
       "text": [
        "296"
       ]
      }
     ],
     "prompt_number": 25
    }
   ],
   "metadata": {}
  }
 ]
}