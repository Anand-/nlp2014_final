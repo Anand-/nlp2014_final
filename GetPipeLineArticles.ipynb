{
 "metadata": {
  "name": "",
  "signature": "sha256:86fa66dc68fe9125bd9e7a7331400bd98fc4f0663570a267b871abc8ece50a84"
 },
 "nbformat": 3,
 "nbformat_minor": 0,
 "worksheets": [
  {
   "cells": [
    {
     "cell_type": "code",
     "collapsed": true,
     "input": [
      "from tagscraper import yield_tweets"
     ],
     "language": "python",
     "metadata": {},
     "outputs": [],
     "prompt_number": 8
    },
    {
     "cell_type": "code",
     "collapsed": false,
     "input": [
      "import os\n",
      "from os import path\n",
      "import re\n",
      "import json\n",
      "\n",
      "import requests\n",
      "\n",
      "from tokens import key, secret"
     ],
     "language": "python",
     "metadata": {},
     "outputs": [],
     "prompt_number": 9
    },
    {
     "cell_type": "code",
     "collapsed": false,
     "input": [
      "outdir = path.join(path.curdir, \"data\", \"Keystonexl\")"
     ],
     "language": "python",
     "metadata": {},
     "outputs": [],
     "prompt_number": 10
    },
    {
     "cell_type": "code",
     "collapsed": false,
     "input": [
      "def get_manifest(outdir, query, n=100):\n",
      "\n",
      "    if not path.exists(outdir):\n",
      "        #check if path exists and make otherwise\n",
      "        os.makedirs(outdir)\n",
      "\n",
      "    tweets = yield_tweets(query)\n",
      "    tweet_list = []\n",
      "    urls = set()\n",
      "\n",
      "    count = 0\n",
      "\n",
      "    for tweet in tweets:\n",
      "\n",
      "        if len(tweet['full_urls']) > 0:\n",
      "            n_urls = 0\n",
      "            scraped = False\n",
      "            for u in tweet['full_urls']:\n",
      "                if re.findall(r\"youtu\\.be|youture\\.com|soundcloud.com\", u):\n",
      "                    #check if page is likely to have non text media\n",
      "                    continue\n",
      "\n",
      "                if not u in urls:\n",
      "                    print u\n",
      "                    count += 1\n",
      "                    n_urls += 1\n",
      "                    scraped = True\n",
      "                    urls.add(u)\n",
      "\n",
      "\n",
      "            if scraped:\n",
      "                tweet_list.append(tweet)\n",
      "\n",
      "        if count >= n:\n",
      "            break\n",
      "\n",
      "    # create manifest file of tweets\n",
      "    manifest = open(path.join(outdir, \"manifest.json\"), 'w')\n",
      "    manifest.write(json.dumps(tweet_list))\n",
      "    manifest.close()\n",
      "    print \"Tweet manifest written\"\n"
     ],
     "language": "python",
     "metadata": {},
     "outputs": [],
     "prompt_number": 18
    },
    {
     "cell_type": "code",
     "collapsed": false,
     "input": [
      "get_manifest(outdir, \"#KeystoneXL filter:links lang:en\", n=500)"
     ],
     "language": "python",
     "metadata": {},
     "outputs": [
      {
       "output_type": "stream",
       "stream": "stdout",
       "text": [
        "http://grist.org/climate-energy/fixing-old-water-and-gas-pipelines-would-create-far-more-jobs-than-building-keystone-xl/\n",
        "http://www.nationofchange.org/2014/12/02/state-department-keystone-xl-contractor-erm-bribed-chinese-agency-permit-project/\n",
        "http://www.npr.org/2014/11/17/364727163/what-you-need-to-know-about-the-keystone-xl-oil-pipeline\n",
        "https://www.americanprogress.org/issues/immigration/report/2013/03/20/57351/the-economic-effects-of-granting-legal-status-and-citizenship-to-undocumented-immigrants/\n",
        "http://globalnews.ca/news/1671349/house-set-to-pass-9th-bill-clearing-way-for-keystone-pipeline/?utm_source=NewsletterNational&utm_medium=Email&utm_campaign=2014\n",
        "http://buff.ly/1tMZVLq\n",
        "http://wapo.st/1zkbG0E\n",
        "http://thinkprogress.org/climate/2014/03/20/3417175/koch-brothers-are-largest-land-owners-of-canadas-tar-sands/\n",
        "http://shar.es/1XLbNc\n",
        "http://bit.ly/1voobsX"
       ]
      },
      {
       "output_type": "stream",
       "stream": "stdout",
       "text": [
        "\n",
        "http://bit.ly/1tFxqAe\n",
        "http://ow.ly/Fj7KJ\n",
        "http://wpo.st/VuKw\n",
        "http://thehill.com/homenews/administration/225875-obama-state-of-us-infrastructure-embarrassing#.VH9l4g-3WQ8.twitter\n",
        "http://brook.gs/1tNOjYC\n",
        "http://buff.ly/1pTecLb"
       ]
      },
      {
       "output_type": "stream",
       "stream": "stdout",
       "text": [
        "\n",
        "http://huff.to/1zVTxtl\n",
        "http://bit.ly/1wfu3Ge\n",
        "http://www.newyorker.com/news/news-desk/pivoting-climate-debate-oil-coal\n",
        "http://bit.ly/1yOfZ4Z\n",
        "http://www.desmogblog.com/2014/12/01/state-department-keystone-xl-contractor-erm-bribed-chinese-agency\n",
        "http://bit.ly/1FNvfQT"
       ]
      },
      {
       "output_type": "stream",
       "stream": "stdout",
       "text": [
        "\n",
        "http://ow.ly/FgOIb\n",
        "http://ow.ly/FiDDT\n",
        "http://ow.ly/FiMD8\n",
        "http://350.org"
       ]
      },
      {
       "output_type": "stream",
       "stream": "stdout",
       "text": [
        "\n",
        "http://bit.ly/12nBZYF\n",
        "http://www.forbes.com/sites/timworstall/2014/04/27/keystone-xl-wont-lower-gas-prices-it-might-raise-them/\n",
        "http://www.cnn.com/2014/12/01/politics/hillary-clinton-keystone-league-of-conservation-voters/index.html\n",
        "http://ecowatch.com/2014/12/02/hillary-clinton-fracking-keystone/\n",
        "http://www.bbc.com/news/science-environment-30294981\n",
        "http://ecowatch.com/2014/12/03/senator-bennet-climate-denier/\n",
        "http://ow.ly/Fibtv"
       ]
      },
      {
       "output_type": "stream",
       "stream": "stdout",
       "text": [
        "\n",
        "http://www.theecologist.org/News/news_round_up/2650530/tar_sands_industry_faces_existential_246_billion_loss.html?utm_content=buffer90beb&utm_medium=social&utm_source=twitter.com&utm_campaign=buffer\n",
        "http://bit.ly/gd8BGm"
       ]
      },
      {
       "output_type": "stream",
       "stream": "stdout",
       "text": [
        "\n",
        "http://bit.ly/oTwPxw\n",
        "http://bit.ly/ojNcVJ\n",
        "http://bit.ly/ogrTID\n",
        "http://globalnews.ca/news/571494/introduction-37-years-of-oil-spills-in-alberta/\n",
        "http://westcoastnativenews.com/dene-crude-oil-will-remain-in-the-ground/\n",
        "http://bit.ly/1vnxklj\n",
        "http://bit.ly/1vnxk4S\n",
        "http://goo.gl/7hGCJm\n",
        "http://www.theguardian.com/environment/2014/dec/03/keystone-xl-opponent-bill-mckibben-steps-down-as-head-of-350org?CMP=share_btn_tw"
       ]
      },
      {
       "output_type": "stream",
       "stream": "stdout",
       "text": [
        "\n",
        "http://www.bloomberg.com/news/2014-12-02/keystone-antagonist-steps-down-as-head-of-climate-group-350-org.html\n",
        "http://gop.cm/6013shuZ\n",
        "http://gop.cm/6017sexH\n",
        "http://fb.me/2Mnc7xEKC\n",
        "http://bit.ly/1tEq1B7"
       ]
      },
      {
       "output_type": "stream",
       "stream": "stdout",
       "text": [
        "\n",
        "http://bit.ly/1tEq2oL\n",
        "http://m.fastcoexist.com/3038816/as-the-keystone-pipeline-inches-closer-look-at-the-destructive-legacy-of-tar-sands-oil#2\n",
        "http://bit.ly/1w1zycb\n",
        "http://trib.al/bDqv4qG\n",
        "http://bit.ly/1yOOaKX\n",
        "http://bit.ly/1yOOc5k\n",
        "http://bit.ly/1FMKTMu\n",
        "http://bit.ly/1FMKV6Y\n",
        "http://bit.ly/1FMKV6W\n",
        "http://bit.ly/12n76Dz\n",
        "http://bit.ly/1BdnbLn"
       ]
      },
      {
       "output_type": "stream",
       "stream": "stdout",
       "text": [
        "\n",
        "http://buff.ly/1vL9akG\n",
        "http://shar.es/1XNXmM\n",
        "http://www.capjournal.com/opinions/transcanada-responds-crude-oil-and-keystone-xl-pipeline-still-needed/article_8650a75a-7aad-11e4-9a2b-bfbc93e1d856.html#.VH8hzYCuw3g.twitter\n",
        "http://bcene.ws/1ycTfcf\n",
        "http://grnol.co/1ycqGvu\n",
        "http://fw.to/KrhGeWQ\n",
        "http://bakken.com/news/id/226933/exclusive-u-s-oil-gas-well-permits-plunge-37-percent-november/#.VH8cAX8KmYs.twitter\n",
        "http://ow.ly/FfTGZ"
       ]
      },
      {
       "output_type": "stream",
       "stream": "stdout",
       "text": [
        "\n",
        "http://gt-us.co/1DT1JKx\n",
        "http://greenshadowcabinet.us/news/case-dismissed-transcanada-charges-against-jill-stein-daryl-hannah-eleanor-fairchild-thrown-out\n",
        "http://www.helicopterpage.com/html/oil.html\n",
        "http://goo.gl/JhiF0T"
       ]
      },
      {
       "output_type": "stream",
       "stream": "stdout",
       "text": [
        "\n",
        "http://bit.ly/1zhfP5B\n",
        "http://bit.ly/1woPB3p\n",
        "http://bit.ly/1AH61p3"
       ]
      },
      {
       "output_type": "stream",
       "stream": "stdout",
       "text": [
        "\n",
        "http://gop.cm/6010t4D6\n",
        "http://www.cbc.ca/cgi-bin/MT4/mt-search.cgi?blog_id=96&tag=ballot%20box&limit=20\n",
        "http://ln.is/uniteblue.org/gUipA\n",
        "http://www.cbc.ca/news/canada/alberta-energy-regulator-says-pipeline-spills-60-000-litres-of-crude-into-muskeg-1.2855077?cmp=rss\n",
        "http://thebea.st/1zfUpWd\n",
        "http://cnb.cx/1Ez6nMh\n",
        "http://thebea.st/1rRoveB\n",
        "https://www.uschamber.com/blog/keystone-pipeline-really-important-us-economy?utm_source=Twitter&utm_medium=Wallpost&utm_campaign=Status\n",
        "http://on.fb.me/1o2pWUk\n",
        "http://thebea.st/1tGeoc0"
       ]
      },
      {
       "output_type": "stream",
       "stream": "stdout",
       "text": [
        "\n",
        "http://ow.ly/FeUPR\n",
        "http://thkpr.gs/3598312\n",
        "http://bit.ly/1Ae3Ia1\n",
        "http://uscham.com/1yc3Etz\n",
        "http://instagram.com/p/wIRnL6t1TP/"
       ]
      },
      {
       "output_type": "stream",
       "stream": "stdout",
       "text": [
        "\n",
        "http://ecocidealert.com/?p=8906\n",
        "http://goo.gl/BiPWVY\n",
        "http://on.msnbc.com/1yvNh8T\n",
        "http://on.nrdc.org/1vnfwbc\n",
        "http://ow.ly/FdMK9\n",
        "http://shar.es/1XPuOW\n",
        "http://buff.ly/1zMf7x0"
       ]
      },
      {
       "output_type": "stream",
       "stream": "stdout",
       "text": [
        "\n",
        "http://mobile.reuters.com/article/idUS292515702420110210\n",
        "http://NXTGN.US/3hx\n",
        "http://thebea.st/1tGemkD\n",
        "http://fb.me/6XvsPVDnP"
       ]
      },
      {
       "output_type": "stream",
       "stream": "stdout",
       "text": [
        "\n",
        "http://thinkprogress.org/climate/2014/12/02/3598104/hillary-clinton-fracking-keystone/\n",
        "http://www.globalresearch.ca/state-department-keystone-xl-contractor-erm-bribed-chinese-agency-to-permit-project/5417477?utm_source=rss&utm_medium=rss&utm_campaign=state-department-keystone-xl-contractor-erm-bribed-chinese-agency-to-permit-project"
       ]
      },
      {
       "output_type": "stream",
       "stream": "stdout",
       "text": [
        "\n",
        "http://cbsloc.al/1vph1WO\n",
        "http://bit.ly/1HWApy3\n",
        "http://nyti.ms/12izjeN\n",
        "http://www.politico.com/story/2014/12/hillary-clinton-keystone-113250.html\n",
        "http://bit.ly/1rW9PuC"
       ]
      },
      {
       "output_type": "stream",
       "stream": "stdout",
       "text": [
        "\n",
        "http://goo.gl/421Sg4\n",
        "http://www.minicassia.com/opinion/columnists/article_d1aa52d4-798e-11e4-902e-1ffe408390b5.html\n",
        "http://bit.ly/1yJCEAr\n",
        "http://ow.ly/Fe1JU"
       ]
      },
      {
       "output_type": "stream",
       "stream": "stdout",
       "text": [
        "\n",
        "http://ow.ly/ESkOl\n",
        "http://jewcology.org/2014/12/reject-keystone-xl"
       ]
      },
      {
       "output_type": "stream",
       "stream": "stdout",
       "text": [
        "\n",
        "http://bit.ly/1zf0sul\n",
        "http://bit.ly/1zf0qm7\n",
        "http://bit.ly/1zf0su9\n",
        "http://thehill.com/blogs/ballot-box/225680-clinton-calls-out-climate-deniers\n",
        "http://huff.to/1rUmQEW#OPEC"
       ]
      },
      {
       "output_type": "stream",
       "stream": "stdout",
       "text": [
        "\n",
        "http://fb.me/6SbGnxbp8\n",
        "http://bit.ly/1AcyfFg\n",
        "http://bit.ly/1vK6aUr\n",
        "http://sco.lt/7n9hTt"
       ]
      },
      {
       "output_type": "stream",
       "stream": "stdout",
       "text": [
        "\n",
        "http://bit.ly/1yyrHzy"
       ]
      },
      {
       "output_type": "stream",
       "stream": "stdout",
       "text": [
        "\n",
        "http://bit.ly/1vLT3lQ\n",
        "http://ow.ly/Ev3Sy\n",
        "http://goo.gl/un4Em2"
       ]
      },
      {
       "output_type": "stream",
       "stream": "stdout",
       "text": [
        "\n",
        "http://ow.ly/EAJx7"
       ]
      },
      {
       "output_type": "stream",
       "stream": "stdout",
       "text": [
        "\n",
        "http://ow.ly/FbPMd\n",
        "http://bit.ly/1zevL8q\n",
        "http://bit.ly/1zevJ0p\n",
        "http://bit.ly/1HVJhnB\n",
        "http://bit.ly/1zevKRT\n",
        "http://www.alternet.org/environment/4-reasons-keystone-really-matters?akid=12528.1931061.z0GQzg&rd=1&src=newsletter1027965&t=5"
       ]
      },
      {
       "output_type": "stream",
       "stream": "stdout",
       "text": [
        "\n",
        "http://www.desmogblog.com/2014/11/17/edelman-transcanada-astroturf-documents-expose-oil-industry-s-broader-attack-public-interest\n",
        "http://bit.ly/1AbX3xd\n",
        "http://www.washingtonpost.com/politics/clintons-noncommittal-stance-on-environment-creates-political-dilemma/2014/12/01/609d95a0-796c-11e4-9a27-6fdbc612bff8_story.html\n",
        "http://bit.ly/1HDmBrR\n",
        "http://goo.gl/P9VnI9\n",
        "http://www.pipeliesexposed.org/?p=681"
       ]
      },
      {
       "output_type": "stream",
       "stream": "stdout",
       "text": [
        "\n",
        "http://readersupportednews.org/news-section2/318-66/27267-state-department-keystone-xl-contractor-bribed-chinese-agency-to-permit-project"
       ]
      },
      {
       "output_type": "stream",
       "stream": "stdout",
       "text": [
        "\n",
        "http://ow.ly/FeCNQ\n",
        "http://bit.ly/1vhFoEb\n",
        "http://bit.ly/1tzYeBS\n",
        "http://bit.ly/1vhFonO\n",
        "http://thkpr.gs/3598104"
       ]
      },
      {
       "output_type": "stream",
       "stream": "stdout",
       "text": [
        "\n",
        "http://wapo.st/1vcxYgy\n",
        "http://www.nationaljournal.com/energy/green-whiplash-for-hillary-clinton-in-new-york-20141201\n",
        "http://ow.ly/Fen0b\n",
        "http://www.nationaljournal.com/energy/keystone-vote-fails-in-senate-despite-major-push-by-landrieu-20141118\n",
        "http://bit.ly/1vhcW5k\n",
        "http://bit.ly/1HV57aJ\n",
        "http://bit.ly/1HV57aC\n",
        "http://j.mp/1sOmNcZ\n",
        "http://j.mp/1sNq7Fc"
       ]
      },
      {
       "output_type": "stream",
       "stream": "stdout",
       "text": [
        "\n",
        "http://www.thedailybeast.com/articles/2014/12/01/hillary-praises-fracking-stays-silent-on-keystone.html\n",
        "http://gph.to/1tzssFc\n",
        "http://www.pressofatlanticcity.com/opinion/letters/arguments-favor-keystone-pipeline/article_81cff9a5-7481-5a5c-9530-4c8b597b54e5.html#.VH3NpvcS7oc.twitter\n",
        "http://jaxne.ws/1rTV3Ve\n",
        "http://t.usnews.com/Z4c8ca\n",
        "http://hotpage.info/#85577\n",
        "http://bit.ly/1vgPjdc\n",
        "http://sco.lt/8AZeqH\n",
        "http://www.counterpunch.org/2014/12/02/keystone-xl-contractor-bribed-chinese-agency/#.VH21to1rLdY.twitter"
       ]
      },
      {
       "output_type": "stream",
       "stream": "stdout",
       "text": [
        "\n",
        "http://bit.ly/1tz1Ns9\n",
        "http://cnn.it/12leAry\n",
        "http://wapo.st/1yBJ1Vm\n",
        "http://bit.ly/1vgkqWh\n",
        "http://oilsandstruth.org/frontpage\n",
        "http://bit.ly/1tywJbV\n",
        "http://bit.ly/1tywGgj\n",
        "http://shar.es/1XT2tP\n",
        "http://bit.ly/1tyjZSM\n",
        "http://www.bgdailynews.com/opinion/our_opinion/pipeline-approval-awaits-mcconnell-republican-senate/article_320235eb-f74b-52d1-9ab6-ad7602d2d24d.html#.VG9lRe4LhBw.twitter"
       ]
      },
      {
       "output_type": "stream",
       "stream": "stdout",
       "text": [
        "\n",
        "http://bit.ly/1whliLY\n",
        "http://bit.ly/1Aajinf\n",
        "http://on.msnbc.com/1vcftho\n",
        "http://bit.ly/1zbQp9k\n",
        "http://bit.ly/1HTIYcJ\n",
        "http://bit.ly/1zbQs4X\n",
        "http://bit.ly/1zbQoSS\n",
        "http://bit.ly/1HTIYcF\n",
        "http://politi.co/12kmZuu\n",
        "http://bloom.bg/1CkZgLB"
       ]
      },
      {
       "output_type": "stream",
       "stream": "stdout",
       "text": [
        "\n",
        "http://on.nrdc.org/1xa6JZh\n",
        "http://www.washingtonpost.com/page/2010-2019/WashingtonPost/2014/03/07/National-Politics/Polling/release_303.xml\n",
        "http://buff.ly/1v6R6fW\n",
        "https://gop.com/keystone/\n",
        "http://bit.ly/1zblY3b\n",
        "http://bit.ly/1zblY35\n",
        "http://razzendresss.blogspot.com/2012/08/the-end-of-humanity-utopia-666.html?spref=tw"
       ]
      },
      {
       "output_type": "stream",
       "stream": "stdout",
       "text": [
        "\n",
        "http://www.reuters.com/article/2014/12/01/us-markets-oil-idUSKCN0JF39S20141201\n",
        "http://bit.ly/1yaMmM5\n",
        "http://s.nola.com/GnKLM8e"
       ]
      },
      {
       "output_type": "stream",
       "stream": "stdout",
       "text": [
        "\n",
        "http://gop.cm/6016t0ZA"
       ]
      },
      {
       "output_type": "stream",
       "stream": "stdout",
       "text": [
        "\n",
        "http://bit.ly/1FIuIzD"
       ]
      },
      {
       "output_type": "stream",
       "stream": "stdout",
       "text": [
        "\n",
        "http://gop.cm/6017t0Z7\n",
        "http://www.wafb.com/story/27513337/landrieu-cassidy-debate-tonight-at-7-pm-on-wafb\n",
        "http://goo.gl/v1jXy9\n",
        "http://www.vice.com/read/native-american-tribes-ready-to-go-to-war-over-keystone-pipeline-1119\n",
        "http://bit.ly/12hWs1Y\n",
        "http://bit.ly/12hWs1M\n",
        "http://bit.ly/12hWtmD\n",
        "http://bit.ly/1yE0qxF"
       ]
      },
      {
       "output_type": "stream",
       "stream": "stdout",
       "text": [
        "\n",
        "http://bit.ly/1FImMyj\n",
        "http://ln.is/uniteblue.org/YEqKG\n",
        "http://bit.ly/1vCEWAv"
       ]
      },
      {
       "output_type": "stream",
       "stream": "stdout",
       "text": [
        "\n",
        "http://bit.ly/11KXK4w\n",
        "http://bit.ly/12hvffO\n",
        "http://bit.ly/11KXItm\n",
        "http://bit.ly/12hveZf\n",
        "http://nyti.ms/1t6BDf5\n",
        "http://bit.ly/1yaIomE\n",
        "http://bit.ly/1pFpbrw"
       ]
      },
      {
       "output_type": "stream",
       "stream": "stdout",
       "text": [
        "\n",
        "http://bit.ly/1A8WcNC\n",
        "http://bit.ly/1tFa50L"
       ]
      },
      {
       "output_type": "stream",
       "stream": "stdout",
       "text": [
        "\n",
        "http://www.prwatch.org/news/2014/02/12401/keystone-pipelies-exposed-sticky-oil-leaks-billion-dollar-spills-and-human-health\n",
        "http://bit.ly/1rOxa70\n",
        "http://bit.ly/1A8C0LL\n",
        "http://markbebawi.com/2014/12/01/show-details-for-the-week-of-december-1st-2014/"
       ]
      },
      {
       "output_type": "stream",
       "stream": "stdout",
       "text": [
        "\n",
        "http://bit.ly/1yDkMXT\n",
        "http://bit.ly/1yDkMXP\n",
        "http://bit.ly/1yDkKiJ\n",
        "http://bit.ly/1FI6ENt\n",
        "http://bit.ly/1FHCWrX"
       ]
      },
      {
       "output_type": "stream",
       "stream": "stdout",
       "text": [
        "\n",
        "http://cleantechnica.com/2013/03/20/over-3-times-more-green-jobs-per-million-than-fossil-fuel-or-nuclear-jobs/\n",
        "http://thedailyshow.cc.com/episodes/s0jf6y/november-20--2014---eddie-redmayne\n",
        "http://ulstermanbooks.com/u-s-oil-pushes-back-anti-american-world-powers-despite-obama/\n",
        "http://bit.ly/1A8qAHW\n",
        "http://bit.ly/1wdHCWD\n",
        "http://bit.ly/1wdHCWB"
       ]
      },
      {
       "output_type": "stream",
       "stream": "stdout",
       "text": [
        "\n",
        "http://bit.ly/1wdHAxT\n",
        "http://bit.ly/1wdHAhx\n",
        "http://bit.ly/1vL2Msy\n",
        "http://bit.ly/1vL2MZC\n",
        "http://bit.ly/1yCCM4J\n",
        "http://bit.ly/1vL2LVu\n",
        "http://www.desmogblog.com/2014/11/30/obama-argument-against-keystone-xl-pokes-holes-industry-argument-lifting-crude-oil-export-ban"
       ]
      },
      {
       "output_type": "stream",
       "stream": "stdout",
       "text": [
        "\n",
        "http://democracynow.org\n",
        "http://bit.ly/1nh2ItM\n",
        "http://on.wsj.com/1vUeeod\n",
        "http://www.nationaljournal.com/energy/green-whiplash-for-hillary-clinton-in-new-york-20141201?ref=t.co&mrefid=walkingheader\n",
        "http://bit.ly/1y9ypy6"
       ]
      },
      {
       "output_type": "stream",
       "stream": "stdout",
       "text": [
        "\n",
        "http://NXTGN.US/3hb\n",
        "http://flip.it/GjItg\n",
        "http://flip.it/Oapge\n",
        "http://globalnews.ca/news/1699902/alberta-pipeline-spills-60000-litres-of-crude-into-muskeg/\n",
        "http://bit.ly/11JwOSG"
       ]
      },
      {
       "output_type": "stream",
       "stream": "stdout",
       "text": [
        "\n",
        "http://online.wsj.com/articles/daniel-yergin-the-global-shakeout-from-plunging-oil-1417386897\n",
        "http://www.vieuws.eu/eu-institutions/parliament-agenda-greens-priorities-for-the-week-of-1-december-2014/"
       ]
      },
      {
       "output_type": "stream",
       "stream": "stdout",
       "text": [
        "\n",
        "http://shar.es/1XRllQ\n",
        "http://www.dailycamera.com/letters/ci_27040565/matthew-john-addressing-inaccuracies-about-keystone-pipeline"
       ]
      },
      {
       "output_type": "stream",
       "stream": "stdout",
       "text": [
        "\n",
        "http://online.wsj.com/articles/daniel-yergin-the-global-shakeout-from-plunging-oil-1417386897?tesla=y&mod=djemMER_h&mg=reno64-wsj"
       ]
      },
      {
       "output_type": "stream",
       "stream": "stdout",
       "text": [
        "\n",
        "http://shar.es/1XRed3\n",
        "http://www.kansas.com/opinion/editorials/article4190460.html\n",
        "http://invst.rs/7WClKV"
       ]
      },
      {
       "output_type": "stream",
       "stream": "stdout",
       "text": [
        "\n",
        "http://www.zerohedge.com/news/2014-04-30/train-derails-lynchburg-massive-fire-erupts-flames-stories-high"
       ]
      },
      {
       "output_type": "stream",
       "stream": "stdout",
       "text": [
        "\n",
        "http://www.foe.co.uk/blog/why-eu-us-trade-agreement-could-be-bad-climate\n",
        "http://on.wsj.com/1wa2Q7R"
       ]
      },
      {
       "output_type": "stream",
       "stream": "stdout",
       "text": [
        "\n",
        "http://shar.es/1XFH0B\n",
        "http://bit.ly/1A7ifnW"
       ]
      },
      {
       "output_type": "stream",
       "stream": "stdout",
       "text": [
        "\n",
        "http://bit.ly/1wbGqTQ\n",
        "http://bit.ly/1wbGqTH\n",
        "http://bit.ly/1A7ihfA\n",
        "http://bit.ly/1wbGqDg\n",
        "http://stockandfinancewatch.com/2014/11/canadian-heavy-oil-exports-hit-new-record-with-more-growth-on-the-way/"
       ]
      },
      {
       "output_type": "stream",
       "stream": "stdout",
       "text": [
        "\n",
        "http://bit.ly/1v1PNnk"
       ]
      },
      {
       "output_type": "stream",
       "stream": "stdout",
       "text": [
        "\n",
        "http://argusne.ws/1rGHGx6\n",
        "http://bit.ly/1vIeNyY\n",
        "http://bit.ly/1vIeNyT\n",
        "http://bit.ly/1yAOtsC\n",
        "http://www.rightnow.io/breaking-news/sd_bn_1416121037232.html\n",
        "http://fuelfix.com/blog/2014/11/26/transcanada-drops-pr-firm-that-recommended-controversial-tactics/"
       ]
      },
      {
       "output_type": "stream",
       "stream": "stdout",
       "text": [
        "\n",
        "http://bit.ly/12dA0qz\n",
        "http://bit.ly/1vHUlOI\n",
        "http://bit.ly/1vHUnpK\n",
        "http://j.mp/1zOaMNc\n",
        "http://bit.ly/1pFkXjD"
       ]
      },
      {
       "output_type": "stream",
       "stream": "stdout",
       "text": [
        "\n",
        "http://right.graphics/products/build-the-pipeline\n",
        "http://mobile.bloomberg.com/news/2012-03-01/keystone-oil-pipeline-seen-raising-gas-prices-in-midwest-energy.html\n",
        "http://bit.ly/1yzX9PM\n",
        "http://bit.ly/1w9TBo0"
       ]
      },
      {
       "output_type": "stream",
       "stream": "stdout",
       "text": [
        "\n",
        "http://bit.ly/1vGlEc5\n",
        "http://bit.ly/1vGlEbY\n",
        "http://fw.to/eVdkl3U\n",
        "http://tarsandssolutions.org/member-blogs/premier-clark-rejects-northern-gateway-sets-precedent-for-keystone-xl/"
       ]
      },
      {
       "output_type": "stream",
       "stream": "stdout",
       "text": [
        "\n",
        "http://on.nrdc.org/1xEgWNA\n",
        "http://bit.ly/1vFvPxF"
       ]
      },
      {
       "output_type": "stream",
       "stream": "stdout",
       "text": [
        "\n",
        "http://bit.ly/1w8TDwu"
       ]
      },
      {
       "output_type": "stream",
       "stream": "stdout",
       "text": [
        "\n",
        "http://bit.ly/1A5NmjQ\n",
        "http://bit.ly/1w8TCZD\n",
        "http://bit.ly/1A5NmjI\n",
        "http://globalnews.ca/video/1700633/alberta-pipeline-spills-crude-oil-into-muskeg\n",
        "https://pbs.twimg.com/media/B3t7AaFCYAAvCZA.jpg"
       ]
      },
      {
       "output_type": "stream",
       "stream": "stdout",
       "text": [
        "\n",
        "http://www.thenation.com/article/191417/4-reasons-keystone-really-matters"
       ]
      },
      {
       "output_type": "stream",
       "stream": "stdout",
       "text": [
        "\n",
        "http://bit.ly/1z6bpOJ\n",
        "http://wp.me/p3bkH5-4Q"
       ]
      },
      {
       "output_type": "stream",
       "stream": "stdout",
       "text": [
        "\n",
        "http://www.nola.com/politics/index.ssf/2014/11/hillary_clinton_hosting_new_yo.html"
       ]
      },
      {
       "output_type": "stream",
       "stream": "stdout",
       "text": [
        "\n",
        "http://m.dailykos.com/story/2014/11/17/1345431/-There-s-Been-HOW-Many-Pipeline-Spills-in-Alberta-in-The-Last-Four-Months#\n",
        "http://openermedia.blogspot.com/2014/02/doc-wikileaks-chevron-cesspool-in-eden.html\n",
        "http://stockandfinancewatch.com/2014/11/crude-oil-does-the-limbo-how-low-can-it-go/\n",
        "http://bit.ly/12aMyPF"
       ]
      },
      {
       "output_type": "stream",
       "stream": "stdout",
       "text": [
        "\n",
        "http://bit.ly/1vEfauf\n",
        "http://bit.ly/12aMyzc\n",
        "http://www.weeklystandard.com/articles/bitter-end_820227.html?nopager=1\n",
        "http://ow.ly/ECHOc"
       ]
      },
      {
       "output_type": "stream",
       "stream": "stdout",
       "text": [
        "\n",
        "http://dailycaller.com/2014/11/28/caught-on-camera-landrieu-chief-of-staff-admits-shell-vote-with-obama-97-percent-of-the-time-video/"
       ]
      },
      {
       "output_type": "stream",
       "stream": "stdout",
       "text": [
        "\n",
        "http://hotair.com/archives/2014/11/30/landrieu-not-seeming-to-enjoy-exciting-runoff-race/\n",
        "http://gonzospencer.com/2014/11/13/climate-change-activist-chloe-maxmin-may-not-be-a-celebrity-environmentalist-like-mark-ruffalo-or-leo-dicaprio-but-she-may-save-the-world-anyways/"
       ]
      },
      {
       "output_type": "stream",
       "stream": "stdout",
       "text": [
        "\n",
        "http://vimeo.com/user25415408/pipeliesexposed"
       ]
      },
      {
       "output_type": "stream",
       "stream": "stdout",
       "text": [
        "\n",
        "http://www.cbc.ca/m/news/canada/alberta-energy-regulator-says-pipeline-spills-60-000-litres-of-crude-into-muskeg-1.2855077\n",
        "http://www.pipeliesexposed.org/"
       ]
      },
      {
       "output_type": "stream",
       "stream": "stdout",
       "text": [
        "\n",
        "http://bit.ly/12aj4Br\n",
        "http://bit.ly/12aj4Bp\n",
        "http://bit.ly/1vDFQLB\n",
        "http://www.alternet.org/environment/keystone-pipelies-exposed-truth-stopping-kxl-matters"
       ]
      },
      {
       "output_type": "stream",
       "stream": "stdout",
       "text": [
        "\n",
        "http://www.commondreams.org/news/2014/11/17/more-300-year-new-analysis-shows-devastating-impact-pipeline-spills"
       ]
      },
      {
       "output_type": "stream",
       "stream": "stdout",
       "text": [
        "\n",
        "http://NXTGN.US/3h8\n",
        "http://bit.ly/1y9NIrT"
       ]
      },
      {
       "output_type": "stream",
       "stream": "stdout",
       "text": [
        "\n",
        "http://www.huffingtonpost.ca/2014/11/29/alberta-pipeline-spill-muskeg_n_6242102.html\n",
        "http://fb.me/3nmrxA71A\n",
        "http://buff.ly/1uvqBVV\n",
        "http://on.thestar.com/1rzMxQz\n",
        "http://bit.ly/1xgSJgv"
       ]
      },
      {
       "output_type": "stream",
       "stream": "stdout",
       "text": [
        "\n",
        "http://bit.ly/1HfMFcu\n",
        "http://www.consumeraffairs.com/news/opec-no-cut-in-world-oil-production-112814.html\n",
        "http://bit.ly/1BJOIFr\n",
        "http://www.theblaze.com/stories/2014/11/30/falling-oil-prices-just-put-two-major-u-s-shale-basins-in-the-red/\n",
        "http://tmblr.co/ZiLcmx1WsTnsc\n",
        "http://instagram.com/p/wCFZjYxXNo/\n",
        "http://bit.ly/1z5iHCc\n",
        "http://www.sanders.senate.gov/newsroom/newswatch/110714\n",
        "http://bit.ly/1FqIFnx\n",
        "http://bit.ly/1w6LSqT\n",
        "http://bit.ly/1A3tq0V\n",
        "http://bit.ly/1A3tq0P\n",
        "http://bit.ly/1w6LSat"
       ]
      },
      {
       "output_type": "stream",
       "stream": "stdout",
       "text": [
        "\n",
        "http://bit.ly/1w6LR6k\n",
        "http://goo.gl/X50GZF\n",
        "http://bit.ly/1EX3eYs\n",
        "http://bit.ly/1EX3eYt\n",
        "http://www.capjournal.com/opinions/keystone-xl-was-a-bad-idea-in-the-first-place/article_a23b15fe-76ac-11e4-b486-8f4d9938cf40.html#.VHslQ5hdWIk.twitter\n",
        "http://www.bleedingheartland.com/diary/7264/detecting-bogus-economic-impact-reports\n",
        "http://bit.ly/1A3dgob"
       ]
      },
      {
       "output_type": "stream",
       "stream": "stdout",
       "text": [
        "\n",
        "http://m.dailykos.com/story/2014/11/17/1345441/-CEO-of-TransCanada-Concedes-just-50-permanent-jobs-from-Keystone-XL-Pipeline\n",
        "http://ow.ly/EWNyH\n",
        "http://nyti.ms/1vkwMLB\n",
        "http://wednesdaypost.wordpress.com/2011/11/09/the-true-cost-of-tar-sands-oil-keystone-xl-pipeline\n",
        "https://cards.twitter.com/cards/15yk9s/7ud1\n",
        "http://m.theglobeandmail.com/globe-debate/the-progressive-war-on-science/article21821297/?utm_source=twitter.com&utm_medium=Referrer:+Social+Network+/+Media&utm_campaign=Shared+Web+Article+Links\n",
        "http://f-st.co/OnWq6Sy\n",
        "http://ecowatch.com/2014/11/11/keystone-pipeline-clone-alberta-clipper/?utm_source=EcoWatch+List&utm_campaign=2621ab5604-Top_News_11_16_2014&utm_medium=email&utm_term=0_49c7d43dc9-2621ab5604-85919261"
       ]
      },
      {
       "output_type": "stream",
       "stream": "stdout",
       "text": [
        "\n",
        "http://www.bostonglobe.com/opinion/2014/11/20/keystone-fight-sealed-mary-landrieu-fate/KSNNYozw5lk84LpN2okJRK/story.html\n",
        "http://fsrn.org/2014/11/fsrn-weekly-edition-november21-2014/\n",
        "http://www.cbc.ca/news/canada/alberta-energy-regulator-says-pipeline-spills-60-000-litres-of-crude-into-muskeg-1.2855077"
       ]
      },
      {
       "output_type": "stream",
       "stream": "stdout",
       "text": [
        "\n",
        "http://abcn.ws/12gk9qo\n",
        "http://ow.ly/EqizU\n",
        "http://seekingalpha.com/article/2716835-conocophillips-shale-operations-in-the-face-of-sub-70-wti\n",
        "http://bit.ly/1yw4BLP\n",
        "http://dailycaller.com/2014/11/17/environmentalists-protest-outside-mary-landrieus-capitol-hill-home/\n",
        "http://bit.ly/1F7rnf6"
       ]
      },
      {
       "output_type": "stream",
       "stream": "stdout",
       "text": [
        "\n",
        "https://www.facebook.com/350.org/photos/a.136077452707.110998.12185972707/10152813923002708/?type=1\n",
        "http://www.nytimes.com/2014/11/18/opinion/a-forest-threatened-by-keystone-xl.html?smid=fb-share&_r=0\n",
        "http://bit.ly/1HNQg1H\n",
        "https://www.popularresistance.org/victory-kinder-morgan-stops-drilling-removes-equipment/\n",
        "http://politi.co/1vDGxrs\n",
        "http://www.newscorpse.com/ncWP/?p=22512\n",
        "http://bit.ly/1HNGxs8"
       ]
      },
      {
       "output_type": "stream",
       "stream": "stdout",
       "text": [
        "\n",
        "http://bit.ly/1z40zZw\n",
        "http://bit.ly/1HNGvAH\n",
        "http://tribtalk.org/2014/11/23/the-risks-and-rewards-of-keystone-xl/\n",
        "http://www.timescolonist.com/opinion/op-ed/comment-climate-action-could-happen-faster-than-we-think-1.1624847\n",
        "http://bit.ly/1vGNZlR\n",
        "http://tribtalk.org/\n",
        "http://bit.ly/1HNzRKA"
       ]
      },
      {
       "output_type": "stream",
       "stream": "stdout",
       "text": [
        "\n",
        "http://www.nj.com/morris/index.ssf/2014/11/even_more_towns_line_up_against_controversial_pilgrim_oil_pipeline.html#incart_river\n",
        "http://owl.li/EoVZ7\n",
        "http://bit.ly/12bSC9C\n",
        "http://www.thenation.com/article/184641/tar-sands-pipeline-politics\n",
        "http://boldnebraska.org/the-great-sioux-nation-obama-administration-meet-to-address-renewable-energy-and-alternatives-to-the-keystone-xl-pipeline/\n",
        "http://www.netnewsledger.com/2014/11/29/a-new-era-in-oil-pricing-will-impact-economy/\n",
        "http://bit.ly/1tq9Kjk"
       ]
      },
      {
       "output_type": "stream",
       "stream": "stdout",
       "text": [
        "\n",
        "http://do.JOBS"
       ]
      },
      {
       "output_type": "stream",
       "stream": "stdout",
       "text": [
        "\n",
        "http://tinyurl.com/mms572g\n",
        "http://wapo.st/1zFKaLv\n",
        "http://ow.ly/EB5eU\n",
        "http://bit.ly/1z3EGK1"
       ]
      },
      {
       "output_type": "stream",
       "stream": "stdout",
       "text": [
        "\n",
        "http://long.congressnewsletter.net/common/mailings/index.cfm?id=69#q=prettyphoto&iframe=true&width=758&height=500\n",
        "http://on.rare.us/1xWqzUC\n",
        "http://www.businessweek.com/articles/2013-11-14/2014-outlook-warren-buffett-cashes-in-on-railroad-tank-cars\n",
        "http://www.pipeline101.com/\n",
        "http://www.huffingtonpost.ca/mike-hudema/canada-tar-sands-_b_6232186.html\n",
        "http://bakken.com/news/id/226702/plunging-crude-prices-hammer-energy-companies/#.VHnWn9ucAQ4.twitter\n",
        "http://www.americanthinker.com/articles/2014/11/president_obama_major_player_in_21st_century_oil_wars.html"
       ]
      },
      {
       "output_type": "stream",
       "stream": "stdout",
       "text": [
        "\n",
        "http://tinyurl.com/l3ukqv3\n",
        "http://rncresearch.tumblr.com/post/102957794310/chuck-todd-landrieus-keystone-vote-highlights"
       ]
      },
      {
       "output_type": "stream",
       "stream": "stdout",
       "text": [
        "\n",
        "http://n.pr/1y0w20m\n",
        "http://invst.rs/7WpPdN\n",
        "https://doublonslamise.com/en\n",
        "https://doublonslamise.com/\n",
        "http://cbc.ca/news/canada/british-columbia/kinder-morgan-pulls-equipment-from-burnaby-mountain-1.2853937"
       ]
      },
      {
       "output_type": "stream",
       "stream": "stdout",
       "text": [
        "\n",
        "http://bit.ly/1xU7baH\n",
        "http://mobile.nytimes.com/2014/11/29/business/energy-environment/free-fall-in-oil-price-underscores-shift-away-from-opec.html?partner=rssnyt&emc=rss&utm_source=twitterfeed&utm_medium=twitter&_r=0&referrer="
       ]
      },
      {
       "output_type": "stream",
       "stream": "stdout",
       "text": [
        "\n",
        "http://dailykos.com/story/2014/11/\n",
        "http://bit.ly/1rDo9NX\n",
        "http://www.msnbc.com/msnbc/above-the-oil-view-albertas-oil-sands\n",
        "http://nyti.ms/1gvM7Fj"
       ]
      },
      {
       "output_type": "stream",
       "stream": "stdout",
       "text": [
        "\n",
        "http://bit.ly/1xTuvWd\n",
        "http://www.nwf.org/pdf/Global-Warming/KXL_Myths_vs_Facts.pdf\n",
        "http://www.liberallibertarianism.org/blog/keystone-xl-tom-coburn-betrays-citizens-private-property-rights-for-a-private-company-a-democrat-lies-for-her-senate-seat-proving-dems-stand-for-nothing\n",
        "http://bit.ly/1rCJc3o\n",
        "http://bit.ly/1rCJc3j\n",
        "http://bit.ly/1rCJc3g\n",
        "http://wapo.st/1ym7o9j"
       ]
      },
      {
       "output_type": "stream",
       "stream": "stdout",
       "text": [
        "\n",
        "http://bit.ly/1HaQteW\n",
        "http://wapo.st/1xWjIhv\n",
        "http://bit.ly/1zZdrRt\n",
        "http://nyti.ms/1FsP2Vx\n",
        "http://is.gd/nOxsFk"
       ]
      },
      {
       "output_type": "stream",
       "stream": "stdout",
       "text": [
        "\n",
        "http://detne.ws/1zImPsy\n",
        "http://bit.ly/1yQvSGU\n",
        "http://act.engagementlab.org/letter/NoKeystone?referring_akid=.221835.we6xYf&source=twitter"
       ]
      },
      {
       "output_type": "stream",
       "stream": "stdout",
       "text": [
        "\n",
        "http://act.engagementlab.org/letter/NoKeystone?referring_akid=904.221835.91lWfJ&source=twitter\n",
        "http://bit.ly/128qYdG\n",
        "http://bit.ly/1w0L1ba\n",
        "http://bit.ly/1w0L0UN\n",
        "http://owl.li/EyU0o"
       ]
      },
      {
       "output_type": "stream",
       "stream": "stdout",
       "text": [
        "\n",
        "http://wattsupwiththat.com/2014/10/02/its-official-no-global-warming-for-18-years-1-month/\n",
        "http://grist.org/politics/keystone-trade-talk-is-still-empty-nonsense/"
       ]
      },
      {
       "output_type": "stream",
       "stream": "stdout",
       "text": [
        "\n",
        "http://www.ctvnews.ca/politics/mulcair-favours-west-to-east-pipeline-for-alberta-oilsands-crude-1.2101397\n",
        "http://cbsloc.al/15HNwUW\n",
        "http://wp.me/p31rCA-1AA\n",
        "http://bloom.bg/1uGdKRd\n",
        "http://www.addictinginfo.org/2014/10/14/keystone-xl-dead/\n",
        "http://ow.ly/EWNt3"
       ]
      },
      {
       "output_type": "stream",
       "stream": "stdout",
       "text": [
        "\n",
        "http://goo.gl/XIxa71\n",
        "http://ow.ly/EGeaj\n",
        "http://abcnews.go.com/Politics/transcanada-ceo-high-probability-keystone-xl-pipeline-will-be-built/blogEntry?id=26953000&ref=https%3A%2F%2Fwww.google.ca%2F\n",
        "http://bit.ly/1rASNHQ\n",
        "http://1.usa.gov/1vakKUV"
       ]
      },
      {
       "output_type": "stream",
       "stream": "stdout",
       "text": [
        "\n",
        "http://www.cnbc.com/id/102181913\n",
        "http://www.politico.com/magazine/story/2014/11/keystone-pipeline-is-a-canard-113102.html\n",
        "http://goo.gl/I9byfa\n",
        "http://blogs.wsj.com/experts/2014/11/27/the-case-for-keystone-xl/\n",
        "http://goo.gl/9iVpLJ\n",
        "http://bit.ly/1vZyp4i\n",
        "http://bit.ly/1vZyp4e\n",
        "http://bit.ly/1uvCLgf"
       ]
      },
      {
       "output_type": "stream",
       "stream": "stdout",
       "text": [
        "\n",
        "http://fw.to/MA1kldY\n",
        "http://www.nationaljournal.com/politics/when-will-hillary-clinton-stake-out-her-policy-positions-20141125\n",
        "http://www.planetexperts.com/not-yet-keystone-xl-still-ecological-threat/\n",
        "http://www.theguardian.com/environment/2014/nov/27/renewable-energy-overtakes-nuclear-as-scotlands-top-power-source"
       ]
      },
      {
       "output_type": "stream",
       "stream": "stdout",
       "text": [
        "\n",
        "http://j.mp/1qO08h9\n",
        "http://www.investing.com/commodities/crude-oil-advanced-chart\n",
        "http://bit.ly/12b6yRk\n",
        "http://shar.es/1XI6l8\n",
        "http://www.nationalmemo.com/keystone-stalemate-fix-decaying-pipelines-first-jobs-health-safety/"
       ]
      },
      {
       "output_type": "stream",
       "stream": "stdout",
       "text": [
        "\n",
        "http://goo.gl/4KdqGy\n",
        "http://bit.ly/1vlT7K0\n",
        "http://cnb.cx/1pvvkqf\n",
        "http://bit.ly/ObamaNoKXL\n",
        "http://bit.ly/12aQPSh\n",
        "http://fxn.ws/1vqcrFP\n",
        "http://www.dailyworld.com/story/opinion/2014/11/27/keystoneits-time-build-pipeline/19587991/"
       ]
      },
      {
       "output_type": "stream",
       "stream": "stdout",
       "text": [
        "\n",
        "http://www.fool.ca/2014/11/27/3-big-reasons-to-buy-transcanada-corporation-right-now/\n",
        "http://nyti.ms/1xJxQLc\n",
        "http://bloom.bg/1xNqqCT\n",
        "http://ow.ly/EWumm\n",
        "http://tinyurl.com/o74puzq\n",
        "http://ecowatch.com/2014/11/26/pipeline-spills-alberta-tar-sands/\n",
        "http://www.philly.com/philly/opinion/inquirer/20141128_Overplaying_pipeline_issue.html\n",
        "http://bit.ly/1ryP7Xh\n",
        "http://bit.ly/1ryP7Xd\n",
        "http://fw.to/OhdU46b"
       ]
      },
      {
       "output_type": "stream",
       "stream": "stdout",
       "text": [
        "\n",
        "http://bit.ly/1xPKZia\n",
        "http://m.dailykos.com/story/2014/11/\n",
        "http://bit.ly/1yju3mM\n",
        "http://bit.ly/1yju1eP\n",
        "http://bit.ly/1yp3IEO\n",
        "http://bit.ly/128ywgv"
       ]
      },
      {
       "output_type": "stream",
       "stream": "stdout",
       "text": [
        "\n",
        "http://bit.ly/128yyot\n",
        "http://bit.ly/1rwEe8m\n",
        "http://bit.ly/128yy86\n",
        "http://ajplus.co/EtVMb\n",
        "http://oilsandstruth.org/alberta-doctor-tells-us-canada-%E2%80%98lying%E2%80%99-about-tar-sands%E2%80%99-health-effects\n",
        "http://www.mixcloud.com/Right_of_Reply/season-3-episode-5-whose-pipeline-is-it-anyway/\n",
        "http://bit.ly/1282xNl"
       ]
      },
      {
       "output_type": "stream",
       "stream": "stdout",
       "text": [
        "\n",
        "http://bit.ly/1rvXPFH\n",
        "http://bit.ly/1282xNf\n",
        "http://fb.me/6ZPtD0Gba\n",
        "http://owl.li/EqBbt\n",
        "http://goo.gl/MKASti"
       ]
      },
      {
       "output_type": "stream",
       "stream": "stdout",
       "text": [
        "\n",
        "http://goo.gl/vzzjVs\n",
        "http://fsrn.org/2014/11/widespread-lakota-opposition-to-keystone-xl-pipeline-flies-under-national-media-radar/\n",
        "https://news.vice.com/article/this-pipeline-project-will-transport-more-oil-from-canadas-tar-sands-than-keystone-xl\n",
        "http://bit.ly/1ynUwAz"
       ]
      },
      {
       "output_type": "stream",
       "stream": "stdout",
       "text": [
        "\n",
        "http://bit.ly/127oDj1"
       ]
      },
      {
       "output_type": "stream",
       "stream": "stdout",
       "text": [
        "\n",
        "http://bit.ly/1rv9SCW\n",
        "http://ow.ly/EXx3x"
       ]
      },
      {
       "output_type": "stream",
       "stream": "stdout",
       "text": [
        "\n",
        "http://www.theecologist.org/News/news_round_up/2650530/tar_sands_industry_faces_existential_246_billion_loss.html\n",
        "Tweet manifest written\n"
       ]
      }
     ],
     "prompt_number": 19
    },
    {
     "cell_type": "code",
     "collapsed": false,
     "input": [
      "manifest = open('./data/Keystonexl/manifest.json', 'r')\n",
      "text = manifest.read()"
     ],
     "language": "python",
     "metadata": {},
     "outputs": [],
     "prompt_number": 20
    },
    {
     "cell_type": "code",
     "collapsed": false,
     "input": [
      "token = '3b0f1bc2ddce2d6057a18ca91b695898'"
     ],
     "language": "python",
     "metadata": {},
     "outputs": [],
     "prompt_number": 21
    },
    {
     "cell_type": "code",
     "collapsed": false,
     "input": [
      "for e in json.loads(text):\n",
      "    for n, url in enumerate(e['full_urls']):\n",
      "        print url\n",
      "        items = {'token': token , 'url': url}\n",
      "        r = requests.get(\"http://api.diffbot.com/v3/article\", params=items)\n",
      "        file = open('./data/Keystonexl/%s.json' %(str(e['id']) + '-' +  str(n)), 'w')  \n",
      "        file.write(r.text.encode('utf-8', 'ignore'))\n",
      "        file.close()"
     ],
     "language": "python",
     "metadata": {},
     "outputs": [
      {
       "output_type": "stream",
       "stream": "stdout",
       "text": [
        "http://grist.org/climate-energy/fixing-old-water-and-gas-pipelines-would-create-far-more-jobs-than-building-keystone-xl/\n",
        "http://www.nationofchange.org/2014/12/02/state-department-keystone-xl-contractor-erm-bribed-chinese-agency-permit-project/"
       ]
      },
      {
       "output_type": "stream",
       "stream": "stdout",
       "text": [
        "\n",
        "http://www.npr.org/2014/11/17/364727163/what-you-need-to-know-about-the-keystone-xl-oil-pipeline"
       ]
      },
      {
       "output_type": "stream",
       "stream": "stdout",
       "text": [
        "\n",
        "https://www.americanprogress.org/issues/immigration/report/2013/03/20/57351/the-economic-effects-of-granting-legal-status-and-citizenship-to-undocumented-immigrants/"
       ]
      },
      {
       "output_type": "stream",
       "stream": "stdout",
       "text": [
        "\n",
        "http://globalnews.ca/news/1671349/house-set-to-pass-9th-bill-clearing-way-for-keystone-pipeline/?utm_source=NewsletterNational&utm_medium=Email&utm_campaign=2014"
       ]
      },
      {
       "output_type": "stream",
       "stream": "stdout",
       "text": [
        "\n",
        "http://buff.ly/1tMZVLq"
       ]
      },
      {
       "output_type": "stream",
       "stream": "stdout",
       "text": [
        "\n",
        "http://wapo.st/1zkbG0E"
       ]
      },
      {
       "output_type": "stream",
       "stream": "stdout",
       "text": [
        "\n",
        "http://thinkprogress.org/climate/2014/03/20/3417175/koch-brothers-are-largest-land-owners-of-canadas-tar-sands/"
       ]
      },
      {
       "output_type": "stream",
       "stream": "stdout",
       "text": [
        "\n",
        "http://shar.es/1XLbNc"
       ]
      },
      {
       "output_type": "stream",
       "stream": "stdout",
       "text": [
        "\n",
        "http://bit.ly/1voobsX"
       ]
      },
      {
       "output_type": "stream",
       "stream": "stdout",
       "text": [
        "\n",
        "http://bit.ly/1tFxqAe"
       ]
      },
      {
       "output_type": "stream",
       "stream": "stdout",
       "text": [
        "\n",
        "http://ow.ly/Fj7KJ"
       ]
      },
      {
       "output_type": "stream",
       "stream": "stdout",
       "text": [
        "\n",
        "http://wpo.st/VuKw"
       ]
      },
      {
       "output_type": "stream",
       "stream": "stdout",
       "text": [
        "\n",
        "http://thehill.com/homenews/administration/225875-obama-state-of-us-infrastructure-embarrassing#.VH9l4g-3WQ8.twitter"
       ]
      },
      {
       "output_type": "stream",
       "stream": "stdout",
       "text": [
        "\n",
        "http://brook.gs/1tNOjYC"
       ]
      },
      {
       "output_type": "stream",
       "stream": "stdout",
       "text": [
        "\n",
        "http://buff.ly/1pTecLb"
       ]
      },
      {
       "output_type": "stream",
       "stream": "stdout",
       "text": [
        "\n",
        "http://huff.to/1zVTxtl"
       ]
      },
      {
       "output_type": "stream",
       "stream": "stdout",
       "text": [
        "\n",
        "http://bit.ly/1wfu3Ge"
       ]
      },
      {
       "output_type": "stream",
       "stream": "stdout",
       "text": [
        "\n",
        "http://www.newyorker.com/news/news-desk/pivoting-climate-debate-oil-coal"
       ]
      },
      {
       "output_type": "stream",
       "stream": "stdout",
       "text": [
        "\n",
        "http://bit.ly/1yOfZ4Z"
       ]
      },
      {
       "output_type": "stream",
       "stream": "stdout",
       "text": [
        "\n",
        "http://www.desmogblog.com/2014/12/01/state-department-keystone-xl-contractor-erm-bribed-chinese-agency"
       ]
      },
      {
       "output_type": "stream",
       "stream": "stdout",
       "text": [
        "\n",
        "http://bit.ly/1FNvfQT"
       ]
      },
      {
       "output_type": "stream",
       "stream": "stdout",
       "text": [
        "\n",
        "http://ow.ly/FgOIb"
       ]
      },
      {
       "output_type": "stream",
       "stream": "stdout",
       "text": [
        "\n",
        "http://ow.ly/FiDDT"
       ]
      },
      {
       "output_type": "stream",
       "stream": "stdout",
       "text": [
        "\n",
        "http://ow.ly/FiMD8"
       ]
      },
      {
       "output_type": "stream",
       "stream": "stdout",
       "text": [
        "\n",
        "http://350.org"
       ]
      },
      {
       "output_type": "stream",
       "stream": "stdout",
       "text": [
        "\n",
        "http://bit.ly/12nBZYF"
       ]
      },
      {
       "output_type": "stream",
       "stream": "stdout",
       "text": [
        "\n",
        "http://www.forbes.com/sites/timworstall/2014/04/27/keystone-xl-wont-lower-gas-prices-it-might-raise-them/"
       ]
      },
      {
       "output_type": "stream",
       "stream": "stdout",
       "text": [
        "\n",
        "http://www.cnn.com/2014/12/01/politics/hillary-clinton-keystone-league-of-conservation-voters/index.html"
       ]
      },
      {
       "output_type": "stream",
       "stream": "stdout",
       "text": [
        "\n",
        "http://ecowatch.com/2014/12/02/hillary-clinton-fracking-keystone/"
       ]
      },
      {
       "output_type": "stream",
       "stream": "stdout",
       "text": [
        "\n",
        "http://www.bbc.com/news/science-environment-30294981"
       ]
      }
     ]
    }
   ],
   "metadata": {}
  }
 ]
}