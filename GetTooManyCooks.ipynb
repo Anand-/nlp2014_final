{
 "metadata": {
  "name": "",
  "signature": "sha256:4910b89a9a7c2c6299c0af7387f05cbb75c49cda2f2b06d9ddc4a5be75a70f40"
 },
 "nbformat": 3,
 "nbformat_minor": 0,
 "worksheets": [
  {
   "cells": [
    {
     "cell_type": "code",
     "collapsed": true,
     "input": [
      "from tagscraper import yield_tweets"
     ],
     "language": "python",
     "metadata": {},
     "outputs": [],
     "prompt_number": 1
    },
    {
     "cell_type": "code",
     "collapsed": false,
     "input": [
      "import os\n",
      "from os import path\n",
      "import re\n",
      "import json\n",
      "\n",
      "import requests\n",
      "\n",
      "from tokens import key, secret"
     ],
     "language": "python",
     "metadata": {},
     "outputs": [],
     "prompt_number": 2
    },
    {
     "cell_type": "code",
     "collapsed": false,
     "input": [
      "outdir = path.join(path.curdir, \"data\", \"Cooks\")"
     ],
     "language": "python",
     "metadata": {},
     "outputs": [],
     "prompt_number": 3
    },
    {
     "cell_type": "code",
     "collapsed": false,
     "input": [
      "def get_manifest(outdir, query, n=100):\n",
      "\n",
      "    if not path.exists(outdir):\n",
      "        #check if path exists and make otherwise\n",
      "        os.makedirs(outdir)\n",
      "\n",
      "    tweets = yield_tweets(query)\n",
      "    tweet_list = []\n",
      "    urls = set()\n",
      "\n",
      "    count = 0\n",
      "\n",
      "    for tweet in tweets:\n",
      "\n",
      "        if len(tweet['full_urls']) > 0:\n",
      "            n_urls = 0\n",
      "            scraped = False\n",
      "            for u in tweet['full_urls']:\n",
      "                if re.findall(r\"youtu\\.be|youture\\.com|soundcloud.com\", u):\n",
      "                    #check if page is likely to have non text media\n",
      "                    continue\n",
      "\n",
      "                if not u in urls:\n",
      "                    print u\n",
      "                    count += 1\n",
      "                    n_urls += 1\n",
      "                    scraped = True\n",
      "                    urls.add(u)\n",
      "\n",
      "\n",
      "            if scraped:\n",
      "                tweet_list.append(tweet)\n",
      "\n",
      "        if count >= n:\n",
      "            break\n",
      "\n",
      "    # create manifest file of tweets\n",
      "    manifest = open(path.join(outdir, \"manifest.json\"), 'w')\n",
      "    manifest.write(json.dumps(tweet_list))\n",
      "    manifest.close()\n",
      "    print \"Tweet manifest written\"\n"
     ],
     "language": "python",
     "metadata": {},
     "outputs": [],
     "prompt_number": 4
    },
    {
     "cell_type": "code",
     "collapsed": false,
     "input": [
      "get_manifest(outdir, \"#TooManyCooks filter:links lang:en\", n=500)"
     ],
     "language": "python",
     "metadata": {},
     "outputs": [
      {
       "output_type": "stream",
       "stream": "stdout",
       "text": [
        "http://instagram.com/p/wK7ebChIn8/\n",
        "http://vult.re/1ElAhmR\n",
        "https://www.youtube.com/watch?v=QrGrOK8oZG8\n",
        "http://www.indyweek.com/indyweek/a-tale-of-two-memes-the-triangle-backstories-of-a-pair-of-recent-viral-video-sensations\n",
        "http://instagram.com/p/wJy1T0kTVh/\n",
        "http://ow.ly/Fiv0W\n",
        "http://www.slate.com/articles/arts/culturebox/2014/11/totally_obsessed_the_age_of_cultural_manias_from_true_detective_to_serial.1.html\n",
        "http://www.nytimes.com/2014/12/03/nyregion/the-4-billion-train-station-at-the-world-trade-center.html?smid=nytcore-iphone-share&smprod=nytcore-iphone\n",
        "http://www.newyorker.com/culture/culture-desk/connect-many-cooks\n",
        "http://m.youtube.com/watch?v=QrGrOK8oZG8"
       ]
      },
      {
       "output_type": "stream",
       "stream": "stdout",
       "text": [
        "\n",
        "https://www.mydocket.com/embrace-absurd/\n",
        "https://twitter.com/THNEdwardFraser/status/539844865161297920\n",
        "http://instagram.com/p/wIHR8HPtiV/\n",
        "http://www.comingsoon.net/movies/news/388379-its-official-meet-the-cast-of-dc-comics-suicide-squad\n",
        "http://instagram.com/p/wH1T-ZxKFx/\n",
        "https://www.youtube.com/watch?v=ypZT4lQHoK8\n",
        "https://www.youtube.com/watch?v=o0u4M6vppCI"
       ]
      },
      {
       "output_type": "stream",
       "stream": "stdout",
       "text": [
        "\n",
        "http://instagram.com/p/wFtT17hInY/\n",
        "http://instagram.com/p/wF8UMaDFVT/\n",
        "http://instagram.com/p/wF3flvtwg6/\n",
        "http://www.nfl.com/fantasyfootball/live#day=6&week=13&seasonType=reg&seg=71\n",
        "http://instagram.com/p/wFqSfTmFlT/\n",
        "https://itunes.apple.com/us/podcast/oh-no-ross-and-carrie/id425328515?mt=2#episodeGuid=5138c39ee4b031149dd93597%3A5138c4e1e4b0653ec0f1fa2c%3A547c8719e4b09ed1cedde663\n",
        "http://youtube.com/watch?v=S_DESlbpWLY\n",
        "http://slate.me/1y43PSP\n",
        "https://www.youtube.com/watch?v=S_DESlbpWLY"
       ]
      },
      {
       "output_type": "stream",
       "stream": "stdout",
       "text": [
        "\n",
        "http://laughingsquid.com/the-theme-song-from-too-many-cooks-played-solo-on-a-looping-cello/\n",
        "http://instagram.com/p/wE0VZszBLm/\n",
        "http://goo.gl/b9P1yK\n",
        "https://vine.co/v/OnVbVjuDlmr\n",
        "https://www.dropbox.com/s/nttql8ksxo994vb/Screenshot%202014-11-30%2021.08.54.png\n",
        "http://instagram.com/p/wDGY5FE1_k/"
       ]
      },
      {
       "output_type": "stream",
       "stream": "stdout",
       "text": [
        "\n",
        "http://instagram.com/p/wC3eE4tlxb/\n",
        "http://instagram.com/p/v4-S7ChIgg/\n",
        "http://instagram.com/p/v7hWrohIhj/\n",
        "http://instagram.com/p/v9zCM3hIsK/\n",
        "http://instagram.com/p/wAyO8_BItY\n",
        "http://www.youtube.com/watch?v=QrGrOK8oZG8"
       ]
      },
      {
       "output_type": "stream",
       "stream": "stdout",
       "text": [
        "\n",
        "http://www.youtube.com/playlist?list=PL92CAF6B8AE655C2C\n",
        "http://d.pr/i/6Bae\n",
        "http://goo.gl/n0PrXl\n",
        "http://instagram.com/p/v_-5i_nj5o/\n",
        "http://instagram.com/p/v_1HrHmvAu/\n",
        "http://www.reuters.com/article/2014/11/29/us-film-von-trier-idUSKCN0JD0BU20141129\n",
        "http://techcrunch.com/2014/11/28/too-many-droids/?ncid=rss&utm_source=feedburner&utm_medium=feed&utm_campaign=Feed%3A+Techcrunch+%28TechCrunch%29\n",
        "http://instagram.com/p/v_eNdFM1si/"
       ]
      },
      {
       "output_type": "stream",
       "stream": "stdout",
       "text": [
        "\n",
        "http://twitter.com/xtinasf/status/538611227849535488/photo/1\n",
        "http://techcrunch.com/2014/11/28/too-many-droids/\n",
        "http://instagram.com/p/v9wUN6kZI6/"
       ]
      },
      {
       "output_type": "stream",
       "stream": "stdout",
       "text": [
        "\n",
        "https://vine.co/v/OiPiW0ElwFK\n",
        "https://m.youtube.com/watch?v=QrGrOK8oZG8\n",
        "http://eepurl.com/9kBSD\n",
        "https://www.youtube.com/watch?v=pBkDVzMzas4"
       ]
      },
      {
       "output_type": "stream",
       "stream": "stdout",
       "text": [
        "\n",
        "http://moby.to/bs7gm8\n",
        "http://instagram.com/p/v7harMRVGI/\n",
        "https://vine.co/v/OnKhnPUKLIZ"
       ]
      },
      {
       "output_type": "stream",
       "stream": "stdout",
       "text": [
        "\n",
        "http://instagram.com/p/v7BxnvmYH6/"
       ]
      },
      {
       "output_type": "stream",
       "stream": "stdout",
       "text": [
        "\n",
        "http://instagram.com/p/v7BbnSslgd/\n",
        "http://instagram.com/p/v68mmZpeEj/\n",
        "http://instagram.com/p/v65aw7MolJ/"
       ]
      },
      {
       "output_type": "stream",
       "stream": "stdout",
       "text": [
        "\n",
        "http://fb.me/1vZhBe5WT\n",
        "http://instagram.com/p/v6o3GlBmgL/\n",
        "http://instagram.com/p/v6mDJQkWQG/\n",
        "https://vine.co/v/On7rKXnQulr\n",
        "https://vine.co/v/On7A1zeJ1mI"
       ]
      },
      {
       "output_type": "stream",
       "stream": "stdout",
       "text": [
        "\n",
        "http://fb.me/7dZf9vnmN\n",
        "http://instagram.com/p/v6SLO7DAY9/\n",
        "http://instagram.com/p/v6QPYbmMoo/\n",
        "http://instagram.com/p/v6OjpcC_5e/\n",
        "http://www.sdcexec.com/blog/12022380/the-first-rule-of-keeping-a-secret-is-not-to-tell-it-to-anyone-you-cant-do-that-and-have-a-diversified-supply-base\n",
        "http://rushcoil.bandcamp.com/track/too-many-cooks-rush-coil-nes-cover"
       ]
      },
      {
       "output_type": "stream",
       "stream": "stdout",
       "text": [
        "\n",
        "http://instagram.com/p/v4NuxQu12F/\n",
        "http://jennifergiles.net/about.html\n",
        "http://popculturespectrum.com/?p=1711\n",
        "http://talkingtvwithryanandryan.libsyn.com/talking-tv-with-ryan-and-ryan-episode-130-we-review-100-arrows-in-a-flash"
       ]
      },
      {
       "output_type": "stream",
       "stream": "stdout",
       "text": [
        "\n",
        "http://instagram.com/p/v4oswNRbF7/\n",
        "http://instagram.com/p/v4VzZ_PN7E/\n",
        "http://oyster.ignimgs.com/wordpress/stg.ign.com/2014/11/3Screen-Shot-2014-11-07-at-10.jpg\n",
        "http://s3-ec.buzzfed.com/static/2014-11/12/12/enhanced/webdr02/enhanced-buzz-3834-1415812467-18.jpg\n",
        "http://instagram.com/p/v2aZdHBIhb/"
       ]
      },
      {
       "output_type": "stream",
       "stream": "stdout",
       "text": [
        "\n",
        "http://instagram.com/p/vy2_RLhItn/\n",
        "http://instagram.com/p/vwOvrIBIhN/\n",
        "http://instagram.com/p/vtpujnhIsS/\n",
        "http://eye-of-rick.tumblr.com\n",
        "http://eye-of-rick.tumb.r.com\n",
        "http://instagram.com/p/v34gEmPN1d/\n",
        "http://www.ign.com/articles/2014/11/15/too-many-cooks-katie-adkins-on-what-its-like-when-your-wacky-short-film-goes-viral"
       ]
      },
      {
       "output_type": "stream",
       "stream": "stdout",
       "text": [
        "\n",
        "Tweet manifest written"
       ]
      },
      {
       "output_type": "stream",
       "stream": "stdout",
       "text": [
        "\n"
       ]
      }
     ],
     "prompt_number": 5
    },
    {
     "cell_type": "code",
     "collapsed": false,
     "input": [
      "manifest = open(path.join(outdir, 'manifest.json'), 'r')\n",
      "text = manifest.read()"
     ],
     "language": "python",
     "metadata": {},
     "outputs": [],
     "prompt_number": 6
    },
    {
     "cell_type": "code",
     "collapsed": false,
     "input": [
      "token = '3b0f1bc2ddce2d6057a18ca91b695898'"
     ],
     "language": "python",
     "metadata": {},
     "outputs": [],
     "prompt_number": 7
    },
    {
     "cell_type": "code",
     "collapsed": false,
     "input": [
      "for e in json.loads(text):\n",
      "    for n, url in enumerate(e['full_urls']):\n",
      "        out_path = path.join(outdir, '%s.json' %(str(e['id']) + '-' +  str(n)))\n",
      "        if path.exists(out_path):\n",
      "            print \"skipping: {}\".format(url)\n",
      "            continue\n",
      "        print \"scraping: {}\".format(url)\n",
      "        items = {'token': token , 'url': url}\n",
      "        r = requests.get(\"http://api.diffbot.com/v3/article\", params=items)\n",
      "        file = open(out_path, 'w')  \n",
      "        file.write(r.text.encode('utf-8', 'ignore'))\n",
      "        file.close()"
     ],
     "language": "python",
     "metadata": {},
     "outputs": [
      {
       "output_type": "stream",
       "stream": "stdout",
       "text": [
        "scraping: http://instagram.com/p/wK7ebChIn8/\n",
        "scraping: http://vult.re/1ElAhmR"
       ]
      },
      {
       "output_type": "stream",
       "stream": "stdout",
       "text": [
        "\n",
        "scraping: https://www.youtube.com/watch?v=QrGrOK8oZG8"
       ]
      },
      {
       "output_type": "stream",
       "stream": "stdout",
       "text": [
        "\n",
        "scraping: http://www.indyweek.com/indyweek/a-tale-of-two-memes-the-triangle-backstories-of-a-pair-of-recent-viral-video-sensations"
       ]
      },
      {
       "output_type": "stream",
       "stream": "stdout",
       "text": [
        "\n",
        "scraping: http://instagram.com/p/wJy1T0kTVh/"
       ]
      },
      {
       "output_type": "stream",
       "stream": "stdout",
       "text": [
        "\n",
        "scraping: http://ow.ly/Fiv0W"
       ]
      },
      {
       "output_type": "stream",
       "stream": "stdout",
       "text": [
        "\n",
        "scraping: http://www.slate.com/articles/arts/culturebox/2014/11/totally_obsessed_the_age_of_cultural_manias_from_true_detective_to_serial.1.html"
       ]
      },
      {
       "output_type": "stream",
       "stream": "stdout",
       "text": [
        "\n",
        "scraping: http://www.nytimes.com/2014/12/03/nyregion/the-4-billion-train-station-at-the-world-trade-center.html?smid=nytcore-iphone-share&smprod=nytcore-iphone"
       ]
      },
      {
       "output_type": "stream",
       "stream": "stdout",
       "text": [
        "\n",
        "scraping: http://www.newyorker.com/culture/culture-desk/connect-many-cooks"
       ]
      },
      {
       "output_type": "stream",
       "stream": "stdout",
       "text": [
        "\n",
        "scraping: http://m.youtube.com/watch?v=QrGrOK8oZG8"
       ]
      },
      {
       "output_type": "stream",
       "stream": "stdout",
       "text": [
        "\n",
        "scraping: https://www.mydocket.com/embrace-absurd/"
       ]
      },
      {
       "output_type": "stream",
       "stream": "stdout",
       "text": [
        "\n",
        "scraping: https://twitter.com/THNEdwardFraser/status/539844865161297920"
       ]
      },
      {
       "output_type": "stream",
       "stream": "stdout",
       "text": [
        "\n",
        "scraping: http://instagram.com/p/wIHR8HPtiV/"
       ]
      },
      {
       "output_type": "stream",
       "stream": "stdout",
       "text": [
        "\n",
        "scraping: http://www.comingsoon.net/movies/news/388379-its-official-meet-the-cast-of-dc-comics-suicide-squad"
       ]
      },
      {
       "output_type": "stream",
       "stream": "stdout",
       "text": [
        "\n",
        "scraping: http://instagram.com/p/wH1T-ZxKFx/"
       ]
      },
      {
       "output_type": "stream",
       "stream": "stdout",
       "text": [
        "\n",
        "scraping: https://www.youtube.com/watch?v=ypZT4lQHoK8"
       ]
      },
      {
       "output_type": "stream",
       "stream": "stdout",
       "text": [
        "\n",
        "scraping: https://www.youtube.com/watch?v=o0u4M6vppCI"
       ]
      },
      {
       "output_type": "stream",
       "stream": "stdout",
       "text": [
        "\n",
        "scraping: http://instagram.com/p/wFtT17hInY/"
       ]
      },
      {
       "output_type": "stream",
       "stream": "stdout",
       "text": [
        "\n",
        "scraping: http://instagram.com/p/wF8UMaDFVT/"
       ]
      },
      {
       "output_type": "stream",
       "stream": "stdout",
       "text": [
        "\n",
        "scraping: http://instagram.com/p/wF3flvtwg6/"
       ]
      },
      {
       "output_type": "stream",
       "stream": "stdout",
       "text": [
        "\n",
        "scraping: http://www.nfl.com/fantasyfootball/live#day=6&week=13&seasonType=reg&seg=71"
       ]
      },
      {
       "output_type": "stream",
       "stream": "stdout",
       "text": [
        "\n",
        "scraping: http://instagram.com/p/wFqSfTmFlT/"
       ]
      },
      {
       "output_type": "stream",
       "stream": "stdout",
       "text": [
        "\n",
        "scraping: https://itunes.apple.com/us/podcast/oh-no-ross-and-carrie/id425328515?mt=2#episodeGuid=5138c39ee4b031149dd93597%3A5138c4e1e4b0653ec0f1fa2c%3A547c8719e4b09ed1cedde663"
       ]
      },
      {
       "output_type": "stream",
       "stream": "stdout",
       "text": [
        "\n",
        "scraping: http://youtube.com/watch?v=S_DESlbpWLY"
       ]
      },
      {
       "output_type": "stream",
       "stream": "stdout",
       "text": [
        "\n",
        "scraping: http://slate.me/1y43PSP"
       ]
      },
      {
       "output_type": "stream",
       "stream": "stdout",
       "text": [
        "\n",
        "scraping: https://www.youtube.com/watch?v=S_DESlbpWLY"
       ]
      },
      {
       "output_type": "stream",
       "stream": "stdout",
       "text": [
        "\n",
        "scraping: http://laughingsquid.com/the-theme-song-from-too-many-cooks-played-solo-on-a-looping-cello/"
       ]
      },
      {
       "output_type": "stream",
       "stream": "stdout",
       "text": [
        "\n",
        "scraping: http://instagram.com/p/wE0VZszBLm/"
       ]
      },
      {
       "output_type": "stream",
       "stream": "stdout",
       "text": [
        "\n",
        "scraping: http://goo.gl/b9P1yK"
       ]
      },
      {
       "output_type": "stream",
       "stream": "stdout",
       "text": [
        "\n",
        "scraping: https://vine.co/v/OnVbVjuDlmr"
       ]
      },
      {
       "output_type": "stream",
       "stream": "stdout",
       "text": [
        "\n",
        "scraping: https://www.dropbox.com/s/nttql8ksxo994vb/Screenshot%202014-11-30%2021.08.54.png"
       ]
      },
      {
       "output_type": "stream",
       "stream": "stdout",
       "text": [
        "\n",
        "scraping: http://instagram.com/p/wDGY5FE1_k/"
       ]
      },
      {
       "output_type": "stream",
       "stream": "stdout",
       "text": [
        "\n",
        "scraping: http://instagram.com/p/wC3eE4tlxb/"
       ]
      },
      {
       "output_type": "stream",
       "stream": "stdout",
       "text": [
        "\n",
        "scraping: http://instagram.com/p/v4-S7ChIgg/"
       ]
      },
      {
       "output_type": "stream",
       "stream": "stdout",
       "text": [
        "\n",
        "scraping: http://instagram.com/p/v7hWrohIhj/"
       ]
      },
      {
       "output_type": "stream",
       "stream": "stdout",
       "text": [
        "\n",
        "scraping: http://instagram.com/p/v9zCM3hIsK/"
       ]
      },
      {
       "output_type": "stream",
       "stream": "stdout",
       "text": [
        "\n",
        "scraping: http://instagram.com/p/wAyO8_BItY"
       ]
      },
      {
       "output_type": "stream",
       "stream": "stdout",
       "text": [
        "\n",
        "scraping: http://www.youtube.com/watch?v=QrGrOK8oZG8"
       ]
      },
      {
       "output_type": "stream",
       "stream": "stdout",
       "text": [
        "\n",
        "scraping: http://www.youtube.com/playlist?list=PL92CAF6B8AE655C2C"
       ]
      },
      {
       "output_type": "stream",
       "stream": "stdout",
       "text": [
        "\n",
        "scraping: http://d.pr/i/6Bae"
       ]
      },
      {
       "output_type": "stream",
       "stream": "stdout",
       "text": [
        "\n",
        "scraping: http://goo.gl/n0PrXl"
       ]
      },
      {
       "output_type": "stream",
       "stream": "stdout",
       "text": [
        "\n",
        "scraping: http://instagram.com/p/v_-5i_nj5o/"
       ]
      },
      {
       "output_type": "stream",
       "stream": "stdout",
       "text": [
        "\n",
        "scraping: http://instagram.com/p/v_1HrHmvAu/"
       ]
      },
      {
       "output_type": "stream",
       "stream": "stdout",
       "text": [
        "\n",
        "scraping: http://www.reuters.com/article/2014/11/29/us-film-von-trier-idUSKCN0JD0BU20141129"
       ]
      },
      {
       "output_type": "stream",
       "stream": "stdout",
       "text": [
        "\n",
        "scraping: http://techcrunch.com/2014/11/28/too-many-droids/?ncid=rss&utm_source=feedburner&utm_medium=feed&utm_campaign=Feed%3A+Techcrunch+%28TechCrunch%29"
       ]
      },
      {
       "output_type": "stream",
       "stream": "stdout",
       "text": [
        "\n",
        "scraping: http://instagram.com/p/v_eNdFM1si/"
       ]
      },
      {
       "output_type": "stream",
       "stream": "stdout",
       "text": [
        "\n",
        "scraping: http://twitter.com/xtinasf/status/538611227849535488/photo/1"
       ]
      },
      {
       "output_type": "stream",
       "stream": "stdout",
       "text": [
        "\n",
        "scraping: http://techcrunch.com/2014/11/28/too-many-droids/"
       ]
      },
      {
       "output_type": "stream",
       "stream": "stdout",
       "text": [
        "\n",
        "scraping: http://instagram.com/p/v9wUN6kZI6/"
       ]
      },
      {
       "output_type": "stream",
       "stream": "stdout",
       "text": [
        "\n",
        "scraping: https://vine.co/v/OiPiW0ElwFK"
       ]
      },
      {
       "output_type": "stream",
       "stream": "stdout",
       "text": [
        "\n",
        "scraping: https://m.youtube.com/watch?v=QrGrOK8oZG8"
       ]
      },
      {
       "output_type": "stream",
       "stream": "stdout",
       "text": [
        "\n",
        "scraping: http://eepurl.com/9kBSD"
       ]
      },
      {
       "output_type": "stream",
       "stream": "stdout",
       "text": [
        "\n",
        "scraping: https://www.youtube.com/watch?v=pBkDVzMzas4"
       ]
      },
      {
       "output_type": "stream",
       "stream": "stdout",
       "text": [
        "\n",
        "scraping: http://moby.to/bs7gm8"
       ]
      },
      {
       "output_type": "stream",
       "stream": "stdout",
       "text": [
        "\n",
        "scraping: http://instagram.com/p/v7harMRVGI/"
       ]
      },
      {
       "output_type": "stream",
       "stream": "stdout",
       "text": [
        "\n",
        "scraping: https://vine.co/v/OnKhnPUKLIZ"
       ]
      },
      {
       "output_type": "stream",
       "stream": "stdout",
       "text": [
        "\n",
        "scraping: http://instagram.com/p/v7BxnvmYH6/"
       ]
      },
      {
       "output_type": "stream",
       "stream": "stdout",
       "text": [
        "\n",
        "scraping: http://instagram.com/p/v7BbnSslgd/"
       ]
      },
      {
       "output_type": "stream",
       "stream": "stdout",
       "text": [
        "\n",
        "scraping: http://instagram.com/p/v68mmZpeEj/"
       ]
      },
      {
       "output_type": "stream",
       "stream": "stdout",
       "text": [
        "\n",
        "scraping: http://instagram.com/p/v65aw7MolJ/"
       ]
      },
      {
       "output_type": "stream",
       "stream": "stdout",
       "text": [
        "\n",
        "scraping: http://fb.me/1vZhBe5WT"
       ]
      },
      {
       "output_type": "stream",
       "stream": "stdout",
       "text": [
        "\n",
        "scraping: http://instagram.com/p/v6o3GlBmgL/"
       ]
      },
      {
       "output_type": "stream",
       "stream": "stdout",
       "text": [
        "\n",
        "scraping: http://instagram.com/p/v6mDJQkWQG/"
       ]
      },
      {
       "output_type": "stream",
       "stream": "stdout",
       "text": [
        "\n",
        "scraping: https://vine.co/v/On7rKXnQulr"
       ]
      },
      {
       "output_type": "stream",
       "stream": "stdout",
       "text": [
        "\n",
        "scraping: https://vine.co/v/On7A1zeJ1mI"
       ]
      },
      {
       "output_type": "stream",
       "stream": "stdout",
       "text": [
        "\n",
        "scraping: http://fb.me/7dZf9vnmN"
       ]
      },
      {
       "output_type": "stream",
       "stream": "stdout",
       "text": [
        "\n",
        "scraping: http://instagram.com/p/v6SLO7DAY9/"
       ]
      },
      {
       "output_type": "stream",
       "stream": "stdout",
       "text": [
        "\n",
        "scraping: http://instagram.com/p/v6QPYbmMoo/"
       ]
      },
      {
       "output_type": "stream",
       "stream": "stdout",
       "text": [
        "\n",
        "scraping: http://instagram.com/p/v6OjpcC_5e/"
       ]
      },
      {
       "output_type": "stream",
       "stream": "stdout",
       "text": [
        "\n",
        "scraping: http://www.sdcexec.com/blog/12022380/the-first-rule-of-keeping-a-secret-is-not-to-tell-it-to-anyone-you-cant-do-that-and-have-a-diversified-supply-base"
       ]
      },
      {
       "output_type": "stream",
       "stream": "stdout",
       "text": [
        "\n",
        "scraping: http://rushcoil.bandcamp.com/track/too-many-cooks-rush-coil-nes-cover"
       ]
      },
      {
       "output_type": "stream",
       "stream": "stdout",
       "text": [
        "\n",
        "scraping: http://instagram.com/p/v4NuxQu12F/"
       ]
      },
      {
       "output_type": "stream",
       "stream": "stdout",
       "text": [
        "\n",
        "scraping: http://jennifergiles.net/about.html"
       ]
      },
      {
       "output_type": "stream",
       "stream": "stdout",
       "text": [
        "\n",
        "scraping: http://popculturespectrum.com/?p=1711"
       ]
      },
      {
       "output_type": "stream",
       "stream": "stdout",
       "text": [
        "\n",
        "scraping: http://talkingtvwithryanandryan.libsyn.com/talking-tv-with-ryan-and-ryan-episode-130-we-review-100-arrows-in-a-flash"
       ]
      },
      {
       "output_type": "stream",
       "stream": "stdout",
       "text": [
        "\n",
        "scraping: http://instagram.com/p/v4oswNRbF7/"
       ]
      },
      {
       "output_type": "stream",
       "stream": "stdout",
       "text": [
        "\n",
        "scraping: http://instagram.com/p/v4VzZ_PN7E/"
       ]
      },
      {
       "output_type": "stream",
       "stream": "stdout",
       "text": [
        "\n",
        "scraping: http://oyster.ignimgs.com/wordpress/stg.ign.com/2014/11/3Screen-Shot-2014-11-07-at-10.jpg"
       ]
      },
      {
       "output_type": "stream",
       "stream": "stdout",
       "text": [
        "\n",
        "scraping: http://s3-ec.buzzfed.com/static/2014-11/12/12/enhanced/webdr02/enhanced-buzz-3834-1415812467-18.jpg"
       ]
      },
      {
       "output_type": "stream",
       "stream": "stdout",
       "text": [
        "\n",
        "scraping: http://instagram.com/p/v2aZdHBIhb/"
       ]
      },
      {
       "output_type": "stream",
       "stream": "stdout",
       "text": [
        "\n",
        "scraping: http://instagram.com/p/vy2_RLhItn/"
       ]
      },
      {
       "output_type": "stream",
       "stream": "stdout",
       "text": [
        "\n",
        "scraping: http://instagram.com/p/vwOvrIBIhN/"
       ]
      },
      {
       "output_type": "stream",
       "stream": "stdout",
       "text": [
        "\n",
        "scraping: http://instagram.com/p/vtpujnhIsS/"
       ]
      },
      {
       "output_type": "stream",
       "stream": "stdout",
       "text": [
        "\n",
        "scraping: http://eye-of-rick.tumblr.com"
       ]
      },
      {
       "output_type": "stream",
       "stream": "stdout",
       "text": [
        "\n",
        "scraping: http://eye-of-rick.tumb.r.com"
       ]
      },
      {
       "output_type": "stream",
       "stream": "stdout",
       "text": [
        "\n",
        "scraping: http://instagram.com/p/v34gEmPN1d/"
       ]
      },
      {
       "output_type": "stream",
       "stream": "stdout",
       "text": [
        "\n",
        "scraping: http://www.ign.com/articles/2014/11/15/too-many-cooks-katie-adkins-on-what-its-like-when-your-wacky-short-film-goes-viral"
       ]
      },
      {
       "output_type": "stream",
       "stream": "stdout",
       "text": [
        "\n"
       ]
      }
     ],
     "prompt_number": 8
    }
   ],
   "metadata": {}
  }
 ]
}