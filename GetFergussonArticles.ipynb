{
 "metadata": {
  "name": "",
  "signature": "sha256:752447d197da710498f1fea5fc34e17da1af149f0543a4972d135b0b1d28cf20"
 },
 "nbformat": 3,
 "nbformat_minor": 0,
 "worksheets": [
  {
   "cells": [
    {
     "cell_type": "code",
     "collapsed": true,
     "input": [
      "from tagscraper import yield_tweets"
     ],
     "language": "python",
     "metadata": {},
     "outputs": [],
     "prompt_number": 1
    },
    {
     "cell_type": "code",
     "collapsed": false,
     "input": [
      "import os\n",
      "from os import path\n",
      "import re\n",
      "import json\n",
      "\n",
      "import requests\n",
      "\n",
      "from tokens import key, secret"
     ],
     "language": "python",
     "metadata": {},
     "outputs": [],
     "prompt_number": 2
    },
    {
     "cell_type": "code",
     "collapsed": false,
     "input": [
      "outdir = path.join(path.curdir, \"data\", \"Ferguson\")"
     ],
     "language": "python",
     "metadata": {},
     "outputs": [],
     "prompt_number": 3
    },
    {
     "cell_type": "code",
     "collapsed": false,
     "input": [
      "def get_manifest(outdir, query, n=100):\n",
      "\n",
      "    if not path.exists(outdir):\n",
      "        #check if path exists and make otherwise\n",
      "        os.makedirs(outdir)\n",
      "\n",
      "    tweets = yield_tweets(query)\n",
      "    tweet_list = []\n",
      "    urls = set()\n",
      "\n",
      "    count = 0\n",
      "\n",
      "    for tweet in tweets:\n",
      "\n",
      "        if len(tweet['full_urls']) > 0:\n",
      "            n_urls = 0\n",
      "            scraped = False\n",
      "            for u in tweet['full_urls']:\n",
      "                if re.findall(r\"youtu\\.be|youture\\.com|soundcloud.com\", u):\n",
      "                    #check if page is likely to have non text media\n",
      "                    continue\n",
      "\n",
      "                if not u in urls:\n",
      "                    print u\n",
      "                    count += 1\n",
      "                    n_urls += 1\n",
      "                    scraped = True\n",
      "                    urls.add(u)\n",
      "\n",
      "\n",
      "            if scraped:\n",
      "                tweet_list.append(tweet)\n",
      "\n",
      "        if count >= n:\n",
      "            break\n",
      "\n",
      "    # create manifest file of tweets\n",
      "    manifest = open(path.join(outdir, \"manifest.json\"), 'w')\n",
      "    manifest.write(json.dumps(tweet_list))\n",
      "    manifest.close()\n",
      "    print \"Tweet manifest written\"\n"
     ],
     "language": "python",
     "metadata": {},
     "outputs": [],
     "prompt_number": 4
    },
    {
     "cell_type": "code",
     "collapsed": false,
     "input": [
      "get_manifest(outdir, \"#Ferguson filter:links lang:en\", n=500)"
     ],
     "language": "python",
     "metadata": {},
     "outputs": [
      {
       "output_type": "stream",
       "stream": "stdout",
       "text": [
        "http://eepurl.com/9-9zz\n",
        "http://thisisthemovement.org\n",
        "http://fw.to/2J1EUGD\n",
        "https://vine.co/v/OvgYzBT6zng\n",
        "https://www.facebook.com/events/1419245621698930/\n",
        "http://www.businessinsider.com.au/its-clear-that-race-is-americas-deepest-problem-2014-11"
       ]
      },
      {
       "output_type": "stream",
       "stream": "stdout",
       "text": [
        "\n",
        "http://www.rightnow.io/breaking-news/sunset-tamarindo-costarica-sky-wanderlust_bn_1416790016751.html\n",
        "http://archives.ckut.ca/128/20141203.14.00-15.00.mp3\n",
        "http://www.washingtontimes.com/news/2014/dec/3/roy-beck-how-ferguson-and-amnesty-are-connected/\n",
        "http://foxrad.io/1HHiACK"
       ]
      },
      {
       "output_type": "stream",
       "stream": "stdout",
       "text": [
        "\n",
        "http://ift.tt/1vO1NJc\n",
        "http://bit.ly/1vopwjt\n",
        "http://ow.ly/FjS1u\n",
        "https://vine.co/v/OvXq3VHqPAO\n",
        "http://www.denverpost.com/news/ci_27059592/car-strikes-denver-police-officer-amid-ferguson-protest"
       ]
      },
      {
       "output_type": "stream",
       "stream": "stdout",
       "text": [
        "\n",
        "http://cnn.it/1viFc2F\n",
        "https://www.youtube.com/watch?v=oWdbz-c3St0\n",
        "https://medium.com/@sarahkendzior/the-minimum-wage-worker-strikes-back-fa4c36eb306b\n",
        "http://arrestwilson.tumblr.com/post/103703164362/prosecutors-egregious-grand-jury-mistake"
       ]
      },
      {
       "output_type": "stream",
       "stream": "stdout",
       "text": [
        "\n",
        "http://www.washingtontimes.com/news/2014/dec/3/thomas-sowell-ferguson-hands-up-dont-shoot-lie/\n",
        "https://itun.es/us/yLhG3.c?i=326502565"
       ]
      },
      {
       "output_type": "stream",
       "stream": "stdout",
       "text": [
        "\n",
        "http://vimeo.com/112514238"
       ]
      },
      {
       "output_type": "stream",
       "stream": "stdout",
       "text": [
        "\n",
        "https://vine.co/v/O1HwuIMD9pZ\n",
        "http://stlouis.cbslocal.com/2014/12/03/group-threatens-filing-ethics-complaint-against-mcculloch/"
       ]
      },
      {
       "output_type": "stream",
       "stream": "stdout",
       "text": [
        "\n",
        "http://bit.ly/1tJ2bDr\n",
        "http://politi.co/12n4gi1\n",
        "http://bit.ly/1zjKgI7"
       ]
      },
      {
       "output_type": "stream",
       "stream": "stdout",
       "text": [
        "\n",
        "http://vimeo.com/113183385\n",
        "http://on.fb.me/1BfoPfF\n",
        "http://cbsloc.al/1wu2Lfw\n",
        "https://vine.co/v/OvXWLuQmYDQ"
       ]
      },
      {
       "output_type": "stream",
       "stream": "stdout",
       "text": [
        "\n",
        "http://haitiantimes.com/refusing-to-die-softly-respectability-and-the-sin-of-black-anger/\n",
        "http://gotnews.com/?p=2907"
       ]
      },
      {
       "output_type": "stream",
       "stream": "stdout",
       "text": [
        "\n",
        "http://www.azcentral.com/story/news/local/phoenix/2014/12/03/phoenix-police-officer-shooting-greenway-abrk/19837919/\n",
        "http://www.stltoday.com/news/local/metro/ferguson-demonstrations-take-aim-at-police-brutality-in-mexico/article_6ba70f03-45b4-5711-b17e-bedeb7f8c2d4.html"
       ]
      },
      {
       "output_type": "stream",
       "stream": "stdout",
       "text": [
        "\n",
        "http://bit.ly/1A9rlke\n",
        "http://gotnews.com/?p=2871\n",
        "http://www.realclearpolitics.com/video/2014/12/02/thomas_sowell_on_hands_up_dont_shoot_ferguson_slogan_i_thought_of_joseph_goebbels.html#.VH_ZUOJT7qo.twitter"
       ]
      },
      {
       "output_type": "stream",
       "stream": "stdout",
       "text": [
        "\n",
        "http://townhall.com/tipsheet/katiepavlich/2014/12/03/reminder-president-obama-marched-with-the-black-panthers-n1926857\n",
        "https://amp.twimg.com/v/05c95f9d-8ac9-4cc7-b044-e961bec7f0b9\n",
        "http://tmblr.co/ZZ-HQs1X8jSsy\n",
        "https://vine.co/v/OvX5YgYhhJ6\n",
        "https://vine.co/v/OvggBKm93Xd\n",
        "http://www.infowars.com/ferguson-business-owners-ask-oath-keepers-to-protect-them-from-violent-michael-brown-supporters/"
       ]
      },
      {
       "output_type": "stream",
       "stream": "stdout",
       "text": [
        "\n",
        "https://www.youtube.com/watch?v=eze7r6E_uoE\n",
        "http://www.youngcons.com/black-sheriff-puts-ferguson-race-baiters-on-blast-calls-sharpton-a-vulture-video/\n",
        "https://www.youtube.com/watch?v=uGKl4StFrMo#t=1\n",
        "https://www.youtube.com/watch?v=DpTDGrECtyk\n",
        "http://globalgrind.com/2014/11/26/deandre-joshua-dies-during-ferguson-protests-photos/"
       ]
      },
      {
       "output_type": "stream",
       "stream": "stdout",
       "text": [
        "\n",
        "http://www.thegatewaypundit.com/2014/11/deandre-joshua-shot-dead-in-ferguson-riots-was-good-friend-of-murder-witness-dorian-johnson/\n",
        "http://instagram.com/p/wK5YY3B3DT/"
       ]
      },
      {
       "output_type": "stream",
       "stream": "stdout",
       "text": [
        "\n",
        "http://bit.ly/1B9TCdI\n",
        "http://gotnews.com/?p=2936"
       ]
      },
      {
       "output_type": "stream",
       "stream": "stdout",
       "text": [
        "\n",
        "http://6.wate.com/1ygFQ7Q"
       ]
      },
      {
       "output_type": "stream",
       "stream": "stdout",
       "text": [
        "\n",
        "http://wapo.st/1Btpqso\n",
        "https://www.facebook.com/pages/Brooke-Revels-Society-and-Associates/228362220622278?hc_location=timeline\n",
        "http://bit.ly/1zQdBKo"
       ]
      },
      {
       "output_type": "stream",
       "stream": "stdout",
       "text": [
        "\n",
        "http://bit.ly/1uXTTgl"
       ]
      },
      {
       "output_type": "stream",
       "stream": "stdout",
       "text": [
        "\n",
        "http://twitter.com/PoliticalLaughs/status/539595885618135040/photo/1\n",
        "http://downtrend.com/donn-marten/dont-blame-me-for-those-idiots-louis-head-sort-of-apologizes/"
       ]
      },
      {
       "output_type": "stream",
       "stream": "stdout",
       "text": [
        "\n",
        "http://huff.to/1vLXkqy\n",
        "http://shar.es/1XLLG1\n",
        "http://www.epi.org/publication/making-ferguson/#.VH_XuwLjcTs.twitter"
       ]
      },
      {
       "output_type": "stream",
       "stream": "stdout",
       "text": [
        "\n",
        "http://usat.ly/1yRdhg0\n",
        "http://reason.com/blog/2014/12/02/four-members-of-congress-put-their-hands\n",
        "http://tashasays.com/garth-brooks-solidarity-ferguson-gop-writers-head-explodes/"
       ]
      },
      {
       "output_type": "stream",
       "stream": "stdout",
       "text": [
        "\n",
        "http://instagram.com/p/wK5RnmuyYX/\n",
        "http://tinyurl.com/mpy95v9\n",
        "http://abcn.ws/1zFvfQL\n",
        "http://fb.me/1SIPStm2S\n",
        "https://www.facebook.com/events/378965438946038/?ref=2&ref_dashboard_filter=upcoming"
       ]
      },
      {
       "output_type": "stream",
       "stream": "stdout",
       "text": [
        "\n",
        "http://wapo.st/1CxgWUl\n",
        "http://bit.ly/128kfAm\n",
        "http://en.m.wikipedia.org/wiki/Death_of_Eric_Garner\n",
        "http://www.encyclopedia.com/topic/civil_disobedience.aspx"
       ]
      },
      {
       "output_type": "stream",
       "stream": "stdout",
       "text": [
        "\n",
        "https://vine.co/v/OvXe30ziP2e"
       ]
      },
      {
       "output_type": "stream",
       "stream": "stdout",
       "text": [
        "\n",
        "http://tinyurl.com/lnfumh6\n",
        "http://gotnews.com/?p=2768\n",
        "http://us7.campaign-archive2.com/?u=b493e6c4d31beda32fdaf8e2d&id=73514e334b&e=[UNIQID\n",
        "http://wp.me/p5oI8H-3W"
       ]
      },
      {
       "output_type": "stream",
       "stream": "stdout",
       "text": [
        "\n",
        "http://sociobiologicalmusings.blogspot.com/2014/09/shocking-stats-on-black-on-white-rape.html\n",
        "http://ustre.am/1jzKC\n",
        "https://m.youtube.com/watch?v=zGBw8jS3sMw\n",
        "http://bit.ly/1vOTDPx\n",
        "http://fb.me/1s6bmFMox\n",
        "http://talkingpointsmemo.com/livewire/lisa-bloom-joe-scarborough-ferguson"
       ]
      },
      {
       "output_type": "stream",
       "stream": "stdout",
       "text": [
        "\n",
        "https://www.facebook.com/pages/Zemir-Begic/611845368938936\n",
        "http://libguides.library.arizona.edu/ferguson\n",
        "http://www.rightnow.io/breaking-news/stl_bn_1417392214089.html\n",
        "http://vimeo.com/113179294\n",
        "http://bit.ly/memeproducer"
       ]
      },
      {
       "output_type": "stream",
       "stream": "stdout",
       "text": [
        "\n",
        "http://bit.ly/1unUwxx\n",
        "http://fergusonresponse.tumblr.com/\n",
        "http://cnn.it/1vTVXrN\n",
        "http://ow.ly/FhHhZ"
       ]
      },
      {
       "output_type": "stream",
       "stream": "stdout",
       "text": [
        "\n",
        "http://bit.ly/1w2bs0S\n",
        "http://www.msnbc.com/the-last-word/last-word-investigation-the-darren-wilson-grand-jury\n",
        "https://vine.co/v/OAt2EpWulla"
       ]
      },
      {
       "output_type": "stream",
       "stream": "stdout",
       "text": [
        "\n",
        "http://ow.ly/FbOmi\n",
        "https://www.tumblr.com/blog/socialjusticecurriculum\n",
        "http://bit.ly/1HT2VAo"
       ]
      },
      {
       "output_type": "stream",
       "stream": "stdout",
       "text": [
        "\n",
        "http://bit.ly/1vLfNCu\n",
        "http://m.nydailynews.com/opinion/harry-siegel-lonesome-death-eric-garner-article-1.2032281\n",
        "http://theunsilencedscience.blogspot.com/2011/08/genetics-of-violence.html"
       ]
      },
      {
       "output_type": "stream",
       "stream": "stdout",
       "text": [
        "\n",
        "http://ow.ly/Fkmv6\n",
        "http://fergusonresponse.tumblr.com\n",
        "http://on.msnbc.com/1vM2Qbr\n",
        "https://vine.co/v/OvX1Ie3bTeA"
       ]
      },
      {
       "output_type": "stream",
       "stream": "stdout",
       "text": [
        "\n",
        "http://bit.ly/1CFubCt\n",
        "http://tmblr.co/Z2sMPq1X8jnQH\n",
        "https://vine.co/v/OvX1T3961rQ\n",
        "http://instagram.com/p/wK5FMHyl0y/\n",
        "http://www.csmonitor.com/USA/Justice/2014/1203/Eric-Garner-grand-jury-probe-shows-similarities-to-Michael-Brown-case-video"
       ]
      },
      {
       "output_type": "stream",
       "stream": "stdout",
       "text": [
        "\n",
        "http://bit.ly/15pDZlm"
       ]
      },
      {
       "output_type": "stream",
       "stream": "stdout",
       "text": [
        "\n",
        "http://thinkprogress.org/justice/2014/12/03/3598954/ferguson-police-investigating-michael-browns-stepfather/"
       ]
      },
      {
       "output_type": "stream",
       "stream": "stdout",
       "text": [
        "\n",
        "http://ftw.usatoday.com/2014/12/kenny-smith-charles-barkley-ferguson-open-letter-exclusive"
       ]
      },
      {
       "output_type": "stream",
       "stream": "stdout",
       "text": [
        "\n",
        "http://www.bjs.gov/content/pub/pdf/htius.pdf"
       ]
      },
      {
       "output_type": "stream",
       "stream": "stdout",
       "text": [
        "\n",
        "http://www.alternet.org/civil-liberties/inside-twisted-police-department-kills-unarmed-citizens-highest-rate-country?paging=off&current_page=1#bookmark\n",
        "http://m.townhall.com/tipsheet/katiepavlich/2014/12/02/watch-sheriff-david-clarke-destroy-eric-holder-for-fanning-ferguson-flames-n1926054\n",
        "https://twitter.com/vivianho/status/540350363233423360"
       ]
      },
      {
       "output_type": "stream",
       "stream": "stdout",
       "text": [
        "\n",
        "https://vine.co/v/O1XrMg90ZAg\n",
        "http://nbcnews.to/1yhdTNm\n",
        "http://www.youtube.com/watch?v=B092acMImJE"
       ]
      },
      {
       "output_type": "stream",
       "stream": "stdout",
       "text": [
        "\n",
        "http://www.trendinalia.com/twitter-trending-topics/canada/edmonton-141202.html"
       ]
      },
      {
       "output_type": "stream",
       "stream": "stdout",
       "text": [
        "\n",
        "http://Purchaseblack.com"
       ]
      },
      {
       "output_type": "stream",
       "stream": "stdout",
       "text": [
        "\n",
        "http://fb.me/2X9RllRfa\n",
        "http://zemirbegic.com/2014/12/04/from-the-des-moines-register-zemir-begics-family-gathers-in-iowa-to-mourn/\n",
        "http://goo.gl/shnR9k\n",
        "http://twitter.com/CedricShy/status/540350764678258688/photo/1"
       ]
      },
      {
       "output_type": "stream",
       "stream": "stdout",
       "text": [
        "\n",
        "https://vine.co/v/OvgY2UTlTZn\n",
        "http://gotnews.com/?p=2860\n",
        "http://benswann.com/michael-browns-stepfather-may-face-criminal-charges/"
       ]
      },
      {
       "output_type": "stream",
       "stream": "stdout",
       "text": [
        "\n",
        "http://townhall.com/tipsheet/katiepavlich/2014/12/02/watch-sheriff-david-clarke-destroy-eric-holder-for-fanning-ferguson-flames-n1926054\n",
        "http://bit.ly/11WJHZW\n",
        "http://www.dailykos.com/story/2014/12/03/1349195/-That-Missouri-Deadly-Force-Statute-The-Story-Just-Got-Worse#\n",
        "http://ustre.am/KsCm\n",
        "http://www.usatoday.com/story/sports/nfl/2014/12/03/rams-players-dont-regret-protest/19861541/"
       ]
      },
      {
       "output_type": "stream",
       "stream": "stdout",
       "text": [
        "\n",
        "http://shar.es/1XLSE7\n",
        "http://goo.gl/6TMJOn\n",
        "http://es.pn/1zlxt82"
       ]
      },
      {
       "output_type": "stream",
       "stream": "stdout",
       "text": [
        "\n",
        "http://bit.ly/1zSPLh0\n",
        "http://thinkprogress.org/justice/2014/12/02/3598082/one-woman-could-appoint-a-special-prosecutor-and-bring-justice-to-ferguson/\n",
        "http://instagram.com/p/wK44geAc5o/"
       ]
      },
      {
       "output_type": "stream",
       "stream": "stdout",
       "text": [
        "\n",
        "http://theconcourse.deadspin.com/the-american-justice-system-is-not-broken-1666445407\n",
        "https://www.youtube.com/watch?v=hLNNXCz9-gQ"
       ]
      },
      {
       "output_type": "stream",
       "stream": "stdout",
       "text": [
        "\n",
        "https://vine.co/v/Ov62ZLBnDZ5\n",
        "http://theblazingcenter.com/2014/12/3-posts-to-help-white-christians-understand-ferguson-and-the-eric-garner-conflict.html\n",
        "http://WeBelongTogether.org"
       ]
      },
      {
       "output_type": "stream",
       "stream": "stdout",
       "text": [
        "\n",
        "http://cnn.it/1y2S8zx\n",
        "http://www.dailykos.com/story/2014/12/03/1349195/-That-Missouri-Deadly-Force-Statute-The-Story-Just-Got-Worse\n",
        "http://revolution-news.com/live-protest-eric-garner-no-indictment-decision/"
       ]
      },
      {
       "output_type": "stream",
       "stream": "stdout",
       "text": [
        "\n",
        "http://www.thenation.com/blog/191921/not-protest-it-uprising\n",
        "http://ti.me/1oRASLm?xid=pinnion\n",
        "http://fb.me/6QB8QkCez"
       ]
      },
      {
       "output_type": "stream",
       "stream": "stdout",
       "text": [
        "\n",
        "http://instagram.com/p/wKxl1iCruA/\n",
        "https://vine.co/v/OvX1FY1Uv0V"
       ]
      },
      {
       "output_type": "stream",
       "stream": "stdout",
       "text": [
        "\n",
        "http://twtd.by/CaseyNolen/bDUOgOENSH6\n",
        "https://vine.co/v/OvO9YEbEW6Y\n",
        "http://goo.gl/fb/6N3HeK"
       ]
      },
      {
       "output_type": "stream",
       "stream": "stdout",
       "text": [
        "\n",
        "http://goo.gl/fb/jXg0K4\n",
        "https://vine.co/v/OnHDnviP6lu\n",
        "http://instagram.com/p/wK4t8IudeC/\n",
        "http://www.elbeisman.com/article.php?action=read&id=479"
       ]
      },
      {
       "output_type": "stream",
       "stream": "stdout",
       "text": [
        "\n",
        "http://www.mediaite.com/online/examiner-rules-homocide-as-cause-of-death-for-man-in-nypd-chokehold/\n",
        "http://ibdn.uz/FkuQm"
       ]
      },
      {
       "output_type": "stream",
       "stream": "stdout",
       "text": [
        "\n",
        "https://www.youtube.com/embed/MZiegNiE6f0\n",
        "https://vine.co/v/OvXeqgQEumq"
       ]
      },
      {
       "output_type": "stream",
       "stream": "stdout",
       "text": [
        "\n",
        "http://ustre.am/1inZW\n",
        "http://www.ustream.tv/stopmotionsolo?utm_campaign=t.co&utm_source=9943232&utm_medium=social"
       ]
      },
      {
       "output_type": "stream",
       "stream": "stdout",
       "text": [
        "\n",
        "http://ln.is/wp.me/IGjoS"
       ]
      },
      {
       "output_type": "stream",
       "stream": "stdout",
       "text": [
        "\n",
        "http://m.democracynow.org/stories/14671\n",
        "http://ln.is/www.bbc.com/news/98kn2"
       ]
      },
      {
       "output_type": "stream",
       "stream": "stdout",
       "text": [
        "\n",
        "http://www.huffingtonpost.com/michael-yaki/the-second-civil-rights-m_b_6249854.html?utm_hp_ref=politics"
       ]
      },
      {
       "output_type": "stream",
       "stream": "stdout",
       "text": [
        "\n",
        "http://fb.me/7j1pYWtGO\n",
        "http://fb.me/285UJpnpd\n",
        "http://bornagainholyhiphopmovement.podbean.com/e/210-holy-hip-hop-blessed-are-the-peacemakersour-thoughts-on-ferguson-fegurson-revolutionthou-lecrae-thisl/"
       ]
      },
      {
       "output_type": "stream",
       "stream": "stdout",
       "text": [
        "\n",
        "http://ustre.am/1hMBw\n",
        "http://bit.ly/1yFXzEr\n",
        "http://thedailyshow.cc.com/videos/jk6lyk/american-hands-stand?utm=share_twitter\n",
        "http://www.marchforward.org/veterans_appeal_to_national\n",
        "https://vine.co/v/O16rxmEEiLz"
       ]
      },
      {
       "output_type": "stream",
       "stream": "stdout",
       "text": [
        "\n",
        "http://mobile.nytimes.com/2014/12/04/opinion/new-inquiry-needed-on-eric-garners-death.html?referrer=&_r=0\n",
        "https://www.youtube.com/watch?v=9bOjc70f4p8"
       ]
      },
      {
       "output_type": "stream",
       "stream": "stdout",
       "text": [
        "\n",
        "http://talkingpointsmemo.com/livewire/princeton-experts-say-us-no-longer-democracy\n",
        "http://news.newslnk.tk/DYm"
       ]
      },
      {
       "output_type": "stream",
       "stream": "stdout",
       "text": [
        "\n",
        "http://instagram.com/p/wKR7udLR8t/\n",
        "http://ahwd.tv/qQfcyk"
       ]
      },
      {
       "output_type": "stream",
       "stream": "stdout",
       "text": [
        "\n",
        "http://ecd.bavaweb.com/iavy8.html?group=tw\n",
        "http://fb.me/2OjUYRDfs"
       ]
      },
      {
       "output_type": "stream",
       "stream": "stdout",
       "text": [
        "\n",
        "http://ow.ly/ETWsZ"
       ]
      },
      {
       "output_type": "stream",
       "stream": "stdout",
       "text": [
        "\n",
        "http://ow.ly/FfLZ6\n",
        "http://instagram.com/p/wKvvNHrRya/\n",
        "http://www.washingtonpost.com/news/volokh-conspiracy/wp/2014/12/02/why-michael-browns-best-friends-story-is-incredible/"
       ]
      },
      {
       "output_type": "stream",
       "stream": "stdout",
       "text": [
        "\n",
        "https://www.youtube.com/watch?v=tgV8L7oghK0\n",
        "http://webchat.anonops.com/?channels=opferguson"
       ]
      },
      {
       "output_type": "stream",
       "stream": "stdout",
       "text": [
        "\n",
        "http://news.newslnk.tk/DYl\n",
        "http://news.newslnk.tk/DYk\n",
        "http://go.nbx.me/7jvMnn"
       ]
      },
      {
       "output_type": "stream",
       "stream": "stdout",
       "text": [
        "\n",
        "http://www.cnn.com/2014/12/03/opinion/liu-meaning-ferguson-protests/index.html?sr=sharebar_twitter\n",
        "http://www.thedenverchannel.com/news/local-news/east-high-school-protest-blocks-denver-streets"
       ]
      },
      {
       "output_type": "stream",
       "stream": "stdout",
       "text": [
        "\n",
        "http://abc7ne.ws/1yd6z5l"
       ]
      },
      {
       "output_type": "stream",
       "stream": "stdout",
       "text": [
        "\n",
        "http://www.rzim.org/blog/cultural-issues/from-kiev-to-ferguson-stable-words-in-an-unstable-world/\n",
        "https://www.youtube.com/watch?v=R_AOoNq8hQQ&utm_content=buffer218c6&utm_medium=social&utm_source=twitter.com&utm_campaign=buffer\n",
        "http://a.msn.com/01/en-us/BBgioBK"
       ]
      },
      {
       "output_type": "stream",
       "stream": "stdout",
       "text": [
        "\n",
        "http://gotnews.com/?p=2784\n",
        "http://jwesquire.com/2014/11/28/do-you-think-theyll-have-a-black-friday-sale-on-white-privilege/\n",
        "http://sfappeal.com/2014/12/man-arrested-for-allegedly-battering-resisting-sfpd-during-ferguson-black-friday-protest/"
       ]
      },
      {
       "output_type": "stream",
       "stream": "stdout",
       "text": [
        "\n",
        "http://instagram.com/p/wK4Xzcx7F9/"
       ]
      },
      {
       "output_type": "stream",
       "stream": "stdout",
       "text": [
        "\n",
        "http://www.hiaw.org/garner/\n",
        "http://cnn.it/1vmWksC\n",
        "https://vine.co/v/OvXvXIMUh0B\n",
        "http://www.myfoxdc.com/story/27510324/rams-raise-arms-in-apparent-show-of-solidarity"
       ]
      },
      {
       "output_type": "stream",
       "stream": "stdout",
       "text": [
        "\n",
        "http://www.earthcam.com/usa/newyork/timessquare/?cam=tsstreet\n",
        "https://vine.co/v/OvXbvDKOX1n"
       ]
      },
      {
       "output_type": "stream",
       "stream": "stdout",
       "text": [
        "\n",
        "http://bit.ly/1FO1sJG\n",
        "http://bit.ly/11V9Gl0"
       ]
      },
      {
       "output_type": "stream",
       "stream": "stdout",
       "text": [
        "\n",
        "http://instagram.com/p/wK4Tx0kZId/\n",
        "http://share.myflare.com/pVdFdD\n",
        "https://www.youtube.com/watch?v=3vOJCQr1Now"
       ]
      },
      {
       "output_type": "stream",
       "stream": "stdout",
       "text": [
        "\n",
        "http://po.st/V3iQK8\n",
        "http://fb.me/2q4Uf1eAn\n",
        "http://news.yahoo.com/morning-joe-ferguson-rant-hands-in-the-air-video-144216477.html?soc_src=mediacontentstory&soc_trk=tw"
       ]
      },
      {
       "output_type": "stream",
       "stream": "stdout",
       "text": [
        "\n",
        "https://www.youtube.com/watch?v=zMOj8eQt4b4\n",
        "http://www.truthrevolt.org/videos/ben-shapiro-katy-perry-cher-and-macklemore-all-lie-about-ferguson"
       ]
      },
      {
       "output_type": "stream",
       "stream": "stdout",
       "text": [
        "\n",
        "https://vine.co/v/OvXvzugWFj3"
       ]
      },
      {
       "output_type": "stream",
       "stream": "stdout",
       "text": [
        "\n",
        "http://ln.is/www.dailykos.com/sto/N2AdE\n",
        "http://www.rightnow.io/breaking-news/madrid-marchasdeladignidad-marchas29n_bn_1417280014615.html"
       ]
      },
      {
       "output_type": "stream",
       "stream": "stdout",
       "text": [
        "\n",
        "http://tmblr.co/ZHwofx1X8cPpz"
       ]
      },
      {
       "output_type": "stream",
       "stream": "stdout",
       "text": [
        "\n",
        "https://www.aclum.org/stopandfrisk\n",
        "http://trib.al/6hA53oe"
       ]
      },
      {
       "output_type": "stream",
       "stream": "stdout",
       "text": [
        "\n",
        "http://instagram.com/p/wK1Mz8TQn0/\n",
        "http://bit.ly/ZxXB3d\n",
        "http://fxn.ws/1HUzdeu\n",
        "http://ift.tt/1fEtfhi\n",
        "http://mybs.in/2QjZB7I"
       ]
      },
      {
       "output_type": "stream",
       "stream": "stdout",
       "text": [
        "\n",
        "https://www.youtube.com/watch?v=vWHAf70RP8s\n",
        "http://www.sltrib.com/opinion/1904680-155/bagley-cartoon-officer-no-so-friendly"
       ]
      },
      {
       "output_type": "stream",
       "stream": "stdout",
       "text": [
        "\n",
        "https://www.youtube.com/watch?v=aw06ANLJNAQ\n",
        "http://tashasays.com/blacks-get-away-crime/"
       ]
      },
      {
       "output_type": "stream",
       "stream": "stdout",
       "text": [
        "\n",
        "https://medium.com/on-archivy/an-invitation-to-study-ferguson-367b423cff29\n",
        "http://ow.ly/Fb2cY"
       ]
      },
      {
       "output_type": "stream",
       "stream": "stdout",
       "text": [
        "\n",
        "http://www.vox.com/xpress/2014/12/2/7319597/ferguson-grand-jury-poll?utm_medium=social&utm_source=twitter&utm_campaign=vox&utm_content=article-share-top\n",
        "http://sfy.co/i03e6"
       ]
      },
      {
       "output_type": "stream",
       "stream": "stdout",
       "text": [
        "\n",
        "http://buff.ly/1tKq9hB"
       ]
      },
      {
       "output_type": "stream",
       "stream": "stdout",
       "text": [
        "\n",
        "http://buff.ly/1tKq7qc\n",
        "http://www.upworthy.com/a-16-year-old-kid-in-ferguson-says-more-with-a-marker-and-a-piece-of-paper-than-all-the-media-did?g=2&c=reccon3\n",
        "http://www.ocregister.com/video/v/1628003509001/crime-fullerton-government\n",
        "http://ian56.blogspot.com/2014/10/in-america-fear-is-growing-that-police.html\n",
        "http://mobile.reuters.com/article/idUKKCN0J92MW20141126?irpc=932"
       ]
      },
      {
       "output_type": "stream",
       "stream": "stdout",
       "text": [
        "\n",
        "https://vine.co/v/Ovg7jtIdw5m\n",
        "http://hubs.ly/y0lgLM0"
       ]
      },
      {
       "output_type": "stream",
       "stream": "stdout",
       "text": [
        "\n",
        "http://www.washingtonexaminer.com/msnbcs-scarborough-on-ferguson-coverage-doing-grave-disservice-to-police/article/2556797"
       ]
      },
      {
       "output_type": "stream",
       "stream": "stdout",
       "text": [
        "\n",
        "http://new.livestream.com/JamesFromTheInternet/events/3634145"
       ]
      },
      {
       "output_type": "stream",
       "stream": "stdout",
       "text": [
        "\n",
        "http://ln.is/shar.es/B44NM\n",
        "http://ln.is/www.youtube.com/U8XTU"
       ]
      },
      {
       "output_type": "stream",
       "stream": "stdout",
       "text": [
        "\n",
        "http://fb.me/1H9kcv48S\n",
        "http://www.afsc.org/friends/blessed-are-peacemakers"
       ]
      },
      {
       "output_type": "stream",
       "stream": "stdout",
       "text": [
        "\n",
        "http://tmblr.co/Z9PbXy1X8gnnP"
       ]
      },
      {
       "output_type": "stream",
       "stream": "stdout",
       "text": [
        "\n",
        "https://vine.co/v/OvgIibA9tMm\n",
        "http://dlvr.it/7jtyzt\n",
        "http://www.ZemirBegic.com"
       ]
      },
      {
       "output_type": "stream",
       "stream": "stdout",
       "text": [
        "\n",
        "http://time.com/3606900/ferguson-asian-americans/\n",
        "http://ow.ly/FjRlt"
       ]
      },
      {
       "output_type": "stream",
       "stream": "stdout",
       "text": [
        "\n",
        "http://www.gofundme.com/i6owfc\n",
        "http://instagram.com/p/wK38Vhs_Yx/\n",
        "http://rare.us/story/milwaukee-sheriff-tells-megyn-kelly-how-obama-and-eric-holder-have-hurt-america/\n",
        "http://shar.es/1XL88V"
       ]
      },
      {
       "output_type": "stream",
       "stream": "stdout",
       "text": [
        "\n",
        "http://ustre.am/:3Nk81"
       ]
      },
      {
       "output_type": "stream",
       "stream": "stdout",
       "text": [
        "\n",
        "http://bit.ly/jackstake\n",
        "https://www.youtube.com/watch?v=NvFG6jH_ocY"
       ]
      },
      {
       "output_type": "stream",
       "stream": "stdout",
       "text": [
        "\n",
        "http://tmblr.co/ZoI3ww1X8gYFp"
       ]
      },
      {
       "output_type": "stream",
       "stream": "stdout",
       "text": [
        "\n",
        "http://qz.com/306243/crimingwhilewhite-white-people-on-twitter-are-confessing-to-crimes-that-black-people-are-prosecuted-for/\n",
        "http://cbsn.ws/1vZUcJM"
       ]
      },
      {
       "output_type": "stream",
       "stream": "stdout",
       "text": [
        "\n",
        "http://s.oregonlive.com/uLkgKkI\n",
        "http://zemirbegic.com/2014/12/04/from-usa-today-hammer-slaying-zemir-begics-family-gathers-to-mourn/"
       ]
      },
      {
       "output_type": "stream",
       "stream": "stdout",
       "text": [
        "\n",
        "http://ustre.am/GVjs"
       ]
      },
      {
       "output_type": "stream",
       "stream": "stdout",
       "text": [
        "\n",
        "http://bit.ly/1tND7LI\n",
        "http://twitrpix.com/c6evz\n",
        "http://gotnews.com/?p=2961\n",
        "http://www.rightnow.io/breaking-news/-ferguson_bn_1416794085999.html"
       ]
      },
      {
       "output_type": "stream",
       "stream": "stdout",
       "text": [
        "\n",
        "http://slate.me/1rWoSEC\n",
        "https://vine.co/v/OvX1WPXaVLu\n",
        "http://www.thenation.com/article/191881/open-letter-charles-barkley\n",
        "http://twitchy.com/2014/12/03/nothing-says-committed-social-justice-activist-like-watching-youtube-taking-selfies-during-die-in/"
       ]
      },
      {
       "output_type": "stream",
       "stream": "stdout",
       "text": [
        "\n",
        "http://ustre.am/FIGI\n",
        "http://bit.ly/1tONsHh\n",
        "http://sp.lc/1BKJc5q"
       ]
      },
      {
       "output_type": "stream",
       "stream": "stdout",
       "text": [
        "\n",
        "http://www.theatlantic.com/national/archive/2014/11/Ferguson-National-Response-Network-Ferguson-Action-Plan-Country-Wide-Protests-Darren-Wilson-Grand-Jury-Announcement/383002/"
       ]
      },
      {
       "output_type": "stream",
       "stream": "stdout",
       "text": [
        "\n",
        "http://ow.ly/F7fAN\n",
        "http://www.mediaite.com/tv/former-rnc-chair-michael-steele-a-black-mans-life-is-not-worth-a-ham-sandwich/"
       ]
      },
      {
       "output_type": "stream",
       "stream": "stdout",
       "text": [
        "\n",
        "http://make12.com/media.php?pageID=10"
       ]
      },
      {
       "output_type": "stream",
       "stream": "stdout",
       "text": [
        "\n",
        "http://www.dailykos.com/story/2014/12/03/1348815/-Cartoon-Uncivil-defense"
       ]
      },
      {
       "output_type": "stream",
       "stream": "stdout",
       "text": [
        "\n",
        "http://www.infowars.com/family-demands-hate-crime-charges-for-murderers-of-zemir-begic/\n",
        "http://www.reddirtreport.com/red-dirt-news/far-right-leader-accused-racist-statements-regarding-ferguson-protests"
       ]
      },
      {
       "output_type": "stream",
       "stream": "stdout",
       "text": [
        "\n",
        "https://www.youtube.com/watch?v=MRfsT5eQoGQ\n",
        "http://lifenews.com/2014/11/26/sin\n",
        "http://larryferlazzo.edublogs.org/2014/11/25/the-best-resources-on-ferguson-for-use-in-the-classroom/"
       ]
      },
      {
       "output_type": "stream",
       "stream": "stdout",
       "text": [
        "\n",
        "http://www.ksdk.com/story/news/local/2014/11/30/stl-police-officers-association-condemns-rams-display/19721979/?hootPostID=56e4d621f410c5ee1ef0c0b0696f34f8\n",
        "http://www.thedailybeast.com/articles/2014/08/15/the-day-ferguson-cops-were-caught-in-a-bloody-lie.html\n",
        "http://www.slate.com/articles/news_and_politics/politics/2014/12/daniel_pantaleo_not_indicted_why_the_nypd_officer_wasn_t_indicted_in_the.html\n",
        "http://gotnews.com/?p=2864"
       ]
      },
      {
       "output_type": "stream",
       "stream": "stdout",
       "text": [
        "\n",
        "http://wannabeanglican.blogspot.com/2014/12/black-racism-and-ferguson.html"
       ]
      },
      {
       "output_type": "stream",
       "stream": "stdout",
       "text": [
        "\n",
        "http://www.nbcphiladelphia.com/news/local/Die-In-Expected-to-Disrupt-Rush-Hour-in-Center-City-284646251.html\n",
        "http://edition.cnn.com/2014/12/03/justice/new-york-grand-jury-chokehold/index.html?hpt=hp_t1\n",
        "http://instagram.com/p/wJ84DvlYTW/"
       ]
      },
      {
       "output_type": "stream",
       "stream": "stdout",
       "text": [
        "\n",
        "http://www.nydailynews.com/news/national/michael-brown-stepdad-apologizes-ferguson-comments-article-1.2031486"
       ]
      },
      {
       "output_type": "stream",
       "stream": "stdout",
       "text": [
        "\n",
        "http://tinyurl.com/ly2tcfm\n",
        "http://stlforward.com"
       ]
      },
      {
       "output_type": "stream",
       "stream": "stdout",
       "text": [
        "\n",
        "http://www.thefederalistpapers.org/us/this-is-what-darren-wilson-was-doing-to-a-black-child-just-before-shooting-mike-brown"
       ]
      },
      {
       "output_type": "stream",
       "stream": "stdout",
       "text": [
        "\n",
        "http://instagram.com/p/wK3jbcGhP6/\n",
        "https://vine.co/v/Ov6wHB17njZ\n",
        "http://twitter.com/iamnotajerk/status/540347688709939201/photo/1\n",
        "http://bit.ly/1vLZCok"
       ]
      },
      {
       "output_type": "stream",
       "stream": "stdout",
       "text": [
        "\n",
        "http://thkpr.gs/3598082"
       ]
      },
      {
       "output_type": "stream",
       "stream": "stdout",
       "text": [
        "\n",
        "http://fb.me/6VvDKUjYL\n",
        "http://ow.ly/i/7OzwV"
       ]
      },
      {
       "output_type": "stream",
       "stream": "stdout",
       "text": [
        "\n",
        "http://goo.gl/cEIvlk"
       ]
      },
      {
       "output_type": "stream",
       "stream": "stdout",
       "text": [
        "\n",
        "http://wp.me/p3ISob-3tv"
       ]
      },
      {
       "output_type": "stream",
       "stream": "stdout",
       "text": [
        "\n",
        "http://bit.ly/1HZKudr"
       ]
      },
      {
       "output_type": "stream",
       "stream": "stdout",
       "text": [
        "\n",
        "http://ow.ly/E9TRr\n",
        "http://goo.gl/33B4El"
       ]
      },
      {
       "output_type": "stream",
       "stream": "stdout",
       "text": [
        "\n",
        "http://po.st/glrUNW\n",
        "http://www.americanthinker.com/articles/2014/12/leftist_organizers_are_using_ferguson_to_rehearse_the_big_ugly_.html#.VH-chbexS1g.twitter"
       ]
      },
      {
       "output_type": "stream",
       "stream": "stdout",
       "text": [
        "\n",
        "https://www.youtube.com/watch?v=E5qoQteYnaY\n",
        "http://wp.me/p1IUCf-1vM"
       ]
      },
      {
       "output_type": "stream",
       "stream": "stdout",
       "text": [
        "\n",
        "http://www.newsmax.com/newswidget/Thomas-Sowell-Hoover-blacks-paying/2014/12/03/id/610877/?Dkt_nbr=11550-1&nmx_source=Breitbart&nmx_medium=widget&nmx_content=112&nmx_campaign=widgetphase2\n",
        "http://ow.ly/FgMQG\n",
        "http://fb.me/2NQBFfxAv\n",
        "http://www.boost1019.com"
       ]
      },
      {
       "output_type": "stream",
       "stream": "stdout",
       "text": [
        "\n",
        "http://ow.ly/FgMT9\n",
        "http://ow.ly/i/7NL6b\n",
        "http://ow.ly/FgMTd\n",
        "http://fb.me/1FTg2lIrN\n",
        "http://po.st/TL4L0q"
       ]
      },
      {
       "output_type": "stream",
       "stream": "stdout",
       "text": [
        "\n",
        "http://tomyunbornson.tumblr.com\n",
        "https://www.youtube.com/watch?v=JrJyvrNTFoM"
       ]
      },
      {
       "output_type": "stream",
       "stream": "stdout",
       "text": [
        "\n",
        "http://po.st/LPPFWG\n",
        "http://ow.ly/Fkqyd"
       ]
      },
      {
       "output_type": "stream",
       "stream": "stdout",
       "text": [
        "\n",
        "http://myaccount.maestroconference.com/conference/register/EDIUKOHO7HMGE5I9\n",
        "https://www.youtube.com/watch?v=B092acMImJE\n",
        "http://instagram.com/p/wKpfIoTcfH/"
       ]
      },
      {
       "output_type": "stream",
       "stream": "stdout",
       "text": [
        "\n",
        "http://bit.ly/1CFZlJL\n",
        "http://instagram.com/p/wK0YkxxVsK/\n",
        "http://video.foxnews.com/v/3922142554001/gutfeld-media-still-picking-good-guys-bad-guys/\n",
        "http://friend.christianpost.com/people/FiredRain/comment.html\n",
        "https://www.youtube.com/watch?v=T4HUvXOvgkQ&app=desktop"
       ]
      },
      {
       "output_type": "stream",
       "stream": "stdout",
       "text": [
        "\n",
        "http://zemirbegic.com/2014/12/04/from-los-angeles-nonpartisan-media-ignores-hate-crime-against-bosnian-zemir-begic/"
       ]
      },
      {
       "output_type": "stream",
       "stream": "stdout",
       "text": [
        "\n",
        "http://dpo.st/1vkOxH9\n",
        "http://blogs.riverfronttimes.com/dailyrft/2014/12/jon_stewart_talks_ferguson_on_back-to-back_episodes_of_the_daily_show.php"
       ]
      },
      {
       "output_type": "stream",
       "stream": "stdout",
       "text": [
        "\n",
        "http://walidahimarisha.tumblr.com/post/104182580165/ferguson-hug-photo-staged-cropped-to-send-clear"
       ]
      },
      {
       "output_type": "stream",
       "stream": "stdout",
       "text": [
        "\n",
        "http://www.gofundme.com/hv6utk"
       ]
      },
      {
       "output_type": "stream",
       "stream": "stdout",
       "text": [
        "\n",
        "http://m.youtube.com/watch?v=1yeA_kHHLow\n",
        "http://7online.com/news/eric-garners-family-reacts-to-grand-jurys-decision/421330/"
       ]
      },
      {
       "output_type": "stream",
       "stream": "stdout",
       "text": [
        "\n",
        "http://shar.es/1XLMyU\n",
        "http://bit.ly/1CH1sNw"
       ]
      },
      {
       "output_type": "stream",
       "stream": "stdout",
       "text": [
        "\n",
        "http://fb.me/6UpjqxFOC"
       ]
      },
      {
       "output_type": "stream",
       "stream": "stdout",
       "text": [
        "\n",
        "http://wp.me/p1kzlW-ofK\n",
        "http://bit.ly/1yjtJ8G\n",
        "http://j.mp/1ybH18F\n",
        "http://www.washingtontimes.com/news/2014/dec/3/andrew-napolitano-ferguson-riots-failures-of-racia/"
       ]
      },
      {
       "output_type": "stream",
       "stream": "stdout",
       "text": [
        "\n",
        "http://in-training.org/lack-care-medical-students-focus-ferguson-8031"
       ]
      },
      {
       "output_type": "stream",
       "stream": "stdout",
       "text": [
        "\n",
        "http://j.mp/11RuVDM"
       ]
      },
      {
       "output_type": "stream",
       "stream": "stdout",
       "text": [
        "\n",
        "http://AllenBWest.com\n",
        "http://po.st/q2Vj1C\n",
        "http://www.9news.com/story/news/military/2014/12/02/captain-william-h-dubois/19774337/\n",
        "http://bit.ly/1yPjCYm\n",
        "http://thenat.in/1I0SElT"
       ]
      },
      {
       "output_type": "stream",
       "stream": "stdout",
       "text": [
        "\n",
        "http://ChasePolitics.com\n",
        "http://sidizenkane.tumblr.com/post/104297510837/dear-fellow-nyc-protesters"
       ]
      },
      {
       "output_type": "stream",
       "stream": "stdout",
       "text": [
        "\n",
        "http://patriotupdate.com/2014/12/national-guardsmen-take-action-ferguson-protesters-burn-flag/\n",
        "http://www.theblaze.com/stories/2014/12/02/powerful-video-national-guard-troops-in-ferguson-recover-pieces-of-burned-american-flag/?utm_source=twitter&utm_medium=story&utm_campaign=ShareButtons\n",
        "http://www.mediaite.com/tv/megyn-kelly-hands-up-dont-shoot-might-be-lie-why-still-do-it/"
       ]
      },
      {
       "output_type": "stream",
       "stream": "stdout",
       "text": [
        "\n",
        "http://ustre.am/1c8mP\n",
        "http://www.inquisitr.com/1639235/dorian-johnson-darren-wilson-allies-reportedly-fighting-for-perjury-charges-against-michael-browns-friend/\n",
        "http://ow.ly/FjCpF"
       ]
      },
      {
       "output_type": "stream",
       "stream": "stdout",
       "text": [
        "\n",
        "http://www.gofundme.com/htk4zo\n",
        "http://podcast.cbc.ca/mp3/podcasts/current_20141125_40716.mp3\n",
        "http://podcast.cbc.ca/mp3/podcasts/current_20141119_46057.mp3\n",
        "http://ow.ly/F3MSG\n",
        "http://www.sacbee.com/news/local/news-columns-blogs/city-beat/article4268850.html"
       ]
      },
      {
       "output_type": "stream",
       "stream": "stdout",
       "text": [
        "\n",
        "http://tmblr.co/ZhPdHy1X7giHL\n",
        "http://huff.to/1xVpJML\n",
        "https://vine.co/v/OvXAEq2IDl5"
       ]
      },
      {
       "output_type": "stream",
       "stream": "stdout",
       "text": [
        "\n",
        "http://www.silive.com/northshore/index.ssf/2014/08/despite_his_testimony_grand_ju.html\n",
        "http://cnn.it/1tENH8z\n",
        "http://usat.ly/1yheOx7\n",
        "http://gu.com/p/yte7/stw"
       ]
      },
      {
       "output_type": "stream",
       "stream": "stdout",
       "text": [
        "\n",
        "https://www.youtube.com/watch?v=2hWYgPDVX_8\n",
        "http://bloom.bg/1FP0JrC"
       ]
      },
      {
       "output_type": "stream",
       "stream": "stdout",
       "text": [
        "\n",
        "http://shar.es/1XLMxh\n",
        "http://www.gofundme.com/htnohk"
       ]
      },
      {
       "output_type": "stream",
       "stream": "stdout",
       "text": [
        "\n",
        "http://www.cnn.com/2014/12/03/justice/new-york-grand-jury-chokehold/\n",
        "http://www.sacerdotus.com/2014/12/eric-garner-no-indictment-for-cop.html?spref=tw\n",
        "http://www.mbird.com/2013/07/who-but-the-lord-langston-hughes/"
       ]
      },
      {
       "output_type": "stream",
       "stream": "stdout",
       "text": [
        "\n",
        "http://tmblr.co/Z_wQ3y1X8e6nW"
       ]
      },
      {
       "output_type": "stream",
       "stream": "stdout",
       "text": [
        "\n",
        "http://fb.me/3kuKoZCtI"
       ]
      },
      {
       "output_type": "stream",
       "stream": "stdout",
       "text": [
        "\n",
        "http://mobile.nytimes.com/2014/12/04/opinion/charles-blow-first-michael-brown-now-eric-garner.html?referrer=\n",
        "http://cbsloc.al/1yQS1Hp"
       ]
      },
      {
       "output_type": "stream",
       "stream": "stdout",
       "text": [
        "\n",
        "https://vine.co/v/Ov6XU5tL59w"
       ]
      },
      {
       "output_type": "stream",
       "stream": "stdout",
       "text": [
        "\n",
        "https://vine.co/v/OvX7uthjMZ3\n",
        "http://www.salon.com/2014/09/05/gun_nuts_special_privileges_how_police_treated_a_dangerous_open_carry_zealot/\n",
        "http://instagram.com/p/wK27Hwosg-/"
       ]
      },
      {
       "output_type": "stream",
       "stream": "stdout",
       "text": [
        "\n",
        "http://ln.is/bit.ly/wh3Gi\n",
        "http://www.texasobserver.org/grand-jury-clears-jasper-police-beating/\n",
        "https://vine.co/v/OvX7i6H0dWv"
       ]
      },
      {
       "output_type": "stream",
       "stream": "stdout",
       "text": [
        "\n",
        "http://www.washingtontimes.com/news/2014/dec/2/ferguson-police-werent-invited-white-house-meeting/\n",
        "https://www.facebook.com/BigElad/posts/10203095556011876\n",
        "http://www.vox.com/2014/12/3/7328051/conservative-outrage-eric-garner?utm_medium=social&utm_source=twitter&utm_campaign=vox&utm_content=article-share-top"
       ]
      },
      {
       "output_type": "stream",
       "stream": "stdout",
       "text": [
        "\n",
        "http://AL.com\n",
        "http://www.al.com/opinion/index.ssf/2014/12/charles_barkleys_ferguson_scum.html\n",
        "http://www.gofundme.com/hu8z10"
       ]
      },
      {
       "output_type": "stream",
       "stream": "stdout",
       "text": [
        "\n",
        "http://shar.es/1XLMcY\n",
        "http://j.mp/1CGUyIc\n",
        "http://www.ustream.tv/recorded/56093466\n",
        "http://qz.com/302616"
       ]
      },
      {
       "output_type": "stream",
       "stream": "stdout",
       "text": [
        "\n",
        "http://instagram.com/p/wKe1ORChos/"
       ]
      },
      {
       "output_type": "stream",
       "stream": "stdout",
       "text": [
        "\n",
        "http://gretawire.foxnewsinsider.com/video/video-theres-a-new-irs-scandal-brewing-and-its-disgraceful/\n",
        "http://www.truthrevolt.org/commentary/shapiro-real-racist-conspiracy-ferguson#.VH_UAYnpwbI.twitter"
       ]
      },
      {
       "output_type": "stream",
       "stream": "stdout",
       "text": [
        "\n",
        "http://www.stltoday.com/news/opinion/mailbag/letters-to-the-editor/article_32cc4d70-c656-5908-80a5-78905eedb7eb.html"
       ]
      },
      {
       "output_type": "stream",
       "stream": "stdout",
       "text": [
        "\n",
        "https://www.youtube.com/watch?v=VpajdIln6w4\n",
        "http://www.bbc.com/news/blogs-trending-30322650"
       ]
      },
      {
       "output_type": "stream",
       "stream": "stdout",
       "text": [
        "\n",
        "http://dld.bz/d2WsP\n",
        "http://trov.es/1rTS5Wq\n",
        "http://PoliceOne.com\n",
        "http://www.policeone.com/Crowd-Control/articles/7921845-Lawyer-No-indictment-in-NYPD-in-custody-death/\n",
        "http://www.thefederalistpapers.org/?p=30728\n",
        "http://rightwingart.com/e403f19e-fd72-4ebb-9a0e-05c690b61a29/artupload.aspx"
       ]
      },
      {
       "output_type": "stream",
       "stream": "stdout",
       "text": [
        "\n",
        "http://www.youtube.com/watch?v=iS56oevhdAI&feature=youtube_gdata_player\n",
        "http://www.stltoday.com/news/local/metro/article_97321e17-65ef-5362-8324-a8e6dd287c35.html"
       ]
      },
      {
       "output_type": "stream",
       "stream": "stdout",
       "text": [
        "\n",
        "https://m.youtube.com/watch?v=qQtDXxXyPYQ"
       ]
      },
      {
       "output_type": "stream",
       "stream": "stdout",
       "text": [
        "\n",
        "http://www.gofundme.com/hunocc\n",
        "http://bit.ly/1A8rJ2l\n",
        "http://wapo.st/1vOM9Mt\n",
        "http://theconservativetreehouse.com/2014/11/25/first-pro-truth-grand-jury-witness-murdered-deandre-joshua-20-found-dead-yards-from-scene-of-michael-browns-death/"
       ]
      },
      {
       "output_type": "stream",
       "stream": "stdout",
       "text": [
        "\n",
        "http://ireport.cnn.com/docs/DOC-1193750\n",
        "https://s3.amazonaws.com/khudes/Adventures+of+a+Feral+Hippy-with+Mona+Radler-2014-09-22.mp3\n",
        "http://shar.es/1XLOKj\n",
        "http://shar.es/1XLT4P\n",
        "http://wapo.st/1vKEUYy"
       ]
      },
      {
       "output_type": "stream",
       "stream": "stdout",
       "text": [
        "\n",
        "http://www.aclu.org/doj-racialprofilingTW"
       ]
      },
      {
       "output_type": "stream",
       "stream": "stdout",
       "text": [
        "\n",
        "http://huff.to/1rDORAE"
       ]
      },
      {
       "output_type": "stream",
       "stream": "stdout",
       "text": [
        "\n",
        "https://www.stringwire.com/watch/jzTn"
       ]
      },
      {
       "output_type": "stream",
       "stream": "stdout",
       "text": [
        "\n",
        "http://www.motherjones.com/politics/2014/11/science-of-racism-prejudice\n",
        "http://grist.org/cities/after-ferguson-we-must-ask-who-owns-the-streets/"
       ]
      },
      {
       "output_type": "stream",
       "stream": "stdout",
       "text": [
        "\n",
        "http://nyp.st/1tNnyne"
       ]
      },
      {
       "output_type": "stream",
       "stream": "stdout",
       "text": [
        "\n",
        "http://instagram.com/p/wK2gL3II4a/\n",
        "http://www.washingtonpost.com/news/morning-mix/wp/2014/04/28/knoxville-cop-fired-immediately-after-photos-show-brutal-choking-of-student/\n",
        "https://www.tsu.co/WisdomMiners/13662056"
       ]
      },
      {
       "output_type": "stream",
       "stream": "stdout",
       "text": [
        "\n",
        "https://twitter.com/trscoop/status/537821258939768832\n",
        "http://bit.ly/1ynpokY\n",
        "http://p.ost.im/jUqwBT\n",
        "http://usat.ly/1yQT8qm\n",
        "https://www.flickr.com/photos/109799466@N06/sets/72157649587548871/"
       ]
      },
      {
       "output_type": "stream",
       "stream": "stdout",
       "text": [
        "\n",
        "http://ireport.cnn.com/docs/DOC-1193748\n",
        "http://www.bunibuni.com/video-news/item/5965-nigerians-protest-for-michael-brown-video\n",
        "https://medium.com/@JarrettMDrake/in-defense-of-cops-without-cameras-c95ef9f27c6d\n",
        "http://invst.rs/7g7jPC\n",
        "http://tinyurl.com/mvpw9ql"
       ]
      },
      {
       "output_type": "stream",
       "stream": "stdout",
       "text": [
        "\n",
        "http://wp.me/p1s2oW-1TJ\n",
        "http://tl.gd/nhmh1e"
       ]
      },
      {
       "output_type": "stream",
       "stream": "stdout",
       "text": [
        "\n",
        "http://shar.es/1XLPS5\n",
        "http://tmblr.co/Z2ZkHx1X8cTe4"
       ]
      },
      {
       "output_type": "stream",
       "stream": "stdout",
       "text": [
        "\n",
        "http://www.nydailynews.com/news/national/st-louis-woman-loses-eye-police-fire-non-lethal-article-1.2026565"
       ]
      },
      {
       "output_type": "stream",
       "stream": "stdout",
       "text": [
        "\n",
        "http://www.theblaze.com/stories/2014/12/03/after-guest-claims-theres-an-epidemic-of-officers-killing-black-people-bill-oreilly-pulls-out-some-damaging-statistics/?utm_source=twitter&utm_medium=story&utm_campaign=ShareButtons\n",
        "http://fb.me/2JaVA6xjB"
       ]
      },
      {
       "output_type": "stream",
       "stream": "stdout",
       "text": [
        "\n",
        "http://fb.me/4DsGP9VQQ\n",
        "http://www.huffingtonpost.com/2014/09/19/mckenzie-cochran-northland-mall-died_n_5849348.html"
       ]
      },
      {
       "output_type": "stream",
       "stream": "stdout",
       "text": [
        "\n",
        "http://nym.ag/11VFKVk"
       ]
      },
      {
       "output_type": "stream",
       "stream": "stdout",
       "text": [
        "\n",
        "http://www.blackalliance.org/ferguson-toolkit"
       ]
      },
      {
       "output_type": "stream",
       "stream": "stdout",
       "text": [
        "\n",
        "http://www.vulture.com/2014/11/chris-rock-frank-rich-in-conversation.html\n",
        "http://bit.ly/1ybhRH3"
       ]
      },
      {
       "output_type": "stream",
       "stream": "stdout",
       "text": [
        "\n",
        "http://houstoncitizenschamber.chambermaster.com/list?moduleversion=3"
       ]
      },
      {
       "output_type": "stream",
       "stream": "stdout",
       "text": [
        "\n",
        "https://itun.es/us/3WqJW.c?i=326557316\n",
        "http://instagram.com/p/wK2KyQtZsw/"
       ]
      },
      {
       "output_type": "stream",
       "stream": "stdout",
       "text": [
        "\n",
        "http://m.stlamerican.com/news/columnists/guest_columnists/article_c98ba178-50b9-11e4-8b41-83bc8185f474.html?mode=jqm\n",
        "https://vine.co/v/On0eLplEb7B\n",
        "http://ow.ly/i/7Ozzv"
       ]
      },
      {
       "output_type": "stream",
       "stream": "stdout",
       "text": [
        "\n",
        "https://www.youtube.com/watch?v=SnjYrXd9ycA\n",
        "http://m.motherjones.com/mojo/2014/12/grand-jury-white-cops-diggles-jasper"
       ]
      },
      {
       "output_type": "stream",
       "stream": "stdout",
       "text": [
        "\n",
        "http://www.dailykos.com/story/2014/08/15/1321904/-Ferguson-police-beat-a-man-and-then-charged-him-with-destruction-of-property-for-bloody-uniforms\n",
        "http://shar.es/1XLPYr\n",
        "http://ow.ly/FiNAR"
       ]
      },
      {
       "output_type": "stream",
       "stream": "stdout",
       "text": [
        "\n",
        "http://bit.ly/1r4gSXt"
       ]
      },
      {
       "output_type": "stream",
       "stream": "stdout",
       "text": [
        "\n",
        "http://www.buzzfeed.com/jazminmb/illinois-college-suspends-player-after-mike-brown-t0fd?s=mobile\n",
        "http://www.amazon.com/Thought-Reform-Psychology-Totalism-brainwashing/dp/0807842532/ref=asap_B000APASEI_1_2?s=books&ie=UTF8&qid=1417645939&sr=1-2\n",
        "http://instagram.com/p/wK2CckKlDp/"
       ]
      },
      {
       "output_type": "stream",
       "stream": "stdout",
       "text": [
        "\n",
        "http://www.tpnn.com/2014/12/03/these-fbi-and-cdc-statistics-completely-destroy-the-race-baiting-police-bashing-narrative-out-of-ferguson/\n",
        "http://huff.to/1vI0Oug\n",
        "http://zite.to/1yh8Tbl"
       ]
      },
      {
       "output_type": "stream",
       "stream": "stdout",
       "text": [
        "\n",
        "http://wp.me/p1sd9a-fCn\n",
        "http://bit.ly/1y7ixgD\n",
        "http://instagram.com/p/wK18fAKmfX/"
       ]
      },
      {
       "output_type": "stream",
       "stream": "stdout",
       "text": [
        "\n",
        "http://cnn.it/1z7s58D\n",
        "http://anarchism.newsin.tk/a/b6813130-7524-11e4-8e37-e3ba88cdd299"
       ]
      },
      {
       "output_type": "stream",
       "stream": "stdout",
       "text": [
        "\n",
        "http://truth-out.org/news/item/27776-glimpses-of-our-power\n",
        "http://ti.me/1rSGzKP"
       ]
      },
      {
       "output_type": "stream",
       "stream": "stdout",
       "text": [
        "\n",
        "http://www.sbnation.com/lookit/2014/12/3/7327865/mike-ditka-ferguson-comments-michael-brown-darren-wilson\n",
        "http://po.st/oCUJtH"
       ]
      },
      {
       "output_type": "stream",
       "stream": "stdout",
       "text": [
        "\n",
        "http://politi.co/1zNXLzS"
       ]
      },
      {
       "output_type": "stream",
       "stream": "stdout",
       "text": [
        "\n",
        "http://huff.to/1vNfHeK\n",
        "Tweet manifest written\n"
       ]
      }
     ],
     "prompt_number": 5
    },
    {
     "cell_type": "code",
     "collapsed": false,
     "input": [
      "manifest = open(path.join(outdir, 'manifest.json'), 'r')\n",
      "text = manifest.read()"
     ],
     "language": "python",
     "metadata": {},
     "outputs": [],
     "prompt_number": 6
    },
    {
     "cell_type": "code",
     "collapsed": false,
     "input": [
      "token = '3b0f1bc2ddce2d6057a18ca91b695898'"
     ],
     "language": "python",
     "metadata": {},
     "outputs": [],
     "prompt_number": 7
    },
    {
     "cell_type": "code",
     "collapsed": false,
     "input": [
      "for e in json.loads(text):\n",
      "    for n, url in enumerate(e['full_urls']):\n",
      "        out_path = path.join(outdir, '%s.json' %(str(e['id']) + '-' +  str(n)))\n",
      "        if path.exists(out_path):\n",
      "            print \"skipping: {}\".format(url)\n",
      "            continue\n",
      "        print \"scraping: {}\".format(url)\n",
      "        items = {'token': token , 'url': url}\n",
      "        r = requests.get(\"http://api.diffbot.com/v3/article\", params=items)\n",
      "        file = open(out_path, 'w')  \n",
      "        file.write(r.text.encode('utf-8', 'ignore'))\n",
      "        file.close()"
     ],
     "language": "python",
     "metadata": {},
     "outputs": [
      {
       "output_type": "stream",
       "stream": "stdout",
       "text": [
        "skipping: http://eepurl.com/9-9zz\n",
        "skipping: http://thisisthemovement.org\n",
        "skipping: http://fw.to/2J1EUGD\n",
        "skipping: https://vine.co/v/OvgYzBT6zng\n",
        "skipping: https://www.facebook.com/events/1419245621698930/\n",
        "skipping: http://www.businessinsider.com.au/its-clear-that-race-is-americas-deepest-problem-2014-11\n",
        "skipping: http://www.rightnow.io/breaking-news/sunset-tamarindo-costarica-sky-wanderlust_bn_1416790016751.html\n",
        "skipping: http://archives.ckut.ca/128/20141203.14.00-15.00.mp3\n",
        "skipping: http://www.washingtontimes.com/news/2014/dec/3/roy-beck-how-ferguson-and-amnesty-are-connected/\n",
        "skipping: http://foxrad.io/1HHiACK\n",
        "skipping: http://ift.tt/1vO1NJc\n",
        "skipping: http://bit.ly/1vopwjt\n",
        "skipping: http://ow.ly/FjS1u\n",
        "skipping: https://vine.co/v/OvXq3VHqPAO\n",
        "skipping: http://www.denverpost.com/news/ci_27059592/car-strikes-denver-police-officer-amid-ferguson-protest\n",
        "skipping: http://cnn.it/1viFc2F\n",
        "skipping: https://www.youtube.com/watch?v=oWdbz-c3St0\n",
        "skipping: https://medium.com/@sarahkendzior/the-minimum-wage-worker-strikes-back-fa4c36eb306b\n",
        "skipping: http://arrestwilson.tumblr.com/post/103703164362/prosecutors-egregious-grand-jury-mistake\n",
        "skipping: http://www.washingtontimes.com/news/2014/dec/3/thomas-sowell-ferguson-hands-up-dont-shoot-lie/\n",
        "skipping: https://itun.es/us/yLhG3.c?i=326502565\n",
        "skipping: http://vimeo.com/112514238\n",
        "skipping: https://vine.co/v/O1HwuIMD9pZ\n",
        "skipping: http://stlouis.cbslocal.com/2014/12/03/group-threatens-filing-ethics-complaint-against-mcculloch/\n",
        "skipping: http://bit.ly/1tJ2bDr\n",
        "skipping: http://politi.co/12n4gi1\n",
        "skipping: http://bit.ly/1zjKgI7\n",
        "skipping: http://vimeo.com/113183385\n",
        "skipping: http://on.fb.me/1BfoPfF\n",
        "skipping: http://cbsloc.al/1wu2Lfw\n",
        "skipping: https://vine.co/v/OvXWLuQmYDQ\n",
        "skipping: http://haitiantimes.com/refusing-to-die-softly-respectability-and-the-sin-of-black-anger/\n",
        "skipping: http://gotnews.com/?p=2907\n",
        "skipping: http://www.azcentral.com/story/news/local/phoenix/2014/12/03/phoenix-police-officer-shooting-greenway-abrk/19837919/\n",
        "skipping: http://www.stltoday.com/news/local/metro/ferguson-demonstrations-take-aim-at-police-brutality-in-mexico/article_6ba70f03-45b4-5711-b17e-bedeb7f8c2d4.html\n",
        "skipping: http://bit.ly/1A9rlke\n",
        "skipping: http://gotnews.com/?p=2871\n",
        "skipping: http://www.realclearpolitics.com/video/2014/12/02/thomas_sowell_on_hands_up_dont_shoot_ferguson_slogan_i_thought_of_joseph_goebbels.html#.VH_ZUOJT7qo.twitter\n",
        "skipping: http://townhall.com/tipsheet/katiepavlich/2014/12/03/reminder-president-obama-marched-with-the-black-panthers-n1926857\n",
        "skipping: https://amp.twimg.com/v/05c95f9d-8ac9-4cc7-b044-e961bec7f0b9\n",
        "skipping: http://tmblr.co/ZZ-HQs1X8jSsy\n",
        "skipping: https://vine.co/v/OvX5YgYhhJ6\n",
        "skipping: https://vine.co/v/OvggBKm93Xd\n",
        "skipping: http://www.infowars.com/ferguson-business-owners-ask-oath-keepers-to-protect-them-from-violent-michael-brown-supporters/\n",
        "skipping: https://www.youtube.com/watch?v=eze7r6E_uoE\n",
        "skipping: http://www.youngcons.com/black-sheriff-puts-ferguson-race-baiters-on-blast-calls-sharpton-a-vulture-video/\n",
        "skipping: https://www.youtube.com/watch?v=uGKl4StFrMo#t=1\n",
        "skipping: https://www.youtube.com/watch?v=DpTDGrECtyk\n",
        "skipping: http://globalgrind.com/2014/11/26/deandre-joshua-dies-during-ferguson-protests-photos/\n",
        "skipping: http://www.thegatewaypundit.com/2014/11/deandre-joshua-shot-dead-in-ferguson-riots-was-good-friend-of-murder-witness-dorian-johnson/\n",
        "skipping: http://instagram.com/p/wK5YY3B3DT/\n",
        "scraping: http://bit.ly/1B9TCdI\n",
        "scraping: http://gotnews.com/?p=2936"
       ]
      },
      {
       "output_type": "stream",
       "stream": "stdout",
       "text": [
        "\n",
        "scraping: http://6.wate.com/1ygFQ7Q"
       ]
      },
      {
       "output_type": "stream",
       "stream": "stdout",
       "text": [
        "\n",
        "scraping: http://wapo.st/1Btpqso"
       ]
      },
      {
       "output_type": "stream",
       "stream": "stdout",
       "text": [
        "\n",
        "scraping: https://www.facebook.com/pages/Brooke-Revels-Society-and-Associates/228362220622278?hc_location=timeline"
       ]
      },
      {
       "output_type": "stream",
       "stream": "stdout",
       "text": [
        "\n",
        "scraping: http://bit.ly/1zQdBKo"
       ]
      },
      {
       "output_type": "stream",
       "stream": "stdout",
       "text": [
        "\n",
        "scraping: http://bit.ly/1uXTTgl"
       ]
      },
      {
       "output_type": "stream",
       "stream": "stdout",
       "text": [
        "\n",
        "scraping: http://twitter.com/PoliticalLaughs/status/539595885618135040/photo/1"
       ]
      },
      {
       "output_type": "stream",
       "stream": "stdout",
       "text": [
        "\n",
        "scraping: http://downtrend.com/donn-marten/dont-blame-me-for-those-idiots-louis-head-sort-of-apologizes/"
       ]
      },
      {
       "output_type": "stream",
       "stream": "stdout",
       "text": [
        "\n",
        "scraping: http://huff.to/1vLXkqy"
       ]
      },
      {
       "output_type": "stream",
       "stream": "stdout",
       "text": [
        "\n",
        "scraping: http://shar.es/1XLLG1"
       ]
      },
      {
       "output_type": "stream",
       "stream": "stdout",
       "text": [
        "\n",
        "scraping: http://www.epi.org/publication/making-ferguson/#.VH_XuwLjcTs.twitter"
       ]
      },
      {
       "output_type": "stream",
       "stream": "stdout",
       "text": [
        "\n",
        "scraping: http://usat.ly/1yRdhg0"
       ]
      },
      {
       "output_type": "stream",
       "stream": "stdout",
       "text": [
        "\n",
        "scraping: http://reason.com/blog/2014/12/02/four-members-of-congress-put-their-hands"
       ]
      },
      {
       "output_type": "stream",
       "stream": "stdout",
       "text": [
        "\n",
        "scraping: http://tashasays.com/garth-brooks-solidarity-ferguson-gop-writers-head-explodes/"
       ]
      },
      {
       "output_type": "stream",
       "stream": "stdout",
       "text": [
        "\n",
        "scraping: http://instagram.com/p/wK5RnmuyYX/"
       ]
      },
      {
       "output_type": "stream",
       "stream": "stdout",
       "text": [
        "\n",
        "scraping: http://tinyurl.com/mpy95v9"
       ]
      },
      {
       "output_type": "stream",
       "stream": "stdout",
       "text": [
        "\n",
        "scraping: http://abcn.ws/1zFvfQL"
       ]
      },
      {
       "output_type": "stream",
       "stream": "stdout",
       "text": [
        "\n",
        "scraping: http://fb.me/1SIPStm2S"
       ]
      },
      {
       "output_type": "stream",
       "stream": "stdout",
       "text": [
        "\n",
        "scraping: https://www.facebook.com/events/378965438946038/?ref=2&ref_dashboard_filter=upcoming"
       ]
      },
      {
       "output_type": "stream",
       "stream": "stdout",
       "text": [
        "\n",
        "scraping: http://wapo.st/1CxgWUl"
       ]
      },
      {
       "output_type": "stream",
       "stream": "stdout",
       "text": [
        "\n",
        "scraping: http://bit.ly/128kfAm"
       ]
      },
      {
       "output_type": "stream",
       "stream": "stdout",
       "text": [
        "\n",
        "scraping: http://en.m.wikipedia.org/wiki/Death_of_Eric_Garner"
       ]
      },
      {
       "output_type": "stream",
       "stream": "stdout",
       "text": [
        "\n",
        "scraping: http://www.encyclopedia.com/topic/civil_disobedience.aspx"
       ]
      },
      {
       "output_type": "stream",
       "stream": "stdout",
       "text": [
        "\n",
        "scraping: https://vine.co/v/OvXe30ziP2e"
       ]
      },
      {
       "output_type": "stream",
       "stream": "stdout",
       "text": [
        "\n",
        "scraping: http://tinyurl.com/lnfumh6"
       ]
      },
      {
       "output_type": "stream",
       "stream": "stdout",
       "text": [
        "\n",
        "scraping: http://gotnews.com/?p=2768"
       ]
      },
      {
       "output_type": "stream",
       "stream": "stdout",
       "text": [
        "\n",
        "scraping: http://us7.campaign-archive2.com/?u=b493e6c4d31beda32fdaf8e2d&id=73514e334b&e=[UNIQID"
       ]
      },
      {
       "output_type": "stream",
       "stream": "stdout",
       "text": [
        "\n",
        "scraping: http://wp.me/p5oI8H-3W"
       ]
      },
      {
       "output_type": "stream",
       "stream": "stdout",
       "text": [
        "\n",
        "scraping: http://sociobiologicalmusings.blogspot.com/2014/09/shocking-stats-on-black-on-white-rape.html"
       ]
      },
      {
       "output_type": "stream",
       "stream": "stdout",
       "text": [
        "\n",
        "scraping: http://ustre.am/1jzKC"
       ]
      },
      {
       "output_type": "stream",
       "stream": "stdout",
       "text": [
        "\n",
        "scraping: https://m.youtube.com/watch?v=zGBw8jS3sMw"
       ]
      },
      {
       "output_type": "stream",
       "stream": "stdout",
       "text": [
        "\n",
        "scraping: http://bit.ly/1vOTDPx"
       ]
      },
      {
       "output_type": "stream",
       "stream": "stdout",
       "text": [
        "\n",
        "scraping: http://fb.me/1s6bmFMox"
       ]
      },
      {
       "output_type": "stream",
       "stream": "stdout",
       "text": [
        "\n",
        "scraping: http://talkingpointsmemo.com/livewire/lisa-bloom-joe-scarborough-ferguson"
       ]
      },
      {
       "output_type": "stream",
       "stream": "stdout",
       "text": [
        "\n",
        "scraping: https://www.facebook.com/pages/Zemir-Begic/611845368938936"
       ]
      },
      {
       "output_type": "stream",
       "stream": "stdout",
       "text": [
        "\n",
        "scraping: http://libguides.library.arizona.edu/ferguson"
       ]
      },
      {
       "output_type": "stream",
       "stream": "stdout",
       "text": [
        "\n",
        "scraping: http://www.rightnow.io/breaking-news/stl_bn_1417392214089.html"
       ]
      },
      {
       "output_type": "stream",
       "stream": "stdout",
       "text": [
        "\n",
        "scraping: http://vimeo.com/113179294"
       ]
      },
      {
       "output_type": "stream",
       "stream": "stdout",
       "text": [
        "\n",
        "scraping: http://bit.ly/memeproducer"
       ]
      },
      {
       "output_type": "stream",
       "stream": "stdout",
       "text": [
        "\n",
        "scraping: http://bit.ly/1unUwxx"
       ]
      },
      {
       "output_type": "stream",
       "stream": "stdout",
       "text": [
        "\n",
        "scraping: http://fergusonresponse.tumblr.com/"
       ]
      },
      {
       "output_type": "stream",
       "stream": "stdout",
       "text": [
        "\n",
        "scraping: http://cnn.it/1vTVXrN"
       ]
      },
      {
       "output_type": "stream",
       "stream": "stdout",
       "text": [
        "\n",
        "scraping: http://ow.ly/FhHhZ"
       ]
      },
      {
       "output_type": "stream",
       "stream": "stdout",
       "text": [
        "\n",
        "scraping: http://bit.ly/1w2bs0S"
       ]
      },
      {
       "output_type": "stream",
       "stream": "stdout",
       "text": [
        "\n",
        "scraping: http://www.msnbc.com/the-last-word/last-word-investigation-the-darren-wilson-grand-jury"
       ]
      },
      {
       "output_type": "stream",
       "stream": "stdout",
       "text": [
        "\n",
        "scraping: https://vine.co/v/OAt2EpWulla"
       ]
      },
      {
       "output_type": "stream",
       "stream": "stdout",
       "text": [
        "\n",
        "scraping: http://ow.ly/FbOmi"
       ]
      },
      {
       "output_type": "stream",
       "stream": "stdout",
       "text": [
        "\n",
        "scraping: https://www.tumblr.com/blog/socialjusticecurriculum"
       ]
      },
      {
       "output_type": "stream",
       "stream": "stdout",
       "text": [
        "\n",
        "scraping: http://bit.ly/1HT2VAo"
       ]
      },
      {
       "output_type": "stream",
       "stream": "stdout",
       "text": [
        "\n",
        "scraping: http://bit.ly/1vLfNCu"
       ]
      },
      {
       "output_type": "stream",
       "stream": "stdout",
       "text": [
        "\n",
        "scraping: http://m.nydailynews.com/opinion/harry-siegel-lonesome-death-eric-garner-article-1.2032281"
       ]
      },
      {
       "output_type": "stream",
       "stream": "stdout",
       "text": [
        "\n",
        "scraping: http://theunsilencedscience.blogspot.com/2011/08/genetics-of-violence.html"
       ]
      },
      {
       "output_type": "stream",
       "stream": "stdout",
       "text": [
        "\n",
        "scraping: http://ow.ly/Fkmv6"
       ]
      },
      {
       "output_type": "stream",
       "stream": "stdout",
       "text": [
        "\n",
        "scraping: http://fergusonresponse.tumblr.com"
       ]
      },
      {
       "output_type": "stream",
       "stream": "stdout",
       "text": [
        "\n",
        "scraping: http://on.msnbc.com/1vM2Qbr"
       ]
      },
      {
       "output_type": "stream",
       "stream": "stdout",
       "text": [
        "\n",
        "scraping: https://vine.co/v/OvX1Ie3bTeA"
       ]
      },
      {
       "output_type": "stream",
       "stream": "stdout",
       "text": [
        "\n",
        "scraping: http://bit.ly/1CFubCt"
       ]
      },
      {
       "output_type": "stream",
       "stream": "stdout",
       "text": [
        "\n",
        "scraping: http://tmblr.co/Z2sMPq1X8jnQH"
       ]
      },
      {
       "output_type": "stream",
       "stream": "stdout",
       "text": [
        "\n",
        "scraping: https://vine.co/v/OvX1T3961rQ"
       ]
      },
      {
       "output_type": "stream",
       "stream": "stdout",
       "text": [
        "\n",
        "scraping: http://instagram.com/p/wK5FMHyl0y/"
       ]
      },
      {
       "output_type": "stream",
       "stream": "stdout",
       "text": [
        "\n",
        "scraping: http://www.csmonitor.com/USA/Justice/2014/1203/Eric-Garner-grand-jury-probe-shows-similarities-to-Michael-Brown-case-video"
       ]
      },
      {
       "output_type": "stream",
       "stream": "stdout",
       "text": [
        "\n",
        "scraping: http://bit.ly/15pDZlm"
       ]
      },
      {
       "output_type": "stream",
       "stream": "stdout",
       "text": [
        "\n",
        "scraping: http://thinkprogress.org/justice/2014/12/03/3598954/ferguson-police-investigating-michael-browns-stepfather/"
       ]
      },
      {
       "output_type": "stream",
       "stream": "stdout",
       "text": [
        "\n",
        "scraping: http://ftw.usatoday.com/2014/12/kenny-smith-charles-barkley-ferguson-open-letter-exclusive"
       ]
      },
      {
       "output_type": "stream",
       "stream": "stdout",
       "text": [
        "\n",
        "scraping: http://www.bjs.gov/content/pub/pdf/htius.pdf"
       ]
      },
      {
       "output_type": "stream",
       "stream": "stdout",
       "text": [
        "\n",
        "scraping: http://www.alternet.org/civil-liberties/inside-twisted-police-department-kills-unarmed-citizens-highest-rate-country?paging=off&current_page=1#bookmark"
       ]
      },
      {
       "output_type": "stream",
       "stream": "stdout",
       "text": [
        "\n",
        "scraping: http://m.townhall.com/tipsheet/katiepavlich/2014/12/02/watch-sheriff-david-clarke-destroy-eric-holder-for-fanning-ferguson-flames-n1926054"
       ]
      },
      {
       "output_type": "stream",
       "stream": "stdout",
       "text": [
        "\n",
        "scraping: https://twitter.com/vivianho/status/540350363233423360"
       ]
      },
      {
       "output_type": "stream",
       "stream": "stdout",
       "text": [
        "\n",
        "scraping: https://vine.co/v/O1XrMg90ZAg"
       ]
      },
      {
       "output_type": "stream",
       "stream": "stdout",
       "text": [
        "\n",
        "scraping: http://nbcnews.to/1yhdTNm"
       ]
      },
      {
       "output_type": "stream",
       "stream": "stdout",
       "text": [
        "\n",
        "scraping: http://www.youtube.com/watch?v=B092acMImJE"
       ]
      },
      {
       "output_type": "stream",
       "stream": "stdout",
       "text": [
        "\n",
        "scraping: http://www.trendinalia.com/twitter-trending-topics/canada/edmonton-141202.html"
       ]
      },
      {
       "output_type": "stream",
       "stream": "stdout",
       "text": [
        "\n",
        "scraping: http://Purchaseblack.com"
       ]
      },
      {
       "output_type": "stream",
       "stream": "stdout",
       "text": [
        "\n",
        "scraping: http://fb.me/2X9RllRfa"
       ]
      },
      {
       "output_type": "stream",
       "stream": "stdout",
       "text": [
        "\n",
        "scraping: http://zemirbegic.com/2014/12/04/from-the-des-moines-register-zemir-begics-family-gathers-in-iowa-to-mourn/"
       ]
      },
      {
       "output_type": "stream",
       "stream": "stdout",
       "text": [
        "\n",
        "scraping: http://goo.gl/shnR9k"
       ]
      },
      {
       "output_type": "stream",
       "stream": "stdout",
       "text": [
        "\n",
        "scraping: http://twitter.com/CedricShy/status/540350764678258688/photo/1"
       ]
      },
      {
       "output_type": "stream",
       "stream": "stdout",
       "text": [
        "\n",
        "scraping: https://vine.co/v/OvgY2UTlTZn"
       ]
      },
      {
       "output_type": "stream",
       "stream": "stdout",
       "text": [
        "\n",
        "scraping: http://gotnews.com/?p=2860"
       ]
      },
      {
       "output_type": "stream",
       "stream": "stdout",
       "text": [
        "\n",
        "scraping: http://benswann.com/michael-browns-stepfather-may-face-criminal-charges/"
       ]
      },
      {
       "output_type": "stream",
       "stream": "stdout",
       "text": [
        "\n",
        "scraping: http://townhall.com/tipsheet/katiepavlich/2014/12/02/watch-sheriff-david-clarke-destroy-eric-holder-for-fanning-ferguson-flames-n1926054"
       ]
      },
      {
       "output_type": "stream",
       "stream": "stdout",
       "text": [
        "\n",
        "scraping: http://bit.ly/11WJHZW"
       ]
      },
      {
       "output_type": "stream",
       "stream": "stdout",
       "text": [
        "\n",
        "scraping: http://www.dailykos.com/story/2014/12/03/1349195/-That-Missouri-Deadly-Force-Statute-The-Story-Just-Got-Worse#"
       ]
      },
      {
       "output_type": "stream",
       "stream": "stdout",
       "text": [
        "\n",
        "scraping: http://ustre.am/KsCm"
       ]
      },
      {
       "output_type": "stream",
       "stream": "stdout",
       "text": [
        "\n",
        "scraping: http://www.usatoday.com/story/sports/nfl/2014/12/03/rams-players-dont-regret-protest/19861541/"
       ]
      },
      {
       "output_type": "stream",
       "stream": "stdout",
       "text": [
        "\n",
        "scraping: http://shar.es/1XLSE7"
       ]
      },
      {
       "output_type": "stream",
       "stream": "stdout",
       "text": [
        "\n",
        "scraping: http://goo.gl/6TMJOn"
       ]
      },
      {
       "output_type": "stream",
       "stream": "stdout",
       "text": [
        "\n",
        "scraping: http://es.pn/1zlxt82"
       ]
      },
      {
       "output_type": "stream",
       "stream": "stdout",
       "text": [
        "\n",
        "scraping: http://bit.ly/1zSPLh0"
       ]
      },
      {
       "output_type": "stream",
       "stream": "stdout",
       "text": [
        "\n",
        "scraping: http://thinkprogress.org/justice/2014/12/02/3598082/one-woman-could-appoint-a-special-prosecutor-and-bring-justice-to-ferguson/"
       ]
      },
      {
       "output_type": "stream",
       "stream": "stdout",
       "text": [
        "\n",
        "scraping: http://instagram.com/p/wK44geAc5o/"
       ]
      },
      {
       "output_type": "stream",
       "stream": "stdout",
       "text": [
        "\n",
        "scraping: http://theconcourse.deadspin.com/the-american-justice-system-is-not-broken-1666445407"
       ]
      },
      {
       "output_type": "stream",
       "stream": "stdout",
       "text": [
        "\n",
        "scraping: https://www.youtube.com/watch?v=hLNNXCz9-gQ"
       ]
      },
      {
       "output_type": "stream",
       "stream": "stdout",
       "text": [
        "\n",
        "scraping: https://vine.co/v/Ov62ZLBnDZ5"
       ]
      },
      {
       "output_type": "stream",
       "stream": "stdout",
       "text": [
        "\n",
        "scraping: http://theblazingcenter.com/2014/12/3-posts-to-help-white-christians-understand-ferguson-and-the-eric-garner-conflict.html"
       ]
      },
      {
       "output_type": "stream",
       "stream": "stdout",
       "text": [
        "\n",
        "scraping: http://WeBelongTogether.org"
       ]
      },
      {
       "output_type": "stream",
       "stream": "stdout",
       "text": [
        "\n",
        "scraping: http://cnn.it/1y2S8zx"
       ]
      },
      {
       "output_type": "stream",
       "stream": "stdout",
       "text": [
        "\n",
        "scraping: http://www.dailykos.com/story/2014/12/03/1349195/-That-Missouri-Deadly-Force-Statute-The-Story-Just-Got-Worse"
       ]
      },
      {
       "output_type": "stream",
       "stream": "stdout",
       "text": [
        "\n",
        "scraping: http://revolution-news.com/live-protest-eric-garner-no-indictment-decision/"
       ]
      },
      {
       "output_type": "stream",
       "stream": "stdout",
       "text": [
        "\n",
        "scraping: http://www.thenation.com/blog/191921/not-protest-it-uprising"
       ]
      },
      {
       "output_type": "stream",
       "stream": "stdout",
       "text": [
        "\n",
        "scraping: http://ti.me/1oRASLm?xid=pinnion"
       ]
      },
      {
       "output_type": "stream",
       "stream": "stdout",
       "text": [
        "\n",
        "scraping: http://fb.me/6QB8QkCez"
       ]
      },
      {
       "output_type": "stream",
       "stream": "stdout",
       "text": [
        "\n",
        "scraping: http://instagram.com/p/wKxl1iCruA/"
       ]
      },
      {
       "output_type": "stream",
       "stream": "stdout",
       "text": [
        "\n",
        "scraping: https://vine.co/v/OvX1FY1Uv0V"
       ]
      },
      {
       "output_type": "stream",
       "stream": "stdout",
       "text": [
        "\n",
        "scraping: http://twtd.by/CaseyNolen/bDUOgOENSH6"
       ]
      },
      {
       "output_type": "stream",
       "stream": "stdout",
       "text": [
        "\n",
        "scraping: https://vine.co/v/OvO9YEbEW6Y"
       ]
      },
      {
       "output_type": "stream",
       "stream": "stdout",
       "text": [
        "\n",
        "scraping: http://goo.gl/fb/6N3HeK"
       ]
      },
      {
       "output_type": "stream",
       "stream": "stdout",
       "text": [
        "\n",
        "scraping: http://goo.gl/fb/jXg0K4"
       ]
      },
      {
       "output_type": "stream",
       "stream": "stdout",
       "text": [
        "\n",
        "scraping: https://vine.co/v/OnHDnviP6lu"
       ]
      },
      {
       "output_type": "stream",
       "stream": "stdout",
       "text": [
        "\n",
        "scraping: http://instagram.com/p/wK4t8IudeC/"
       ]
      },
      {
       "output_type": "stream",
       "stream": "stdout",
       "text": [
        "\n",
        "scraping: http://www.elbeisman.com/article.php?action=read&id=479"
       ]
      },
      {
       "output_type": "stream",
       "stream": "stdout",
       "text": [
        "\n",
        "scraping: http://www.mediaite.com/online/examiner-rules-homocide-as-cause-of-death-for-man-in-nypd-chokehold/"
       ]
      },
      {
       "output_type": "stream",
       "stream": "stdout",
       "text": [
        "\n",
        "scraping: http://ibdn.uz/FkuQm"
       ]
      },
      {
       "output_type": "stream",
       "stream": "stdout",
       "text": [
        "\n",
        "scraping: https://www.youtube.com/embed/MZiegNiE6f0"
       ]
      },
      {
       "output_type": "stream",
       "stream": "stdout",
       "text": [
        "\n",
        "scraping: https://vine.co/v/OvXeqgQEumq"
       ]
      },
      {
       "output_type": "stream",
       "stream": "stdout",
       "text": [
        "\n",
        "scraping: http://ustre.am/1inZW"
       ]
      },
      {
       "output_type": "stream",
       "stream": "stdout",
       "text": [
        "\n",
        "scraping: http://www.ustream.tv/stopmotionsolo?utm_campaign=t.co&utm_source=9943232&utm_medium=social"
       ]
      },
      {
       "output_type": "stream",
       "stream": "stdout",
       "text": [
        "\n",
        "scraping: http://ln.is/wp.me/IGjoS"
       ]
      },
      {
       "output_type": "stream",
       "stream": "stdout",
       "text": [
        "\n",
        "scraping: http://m.democracynow.org/stories/14671"
       ]
      },
      {
       "output_type": "stream",
       "stream": "stdout",
       "text": [
        "\n",
        "scraping: http://ln.is/www.bbc.com/news/98kn2"
       ]
      },
      {
       "output_type": "stream",
       "stream": "stdout",
       "text": [
        "\n",
        "scraping: http://www.huffingtonpost.com/michael-yaki/the-second-civil-rights-m_b_6249854.html?utm_hp_ref=politics"
       ]
      },
      {
       "output_type": "stream",
       "stream": "stdout",
       "text": [
        "\n",
        "scraping: http://fb.me/7j1pYWtGO"
       ]
      },
      {
       "output_type": "stream",
       "stream": "stdout",
       "text": [
        "\n",
        "scraping: http://fb.me/285UJpnpd"
       ]
      },
      {
       "output_type": "stream",
       "stream": "stdout",
       "text": [
        "\n",
        "scraping: http://bornagainholyhiphopmovement.podbean.com/e/210-holy-hip-hop-blessed-are-the-peacemakersour-thoughts-on-ferguson-fegurson-revolutionthou-lecrae-thisl/"
       ]
      },
      {
       "output_type": "stream",
       "stream": "stdout",
       "text": [
        "\n",
        "scraping: http://ustre.am/1hMBw"
       ]
      },
      {
       "output_type": "stream",
       "stream": "stdout",
       "text": [
        "\n",
        "scraping: http://bit.ly/1yFXzEr"
       ]
      },
      {
       "output_type": "stream",
       "stream": "stdout",
       "text": [
        "\n",
        "scraping: http://thedailyshow.cc.com/videos/jk6lyk/american-hands-stand?utm=share_twitter"
       ]
      },
      {
       "output_type": "stream",
       "stream": "stdout",
       "text": [
        "\n",
        "scraping: http://www.marchforward.org/veterans_appeal_to_national"
       ]
      },
      {
       "output_type": "stream",
       "stream": "stdout",
       "text": [
        "\n",
        "scraping: https://vine.co/v/O16rxmEEiLz"
       ]
      },
      {
       "output_type": "stream",
       "stream": "stdout",
       "text": [
        "\n",
        "scraping: http://mobile.nytimes.com/2014/12/04/opinion/new-inquiry-needed-on-eric-garners-death.html?referrer=&_r=0"
       ]
      },
      {
       "output_type": "stream",
       "stream": "stdout",
       "text": [
        "\n",
        "scraping: https://www.youtube.com/watch?v=9bOjc70f4p8"
       ]
      },
      {
       "output_type": "stream",
       "stream": "stdout",
       "text": [
        "\n",
        "scraping: http://talkingpointsmemo.com/livewire/princeton-experts-say-us-no-longer-democracy"
       ]
      },
      {
       "output_type": "stream",
       "stream": "stdout",
       "text": [
        "\n",
        "scraping: http://news.newslnk.tk/DYm"
       ]
      },
      {
       "output_type": "stream",
       "stream": "stdout",
       "text": [
        "\n",
        "scraping: http://instagram.com/p/wKR7udLR8t/"
       ]
      },
      {
       "output_type": "stream",
       "stream": "stdout",
       "text": [
        "\n",
        "scraping: http://ahwd.tv/qQfcyk"
       ]
      },
      {
       "output_type": "stream",
       "stream": "stdout",
       "text": [
        "\n",
        "scraping: http://ecd.bavaweb.com/iavy8.html?group=tw"
       ]
      },
      {
       "output_type": "stream",
       "stream": "stdout",
       "text": [
        "\n",
        "scraping: http://usat.ly/1yRdhg0"
       ]
      },
      {
       "output_type": "stream",
       "stream": "stdout",
       "text": [
        "\n",
        "scraping: http://fb.me/2OjUYRDfs"
       ]
      },
      {
       "output_type": "stream",
       "stream": "stdout",
       "text": [
        "\n",
        "scraping: http://ow.ly/ETWsZ"
       ]
      },
      {
       "output_type": "stream",
       "stream": "stdout",
       "text": [
        "\n",
        "scraping: http://ow.ly/FfLZ6"
       ]
      },
      {
       "output_type": "stream",
       "stream": "stdout",
       "text": [
        "\n",
        "scraping: http://instagram.com/p/wKvvNHrRya/"
       ]
      },
      {
       "output_type": "stream",
       "stream": "stdout",
       "text": [
        "\n",
        "scraping: http://www.washingtonpost.com/news/volokh-conspiracy/wp/2014/12/02/why-michael-browns-best-friends-story-is-incredible/"
       ]
      },
      {
       "output_type": "stream",
       "stream": "stdout",
       "text": [
        "\n",
        "scraping: https://www.youtube.com/watch?v=tgV8L7oghK0"
       ]
      },
      {
       "output_type": "stream",
       "stream": "stdout",
       "text": [
        "\n",
        "scraping: http://webchat.anonops.com/?channels=opferguson"
       ]
      },
      {
       "output_type": "stream",
       "stream": "stdout",
       "text": [
        "\n",
        "scraping: http://news.newslnk.tk/DYl"
       ]
      },
      {
       "output_type": "stream",
       "stream": "stdout",
       "text": [
        "\n",
        "scraping: http://news.newslnk.tk/DYk"
       ]
      },
      {
       "output_type": "stream",
       "stream": "stdout",
       "text": [
        "\n",
        "scraping: http://go.nbx.me/7jvMnn"
       ]
      },
      {
       "output_type": "stream",
       "stream": "stdout",
       "text": [
        "\n",
        "scraping: http://www.cnn.com/2014/12/03/opinion/liu-meaning-ferguson-protests/index.html?sr=sharebar_twitter"
       ]
      },
      {
       "output_type": "stream",
       "stream": "stdout",
       "text": [
        "\n",
        "scraping: http://www.thedenverchannel.com/news/local-news/east-high-school-protest-blocks-denver-streets"
       ]
      },
      {
       "output_type": "stream",
       "stream": "stdout",
       "text": [
        "\n",
        "scraping: http://abc7ne.ws/1yd6z5l"
       ]
      },
      {
       "output_type": "stream",
       "stream": "stdout",
       "text": [
        "\n",
        "scraping: http://www.rzim.org/blog/cultural-issues/from-kiev-to-ferguson-stable-words-in-an-unstable-world/"
       ]
      },
      {
       "output_type": "stream",
       "stream": "stdout",
       "text": [
        "\n",
        "scraping: https://www.youtube.com/watch?v=R_AOoNq8hQQ&utm_content=buffer218c6&utm_medium=social&utm_source=twitter.com&utm_campaign=buffer"
       ]
      },
      {
       "output_type": "stream",
       "stream": "stdout",
       "text": [
        "\n",
        "scraping: http://a.msn.com/01/en-us/BBgioBK"
       ]
      },
      {
       "output_type": "stream",
       "stream": "stdout",
       "text": [
        "\n",
        "scraping: http://gotnews.com/?p=2784"
       ]
      },
      {
       "output_type": "stream",
       "stream": "stdout",
       "text": [
        "\n",
        "scraping: http://jwesquire.com/2014/11/28/do-you-think-theyll-have-a-black-friday-sale-on-white-privilege/"
       ]
      },
      {
       "output_type": "stream",
       "stream": "stdout",
       "text": [
        "\n",
        "scraping: http://sfappeal.com/2014/12/man-arrested-for-allegedly-battering-resisting-sfpd-during-ferguson-black-friday-protest/"
       ]
      },
      {
       "output_type": "stream",
       "stream": "stdout",
       "text": [
        "\n",
        "scraping: http://instagram.com/p/wK4Xzcx7F9/"
       ]
      },
      {
       "output_type": "stream",
       "stream": "stdout",
       "text": [
        "\n",
        "scraping: http://www.hiaw.org/garner/"
       ]
      },
      {
       "output_type": "stream",
       "stream": "stdout",
       "text": [
        "\n",
        "scraping: http://cnn.it/1vmWksC"
       ]
      },
      {
       "output_type": "stream",
       "stream": "stdout",
       "text": [
        "\n",
        "scraping: https://vine.co/v/OvXvXIMUh0B"
       ]
      },
      {
       "output_type": "stream",
       "stream": "stdout",
       "text": [
        "\n",
        "scraping: http://www.myfoxdc.com/story/27510324/rams-raise-arms-in-apparent-show-of-solidarity"
       ]
      },
      {
       "output_type": "stream",
       "stream": "stdout",
       "text": [
        "\n",
        "scraping: http://www.earthcam.com/usa/newyork/timessquare/?cam=tsstreet"
       ]
      },
      {
       "output_type": "stream",
       "stream": "stdout",
       "text": [
        "\n",
        "scraping: https://vine.co/v/OvXbvDKOX1n"
       ]
      },
      {
       "output_type": "stream",
       "stream": "stdout",
       "text": [
        "\n",
        "scraping: http://bit.ly/1FO1sJG"
       ]
      },
      {
       "output_type": "stream",
       "stream": "stdout",
       "text": [
        "\n",
        "scraping: http://bit.ly/11V9Gl0"
       ]
      },
      {
       "output_type": "stream",
       "stream": "stdout",
       "text": [
        "\n",
        "scraping: http://instagram.com/p/wK4Tx0kZId/"
       ]
      },
      {
       "output_type": "stream",
       "stream": "stdout",
       "text": [
        "\n",
        "scraping: http://share.myflare.com/pVdFdD"
       ]
      },
      {
       "output_type": "stream",
       "stream": "stdout",
       "text": [
        "\n",
        "scraping: https://www.youtube.com/watch?v=3vOJCQr1Now"
       ]
      },
      {
       "output_type": "stream",
       "stream": "stdout",
       "text": [
        "\n",
        "scraping: http://po.st/V3iQK8"
       ]
      },
      {
       "output_type": "stream",
       "stream": "stdout",
       "text": [
        "\n",
        "scraping: http://fb.me/2q4Uf1eAn"
       ]
      },
      {
       "output_type": "stream",
       "stream": "stdout",
       "text": [
        "\n",
        "scraping: http://news.yahoo.com/morning-joe-ferguson-rant-hands-in-the-air-video-144216477.html?soc_src=mediacontentstory&soc_trk=tw"
       ]
      },
      {
       "output_type": "stream",
       "stream": "stdout",
       "text": [
        "\n",
        "scraping: https://www.youtube.com/watch?v=zMOj8eQt4b4"
       ]
      },
      {
       "output_type": "stream",
       "stream": "stdout",
       "text": [
        "\n",
        "scraping: http://www.truthrevolt.org/videos/ben-shapiro-katy-perry-cher-and-macklemore-all-lie-about-ferguson"
       ]
      },
      {
       "output_type": "stream",
       "stream": "stdout",
       "text": [
        "\n",
        "scraping: https://vine.co/v/OvXvzugWFj3"
       ]
      },
      {
       "output_type": "stream",
       "stream": "stdout",
       "text": [
        "\n",
        "scraping: http://ln.is/www.dailykos.com/sto/N2AdE"
       ]
      },
      {
       "output_type": "stream",
       "stream": "stdout",
       "text": [
        "\n",
        "scraping: http://www.rightnow.io/breaking-news/madrid-marchasdeladignidad-marchas29n_bn_1417280014615.html"
       ]
      },
      {
       "output_type": "stream",
       "stream": "stdout",
       "text": [
        "\n",
        "scraping: http://tmblr.co/ZHwofx1X8cPpz"
       ]
      },
      {
       "output_type": "stream",
       "stream": "stdout",
       "text": [
        "\n",
        "scraping: https://www.aclum.org/stopandfrisk"
       ]
      },
      {
       "output_type": "stream",
       "stream": "stdout",
       "text": [
        "\n",
        "scraping: http://trib.al/6hA53oe"
       ]
      },
      {
       "output_type": "stream",
       "stream": "stdout",
       "text": [
        "\n",
        "scraping: http://instagram.com/p/wK1Mz8TQn0/"
       ]
      },
      {
       "output_type": "stream",
       "stream": "stdout",
       "text": [
        "\n",
        "scraping: http://bit.ly/ZxXB3d"
       ]
      },
      {
       "output_type": "stream",
       "stream": "stdout",
       "text": [
        "\n",
        "scraping: http://fxn.ws/1HUzdeu"
       ]
      },
      {
       "output_type": "stream",
       "stream": "stdout",
       "text": [
        "\n",
        "scraping: http://ift.tt/1fEtfhi"
       ]
      },
      {
       "output_type": "stream",
       "stream": "stdout",
       "text": [
        "\n",
        "scraping: http://mybs.in/2QjZB7I"
       ]
      },
      {
       "output_type": "stream",
       "stream": "stdout",
       "text": [
        "\n",
        "scraping: https://www.youtube.com/watch?v=vWHAf70RP8s"
       ]
      },
      {
       "output_type": "stream",
       "stream": "stdout",
       "text": [
        "\n",
        "scraping: http://www.sltrib.com/opinion/1904680-155/bagley-cartoon-officer-no-so-friendly"
       ]
      },
      {
       "output_type": "stream",
       "stream": "stdout",
       "text": [
        "\n",
        "scraping: https://www.youtube.com/watch?v=aw06ANLJNAQ"
       ]
      },
      {
       "output_type": "stream",
       "stream": "stdout",
       "text": [
        "\n",
        "scraping: http://tashasays.com/blacks-get-away-crime/"
       ]
      },
      {
       "output_type": "stream",
       "stream": "stdout",
       "text": [
        "\n",
        "scraping: https://medium.com/on-archivy/an-invitation-to-study-ferguson-367b423cff29"
       ]
      },
      {
       "output_type": "stream",
       "stream": "stdout",
       "text": [
        "\n",
        "scraping: http://ow.ly/Fb2cY"
       ]
      },
      {
       "output_type": "stream",
       "stream": "stdout",
       "text": [
        "\n",
        "scraping: http://www.vox.com/xpress/2014/12/2/7319597/ferguson-grand-jury-poll?utm_medium=social&utm_source=twitter&utm_campaign=vox&utm_content=article-share-top"
       ]
      },
      {
       "output_type": "stream",
       "stream": "stdout",
       "text": [
        "\n",
        "scraping: http://sfy.co/i03e6"
       ]
      },
      {
       "output_type": "stream",
       "stream": "stdout",
       "text": [
        "\n",
        "scraping: http://buff.ly/1tKq9hB"
       ]
      },
      {
       "output_type": "stream",
       "stream": "stdout",
       "text": [
        "\n",
        "scraping: http://buff.ly/1tKq7qc"
       ]
      },
      {
       "output_type": "stream",
       "stream": "stdout",
       "text": [
        "\n",
        "scraping: http://www.upworthy.com/a-16-year-old-kid-in-ferguson-says-more-with-a-marker-and-a-piece-of-paper-than-all-the-media-did?g=2&c=reccon3"
       ]
      },
      {
       "output_type": "stream",
       "stream": "stdout",
       "text": [
        "\n",
        "scraping: http://www.ocregister.com/video/v/1628003509001/crime-fullerton-government"
       ]
      },
      {
       "output_type": "stream",
       "stream": "stdout",
       "text": [
        "\n",
        "scraping: http://ian56.blogspot.com/2014/10/in-america-fear-is-growing-that-police.html"
       ]
      },
      {
       "output_type": "stream",
       "stream": "stdout",
       "text": [
        "\n",
        "scraping: http://mobile.reuters.com/article/idUKKCN0J92MW20141126?irpc=932"
       ]
      },
      {
       "output_type": "stream",
       "stream": "stdout",
       "text": [
        "\n",
        "scraping: https://vine.co/v/Ovg7jtIdw5m"
       ]
      },
      {
       "output_type": "stream",
       "stream": "stdout",
       "text": [
        "\n",
        "scraping: http://hubs.ly/y0lgLM0"
       ]
      },
      {
       "output_type": "stream",
       "stream": "stdout",
       "text": [
        "\n",
        "scraping: http://www.washingtonexaminer.com/msnbcs-scarborough-on-ferguson-coverage-doing-grave-disservice-to-police/article/2556797"
       ]
      },
      {
       "output_type": "stream",
       "stream": "stdout",
       "text": [
        "\n",
        "scraping: http://new.livestream.com/JamesFromTheInternet/events/3634145"
       ]
      },
      {
       "output_type": "stream",
       "stream": "stdout",
       "text": [
        "\n",
        "scraping: http://ln.is/shar.es/B44NM"
       ]
      },
      {
       "output_type": "stream",
       "stream": "stdout",
       "text": [
        "\n",
        "scraping: http://ln.is/www.youtube.com/U8XTU"
       ]
      },
      {
       "output_type": "stream",
       "stream": "stdout",
       "text": [
        "\n",
        "scraping: http://fb.me/1H9kcv48S"
       ]
      },
      {
       "output_type": "stream",
       "stream": "stdout",
       "text": [
        "\n",
        "scraping: http://www.afsc.org/friends/blessed-are-peacemakers"
       ]
      },
      {
       "output_type": "stream",
       "stream": "stdout",
       "text": [
        "\n",
        "scraping: http://tmblr.co/Z9PbXy1X8gnnP"
       ]
      },
      {
       "output_type": "stream",
       "stream": "stdout",
       "text": [
        "\n",
        "scraping: https://vine.co/v/OvgIibA9tMm"
       ]
      },
      {
       "output_type": "stream",
       "stream": "stdout",
       "text": [
        "\n",
        "scraping: http://dlvr.it/7jtyzt"
       ]
      },
      {
       "output_type": "stream",
       "stream": "stdout",
       "text": [
        "\n",
        "scraping: http://www.ZemirBegic.com"
       ]
      },
      {
       "output_type": "stream",
       "stream": "stdout",
       "text": [
        "\n",
        "scraping: http://time.com/3606900/ferguson-asian-americans/"
       ]
      },
      {
       "output_type": "stream",
       "stream": "stdout",
       "text": [
        "\n",
        "scraping: http://ow.ly/FjRlt"
       ]
      },
      {
       "output_type": "stream",
       "stream": "stdout",
       "text": [
        "\n",
        "scraping: http://www.gofundme.com/i6owfc"
       ]
      },
      {
       "output_type": "stream",
       "stream": "stdout",
       "text": [
        "\n",
        "scraping: http://instagram.com/p/wK38Vhs_Yx/"
       ]
      },
      {
       "output_type": "stream",
       "stream": "stdout",
       "text": [
        "\n",
        "scraping: http://rare.us/story/milwaukee-sheriff-tells-megyn-kelly-how-obama-and-eric-holder-have-hurt-america/"
       ]
      },
      {
       "output_type": "stream",
       "stream": "stdout",
       "text": [
        "\n",
        "scraping: http://shar.es/1XL88V"
       ]
      },
      {
       "output_type": "stream",
       "stream": "stdout",
       "text": [
        "\n",
        "scraping: http://ustre.am/:3Nk81"
       ]
      },
      {
       "output_type": "stream",
       "stream": "stdout",
       "text": [
        "\n",
        "scraping: http://bit.ly/jackstake"
       ]
      },
      {
       "output_type": "stream",
       "stream": "stdout",
       "text": [
        "\n",
        "scraping: https://www.youtube.com/watch?v=NvFG6jH_ocY"
       ]
      },
      {
       "output_type": "stream",
       "stream": "stdout",
       "text": [
        "\n",
        "scraping: http://tmblr.co/ZoI3ww1X8gYFp"
       ]
      },
      {
       "output_type": "stream",
       "stream": "stdout",
       "text": [
        "\n",
        "scraping: http://qz.com/306243/crimingwhilewhite-white-people-on-twitter-are-confessing-to-crimes-that-black-people-are-prosecuted-for/"
       ]
      },
      {
       "output_type": "stream",
       "stream": "stdout",
       "text": [
        "\n",
        "scraping: http://cbsn.ws/1vZUcJM"
       ]
      },
      {
       "output_type": "stream",
       "stream": "stdout",
       "text": [
        "\n",
        "scraping: http://s.oregonlive.com/uLkgKkI"
       ]
      },
      {
       "output_type": "stream",
       "stream": "stdout",
       "text": [
        "\n",
        "scraping: http://zemirbegic.com/2014/12/04/from-usa-today-hammer-slaying-zemir-begics-family-gathers-to-mourn/"
       ]
      },
      {
       "output_type": "stream",
       "stream": "stdout",
       "text": [
        "\n",
        "scraping: http://ustre.am/GVjs"
       ]
      },
      {
       "output_type": "stream",
       "stream": "stdout",
       "text": [
        "\n",
        "scraping: http://bit.ly/1tND7LI"
       ]
      },
      {
       "output_type": "stream",
       "stream": "stdout",
       "text": [
        "\n",
        "scraping: http://twitrpix.com/c6evz"
       ]
      },
      {
       "output_type": "stream",
       "stream": "stdout",
       "text": [
        "\n",
        "scraping: http://gotnews.com/?p=2961"
       ]
      },
      {
       "output_type": "stream",
       "stream": "stdout",
       "text": [
        "\n",
        "scraping: http://www.rightnow.io/breaking-news/-ferguson_bn_1416794085999.html"
       ]
      },
      {
       "output_type": "stream",
       "stream": "stdout",
       "text": [
        "\n",
        "scraping: http://slate.me/1rWoSEC"
       ]
      },
      {
       "output_type": "stream",
       "stream": "stdout",
       "text": [
        "\n",
        "scraping: https://vine.co/v/OvX1WPXaVLu"
       ]
      },
      {
       "output_type": "stream",
       "stream": "stdout",
       "text": [
        "\n",
        "scraping: http://www.thenation.com/article/191881/open-letter-charles-barkley"
       ]
      },
      {
       "output_type": "stream",
       "stream": "stdout",
       "text": [
        "\n",
        "scraping: http://twitchy.com/2014/12/03/nothing-says-committed-social-justice-activist-like-watching-youtube-taking-selfies-during-die-in/"
       ]
      },
      {
       "output_type": "stream",
       "stream": "stdout",
       "text": [
        "\n",
        "scraping: http://ustre.am/FIGI"
       ]
      },
      {
       "output_type": "stream",
       "stream": "stdout",
       "text": [
        "\n",
        "scraping: http://bit.ly/1tONsHh"
       ]
      },
      {
       "output_type": "stream",
       "stream": "stdout",
       "text": [
        "\n",
        "scraping: http://sp.lc/1BKJc5q"
       ]
      },
      {
       "output_type": "stream",
       "stream": "stdout",
       "text": [
        "\n",
        "scraping: http://www.theatlantic.com/national/archive/2014/11/Ferguson-National-Response-Network-Ferguson-Action-Plan-Country-Wide-Protests-Darren-Wilson-Grand-Jury-Announcement/383002/"
       ]
      },
      {
       "output_type": "stream",
       "stream": "stdout",
       "text": [
        "\n",
        "scraping: http://ow.ly/F7fAN"
       ]
      },
      {
       "output_type": "stream",
       "stream": "stdout",
       "text": [
        "\n",
        "scraping: http://www.mediaite.com/tv/former-rnc-chair-michael-steele-a-black-mans-life-is-not-worth-a-ham-sandwich/"
       ]
      },
      {
       "output_type": "stream",
       "stream": "stdout",
       "text": [
        "\n",
        "scraping: http://make12.com/media.php?pageID=10"
       ]
      },
      {
       "output_type": "stream",
       "stream": "stdout",
       "text": [
        "\n",
        "scraping: http://www.dailykos.com/story/2014/12/03/1348815/-Cartoon-Uncivil-defense"
       ]
      },
      {
       "output_type": "stream",
       "stream": "stdout",
       "text": [
        "\n",
        "scraping: http://www.infowars.com/family-demands-hate-crime-charges-for-murderers-of-zemir-begic/"
       ]
      },
      {
       "output_type": "stream",
       "stream": "stdout",
       "text": [
        "\n",
        "scraping: http://www.reddirtreport.com/red-dirt-news/far-right-leader-accused-racist-statements-regarding-ferguson-protests"
       ]
      },
      {
       "output_type": "stream",
       "stream": "stdout",
       "text": [
        "\n",
        "scraping: https://www.youtube.com/watch?v=MRfsT5eQoGQ"
       ]
      },
      {
       "output_type": "stream",
       "stream": "stdout",
       "text": [
        "\n",
        "scraping: http://lifenews.com/2014/11/26/sin"
       ]
      },
      {
       "output_type": "stream",
       "stream": "stdout",
       "text": [
        "\n",
        "scraping: http://larryferlazzo.edublogs.org/2014/11/25/the-best-resources-on-ferguson-for-use-in-the-classroom/"
       ]
      },
      {
       "output_type": "stream",
       "stream": "stdout",
       "text": [
        "\n",
        "scraping: http://www.ksdk.com/story/news/local/2014/11/30/stl-police-officers-association-condemns-rams-display/19721979/?hootPostID=56e4d621f410c5ee1ef0c0b0696f34f8"
       ]
      },
      {
       "output_type": "stream",
       "stream": "stdout",
       "text": [
        "\n",
        "scraping: http://www.thedailybeast.com/articles/2014/08/15/the-day-ferguson-cops-were-caught-in-a-bloody-lie.html"
       ]
      },
      {
       "output_type": "stream",
       "stream": "stdout",
       "text": [
        "\n",
        "scraping: http://www.slate.com/articles/news_and_politics/politics/2014/12/daniel_pantaleo_not_indicted_why_the_nypd_officer_wasn_t_indicted_in_the.html"
       ]
      },
      {
       "output_type": "stream",
       "stream": "stdout",
       "text": [
        "\n",
        "scraping: http://gotnews.com/?p=2864"
       ]
      },
      {
       "output_type": "stream",
       "stream": "stdout",
       "text": [
        "\n",
        "scraping: http://wannabeanglican.blogspot.com/2014/12/black-racism-and-ferguson.html"
       ]
      },
      {
       "output_type": "stream",
       "stream": "stdout",
       "text": [
        "\n",
        "scraping: http://www.nbcphiladelphia.com/news/local/Die-In-Expected-to-Disrupt-Rush-Hour-in-Center-City-284646251.html"
       ]
      },
      {
       "output_type": "stream",
       "stream": "stdout",
       "text": [
        "\n",
        "scraping: http://edition.cnn.com/2014/12/03/justice/new-york-grand-jury-chokehold/index.html?hpt=hp_t1"
       ]
      },
      {
       "output_type": "stream",
       "stream": "stdout",
       "text": [
        "\n",
        "scraping: http://instagram.com/p/wJ84DvlYTW/"
       ]
      },
      {
       "output_type": "stream",
       "stream": "stdout",
       "text": [
        "\n",
        "scraping: http://www.nydailynews.com/news/national/michael-brown-stepdad-apologizes-ferguson-comments-article-1.2031486"
       ]
      },
      {
       "output_type": "stream",
       "stream": "stdout",
       "text": [
        "\n",
        "scraping: http://tinyurl.com/ly2tcfm"
       ]
      },
      {
       "output_type": "stream",
       "stream": "stdout",
       "text": [
        "\n",
        "scraping: http://stlforward.com"
       ]
      },
      {
       "output_type": "stream",
       "stream": "stdout",
       "text": [
        "\n",
        "scraping: http://www.thefederalistpapers.org/us/this-is-what-darren-wilson-was-doing-to-a-black-child-just-before-shooting-mike-brown"
       ]
      },
      {
       "output_type": "stream",
       "stream": "stdout",
       "text": [
        "\n",
        "scraping: http://instagram.com/p/wK3jbcGhP6/"
       ]
      },
      {
       "output_type": "stream",
       "stream": "stdout",
       "text": [
        "\n",
        "scraping: https://vine.co/v/Ov6wHB17njZ"
       ]
      },
      {
       "output_type": "stream",
       "stream": "stdout",
       "text": [
        "\n",
        "scraping: http://twitter.com/iamnotajerk/status/540347688709939201/photo/1"
       ]
      },
      {
       "output_type": "stream",
       "stream": "stdout",
       "text": [
        "\n",
        "scraping: http://bit.ly/1vLZCok"
       ]
      },
      {
       "output_type": "stream",
       "stream": "stdout",
       "text": [
        "\n",
        "scraping: http://thkpr.gs/3598082"
       ]
      },
      {
       "output_type": "stream",
       "stream": "stdout",
       "text": [
        "\n",
        "scraping: http://fb.me/6VvDKUjYL"
       ]
      },
      {
       "output_type": "stream",
       "stream": "stdout",
       "text": [
        "\n",
        "scraping: http://ow.ly/i/7OzwV"
       ]
      },
      {
       "output_type": "stream",
       "stream": "stdout",
       "text": [
        "\n",
        "scraping: http://goo.gl/cEIvlk"
       ]
      },
      {
       "output_type": "stream",
       "stream": "stdout",
       "text": [
        "\n",
        "scraping: http://wp.me/p3ISob-3tv"
       ]
      },
      {
       "output_type": "stream",
       "stream": "stdout",
       "text": [
        "\n",
        "scraping: http://bit.ly/1HZKudr"
       ]
      },
      {
       "output_type": "stream",
       "stream": "stdout",
       "text": [
        "\n",
        "scraping: http://ow.ly/E9TRr"
       ]
      },
      {
       "output_type": "stream",
       "stream": "stdout",
       "text": [
        "\n",
        "scraping: http://goo.gl/33B4El"
       ]
      },
      {
       "output_type": "stream",
       "stream": "stdout",
       "text": [
        "\n",
        "scraping: http://po.st/glrUNW"
       ]
      },
      {
       "output_type": "stream",
       "stream": "stdout",
       "text": [
        "\n",
        "scraping: http://www.americanthinker.com/articles/2014/12/leftist_organizers_are_using_ferguson_to_rehearse_the_big_ugly_.html#.VH-chbexS1g.twitter"
       ]
      },
      {
       "output_type": "stream",
       "stream": "stdout",
       "text": [
        "\n",
        "scraping: https://www.youtube.com/watch?v=E5qoQteYnaY"
       ]
      },
      {
       "output_type": "stream",
       "stream": "stdout",
       "text": [
        "\n",
        "scraping: http://wp.me/p1IUCf-1vM"
       ]
      },
      {
       "output_type": "stream",
       "stream": "stdout",
       "text": [
        "\n",
        "scraping: http://www.newsmax.com/newswidget/Thomas-Sowell-Hoover-blacks-paying/2014/12/03/id/610877/?Dkt_nbr=11550-1&nmx_source=Breitbart&nmx_medium=widget&nmx_content=112&nmx_campaign=widgetphase2"
       ]
      },
      {
       "output_type": "stream",
       "stream": "stdout",
       "text": [
        "\n",
        "scraping: http://ow.ly/FgMQG"
       ]
      },
      {
       "output_type": "stream",
       "stream": "stdout",
       "text": [
        "\n",
        "scraping: http://fb.me/2NQBFfxAv"
       ]
      },
      {
       "output_type": "stream",
       "stream": "stdout",
       "text": [
        "\n",
        "scraping: http://www.boost1019.com"
       ]
      },
      {
       "output_type": "stream",
       "stream": "stdout",
       "text": [
        "\n",
        "scraping: http://ow.ly/FgMT9"
       ]
      },
      {
       "output_type": "stream",
       "stream": "stdout",
       "text": [
        "\n",
        "scraping: http://ow.ly/i/7NL6b"
       ]
      },
      {
       "output_type": "stream",
       "stream": "stdout",
       "text": [
        "\n",
        "scraping: http://ow.ly/FgMTd"
       ]
      },
      {
       "output_type": "stream",
       "stream": "stdout",
       "text": [
        "\n",
        "scraping: http://ow.ly/i/7NL6b"
       ]
      },
      {
       "output_type": "stream",
       "stream": "stdout",
       "text": [
        "\n",
        "scraping: http://ow.ly/FgMQG"
       ]
      },
      {
       "output_type": "stream",
       "stream": "stdout",
       "text": [
        "\n",
        "scraping: http://fb.me/1FTg2lIrN"
       ]
      },
      {
       "output_type": "stream",
       "stream": "stdout",
       "text": [
        "\n",
        "scraping: http://po.st/TL4L0q"
       ]
      },
      {
       "output_type": "stream",
       "stream": "stdout",
       "text": [
        "\n",
        "scraping: http://tomyunbornson.tumblr.com"
       ]
      },
      {
       "output_type": "stream",
       "stream": "stdout",
       "text": [
        "\n",
        "scraping: https://www.youtube.com/watch?v=JrJyvrNTFoM"
       ]
      },
      {
       "output_type": "stream",
       "stream": "stdout",
       "text": [
        "\n",
        "scraping: http://po.st/LPPFWG"
       ]
      },
      {
       "output_type": "stream",
       "stream": "stdout",
       "text": [
        "\n",
        "scraping: http://ow.ly/Fkqyd"
       ]
      },
      {
       "output_type": "stream",
       "stream": "stdout",
       "text": [
        "\n",
        "scraping: http://myaccount.maestroconference.com/conference/register/EDIUKOHO7HMGE5I9"
       ]
      },
      {
       "output_type": "stream",
       "stream": "stdout",
       "text": [
        "\n",
        "scraping: https://www.youtube.com/watch?v=B092acMImJE"
       ]
      },
      {
       "output_type": "stream",
       "stream": "stdout",
       "text": [
        "\n",
        "scraping: http://instagram.com/p/wKpfIoTcfH/"
       ]
      },
      {
       "output_type": "stream",
       "stream": "stdout",
       "text": [
        "\n",
        "scraping: http://bit.ly/1CFZlJL"
       ]
      },
      {
       "output_type": "stream",
       "stream": "stdout",
       "text": [
        "\n",
        "scraping: http://instagram.com/p/wK0YkxxVsK/"
       ]
      },
      {
       "output_type": "stream",
       "stream": "stdout",
       "text": [
        "\n",
        "scraping: http://video.foxnews.com/v/3922142554001/gutfeld-media-still-picking-good-guys-bad-guys/"
       ]
      },
      {
       "output_type": "stream",
       "stream": "stdout",
       "text": [
        "\n",
        "scraping: http://friend.christianpost.com/people/FiredRain/comment.html"
       ]
      },
      {
       "output_type": "stream",
       "stream": "stdout",
       "text": [
        "\n",
        "scraping: https://www.youtube.com/watch?v=T4HUvXOvgkQ&app=desktop"
       ]
      },
      {
       "output_type": "stream",
       "stream": "stdout",
       "text": [
        "\n",
        "scraping: http://zemirbegic.com/2014/12/04/from-los-angeles-nonpartisan-media-ignores-hate-crime-against-bosnian-zemir-begic/"
       ]
      },
      {
       "output_type": "stream",
       "stream": "stdout",
       "text": [
        "\n",
        "scraping: http://dpo.st/1vkOxH9"
       ]
      },
      {
       "output_type": "stream",
       "stream": "stdout",
       "text": [
        "\n",
        "scraping: http://blogs.riverfronttimes.com/dailyrft/2014/12/jon_stewart_talks_ferguson_on_back-to-back_episodes_of_the_daily_show.php"
       ]
      },
      {
       "output_type": "stream",
       "stream": "stdout",
       "text": [
        "\n",
        "scraping: http://walidahimarisha.tumblr.com/post/104182580165/ferguson-hug-photo-staged-cropped-to-send-clear"
       ]
      },
      {
       "output_type": "stream",
       "stream": "stdout",
       "text": [
        "\n",
        "scraping: http://www.gofundme.com/hv6utk"
       ]
      },
      {
       "output_type": "stream",
       "stream": "stdout",
       "text": [
        "\n",
        "scraping: http://m.youtube.com/watch?v=1yeA_kHHLow"
       ]
      },
      {
       "output_type": "stream",
       "stream": "stdout",
       "text": [
        "\n",
        "scraping: http://7online.com/news/eric-garners-family-reacts-to-grand-jurys-decision/421330/"
       ]
      },
      {
       "output_type": "stream",
       "stream": "stdout",
       "text": [
        "\n",
        "scraping: http://shar.es/1XLMyU"
       ]
      },
      {
       "output_type": "stream",
       "stream": "stdout",
       "text": [
        "\n",
        "scraping: http://bit.ly/1CH1sNw"
       ]
      },
      {
       "output_type": "stream",
       "stream": "stdout",
       "text": [
        "\n",
        "scraping: http://fb.me/6UpjqxFOC"
       ]
      },
      {
       "output_type": "stream",
       "stream": "stdout",
       "text": [
        "\n",
        "scraping: http://wp.me/p1kzlW-ofK"
       ]
      },
      {
       "output_type": "stream",
       "stream": "stdout",
       "text": [
        "\n",
        "scraping: http://bit.ly/1yjtJ8G"
       ]
      },
      {
       "output_type": "stream",
       "stream": "stdout",
       "text": [
        "\n",
        "scraping: http://j.mp/1ybH18F"
       ]
      },
      {
       "output_type": "stream",
       "stream": "stdout",
       "text": [
        "\n",
        "scraping: http://www.washingtontimes.com/news/2014/dec/3/andrew-napolitano-ferguson-riots-failures-of-racia/"
       ]
      },
      {
       "output_type": "stream",
       "stream": "stdout",
       "text": [
        "\n",
        "scraping: http://in-training.org/lack-care-medical-students-focus-ferguson-8031"
       ]
      },
      {
       "output_type": "stream",
       "stream": "stdout",
       "text": [
        "\n",
        "scraping: http://j.mp/11RuVDM"
       ]
      },
      {
       "output_type": "stream",
       "stream": "stdout",
       "text": [
        "\n",
        "scraping: http://AllenBWest.com"
       ]
      },
      {
       "output_type": "stream",
       "stream": "stdout",
       "text": [
        "\n",
        "scraping: http://po.st/q2Vj1C"
       ]
      },
      {
       "output_type": "stream",
       "stream": "stdout",
       "text": [
        "\n",
        "scraping: http://www.9news.com/story/news/military/2014/12/02/captain-william-h-dubois/19774337/"
       ]
      },
      {
       "output_type": "stream",
       "stream": "stdout",
       "text": [
        "\n",
        "scraping: http://bit.ly/1yPjCYm"
       ]
      },
      {
       "output_type": "stream",
       "stream": "stdout",
       "text": [
        "\n",
        "scraping: http://thenat.in/1I0SElT"
       ]
      },
      {
       "output_type": "stream",
       "stream": "stdout",
       "text": [
        "\n",
        "scraping: http://ChasePolitics.com"
       ]
      },
      {
       "output_type": "stream",
       "stream": "stdout",
       "text": [
        "\n",
        "scraping: http://sidizenkane.tumblr.com/post/104297510837/dear-fellow-nyc-protesters"
       ]
      },
      {
       "output_type": "stream",
       "stream": "stdout",
       "text": [
        "\n",
        "scraping: http://patriotupdate.com/2014/12/national-guardsmen-take-action-ferguson-protesters-burn-flag/"
       ]
      },
      {
       "output_type": "stream",
       "stream": "stdout",
       "text": [
        "\n",
        "scraping: http://www.theblaze.com/stories/2014/12/02/powerful-video-national-guard-troops-in-ferguson-recover-pieces-of-burned-american-flag/?utm_source=twitter&utm_medium=story&utm_campaign=ShareButtons"
       ]
      },
      {
       "output_type": "stream",
       "stream": "stdout",
       "text": [
        "\n",
        "scraping: http://www.mediaite.com/tv/megyn-kelly-hands-up-dont-shoot-might-be-lie-why-still-do-it/"
       ]
      },
      {
       "output_type": "stream",
       "stream": "stdout",
       "text": [
        "\n",
        "scraping: http://ustre.am/1c8mP"
       ]
      },
      {
       "output_type": "stream",
       "stream": "stdout",
       "text": [
        "\n",
        "scraping: http://www.inquisitr.com/1639235/dorian-johnson-darren-wilson-allies-reportedly-fighting-for-perjury-charges-against-michael-browns-friend/"
       ]
      },
      {
       "output_type": "stream",
       "stream": "stdout",
       "text": [
        "\n",
        "scraping: http://ow.ly/FjCpF"
       ]
      },
      {
       "output_type": "stream",
       "stream": "stdout",
       "text": [
        "\n",
        "scraping: http://www.gofundme.com/htk4zo"
       ]
      },
      {
       "output_type": "stream",
       "stream": "stdout",
       "text": [
        "\n",
        "scraping: http://podcast.cbc.ca/mp3/podcasts/current_20141125_40716.mp3"
       ]
      },
      {
       "output_type": "stream",
       "stream": "stdout",
       "text": [
        "\n",
        "scraping: http://podcast.cbc.ca/mp3/podcasts/current_20141119_46057.mp3"
       ]
      },
      {
       "output_type": "stream",
       "stream": "stdout",
       "text": [
        "\n",
        "scraping: http://ow.ly/F3MSG"
       ]
      },
      {
       "output_type": "stream",
       "stream": "stdout",
       "text": [
        "\n",
        "scraping: http://www.sacbee.com/news/local/news-columns-blogs/city-beat/article4268850.html"
       ]
      },
      {
       "output_type": "stream",
       "stream": "stdout",
       "text": [
        "\n",
        "scraping: http://tmblr.co/ZhPdHy1X7giHL"
       ]
      },
      {
       "output_type": "stream",
       "stream": "stdout",
       "text": [
        "\n",
        "scraping: http://huff.to/1xVpJML"
       ]
      },
      {
       "output_type": "stream",
       "stream": "stdout",
       "text": [
        "\n",
        "scraping: https://vine.co/v/OvXAEq2IDl5"
       ]
      },
      {
       "output_type": "stream",
       "stream": "stdout",
       "text": [
        "\n",
        "scraping: http://www.silive.com/northshore/index.ssf/2014/08/despite_his_testimony_grand_ju.html"
       ]
      },
      {
       "output_type": "stream",
       "stream": "stdout",
       "text": [
        "\n",
        "scraping: http://cnn.it/1tENH8z"
       ]
      },
      {
       "output_type": "stream",
       "stream": "stdout",
       "text": [
        "\n",
        "scraping: http://usat.ly/1yheOx7"
       ]
      },
      {
       "output_type": "stream",
       "stream": "stdout",
       "text": [
        "\n",
        "scraping: http://gu.com/p/yte7/stw"
       ]
      },
      {
       "output_type": "stream",
       "stream": "stdout",
       "text": [
        "\n",
        "scraping: https://www.youtube.com/watch?v=2hWYgPDVX_8"
       ]
      },
      {
       "output_type": "stream",
       "stream": "stdout",
       "text": [
        "\n",
        "scraping: http://bloom.bg/1FP0JrC"
       ]
      },
      {
       "output_type": "stream",
       "stream": "stdout",
       "text": [
        "\n",
        "scraping: http://shar.es/1XLMxh"
       ]
      },
      {
       "output_type": "stream",
       "stream": "stdout",
       "text": [
        "\n",
        "scraping: http://www.gofundme.com/htnohk"
       ]
      },
      {
       "output_type": "stream",
       "stream": "stdout",
       "text": [
        "\n",
        "scraping: http://www.cnn.com/2014/12/03/justice/new-york-grand-jury-chokehold/"
       ]
      },
      {
       "output_type": "stream",
       "stream": "stdout",
       "text": [
        "\n",
        "scraping: http://www.sacerdotus.com/2014/12/eric-garner-no-indictment-for-cop.html?spref=tw"
       ]
      },
      {
       "output_type": "stream",
       "stream": "stdout",
       "text": [
        "\n",
        "scraping: http://www.mbird.com/2013/07/who-but-the-lord-langston-hughes/"
       ]
      },
      {
       "output_type": "stream",
       "stream": "stdout",
       "text": [
        "\n",
        "scraping: http://tmblr.co/Z_wQ3y1X8e6nW"
       ]
      },
      {
       "output_type": "stream",
       "stream": "stdout",
       "text": [
        "\n",
        "scraping: http://fb.me/3kuKoZCtI"
       ]
      },
      {
       "output_type": "stream",
       "stream": "stdout",
       "text": [
        "\n",
        "scraping: http://mobile.nytimes.com/2014/12/04/opinion/charles-blow-first-michael-brown-now-eric-garner.html?referrer="
       ]
      },
      {
       "output_type": "stream",
       "stream": "stdout",
       "text": [
        "\n",
        "scraping: http://cbsloc.al/1yQS1Hp"
       ]
      },
      {
       "output_type": "stream",
       "stream": "stdout",
       "text": [
        "\n",
        "scraping: https://vine.co/v/Ov6XU5tL59w"
       ]
      },
      {
       "output_type": "stream",
       "stream": "stdout",
       "text": [
        "\n",
        "scraping: https://vine.co/v/OvX7uthjMZ3"
       ]
      },
      {
       "output_type": "stream",
       "stream": "stdout",
       "text": [
        "\n",
        "scraping: http://www.salon.com/2014/09/05/gun_nuts_special_privileges_how_police_treated_a_dangerous_open_carry_zealot/"
       ]
      },
      {
       "output_type": "stream",
       "stream": "stdout",
       "text": [
        "\n",
        "scraping: http://instagram.com/p/wK27Hwosg-/"
       ]
      },
      {
       "output_type": "stream",
       "stream": "stdout",
       "text": [
        "\n",
        "scraping: http://ln.is/bit.ly/wh3Gi"
       ]
      },
      {
       "output_type": "stream",
       "stream": "stdout",
       "text": [
        "\n",
        "scraping: http://www.texasobserver.org/grand-jury-clears-jasper-police-beating/"
       ]
      },
      {
       "output_type": "stream",
       "stream": "stdout",
       "text": [
        "\n",
        "scraping: https://vine.co/v/OvX7i6H0dWv"
       ]
      },
      {
       "output_type": "stream",
       "stream": "stdout",
       "text": [
        "\n",
        "scraping: http://www.washingtontimes.com/news/2014/dec/2/ferguson-police-werent-invited-white-house-meeting/"
       ]
      },
      {
       "output_type": "stream",
       "stream": "stdout",
       "text": [
        "\n",
        "scraping: https://www.facebook.com/BigElad/posts/10203095556011876"
       ]
      },
      {
       "output_type": "stream",
       "stream": "stdout",
       "text": [
        "\n",
        "scraping: http://www.vox.com/2014/12/3/7328051/conservative-outrage-eric-garner?utm_medium=social&utm_source=twitter&utm_campaign=vox&utm_content=article-share-top"
       ]
      },
      {
       "output_type": "stream",
       "stream": "stdout",
       "text": [
        "\n",
        "scraping: http://AL.com"
       ]
      },
      {
       "output_type": "stream",
       "stream": "stdout",
       "text": [
        "\n",
        "scraping: http://www.al.com/opinion/index.ssf/2014/12/charles_barkleys_ferguson_scum.html"
       ]
      },
      {
       "output_type": "stream",
       "stream": "stdout",
       "text": [
        "\n",
        "scraping: http://www.gofundme.com/hu8z10"
       ]
      },
      {
       "output_type": "stream",
       "stream": "stdout",
       "text": [
        "\n",
        "scraping: http://shar.es/1XLMcY"
       ]
      },
      {
       "output_type": "stream",
       "stream": "stdout",
       "text": [
        "\n",
        "scraping: http://j.mp/1CGUyIc"
       ]
      },
      {
       "output_type": "stream",
       "stream": "stdout",
       "text": [
        "\n",
        "scraping: http://www.ustream.tv/recorded/56093466"
       ]
      },
      {
       "output_type": "stream",
       "stream": "stdout",
       "text": [
        "\n",
        "scraping: http://qz.com/302616"
       ]
      },
      {
       "output_type": "stream",
       "stream": "stdout",
       "text": [
        "\n",
        "scraping: http://instagram.com/p/wKe1ORChos/"
       ]
      },
      {
       "output_type": "stream",
       "stream": "stdout",
       "text": [
        "\n",
        "scraping: http://gretawire.foxnewsinsider.com/video/video-theres-a-new-irs-scandal-brewing-and-its-disgraceful/"
       ]
      },
      {
       "output_type": "stream",
       "stream": "stdout",
       "text": [
        "\n",
        "scraping: http://www.truthrevolt.org/commentary/shapiro-real-racist-conspiracy-ferguson#.VH_UAYnpwbI.twitter"
       ]
      },
      {
       "output_type": "stream",
       "stream": "stdout",
       "text": [
        "\n",
        "scraping: http://www.stltoday.com/news/opinion/mailbag/letters-to-the-editor/article_32cc4d70-c656-5908-80a5-78905eedb7eb.html"
       ]
      },
      {
       "output_type": "stream",
       "stream": "stdout",
       "text": [
        "\n",
        "scraping: https://www.youtube.com/watch?v=VpajdIln6w4"
       ]
      },
      {
       "output_type": "stream",
       "stream": "stdout",
       "text": [
        "\n",
        "scraping: http://www.bbc.com/news/blogs-trending-30322650"
       ]
      },
      {
       "output_type": "stream",
       "stream": "stdout",
       "text": [
        "\n",
        "scraping: http://dld.bz/d2WsP"
       ]
      },
      {
       "output_type": "stream",
       "stream": "stdout",
       "text": [
        "\n",
        "scraping: http://trov.es/1rTS5Wq"
       ]
      },
      {
       "output_type": "stream",
       "stream": "stdout",
       "text": [
        "\n",
        "scraping: http://PoliceOne.com"
       ]
      },
      {
       "output_type": "stream",
       "stream": "stdout",
       "text": [
        "\n",
        "scraping: http://www.policeone.com/Crowd-Control/articles/7921845-Lawyer-No-indictment-in-NYPD-in-custody-death/"
       ]
      },
      {
       "output_type": "stream",
       "stream": "stdout",
       "text": [
        "\n",
        "scraping: http://www.thefederalistpapers.org/?p=30728"
       ]
      },
      {
       "output_type": "stream",
       "stream": "stdout",
       "text": [
        "\n",
        "scraping: http://rightwingart.com/e403f19e-fd72-4ebb-9a0e-05c690b61a29/artupload.aspx"
       ]
      },
      {
       "output_type": "stream",
       "stream": "stdout",
       "text": [
        "\n",
        "scraping: http://www.youtube.com/watch?v=iS56oevhdAI&feature=youtube_gdata_player"
       ]
      },
      {
       "output_type": "stream",
       "stream": "stdout",
       "text": [
        "\n",
        "scraping: http://www.stltoday.com/news/local/metro/article_97321e17-65ef-5362-8324-a8e6dd287c35.html"
       ]
      },
      {
       "output_type": "stream",
       "stream": "stdout",
       "text": [
        "\n",
        "scraping: https://m.youtube.com/watch?v=qQtDXxXyPYQ"
       ]
      },
      {
       "output_type": "stream",
       "stream": "stdout",
       "text": [
        "\n",
        "scraping: http://www.gofundme.com/hunocc"
       ]
      },
      {
       "output_type": "stream",
       "stream": "stdout",
       "text": [
        "\n",
        "scraping: http://bit.ly/1A8rJ2l"
       ]
      },
      {
       "output_type": "stream",
       "stream": "stdout",
       "text": [
        "\n",
        "scraping: http://wapo.st/1vOM9Mt"
       ]
      },
      {
       "output_type": "stream",
       "stream": "stdout",
       "text": [
        "\n",
        "scraping: http://theconservativetreehouse.com/2014/11/25/first-pro-truth-grand-jury-witness-murdered-deandre-joshua-20-found-dead-yards-from-scene-of-michael-browns-death/"
       ]
      },
      {
       "output_type": "stream",
       "stream": "stdout",
       "text": [
        "\n",
        "scraping: http://ireport.cnn.com/docs/DOC-1193750"
       ]
      },
      {
       "output_type": "stream",
       "stream": "stdout",
       "text": [
        "\n",
        "scraping: https://s3.amazonaws.com/khudes/Adventures+of+a+Feral+Hippy-with+Mona+Radler-2014-09-22.mp3"
       ]
      },
      {
       "output_type": "stream",
       "stream": "stdout",
       "text": [
        "\n",
        "scraping: http://shar.es/1XLOKj"
       ]
      },
      {
       "output_type": "stream",
       "stream": "stdout",
       "text": [
        "\n",
        "scraping: http://shar.es/1XLT4P"
       ]
      },
      {
       "output_type": "stream",
       "stream": "stdout",
       "text": [
        "\n",
        "scraping: http://wapo.st/1vKEUYy"
       ]
      },
      {
       "output_type": "stream",
       "stream": "stdout",
       "text": [
        "\n",
        "scraping: http://www.aclu.org/doj-racialprofilingTW"
       ]
      },
      {
       "output_type": "stream",
       "stream": "stdout",
       "text": [
        "\n",
        "scraping: http://huff.to/1rDORAE"
       ]
      },
      {
       "output_type": "stream",
       "stream": "stdout",
       "text": [
        "\n",
        "scraping: https://www.stringwire.com/watch/jzTn"
       ]
      },
      {
       "output_type": "stream",
       "stream": "stdout",
       "text": [
        "\n",
        "scraping: http://www.motherjones.com/politics/2014/11/science-of-racism-prejudice"
       ]
      },
      {
       "output_type": "stream",
       "stream": "stdout",
       "text": [
        "\n",
        "scraping: http://grist.org/cities/after-ferguson-we-must-ask-who-owns-the-streets/"
       ]
      },
      {
       "output_type": "stream",
       "stream": "stdout",
       "text": [
        "\n",
        "scraping: http://nyp.st/1tNnyne"
       ]
      },
      {
       "output_type": "stream",
       "stream": "stdout",
       "text": [
        "\n",
        "scraping: http://instagram.com/p/wK2gL3II4a/"
       ]
      },
      {
       "output_type": "stream",
       "stream": "stdout",
       "text": [
        "\n",
        "scraping: http://www.washingtonpost.com/news/morning-mix/wp/2014/04/28/knoxville-cop-fired-immediately-after-photos-show-brutal-choking-of-student/"
       ]
      },
      {
       "output_type": "stream",
       "stream": "stdout",
       "text": [
        "\n",
        "scraping: https://www.tsu.co/WisdomMiners/13662056"
       ]
      },
      {
       "output_type": "stream",
       "stream": "stdout",
       "text": [
        "\n",
        "scraping: https://twitter.com/trscoop/status/537821258939768832"
       ]
      },
      {
       "output_type": "stream",
       "stream": "stdout",
       "text": [
        "\n",
        "scraping: http://bit.ly/1ynpokY"
       ]
      },
      {
       "output_type": "stream",
       "stream": "stdout",
       "text": [
        "\n",
        "scraping: http://p.ost.im/jUqwBT"
       ]
      },
      {
       "output_type": "stream",
       "stream": "stdout",
       "text": [
        "\n",
        "scraping: http://usat.ly/1yQT8qm"
       ]
      },
      {
       "output_type": "stream",
       "stream": "stdout",
       "text": [
        "\n",
        "scraping: https://www.flickr.com/photos/109799466@N06/sets/72157649587548871/"
       ]
      },
      {
       "output_type": "stream",
       "stream": "stdout",
       "text": [
        "\n",
        "scraping: http://ireport.cnn.com/docs/DOC-1193748"
       ]
      },
      {
       "output_type": "stream",
       "stream": "stdout",
       "text": [
        "\n",
        "scraping: http://www.bunibuni.com/video-news/item/5965-nigerians-protest-for-michael-brown-video"
       ]
      },
      {
       "output_type": "stream",
       "stream": "stdout",
       "text": [
        "\n",
        "scraping: https://medium.com/@JarrettMDrake/in-defense-of-cops-without-cameras-c95ef9f27c6d"
       ]
      },
      {
       "output_type": "stream",
       "stream": "stdout",
       "text": [
        "\n",
        "scraping: http://invst.rs/7g7jPC"
       ]
      },
      {
       "output_type": "stream",
       "stream": "stdout",
       "text": [
        "\n",
        "scraping: http://tinyurl.com/mvpw9ql"
       ]
      },
      {
       "output_type": "stream",
       "stream": "stdout",
       "text": [
        "\n",
        "scraping: http://wp.me/p1s2oW-1TJ"
       ]
      },
      {
       "output_type": "stream",
       "stream": "stdout",
       "text": [
        "\n",
        "scraping: http://tl.gd/nhmh1e"
       ]
      },
      {
       "output_type": "stream",
       "stream": "stdout",
       "text": [
        "\n",
        "scraping: http://shar.es/1XLPS5"
       ]
      },
      {
       "output_type": "stream",
       "stream": "stdout",
       "text": [
        "\n",
        "scraping: http://tmblr.co/Z2ZkHx1X8cTe4"
       ]
      },
      {
       "output_type": "stream",
       "stream": "stdout",
       "text": [
        "\n",
        "scraping: http://www.nydailynews.com/news/national/st-louis-woman-loses-eye-police-fire-non-lethal-article-1.2026565"
       ]
      },
      {
       "output_type": "stream",
       "stream": "stdout",
       "text": [
        "\n",
        "scraping: http://www.theblaze.com/stories/2014/12/03/after-guest-claims-theres-an-epidemic-of-officers-killing-black-people-bill-oreilly-pulls-out-some-damaging-statistics/?utm_source=twitter&utm_medium=story&utm_campaign=ShareButtons"
       ]
      },
      {
       "output_type": "stream",
       "stream": "stdout",
       "text": [
        "\n",
        "scraping: http://fb.me/2JaVA6xjB"
       ]
      },
      {
       "output_type": "stream",
       "stream": "stdout",
       "text": [
        "\n",
        "scraping: http://fb.me/4DsGP9VQQ"
       ]
      },
      {
       "output_type": "stream",
       "stream": "stdout",
       "text": [
        "\n",
        "scraping: http://www.huffingtonpost.com/2014/09/19/mckenzie-cochran-northland-mall-died_n_5849348.html"
       ]
      },
      {
       "output_type": "stream",
       "stream": "stdout",
       "text": [
        "\n",
        "scraping: http://nym.ag/11VFKVk"
       ]
      },
      {
       "output_type": "stream",
       "stream": "stdout",
       "text": [
        "\n",
        "scraping: http://www.blackalliance.org/ferguson-toolkit"
       ]
      },
      {
       "output_type": "stream",
       "stream": "stdout",
       "text": [
        "\n",
        "scraping: http://www.vulture.com/2014/11/chris-rock-frank-rich-in-conversation.html"
       ]
      },
      {
       "output_type": "stream",
       "stream": "stdout",
       "text": [
        "\n",
        "scraping: http://bit.ly/1ybhRH3"
       ]
      },
      {
       "output_type": "stream",
       "stream": "stdout",
       "text": [
        "\n",
        "scraping: http://houstoncitizenschamber.chambermaster.com/list?moduleversion=3"
       ]
      },
      {
       "output_type": "stream",
       "stream": "stdout",
       "text": [
        "\n",
        "scraping: https://itun.es/us/3WqJW.c?i=326557316"
       ]
      },
      {
       "output_type": "stream",
       "stream": "stdout",
       "text": [
        "\n",
        "scraping: http://instagram.com/p/wK2KyQtZsw/"
       ]
      },
      {
       "output_type": "stream",
       "stream": "stdout",
       "text": [
        "\n",
        "scraping: http://m.stlamerican.com/news/columnists/guest_columnists/article_c98ba178-50b9-11e4-8b41-83bc8185f474.html?mode=jqm"
       ]
      },
      {
       "output_type": "stream",
       "stream": "stdout",
       "text": [
        "\n",
        "scraping: https://vine.co/v/On0eLplEb7B"
       ]
      },
      {
       "output_type": "stream",
       "stream": "stdout",
       "text": [
        "\n",
        "scraping: http://ow.ly/i/7Ozzv"
       ]
      },
      {
       "output_type": "stream",
       "stream": "stdout",
       "text": [
        "\n",
        "scraping: https://www.youtube.com/watch?v=SnjYrXd9ycA"
       ]
      },
      {
       "output_type": "stream",
       "stream": "stdout",
       "text": [
        "\n",
        "scraping: http://m.motherjones.com/mojo/2014/12/grand-jury-white-cops-diggles-jasper"
       ]
      },
      {
       "output_type": "stream",
       "stream": "stdout",
       "text": [
        "\n",
        "scraping: http://www.dailykos.com/story/2014/08/15/1321904/-Ferguson-police-beat-a-man-and-then-charged-him-with-destruction-of-property-for-bloody-uniforms"
       ]
      },
      {
       "output_type": "stream",
       "stream": "stdout",
       "text": [
        "\n",
        "scraping: http://shar.es/1XLPYr"
       ]
      },
      {
       "output_type": "stream",
       "stream": "stdout",
       "text": [
        "\n",
        "scraping: http://ow.ly/FiNAR"
       ]
      },
      {
       "output_type": "stream",
       "stream": "stdout",
       "text": [
        "\n",
        "scraping: http://bit.ly/1r4gSXt"
       ]
      },
      {
       "output_type": "stream",
       "stream": "stdout",
       "text": [
        "\n",
        "scraping: http://www.buzzfeed.com/jazminmb/illinois-college-suspends-player-after-mike-brown-t0fd?s=mobile"
       ]
      },
      {
       "output_type": "stream",
       "stream": "stdout",
       "text": [
        "\n",
        "scraping: http://www.amazon.com/Thought-Reform-Psychology-Totalism-brainwashing/dp/0807842532/ref=asap_B000APASEI_1_2?s=books&ie=UTF8&qid=1417645939&sr=1-2"
       ]
      },
      {
       "output_type": "stream",
       "stream": "stdout",
       "text": [
        "\n",
        "scraping: http://instagram.com/p/wK2CckKlDp/"
       ]
      },
      {
       "output_type": "stream",
       "stream": "stdout",
       "text": [
        "\n",
        "scraping: http://www.tpnn.com/2014/12/03/these-fbi-and-cdc-statistics-completely-destroy-the-race-baiting-police-bashing-narrative-out-of-ferguson/"
       ]
      },
      {
       "output_type": "stream",
       "stream": "stdout",
       "text": [
        "\n",
        "scraping: http://huff.to/1vI0Oug"
       ]
      },
      {
       "output_type": "stream",
       "stream": "stdout",
       "text": [
        "\n",
        "scraping: http://zite.to/1yh8Tbl"
       ]
      },
      {
       "output_type": "stream",
       "stream": "stdout",
       "text": [
        "\n",
        "scraping: http://wp.me/p1sd9a-fCn"
       ]
      },
      {
       "output_type": "stream",
       "stream": "stdout",
       "text": [
        "\n",
        "scraping: http://bit.ly/1y7ixgD"
       ]
      },
      {
       "output_type": "stream",
       "stream": "stdout",
       "text": [
        "\n",
        "scraping: http://instagram.com/p/wK18fAKmfX/"
       ]
      },
      {
       "output_type": "stream",
       "stream": "stdout",
       "text": [
        "\n",
        "scraping: http://cnn.it/1z7s58D"
       ]
      },
      {
       "output_type": "stream",
       "stream": "stdout",
       "text": [
        "\n",
        "scraping: http://anarchism.newsin.tk/a/b6813130-7524-11e4-8e37-e3ba88cdd299"
       ]
      },
      {
       "output_type": "stream",
       "stream": "stdout",
       "text": [
        "\n",
        "scraping: http://truth-out.org/news/item/27776-glimpses-of-our-power"
       ]
      },
      {
       "output_type": "stream",
       "stream": "stdout",
       "text": [
        "\n",
        "scraping: http://ti.me/1rSGzKP"
       ]
      },
      {
       "output_type": "stream",
       "stream": "stdout",
       "text": [
        "\n",
        "scraping: http://www.sbnation.com/lookit/2014/12/3/7327865/mike-ditka-ferguson-comments-michael-brown-darren-wilson"
       ]
      },
      {
       "output_type": "stream",
       "stream": "stdout",
       "text": [
        "\n",
        "scraping: http://po.st/oCUJtH"
       ]
      },
      {
       "output_type": "stream",
       "stream": "stdout",
       "text": [
        "\n",
        "scraping: http://politi.co/1zNXLzS"
       ]
      },
      {
       "output_type": "stream",
       "stream": "stdout",
       "text": [
        "\n",
        "scraping: http://huff.to/1vNfHeK"
       ]
      },
      {
       "output_type": "stream",
       "stream": "stdout",
       "text": [
        "\n"
       ]
      }
     ],
     "prompt_number": 10
    }
   ],
   "metadata": {}
  }
 ]
}