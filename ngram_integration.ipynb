{
 "metadata": {
  "name": "",
  "signature": "sha256:8458c145c2c213863c6f4b9b26f0e98a49e52f647bd0030d29b1d666928c3b12"
 },
 "nbformat": 3,
 "nbformat_minor": 0,
 "worksheets": [
  {
   "cells": [
    {
     "cell_type": "code",
     "collapsed": false,
     "input": [
      "import nltk, string\n",
      "from nltk.corpus import stopwords, brown\n",
      "from nltk.tokenize import RegexpTokenizer\n",
      "from nltk.collocations import *\n",
      "import codecs, os, json, glob\n",
      "from bs4 import BeautifulSoup\n",
      "from nltk.corpus import wordnet as wn\n",
      "from pandas import DataFrame\n",
      "import pandas as pd"
     ],
     "language": "python",
     "metadata": {},
     "outputs": [],
     "prompt_number": 1
    },
    {
     "cell_type": "code",
     "collapsed": false,
     "input": [
      "#get list of files\n",
      "def readFilestoList(path):\n",
      "    filelist = []\n",
      "    for file in glob.glob(os.path.join(path, '*.json')):\n",
      "        filelist.append(file)\n",
      "    return filelist        "
     ],
     "language": "python",
     "metadata": {},
     "outputs": [],
     "prompt_number": 2
    },
    {
     "cell_type": "code",
     "collapsed": false,
     "input": [
      "def jsonToTuples(filelist):\n",
      "    articles = []\n",
      "    for filepath in filelist:\n",
      "        with open(filepath, 'r') as f:\n",
      "            j = json.load(f)\n",
      "            if 'objects' in j.keys():\n",
      "                if 'title' in j['objects'][0]:\n",
      "                    articles.append((j['objects'][0]['title'], j['objects'][0]['text']))\n",
      "    return articles"
     ],
     "language": "python",
     "metadata": {},
     "outputs": [],
     "prompt_number": 3
    },
    {
     "cell_type": "code",
     "collapsed": false,
     "input": [
      "def jsonToDict(filelist):\n",
      "    articles = {}\n",
      "    for filepath in filelist:\n",
      "        with open(filepath, 'r') as f:\n",
      "            j = json.load(f)\n",
      "            if 'objects' in j.keys():\n",
      "                if 'title' in j['objects'][0]:\n",
      "                    articles[j['objects'][0]['title']]=j['objects'][0]['text']\n",
      "    return articles"
     ],
     "language": "python",
     "metadata": {},
     "outputs": [],
     "prompt_number": 4
    },
    {
     "cell_type": "code",
     "collapsed": false,
     "input": [
      "datadir = os.path.join(os.path.curdir, \"data\")"
     ],
     "language": "python",
     "metadata": {},
     "outputs": [],
     "prompt_number": 15
    },
    {
     "cell_type": "code",
     "collapsed": false,
     "input": [
      "voterID = readFilestoList(os.path.join(datadir, \"voterID_clean\"))"
     ],
     "language": "python",
     "metadata": {},
     "outputs": [],
     "prompt_number": 16
    },
    {
     "cell_type": "code",
     "collapsed": false,
     "input": [
      "tuples = jsonToTuples(voterID)"
     ],
     "language": "python",
     "metadata": {},
     "outputs": [],
     "prompt_number": 17
    },
    {
     "cell_type": "code",
     "collapsed": false,
     "input": [
      "diction = jsonToDict(voterID)"
     ],
     "language": "python",
     "metadata": {},
     "outputs": [],
     "prompt_number": 18
    },
    {
     "cell_type": "heading",
     "level": 3,
     "metadata": {},
     "source": [
      "Adding tuples into Dataframe"
     ]
    },
    {
     "cell_type": "code",
     "collapsed": false,
     "input": [
      "def languageCheck(text):\n",
      "    fd = nltk.FreqDist(nltk.word_tokenize(text))\n",
      "    topwords = [key.lower() for key in fd.keys()[:15]]\n",
      "    \n",
      "    if \"the\" not in topwords:\n",
      "#         print \"BAD TOPWORDS: \", topwords\n",
      "        return False\n",
      "    else:\n",
      "#         print \"GOOD TOPWORDS: \", topwords\n",
      "        return True\n",
      "    "
     ],
     "language": "python",
     "metadata": {},
     "outputs": [],
     "prompt_number": 19
    },
    {
     "cell_type": "code",
     "collapsed": false,
     "input": [
      "#create df for titles & content\n",
      "#tokenize titles and content\n",
      "def tokenizeTitlesContentToDf(tuples):\n",
      "    articles = []\n",
      "    titles = []\n",
      "    for i in tuples:\n",
      "        print i[0]\n",
      "        if(languageCheck(i[1])):\n",
      "            articles.append(i[1])\n",
      "            titles.append(i[0])\n",
      "\n",
      "    data = {'article': articles, 'title': titles}\n",
      "    df = DataFrame(data)\n",
      "    df['tokenized_article'] = df['article'].map(nltk.word_tokenize)\n",
      "    df['tokenized_title'] = df['title'].map(nltk.word_tokenize)\n",
      "    return df"
     ],
     "language": "python",
     "metadata": {},
     "outputs": [],
     "prompt_number": 20
    },
    {
     "cell_type": "code",
     "collapsed": false,
     "input": [
      "#create df for titles & content\n",
      "#tokenize titles and content\n",
      "def tokenizeDictionaryContentToDf(tuples):\n",
      "    articles = []\n",
      "    titles = []\n",
      "    for title,article in tuples.items():\n",
      "#         if(languageCheck(article)):\n",
      "        articles.append(article)\n",
      "        titles.append(title)\n",
      "\n",
      "    data = {'article': articles, 'title': titles}\n",
      "    df = DataFrame(data)\n",
      "    df['tokenized_article'] = df['article'].map(nltk.word_tokenize)\n",
      "    df['tokenized_title'] = df['title'].map(nltk.word_tokenize)\n",
      "    return df"
     ],
     "language": "python",
     "metadata": {},
     "outputs": [],
     "prompt_number": 21
    },
    {
     "cell_type": "code",
     "collapsed": false,
     "input": [
      "articles_df = tokenizeTitlesContentToDf(tuples)"
     ],
     "language": "python",
     "metadata": {},
     "outputs": [
      {
       "output_type": "stream",
       "stream": "stdout",
       "text": [
        "First case of voter fraud confirmed in Rio Arriba Co.\n",
        "Instagram\n",
        "America\u2019s Historically Shameful Election Day Turnout\n",
        "Comprehensive Database of U.S. Voter Fraud Uncovers No Evidence That Photo ID Is Needed\n",
        "0600 Voter ID And The Registrar Case"
       ]
      },
      {
       "output_type": "stream",
       "stream": "stdout",
       "text": [
        "\n",
        "Exposing the Liberal lies that Voter Fraud never happens.\n",
        "Voter Identification Requirements | Voter ID Laws\n",
        "Since Texas Implemented Voter ID, The Number Of Provisional Ballots Doubled"
       ]
      },
      {
       "output_type": "stream",
       "stream": "stdout",
       "text": [
        "\n",
        "GOP legally barred from fighting vote fraud\n",
        "\u2018Better just be a glitch\u2019: Is Texas voting machine leaving Greg Abbott off the ballot? [photo]\n",
        "Voter Identification Requirements | Voter ID Laws\n",
        "0700 Mark Obenshain and Marines Birthday"
       ]
      },
      {
       "output_type": "stream",
       "stream": "stdout",
       "text": [
        "\n",
        "Black vote not suppressed: Voter fraud and voter I.D.\n",
        "Voter Fraud Vigilantes\n",
        "The constitutional amendment that would finally end our endless voter ID battle\n",
        "A moral case against voter ID laws\n",
        "Texans Slam Voter ID Law: 'Now That It's Happened To Me, I'm Devastated'\n",
        "Identificaci\u00f3n de Votantes"
       ]
      },
      {
       "output_type": "stream",
       "stream": "stdout",
       "text": [
        "\n",
        "0600 Voter ID And The Registrar Case\n",
        "Voter Identification Requirements | Voter ID Laws\n",
        "Identificaci\u00f3n de Votantes"
       ]
      },
      {
       "output_type": "stream",
       "stream": "stdout",
       "text": [
        "\n",
        "GOP Should Introduce the Nelson Mandela Voter Protection Act\n",
        "The Impact of Voter-ID Laws on Voter Turnout\n",
        "Voter Identification Requirements | Voter ID Laws\n",
        "Exposing the Liberal lies that Voter Fraud never happens."
       ]
      },
      {
       "output_type": "stream",
       "stream": "stdout",
       "text": [
        "\n",
        "Voter ID rules protect seniors, minorities from fraudsters, says new study\n",
        "Texas sees surge of disenfranchised voters\n",
        "Obama: Bottom Line Voter ID Laws Do Not Stop 'Our Folks' from Voting"
       ]
      },
      {
       "output_type": "stream",
       "stream": "stdout",
       "text": [
        "\n",
        "As New Rules Take Effect, Voters Report Problems in Some States\n",
        "How Much of a Difference Did New Voting Restrictions Make in Yesterday\u2019s Close Races?\n",
        "Study: Voter ID laws cut turnout by blacks, young\n",
        "Voter Identification Requirements | Voter ID Laws"
       ]
      },
      {
       "output_type": "stream",
       "stream": "stdout",
       "text": [
        "\n",
        "Where to Vote"
       ]
      },
      {
       "output_type": "stream",
       "stream": "stdout",
       "text": [
        "\n",
        "The Day After: 8 Takeaways from the 2014 Midterms\n",
        "Chasing Echoes Voter ID. ft. Pres. Barack Obama (Extended Night Mix) #SeeYouInNovember2014\n",
        "Voter Identification Requirements | Voter ID Laws\n",
        "Wait.. What? Obama's nominee for AG is against what? VIDEO!!"
       ]
      },
      {
       "output_type": "stream",
       "stream": "stdout",
       "text": [
        "\n",
        "In Last Minute Decision, Alabama Says Voters Can\u2019t Use Public Housing ID At The Polls\n",
        "In 1st statewide election, few problems reported with voter photo ID\n",
        "The Challenge of Obtaining Voter Identification\n",
        "Voter Disenfranchisement That Right-Wing Media Said Wouldn't Happen Is Definitely Happening\n",
        "Obama AG Nominee Lynch: Voter ID Laws were Passed by Racist Southerners, Must be Stopped"
       ]
      },
      {
       "output_type": "stream",
       "stream": "stdout",
       "text": [
        "\n",
        "Wingnut voter ID group fails again: \u201cVoter integrity\u201d outfit unable to find midterm fraud\n",
        "Voter Identification Requirements | Voter ID Laws\n",
        "Voter Identification Requirements | Voter ID Laws"
       ]
      },
      {
       "output_type": "stream",
       "stream": "stdout",
       "text": [
        "\n",
        "Society"
       ]
      },
      {
       "output_type": "stream",
       "stream": "stdout",
       "text": [
        "\n",
        "Texans Slam Voter ID Law: 'Now That It's Happened To Me, I'm Devastated'\n",
        "The Regulators Want to Kill Bitcoin, one ATM at a time\n",
        "How Many Women Won\u2019t Be Allowed to Vote?\n",
        "Identificaci\u00f3n de Votantes"
       ]
      },
      {
       "output_type": "stream",
       "stream": "stdout",
       "text": [
        "\n",
        "Texas ID law didn\u2019t mess with as many voters as feared\n",
        "Problems reported at polls vary from state to state"
       ]
      },
      {
       "output_type": "stream",
       "stream": "stdout",
       "text": [
        "\n",
        "Study: Voter ID laws cut turnout by blacks, young\n",
        "Transgender voters worried about voter ID\n",
        "Five myths about voter fraud\n",
        "'Born and raised' Texans forced to prove identities under new voter ID law\n",
        "League of Women Voters protects voting rights"
       ]
      },
      {
       "output_type": "stream",
       "stream": "stdout",
       "text": [
        "\n",
        "Millennials aren\u2019t apathetic: Their vote is suppressed\n",
        "A comprehensive investigation of voter impersonation finds 31 credible incidents out of one billion ballots cast\n",
        "Since Texas Implemented Voter ID, The Number Of Provisional Ballots Doubled"
       ]
      },
      {
       "output_type": "stream",
       "stream": "stdout",
       "text": [
        "\n",
        "Identificaci\u00f3n de Votantes\n",
        "blog.chron.com/nickanderson/2"
       ]
      },
      {
       "output_type": "stream",
       "stream": "stdout",
       "text": [
        "\n",
        "Voter Identification Requirements | Voter ID Laws\n",
        "Voter ID Laws Sowed Confusion Tuesday, Lawyers Report"
       ]
      },
      {
       "output_type": "stream",
       "stream": "stdout",
       "text": [
        "\n",
        "No ID, No Vote: What's Happening in Texas\n",
        "Explosive Election Day scandal in toss-up state\n",
        "Being white on Election Day means you probably didn\u2019t stand in a crazy line to vote"
       ]
      },
      {
       "output_type": "stream",
       "stream": "stdout",
       "text": [
        "\n",
        "Identificaci\u00f3n de Votantes\n",
        "How Much of a Difference Did New Voting Restrictions Make in Yesterday's Close Races?\n",
        "Subject: Unless You're Dead, Please VOTE!"
       ]
      },
      {
       "output_type": "stream",
       "stream": "stdout",
       "text": [
        "\n",
        "Voter Fraud and Voter I.D.\n",
        "In 1st statewide election, few problems reported with voter photo ID\n",
        "Pennsylvania voter ID law struck down by judge as unconstitutional\n",
        "Texans Slam Voter ID Law: 'Now That It's Happened To Me, I'm Devastated'"
       ]
      },
      {
       "output_type": "stream",
       "stream": "stdout",
       "text": [
        "\n",
        "This is what it\u2019s like to try to get a Voter ID when you\u2019re disabled, poor or don\u2019t drive\n",
        "Voter Identification Requirements | Voter ID Laws\n",
        "Needs a \u2018news hit!\u2019 You will not believe what is happening at these polling stations [photo]"
       ]
      },
      {
       "output_type": "stream",
       "stream": "stdout",
       "text": [
        "\n",
        "As New Rules Take Effect, Voters Report Problems in Some States\n",
        "Harrison Beacher Realtor\n",
        "BESbswy\n",
        "Identificaci\u00f3n de Votantes"
       ]
      },
      {
       "output_type": "stream",
       "stream": "stdout",
       "text": [
        "\n",
        "BREAKING: Obama Admin. Officials Convicted Of Voter Fraud In Obama Election\n",
        "Jim Crow Returns: Interstate \"Crosscheck\" Program Could Strip Millions of the Right to Vote\n",
        "Voter turned away in possible ID mixup"
       ]
      },
      {
       "output_type": "stream",
       "stream": "stdout",
       "text": [
        "\n",
        "The Opinion Pages\n",
        "Marx, Groucho : Are you a corrupt politician? WI Governor Walker\n",
        "Young: Choosing who gets to choose, 2014\n",
        "On the Ground: Texas Voter ID Troubles Continue\n",
        "Here Is Voter Fraud\n",
        "Loretta Lynch and Eric Holder Agree on These 4 Hot Button Issues"
       ]
      },
      {
       "output_type": "stream",
       "stream": "stdout",
       "text": [
        "\n",
        "Registrars report no major problems with new voter ID law\n",
        "Voting and the ID Requirement\n",
        "Identificaci\u00f3n de Votantes"
       ]
      },
      {
       "output_type": "stream",
       "stream": "stdout",
       "text": [
        "\n",
        "Voter ID: What you need to know to vote on Election Day\n",
        "Voter Fraud and Voter I.D."
       ]
      },
      {
       "output_type": "stream",
       "stream": "stdout",
       "text": [
        "\n",
        "ID and Sovereignty\n",
        "Winners and losers in Tuesday's general election\n",
        "How Voter ID Laws Prevent Americans from Voting\n",
        "Since Texas Implemented Voter ID, The Number Of Provisional Ballots Doubled\n",
        "Identificaci\u00f3n de Votantes"
       ]
      },
      {
       "output_type": "stream",
       "stream": "stdout",
       "text": [
        "\n",
        "Texans Slam Voter ID Law: 'Now That It's Happened To Me, I'm Devastated'\n",
        "Democrats are Racist"
       ]
      },
      {
       "output_type": "stream",
       "stream": "stdout",
       "text": [
        "\n",
        "Exposing the Liberal lies that Voter Fraud never happens.\n",
        "Identificaci\u00f3n de Votantes\n",
        "Obama AG pick: Racism fuels voter-ID laws"
       ]
      },
      {
       "output_type": "stream",
       "stream": "stdout",
       "text": [
        "\n",
        "Identificaci\u00f3n de Votantes\n",
        "Voter fraud now confirmed in New Mexico\n",
        "This Is What Happened Because Congress Didn't Fix The Voting Rights Act\n",
        "Democrats are Racist"
       ]
      },
      {
       "output_type": "stream",
       "stream": "stdout",
       "text": [
        "\n",
        "Appeals Court: Feds don\u2019t have to enforce Kansas proof-of-citizenship law\n",
        "Polling place a long walk for ASU students\n",
        "Republican Congressman Claims Voting Machines Are Rigged\n",
        "Voter Identification Requirements | Voter ID Laws\n",
        "Leak Shows NAACP Is Planning Mass Fraud on Election Day"
       ]
      },
      {
       "output_type": "stream",
       "stream": "stdout",
       "text": [
        "\n",
        "Rig the vote! The right resurrects a shady plan to skew 2016 in the GOP\u2019s favor\n",
        "Identificaci\u00f3n de Votantes\n",
        "Yes, Voter ID Laws Are Racially-Motivated"
       ]
      },
      {
       "output_type": "stream",
       "stream": "stdout",
       "text": [
        "\n",
        "Dianna Duran Secretary of State 2014_ Voter ID\n",
        "Identificaci\u00f3n de Votantes\n",
        "Little demand for voter ID cards, but some hit obstacles"
       ]
      },
      {
       "output_type": "stream",
       "stream": "stdout",
       "text": [
        "\n",
        "Texas vote suppression debacle: Why GOP\u2019s scheme is already working\n",
        "Midterm Election Results 2014: Did Voter ID Laws Help Republicans Win The Senate Majority?\n",
        "Even Without Voter ID Laws, Minority Voters Face More Hurdles to Casting Ballots\n",
        "Jon Stewart slams voter ID laws: \u201cA lot of these laws smell pretty voter suppression-y\u201d\n",
        "This Is What Happened Because Congress Didn't Fix The Voting Rights Act"
       ]
      },
      {
       "output_type": "stream",
       "stream": "stdout",
       "text": [
        "\n",
        "Voter Fraud and Voter I.D.\n",
        "Pogo-kun\n",
        "Unusual level of glitches at US polling stations reported on election day\n",
        "Reversal in Texas Voter ID Law Case\n",
        "Texas vote suppression debacle: Why GOP\u2019s scheme is already working"
       ]
      },
      {
       "output_type": "stream",
       "stream": "stdout",
       "text": [
        "\n",
        "Obama AG Nominee Lynch: Voter ID Laws were Passed by Racist Southerners, Must be Stopped\n",
        "Exposing the Liberal lies that Voter Fraud never happens.\n",
        "Voter Identification Requirements | Voter ID Laws\n",
        "First Federal Election Under Texas' New Voter ID Law"
       ]
      },
      {
       "output_type": "stream",
       "stream": "stdout",
       "text": [
        "\n",
        "Buy Direct from China Factories. Free Shipping & Payment Protection.\n",
        "Democrats are Racist\n",
        "Democrats are Racist\n",
        "Voter Fraud and Voter I.D.\n",
        "Obama AG Nominee Lynch: 'Voter ID Lawsuits Will Continue'\n",
        "Voter Identification Requirements | Voter ID Laws"
       ]
      },
      {
       "output_type": "stream",
       "stream": "stdout",
       "text": [
        "\n",
        "N.C. poll workers offer ballots to IMPOSTOR"
       ]
      },
      {
       "output_type": "stream",
       "stream": "stdout",
       "text": [
        "\n",
        "Identificaci\u00f3n de Votantes\n",
        "I Was Arrested for Voting"
       ]
      },
      {
       "output_type": "stream",
       "stream": "stdout",
       "text": [
        "\n",
        "7 Examples That Show Voter Fraud Is A Huge Problem\n",
        "Vote-fraud undercover videos 'made a difference'\n",
        "Obama AG pick: Racism fuels voter-ID laws\n",
        "The Party of Nonvoters\n",
        "Identificaci\u00f3n de Votantes"
       ]
      },
      {
       "output_type": "stream",
       "stream": "stdout",
       "text": [
        "\n",
        "Election 2014: Beyond The Horserace\n",
        "Harvard students attempt to take 1964 Louisiana Literacy test, fail"
       ]
      },
      {
       "output_type": "stream",
       "stream": "stdout",
       "text": [
        "\n",
        "BREAKING: Top Democrat Caught on Tape Telling Illegal Immigrants to Vote [VIDEO]\n",
        "How Voter Suppression Helped Produce the Lowest Turnout in Decades\n",
        "Since Texas Implemented Voter ID, The Number Of Provisional Ballots Doubled\n",
        "How Black Students Are Reportedly Being Disenfranchised Right Now In Texas\n",
        "Chasing Echoes Voter ID. ft. Pres. Barack Obama (Extended Night Mix) #SeeYouInNovember2014"
       ]
      },
      {
       "output_type": "stream",
       "stream": "stdout",
       "text": [
        "\n",
        "Voter Identification Requirements | Voter ID Laws\n",
        "A state-by-state map reveals the answer: almost none."
       ]
      },
      {
       "output_type": "stream",
       "stream": "stdout",
       "text": [
        "\n",
        "New Voter Suppression Laws Could Decide Key Races, and Turn Back the Clocks for Years to Come\n",
        "The constitutional amendment that would finally end our endless voter ID battle\n",
        "Voting monitors report complaints in states with new voter ID laws"
       ]
      },
      {
       "output_type": "stream",
       "stream": "stdout",
       "text": [
        "\n",
        "A Snapshot of Voting Day in Houston, Texas\n",
        "Identificaci\u00f3n de Votantes\n",
        "Identificaci\u00f3n de Votantes"
       ]
      },
      {
       "output_type": "stream",
       "stream": "stdout",
       "text": [
        "\n",
        "Casey: Photo ID law is 'voter fraud at its worst'\n",
        "Call This Election What It Was: A Fossil Fuel Coup"
       ]
      },
      {
       "output_type": "stream",
       "stream": "stdout",
       "text": [
        "\n",
        "Texans Slam Voter ID Law: 'Now That It's Happened To Me, I'm Devastated'\n",
        "ASU Ph.D. Concludes Voter Suppression Didn\u2019t Happen in Boone Elections, Dems Call Study \u2018Misleading at Best\u2019"
       ]
      },
      {
       "output_type": "stream",
       "stream": "stdout",
       "text": [
        "\n",
        "Chasing Echoes Voter ID. ft. Pres. Barack Obama (Extended Night Mix) #SeeYouInNovember2014\n",
        "Texas sees surge of disenfranchised voters\n",
        "Photo ID Laws Led To Voter Suppression"
       ]
      },
      {
       "output_type": "stream",
       "stream": "stdout",
       "text": [
        "\n",
        "The Conservative Case Against Voter ID Laws\n",
        "Obama\u2019s A.G. Nominee: Voter ID Laws Were Passed by Racist Southerners, and Must be Stopped\n",
        "Josh Weinhold\n",
        "Identificaci\u00f3n de Votantes\n",
        "Vote-fraud undercover videos 'made a difference'"
       ]
      },
      {
       "output_type": "stream",
       "stream": "stdout",
       "text": [
        "\n",
        "Instagram\n",
        "Identificaci\u00f3n de Votantes\n",
        "On the Ground: Texas Voter ID Troubles Continue"
       ]
      },
      {
       "output_type": "stream",
       "stream": "stdout",
       "text": [
        "\n",
        "Catherine Rampell: Voter suppression laws are already deciding elections\n",
        "v3 GAB vs FitzWalkerSTAN rig elections Fitzgerald, Walker"
       ]
      },
      {
       "output_type": "stream",
       "stream": "stdout",
       "text": [
        "\n",
        "Voter Fraud Confirmed in New Mexico: Voter Turned Away After Illegal Voter Pretended to be Him\n",
        "Voter Identification Requirements | Voter ID Laws\n",
        "Convicted Mayor Placed Under House Arrest After Illegally Voting in Midterms"
       ]
      },
      {
       "output_type": "stream",
       "stream": "stdout",
       "text": [
        "\n",
        "Identificaci\u00f3n de Votantes\n",
        "Election Night 2014 Coverage with Democracy Now!\n",
        "WATCH! AG Nominee Loretta Lynch: Voter ID Is Racist\n",
        "Democrats are Racist\n",
        "Voter fraud, Voter ID and fearmongering"
       ]
      },
      {
       "output_type": "stream",
       "stream": "stdout",
       "text": [
        "\n",
        "Texans Slam Voter ID Law: 'Now That It's Happened To Me, I'm Devastated'\n",
        "Voter Fraud and Voter I.D.\n",
        "Casey: Photo ID law is 'voter fraud at its worst'\n",
        "This is what it\u2019s like to try to get a Voter ID when you\u2019re disabled, poor or don\u2019t drive"
       ]
      },
      {
       "output_type": "stream",
       "stream": "stdout",
       "text": [
        "\n",
        "Conservative Columnists with Political News Commentary, Analysis\n",
        "Colorado Same Day Voter Registrations Surge: No Checks for Residency or Citizenship\n",
        "Report: Dwight Howard Under Investigation for Child Abuse\n",
        "Texas sees surge of disenfranchised voters\n",
        "Albuquerque pilot, girlfriend on board missing plane"
       ]
      },
      {
       "output_type": "stream",
       "stream": "stdout",
       "text": [
        "\n",
        "Thank you for voting, Greater Birmingham!\n",
        "La Raza Promotes Washington Post Guide On Where People Can Vote Without An ID\n",
        "Texas Voter ID law discourages voter security\n",
        "On the Ground: Texas Voter ID Troubles Continue\n",
        "Record low turnout raises question of voting law influence on 2014 results"
       ]
      },
      {
       "output_type": "stream",
       "stream": "stdout",
       "text": [
        "\n",
        "Voter Identification Requirements | Voter ID Laws\n",
        "Carl Lindemann"
       ]
      },
      {
       "output_type": "stream",
       "stream": "stdout",
       "text": [
        "\n",
        "Scott Walker wants jobless, food stamp recipients to face drug tests\n",
        "Identificaci\u00f3n de Votantes\n",
        "Obama AG Nominee Loretta Lynch: Voter ID Laws Are Racist And Must Be Stopped\u2026"
       ]
      },
      {
       "output_type": "stream",
       "stream": "stdout",
       "text": [
        "\n",
        "jessieann71\n",
        "Identificaci\u00f3n de Votantes\n",
        "WATCH! AG Nominee Loretta Lynch: Voter ID Is Racist\n",
        "Loretta Lynch Attacks Voter ID Laws in Video\n",
        "Voter Identification Requirements | Voter ID Laws"
       ]
      },
      {
       "output_type": "stream",
       "stream": "stdout",
       "text": [
        "\n",
        "Enter your address to find your polling place, build your ballot with our"
       ]
      },
      {
       "output_type": "stream",
       "stream": "stdout",
       "text": [
        "\n",
        "Taxpayer Funded Voter Suppression - There's More!\n",
        "Identificaci\u00f3n de Votantes\n",
        "Man gets BernCo. to send 3 dead voters' absentee ballots to own home; FBI seizes ballots\n",
        "Voter Identification Requirements | Voter ID Laws"
       ]
      },
      {
       "output_type": "stream",
       "stream": "stdout",
       "text": [
        "\n",
        "New Voting Restrictions Could Swing the 2014 Election"
       ]
      },
      {
       "output_type": "stream",
       "stream": "stdout",
       "text": [
        "\n",
        "MIDTERMS 2014: Ted Kennedy Jr. wins Connecticut state Senate race\n",
        "Where did Obama go wrong?\n",
        "GOP voter ID law gets crushed: Why Judge Richard Posner\u2019s new opinion is so amazing"
       ]
      },
      {
       "output_type": "stream",
       "stream": "stdout",
       "text": [
        "\n",
        "Identificaci\u00f3n de Votantes\n",
        "6 questions about voter ID laws you were too embarrassed to ask\n",
        "Nancy Pleloski & George Jefferson abhor voter suppression"
       ]
      },
      {
       "output_type": "stream",
       "stream": "stdout",
       "text": [
        "\n",
        "Media Wrap-Up: How Voters Fared With New Restrictions\n",
        "'Can I See Some ID?' Is A Totally Reasonable Question, Except In 1 Situation\n",
        "A conservative judge's devastating take on why voter ID laws are evil\n",
        "A poll tax by another name is still a poll tax"
       ]
      },
      {
       "output_type": "stream",
       "stream": "stdout",
       "text": [
        "\n",
        "Voters: we want to hear your horror stories\n",
        "In 1st statewide election, few problems reported with voter photo ID\n",
        "George Soros-Funded Group Monitoring Polling Places In 16 States\n",
        "Why Doesn't Everyone Have a Voter ID? | FRONTLINE Answers Your Questions\n",
        "Time to Give Voter Fraud the Finger\n",
        "Voter Identification Requirements | Voter ID Laws"
       ]
      },
      {
       "output_type": "stream",
       "stream": "stdout",
       "text": [
        "\n",
        "Thank you for voting, Alabama!"
       ]
      },
      {
       "output_type": "stream",
       "stream": "stdout",
       "text": [
        "\n",
        "Justice Department dispatches poll monitors for Election Day\n",
        "Is Voter Suppression an American Tradition?\n",
        "Voter Apathy\n",
        "IRS Failure to Search Computers for \u2018Missing\u2019 Emails Intensifies Attorney General Nomination\n",
        "Loretta Lynch and Eric Holder Agree on These 4 Hot Button Issues"
       ]
      },
      {
       "output_type": "stream",
       "stream": "stdout",
       "text": [
        "\n",
        "US Senate Debate on Keystone Pipeline Bill\n",
        "Exposing the Liberal lies that Voter Fraud never happens.\n",
        "Republicans Choose Candidate for Comstock\u2019s Seat\n",
        "bexardems\n",
        "0700 Mark Obenshain and Marines Birthday\n",
        "Analysis: The Voters Who Disappeared\n",
        "9 Scathing Quotes From Judge Posner's Dissent Against WI Voter ID"
       ]
      },
      {
       "output_type": "stream",
       "stream": "stdout",
       "text": [
        "\n",
        "Voter Fraud and Voter I.D.\n",
        "Voting: 19th Century Style\n",
        "Voter Identification Requirements | Voter ID Laws\n",
        "Computerized Vote Rigging Is Still the Unseen Threat to US Democracy: It's Time to Change the System"
       ]
      },
      {
       "output_type": "stream",
       "stream": "stdout",
       "text": [
        "\n",
        "Here's How Much It Costs to Vote in States With Voter ID Laws\n",
        "Election Identification Certificate (EIC)\n",
        "Midterm Election Results 2014: Did Voter ID Laws Help Republicans Win The Senate Majority?"
       ]
      },
      {
       "output_type": "stream",
       "stream": "stdout",
       "text": [
        "\n",
        "Voter Turnout in Midterm Elections Hits 72-Year Low\n",
        "How Voter ID Laws Affect Women of Color\n",
        "Voter Identification Requirements | Voter ID Laws\n",
        "New photo ID rule in effect Tuesday"
       ]
      },
      {
       "output_type": "stream",
       "stream": "stdout",
       "text": [
        "\n",
        "Austin voter id law reaction\n",
        "State by State Voter ID Laws\n",
        "Grokking Democracy via IEEE ... on voting and social media"
       ]
      },
      {
       "output_type": "stream",
       "stream": "stdout",
       "text": [
        "\n",
        "First case of voter fraud confirmed in Rio Arriba Co.\n",
        "Democrats Caught Posing as Republican Election Judges in Colorado!\n",
        "Democrats are Racist\n",
        "Voter Suppression in 2014\n",
        "Identificaci\u00f3n de Votantes\n",
        "For Election 2014, It\u2019s About Protecting Voting Rights"
       ]
      },
      {
       "output_type": "stream",
       "stream": "stdout",
       "text": [
        "\n",
        "law unjustly targets law abiding citizens (\n",
        "Chasing Echoes Voter ID. ft. Pres. Barack Obama (Extended Night Mix) #SeeYouInNovember2014\n",
        "Balkinization\n",
        "Texas woman threatened with jail after applying for voter ID"
       ]
      },
      {
       "output_type": "stream",
       "stream": "stdout",
       "text": [
        "\n",
        "Millennials aren\u2019t apathetic: Their vote is suppressed\n",
        "Voting monitors report complaints in states with new voter ID laws\n",
        "Mississippi NAACP leader sent to prison for 10 counts of voter fraud\n",
        "Identificaci\u00f3n de Votantes"
       ]
      },
      {
       "output_type": "stream",
       "stream": "stdout",
       "text": [
        "\n",
        "Voting While Trans\n",
        "Harvard students attempt to take 1964 Louisiana Literacy test, fail\n",
        "How Many Women Won\u2019t Be Allowed to Vote?\n",
        "Identificaci\u00f3n de Votantes"
       ]
      },
      {
       "output_type": "stream",
       "stream": "stdout",
       "text": [
        "\n",
        "Identificaci\u00f3n de Votantes\n",
        "Here's proof that voter ID laws are nothing more than a throwback to the slavery days of the 1800s"
       ]
      },
      {
       "output_type": "stream",
       "stream": "stdout",
       "text": [
        "\n",
        "Identificaci\u00f3n de Votantes\n",
        "Voting While Trans"
       ]
      },
      {
       "output_type": "stream",
       "stream": "stdout",
       "text": [
        "\n",
        "Voter Identification Requirements | Voter ID Laws\n",
        "Voter Identification Requirements | Voter ID Laws"
       ]
      },
      {
       "output_type": "stream",
       "stream": "stdout",
       "text": [
        "\n",
        "Texans Slam Voter ID Law: 'Now That It's Happened To Me, I'm Devastated'"
       ]
      },
      {
       "output_type": "stream",
       "stream": "stdout",
       "text": [
        "\n",
        "This Is What Happened Because Congress Didn't Fix The Voting Rights Act\n",
        "Woman happy she gets stolen purse back in time to vote\n",
        "Ohio Poll Worker Convicted On Multiple Counts Of Obama-Biased Voter Fraud\n",
        "So, is it suppressing voters?"
       ]
      },
      {
       "output_type": "stream",
       "stream": "stdout",
       "text": [
        "\n",
        "It's White House vs. Americans on voter ID\n",
        "How Voter ID Laws Affect Women of Color"
       ]
      },
      {
       "output_type": "stream",
       "stream": "stdout",
       "text": [
        "\n",
        "ACLU demands secretary of state change 'illegal' vote ID requirement\n",
        "ACLU demands secretary of state change 'illegal' vote ID requirement\n",
        "Timeline Photos\n",
        "The Enormous, Secretive Effort To Purge Thousands Of Minorities From 27 States\u2019 Voter Rolls\n",
        "Identificaci\u00f3n de Votantes\n",
        "Little demand for voter ID cards, but some hit obstacles"
       ]
      },
      {
       "output_type": "stream",
       "stream": "stdout",
       "text": [
        "\n",
        "Voter Identification Requirements | Voter ID Laws\n",
        "Voter information: Polling places, voter ID, report problems"
       ]
      },
      {
       "output_type": "stream",
       "stream": "stdout",
       "text": [
        "\n",
        "Texans Slam Voter ID Law: 'Now That It's Happened To Me, I'm Devastated'\n",
        "Who Doesn\u2019t Have Photo ID?\n",
        "Appeals Court: Feds don\u2019t have to enforce Kansas proof-of-citizenship law\n",
        "GOP to control voting process in 2016 swing states\n",
        "Voting Rights Complaint Form"
       ]
      },
      {
       "output_type": "stream",
       "stream": "stdout",
       "text": [
        "\n",
        "Actual election turnout far lower than reported\n",
        "Meese, Blackwell: How to fraud-proof elections\n",
        "Obama Attorney General Pick: Voter ID Laws Are About Taking Back What Dr. King Won\n",
        "Texans Slam Voter ID Law: 'Now That It's Happened To Me, I'm Devastated'\n",
        "Why Doesn\u2019t Everybody Have a Voter ID?"
       ]
      },
      {
       "output_type": "stream",
       "stream": "stdout",
       "text": [
        "\n",
        "Texans Slam Voter ID Law: 'Now That It's Happened To Me, I'm Devastated'\n",
        "Voter Identification Requirements | Voter ID Laws\n",
        "In-person voter fraud \u2018a very rare phenomenon\u2019"
       ]
      },
      {
       "output_type": "stream",
       "stream": "stdout",
       "text": [
        "\n",
        "Texas sees surge of disenfranchised voters\n",
        "Do I need an ID to vote? A look at the laws in all 50 states.\n",
        "Voter Fraud and Voter I.D.\n",
        "Voting While Trans\n",
        "Voter Fraud and Voter I.D."
       ]
      },
      {
       "output_type": "stream",
       "stream": "stdout",
       "text": [
        "\n",
        "Voter Fraud and Voter I.D.\n",
        "How Much of a Difference Did New Voting Restrictions Make in Yesterday's Close Races?\n",
        "\u2018Not Everyone\u2019s Life Is Just Like Yours': Trying To Get A Voter ID\n",
        "Unusual level of glitches at US polling stations reported on election day"
       ]
      },
      {
       "output_type": "stream",
       "stream": "stdout",
       "text": [
        "\n",
        "GOP might get to continue to wage war on women by lying that they are doing that\n",
        "Do I need an ID to vote? A look at the laws in all 50 states.\n",
        "Laura Ingraham: If ID laws make voting \u2018too difficult\u2019 for some people, \u2018then good\u2019\n",
        "Why Are Voter ID Laws So Controversial? FRONTLINE Answers Your Questions\n",
        "Welcome Aboard!\n",
        "Even Without Voter ID Laws, Minority Voters Face More Hurdles to Casting Ballots\n",
        "MSNBC: Minority Voters Disenfranchised, Problems at Polls\n",
        "Taxpayer Dollars Used For Voter Suppression In Milwaukee\n",
        "Voter Identification Requirements | Voter ID Laws\n",
        "Ginsburg Was Right: Texas' Extreme Voter ID Law Is Stopping People From Voting"
       ]
      },
      {
       "output_type": "stream",
       "stream": "stdout",
       "text": [
        "\n",
        "First case of voter fraud confirmed in Rio Arriba Co.\n",
        "Wingnut voter ID group fails again: \u201cVoter integrity\u201d outfit unable to find midterm fraud\n",
        "Identificaci\u00f3n de Votantes\n",
        "Rules and Information for Voters"
       ]
      },
      {
       "output_type": "stream",
       "stream": "stdout",
       "text": [
        "\n",
        "Election Day 2014: Research-based best practices for media; scholarship on trending campaign topics\n",
        "Voter Fraud and Voter I.D.\n",
        "Undercover Video Exposes Possible North Carolina Voter Fraud\n",
        "Texas Voter ID law discourages voter security\n",
        "blog.chron.com/nickanderson/2"
       ]
      },
      {
       "output_type": "stream",
       "stream": "stdout",
       "text": [
        "\n",
        "Moyers : Hacker & Pierson on Engineered Inequality : PBS\n",
        "Voter Identification Requirements | Voter ID Laws\n",
        "Voter Fraud Is Rare, but Myth Is Widespread"
       ]
      },
      {
       "output_type": "stream",
       "stream": "stdout",
       "text": [
        "\n",
        "Dear Supporter,\n",
        "Republican Milwaukee Supervisor Sends Out False Information About Need For Voter ID\n",
        "1.8 Million Voters Are Dead (And Other Facts You Didn\u2019t Know About Voter Fraud)\n",
        "Identificaci\u00f3n de Votantes\n",
        "TwitLonger"
       ]
      },
      {
       "output_type": "stream",
       "stream": "stdout",
       "text": [
        "\n",
        "Identificaci\u00f3n de Votantes\n",
        "Federal appeals court rejects citizenship proof rule for Kansas voters\n",
        "Why Conservatives Should Get Involved in the Republican Party\n",
        "Texans Slam Voter ID Law: 'Now That It's Happened To Me, I'm Devastated'"
       ]
      },
      {
       "output_type": "stream",
       "stream": "stdout",
       "text": [
        "\n",
        "Casey [VA]: Photo ID law is 'voter fraud at its worst'\n",
        "Liberals Are Cool\n",
        "This Is the One Democrat Texas' Voter ID Law Could Really Screw Over\n",
        "Voter Fraud and Voter I.D.\n",
        "Texas sees surge of disenfranchised voters\n",
        "When Prosecutors Write Opinions That Judges Sign Off On\n",
        "Here Is a Picture of Cats Voting\n",
        "Identificaci\u00f3n de Votantes"
       ]
      },
      {
       "output_type": "stream",
       "stream": "stdout",
       "text": [
        "\n",
        "Voter Fraud and Voter I.D.\n",
        "Meese, Blackwell: How to fraud-proof elections"
       ]
      },
      {
       "output_type": "stream",
       "stream": "stdout",
       "text": [
        "\n",
        "Iowa secretary of state hopefuls differ on voter ID measures\n",
        "We Already Know Who Won the 2014 Election\n",
        "BENEDI: Qualifications to legally vote\n",
        "N.C. poll workers offer ballots to IMPOSTOR"
       ]
      },
      {
       "output_type": "stream",
       "stream": "stdout",
       "text": [
        "\n",
        "Voter Identification Requirements | Voter ID Laws\n",
        "S.C. is model for voter ID laws in U.S."
       ]
      },
      {
       "output_type": "stream",
       "stream": "stdout",
       "text": [
        "\n",
        "Measuring the Effects of Voter Identification Laws\n",
        "Texas Leagues are Up to the Challenge \u2013 Providing Critical Voter Education\n",
        "Texans Slam Voter ID Law: 'Now That It's Happened To Me, I'm Devastated'\n",
        "CorPoRAtionS & pacz, wHErE\u2019z UR VOtr ID?"
       ]
      },
      {
       "output_type": "stream",
       "stream": "stdout",
       "text": [
        "\n",
        "Voices: In some states, voter ID is no joke\n",
        "Voter-ID backer catches Dems in the act\n",
        "Welcome to the Quick IQ Test!\n",
        "Identificaci\u00f3n de Votantes\n",
        "Voter Fraud and Voter I.D."
       ]
      },
      {
       "output_type": "stream",
       "stream": "stdout",
       "text": [
        "\n",
        "Obama\u2019s A.G. Nominee: Voter ID Laws Were Passed by Racist Southerners, and Must be Stopped\n",
        "Is the Democratic party slowly losing hold over African-American voters?\n",
        "Non-Citizens Are Voting\n",
        "Voter Identification Requirements | Voter ID Laws"
       ]
      },
      {
       "output_type": "stream",
       "stream": "stdout",
       "text": [
        "\n",
        "Multiple NC Campaign Workers Willing to Aid Non-Citizen With Felony Kay Hagan Votes"
       ]
      },
      {
       "output_type": "stream",
       "stream": "stdout",
       "text": [
        "\n",
        "Colorado Same Day Voter Registrations Surge: No Checks for Residency or Citizenship\n",
        "Identificaci\u00f3n de Votantes\n",
        "Texans Slam Voter ID Law: 'Now That It's Happened To Me, I'm Devastated'"
       ]
      },
      {
       "output_type": "stream",
       "stream": "stdout",
       "text": [
        "\n",
        "Obama Nominates Loretta Lynch as Attorney General\n",
        "How Voter ID Laws Affect Women of Color\n",
        "The War on Voting May Have Swung These 4 Races\n",
        "Voting Rights Complaint Form\n",
        "Texans Slam Voter ID Law: 'Now That It's Happened To Me, I'm Devastated'\n",
        "Identificaci\u00f3n de Votantes"
       ]
      },
      {
       "output_type": "stream",
       "stream": "stdout",
       "text": [
        "\n",
        "Loretta Lynch Attacks Voter ID Laws in Video\n",
        "Voter Identification Requirements | Voter ID Laws\n",
        "The most aggravating race in the midterms"
       ]
      },
      {
       "output_type": "stream",
       "stream": "stdout",
       "text": [
        "\n",
        "Center Finds Voter ID Laws Helped Make For An Unfair Election\n",
        "Measuring the Effects of Voter Identification Laws\n",
        "Texans Slam Voter ID Law: 'Now That It's Happened To Me, I'm Devastated'"
       ]
      },
      {
       "output_type": "stream",
       "stream": "stdout",
       "text": [
        "\n",
        "Identificaci\u00f3n de Votantes\n",
        "Texans Slam Voter ID Law: 'Now That It's Happened To Me, I'm Devastated'"
       ]
      },
      {
       "output_type": "stream",
       "stream": "stdout",
       "text": [
        "\n",
        "Convicted Felon Democratic Politician Caught Voting In NC\n",
        "Texans Slam Voter ID Law: 'Now That It's Happened To Me, I'm Devastated'\n",
        "Chaos Caused By New N.D. Voter I.D. Law\n",
        "Registrars report no major problems with new voter ID law"
       ]
      },
      {
       "output_type": "stream",
       "stream": "stdout",
       "text": [
        "\n",
        "As New Rules Take Effect, Voters Report Problems in Some States\n",
        "Exposing the Liberal lies that Voter Fraud never happens.\n",
        "Voter Identification Requirements | Voter ID Laws\n",
        "Voter Fraud and Voter I.D."
       ]
      },
      {
       "output_type": "stream",
       "stream": "stdout",
       "text": [
        "\n",
        "Little demand for voter ID cards, but some hit obstacles\n",
        "Identificaci\u00f3n de Votantes\n",
        "On the Ground: Texas Voter ID Troubles Continue"
       ]
      },
      {
       "output_type": "stream",
       "stream": "stdout",
       "text": [
        "\n",
        "Voting Rights Complaint Form\n",
        "Surveillance Video Apparently Catches Guy Doing Something at the Ballot Box That Left Republican Monitor Stunned\n",
        "Did Voter ID Laws Impact Election Results?\n",
        "Voter ID laws: A microcosm of a divided America\n",
        "RBG revises opinion after professor flags error"
       ]
      },
      {
       "output_type": "stream",
       "stream": "stdout",
       "text": [
        "\n",
        "Voter ID Basics\n",
        "Chasing Echoes Voter ID. ft. Pres. Barack Obama (Extended Night Mix) #SeeYouInNovember2014\n",
        "OPINION: Thomas Sowell \u2014 Voter Fraud and Voter I.D.\n",
        "Texans Slam Voter ID Law: 'Now That It's Happened To Me, I'm Devastated'"
       ]
      },
      {
       "output_type": "stream",
       "stream": "stdout",
       "text": [
        "\n",
        "Democrats are Racist\n",
        "WATCH! AG Nominee Loretta Lynch: Voter ID Is Racist\n",
        "New Virginia voter ID law causes minor confusion\n",
        "Since Texas Implemented Voter ID, The Number Of Provisional Ballots Doubled\n",
        "Voter Suppression"
       ]
      },
      {
       "output_type": "stream",
       "stream": "stdout",
       "text": [
        "\n",
        "Texans Slam Voter ID Law: 'Now That It's Happened To Me, I'm Devastated'\n",
        "Mobile Uploads\n",
        "Virginia voting rights groups mobilize for Election Day and new photo ID law\n",
        "Voter ID Law Turns Away Texans\n",
        "James OKeefe Offered a Bus Load of Ballots in North Carolina"
       ]
      },
      {
       "output_type": "stream",
       "stream": "stdout",
       "text": [
        "\n",
        "Massive Non-Citizen Voting Uncovered in Maryland\n",
        "Voter Fraud and Voter I.D.\n",
        "8 Founders Advise How to Vote\n",
        "Even Without Voter ID Laws, Minority Voters Face More Hurdles to Casting Ballots\n",
        "Jaw-Dropping Study Claims Large Numbers of Non-Citizens Vote in U.S.\n",
        "Texans Slam Voter ID Law: 'Now That It's Happened To Me, I'm Devastated'"
       ]
      },
      {
       "output_type": "stream",
       "stream": "stdout",
       "text": [
        "\n",
        "Long-stalled voter ID legislation gets new life\n",
        "ALEC - The American Legislative Exchange Council - Explained in 5 Minutes\n",
        "Register to Vote\n",
        "The Results Were Skewed Toward Republicans: A Response to Nate Silver\n",
        "Aleks Buterman"
       ]
      },
      {
       "output_type": "stream",
       "stream": "stdout",
       "text": [
        "\n",
        "Not Voting: What\u2019s Your Excuse?\n",
        "Democrats are Racist\n",
        "Voter Identification Requirements | Voter ID Laws\n",
        "Identificaci\u00f3n de Votantes"
       ]
      },
      {
       "output_type": "stream",
       "stream": "stdout",
       "text": [
        "\n",
        "Missouri Police chief told to show ID before voting\n",
        "Voting Machine Caught on Camera Casting Ballot for Democrat when Selecting Republican\n",
        "The Voting Rights Act and Real Voter Suppression\n",
        "Tenth Circuit Bars Effort By Kansas, Arizona To Add To Requirements For Voter Registration"
       ]
      },
      {
       "output_type": "stream",
       "stream": "stdout",
       "text": [
        "\n",
        "Needs a \u2018news hit!\u2019 You will not believe what is happening at these polling stations [photo]"
       ]
      },
      {
       "output_type": "stream",
       "stream": "stdout",
       "text": [
        "\n",
        "Voters Finally Cast Ballots, Make Decisions in Election 2014\n",
        "No Justice Department Charges Against Ohio Woman Who Voted Six Times for Obama\n",
        "CorPoRAtionS & pacz, wHErE\u2019z UR VOtr ID?\n",
        "A common sense explanation for why voter ID laws seem like common sense\n",
        "What\u2019s ahead in Texas voter ID battle\n",
        "N.C. early voting revealed as vulnerable to identity fraud"
       ]
      },
      {
       "output_type": "stream",
       "stream": "stdout",
       "text": [
        "\n",
        "Election 2014: Ill-Concealed Prejudice\n",
        "Voter Identification Requirements | Voter ID Laws\n",
        "Texas sees surge of disenfranchised voters"
       ]
      },
      {
       "output_type": "stream",
       "stream": "stdout",
       "text": [
        "\n",
        "Exposing the Liberal lies that Voter Fraud never happens.\n",
        "Ginsburg Was Right: Texas' Extreme Voter ID Law Is Stopping People From Voting\n",
        "Voter ID A Proud Symbol Of Freedom For Afghans"
       ]
      },
      {
       "output_type": "stream",
       "stream": "stdout",
       "text": [
        "\n",
        "Wealth Inequality Video 03/2013\n",
        "Controversial photo ID law seems to pass inaugural election test in Virginia\n",
        "As New Rules Take Effect, Voters Report Problems in Some States\n",
        "Texans Slam Voter ID Law: 'Now That It's Happened To Me, I'm Devastated'\n",
        "Hot Races, Down Ballot Amendments Affect Turnout In Kansas And Missouri\n",
        "Identificaci\u00f3n de Votantes"
       ]
      },
      {
       "output_type": "stream",
       "stream": "stdout",
       "text": [
        "\n",
        "Justices Scalia And Thomas's Attendance At Koch Event Sparks Judicial Ethics Debate\n",
        "Voter Fraud and Voter ID\n",
        "Election 2014: Beyond The Horserace"
       ]
      },
      {
       "output_type": "stream",
       "stream": "stdout",
       "text": [
        "\n",
        "Take the Impossible \u201cLiteracy\u201d Test Louisiana Gave Black Voters in the 1960s"
       ]
      },
      {
       "output_type": "stream",
       "stream": "stdout",
       "text": [
        "\n",
        "How Republicans turned Democrats' voter turnout tactics against them\n",
        "Identificaci\u00f3n de Votantes\n",
        "Obama AG Nominee Lynch: Voter ID Laws were Passed by Racist Southerners, Must be Stopped"
       ]
      },
      {
       "output_type": "stream",
       "stream": "stdout",
       "text": [
        "\n",
        "Voter Identification Requirements | Voter ID Laws\n",
        "Equality"
       ]
      },
      {
       "output_type": "stream",
       "stream": "stdout",
       "text": [
        "\n",
        "Turned Away From Voting With a Tribal ID: Why This Matters\n",
        "When Black Americans Vote, We Determine Elections\n",
        "On the ground on Texas\n",
        "Obama: Apathy, not Voter ID, keeps minorities from polls\n",
        "Everything You\u2019ve Ever Wanted to Know About Voter ID Laws"
       ]
      },
      {
       "output_type": "stream",
       "stream": "stdout",
       "text": [
        "\n",
        "Canadian man convicted of voting illegally here\n",
        "Vote-fraud undercover videos 'made a difference'"
       ]
      },
      {
       "output_type": "stream",
       "stream": "stdout",
       "text": [
        "\n",
        "Texas Just Won the Right to Disenfranchise 600,000 People. It's Not the First Time.\n",
        "A New Voting Machine Could Make Sure Every Vote Really Counts\n",
        "New Voting Restrictions Could Swing the 2014 Election"
       ]
      },
      {
       "output_type": "stream",
       "stream": "stdout",
       "text": [
        "\n",
        "Identificaci\u00f3n de Votantes\n",
        "So, is it suppressing voters?"
       ]
      },
      {
       "output_type": "stream",
       "stream": "stdout",
       "text": [
        "\n",
        "What Beyonc\u00e9 and Lil Jon know about ballot selfies can help fix voting rights\n",
        "Here Is Voter Fraud\n",
        "This Is What Happened Because Congress Didn't Fix The Voting Rights Act"
       ]
      },
      {
       "output_type": "stream",
       "stream": "stdout",
       "text": [
        "\n",
        "Voter Identification Requirements | Voter ID Laws\n",
        "The GOP\u2019s infernal election strategy: Why suppressing the vote could keep Republicans in power"
       ]
      },
      {
       "output_type": "stream",
       "stream": "stdout",
       "text": [
        "\n",
        "Figures. Obama\u2019s AG Pick: Voter ID Is Racist & Must Be Stopped (Video)\n",
        "Decoding the President Listening to Two-Thirds Who Didn\u2019t Vote\n",
        "Voting monitors report complaints in states with new voter ID laws\n",
        "Texans Slam Voter ID Law: 'Now That It's Happened To Me, I'm Devastated'\n",
        "How voter suppression helped produce the lowest turnout in decades"
       ]
      },
      {
       "output_type": "stream",
       "stream": "stdout",
       "text": [
        "\n"
       ]
      }
     ],
     "prompt_number": 22
    },
    {
     "cell_type": "code",
     "collapsed": false,
     "input": [
      "articles_df = tokenizeDictionaryContentToDf(diction)"
     ],
     "language": "python",
     "metadata": {},
     "outputs": [],
     "prompt_number": 23
    },
    {
     "cell_type": "code",
     "collapsed": false,
     "input": [
      "articles_df.tail(25)"
     ],
     "language": "python",
     "metadata": {},
     "outputs": [
      {
       "html": [
        "<div style=\"max-height:1000px;max-width:1500px;overflow:auto;\">\n",
        "<table border=\"1\" class=\"dataframe\">\n",
        "  <thead>\n",
        "    <tr style=\"text-align: right;\">\n",
        "      <th></th>\n",
        "      <th>article</th>\n",
        "      <th>title</th>\n",
        "      <th>tokenized_article</th>\n",
        "      <th>tokenized_title</th>\n",
        "    </tr>\n",
        "  </thead>\n",
        "  <tbody>\n",
        "    <tr>\n",
        "      <th>271</th>\n",
        "      <td> The presidential election of 2008 was a pretty...</td>\n",
        "      <td>         Yes, Voter ID Laws Are Racially-Motivated</td>\n",
        "      <td> [The, presidential, election, of, 2008, was, a...</td>\n",
        "      <td> [Yes, ,, Voter, ID, Laws, Are, Racially-Motiva...</td>\n",
        "    </tr>\n",
        "    <tr>\n",
        "      <th>272</th>\n",
        "      <td> Espa\u00f1ola councilor's plea deal rejected in pis...</td>\n",
        "      <td> Albuquerque pilot, girlfriend on board missing...</td>\n",
        "      <td> [Espa\u00f1ola, councilor, 's, plea, deal, rejected...</td>\n",
        "      <td> [Albuquerque, pilot, ,, girlfriend, on, board,...</td>\n",
        "    </tr>\n",
        "    <tr>\n",
        "      <th>273</th>\n",
        "      <td> Subscribe on YouTube: http://bit.ly/1BycsJW\\nF...</td>\n",
        "      <td> Why Doesn't Everyone Have a Voter ID? | FRONTL...</td>\n",
        "      <td> [Subscribe, on, YouTube, :, http, :, //bit.ly/...</td>\n",
        "      <td> [Why, Does, n't, Everyone, Have, a, Voter, ID,...</td>\n",
        "    </tr>\n",
        "    <tr>\n",
        "      <th>274</th>\n",
        "      <td> The candidates on the ballot weren\u2019t the only ...</td>\n",
        "      <td>  Winners and losers in Tuesday's general election</td>\n",
        "      <td> [The, candidates, on, the, ballot, weren\u2019t, th...</td>\n",
        "      <td> [Winners, and, losers, in, Tuesday, 's, genera...</td>\n",
        "    </tr>\n",
        "    <tr>\n",
        "      <th>275</th>\n",
        "      <td> U.S. News\\nDavid Edwards\\n04 Nov 2014 at 17:03...</td>\n",
        "      <td> Laura Ingraham: If ID laws make voting \u2018too di...</td>\n",
        "      <td> [U.S., News, David, Edwards, 04, Nov, 2014, at...</td>\n",
        "      <td> [Laura, Ingraham, :, If, ID, laws, make, votin...</td>\n",
        "    </tr>\n",
        "    <tr>\n",
        "      <th>276</th>\n",
        "      <td> A video has surfaced showing President Barack ...</td>\n",
        "      <td>      Loretta Lynch Attacks Voter ID Laws in Video</td>\n",
        "      <td> [A, video, has, surfaced, showing, President, ...</td>\n",
        "      <td> [Loretta, Lynch, Attacks, Voter, ID, Laws, in,...</td>\n",
        "    </tr>\n",
        "    <tr>\n",
        "      <th>277</th>\n",
        "      <td> This post is being kept up-to-date. It was fir...</td>\n",
        "      <td> Everything You\u2019ve Ever Wanted to Know About Vo...</td>\n",
        "      <td> [This, post, is, being, kept, up-to-date., It,...</td>\n",
        "      <td> [Everything, You\u2019ve, Ever, Wanted, to, Know, A...</td>\n",
        "    </tr>\n",
        "    <tr>\n",
        "      <th>278</th>\n",
        "      <td> Analyzing #voter #turnout makes me wonder: may...</td>\n",
        "      <td>                                    Aleks Buterman</td>\n",
        "      <td> [Analyzing, #, voter, #, turnout, makes, me, w...</td>\n",
        "      <td>                                 [Aleks, Buterman]</td>\n",
        "    </tr>\n",
        "    <tr>\n",
        "      <th>279</th>\n",
        "      <td> On posters, on the radio, on social media, ess...</td>\n",
        "      <td> Turned Away From Voting With a Tribal ID: Why ...</td>\n",
        "      <td> [On, posters, ,, on, the, radio, ,, on, social...</td>\n",
        "      <td> [Turned, Away, From, Voting, With, a, Tribal, ...</td>\n",
        "    </tr>\n",
        "    <tr>\n",
        "      <th>280</th>\n",
        "      <td> LATEST UPDATE\\n10:31 am\\nHow Ballot Initiative...</td>\n",
        "      <td>               Election 2014: Beyond The Horserace</td>\n",
        "      <td> [LATEST, UPDATE, 10:31, am, How, Ballot, Initi...</td>\n",
        "      <td>       [Election, 2014, :, Beyond, The, Horserace]</td>\n",
        "    </tr>\n",
        "    <tr>\n",
        "      <th>281</th>\n",
        "      <td> Text smaller\\nText bigger\\n285\\nYet when O\u2019Kee...</td>\n",
        "      <td>        It's White House vs. Americans on voter ID</td>\n",
        "      <td> [Text, smaller, Text, bigger, 285, Yet, when, ...</td>\n",
        "      <td> [It, 's, White, House, vs., Americans, on, vot...</td>\n",
        "    </tr>\n",
        "    <tr>\n",
        "      <th>282</th>\n",
        "      <td> On Saturday morning, the Supreme Court ruled t...</td>\n",
        "      <td> Texas Just Won the Right to Disenfranchise 600...</td>\n",
        "      <td> [On, Saturday, morning, ,, the, Supreme, Court...</td>\n",
        "      <td> [Texas, Just, Won, the, Right, to, Disenfranch...</td>\n",
        "    </tr>\n",
        "    <tr>\n",
        "      <th>283</th>\n",
        "      <td> Pattie Curran wants to share something with yo...</td>\n",
        "      <td>                                   Welcome Aboard!</td>\n",
        "      <td> [Pattie, Curran, wants, to, share, something, ...</td>\n",
        "      <td>                              [Welcome, Aboard, !]</td>\n",
        "    </tr>\n",
        "    <tr>\n",
        "      <th>284</th>\n",
        "      <td> | by |\\nVOTERS FINALLY CAST BALLOTS, MAKE DECI...</td>\n",
        "      <td> Voters Finally Cast Ballots, Make Decisions in...</td>\n",
        "      <td> [|, by, |, VOTERS, FINALLY, CAST, BALLOTS, ,, ...</td>\n",
        "      <td> [Voters, Finally, Cast, Ballots, ,, Make, Deci...</td>\n",
        "    </tr>\n",
        "    <tr>\n",
        "      <th>285</th>\n",
        "      <td> In \u201cThe Breakfast Club,\u201d a geeky high school s...</td>\n",
        "      <td>                      Five myths about voter fraud</td>\n",
        "      <td> [In, \u201cThe, Breakfast, Club, ,, \u201d, a, geeky, hi...</td>\n",
        "      <td>                [Five, myths, about, voter, fraud]</td>\n",
        "    </tr>\n",
        "    <tr>\n",
        "      <th>286</th>\n",
        "      <td> Comrades, a follow up to my recent post, regar...</td>\n",
        "      <td> Nancy Pleloski &amp; George Jefferson abhor voter ...</td>\n",
        "      <td> [Comrades, ,, a, follow, up, to, my, recent, p...</td>\n",
        "      <td> [Nancy, Pleloski, &amp;, George, Jefferson, abhor,...</td>\n",
        "    </tr>\n",
        "    <tr>\n",
        "      <th>287</th>\n",
        "      <td> This post originally appeared on The BRAD BLOG...</td>\n",
        "      <td> Wingnut voter ID group fails again: \u201cVoter int...</td>\n",
        "      <td> [This, post, originally, appeared, on, The, BR...</td>\n",
        "      <td> [Wingnut, voter, ID, group, fails, again, :, \u201c...</td>\n",
        "    </tr>\n",
        "    <tr>\n",
        "      <th>288</th>\n",
        "      <td> Politics White House\\nMore\\n0\\nSCROLL TO SEE MORE</td>\n",
        "      <td> Obama Nominates Loretta Lynch as Attorney General</td>\n",
        "      <td> [Politics, White, House, More, 0, SCROLL, TO, ...</td>\n",
        "      <td> [Obama, Nominates, Loretta, Lynch, as, Attorne...</td>\n",
        "    </tr>\n",
        "    <tr>\n",
        "      <th>289</th>\n",
        "      <td> Voting machines suspiciously defaulting to Bar...</td>\n",
        "      <td>       GOP legally barred from fighting vote fraud</td>\n",
        "      <td> [Voting, machines, suspiciously, defaulting, t...</td>\n",
        "      <td> [GOP, legally, barred, from, fighting, vote, f...</td>\n",
        "    </tr>\n",
        "    <tr>\n",
        "      <th>290</th>\n",
        "      <td> by Alice Ollstein Posted on November 5, 2014 a...</td>\n",
        "      <td> Since Texas Implemented Voter ID, The Number O...</td>\n",
        "      <td> [by, Alice, Ollstein, Posted, on, November, 5,...</td>\n",
        "      <td> [Since, Texas, Implemented, Voter, ID, ,, The,...</td>\n",
        "    </tr>\n",
        "    <tr>\n",
        "      <th>291</th>\n",
        "      <td> ANYONE who hopes to vote in Texas this year ne...</td>\n",
        "      <td>                     So, is it suppressing voters?</td>\n",
        "      <td> [ANYONE, who, hopes, to, vote, in, Texas, this...</td>\n",
        "      <td>           [So, ,, is, it, suppressing, voters, ?]</td>\n",
        "    </tr>\n",
        "    <tr>\n",
        "      <th>292</th>\n",
        "      <td> Please Like, Share, and Subscribe.\\nAlso be su...</td>\n",
        "      <td> Chasing Echoes Voter ID. ft. Pres. Barack Obam...</td>\n",
        "      <td> [Please, Like, ,, Share, ,, and, Subscribe., A...</td>\n",
        "      <td> [Chasing, Echoes, Voter, ID., ft., Pres., Bara...</td>\n",
        "    </tr>\n",
        "    <tr>\n",
        "      <th>293</th>\n",
        "      <td> This post first appeared at TalkPoverty.\\nHead...</td>\n",
        "      <td>           How Voter ID Laws Affect Women of Color</td>\n",
        "      <td> [This, post, first, appeared, at, TalkPoverty....</td>\n",
        "      <td>  [How, Voter, ID, Laws, Affect, Women, of, Color]</td>\n",
        "    </tr>\n",
        "    <tr>\n",
        "      <th>294</th>\n",
        "      <td> DO THE DEAD REALLY VOTE IN NM? One person livi...</td>\n",
        "      <td>         Subject: Unless You're Dead, Please VOTE!</td>\n",
        "      <td> [DO, THE, DEAD, REALLY, VOTE, IN, NM, ?, One, ...</td>\n",
        "      <td> [Subject, :, Unless, You, 're, Dead, ,, Please...</td>\n",
        "    </tr>\n",
        "    <tr>\n",
        "      <th>295</th>\n",
        "      <td> In a story has grown all too common as an elec...</td>\n",
        "      <td> The Enormous, Secretive Effort To Purge Thousa...</td>\n",
        "      <td> [In, a, story, has, grown, all, too, common, a...</td>\n",
        "      <td> [The, Enormous, ,, Secretive, Effort, To, Purg...</td>\n",
        "    </tr>\n",
        "  </tbody>\n",
        "</table>\n",
        "</div>"
       ],
       "metadata": {},
       "output_type": "pyout",
       "prompt_number": 24,
       "text": [
        "                                               article  \\\n",
        "271  The presidential election of 2008 was a pretty...   \n",
        "272  Espa\u00f1ola councilor's plea deal rejected in pis...   \n",
        "273  Subscribe on YouTube: http://bit.ly/1BycsJW\\nF...   \n",
        "274  The candidates on the ballot weren\u2019t the only ...   \n",
        "275  U.S. News\\nDavid Edwards\\n04 Nov 2014 at 17:03...   \n",
        "276  A video has surfaced showing President Barack ...   \n",
        "277  This post is being kept up-to-date. It was fir...   \n",
        "278  Analyzing #voter #turnout makes me wonder: may...   \n",
        "279  On posters, on the radio, on social media, ess...   \n",
        "280  LATEST UPDATE\\n10:31 am\\nHow Ballot Initiative...   \n",
        "281  Text smaller\\nText bigger\\n285\\nYet when O\u2019Kee...   \n",
        "282  On Saturday morning, the Supreme Court ruled t...   \n",
        "283  Pattie Curran wants to share something with yo...   \n",
        "284  | by |\\nVOTERS FINALLY CAST BALLOTS, MAKE DECI...   \n",
        "285  In \u201cThe Breakfast Club,\u201d a geeky high school s...   \n",
        "286  Comrades, a follow up to my recent post, regar...   \n",
        "287  This post originally appeared on The BRAD BLOG...   \n",
        "288  Politics White House\\nMore\\n0\\nSCROLL TO SEE MORE   \n",
        "289  Voting machines suspiciously defaulting to Bar...   \n",
        "290  by Alice Ollstein Posted on November 5, 2014 a...   \n",
        "291  ANYONE who hopes to vote in Texas this year ne...   \n",
        "292  Please Like, Share, and Subscribe.\\nAlso be su...   \n",
        "293  This post first appeared at TalkPoverty.\\nHead...   \n",
        "294  DO THE DEAD REALLY VOTE IN NM? One person livi...   \n",
        "295  In a story has grown all too common as an elec...   \n",
        "\n",
        "                                                 title  \\\n",
        "271          Yes, Voter ID Laws Are Racially-Motivated   \n",
        "272  Albuquerque pilot, girlfriend on board missing...   \n",
        "273  Why Doesn't Everyone Have a Voter ID? | FRONTL...   \n",
        "274   Winners and losers in Tuesday's general election   \n",
        "275  Laura Ingraham: If ID laws make voting \u2018too di...   \n",
        "276       Loretta Lynch Attacks Voter ID Laws in Video   \n",
        "277  Everything You\u2019ve Ever Wanted to Know About Vo...   \n",
        "278                                     Aleks Buterman   \n",
        "279  Turned Away From Voting With a Tribal ID: Why ...   \n",
        "280                Election 2014: Beyond The Horserace   \n",
        "281         It's White House vs. Americans on voter ID   \n",
        "282  Texas Just Won the Right to Disenfranchise 600...   \n",
        "283                                    Welcome Aboard!   \n",
        "284  Voters Finally Cast Ballots, Make Decisions in...   \n",
        "285                       Five myths about voter fraud   \n",
        "286  Nancy Pleloski & George Jefferson abhor voter ...   \n",
        "287  Wingnut voter ID group fails again: \u201cVoter int...   \n",
        "288  Obama Nominates Loretta Lynch as Attorney General   \n",
        "289        GOP legally barred from fighting vote fraud   \n",
        "290  Since Texas Implemented Voter ID, The Number O...   \n",
        "291                      So, is it suppressing voters?   \n",
        "292  Chasing Echoes Voter ID. ft. Pres. Barack Obam...   \n",
        "293            How Voter ID Laws Affect Women of Color   \n",
        "294          Subject: Unless You're Dead, Please VOTE!   \n",
        "295  The Enormous, Secretive Effort To Purge Thousa...   \n",
        "\n",
        "                                     tokenized_article  \\\n",
        "271  [The, presidential, election, of, 2008, was, a...   \n",
        "272  [Espa\u00f1ola, councilor, 's, plea, deal, rejected...   \n",
        "273  [Subscribe, on, YouTube, :, http, :, //bit.ly/...   \n",
        "274  [The, candidates, on, the, ballot, weren\u2019t, th...   \n",
        "275  [U.S., News, David, Edwards, 04, Nov, 2014, at...   \n",
        "276  [A, video, has, surfaced, showing, President, ...   \n",
        "277  [This, post, is, being, kept, up-to-date., It,...   \n",
        "278  [Analyzing, #, voter, #, turnout, makes, me, w...   \n",
        "279  [On, posters, ,, on, the, radio, ,, on, social...   \n",
        "280  [LATEST, UPDATE, 10:31, am, How, Ballot, Initi...   \n",
        "281  [Text, smaller, Text, bigger, 285, Yet, when, ...   \n",
        "282  [On, Saturday, morning, ,, the, Supreme, Court...   \n",
        "283  [Pattie, Curran, wants, to, share, something, ...   \n",
        "284  [|, by, |, VOTERS, FINALLY, CAST, BALLOTS, ,, ...   \n",
        "285  [In, \u201cThe, Breakfast, Club, ,, \u201d, a, geeky, hi...   \n",
        "286  [Comrades, ,, a, follow, up, to, my, recent, p...   \n",
        "287  [This, post, originally, appeared, on, The, BR...   \n",
        "288  [Politics, White, House, More, 0, SCROLL, TO, ...   \n",
        "289  [Voting, machines, suspiciously, defaulting, t...   \n",
        "290  [by, Alice, Ollstein, Posted, on, November, 5,...   \n",
        "291  [ANYONE, who, hopes, to, vote, in, Texas, this...   \n",
        "292  [Please, Like, ,, Share, ,, and, Subscribe., A...   \n",
        "293  [This, post, first, appeared, at, TalkPoverty....   \n",
        "294  [DO, THE, DEAD, REALLY, VOTE, IN, NM, ?, One, ...   \n",
        "295  [In, a, story, has, grown, all, too, common, a...   \n",
        "\n",
        "                                       tokenized_title  \n",
        "271  [Yes, ,, Voter, ID, Laws, Are, Racially-Motiva...  \n",
        "272  [Albuquerque, pilot, ,, girlfriend, on, board,...  \n",
        "273  [Why, Does, n't, Everyone, Have, a, Voter, ID,...  \n",
        "274  [Winners, and, losers, in, Tuesday, 's, genera...  \n",
        "275  [Laura, Ingraham, :, If, ID, laws, make, votin...  \n",
        "276  [Loretta, Lynch, Attacks, Voter, ID, Laws, in,...  \n",
        "277  [Everything, You\u2019ve, Ever, Wanted, to, Know, A...  \n",
        "278                                  [Aleks, Buterman]  \n",
        "279  [Turned, Away, From, Voting, With, a, Tribal, ...  \n",
        "280        [Election, 2014, :, Beyond, The, Horserace]  \n",
        "281  [It, 's, White, House, vs., Americans, on, vot...  \n",
        "282  [Texas, Just, Won, the, Right, to, Disenfranch...  \n",
        "283                               [Welcome, Aboard, !]  \n",
        "284  [Voters, Finally, Cast, Ballots, ,, Make, Deci...  \n",
        "285                 [Five, myths, about, voter, fraud]  \n",
        "286  [Nancy, Pleloski, &, George, Jefferson, abhor,...  \n",
        "287  [Wingnut, voter, ID, group, fails, again, :, \u201c...  \n",
        "288  [Obama, Nominates, Loretta, Lynch, as, Attorne...  \n",
        "289  [GOP, legally, barred, from, fighting, vote, f...  \n",
        "290  [Since, Texas, Implemented, Voter, ID, ,, The,...  \n",
        "291            [So, ,, is, it, suppressing, voters, ?]  \n",
        "292  [Chasing, Echoes, Voter, ID., ft., Pres., Bara...  \n",
        "293   [How, Voter, ID, Laws, Affect, Women, of, Color]  \n",
        "294  [Subject, :, Unless, You, 're, Dead, ,, Please...  \n",
        "295  [The, Enormous, ,, Secretive, Effort, To, Purg...  "
       ]
      }
     ],
     "prompt_number": 24
    },
    {
     "cell_type": "code",
     "collapsed": false,
     "input": [
      "articles_df.count()"
     ],
     "language": "python",
     "metadata": {},
     "outputs": [
      {
       "metadata": {},
       "output_type": "pyout",
       "prompt_number": 25,
       "text": [
        "article              296\n",
        "title                296\n",
        "tokenized_article    296\n",
        "tokenized_title      296\n",
        "dtype: int64"
       ]
      }
     ],
     "prompt_number": 25
    },
    {
     "cell_type": "code",
     "collapsed": false,
     "input": [
      "stopwords = nltk.corpus.stopwords.words('english')\n",
      "stopwords.extend(string.punctuation)"
     ],
     "language": "python",
     "metadata": {},
     "outputs": [],
     "prompt_number": 26
    },
    {
     "cell_type": "code",
     "collapsed": false,
     "input": [
      "all_tokens = [t.lower() for a in articles_df.tokenized_article for t in a if t.lower() not in stopwords]"
     ],
     "language": "python",
     "metadata": {},
     "outputs": [],
     "prompt_number": 42
    },
    {
     "cell_type": "code",
     "collapsed": false,
     "input": [
      "def get_ngrams(tokens, n, min_freq=0, top=15, min_oc=3):\n",
      "    \"Gets ngrams of size n from tokens\"\n",
      "    fd = nltk.FreqDist(nltk.ngrams(tokens, n))\n",
      "    ngrams = []\n",
      "    count = 0\n",
      "    \n",
      "    # go through ngrams and only return those that are frequent enough\n",
      "    for g in fd.iterkeys():\n",
      "        \n",
      "        if  fd[g]<min_oc or fd.freq(g)<min_freq or count >=top:\n",
      "            break\n",
      "            \n",
      "        count+=1\n",
      "        ngrams.append(g)\n",
      "    \n",
      "    return ngrams"
     ],
     "language": "python",
     "metadata": {},
     "outputs": [],
     "prompt_number": 96
    },
    {
     "cell_type": "code",
     "collapsed": false,
     "input": [
      "def integrate_ngrams(orig, new):\n",
      "    \"Takes a list of integrates lists of different sized ngrams\"\n",
      "    out = orig[:]\n",
      "    \n",
      "    orig_reps = [\" \".join(g) if type(g)!='str' else g for g in orig]\n",
      "    for t in new:\n",
      "        if type(t)!='str':\n",
      "            rep = \" \".join(t)\n",
      "        else:\n",
      "            rep = t\n",
      "        \n",
      "        if not any([rep in o_rep for o_rep in orig_reps]):\n",
      "            out.append(t)\n",
      "    \n",
      "    return out"
     ],
     "language": "python",
     "metadata": {},
     "outputs": [],
     "prompt_number": 97
    },
    {
     "cell_type": "code",
     "collapsed": false,
     "input": [
      "trigrams = get_ngrams(all_tokens, 3, cutoff=10)\n",
      "bigrams = get_ngrams(all_tokens, 2, cutoff=10)"
     ],
     "language": "python",
     "metadata": {},
     "outputs": [],
     "prompt_number": 74
    },
    {
     "cell_type": "code",
     "collapsed": false,
     "input": [
      "integrate_ngrams(trigrams, bigrams)"
     ],
     "language": "python",
     "metadata": {},
     "outputs": [
      {
       "metadata": {},
       "output_type": "pyout",
       "prompt_number": 82,
       "text": [
        "[(u'photo', u'id'),\n",
        " (u'supreme', u'court'),\n",
        " (u'voter', u'fraud'),\n",
        " (u'north', u'carolina'),\n",
        " (u'election', u'day'),\n",
        " (u'voter', u'id', u'laws'),\n",
        " (u'voter', u'id', u'law'),\n",
        " (u'voting', u'rights', u'act'),\n",
        " (u'driver', u\"'s\", u'license'),\n",
        " (u'new', u'voter', u'id'),\n",
        " (u'voter', u'registration', u'card'),\n",
        " (u'read', u'full', u'article'),\n",
        " (u'click', u'read', u'full'),\n",
        " (u'voter', u'id', u'law.'),\n",
        " (u'november', u'4', u'2014')]"
       ]
      }
     ],
     "prompt_number": 82
    },
    {
     "cell_type": "code",
     "collapsed": false,
     "input": [
      "def get_best_ngrams(tokens, nrange=None, min_freq=0, top=50, min_oc=3):\n",
      "    \"Gets the largest ngram that contains a high frequency token\"\n",
      "    ngrams = []\n",
      "    if not nrange:\n",
      "        nrange=[3,2,1]\n",
      "    for n in nrange:\n",
      "        new = get_ngrams(tokens, n, min_freq=min_freq, top=top, min_oc=min_oc)\n",
      "        ngrams = integrate_ngrams(ngrams, new)\n",
      "    \n",
      "    return ngrams"
     ],
     "language": "python",
     "metadata": {},
     "outputs": [],
     "prompt_number": 101
    },
    {
     "cell_type": "code",
     "collapsed": false,
     "input": [
      "test = get_best_ngrams(all_tokens,nrange=[5, 4,3,2,1], min_freq=.0, top=15)\n",
      "test"
     ],
     "language": "python",
     "metadata": {},
     "outputs": [
      {
       "metadata": {},
       "output_type": "pyout",
       "prompt_number": 102,
       "text": [
        "[(u'se', u'requiere', u'que', u'todos', u'los'),\n",
        " (u'requiere', u'que', u'todos', u'los', u'votantes'),\n",
        " (u'que', u'todos', u'los', u'votantes', u'muestren'),\n",
        " (u'todos', u'los', u'votantes', u'muestren', u'identificaci\\xf3n'),\n",
        " (u'con', u'foto', u'o', u'sin', u'foto'),\n",
        " (u'foto', u'o', u'sin', u'foto', u'es'),\n",
        " (u'identificaci\\xf3n', u'con', u'foto', u'o', u'sin'),\n",
        " (u'o', u'sin', u'foto', u'es', u'aceptable'),\n",
        " (u'determine', u'whether', u'record', u'voting', u'represented'),\n",
        " (u'investigated', u'determine', u'whether', u'record', u'voting'),\n",
        " (u'record', u'voting', u'represented', u'impersonated', u'signature'),\n",
        " (u'represented', u'impersonated', u'signature', u'clerical', u'error.'),\n",
        " (u'voting', u'represented', u'impersonated', u'signature', u'clerical'),\n",
        " (u'whether', u'record', u'voting', u'represented', u'impersonated'),\n",
        " (u'book', u'records', u'investigated', u'determine', u'whether'),\n",
        " (u'click', u'read', u'full', u'article'),\n",
        " (u'attorney', u'general', u'eric', u'holder'),\n",
        " (u'new', u'voter', u'id', u'law'),\n",
        " (u\"'s\", u'voter', u'id', u'law'),\n",
        " (u'\\u2013', u'30', u'days', u'election'),\n",
        " (u'voter', u'id', u'laws'),\n",
        " (u'voting', u'rights', u'act'),\n",
        " (u'driver', u\"'s\", u'license'),\n",
        " (u'voter', u'registration', u'card'),\n",
        " (u'voter', u'id', u'law.'),\n",
        " (u'november', u'4', u'2014'),\n",
        " (u'u.s.', u'supreme', u'court'),\n",
        " (u'photo', u'id', u'law'),\n",
        " (u'department', u'public', u'safety'),\n",
        " (u'voter', u'fraud'),\n",
        " (u'north', u'carolina'),\n",
        " (u'election', u'day'),\n",
        " (u'driver\\u2019s', u'license'),\n",
        " (u'birth', u'certificate'),\n",
        " (u'early', u'voting'),\n",
        " (u'secretary', u'state'),\n",
        " (u'\\u201d', u'said'),\n",
        " (u'voters',),\n",
        " (u\"''\",),\n",
        " (u'people',)]"
       ]
      }
     ],
     "prompt_number": 102
    }
   ],
   "metadata": {}
  }
 ]
}